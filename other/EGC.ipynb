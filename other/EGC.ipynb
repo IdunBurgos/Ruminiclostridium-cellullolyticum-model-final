{
 "cells": [
  {
   "cell_type": "markdown",
   "id": "738c61c7-b2d6-4fcd-92e6-94f883b66f0c",
   "metadata": {},
   "source": [
    "# Energy-generating cycles\n",
    "\n",
    "Testing for energy-generating cycles according to the description by [Fritzmeier (2017)](https://doi.org/10.1371/journal.pcbi.1005494https://doi.org/10.1371/journal.pcbi.1005494)."
   ]
  },
  {
   "cell_type": "code",
   "execution_count": 142,
   "id": "07c909cc-180a-4703-8c3d-2050b50d9097",
   "metadata": {},
   "outputs": [],
   "source": [
    "import pandas as pd\n",
    "import reframed\n",
    "import json\n",
    "from reframed import Metabolite, GPRAssociation,Gene,Protein, ReactionType,CBReaction,Environment,FVA,pFBA"
   ]
  },
  {
   "cell_type": "code",
   "execution_count": 143,
   "id": "ebc125c9-73fd-4cbe-b9b6-b53403866204",
   "metadata": {},
   "outputs": [
    {
     "data": {
      "text/html": [
       "<div>\n",
       "<style scoped>\n",
       "    .dataframe tbody tr th:only-of-type {\n",
       "        vertical-align: middle;\n",
       "    }\n",
       "\n",
       "    .dataframe tbody tr th {\n",
       "        vertical-align: top;\n",
       "    }\n",
       "\n",
       "    .dataframe thead th {\n",
       "        text-align: right;\n",
       "    }\n",
       "</style>\n",
       "<table border=\"1\" class=\"dataframe\">\n",
       "  <thead>\n",
       "    <tr style=\"text-align: right;\">\n",
       "      <th></th>\n",
       "      <th>Exists</th>\n",
       "      <th>rxn_ID</th>\n",
       "      <th>stoichiometry</th>\n",
       "    </tr>\n",
       "  </thead>\n",
       "  <tbody>\n",
       "    <tr>\n",
       "      <th>0</th>\n",
       "      <td>True</td>\n",
       "      <td>R_ATPM</td>\n",
       "      <td>{\"M_atp_c\":-1, \"M_h2o_c\":-1,\"M_adp_c\":1,\"M_h_c...</td>\n",
       "    </tr>\n",
       "    <tr>\n",
       "      <th>1</th>\n",
       "      <td>False</td>\n",
       "      <td>R_CTPM</td>\n",
       "      <td>{\"M_ctp_c\":-1, \"M_h2o_c\":-1,\"M_cdp_c\":1,\"M_h_c...</td>\n",
       "    </tr>\n",
       "    <tr>\n",
       "      <th>2</th>\n",
       "      <td>False</td>\n",
       "      <td>R_GTPM</td>\n",
       "      <td>{\"M_gtp_c\":-1, \"M_h2o_c\":-1,\"M_gdp_c\":1,\"M_h_c...</td>\n",
       "    </tr>\n",
       "    <tr>\n",
       "      <th>3</th>\n",
       "      <td>False</td>\n",
       "      <td>R_UTPM</td>\n",
       "      <td>{\"M_utp_c\":-1, \"M_h2o_c\":-1,\"M_udp_c\":1,\"M_h_c...</td>\n",
       "    </tr>\n",
       "    <tr>\n",
       "      <th>4</th>\n",
       "      <td>False</td>\n",
       "      <td>R_ITPM</td>\n",
       "      <td>{\"M_itp_c\":-1, \"M_h2o_c\":-1,\"M_idp_c\":1,\"M_h_c...</td>\n",
       "    </tr>\n",
       "    <tr>\n",
       "      <th>5</th>\n",
       "      <td>False</td>\n",
       "      <td>R_nadhM</td>\n",
       "      <td>{\"M_nadh_c\":-1, \"M_h_c\":1, \"M_nad_c\":1}</td>\n",
       "    </tr>\n",
       "    <tr>\n",
       "      <th>6</th>\n",
       "      <td>False</td>\n",
       "      <td>R_nadphM</td>\n",
       "      <td>{\"M_nadph_c\":-1, \"M_h_c\":1, \"M_nadp_c\":1}</td>\n",
       "    </tr>\n",
       "    <tr>\n",
       "      <th>7</th>\n",
       "      <td>False</td>\n",
       "      <td>R_fadh2M</td>\n",
       "      <td>{\"M_fadh2_c\":-1, \"M_h_c\":2, \"M_fad_c\":1}</td>\n",
       "    </tr>\n",
       "    <tr>\n",
       "      <th>8</th>\n",
       "      <td>False</td>\n",
       "      <td>R_fmnh2M</td>\n",
       "      <td>{\"M_fmnh2_c\":-1, \"M_h_c\":2, \"M_fmn_c\":1}</td>\n",
       "    </tr>\n",
       "    <tr>\n",
       "      <th>9</th>\n",
       "      <td>False</td>\n",
       "      <td>R_q8h2M</td>\n",
       "      <td>{\"M_q8h2_c\":-1, \"M_h_c\":2, \"M_q8_c\":1}</td>\n",
       "    </tr>\n",
       "    <tr>\n",
       "      <th>10</th>\n",
       "      <td>False</td>\n",
       "      <td>R_mql8M</td>\n",
       "      <td>{\"M_mql8_c\":-1, \"M_h_c\":2, \"M_mqn8_c\":1}</td>\n",
       "    </tr>\n",
       "    <tr>\n",
       "      <th>11</th>\n",
       "      <td>False</td>\n",
       "      <td>R_dmmql8M</td>\n",
       "      <td>{\"M_2dmmql8_c\":-1, \"M_h_c\":2, \"M_2dmmq8_c\":1}</td>\n",
       "    </tr>\n",
       "    <tr>\n",
       "      <th>12</th>\n",
       "      <td>False</td>\n",
       "      <td>R_accoaM</td>\n",
       "      <td>{\"M_accoa_c\":-1, \"M_h2o_c\":-1, \"M_coa_c\":1,\"M_...</td>\n",
       "    </tr>\n",
       "    <tr>\n",
       "      <th>13</th>\n",
       "      <td>False</td>\n",
       "      <td>R_gluM</td>\n",
       "      <td>{\"M_glu__L_c\":-1, \"M_h2o_c\":-1, \"M_akg_c\":1,\"M...</td>\n",
       "    </tr>\n",
       "    <tr>\n",
       "      <th>14</th>\n",
       "      <td>False</td>\n",
       "      <td>R_protonM</td>\n",
       "      <td>{\"M_h_p\":-1, \"M_h_c\":1}</td>\n",
       "    </tr>\n",
       "    <tr>\n",
       "      <th>15</th>\n",
       "      <td>False</td>\n",
       "      <td>R_ferredoxinM</td>\n",
       "      <td>{\"M_fdxrd_c\":-1, \"M_h_c\":2, \"M_fdxo_2_2_c\":1}</td>\n",
       "    </tr>\n",
       "  </tbody>\n",
       "</table>\n",
       "</div>"
      ],
      "text/plain": [
       "    Exists        rxn_ID                                       stoichiometry\n",
       "0     True         R_ATPM  {\"M_atp_c\":-1, \"M_h2o_c\":-1,\"M_adp_c\":1,\"M_h_c...\n",
       "1    False         R_CTPM  {\"M_ctp_c\":-1, \"M_h2o_c\":-1,\"M_cdp_c\":1,\"M_h_c...\n",
       "2    False         R_GTPM  {\"M_gtp_c\":-1, \"M_h2o_c\":-1,\"M_gdp_c\":1,\"M_h_c...\n",
       "3    False         R_UTPM  {\"M_utp_c\":-1, \"M_h2o_c\":-1,\"M_udp_c\":1,\"M_h_c...\n",
       "4    False         R_ITPM  {\"M_itp_c\":-1, \"M_h2o_c\":-1,\"M_idp_c\":1,\"M_h_c...\n",
       "5    False        R_nadhM            {\"M_nadh_c\":-1, \"M_h_c\":1, \"M_nad_c\":1}\n",
       "6    False       R_nadphM          {\"M_nadph_c\":-1, \"M_h_c\":1, \"M_nadp_c\":1}\n",
       "7    False       R_fadh2M           {\"M_fadh2_c\":-1, \"M_h_c\":2, \"M_fad_c\":1}\n",
       "8    False       R_fmnh2M           {\"M_fmnh2_c\":-1, \"M_h_c\":2, \"M_fmn_c\":1}\n",
       "9    False        R_q8h2M             {\"M_q8h2_c\":-1, \"M_h_c\":2, \"M_q8_c\":1}\n",
       "10   False        R_mql8M           {\"M_mql8_c\":-1, \"M_h_c\":2, \"M_mqn8_c\":1}\n",
       "11   False      R_dmmql8M      {\"M_2dmmql8_c\":-1, \"M_h_c\":2, \"M_2dmmq8_c\":1}\n",
       "12   False       R_accoaM  {\"M_accoa_c\":-1, \"M_h2o_c\":-1, \"M_coa_c\":1,\"M_...\n",
       "13   False         R_gluM  {\"M_glu__L_c\":-1, \"M_h2o_c\":-1, \"M_akg_c\":1,\"M...\n",
       "14   False      R_protonM                            {\"M_h_p\":-1, \"M_h_c\":1}\n",
       "15   False  R_ferredoxinM      {\"M_fdxrd_c\":-1, \"M_h_c\":2, \"M_fdxo_2_2_c\":1}"
      ]
     },
     "execution_count": 143,
     "metadata": {},
     "output_type": "execute_result"
    }
   ],
   "source": [
    "EGC_rxns = pd.read_excel(\"/Users/idunmariaburgos/Documents/Work/Project/Ruminiclostridium cellulolyticum part 2/EGC.xlsx\",\n",
    "                         sheet_name=\"Sheet2\",\n",
    "                         usecols=\"C:E\")\n",
    "ECG_rxns"
   ]
  },
  {
   "cell_type": "code",
   "execution_count": 144,
   "id": "d90b568d-2706-45aa-8936-86980b09834d",
   "metadata": {},
   "outputs": [
    {
     "name": "stdout",
     "output_type": "stream",
     "text": [
      "R_CTPM: M_ctp_c + M_h2o_c <-> M_cdp_c + M_h_c + M_pi_c\n",
      "R_GTPM: M_gtp_c + M_h2o_c <-> M_gdp_c + M_h_c + M_pi_c\n",
      "R_UTPM: M_utp_c + M_h2o_c <-> M_udp_c + M_h_c + M_pi_c\n",
      "R_ITPM: M_itp_c + M_h2o_c <-> M_idp_c + M_h_c + M_pi_c\n",
      "R_nadhM: M_nadh_c <-> M_h_c + M_nad_c\n",
      "R_nadphM: M_nadph_c <-> M_h_c + M_nadp_c\n",
      "R_fadh2M: M_fadh2_c <-> 2 M_h_c + M_fad_c\n",
      "R_fmnh2M: M_fmnh2_c <-> 2 M_h_c + M_fmn_c\n",
      "R_q8h2M: M_q8h2_c <-> 2 M_h_c + M_q8_c\n",
      "R_mql8M: M_mql8_c <-> 2 M_h_c + M_mqn8_c\n",
      "R_dmmql8M: M_2dmmql8_c <-> 2 M_h_c + M_2dmmq8_c\n",
      "R_accoaM: M_accoa_c + M_h2o_c <-> M_coa_c + M_ac_c + M_h_c\n",
      "R_gluM: M_glu__L_c + M_h2o_c <-> M_akg_c + M_nh3_c + M_h_c\n",
      "R_protonM: M_h_p <-> M_h_c\n",
      "R_ferredoxinM: M_fdxrd_c <-> 2 M_h_c + M_fdxo_2_2_c\n"
     ]
    }
   ],
   "source": [
    "rxns={}\n",
    "\n",
    "\n",
    "for index, row in EGC_rxns.iterrows():\n",
    "    if not row[\"Exists\"]:\n",
    "        reaction_id = row['rxn_ID ']\n",
    "        reversible = True\n",
    "        stoichiometry = json.loads(row['stoichiometry'])\n",
    "        rxn = CBReaction(reaction_id=reaction_id, reversible=reversible, stoichiometry=stoichiometry)\n",
    "        print(rxn)\n",
    "        rxns[row['rxn_ID ']]=rxn\n",
    " \n"
   ]
  },
  {
   "cell_type": "code",
   "execution_count": 145,
   "id": "4b66160e-1666-431f-be8c-a03f4b6c634d",
   "metadata": {},
   "outputs": [
    {
     "data": {
      "text/plain": [
       "{'R_CTPM': R_CTPM: M_ctp_c + M_h2o_c <-> M_cdp_c + M_h_c + M_pi_c,\n",
       " 'R_GTPM': R_GTPM: M_gtp_c + M_h2o_c <-> M_gdp_c + M_h_c + M_pi_c,\n",
       " 'R_UTPM': R_UTPM: M_utp_c + M_h2o_c <-> M_udp_c + M_h_c + M_pi_c,\n",
       " 'R_ITPM': R_ITPM: M_itp_c + M_h2o_c <-> M_idp_c + M_h_c + M_pi_c,\n",
       " 'R_nadhM': R_nadhM: M_nadh_c <-> M_h_c + M_nad_c,\n",
       " 'R_nadphM': R_nadphM: M_nadph_c <-> M_h_c + M_nadp_c,\n",
       " 'R_fadh2M': R_fadh2M: M_fadh2_c <-> 2 M_h_c + M_fad_c,\n",
       " 'R_fmnh2M': R_fmnh2M: M_fmnh2_c <-> 2 M_h_c + M_fmn_c,\n",
       " 'R_q8h2M': R_q8h2M: M_q8h2_c <-> 2 M_h_c + M_q8_c,\n",
       " 'R_mql8M': R_mql8M: M_mql8_c <-> 2 M_h_c + M_mqn8_c,\n",
       " 'R_dmmql8M': R_dmmql8M: M_2dmmql8_c <-> 2 M_h_c + M_2dmmq8_c,\n",
       " 'R_accoaM': R_accoaM: M_accoa_c + M_h2o_c <-> M_coa_c + M_ac_c + M_h_c,\n",
       " 'R_gluM': R_gluM: M_glu__L_c + M_h2o_c <-> M_akg_c + M_nh3_c + M_h_c,\n",
       " 'R_protonM': R_protonM: M_h_p <-> M_h_c,\n",
       " 'R_ferredoxinM': R_ferredoxinM: M_fdxrd_c <-> 2 M_h_c + M_fdxo_2_2_c}"
      ]
     },
     "execution_count": 145,
     "metadata": {},
     "output_type": "execute_result"
    }
   ],
   "source": [
    "rxns"
   ]
  },
  {
   "cell_type": "code",
   "execution_count": 168,
   "id": "414dd8fb-daf4-410d-8f22-d0c836bcc28f",
   "metadata": {},
   "outputs": [],
   "source": [
    "model = reframed.load_cbmodel('model_c_H10_part5_1.xml')"
   ]
  },
  {
   "cell_type": "code",
   "execution_count": 169,
   "id": "b86959f2-81bb-408f-be9e-6178e073ce23",
   "metadata": {},
   "outputs": [
    {
     "name": "stdout",
     "output_type": "stream",
     "text": [
      "0.0\n",
      "There are NO energy producing cycles in the model for R_ATPM\n",
      "0.0\n",
      "There are NO energy producing cycles in the model for R_CTPM\n",
      "0.0\n",
      "There are NO energy producing cycles in the model for R_GTPM\n",
      "0.0\n",
      "There are NO energy producing cycles in the model for R_UTPM\n",
      "0.0\n",
      "There are NO energy producing cycles in the model for R_ITPM\n",
      "0.0\n",
      "There are NO energy producing cycles in the model for R_nadhM\n",
      "0.0\n",
      "There are NO energy producing cycles in the model for R_nadphM\n",
      "0.0\n",
      "There are NO energy producing cycles in the model for R_fadh2M\n",
      "0.0\n",
      "There are NO energy producing cycles in the model for R_fmnh2M\n",
      "0.0\n",
      "There are NO energy producing cycles in the model for R_q8h2M\n",
      "0.0\n",
      "There are NO energy producing cycles in the model for R_mql8M\n",
      "0.0\n",
      "There are NO energy producing cycles in the model for R_dmmql8M\n",
      "0.0\n",
      "There are NO energy producing cycles in the model for R_accoaM\n",
      "0.0\n",
      "There are NO energy producing cycles in the model for R_gluM\n",
      "0.0\n",
      "There are NO energy producing cycles in the model for R_protonM\n",
      "0.0\n",
      "There are NO energy producing cycles in the model for R_ferredoxinM\n"
     ]
    }
   ],
   "source": [
    "for index, row in EGC_rxns.iterrows():\n",
    "    model_copy= model.copy()\n",
    "    \n",
    "    if not row[\"Exists\"]:\n",
    "        model_copy.add_reaction(rxns[row[\"rxn_ID \"]])\n",
    "    \n",
    "    # Set boundary to avoid infeasible solution\n",
    "    model_copy.reactions[row[\"rxn_ID \"]].lb=0\n",
    "    model_copy.reactions[\"R_ATPM\"].lb=0\n",
    "    model_copy.reactions[row[\"rxn_ID \"]].ub=1000\n",
    "    \n",
    "    # Set environment to empty\n",
    "    env_empty = Environment.empty(model_copy)\n",
    "    \n",
    "    # Set objective as the reaction in question\n",
    "    objective= {rxn:0 for rxn in model_copy.reactions}\n",
    "    objective[row[\"rxn_ID \"]]=1\n",
    "    \n",
    "    # Solve pFBA (not FBA to avoid finding energy-balanced cycles)\n",
    "    sol_pfba = pFBA(model_copy,objective=objective,constraints=env_empty)\n",
    "    \n",
    "    print(sol_pfba.fobj)\n",
    "    if sol_pfba.fobj ==0.0:\n",
    "        print('There are NO energy producing cycles in the model for '+str(row[\"rxn_ID \"]))\n",
    "    else:\n",
    "        print('There are energy producing cycles in the model for '+str(row[\"rxn_ID \"]))\n",
    "        \n",
    "        # For each reaction in the model I'm finding the associated values. \n",
    "        for rxn,value in sol_pfba.values.items():\n",
    "            if abs(value)>0:\n",
    "                print(\"\\t\" + str(rxn)+\": \" + str(value))\n",
    "    #objective = \n",
    "    #pFBA = sol"
   ]
  },
  {
   "cell_type": "code",
   "execution_count": 170,
   "id": "23b25ea6-3ec4-4f72-a8fa-f43a34aa8d9a",
   "metadata": {
    "tags": []
   },
   "outputs": [
    {
     "name": "stdout",
     "output_type": "stream",
     "text": [
      "R_GALT: M_gal1p_c + M_h_c + M_utp_c <-> M_ppi_c + M_udpgal_c\n",
      "R_GALUi: M_g1p_c + M_h_c + M_utp_c <-> M_ppi_c + M_udpg_c\n",
      "R_HMPK3: M_4ahmmp_c + M_utp_c --> M_4ampm_c + M_h_c + M_udp_c\n",
      "R_NTPP8: M_h2o_c + M_utp_c --> M_h_c + M_ppi_c + M_ump_c\n",
      "R_PYK2: M_h_c + M_pep_c + M_udp_c --> M_pyr_c + M_utp_c\n",
      "R_RNTR4: M_trdrd_c + M_utp_c --> M_dutp_c + M_h2o_c + M_trdox_c\n",
      "R_RNTR4_2: M_fmnh2_c + M_utp_c --> M_dutp_c + M_fmn_c + M_h2o_c\n",
      "R_RNTR4c: M_fldrd_c + M_utp_c --> M_dutp_c + M_fldox_c + M_h2o_c\n",
      "R_UAGDP: M_acgam1p_c + M_h_c + M_utp_c --> M_ppi_c + M_uacgam_c\n",
      "R_UTCY: M_cytd_c + M_utp_c --> M_cmp_c + M_h_c + M_udp_c\n",
      "R_UTUP: M_uri_c + M_utp_c --> M_h_c + M_udp_c + M_ump_c\n"
     ]
    }
   ],
   "source": [
    "for rxn in model.metabolite_reaction_lookup()[\"M_utp_c\"]:\n",
    "    mets = model.reactions[rxn].get_substrates()+model.reactions[rxn].get_products()\n",
    "\n",
    "    if len(mets)<6:\n",
    "        print(model.reactions[rxn])"
   ]
  },
  {
   "cell_type": "markdown",
   "id": "adc4ceef-c62d-49d5-9db3-572a2249b753",
   "metadata": {},
   "source": [
    "#### Infeasible production of hydrogen by oxidation of ferredoxin.\n",
    "\n",
    "By maximizing (minimizing) the FNRR3 reaction."
   ]
  },
  {
   "cell_type": "code",
   "execution_count": 192,
   "id": "771634d4-7604-4061-a027-5b7de4a565e8",
   "metadata": {},
   "outputs": [],
   "source": [
    "model_copy = model.copy()"
   ]
  },
  {
   "cell_type": "code",
   "execution_count": 193,
   "id": "99ca5a65-bb1c-45c5-80f3-818f1a7c252b",
   "metadata": {},
   "outputs": [
    {
     "data": {
      "text/plain": [
       "R_FNRR3: M_fdxo_2_2_c + M_h2_c <-> M_fdxrd_c + 2.0 M_h_c"
      ]
     },
     "execution_count": 193,
     "metadata": {},
     "output_type": "execute_result"
    }
   ],
   "source": [
    "model_copy.reactions.R_FNRR3"
   ]
  },
  {
   "cell_type": "code",
   "execution_count": 194,
   "id": "c38a7434-7824-47a2-9f78-ec30dc2f7455",
   "metadata": {},
   "outputs": [],
   "source": [
    "model_copy.reactions.R_FNRR3.lb=0"
   ]
  },
  {
   "cell_type": "code",
   "execution_count": 184,
   "id": "5340f729-2c1e-47be-b7ad-c2014cc0e1b8",
   "metadata": {
    "tags": []
   },
   "outputs": [],
   "source": [
    "env_empty = Environment.empty(model_copy)\n",
    "objective= {rxn:0 for rxn in model_copy.reactions}\n",
    "objective[\"R_FNRR3\"]=-1"
   ]
  },
  {
   "cell_type": "code",
   "execution_count": 185,
   "id": "5daec505-0733-4916-a379-e87a60eed527",
   "metadata": {},
   "outputs": [
    {
     "name": "stdout",
     "output_type": "stream",
     "text": [
      "R_H2ASE_syn: M_h_c + M_nadph_c <-> M_h2_c + M_nadp_c\n",
      "R_HYD1pp: M_h2_c + 2.0 M_h_c + M_q8_c --> 2.0 M_h_p + M_q8h2_c\n",
      "R_HYD2: M_h2_c + 2.0 M_h_c + M_mqn8_c --> 2.0 M_h_e + M_mql8_c\n",
      "R_FNRR3: M_fdxo_2_2_c + M_h2_c <-> M_fdxrd_c + 2.0 M_h_c\n",
      "R_H2td: M_h2_c <-> M_h2_e\n"
     ]
    }
   ],
   "source": [
    "for rxn in model.metabolite_reaction_lookup()[\"M_h2_c\"]:\n",
    "    print(model.reactions[rxn])"
   ]
  },
  {
   "cell_type": "code",
   "execution_count": 196,
   "id": "bd5c7394-e959-4f39-9425-3d788f7f2f64",
   "metadata": {
    "scrolled": true,
    "tags": []
   },
   "outputs": [
    {
     "name": "stdout",
     "output_type": "stream",
     "text": [
      "0.0\n",
      "There are NO energy producing cycles in the model\n"
     ]
    }
   ],
   "source": [
    "sol = pFBA(model_copy,objective=objective,constraints=env_empty)\n",
    "\n",
    "print(sol.fobj)\n",
    "if sol.fobj ==0.0:\n",
    "    print('There are NO energy producing cycles in the model')\n",
    "else:\n",
    "    print('There is at least one energy producing cycle in the model')\n",
    "    model_copy.reactions.R_ATPM.lb=0\n",
    "    sol_pfba = pFBA(model_copy,objective=objective,constraints=env_empty)\n",
    "    print('These are the reactions that are a part of the energy producing cycle')\n",
    "          \n",
    "    for rxn,value in sol_pfba.values.items():\n",
    "          if abs(value)>0:\n",
    "                print(\"\\t\" + str(rxn)+\": \" + str(value))"
   ]
  },
  {
   "cell_type": "code",
   "execution_count": 197,
   "id": "d512501c-fe5d-4613-abb6-64e2dc47a6e6",
   "metadata": {},
   "outputs": [],
   "source": [
    "model.reactions.R_FNRR3.lb=0\n",
    "sol = pFBA(model)"
   ]
  },
  {
   "cell_type": "code",
   "execution_count": 198,
   "id": "a9538383-d72a-4e83-8afe-0f49c84dfc86",
   "metadata": {},
   "outputs": [
    {
     "name": "stdout",
     "output_type": "stream",
     "text": [
      "[ --> o ] R_H2ASE_syn   359.284  \n",
      "[ o --> ] R_HYD1pp     -70       \n",
      "[ o --> ] R_HYD2       -0.00381529\n",
      "[ o --> ] R_H2td       -289.28   \n"
     ]
    }
   ],
   "source": [
    "sol.show_metabolite_balance('M_h2_c',model)"
   ]
  },
  {
   "cell_type": "code",
   "execution_count": 200,
   "id": "c38fb3c8-9a70-49ca-bd0a-e867fe55b03e",
   "metadata": {},
   "outputs": [
    {
     "name": "stdout",
     "output_type": "stream",
     "text": [
      "R_EX_3cmp_e  -10\n",
      "R_EX_6pgc_e  -10\n",
      "R_EX_arg__L_e -10\n",
      "R_EX_asn__L_e -10\n",
      "R_EX_aso4_e  -10\n",
      "R_EX_cellb_e -10\n",
      "R_EX_chols_e -10\n",
      "R_EX_fruur_e -10\n",
      "R_EX_gal_e   -10\n",
      "R_EX_galman4_e -10\n",
      "R_EX_galman6_e -10\n",
      "R_EX_glc__D_e -10\n",
      "R_EX_glcman4_e -10\n",
      "R_EX_glcman6_e -10\n",
      "R_EX_glcr_e  -10\n",
      "R_EX_gln__L_e -10\n",
      "R_EX_glu__L_e -10\n",
      "R_EX_glucan4_e -10\n",
      "R_EX_glucan6_e -10\n",
      "R_EX_gly_e   -10\n",
      "R_EX_glyclt_e -10\n",
      "R_EX_glyglygln_e -10\n",
      "R_EX_h2o_e   -10\n",
      "R_EX_h_e     -10\n",
      "R_EX_ham_e   -10\n",
      "R_EX_lcts_e  -10\n",
      "R_EX_lmn2_e  -10\n",
      "R_EX_lysglugly_e -10\n",
      "R_EX_malt_e  -10\n",
      "R_EX_malthp_e -10\n",
      "R_EX_malthx_e -10\n",
      "R_EX_malttr_e -10\n",
      "R_EX_man_e   -10\n",
      "R_EX_melib_e -10\n",
      "R_EX_metglcur_e -10\n",
      "R_EX_nh4_e   -10\n",
      "R_EX_no3_e   -10\n",
      "R_EX_no_e    -10\n",
      "R_EX_o2s_e   -10\n",
      "R_EX_peamn_e -10\n",
      "R_EX_pi_e    -10\n",
      "R_EX_rib__D_e -10\n",
      "R_EX_serglugly_e -10\n",
      "R_EX_so4_e   -10\n",
      "R_EX_sucr_e  -10\n",
      "R_EX_tartr__L_e -10\n",
      "R_EX_tet_e   -10\n",
      "R_EX_thr__L_e -10\n",
      "R_EX_tnt_e   -10\n",
      "R_EX_tre_e   -10\n",
      "R_EX_tsul_e  -10\n",
      "R_EX_ura_e   -10\n",
      "R_EX_xyl3_e  -10\n",
      "R_EX_xyl__D_e -10\n",
      "R_EX_xylan4_e -10\n",
      "R_EX_xylan8_e -10\n",
      "R_EX_xylb_e  -10\n",
      "R_EX_cell5_e -10\n",
      "R_EX_cell4_e -10\n",
      "R_EX_cell3_e -10\n",
      "R_EX_QLQG_e  -10\n",
      "R_EX_QQLG_e  -10\n",
      "R_EX_QLLG_e  -10\n",
      "R_EX_QQQG_e  -10\n",
      "R_EX_GQQG_e  -10\n",
      "R_EX_AX_e    -10\n",
      "R_EX_AXX_e   -10\n",
      "R_EX_XA23XX_e -10\n",
      "R_EX_A23XX_e -10\n",
      "R_EX_XAXX_e  -10\n",
      "R_EX_arab__L_e -10\n",
      "R_EX_gua_e   -9.23731\n",
      "R_EX_5mcsn_e -8.32982\n",
      "R_EX_k_e     -7.44718\n",
      "R_EX_orn_e   -5.62653\n",
      "R_EX_tyr__L_e -5.26113\n",
      "R_EX_h2o2_e  -5\n",
      "R_EX_fe2_e   -4.41495\n",
      "R_EX_prohisglu_e -3.61453\n",
      "R_EX_glyc3p_e -3.39379\n",
      "R_EX_hxan_e  -1.12421\n",
      "R_EX_mg2_e   -0.330976\n",
      "R_EX_fe3dcit_e -0.297898\n",
      "R_EX_ca2_e   -0.198586\n",
      "R_EX_cl_e    -0.198586\n",
      "R_EX_cu2_e   -0.0270504\n",
      "R_EX_mn2_e   -0.0263637\n",
      "R_EX_fol_e   -0.0255243\n",
      "R_EX_ribflv_e -0.0170162\n",
      "R_EX_zn2_e   -0.0130101\n",
      "R_EX_thm_e   -0.0085081\n",
      "R_EX_cobalt2_e -0.00381529\n",
      "R_EX_bz_e    -0.00381529\n",
      "R_EX_2m35mdntha_e  5\n",
      "R_EX_n2o_e    5\n",
      "R_EX_aso3_e   10\n",
      "R_EX_chol_e   10\n",
      "R_EX_meoh_e   10\n",
      "R_EX_pacald_e  10\n",
      "R_EX_thym_e   15.709\n",
      "R_EX_ac_e     25.1491\n",
      "R_EX_h2s_e    70.4464\n",
      "R_EX_succ_e   289.276\n",
      "R_EX_lac__L_e  472.251\n",
      "R_EX_acald_e  585.303\n",
      "R_EX_etoh_e   1474.8\n",
      "R_EX_co2_e    1809.06\n"
     ]
    }
   ],
   "source": [
    "sol.show_values(pattern=\"R_EX_\",sort=True)"
   ]
  },
  {
   "cell_type": "code",
   "execution_count": null,
   "id": "eee7d34c-a5f0-402b-986e-2fb4099c8f6f",
   "metadata": {},
   "outputs": [],
   "source": []
  }
 ],
 "metadata": {
  "kernelspec": {
   "display_name": "RecAndAn",
   "language": "python",
   "name": "recandan"
  },
  "language_info": {
   "codemirror_mode": {
    "name": "ipython",
    "version": 3
   },
   "file_extension": ".py",
   "mimetype": "text/x-python",
   "name": "python",
   "nbconvert_exporter": "python",
   "pygments_lexer": "ipython3",
   "version": "3.7.13"
  }
 },
 "nbformat": 4,
 "nbformat_minor": 5
}
