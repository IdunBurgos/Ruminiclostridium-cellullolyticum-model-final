{
 "cells": [
  {
   "cell_type": "markdown",
   "id": "7c81e0f0-8ff8-4e49-a5f5-c5be23d7b4bf",
   "metadata": {},
   "source": [
    "# <span style=\"color: blue;\">Part 2.1.1: Curation of model based - cofactors of glycolysis fermentation pathways</span>"
   ]
  },
  {
   "cell_type": "markdown",
   "id": "8f6ab1f0-4fe8-4bc8-bf6c-a76c0ab361f6",
   "metadata": {},
   "source": [
    "- Change direction directionality for FNRR3 (Ferrodoxin reaction, should make it able to produce hydrogen). (Check that there will not be an energy producing cycle from this-what about other h2 producing reactions)\n",
    "- Removing NADPH dependent Malic enzyme\n",
    "- GTP/ATP dependency"
   ]
  },
  {
   "cell_type": "code",
   "execution_count": 64,
   "id": "0c3de7c2-eac7-4dd1-9f09-dff751053a5b",
   "metadata": {},
   "outputs": [],
   "source": [
    "import reframed\n",
    "from reframed import pFBA\n",
    "import pandas as pd\n",
    "import warnings\n",
    "import copy\n",
    "import collections"
   ]
  },
  {
   "cell_type": "code",
   "execution_count": 65,
   "id": "ab812deb-df68-4572-98f7-72ff4d130e6d",
   "metadata": {},
   "outputs": [],
   "source": [
    "model = reframed.load_cbmodel('model_cellulolyticum_H10.xml')"
   ]
  },
  {
   "cell_type": "code",
   "execution_count": 66,
   "id": "c3130e66-a006-4f49-adbb-c9e28891d89f",
   "metadata": {},
   "outputs": [],
   "source": [
    "model_universe = reframed.load_cbmodel('bigg_universe.xml')"
   ]
  },
  {
   "cell_type": "code",
   "execution_count": 67,
   "id": "0b28ee57-4ce6-4514-b332-0757694f33b9",
   "metadata": {},
   "outputs": [],
   "source": [
    "%store -r gene_protein_map"
   ]
  },
  {
   "cell_type": "markdown",
   "id": "70fc442d-f9dc-428d-859d-8b66c4155ff6",
   "metadata": {},
   "source": [
    "## Fermentative pathways and other"
   ]
  },
  {
   "cell_type": "markdown",
   "id": "e3be0c96-5bcf-4b67-9a69-bd6447e51f5a",
   "metadata": {
    "tags": []
   },
   "source": [
    "### Preparing for curation\n",
    "\n"
   ]
  },
  {
   "cell_type": "code",
   "execution_count": 68,
   "id": "1b3e45c6-3584-48ca-bfe6-f6b37ff68ac2",
   "metadata": {},
   "outputs": [],
   "source": [
    "rxn_add=[]\n",
    "rxn_rm=[]\n",
    "gprs={}"
   ]
  },
  {
   "cell_type": "markdown",
   "id": "3f26e617-db92-43fa-a69b-3675f59a3060",
   "metadata": {
    "tags": []
   },
   "source": [
    "#### Reactions to add\n",
    "\n",
    "- FNRR \n",
    "- FNRR2"
   ]
  },
  {
   "cell_type": "markdown",
   "id": "c7b337ef-de34-4d5b-b513-b8550a3b6fb4",
   "metadata": {},
   "source": [
    "*FNRR*"
   ]
  },
  {
   "cell_type": "code",
   "execution_count": 69,
   "id": "ea1a76d8-59dd-4069-a75a-81804b6e273c",
   "metadata": {},
   "outputs": [],
   "source": [
    "rxn_add.append(model_universe.reactions.R_FNRR)"
   ]
  },
  {
   "cell_type": "markdown",
   "id": "bd67882d-2d8f-42df-a3af-e3ea94d585e0",
   "metadata": {},
   "source": [
    "*FNRR2*"
   ]
  },
  {
   "cell_type": "code",
   "execution_count": 70,
   "id": "b1b6d384-4207-4ef9-9055-bb3ce543b125",
   "metadata": {},
   "outputs": [],
   "source": [
    "rxn_add.append(model_universe.reactions.R_FNRR2)"
   ]
  },
  {
   "cell_type": "markdown",
   "id": "31b62745-95fc-48b6-a828-59010baa8255",
   "metadata": {},
   "source": [
    "Gene collected from UniProt (explanation in different document)"
   ]
  },
  {
   "cell_type": "code",
   "execution_count": 71,
   "id": "775c1512-4a0a-4cca-b1d3-d48062242629",
   "metadata": {},
   "outputs": [
    {
     "data": {
      "text/html": [
       "<div>\n",
       "<style scoped>\n",
       "    .dataframe tbody tr th:only-of-type {\n",
       "        vertical-align: middle;\n",
       "    }\n",
       "\n",
       "    .dataframe tbody tr th {\n",
       "        vertical-align: top;\n",
       "    }\n",
       "\n",
       "    .dataframe thead th {\n",
       "        text-align: right;\n",
       "    }\n",
       "</style>\n",
       "<table border=\"1\" class=\"dataframe\">\n",
       "  <thead>\n",
       "    <tr style=\"text-align: right;\">\n",
       "      <th></th>\n",
       "      <th>Entry</th>\n",
       "      <th>Entry name</th>\n",
       "      <th>Protein names</th>\n",
       "      <th>Gene names</th>\n",
       "      <th>Cross-reference (RefSeq)</th>\n",
       "    </tr>\n",
       "  </thead>\n",
       "  <tbody>\n",
       "    <tr>\n",
       "      <th>2881</th>\n",
       "      <td>B8I6A9</td>\n",
       "      <td>B8I6A9_RUMCH</td>\n",
       "      <td>Oxidoreductase FAD/NAD(P)-binding domain protein</td>\n",
       "      <td>Ccel_2546</td>\n",
       "      <td>G_WP_015925963_1</td>\n",
       "    </tr>\n",
       "  </tbody>\n",
       "</table>\n",
       "</div>"
      ],
      "text/plain": [
       "       Entry    Entry name                                     Protein names  \\\n",
       "2881  B8I6A9  B8I6A9_RUMCH  Oxidoreductase FAD/NAD(P)-binding domain protein   \n",
       "\n",
       "     Gene names Cross-reference (RefSeq)  \n",
       "2881  Ccel_2546         G_WP_015925963_1  "
      ]
     },
     "execution_count": 71,
     "metadata": {},
     "output_type": "execute_result"
    }
   ],
   "source": [
    "gene_protein_map[gene_protein_map['Gene names'].str.contains('Ccel_2546')]"
   ]
  },
  {
   "cell_type": "code",
   "execution_count": 72,
   "id": "20cef59a-5da5-4bee-b967-73f6805308e6",
   "metadata": {},
   "outputs": [],
   "source": [
    "prot = reframed.Protein()\n",
    "prot.genes=['G_WP_015925963_1']\n",
    "gpr = reframed.GPRAssociation()\n",
    "gpr.proteins=[prot]\n",
    "gprs['R_FNRR2']=gpr"
   ]
  },
  {
   "cell_type": "markdown",
   "id": "a4a7960c-65c2-495a-8758-81cb768ca3b9",
   "metadata": {},
   "source": [
    "#### Reactions to remove\n",
    "- ME1"
   ]
  },
  {
   "cell_type": "code",
   "execution_count": 73,
   "id": "0d41d54a-5d1d-4d7c-bc32-6a7e201447f6",
   "metadata": {},
   "outputs": [],
   "source": [
    "rxn_rm.append(model.reactions.R_ME1)"
   ]
  },
  {
   "cell_type": "markdown",
   "id": "65f2259f-fbb1-461e-8942-03ae67acce65",
   "metadata": {},
   "source": [
    "#### Reactions to change"
   ]
  },
  {
   "cell_type": "markdown",
   "id": "3bccd2bc-df2a-4c8f-9286-7723a43532f4",
   "metadata": {
    "tags": []
   },
   "source": [
    "* None"
   ]
  },
  {
   "cell_type": "markdown",
   "id": "781983e6-b455-42ac-830c-358e8577d351",
   "metadata": {},
   "source": [
    "FNRR3 = copy.deepcopy(model.reactions.R_FNRR3)"
   ]
  },
  {
   "cell_type": "markdown",
   "id": "138b2a45-f3de-44d9-8bc5-ee3a34ed1aea",
   "metadata": {},
   "source": [
    "FNRR3.reversible"
   ]
  },
  {
   "cell_type": "markdown",
   "id": "7a261332-6f89-4fbb-9467-241d14aca047",
   "metadata": {},
   "source": [
    "FNRR3.reversible=True\n",
    "FNRR3.lb=-1000"
   ]
  },
  {
   "cell_type": "markdown",
   "id": "cd406e7f-cb65-4600-9a2e-1ab14a9f879f",
   "metadata": {},
   "source": [
    "rxn_rm.append(model.reactions.R_FNRR3)\n",
    "rxn_add.append(FNRR3)"
   ]
  },
  {
   "cell_type": "markdown",
   "id": "339ed21f-b49e-4867-8fb1-770374d018d8",
   "metadata": {},
   "source": [
    "### Curation and feasability test"
   ]
  },
  {
   "cell_type": "code",
   "execution_count": 74,
   "id": "961b3a7d-e1d4-49e3-bb48-62b6dac1808d",
   "metadata": {},
   "outputs": [
    {
     "data": {
      "text/plain": [
       "[R_FNRR: M_fdxrd_c + M_h_c + M_nad_c <-> M_fdxo_2_2_c + M_nadh_c,\n",
       " R_FNRR2: M_fdxrd_c + M_h_c + M_nadp_c <-> M_fdxo_2_2_c + M_nadph_c]"
      ]
     },
     "execution_count": 74,
     "metadata": {},
     "output_type": "execute_result"
    }
   ],
   "source": [
    "rxn_add"
   ]
  },
  {
   "cell_type": "code",
   "execution_count": 75,
   "id": "0f2c60dd-f64f-4b49-bbc9-b3aba5d1911c",
   "metadata": {},
   "outputs": [
    {
     "data": {
      "text/plain": [
       "[R_ME1: M_mal__L_c + M_nad_c --> M_co2_c + M_nadh_c + M_pyr_c]"
      ]
     },
     "execution_count": 75,
     "metadata": {},
     "output_type": "execute_result"
    }
   ],
   "source": [
    "rxn_rm"
   ]
  },
  {
   "cell_type": "markdown",
   "id": "229a99a3-1fdb-484e-be48-4b45059ef38a",
   "metadata": {},
   "source": [
    "#### Remove reactions "
   ]
  },
  {
   "cell_type": "code",
   "execution_count": 76,
   "id": "2dfe5285-fddb-4b7e-a9a1-5db52681dd9f",
   "metadata": {
    "tags": []
   },
   "outputs": [
    {
     "name": "stdout",
     "output_type": "stream",
     "text": [
      "Removing rxn: R_ME1: M_mal__L_c + M_nad_c --> M_co2_c + M_nadh_c + M_pyr_c\n",
      "There are NO energy producing cycles in the model\n",
      "\n",
      "\n"
     ]
    }
   ],
   "source": [
    "for rxn in rxn_rm:\n",
    "    print(\"Removing rxn: \" + str(rxn))\n",
    "    model.remove_reaction(rxn.id)\n",
    "\n",
    "    env_empty = reframed.Environment.empty(model)\n",
    "    objective= {rxn:0 for rxn in model.reactions}\n",
    "    objective['R_ATPM']=1\n",
    "    \n",
    "    sol = reframed.FBA(model,objective=objective,constraints=env_empty)\n",
    "\n",
    "    if abs(sol.fobj) <1e-6: #cplex tolerance\n",
    "        print('There are NO energy producing cycles in the model')\n",
    "        print(\"\\n\")\n",
    "    else:\n",
    "        print('There is at least one energy producing cycle in the model')\n",
    "        print(\"\\n\")\n",
    "        sol_pfba = pFBA(model,objective=objective,constraints=env_empty)\n",
    "\n",
    "        print('These are the reactions that are a part of the energy producing cycle')\n",
    "\n",
    "        for rxn,value in sol_pfba.values.items():\n",
    "            if abs(value)>1e-6: \n",
    "\n",
    "                print(\"\\t\" + str(rxn)+\": \" + str(value))\n",
    "        print(\"\\n\")"
   ]
  },
  {
   "cell_type": "markdown",
   "id": "a99d6c54-db29-43bf-999a-b55907c734d8",
   "metadata": {
    "tags": []
   },
   "source": [
    "#### Add reactions "
   ]
  },
  {
   "cell_type": "code",
   "execution_count": 77,
   "id": "038a2f2b-3ef8-4752-ada7-433a67620072",
   "metadata": {
    "tags": []
   },
   "outputs": [
    {
     "name": "stdout",
     "output_type": "stream",
     "text": [
      "Adding rxn: R_FNRR: M_fdxrd_c + M_h_c + M_nad_c <-> M_fdxo_2_2_c + M_nadh_c\n",
      "There are NO energy producing cycles in the model\n",
      "\n",
      "\n",
      "Adding rxn: R_FNRR2: M_fdxrd_c + M_h_c + M_nadp_c <-> M_fdxo_2_2_c + M_nadph_c\n",
      "There are NO energy producing cycles in the model\n",
      "\n",
      "\n"
     ]
    }
   ],
   "source": [
    "for rxn in rxn_add:\n",
    "    print(\"Adding rxn: \" + str(rxn))\n",
    "    model.add_reaction(rxn)\n",
    "    \n",
    "    env_empty = reframed.Environment.empty(model)\n",
    "    objective= {rxn:0 for rxn in model.reactions}\n",
    "    objective['R_ATPM']=1\n",
    "    \n",
    "    sol = reframed.FBA(model,objective=objective,constraints=env_empty)\n",
    "\n",
    "    if abs(sol.fobj) <1e-6: #cplex tolerance\n",
    "        print('There are NO energy producing cycles in the model')\n",
    "        print(\"\\n\")\n",
    "    else:\n",
    "        print('There is at least one energy producing cycle in the model')\n",
    "        sol_pfba = pFBA(model,objective=objective,constraints=env_empty)\n",
    "\n",
    "        print('These are the reactions that are a part of the energy producing cycle')\n",
    "\n",
    "        for rxn,value in sol_pfba.values.items():\n",
    "            if abs(value)>1e-6: \n",
    "\n",
    "                print(\"\\t\" + str(rxn)+\": \" + str(value))\n",
    "        print(\"\\n\")"
   ]
  },
  {
   "cell_type": "markdown",
   "id": "6d911e6d-b742-4fca-a2db-da3fe9cf0bbf",
   "metadata": {},
   "source": [
    "#### Add GPR to reactions"
   ]
  },
  {
   "cell_type": "code",
   "execution_count": 78,
   "id": "36a73680-b857-46d8-837e-28c63f152d92",
   "metadata": {},
   "outputs": [],
   "source": [
    "for rxn_id,gpr in gprs.items():\n",
    "    model.set_gpr_association(rxn_id,gpr)"
   ]
  },
  {
   "cell_type": "markdown",
   "id": "7b2e88f3-3cda-42eb-973e-a7d5210255bd",
   "metadata": {
    "tags": []
   },
   "source": [
    "## Cofactors in glycolysis\n",
    "\n",
    "- HEX1: remove 'G_WP_015926569_1' (Ccel_3221) from gpr  (Change)\n",
    "- HEX1_gtp:  (add)\n",
    "- PFK: ATP (protein is not functional G_WP_015926027_1) (remove)\n",
    "- PFK_ppi: PPi -dependent PFK (Add)\n",
    "- CD6P: same as PFK but uses wrong cofactor (remove)\n",
    "- r0191: same as PFK but uses wrong cofactor (remove)\n",
    "- ID6P: same as PFK but uses wrong cofactor (remove)\n",
    "- GALK2: ATP->GTP (remove)\n",
    "- GALKr: ATP ->GTP (remove)\n",
    "- GALK2_gtp: ATP->GTP (add)\n",
    "- GALKr_gtp: ATP ->GTP (add)"
   ]
  },
  {
   "cell_type": "markdown",
   "id": "5391de20-6951-4f32-9147-fe26292ee3c7",
   "metadata": {},
   "source": [
    "**HEX1 - GPRs**\n",
    "\n",
    "Most of the proteins are a part of the *ROK protein family*: [ROK family proteins are are bacterial proteins that compose of transcriptional repressors, sugar kinases, and uncharactarized ORFs.](https://www.ebi.ac.uk/interpro/entry/InterPro/IPR000600/)\n",
    "\n",
    "One of them is a hexokinase. The evidence used for this part does not support changing GPR.  "
   ]
  },
  {
   "cell_type": "markdown",
   "id": "a8689a68-35e9-478a-a7b5-e631d775e633",
   "metadata": {},
   "source": [
    "**PFK - gprs**\n",
    "\n",
    "There are two different proteins related to this reaction. They have different preference for ATP vs PPi, but the ATP one is not active. "
   ]
  },
  {
   "cell_type": "markdown",
   "id": "751b9265-dc5e-4e20-b478-0e11b4b5ebc3",
   "metadata": {
    "tags": []
   },
   "source": [
    "### Preparing for curation"
   ]
  },
  {
   "cell_type": "code",
   "execution_count": 79,
   "id": "2fb7c730-77b3-448a-aef9-4f59494af0b2",
   "metadata": {},
   "outputs": [],
   "source": [
    "rxn_add=[]\n",
    "rxn_rm=[]\n",
    "gprs={}"
   ]
  },
  {
   "cell_type": "markdown",
   "id": "357a2b06-e402-4660-b249-f77aa16f2d06",
   "metadata": {
    "tags": []
   },
   "source": [
    "#### Reactions to add\n",
    "- PFK_ppi\n",
    "- HEX1_gtp\n",
    "- GALK2_gtp(add)\n",
    "- GALKr_gtp->GTP (add)"
   ]
  },
  {
   "cell_type": "markdown",
   "id": "dadfb1c9-07c4-4d31-9b5d-7e4f3a4efd11",
   "metadata": {},
   "source": [
    "*PFK_ppi*"
   ]
  },
  {
   "cell_type": "code",
   "execution_count": 80,
   "id": "611307d0-74b5-418e-866f-162dbf413ec2",
   "metadata": {},
   "outputs": [],
   "source": [
    "stoichiometry={'M_g6p_c':-1,\n",
    "              'M_ppi_c':-1,\n",
    "              'M_fdp_c':1,\n",
    "              'M_h_c':1,\n",
    "              'M_pi_c':1}\n",
    "\n",
    "PFK_ppi=reframed.CBReaction(reaction_id='R_PFK_ppi', \n",
    "                         name='diphosphate--fructose-6-phosphate 1-phosphotransferase',\n",
    "                         reversible=True, \n",
    "                         stoichiometry=stoichiometry,\n",
    "                         reaction_type=reframed.ReactionType.ENZYMATIC)\n",
    "\n",
    "rxn_add.append(PFK_ppi)\n",
    "\n",
    "prot = reframed.Protein()\n",
    "prot.genes=['G_WP_015925658_1']\n",
    "gpr = reframed.GPRAssociation()\n",
    "gpr.proteins=[prot]\n",
    "gprs['R_PFK_ppi']=gpr"
   ]
  },
  {
   "cell_type": "markdown",
   "id": "2d19e2ae-1622-4c9d-908c-b3121d590b18",
   "metadata": {},
   "source": [
    "*HEX1_gtp*"
   ]
  },
  {
   "cell_type": "code",
   "execution_count": 81,
   "id": "895af8d7-c05d-4cbc-836a-3fc114612add",
   "metadata": {},
   "outputs": [],
   "source": [
    "stoichiometry={'M_glc__D_c':-1,\n",
    "              'M_gtp_c':-1,\n",
    "              'M_g6p_c':1,\n",
    "              'M_h_c':1,\n",
    "              'M_gdp_c':1}\n",
    "\n",
    "HEX1_gtp=reframed.CBReaction(reaction_id='R_HEX1_gtp', \n",
    "                         name='GTP dependent hexokinase',\n",
    "                         reversible=True, \n",
    "                         stoichiometry=stoichiometry,\n",
    "                         reaction_type=reframed.ReactionType.ENZYMATIC)\n",
    "\n",
    "rxn_add.append(HEX1_gtp)\n",
    "\n",
    "prot = reframed.Protein()\n",
    "prot.genes=['G_WP_015926569_1']\n",
    "gpr = reframed.GPRAssociation()\n",
    "gpr.proteins=[prot]\n",
    "gprs['R_HEX1_gtp']=gpr"
   ]
  },
  {
   "cell_type": "markdown",
   "id": "f3866752-5613-485c-88bf-234c06e7a5aa",
   "metadata": {
    "tags": []
   },
   "source": [
    "*GALK2_gtp*"
   ]
  },
  {
   "cell_type": "code",
   "execution_count": 82,
   "id": "bb0ac5b2-4dfd-472e-88a2-1a99c7766b1a",
   "metadata": {},
   "outputs": [],
   "source": [
    "stoichiometry={'M_a_gal__D_c':-1,\n",
    "              'M_gtp_c':-1,\n",
    "              'M_gal1p_c':1,\n",
    "              'M_h_c':1,\n",
    "              'M_gdp_c':1}\n",
    "\n",
    "GALK2_gtp=reframed.CBReaction(reaction_id='R_GALK2_gtp', \n",
    "                         name='alpha Galactokinase GTP dependent',\n",
    "                         reversible=False, \n",
    "                         stoichiometry=stoichiometry,\n",
    "                         reaction_type=reframed.ReactionType.ENZYMATIC)\n",
    "\n",
    "rxn_add.append(GALK2_gtp)\n",
    "\n",
    "prot = reframed.Protein()\n",
    "prot.genes=['G_WP_015926586_1']\n",
    "gpr = reframed.GPRAssociation()\n",
    "gpr.proteins=[prot]\n",
    "gprs['R_GALK2_gtp']=gpr"
   ]
  },
  {
   "cell_type": "markdown",
   "id": "bf97289c-4b3a-49af-aad5-24cf96a2c560",
   "metadata": {},
   "source": [
    "*GALKr_gtp*"
   ]
  },
  {
   "cell_type": "code",
   "execution_count": 83,
   "id": "c40fdbc2-6e99-4863-a688-17043e7bbeb2",
   "metadata": {},
   "outputs": [],
   "source": [
    "stoichiometry={'M_gal_c':-1,\n",
    "              'M_gtp_c':-1,\n",
    "              'M_gal1p_c':1,\n",
    "              'M_h_c':1,\n",
    "              'M_gdp_c':1}\n",
    "\n",
    "GALKr_gtp=reframed.CBReaction(reaction_id='R_GALKr_gtp', \n",
    "                         name='Galactokinase GTP dependent',\n",
    "                         reversible=True, \n",
    "                         stoichiometry=stoichiometry,\n",
    "                         reaction_type=reframed.ReactionType.ENZYMATIC)\n",
    "\n",
    "rxn_add.append(GALKr_gtp)\n",
    "\n",
    "prot = reframed.Protein()\n",
    "prot.genes=['G_WP_015926586_1']\n",
    "gpr = reframed.GPRAssociation()\n",
    "gpr.proteins=[prot]\n",
    "gprs['R_GALKr_gtp']=gpr"
   ]
  },
  {
   "cell_type": "code",
   "execution_count": 84,
   "id": "3443ca10-4e36-4f85-9371-958b4eceb33d",
   "metadata": {},
   "outputs": [
    {
     "data": {
      "text/plain": [
       "[R_PFK_ppi: M_g6p_c + M_ppi_c <-> M_fdp_c + M_h_c + M_pi_c,\n",
       " R_HEX1_gtp: M_glc__D_c + M_gtp_c <-> M_g6p_c + M_h_c + M_gdp_c,\n",
       " R_GALK2_gtp: M_a_gal__D_c + M_gtp_c --> M_gal1p_c + M_h_c + M_gdp_c,\n",
       " R_GALKr_gtp: M_gal_c + M_gtp_c <-> M_gal1p_c + M_h_c + M_gdp_c]"
      ]
     },
     "execution_count": 84,
     "metadata": {},
     "output_type": "execute_result"
    }
   ],
   "source": [
    "rxn_add"
   ]
  },
  {
   "cell_type": "code",
   "execution_count": 85,
   "id": "7cd333e8-fbbe-4b65-ab8f-4ba2087beaa5",
   "metadata": {},
   "outputs": [
    {
     "data": {
      "text/plain": [
       "{'R_PFK_ppi': G_WP_015925658_1,\n",
       " 'R_HEX1_gtp': G_WP_015926569_1,\n",
       " 'R_GALK2_gtp': G_WP_015926586_1,\n",
       " 'R_GALKr_gtp': G_WP_015926586_1}"
      ]
     },
     "execution_count": 85,
     "metadata": {},
     "output_type": "execute_result"
    }
   ],
   "source": [
    "gprs"
   ]
  },
  {
   "cell_type": "markdown",
   "id": "29a84025-2f36-4495-b9de-3857cfa6d852",
   "metadata": {},
   "source": [
    "#### Reactions to remove\n",
    "- CD6P\n",
    "- r0191\n",
    "- ID6P\n",
    "- PFK\n",
    "- GALK2\n",
    "- GALKr"
   ]
  },
  {
   "cell_type": "code",
   "execution_count": 86,
   "id": "0a7266ed-64a0-47cf-9c27-39c2f450ce10",
   "metadata": {},
   "outputs": [],
   "source": [
    "rxn_rm.append(model.reactions.R_CD6P)\n",
    "rxn_rm.append(model.reactions.R_r0191)\n",
    "rxn_rm.append(model.reactions.R_ID6P)\n",
    "rxn_rm.append(model.reactions.R_PFK)\n",
    "rxn_rm.append(model.reactions.R_GALK2)\n",
    "rxn_rm.append(model.reactions.R_GALKr)"
   ]
  },
  {
   "cell_type": "markdown",
   "id": "0ff8bbec-298b-4d5b-aaa2-8264da448e13",
   "metadata": {},
   "source": [
    "#### Reactions to change"
   ]
  },
  {
   "cell_type": "markdown",
   "id": "b5d5ba53-88d6-48f9-810f-6e5e7e472865",
   "metadata": {
    "tags": []
   },
   "source": [
    "##### Change GPR\n",
    "- HEX1"
   ]
  },
  {
   "cell_type": "code",
   "execution_count": 87,
   "id": "b001ca39-66e0-42ae-a791-6aa451ad40b3",
   "metadata": {},
   "outputs": [],
   "source": [
    "HEX1 = copy.deepcopy(model.reactions.R_HEX1)"
   ]
  },
  {
   "cell_type": "code",
   "execution_count": 88,
   "id": "810a1555-7916-4a7d-8e84-4aaf24961ee1",
   "metadata": {},
   "outputs": [
    {
     "data": {
      "text/plain": [
       "[G_WP_015924247_1,\n",
       " G_WP_015925130_1,\n",
       " G_WP_015925627_1,\n",
       " G_WP_015926569_1,\n",
       " G_WP_015926770_1]"
      ]
     },
     "execution_count": 88,
     "metadata": {},
     "output_type": "execute_result"
    }
   ],
   "source": [
    "HEX1.gpr.proteins"
   ]
  },
  {
   "cell_type": "code",
   "execution_count": 89,
   "id": "ab94ccf6-9c20-4c21-8d23-0060f820f50b",
   "metadata": {},
   "outputs": [
    {
     "data": {
      "text/plain": [
       "G_WP_015926569_1"
      ]
     },
     "execution_count": 89,
     "metadata": {},
     "output_type": "execute_result"
    }
   ],
   "source": [
    "HEX1.gpr.proteins.pop(3)"
   ]
  },
  {
   "cell_type": "code",
   "execution_count": 90,
   "id": "dc03922b-a102-4fc1-ad1d-e9c2a8e1c868",
   "metadata": {},
   "outputs": [],
   "source": [
    "rxn_add.append(HEX1)"
   ]
  },
  {
   "cell_type": "code",
   "execution_count": 91,
   "id": "80a40a62-c0af-4232-a48a-af239d241cc7",
   "metadata": {},
   "outputs": [],
   "source": [
    "rxn_rm.append(model.reactions.R_HEX1)"
   ]
  },
  {
   "cell_type": "markdown",
   "id": "b36674ae-4c32-4fe4-b618-0af5d9865efe",
   "metadata": {},
   "source": [
    "### Curation and feasability test"
   ]
  },
  {
   "cell_type": "code",
   "execution_count": 92,
   "id": "0e023f82-0e5b-4e97-bcd7-76f0c5e9ced5",
   "metadata": {},
   "outputs": [
    {
     "data": {
      "text/plain": [
       "[R_PFK_ppi: M_g6p_c + M_ppi_c <-> M_fdp_c + M_h_c + M_pi_c,\n",
       " R_HEX1_gtp: M_glc__D_c + M_gtp_c <-> M_g6p_c + M_h_c + M_gdp_c,\n",
       " R_GALK2_gtp: M_a_gal__D_c + M_gtp_c --> M_gal1p_c + M_h_c + M_gdp_c,\n",
       " R_GALKr_gtp: M_gal_c + M_gtp_c <-> M_gal1p_c + M_h_c + M_gdp_c,\n",
       " R_HEX1: M_atp_c + M_glc__D_c --> M_adp_c + M_g6p_c + M_h_c]"
      ]
     },
     "execution_count": 92,
     "metadata": {},
     "output_type": "execute_result"
    }
   ],
   "source": [
    "rxn_add"
   ]
  },
  {
   "cell_type": "code",
   "execution_count": 93,
   "id": "af110f70-51a5-4ac4-a98b-3bf1439b67d2",
   "metadata": {},
   "outputs": [
    {
     "data": {
      "text/plain": [
       "[R_CD6P: M_ctp_c + M_f6p_c --> M_cdp_c + M_fdp_c + M_h_c,\n",
       " R_r0191: M_f6p_c + M_utp_c --> M_fdp_c + M_h_c + M_udp_c,\n",
       " R_ID6P: M_f6p_c + M_itp_c --> M_fdp_c + M_h_c + M_idp_c,\n",
       " R_PFK: M_atp_c + M_f6p_c --> M_adp_c + M_fdp_c + M_h_c,\n",
       " R_GALK2: M_a_gal__D_c + M_atp_c --> M_adp_c + M_gal1p_c + M_h_c,\n",
       " R_GALKr: M_atp_c + M_gal_c <-> M_adp_c + M_gal1p_c + M_h_c,\n",
       " R_HEX1: M_atp_c + M_glc__D_c --> M_adp_c + M_g6p_c + M_h_c]"
      ]
     },
     "execution_count": 93,
     "metadata": {},
     "output_type": "execute_result"
    }
   ],
   "source": [
    "rxn_rm"
   ]
  },
  {
   "cell_type": "markdown",
   "id": "051ba916-1a2e-45c7-9ddb-3a895f6c224b",
   "metadata": {},
   "source": [
    "#### Remove reactions "
   ]
  },
  {
   "cell_type": "code",
   "execution_count": 94,
   "id": "af9c6dbf-19fe-4d0b-858d-11ad045b6830",
   "metadata": {
    "tags": []
   },
   "outputs": [
    {
     "name": "stdout",
     "output_type": "stream",
     "text": [
      "Removing rxn: R_CD6P: M_ctp_c + M_f6p_c --> M_cdp_c + M_fdp_c + M_h_c\n",
      "There are NO energy producing cycles in the model\n",
      "\n",
      "\n",
      "Removing rxn: R_r0191: M_f6p_c + M_utp_c --> M_fdp_c + M_h_c + M_udp_c\n",
      "There are NO energy producing cycles in the model\n",
      "\n",
      "\n",
      "Removing rxn: R_ID6P: M_f6p_c + M_itp_c --> M_fdp_c + M_h_c + M_idp_c\n",
      "There are NO energy producing cycles in the model\n",
      "\n",
      "\n",
      "Removing rxn: R_PFK: M_atp_c + M_f6p_c --> M_adp_c + M_fdp_c + M_h_c\n",
      "There are NO energy producing cycles in the model\n",
      "\n",
      "\n",
      "Removing rxn: R_GALK2: M_a_gal__D_c + M_atp_c --> M_adp_c + M_gal1p_c + M_h_c\n",
      "There are NO energy producing cycles in the model\n",
      "\n",
      "\n",
      "Removing rxn: R_GALKr: M_atp_c + M_gal_c <-> M_adp_c + M_gal1p_c + M_h_c\n",
      "There are NO energy producing cycles in the model\n",
      "\n",
      "\n",
      "Removing rxn: R_HEX1: M_atp_c + M_glc__D_c --> M_adp_c + M_g6p_c + M_h_c\n",
      "There are NO energy producing cycles in the model\n",
      "\n",
      "\n"
     ]
    }
   ],
   "source": [
    "for rxn in rxn_rm:\n",
    "    print(\"Removing rxn: \" + str(rxn))\n",
    "    model.remove_reaction(rxn.id)\n",
    "    env_empty = reframed.Environment.empty(model)\n",
    "    objective= {rxn:0 for rxn in model.reactions}\n",
    "    objective['R_ATPM']=1\n",
    "    \n",
    "    sol = reframed.FBA(model,objective=objective,constraints=env_empty)\n",
    "\n",
    "    if abs(sol.fobj) <1e-6: #cplex tolerance\n",
    "        print('There are NO energy producing cycles in the model')\n",
    "        print(\"\\n\")\n",
    "    else:\n",
    "        print('There is at least one energy producing cycle in the model')\n",
    "        print(\"\\n\")\n",
    "        sol_pfba = pFBA(model,objective=objective,constraints=env_empty)\n",
    "\n",
    "        print('These are the reactions that are a part of the energy producing cycle')\n",
    "\n",
    "        for rxn,value in sol_pfba.values.items():\n",
    "            if value>1e-6: \n",
    "                print(\"\\t\" + str(rxn)+\": \" + str(value))\n",
    "        print(\"\\n\")"
   ]
  },
  {
   "cell_type": "code",
   "execution_count": 95,
   "id": "f1d906c8-36a9-44da-9776-19b5ea305f14",
   "metadata": {
    "tags": []
   },
   "outputs": [
    {
     "name": "stdout",
     "output_type": "stream",
     "text": [
      "Adding rxn: R_PFK_ppi: M_g6p_c + M_ppi_c <-> M_fdp_c + M_h_c + M_pi_c\n",
      "There are NO energy producing cycles in the model\n",
      "\n",
      "\n",
      "Adding rxn: R_HEX1_gtp: M_glc__D_c + M_gtp_c <-> M_g6p_c + M_h_c + M_gdp_c\n",
      "There are NO energy producing cycles in the model\n",
      "\n",
      "\n",
      "Adding rxn: R_GALK2_gtp: M_a_gal__D_c + M_gtp_c --> M_gal1p_c + M_h_c + M_gdp_c\n",
      "There are NO energy producing cycles in the model\n",
      "\n",
      "\n",
      "Adding rxn: R_GALKr_gtp: M_gal_c + M_gtp_c <-> M_gal1p_c + M_h_c + M_gdp_c\n",
      "There are NO energy producing cycles in the model\n",
      "\n",
      "\n",
      "Adding rxn: R_HEX1: M_atp_c + M_glc__D_c --> M_adp_c + M_g6p_c + M_h_c\n",
      "There are NO energy producing cycles in the model\n",
      "\n",
      "\n"
     ]
    }
   ],
   "source": [
    "for rxn in rxn_add:\n",
    "    print(\"Adding rxn: \" + str(rxn))\n",
    "    model.add_reaction(rxn)\n",
    "    \n",
    "    env_empty = reframed.Environment.empty(model)\n",
    "    objective= {rxn:0 for rxn in model.reactions}\n",
    "    objective['R_ATPM']=1\n",
    "    \n",
    "    sol = reframed.FBA(model,objective=objective,constraints=env_empty)\n",
    "\n",
    "    if abs(sol.fobj) <1e-6: #cplex tolerance\n",
    "        print('There are NO energy producing cycles in the model')\n",
    "        print(\"\\n\")\n",
    "    else:\n",
    "        print('There is at least one energy producing cycle in the model')\n",
    "        sol_pfba = pFBA(model,objective=objective,constraints=env_empty)\n",
    "\n",
    "        print('These are the reactions that are a part of the energy producing cycle')\n",
    "\n",
    "        for rxn,value in sol_pfba.values.items():\n",
    "            if abs(value)>1e-6:\n",
    "\n",
    "                print(\"\\t\" + str(rxn)+\": \" + str(value))\n",
    "        print(\"\\n\")"
   ]
  },
  {
   "cell_type": "markdown",
   "id": "c67a7250-538f-4e25-a260-7e36062a4945",
   "metadata": {},
   "source": [
    "#### Add GPR to reactions"
   ]
  },
  {
   "cell_type": "code",
   "execution_count": 96,
   "id": "7d842f2f-98b6-4a16-b569-8959b1d86f90",
   "metadata": {},
   "outputs": [],
   "source": [
    "for rxn_id,gpr in gprs.items():\n",
    "    model.set_gpr_association(rxn_id,gpr)"
   ]
  },
  {
   "cell_type": "markdown",
   "id": "2a078072-3a0d-475c-896d-2e5651041b18",
   "metadata": {
    "tags": []
   },
   "source": [
    "## Hydrogen production\n",
    "\n",
    "One of the goal of this curation was to see if this will help the process of hydrogen production. Let's check if this is now possible. "
   ]
  },
  {
   "cell_type": "markdown",
   "id": "702d540e-2dbb-46c3-8e94-5c9a0568c5fe",
   "metadata": {},
   "source": [
    "Hydrogen production is NOT feasible in the current conditions, even at 0 growth rate."
   ]
  },
  {
   "cell_type": "code",
   "execution_count": 97,
   "id": "ec782cdc-c87b-4290-8139-dbb101dfa460",
   "metadata": {},
   "outputs": [
    {
     "data": {
      "text/plain": [
       "{'R_EX_h2_e': [0.0, 0.0]}"
      ]
     },
     "execution_count": 97,
     "metadata": {},
     "output_type": "execute_result"
    }
   ],
   "source": [
    "reframed.FVA(model,reactions=['R_EX_h2_e'])"
   ]
  },
  {
   "cell_type": "markdown",
   "id": "5b561fe1-3ff4-445d-9670-29830f654eee",
   "metadata": {},
   "source": [
    "Looking at the reactions involving M_h2_e and M_h2_c we see that there is no transport reaction for hydrogen. "
   ]
  },
  {
   "cell_type": "code",
   "execution_count": 98,
   "id": "d6f1f48c-eb47-4737-b2aa-cdccc73e6a7d",
   "metadata": {},
   "outputs": [
    {
     "name": "stdout",
     "output_type": "stream",
     "text": [
      "R_HYDA1: M_h2_e + 2.0 M_h_c + M_mqn6_c --> 2.0 M_h_e + M_mql6_c\n",
      "R_EX_h2_e: M_h2_e --> \n"
     ]
    }
   ],
   "source": [
    "for rxn in model.get_metabolite_reactions('M_h2_e'):\n",
    "    print(model.reactions[rxn])"
   ]
  },
  {
   "cell_type": "code",
   "execution_count": 99,
   "id": "2b1f6125-c985-478a-a17e-52bafa1ef14d",
   "metadata": {},
   "outputs": [
    {
     "name": "stdout",
     "output_type": "stream",
     "text": [
      "R_FNRR3: M_fdxo_2_2_c + M_h2_c --> M_fdxrd_c + 2.0 M_h_c\n",
      "R_H2ASE_syn: M_h_c + M_nadph_c <-> M_h2_c + M_nadp_c\n",
      "R_HYD1pp: M_h2_c + 2.0 M_h_c + M_q8_c --> 2.0 M_h_p + M_q8h2_c\n",
      "R_HYD2: M_h2_c + 2.0 M_h_c + M_mqn8_c --> 2.0 M_h_e + M_mql8_c\n"
     ]
    }
   ],
   "source": [
    "for rxn in model.get_metabolite_reactions('M_h2_c'):\n",
    "    print(model.reactions[rxn])"
   ]
  },
  {
   "cell_type": "markdown",
   "id": "07a9a899-682b-41a5-af0d-93561f51f0f0",
   "metadata": {},
   "source": [
    "In the universal model there is a transport reaction for hydrogen with diffusion. We can ask project partners for this. "
   ]
  },
  {
   "cell_type": "code",
   "execution_count": 100,
   "id": "979e87e0-a067-420f-b883-ca3cc450e59b",
   "metadata": {},
   "outputs": [
    {
     "data": {
      "text/plain": [
       "R_H2td: M_h2_c <-> M_h2_e"
      ]
     },
     "execution_count": 100,
     "metadata": {},
     "output_type": "execute_result"
    }
   ],
   "source": [
    "model_universe.reactions.R_H2td"
   ]
  },
  {
   "cell_type": "code",
   "execution_count": 101,
   "id": "44b1fcfa-f531-4d60-8d6b-72a22e40d696",
   "metadata": {},
   "outputs": [],
   "source": [
    "model.add_reaction(model_universe.reactions.R_H2td)"
   ]
  },
  {
   "cell_type": "code",
   "execution_count": 102,
   "id": "adc05c66-6e04-4d47-886c-7b7c52b12895",
   "metadata": {},
   "outputs": [],
   "source": [
    "model.update()"
   ]
  },
  {
   "cell_type": "code",
   "execution_count": 103,
   "id": "e41d3748-6f07-43cc-90ba-3b0ce2fa7ad7",
   "metadata": {},
   "outputs": [
    {
     "data": {
      "text/plain": [
       "{'R_EX_h2_e': [0.0, 75.9689557855127]}"
      ]
     },
     "execution_count": 103,
     "metadata": {},
     "output_type": "execute_result"
    }
   ],
   "source": [
    "reframed.FVA(model,reactions=['R_EX_h2_e'])"
   ]
  },
  {
   "cell_type": "code",
   "execution_count": 104,
   "id": "bdbae78c-d679-467b-8c1a-a76decc08e98",
   "metadata": {},
   "outputs": [
    {
     "name": "stdout",
     "output_type": "stream",
     "text": [
      "There are NO energy producing cycles in the model\n",
      "\n",
      "\n"
     ]
    }
   ],
   "source": [
    "env_empty = reframed.Environment.empty(model)\n",
    "objective= {rxn:0 for rxn in model.reactions}\n",
    "objective['R_ATPM']=1\n",
    "\n",
    "sol = reframed.FBA(model,objective=objective,constraints=env_empty)\n",
    "\n",
    "if abs(sol.fobj) <1e-6: #cplex tolerance\n",
    "    print('There are NO energy producing cycles in the model')\n",
    "    print(\"\\n\")\n",
    "else:\n",
    "    print('There is at least one energy producing cycle in the model')\n",
    "    sol_pfba = pFBA(model,objective=objective,constraints=env_empty)\n",
    "\n",
    "    print('These are the reactions that are a part of the energy producing cycle')\n",
    "\n",
    "    for rxn,value in sol_pfba.values.items():\n",
    "        if value>50.0: # What value to choose here?\n",
    "\n",
    "            print(\"\\t\" + str(rxn)+\": \" + str(value))\n",
    "    print(\"\\n\")"
   ]
  },
  {
   "cell_type": "markdown",
   "id": "81183cb5-c677-42b9-a03c-13f9ebac6f33",
   "metadata": {},
   "source": [
    "### pFBA results"
   ]
  },
  {
   "cell_type": "code",
   "execution_count": 105,
   "id": "7e5b526f-19e1-4477-b23b-c17161e6ee21",
   "metadata": {},
   "outputs": [
    {
     "name": "stdout",
     "output_type": "stream",
     "text": [
      "R_EX_glc__D_e -10\n",
      "R_EX_h_e     -10\n",
      "R_EX_no3_e   -7.1296\n",
      "R_EX_pi_e    -0.97907\n",
      "R_EX_nh4_e   -0.206068\n",
      "R_EX_cys__L_e -0.171736\n",
      "R_EX_k_e     -0.136108\n",
      "R_EX_mg2_e   -0.00604905\n",
      "R_EX_fe3_e   -0.0054445\n",
      "R_EX_fe2_e   -0.00468235\n",
      "R_EX_ca2_e   -0.00362943\n",
      "R_EX_cl_e    -0.00362943\n",
      "R_EX_so4_e   -0.00302488\n",
      "R_EX_cu2_e   -0.000494384\n",
      "R_EX_mn2_e   -0.000481832\n",
      "R_EX_ribflv_e -0.000310995\n",
      "R_EX_zn2_e   -0.000237778\n",
      "R_EX_cobalt2_e -6.97297e-05\n",
      "R_EX_4hba_e   0.000155497\n",
      "R_EX_d23hb_e  0.384338\n",
      "R_EX_ac_e     9.84678\n",
      "R_EX_co2_e    11.0591\n",
      "R_EX_h2o_e    29.609\n"
     ]
    }
   ],
   "source": [
    "reframed.pFBA(model,constraints={'R_EX_h2s_e':0}).show_values(pattern=\"R_EX\",sort=True)"
   ]
  },
  {
   "cell_type": "markdown",
   "id": "bca6893a-495e-412b-918f-a317595ef0ff",
   "metadata": {},
   "source": [
    "### Summary"
   ]
  },
  {
   "cell_type": "code",
   "execution_count": 106,
   "id": "c8f1ebc8-af02-4d4b-9f0c-b3d89045e537",
   "metadata": {},
   "outputs": [],
   "source": [
    "model.update()"
   ]
  },
  {
   "cell_type": "markdown",
   "id": "d9743d2d-b2f7-444d-b2d9-bcb03368e51a",
   "metadata": {},
   "source": [
    "**Remove genes/proteins**"
   ]
  },
  {
   "cell_type": "code",
   "execution_count": 107,
   "id": "b3fb4248-b243-462b-9676-92bef7f884f0",
   "metadata": {},
   "outputs": [
    {
     "data": {
      "text/plain": [
       "[]"
      ]
     },
     "execution_count": 107,
     "metadata": {},
     "output_type": "execute_result"
    }
   ],
   "source": [
    "[key for key, value in model.gene_to_reaction_lookup().items() if len(value)==0]"
   ]
  },
  {
   "cell_type": "code",
   "execution_count": 108,
   "id": "f9726a10-537e-4ba3-8def-40d9d09dc3b9",
   "metadata": {},
   "outputs": [],
   "source": [
    "model.remove_genes([key for key, value in model.gene_to_reaction_lookup().items() if len(value)==0])"
   ]
  },
  {
   "cell_type": "code",
   "execution_count": 109,
   "id": "267abe3d-1c17-4ce9-b592-d613170a1209",
   "metadata": {},
   "outputs": [],
   "source": [
    "model.update()"
   ]
  },
  {
   "cell_type": "code",
   "execution_count": 110,
   "id": "6c9b2f29-191a-47ba-9629-242c7c5602b7",
   "metadata": {},
   "outputs": [
    {
     "data": {
      "text/plain": [
       "[]"
      ]
     },
     "execution_count": 110,
     "metadata": {},
     "output_type": "execute_result"
    }
   ],
   "source": [
    "[key for key, value in model.gene_to_reaction_lookup().items() if len(value)==0]"
   ]
  },
  {
   "cell_type": "markdown",
   "id": "b301f3b4-ae17-40f3-8f84-77c927a407ae",
   "metadata": {},
   "source": [
    "**Finish model**"
   ]
  },
  {
   "cell_type": "code",
   "execution_count": 111,
   "id": "e0698bd8-228b-455d-bfdc-43abbc92c033",
   "metadata": {},
   "outputs": [],
   "source": [
    "model.id = \"model_c_H10_part2_1_1\""
   ]
  },
  {
   "cell_type": "code",
   "execution_count": 112,
   "id": "ee47f3b7-e95e-406e-9ac7-7cb4e3df1abc",
   "metadata": {},
   "outputs": [],
   "source": [
    "reframed.save_cbmodel(model,filename=\"model_c_H10_part2_1_1.xml\")"
   ]
  },
  {
   "cell_type": "code",
   "execution_count": 113,
   "id": "cdb0e42f-5888-49a6-9399-6651d03e482f",
   "metadata": {},
   "outputs": [],
   "source": [
    "model_new = reframed.load_cbmodel('model_c_H10_part2_1_1.xml')"
   ]
  },
  {
   "cell_type": "code",
   "execution_count": 114,
   "id": "b56372fc-5155-4476-ac3a-81d06a21d4e9",
   "metadata": {},
   "outputs": [],
   "source": [
    "model_prev = reframed.load_cbmodel('model_cellulolyticum_H10.xml')"
   ]
  },
  {
   "cell_type": "code",
   "execution_count": 115,
   "id": "c5d7c553-6c7c-4a71-baed-47248cc4f82f",
   "metadata": {},
   "outputs": [],
   "source": [
    "models_dict={model.id:{} for model in [model_new,model_prev]}\n",
    "models_rxn_dict={model.id:{} for model in [model_new,model_prev]}\n",
    "for model in [model,model_prev]:\n",
    "    models_dict[model.id]['Reactions']=len(model.reactions)\n",
    "    models_dict[model.id]['Metabolites']=len(model.metabolites)\n",
    "    models_dict[model.id]['Genes']=len(model.genes)\n",
    "    \n",
    "    models_rxn_dict[model.id]['Enzymatic']=len(model.get_reactions_by_type(reframed.ReactionType.ENZYMATIC))\n",
    "    models_rxn_dict[model.id]['Exchange']=len(model.get_reactions_by_type(reframed.ReactionType.EXCHANGE))\n",
    "    models_rxn_dict[model.id]['Transport']=len(model.get_reactions_by_type(reframed.ReactionType.TRANSPORT))\n",
    "    models_rxn_dict[model.id]['Sink']=len(model.get_reactions_by_type(reframed.ReactionType.SINK))\n",
    "    models_rxn_dict[model.id]['Other']=len(model.get_reactions_by_type(reframed.ReactionType.OTHER))\n",
    "    "
   ]
  },
  {
   "cell_type": "markdown",
   "id": "14c0e82f-6f94-471c-a565-7a567455309e",
   "metadata": {},
   "source": [
    "**Overview models**"
   ]
  },
  {
   "cell_type": "code",
   "execution_count": 116,
   "id": "6c1c374a-a68c-4380-9619-82c1017c5e6f",
   "metadata": {},
   "outputs": [
    {
     "data": {
      "text/html": [
       "<div>\n",
       "<style scoped>\n",
       "    .dataframe tbody tr th:only-of-type {\n",
       "        vertical-align: middle;\n",
       "    }\n",
       "\n",
       "    .dataframe tbody tr th {\n",
       "        vertical-align: top;\n",
       "    }\n",
       "\n",
       "    .dataframe thead th {\n",
       "        text-align: right;\n",
       "    }\n",
       "</style>\n",
       "<table border=\"1\" class=\"dataframe\">\n",
       "  <thead>\n",
       "    <tr style=\"text-align: right;\">\n",
       "      <th></th>\n",
       "      <th>model_c_H10_part2_1_1</th>\n",
       "      <th>model_cellulolyticum_H10</th>\n",
       "    </tr>\n",
       "  </thead>\n",
       "  <tbody>\n",
       "    <tr>\n",
       "      <th>Reactions</th>\n",
       "      <td>1811</td>\n",
       "      <td>1811</td>\n",
       "    </tr>\n",
       "    <tr>\n",
       "      <th>Metabolites</th>\n",
       "      <td>1250</td>\n",
       "      <td>1250</td>\n",
       "    </tr>\n",
       "    <tr>\n",
       "      <th>Genes</th>\n",
       "      <td>734</td>\n",
       "      <td>733</td>\n",
       "    </tr>\n",
       "  </tbody>\n",
       "</table>\n",
       "</div>"
      ],
      "text/plain": [
       "             model_c_H10_part2_1_1  model_cellulolyticum_H10\n",
       "Reactions                     1811                      1811\n",
       "Metabolites                   1250                      1250\n",
       "Genes                          734                       733"
      ]
     },
     "execution_count": 116,
     "metadata": {},
     "output_type": "execute_result"
    }
   ],
   "source": [
    "pd.DataFrame(models_dict)"
   ]
  },
  {
   "cell_type": "markdown",
   "id": "7b801c09-b8d4-476a-a8e8-bb0cf561884f",
   "metadata": {},
   "source": [
    "**Overview reactions in models**"
   ]
  },
  {
   "cell_type": "code",
   "execution_count": 117,
   "id": "ddb17969-9ede-41d1-94f7-9f8808723324",
   "metadata": {},
   "outputs": [
    {
     "data": {
      "text/html": [
       "<div>\n",
       "<style scoped>\n",
       "    .dataframe tbody tr th:only-of-type {\n",
       "        vertical-align: middle;\n",
       "    }\n",
       "\n",
       "    .dataframe tbody tr th {\n",
       "        vertical-align: top;\n",
       "    }\n",
       "\n",
       "    .dataframe thead th {\n",
       "        text-align: right;\n",
       "    }\n",
       "</style>\n",
       "<table border=\"1\" class=\"dataframe\">\n",
       "  <thead>\n",
       "    <tr style=\"text-align: right;\">\n",
       "      <th></th>\n",
       "      <th>model_c_H10_part2_1_1</th>\n",
       "      <th>model_cellulolyticum_H10</th>\n",
       "    </tr>\n",
       "  </thead>\n",
       "  <tbody>\n",
       "    <tr>\n",
       "      <th>Enzymatic</th>\n",
       "      <td>880</td>\n",
       "      <td>883</td>\n",
       "    </tr>\n",
       "    <tr>\n",
       "      <th>Exchange</th>\n",
       "      <td>210</td>\n",
       "      <td>210</td>\n",
       "    </tr>\n",
       "    <tr>\n",
       "      <th>Transport</th>\n",
       "      <td>476</td>\n",
       "      <td>475</td>\n",
       "    </tr>\n",
       "    <tr>\n",
       "      <th>Sink</th>\n",
       "      <td>0</td>\n",
       "      <td>0</td>\n",
       "    </tr>\n",
       "    <tr>\n",
       "      <th>Other</th>\n",
       "      <td>245</td>\n",
       "      <td>243</td>\n",
       "    </tr>\n",
       "  </tbody>\n",
       "</table>\n",
       "</div>"
      ],
      "text/plain": [
       "           model_c_H10_part2_1_1  model_cellulolyticum_H10\n",
       "Enzymatic                    880                       883\n",
       "Exchange                     210                       210\n",
       "Transport                    476                       475\n",
       "Sink                           0                         0\n",
       "Other                        245                       243"
      ]
     },
     "execution_count": 117,
     "metadata": {},
     "output_type": "execute_result"
    }
   ],
   "source": [
    "pd.DataFrame(models_rxn_dict)"
   ]
  },
  {
   "cell_type": "markdown",
   "id": "b4f28c0c-032f-4cd7-831c-a7ccf286a8b8",
   "metadata": {},
   "source": [
    "**Reactions removed**"
   ]
  },
  {
   "cell_type": "code",
   "execution_count": 118,
   "id": "a0698b1f-aaea-4157-ac76-441349af99ab",
   "metadata": {},
   "outputs": [
    {
     "data": {
      "text/plain": [
       "{'R_CD6P', 'R_GALK2', 'R_GALKr', 'R_ID6P', 'R_ME1', 'R_PFK', 'R_r0191'}"
      ]
     },
     "execution_count": 118,
     "metadata": {},
     "output_type": "execute_result"
    }
   ],
   "source": [
    "set(model_prev.reactions)-set(model_new.reactions)"
   ]
  },
  {
   "cell_type": "markdown",
   "id": "e899004f-f5ad-4ea1-ba52-6ccab6a44762",
   "metadata": {},
   "source": [
    "**Reactions added**"
   ]
  },
  {
   "cell_type": "code",
   "execution_count": 119,
   "id": "795022c5-0e25-40d8-9438-d1a3d1f4fdd7",
   "metadata": {},
   "outputs": [
    {
     "data": {
      "text/plain": [
       "{'R_FNRR',\n",
       " 'R_FNRR2',\n",
       " 'R_GALK2_gtp',\n",
       " 'R_GALKr_gtp',\n",
       " 'R_H2td',\n",
       " 'R_HEX1_gtp',\n",
       " 'R_PFK_ppi'}"
      ]
     },
     "execution_count": 119,
     "metadata": {},
     "output_type": "execute_result"
    }
   ],
   "source": [
    "set(model_new.reactions)-set(model_prev.reactions)"
   ]
  }
 ],
 "metadata": {
  "kernelspec": {
   "display_name": "RecAndAn",
   "language": "python",
   "name": "recandan"
  },
  "language_info": {
   "codemirror_mode": {
    "name": "ipython",
    "version": 3
   },
   "file_extension": ".py",
   "mimetype": "text/x-python",
   "name": "python",
   "nbconvert_exporter": "python",
   "pygments_lexer": "ipython3",
   "version": "3.7.13"
  }
 },
 "nbformat": 4,
 "nbformat_minor": 5
}
