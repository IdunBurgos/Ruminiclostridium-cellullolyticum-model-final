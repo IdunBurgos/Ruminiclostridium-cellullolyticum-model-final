{
 "cells": [
  {
   "cell_type": "markdown",
   "id": "46c2b529-af5c-4598-973f-9ba522203211",
   "metadata": {},
   "source": [
    "# Build draft model"
   ]
  },
  {
   "cell_type": "code",
   "execution_count": null,
   "id": "735756cb-5188-446a-a215-c91d54dfb1a2",
   "metadata": {
    "tags": []
   },
   "outputs": [],
   "source": [
    "!carve --refseq GCF_000022065.1 -o ../models/RcH10_draft.xml -u grampos --fbc2 \\\n",
    "   --gapfill MM_xylose,MM_arabinose,MM_glucose,MM_galactose,MM_mannose,MM_cellobiose,DM_cellobiose,DM_cellulose,DM_xyloglucan,DM_cellulose_2,BM_xylan  \\\n",
    "   -i MM_glucose --mediadb ../input/media_db.tsv -v --soft ../input/soft_constraints.tsv --hard ../input/hard_constraints.tsv "
   ]
  },
  {
   "cell_type": "markdown",
   "id": "f30a5b87-2c8a-4ec9-96b7-4174258c182c",
   "metadata": {},
   "source": [
    "### Clean up..."
   ]
  },
  {
   "cell_type": "code",
   "execution_count": null,
   "id": "8d403422-e66b-4908-a99b-de38808ab254",
   "metadata": {},
   "outputs": [],
   "source": [
    "!rm GCF_*"
   ]
  },
  {
   "cell_type": "code",
   "execution_count": null,
   "id": "04a0b358-e747-41ee-a202-94d3f268a253",
   "metadata": {},
   "outputs": [],
   "source": []
  }
 ],
 "metadata": {
  "kernelspec": {
   "display_name": "Python 3 (ipykernel)",
   "language": "python",
   "name": "python3"
  },
  "language_info": {
   "codemirror_mode": {
    "name": "ipython",
    "version": 3
   },
   "file_extension": ".py",
   "mimetype": "text/x-python",
   "name": "python",
   "nbconvert_exporter": "python",
   "pygments_lexer": "ipython3",
   "version": "3.10.8"
  }
 },
 "nbformat": 4,
 "nbformat_minor": 5
}
