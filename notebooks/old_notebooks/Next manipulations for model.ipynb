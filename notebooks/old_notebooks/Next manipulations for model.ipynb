{
 "cells": [
  {
   "cell_type": "markdown",
   "id": "e61322f6-b33a-4e98-b7b4-0a62a36433dd",
   "metadata": {},
   "source": [
    "# Additional manipulations in the future"
   ]
  },
  {
   "cell_type": "code",
   "execution_count": 38,
   "id": "0703698f-4b28-4a2e-80d5-619778463d7e",
   "metadata": {},
   "outputs": [],
   "source": [
    "from reframed import pFBA, Environment, FVA, FBA, load_cbmodel, plot_flux_envelope, gene_knockout"
   ]
  },
  {
   "cell_type": "code",
   "execution_count": 39,
   "id": "33bf81ee-6a7f-4e0d-a52b-914f7592de96",
   "metadata": {},
   "outputs": [],
   "source": [
    "model = load_cbmodel(\"../models/RcH10_final.xml\")"
   ]
  },
  {
   "cell_type": "markdown",
   "id": "0224f34c-316d-4ac1-b494-af7f57d09874",
   "metadata": {},
   "source": [
    "### With these manipulations we can control the acetate to ethanol ratio with the flow through FNRR, which is according to the mentions in the literature (need to check if the effect is as expected though)"
   ]
  },
  {
   "cell_type": "code",
   "execution_count": 40,
   "id": "2afa44eb-9816-4f6b-8bc7-6eb04ab9111e",
   "metadata": {},
   "outputs": [
    {
     "name": "stdout",
     "output_type": "stream",
     "text": [
      "R_EX_cellb_e -10\n",
      "R_EX_nh4_e   -7.34285\n",
      "R_EX_so4_e   -6.26787\n",
      "R_EX_pi_e    -0.64969\n",
      "R_EX_k_e     -0.144888\n",
      "R_EX_mg2_e   -0.00643928\n",
      "R_EX_fe3_e   -0.00579573\n",
      "R_EX_fe2_e   -0.00498441\n",
      "R_EX_ca2_e   -0.00386357\n",
      "R_EX_cl_e    -0.00386357\n",
      "R_EX_cu2_e   -0.000526277\n",
      "R_EX_mn2_e   -0.000512916\n",
      "R_EX_ribflv_e -0.000331057\n",
      "R_EX_zn2_e   -0.000253118\n",
      "R_EX_cobalt2_e -7.42281e-05\n",
      "R_EX_4hba_e   0.000165529\n",
      "R_EX_succ_e   0.000587886\n",
      "R_EX_d23hb_e  0.279359\n",
      "R_EX_h2o_e    3.50856\n",
      "R_EX_h_e      5.24989\n",
      "R_EX_h2s_e    6.08184\n",
      "R_EX_ac_e     11.2962\n",
      "R_EX_etoh_e   18.4498\n",
      "R_EX_co2_e    31.0293\n"
     ]
    }
   ],
   "source": [
    "sol = pFBA(model,constraints={\"R_FNRR\":(-1,1),\"R_SKDH_1\":0,\"R_G3PD2\":(-1000,0),\"R_13PPDH2\":(0,1000),\"R_ALCD2y\":(-1000,0),\"R_ALCD19y\":(0,1000),\"R_ALCD4\":(0,1000),\"R_MECDPDH4E\":(0,1000)})\n",
    "\n",
    "sol.show_values(pattern=\"R_EX_\",sort=True)"
   ]
  },
  {
   "cell_type": "markdown",
   "id": "07b0dfb8-3b0e-4cc3-9738-ba0cdb067ddf",
   "metadata": {},
   "source": [
    "**More likely to be NADP dependent** https://www.uniprot.org/uniprotkb/B8I7B9/entry"
   ]
  },
  {
   "cell_type": "code",
   "execution_count": 4,
   "id": "f921060f-e01c-46dd-a127-9e3fcebb85d6",
   "metadata": {},
   "outputs": [
    {
     "data": {
      "text/plain": [
       "R_SKDH_1: M_3dhsk_c + M_h_c + M_nadh_c --> M_nad_c + M_skm_c"
      ]
     },
     "execution_count": 4,
     "metadata": {},
     "output_type": "execute_result"
    }
   ],
   "source": [
    "model.reactions.R_SKDH_1"
   ]
  },
  {
   "cell_type": "markdown",
   "id": "4bb0302e-c202-45f1-b06f-2bdd7bdebda5",
   "metadata": {},
   "source": [
    "**Cycling of M_glyc3p_c/M_dhap_c**: https://www.uniprot.org/uniprotkb/B8I440/entry"
   ]
  },
  {
   "cell_type": "code",
   "execution_count": 5,
   "id": "3f0d64c0-3a77-4d94-8573-2be49d867e9a",
   "metadata": {},
   "outputs": [
    {
     "data": {
      "text/plain": [
       "'Glycerol 3 phosphate dehydrogenase  NAD'"
      ]
     },
     "execution_count": 5,
     "metadata": {},
     "output_type": "execute_result"
    }
   ],
   "source": [
    "model.reactions.R_G3PD1ir.name"
   ]
  },
  {
   "cell_type": "code",
   "execution_count": 6,
   "id": "18d8b3dd-cb40-4901-9dfb-4307e4ad3e1c",
   "metadata": {},
   "outputs": [
    {
     "data": {
      "text/plain": [
       "G_WP_015925573_1"
      ]
     },
     "execution_count": 6,
     "metadata": {},
     "output_type": "execute_result"
    }
   ],
   "source": [
    "model.reactions.R_G3PD1ir.gpr"
   ]
  },
  {
   "cell_type": "code",
   "execution_count": 7,
   "id": "8b2a8853-548c-46d2-9ec0-ebebcef89236",
   "metadata": {},
   "outputs": [
    {
     "data": {
      "text/plain": [
       "R_G3PD1ir: M_dhap_c + M_h_c + M_nadh_c <-> M_glyc3p_c + M_nad_c"
      ]
     },
     "execution_count": 7,
     "metadata": {},
     "output_type": "execute_result"
    }
   ],
   "source": [
    "model.reactions.R_G3PD1ir"
   ]
  },
  {
   "cell_type": "code",
   "execution_count": 8,
   "id": "fff1ad45-06a0-4f9b-944e-4d8d36d51109",
   "metadata": {},
   "outputs": [
    {
     "data": {
      "text/plain": [
       "R_MECDPDH4E: M_2mecdp_c + 2.0 M_fdxrd_c + M_h_c <-> 2.0 M_fdxo_2_2_c + M_h2mb4p_c + M_h2o_c"
      ]
     },
     "execution_count": 8,
     "metadata": {},
     "output_type": "execute_result"
    }
   ],
   "source": [
    "model.reactions.R_MECDPDH4E"
   ]
  },
  {
   "cell_type": "code",
   "execution_count": 9,
   "id": "bc5e103c-5532-4ea1-96c2-ffd9bdad80a5",
   "metadata": {},
   "outputs": [
    {
     "data": {
      "text/plain": [
       "['R_DMPPS', 'R_IPDPS', 'R_MECDPDH2', 'R_MECDPDH4E']"
      ]
     },
     "execution_count": 9,
     "metadata": {},
     "output_type": "execute_result"
    }
   ],
   "source": [
    "model.get_metabolite_reactions(\"M_h2mb4p_c\")"
   ]
  },
  {
   "cell_type": "code",
   "execution_count": 12,
   "id": "98e27752-75a6-4da8-b1f5-f4f19dbe52b3",
   "metadata": {},
   "outputs": [
    {
     "name": "stdout",
     "output_type": "stream",
     "text": [
      "[ o <-- ] R_SULR_1      6.26465  \t3.0 M_h2o_c + M_h2s_c + 3.0 M_nadp_c <-> 5.0 M_h_c + 3.0 M_nadph_c + M_so3_c\n",
      "[ o --> ] R_AHSERL2    -0.114244 \tM_achms_c + M_h2s_c --> M_ac_c + M_h_c + M_hcys__L_c\n",
      "[ o --> ] R_CYSS       -0.0685711\tM_acser_c + M_h2s_c --> M_ac_c + M_cys__L_c + M_h_c\n",
      "[ o --> ] R_H2St1      -6.08184  \tM_h2s_c <-> M_h2s_e\n"
     ]
    }
   ],
   "source": [
    "sol.show_metabolite_balance(\"M_h2s_c\",model,equations=True)"
   ]
  },
  {
   "cell_type": "code",
   "execution_count": 34,
   "id": "d366e70f-211c-4b34-9b44-ddb6f2f009ae",
   "metadata": {},
   "outputs": [
    {
     "name": "stdout",
     "output_type": "stream",
     "text": [
      "R_EX_h2o_e   -24.7398\n",
      "R_EX_cellb_e -10\n",
      "R_EX_nh4_e   -7.78199\n",
      "R_EX_pi_e    -0.688545\n",
      "R_EX_so4_e   -0.197161\n",
      "R_EX_k_e     -0.153553\n",
      "R_EX_mg2_e   -0.00682439\n",
      "R_EX_fe3_e   -0.00614234\n",
      "R_EX_fe2_e   -0.00528251\n",
      "R_EX_ca2_e   -0.00409463\n",
      "R_EX_cl_e    -0.00409463\n",
      "R_EX_cu2_e   -0.000557751\n",
      "R_EX_mn2_e   -0.000543591\n",
      "R_EX_ribflv_e -0.000350856\n",
      "R_EX_zn2_e   -0.000268256\n",
      "R_EX_cobalt2_e -7.86673e-05\n",
      "R_EX_4hba_e   0.000175428\n",
      "R_EX_succ_e   0.000623045\n",
      "R_EX_d23hb_e  0.296066\n",
      "R_EX_etoh_e   13.887\n",
      "R_EX_ac_e     15.2457\n",
      "R_EX_h_e      21.729\n",
      "R_EX_co2_e    30.4928\n",
      "R_EX_h2_e     32.3302\n"
     ]
    }
   ],
   "source": [
    "sol = pFBA(model,constraints={\"R_FNRR\":(-10,10),\"R_EX_h2s_e\":0,\"R_SKDH_1\":0,\"R_G3PD2\":(-1000,0),\"R_13PPDH2\":(0,1000),\"R_ALCD2y\":(-1000,0),\"R_ALCD19y\":(0,1000),\"R_ALCD4\":(0,1000),\"R_MECDPDH4E\":(0,1000)})\n",
    "\n",
    "sol.show_values(pattern=\"R_EX_\",sort=True)"
   ]
  },
  {
   "cell_type": "code",
   "execution_count": 28,
   "id": "07ecf32d-313d-4126-87e6-aa428cabd821",
   "metadata": {},
   "outputs": [
    {
     "name": "stdout",
     "output_type": "stream",
     "text": [
      "[ o <-- ] R_SULR_1      0.177236 \t3.0 M_h2o_c + M_h2s_c + 3.0 M_nadp_c <-> 5.0 M_h_c + 3.0 M_nadph_c + M_so3_c\n",
      "[ o --> ] R_AHSERL2    -0.110757 \tM_achms_c + M_h2s_c --> M_ac_c + M_h_c + M_hcys__L_c\n",
      "[ o --> ] R_CYSS       -0.0664784\tM_acser_c + M_h2s_c --> M_ac_c + M_cys__L_c + M_h_c\n"
     ]
    }
   ],
   "source": [
    "sol.show_metabolite_balance(\"M_h2s_c\",model,equations=True)"
   ]
  },
  {
   "cell_type": "code",
   "execution_count": 29,
   "id": "fe3b9587-6809-4592-a344-2f58f9c190db",
   "metadata": {},
   "outputs": [
    {
     "data": {
      "text/plain": [
       "(G_WP_015925414_1 or G_WP_015926673_1)"
      ]
     },
     "execution_count": 29,
     "metadata": {},
     "output_type": "execute_result"
    }
   ],
   "source": [
    "model.reactions.R_AHSERL2.gpr"
   ]
  },
  {
   "cell_type": "code",
   "execution_count": 30,
   "id": "16ccd309-98a4-49e4-85ff-bf8712a3c378",
   "metadata": {},
   "outputs": [
    {
     "data": {
      "text/plain": [
       "(G_WP_012634859_1 or G_WP_015926534_1)"
      ]
     },
     "execution_count": 30,
     "metadata": {},
     "output_type": "execute_result"
    }
   ],
   "source": [
    "model.reactions.R_CYSS.gpr"
   ]
  },
  {
   "cell_type": "markdown",
   "id": "6b1fcdc0-6289-491f-953e-44a785571ec3",
   "metadata": {
    "tags": []
   },
   "source": [
    "### This is an interesting reaction that seems to have a large effect on the phenotype of R. cellulolyticum. It has a high annotation score in UniProt, but I don't see any mentions of it otherwise in literature [ref](https://www.uniprot.org/uniprotkb?query=WP_012634895.1). \n"
   ]
  },
  {
   "cell_type": "code",
   "execution_count": 37,
   "id": "d104b954-c81f-4724-aaf2-eaffdc22f2d3",
   "metadata": {},
   "outputs": [
    {
     "data": {
      "text/plain": [
       "G_WP_012634895_1"
      ]
     },
     "execution_count": 37,
     "metadata": {},
     "output_type": "execute_result"
    }
   ],
   "source": [
    "model.reactions.R_MECDPDH4E.gpr"
   ]
  },
  {
   "cell_type": "markdown",
   "id": "407cf0dd-4e1d-4416-a1ee-a1f35bf5eea7",
   "metadata": {},
   "source": [
    "### Sulfur metabilism in R. cellulolyticum\n",
    "\n",
    "According to KEGG there are few active reactions for sulfate consumption in R. cellulyticum [KEGG link](https://www.genome.jp/pathway/cce00920). However some of these reactions seem to be necessary for the model to grow. "
   ]
  },
  {
   "cell_type": "code",
   "execution_count": 84,
   "id": "a92a9793-3f5a-468a-99a5-9b328413ee3e",
   "metadata": {},
   "outputs": [
    {
     "name": "stdout",
     "output_type": "stream",
     "text": [
      "R_EX_cellb_e -10\n",
      "R_EX_so4_e   -10\n",
      "R_EX_h_e      0.5\n",
      "R_EX_h2_e     1\n",
      "R_EX_h2o_e    9.5\n",
      "R_EX_h2s_e    10\n",
      "R_EX_etoh_e   19.5\n",
      "R_EX_ac_e     20.5\n",
      "R_EX_co2_e    40\n"
     ]
    }
   ],
   "source": [
    "sol = pFBA(model,\n",
    "           objective={\"R_ATPM\":1},\n",
    "           constraints={\"R_FNRR\":(-1,1),\"R_SKDH_1\":0,\"R_G3PD2\":(-1000,0),\"R_13PPDH2\":(0,1000),\"R_ALCD2y\":(-1000,0),\"R_ALCD19y\":(0,1000),\"R_ALCD4\":(0,1000),\"R_MECDPDH4E\":(0,1000)})\n",
    "\n",
    "sol.show_values(pattern=\"R_EX_\",sort=True)"
   ]
  },
  {
   "cell_type": "code",
   "execution_count": 85,
   "id": "ce9dc92f-b65c-43d6-b53d-34965c8b2d32",
   "metadata": {},
   "outputs": [
    {
     "name": "stdout",
     "output_type": "stream",
     "text": [
      "R_EX_cellb_e -10\n",
      "R_EX_h2o_e   -10\n",
      "R_EX_so4_e   -10\n",
      "R_EX_h2s_e    10\n",
      "R_EX_h_e      20\n",
      "R_EX_ac_e     40\n",
      "R_EX_co2_e    40\n",
      "R_EX_h2_e     40\n"
     ]
    }
   ],
   "source": [
    "sol = pFBA(model,\n",
    "           objective={\"R_ATPM\":1},\n",
    "           constraints={\"R_SKDH_1\":0,\"R_G3PD2\":(-1000,0),\"R_13PPDH2\":(0,1000),\"R_ALCD2y\":(-1000,0),\"R_ALCD19y\":(0,1000),\"R_ALCD4\":(0,1000),\"R_MECDPDH4E\":(0,1000)})\n",
    "\n",
    "sol.show_values(pattern=\"R_EX_\",sort=True)"
   ]
  },
  {
   "cell_type": "code",
   "execution_count": 86,
   "id": "86be2da7-3d1c-43d1-8954-a6bba2755def",
   "metadata": {},
   "outputs": [
    {
     "data": {
      "text/plain": [
       "72.5"
      ]
     },
     "execution_count": 86,
     "metadata": {},
     "output_type": "execute_result"
    }
   ],
   "source": [
    "sol.values[\"R_ATPM\"]"
   ]
  },
  {
   "cell_type": "code",
   "execution_count": 87,
   "id": "0fc52313-2c45-4f6e-b5b1-02f71fc61879",
   "metadata": {},
   "outputs": [
    {
     "name": "stdout",
     "output_type": "stream",
     "text": [
      "[ --> o ] R_PYK         50       \tM_adp_c + M_h_c + M_pep_c --> M_atp_c + M_pyr_c\n",
      "[ --> o ] R_ATPS4r      2.5      \tM_adp_c + M_pi_c + 4.0 M_h_e <-> M_atp_c + 3.0 M_h_c + M_h2o_c\n",
      "[ o <-- ] R_ACKr        40       \tM_ac_c + M_atp_c <-> M_actp_c + M_adp_c\n",
      "[ o <-- ] R_PGK         40       \tM_3pg_c + M_atp_c <-> M_13dpg_c + M_adp_c\n",
      "[ o --> ] R_ADK1       -20       \tM_amp_c + M_atp_c <-> 2.0 M_adp_c\n",
      "[ o --> ] R_PPDK       -20       \tM_atp_c + M_pi_c + M_pyr_c --> M_amp_c + M_h_c + M_pep_c + M_ppi_c\n",
      "[ o --> ] R_ATPM       -72.5     \tM_atp_c + M_h2o_c --> M_adp_c + M_h_c + M_pi_c\n",
      "[ o --> ] R_Cellbabc   -20       \tM_cellb_e + 2.0 M_atp_c + 2.0 M_h2o_c --> M_cellb_c + 2.0 M_adp_c + 2.0 M_h_c + 2.0 M_pi_c\n"
     ]
    }
   ],
   "source": [
    "sol.show_metabolite_balance(\"M_atp_c\",model,equations=True)"
   ]
  },
  {
   "cell_type": "code",
   "execution_count": 88,
   "id": "5cbfd1f4-f379-4f03-ac66-f084c33dede3",
   "metadata": {},
   "outputs": [
    {
     "name": "stdout",
     "output_type": "stream",
     "text": [
      "[ --> o ] R_GAPD        40       \tM_g3p_c + M_nad_c + M_pi_c <-> M_13dpg_c + M_h_c + M_nadh_c\n",
      "[ --> o ] R_PAPSR       20       \tM_paps_c + M_trdrd_c --> 2.0 M_h_c + M_pap_c + M_so3_c + M_trdox_c\n",
      "[ --> o ] R_POR_syn     40       \tM_coa_c + 2.0 M_fdxo_2_2_c + M_pyr_c --> M_accoa_c + M_co2_c + 2.0 M_fdxrd_c + M_h_c\n",
      "[ --> o ] R_PPDK        20       \tM_atp_c + M_pi_c + M_pyr_c --> M_amp_c + M_h_c + M_pep_c + M_ppi_c\n",
      "[ --> o ] R_SO4t2       10       \tM_h_e + M_so4_e --> M_h_c + M_so4_c\n",
      "[ --> o ] R_ATPM        72.5     \tM_atp_c + M_h2o_c --> M_adp_c + M_h_c + M_pi_c\n",
      "[ --> o ] R_Cellbabc    20       \tM_cellb_e + 2.0 M_atp_c + 2.0 M_h2o_c --> M_cellb_c + 2.0 M_adp_c + 2.0 M_h_c + 2.0 M_pi_c\n",
      "[ --> o ] R_PFK_ppi     20       \tM_f6p_c + M_ppi_c <-> M_fdp_c + M_h_c + M_pi_c\n",
      "[ --> o ] R_HEX1_gtp    10       \tM_glc__D_c + M_gtp_c <-> M_g6p_c + M_gdp_c + M_h_c\n",
      "[ --> o ] R_ATPS4r      7.5      \tM_adp_c + M_pi_c + 4.0 M_h_e <-> M_atp_c + 3.0 M_h_c + M_h2o_c\n",
      "[ o <-- ] R_FNRR        40       \t2.0 M_fdxrd_c + M_h_c + M_nad_c <-> 2.0 M_fdxo_2_2_c + M_nadh_c\n",
      "[ o --> ] R_PAPSSH     -20       \t2.0 M_h_c + M_pap_c + M_so4_c <-> M_h2o_c + M_paps_c\n",
      "[ o --> ] R_PYK        -50       \tM_adp_c + M_h_c + M_pep_c --> M_atp_c + M_pyr_c\n",
      "[ o --> ] R_PYK3       -10       \tM_gdp_c + M_h_c + M_pep_c --> M_gtp_c + M_pyr_c\n",
      "[ o --> ] R_TRDR       -10       \tM_h_c + M_nadph_c + M_trdox_c --> M_nadp_c + M_trdrd_c\n",
      "[ o --> ] R_FNRR2      -40       \t2.0 M_fdxrd_c + M_h_c + M_nadp_c <-> 2.0 M_fdxo_2_2_c + M_nadph_c\n",
      "[ <-- o ] R_FNRR3      -80       \t2.0 M_fdxo_2_2_c + M_h2_c <-> 2.0 M_fdxrd_c + 2.0 M_h_c\n",
      "[ <-- o ] R_SULR_1     -50       \t3.0 M_h2o_c + M_h2s_c + 3.0 M_nadp_c <-> 5.0 M_h_c + 3.0 M_nadph_c + M_so3_c\n",
      "[ <-- o ] R_ACt2r      -40       \tM_ac_e + M_h_e <-> M_ac_c + M_h_c\n"
     ]
    }
   ],
   "source": [
    "sol.show_metabolite_balance(\"M_h_c\",model,equations=True)"
   ]
  },
  {
   "cell_type": "markdown",
   "id": "1903f15d-0464-4584-81fb-e8890b445435",
   "metadata": {},
   "source": [
    "**Adding cysteine as a sulfur source instead of so4**"
   ]
  },
  {
   "cell_type": "code",
   "execution_count": 110,
   "id": "4d291645-d4ae-437b-80a1-7914253c5802",
   "metadata": {},
   "outputs": [],
   "source": [
    "env = Environment.from_model(model).simplify()\n",
    "\n",
    "env[\"R_EX_cys__L_e\"]=(-10,0)\n",
    "\n",
    "env.apply(model,inplace=True)"
   ]
  },
  {
   "cell_type": "markdown",
   "id": "7009ba40-ec9b-4937-aa58-d1f94b5cef2a",
   "metadata": {},
   "source": [
    "R_PAPSSH and R_PAPSR - no GPR\n",
    "\n",
    "R_CYSDS \n",
    "- low confidence GPR [uniprot link](https://www.uniprot.org/uniprotkb?query=WP_015926533.1)\n",
    "- annotaed in KEGG but has multiple substrte associations [kegg r.cell network - 4.4.1.1](https://www.genome.jp/pathway/cce00270)\n",
    "\n",
    "R_SHSL2r\n",
    "- low confidence GPR [uniprot link](https://www.uniprot.org/uniprotkb?query=WP_015926673.1)\n",
    "- not annotated in KEGG [kegg reaction](https://www.kegg.jp/entry/R01288), [kegg r.cell network - 2.5.1.48 or 2.5.1.-](https://www.genome.jp/pathway/cce00270)\n"
   ]
  },
  {
   "cell_type": "code",
   "execution_count": 142,
   "id": "16dc04f0-5283-4b24-9651-dc8a9caed115",
   "metadata": {},
   "outputs": [
    {
     "name": "stdout",
     "output_type": "stream",
     "text": [
      "R_EX_h2o_e   -37.1245\n",
      "R_EX_cellb_e -10\n",
      "R_EX_nh4_e   -9.56864\n",
      "R_EX_pi_e    -0.868243\n",
      "R_EX_cys__L_e -0.244313\n",
      "R_EX_k_e     -0.193628\n",
      "R_EX_d23hb_e  0.373334\n",
      "R_EX_ac_e     26.5409\n",
      "R_EX_co2_e    28.2559\n",
      "R_EX_h_e      34.9605\n",
      "R_EX_h2_e     56.1334\n"
     ]
    }
   ],
   "source": [
    "sol = pFBA(model,constraints={\"R_FNRR\":0,\"R_PAPSSH\":0,\"R_PAPSR\":0,\"R_SHSL2r\":0,\"R_CYSDS\":0})\n",
    "\n",
    "sol.show_values(pattern=\"R_EX_\",sort=True,abstol=1e-2)"
   ]
  },
  {
   "cell_type": "code",
   "execution_count": 138,
   "id": "89925268-a398-4038-99f7-44ab23b090cb",
   "metadata": {},
   "outputs": [
    {
     "name": "stdout",
     "output_type": "stream",
     "text": [
      "[ --> o ] R_CYSDS       9.90507  \tM_cys__L_c + M_h2o_c --> M_h2s_c + M_nh4_c + M_pyr_c\n",
      "[ o --> ] R_AHSERL2    -0.158162 \tM_achms_c + M_h2s_c --> M_ac_c + M_h_c + M_hcys__L_c\n",
      "[ o --> ] R_H2St1      -9.74691  \tM_h2s_c <-> M_h2s_e\n"
     ]
    }
   ],
   "source": [
    "sol.show_metabolite_balance(\"M_h2s_c\",model,equations=True)"
   ]
  },
  {
   "cell_type": "code",
   "execution_count": null,
   "id": "a994da8c-a9b4-4dd9-8f84-187e68eef5df",
   "metadata": {},
   "outputs": [],
   "source": []
  },
  {
   "cell_type": "markdown",
   "id": "3dd7440a-496d-43e2-bc52-02f0f1d2cecf",
   "metadata": {},
   "source": [
    "### Oxygen dependent reactions\n",
    "\n",
    "\n",
    "Struggling to find any connection between these and many of them are not connected to any pathway maps - making it difficult to evaluate how to replace them. [UniProt link for all proteins](https://www.uniprot.org/uniprotkb?dir=ascend&query=WP_015924507.1+OR+WP_015924507.1+OR+WP_015925016.1+OR+WP_015926819.1+OR+WP_015925244.1+OR+WP_015926819.1+OR+WP_015926819.1+OR+WP_015924168.1+OR+WP_015924167.1+OR+WP_015924495.1+OR+WP_015925108.1+OR+WP_015924495.1+OR+WP_015925108.1+OR+WP_015924622.1+OR+WP_015924656.1+OR+WP_015925900.1+OR+spontaneo.1+OR+WP_015924462.1+OR+WP_015924238.1&sort=annotation_score). \n",
    "\n",
    "\n",
    "We need to:\n",
    "1. Find the essential reactions/genes - find replacements\n",
    "2. Delete everything else/find replacements for important proteins (high annoation scores)"
   ]
  },
  {
   "cell_type": "code",
   "execution_count": 143,
   "id": "f7c96071-039d-496f-baed-f149ea0960a1",
   "metadata": {},
   "outputs": [
    {
     "name": "stdout",
     "output_type": "stream",
     "text": [
      "R_ACOAD20: 2.0 M_2mbcoa_c + M_o2_c --> 2.0 M_2mb2coa_c + 2.0 M_h2o_c\n",
      "G_WP_015924507_1\n",
      "R_ACOADH2: 2.0 M_ibcoa_c + M_o2_c --> 2.0 M_2mp2coa_c + 2.0 M_h2o_c\n",
      "G_WP_015924507_1\n",
      "R_AHMMPS_1: M_air_c + M_h2o_c --> M_4ahmmp_c + M_gcald_c + 0.5 M_o2_c + M_pi_c\n",
      "G_WP_015925016_1\n",
      "R_ASPO1: M_asp__L_c + M_h2o_c + M_o2_c --> M_h2o2_c + M_nh4_c + M_oaa_c\n",
      "(G_WP_015925244_1 or G_WP_015926819_1)\n",
      "R_ASPO5_2: M_asp__L_c + M_h2o_c + M_o2_c --> M_h2o2_c + M_h_c + M_nh3_c + M_oaa_c\n",
      "G_WP_015926819_1\n",
      "R_ASPO6: M_asp__L_c + M_o2_c --> M_h2o2_c + M_h_c + M_iasp_c\n",
      "G_WP_015926819_1\n",
      "R_DHORDi: M_dhor__S_c + M_o2_c --> M_h2o2_c + M_orot_c\n",
      "(G_WP_015924167_1 and G_WP_015924168_1)\n",
      "R_FAS161: 4.0 M_h_c + M_malcoa_c + 3.0 M_nadph_c + M_o2_c + M_ttdca_c --> M_co2_c + M_coa_c + 3.0 M_h2o_c + M_hdcea_c + 3.0 M_nadp_c\n",
      "(G_WP_015924495_1 and G_WP_015925108_1)\n",
      "R_FAS181: 4.0 M_h_c + M_hdca_c + M_malcoa_c + 3.0 M_nadph_c + M_o2_c --> M_co2_c + M_coa_c + 3.0 M_h2o_c + 3.0 M_nadp_c + M_ocdcea_c\n",
      "(G_WP_015924495_1 and G_WP_015925108_1)\n",
      "R_GBDM: M_glyb_c + M_h2o_c + M_o2_c --> M_dmgly_c + M_fald_c + M_h2o2_c\n",
      "G_WP_015924622_1\n",
      "R_NOX: M_h_c + M_nadh_c + M_o2_c --> M_h2o2_c + M_nad_c\n",
      "(G_WP_015924656_1 or G_WP_015925900_1)\n",
      "R_O2tpp: M_o2_p <-> M_o2_c\n",
      "G_spontaneous\n",
      "R_SARCOX: M_h2o_c + M_o2_c + M_sarcs_c --> M_fald_c + M_gly_c + M_h2o2_c\n",
      "G_WP_015924462_1\n"
     ]
    }
   ],
   "source": [
    "for rxn in model.get_metabolite_reactions(\"M_o2_c\"):\n",
    "    if len(model.reactions[rxn].get_genes())!=0:\n",
    "        print(model.reactions[rxn])\n",
    "        print(model.reactions[rxn].gpr)\n"
   ]
  }
 ],
 "metadata": {
  "kernelspec": {
   "display_name": "rcell_rec",
   "language": "python",
   "name": "rcell_rec"
  },
  "language_info": {
   "codemirror_mode": {
    "name": "ipython",
    "version": 3
   },
   "file_extension": ".py",
   "mimetype": "text/x-python",
   "name": "python",
   "nbconvert_exporter": "python",
   "pygments_lexer": "ipython3",
   "version": "3.8.6"
  }
 },
 "nbformat": 4,
 "nbformat_minor": 5
}
