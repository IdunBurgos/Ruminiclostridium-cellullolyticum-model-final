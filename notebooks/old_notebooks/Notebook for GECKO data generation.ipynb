{
 "cells": [
  {
   "cell_type": "code",
   "execution_count": 1,
   "id": "3fcdedae-aa34-4e2a-a756-acae046c3d57",
   "metadata": {},
   "outputs": [],
   "source": [
    "import pandas as pd"
   ]
  },
  {
   "cell_type": "code",
   "execution_count": 56,
   "id": "cc94162d-d097-4bb4-871d-0cb45c230604",
   "metadata": {},
   "outputs": [],
   "source": [
    "uniprot = pd.read_csv(\"uniprotkb_taxonomy_id_1521_2024_10_21.tsv\",sep=\"\\t\")\n",
    "\n",
    "uniprot = uniprot.dropna().copy()\n",
    "\n",
    "uniprot[\"genes\"] = uniprot.RefSeq.map(lambda x: x.replace(\".1;\",\"_1\"))\n",
    "\n",
    "\n",
    "\n",
    "uniprot.drop([\"Gene Names\",\"RefSeq\"],axis=1,inplace=True)\n",
    "\n",
    "uniprot.columns = [\"geneUniProtID\",\"genes\"]\n",
    "\n",
    "uniprot.set_index(\"genes\",inplace=True)"
   ]
  },
  {
   "cell_type": "code",
   "execution_count": 57,
   "id": "c5f6e27a-ff7b-49b1-bf36-f14192d91ee6",
   "metadata": {},
   "outputs": [],
   "source": [
    "uniprot.to_csv(\"/Users/idunmariaburgos/protein_constraints/ecRcellGEM/data/uniprotConversion.tsv\",sep=\"\\t\")"
   ]
  },
  {
   "cell_type": "code",
   "execution_count": null,
   "id": "03ca3797-1239-47ef-a753-41662b70e770",
   "metadata": {},
   "outputs": [],
   "source": []
  }
 ],
 "metadata": {
  "kernelspec": {
   "display_name": "rcell_rec",
   "language": "python",
   "name": "rcell_rec"
  },
  "language_info": {
   "codemirror_mode": {
    "name": "ipython",
    "version": 3
   },
   "file_extension": ".py",
   "mimetype": "text/x-python",
   "name": "python",
   "nbconvert_exporter": "python",
   "pygments_lexer": "ipython3",
   "version": "3.8.6"
  }
 },
 "nbformat": 4,
 "nbformat_minor": 5
}
