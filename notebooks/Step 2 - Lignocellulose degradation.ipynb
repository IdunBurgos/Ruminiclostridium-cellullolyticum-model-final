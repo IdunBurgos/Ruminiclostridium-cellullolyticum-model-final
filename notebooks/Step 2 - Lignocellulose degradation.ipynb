{
 "cells": [
  {
   "cell_type": "markdown",
   "id": "5a66bd26-bdd5-47cc-9aed-30c79225689d",
   "metadata": {},
   "source": [
    "# Reconstructing for lignocellulose degradation and uptake"
   ]
  },
  {
   "cell_type": "markdown",
   "id": "3cf22bb0-e4c8-4e01-99ff-dd280c663f44",
   "metadata": {},
   "source": [
    "### Common functions"
   ]
  },
  {
   "cell_type": "code",
   "execution_count": 1,
   "id": "7ba19a13-e003-4e34-b7e6-3d513b8c4e0c",
   "metadata": {
    "tags": []
   },
   "outputs": [],
   "source": [
    "import pandas as pd\n",
    "from reframed import Metabolite, GPRAssociation, Gene, Protein, ReactionType, CBReaction, load_cbmodel, save_cbmodel\n",
    "from reframed.io.sbml import parse_gpr_rule\n",
    "import json"
   ]
  },
  {
   "cell_type": "code",
   "execution_count": 2,
   "id": "a4c43595-3da0-42d3-bcdb-263619aaecad",
   "metadata": {
    "tags": []
   },
   "outputs": [],
   "source": [
    "def add_metabolites(model, df):\n",
    "\n",
    "    for index, row in df.iterrows():\n",
    "        met = Metabolite(met_id=row['Identifier'], name=row['Name'], compartment=\"C_\"+row['Compartment'])\n",
    "        met.metadata={'FORMULA':row['Formula'], 'CHARGE':str(row['Charge'])}                  \n",
    "        model.add_metabolite(met)\n",
    "\n",
    "        if met.compartment==\"C_e\":\n",
    "            rxn_id = \"R_EX_\" + row['Identifier']\n",
    "            name = \"Exchange of \" + row['Name']\n",
    "            rxn = CBReaction(reaction_id=rxn_id, name=name, reversible=True, stoichiometry={met.id: -1.0} , reaction_type=ReactionType.EXCHANGE)\n",
    "            model.add_reaction(rxn)"
   ]
  },
  {
   "cell_type": "code",
   "execution_count": 3,
   "id": "ada180e0-84c6-4a06-9574-ec14d9fa3e42",
   "metadata": {
    "tags": []
   },
   "outputs": [],
   "source": [
    "gene_id_map = pd.read_csv('../input/uniprot-proteome_UP000001349.tab', sep='\\t', usecols=[3,4], names=['name', 'refseq'], header=0)\n",
    "gene_id_map['name'] =  gene_id_map['name'].str.split()\n",
    "gene_id_map = gene_id_map.explode('name').dropna()\n",
    "gene_id_map['refseq'] = gene_id_map['refseq'].apply(lambda x: f'G_{x[:-3]}_1')\n",
    "gene_id_map = dict(gene_id_map.values)"
   ]
  },
  {
   "cell_type": "code",
   "execution_count": 4,
   "id": "ab1d5e1e-e70d-4465-932b-97b391206484",
   "metadata": {},
   "outputs": [],
   "source": [
    "def gene_str_to_GPR(gene_string):\n",
    "    gpr = parse_gpr_rule(gene_string)\n",
    "    \n",
    "    for protein in gpr.proteins:\n",
    "        protein.genes = [gene_id_map.get(x, 'G_' + x) for x in protein.genes]\n",
    "                \n",
    "    return gpr"
   ]
  },
  {
   "cell_type": "code",
   "execution_count": 5,
   "id": "14578223-141a-4f2b-a1dd-7e782b821542",
   "metadata": {},
   "outputs": [],
   "source": [
    "def add_reactions(model, df):\n",
    "\n",
    "    for index, row in df.iterrows():\n",
    "        \n",
    "        reaction_id = row['Identifier']\n",
    "        name = row['Enzyme']\n",
    "        reversible = False\n",
    "        stoichiometry = json.loads(row['Stoichiometry'])\n",
    "        reaction_type = ReactionType.ENZYMATIC\n",
    "        \n",
    "        if row['Transport']==1:\n",
    "            reaction_type=ReactionType.TRANSPORT \n",
    "        \n",
    "        rxn = CBReaction(reaction_id=reaction_id, name=name, reversible=reversible, stoichiometry=stoichiometry, reaction_type=reaction_type)\n",
    "        model.add_reaction(rxn)\n",
    "        \n",
    "        gpr = gene_str_to_GPR(row['Gene'])\n",
    "        model.set_gpr_association(rxn.id, gpr)"
   ]
  },
  {
   "cell_type": "markdown",
   "id": "1e0ceabd-e399-40ad-a3e5-f9b48d361477",
   "metadata": {},
   "source": [
    "### Load model"
   ]
  },
  {
   "cell_type": "code",
   "execution_count": 6,
   "id": "4848b009-0f5d-4d76-8986-99af9cde6cd5",
   "metadata": {},
   "outputs": [],
   "source": [
    "model = load_cbmodel('../models/RcH10_draft.xml')"
   ]
  },
  {
   "cell_type": "markdown",
   "id": "77df0640-edfc-4ea7-ab5c-694729123407",
   "metadata": {},
   "source": [
    "### Cellulose pathway"
   ]
  },
  {
   "cell_type": "code",
   "execution_count": 7,
   "id": "2d50ce97-9744-4270-817f-fe96fee3e47e",
   "metadata": {
    "tags": []
   },
   "outputs": [],
   "source": [
    "metabolites = pd.read_excel('../input/Polysaccharide degrading pathways.xlsx', sheet_name=\"Mets.  Cat. of cellodextrins \", usecols=\"A:E\").dropna()\n",
    "reactions = pd.read_excel('../input/Polysaccharide degrading pathways.xlsx', sheet_name=\"Rxns.  Cat. of cellodextrins \", usecols=\"A:F\").dropna()"
   ]
  },
  {
   "cell_type": "code",
   "execution_count": 8,
   "id": "d10cc8b8-c55a-48f2-a609-3cc552ef687d",
   "metadata": {
    "tags": []
   },
   "outputs": [],
   "source": [
    "add_metabolites(model, metabolites)\n",
    "add_reactions(model, reactions)"
   ]
  },
  {
   "cell_type": "markdown",
   "id": "25972e6f-4976-4af6-8391-51b5d9e26e3b",
   "metadata": {},
   "source": [
    "### Xyloglucan pathway"
   ]
  },
  {
   "cell_type": "code",
   "execution_count": 9,
   "id": "df977e15-74ad-401d-bd77-42e5ff9c1289",
   "metadata": {},
   "outputs": [],
   "source": [
    "metabolites = pd.read_excel('../input/Polysaccharide degrading pathways.xlsx', sheet_name=\"Mets. Cat. of xyloglu. oligosac\", usecols=\"A:E\").dropna()\n",
    "reactions = pd.read_excel('../input/Polysaccharide degrading pathways.xlsx',sheet_name=\"Rxns. Cat. of xyloglu. oligosac\", usecols=\"A:F\").dropna()"
   ]
  },
  {
   "cell_type": "code",
   "execution_count": 10,
   "id": "d203f462-4e4c-4de8-a682-bd51c3825d55",
   "metadata": {},
   "outputs": [],
   "source": [
    "add_metabolites(model, metabolites)\n",
    "add_reactions(model, reactions)"
   ]
  },
  {
   "cell_type": "markdown",
   "id": "3b7b0434-9d46-4c07-a123-d196ed91204a",
   "metadata": {},
   "source": [
    "### Arabinoxylan pathway"
   ]
  },
  {
   "cell_type": "code",
   "execution_count": 11,
   "id": "2b78b198-ae96-40f0-8de0-c12c490c112e",
   "metadata": {},
   "outputs": [],
   "source": [
    "metabolites = pd.read_excel('../input/Polysaccharide degrading pathways.xlsx', sheet_name=\"Mets. arabinoxylan\", usecols=\"A:E\").dropna()\n",
    "reactions = pd.read_excel('../input//Polysaccharide degrading pathways.xlsx', sheet_name=\"Rxns. Cat. of ara.xyl oligosac\", usecols=\"A:F\").dropna()\n",
    "add_metabolites(model, metabolites)\n",
    "add_reactions(model, reactions)"
   ]
  },
  {
   "cell_type": "markdown",
   "id": "2ce33b9a-5e64-4f3c-8ebd-e2a999608d30",
   "metadata": {},
   "source": [
    "### Save model"
   ]
  },
  {
   "cell_type": "code",
   "execution_count": 12,
   "id": "1cadbd67-0051-4fd1-818a-734dec976ba4",
   "metadata": {},
   "outputs": [],
   "source": [
    "save_cbmodel(model, '../models/RcH10_v1.xml')"
   ]
  },
  {
   "cell_type": "code",
   "execution_count": null,
   "id": "3c26f13f-3dd1-4ee0-921c-19ef778dc6b1",
   "metadata": {},
   "outputs": [],
   "source": []
  }
 ],
 "metadata": {
  "kernelspec": {
   "display_name": "Python 3 (ipykernel)",
   "language": "python",
   "name": "python3"
  },
  "language_info": {
   "codemirror_mode": {
    "name": "ipython",
    "version": 3
   },
   "file_extension": ".py",
   "mimetype": "text/x-python",
   "name": "python",
   "nbconvert_exporter": "python",
   "pygments_lexer": "ipython3",
   "version": "3.10.8"
  }
 },
 "nbformat": 4,
 "nbformat_minor": 5
}
