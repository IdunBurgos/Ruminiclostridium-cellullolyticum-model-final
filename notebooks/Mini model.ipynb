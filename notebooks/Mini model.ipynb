{
 "cells": [
  {
   "cell_type": "markdown",
   "id": "214129d4-ae1c-4e83-a936-f08dfbfdcfff",
   "metadata": {},
   "source": [
    "# Mini model and ATP yield"
   ]
  },
  {
   "cell_type": "markdown",
   "id": "5f804d40-8a57-4935-858a-f9091890d311",
   "metadata": {
    "tags": []
   },
   "source": [
    "## Mini model"
   ]
  },
  {
   "cell_type": "code",
   "execution_count": 27,
   "id": "ab12f6bc-98d3-4e38-8596-1e6238ac7a8a",
   "metadata": {
    "tags": []
   },
   "outputs": [],
   "source": [
    "import copy\n",
    "import reframed\n",
    "import cobra\n",
    "from reframed import FBA, Environment\n",
    "import pandas as pd"
   ]
  },
  {
   "cell_type": "code",
   "execution_count": 28,
   "id": "0b5822ef-9152-454a-ba28-d9e1a0c7086e",
   "metadata": {},
   "outputs": [],
   "source": [
    "dict_ = {\"exclusive\": [\n",
    "        \"test_annotation\",\n",
    "        \"test_basic\",\n",
    "        \"test_biomass\",\n",
    "        \"test_matrix\",\n",
    "        \"test_sbo\",\n",
    "        \"test_thermodynamics\"\n",
    "    ]\n",
    "}"
   ]
  },
  {
   "cell_type": "code",
   "execution_count": 29,
   "id": "94f4fc2e-7534-4311-8291-c7d5b1d1b847",
   "metadata": {},
   "outputs": [
    {
     "name": "stdout",
     "output_type": "stream",
     "text": [
      "JSON file saved as 'exclusive_tests.json'\n"
     ]
    }
   ],
   "source": [
    "import json\n",
    "with open(\"exclusive_tests.json\", \"w\") as json_file:\n",
    "    json.dump(dict_, json_file, indent=4)  # `indent=4` formats the JSON for readability\n",
    "\n",
    "print(\"JSON file saved as 'exclusive_tests.json'\")"
   ]
  },
  {
   "cell_type": "code",
   "execution_count": 30,
   "id": "81460267-77cc-47d9-b997-c61c3f3fb313",
   "metadata": {},
   "outputs": [],
   "source": [
    "import sys\n",
    "sys.path.append(\"../functions/\")\n",
    "import mini_model_function"
   ]
  },
  {
   "cell_type": "code",
   "execution_count": 31,
   "id": "489281a3-9f0d-424d-a355-7257362f252f",
   "metadata": {},
   "outputs": [
    {
     "name": "stdout",
     "output_type": "stream",
     "text": [
      "The autoreload extension is already loaded. To reload it, use:\n",
      "  %reload_ext autoreload\n"
     ]
    }
   ],
   "source": [
    "%load_ext autoreload\n",
    "%autoreload 2"
   ]
  },
  {
   "cell_type": "code",
   "execution_count": 32,
   "id": "06e1f4b4-2f43-4250-ba68-57a64b924287",
   "metadata": {
    "tags": []
   },
   "outputs": [],
   "source": [
    "model = reframed.load_cbmodel(\"../models/RcH10_v2.xml\")\n",
    "\n",
    "model_uni_cobra = cobra.io.read_sbml_model(\"../models/universe_grampos.xml\")\n",
    "\n",
    "model_cobra = cobra.io.read_sbml_model('../models/RcH10_v2.xml')\n",
    "\n",
    "model_uni = reframed.load_cbmodel(\"../models/universe_grampos.xml\")"
   ]
  },
  {
   "cell_type": "markdown",
   "id": "ba2225db-0918-407e-b251-14b75452052d",
   "metadata": {},
   "source": [
    "### Load models"
   ]
  },
  {
   "cell_type": "code",
   "execution_count": 33,
   "id": "b1516711-319c-437f-aac6-c9f83dbce245",
   "metadata": {},
   "outputs": [],
   "source": [
    "model_iFS431 = reframed.load_cbmodel(\"../models/iFS431.xml\",load_gprs=False,flavor=\"cobra\")\n",
    "model_iFS431.reactions.R_ATPM_LPAREN_prev_PERIOD_NGAM_RPAREN_.lb=0\n",
    "model_iFS431.reactions.R_ATPM_LPAREN_prev_PERIOD_NGAM_RPAREN_.ub=1000\n",
    "\n",
    "mini_model =  mini_model_function.build_mini_model()\n",
    "mini_model.add_reaction_from_str(\"R_EX_gtp_c: M_gtp_c -->\")\n",
    "mini_model.add_reaction_from_str(\"R_EX_gdp_c: M_gdp_c -->\")\n",
    "mini_model.add_reaction_from_str(\"R_EX_pi_c: M_pi_c -->\")\n",
    "mini_model.add_reaction_from_str(\"R_EX_ppi_c: M_ppi_c -->\")\n",
    "\n",
    "mini_model_inf = mini_model_function.build_mini_model(unique_cofactors=False)"
   ]
  },
  {
   "cell_type": "code",
   "execution_count": 34,
   "id": "08ec96d5-c0c6-4666-83eb-34b776bf4c3d",
   "metadata": {},
   "outputs": [
    {
     "data": {
      "text/plain": [
       "R_EX_BIOMASS_LPAREN_e_RPAREN_: M_cpd11416_e -->  @nan"
      ]
     },
     "execution_count": 34,
     "metadata": {},
     "output_type": "execute_result"
    }
   ],
   "source": [
    "model_iFS431.reactions.R_EX_BIOMASS_LPAREN_e_RPAREN_"
   ]
  },
  {
   "cell_type": "code",
   "execution_count": 35,
   "id": "4aa1f6c3-27cf-47c9-b1a6-1803b5e154a0",
   "metadata": {},
   "outputs": [
    {
     "data": {
      "text/plain": [
       "['R_BIOMASS']"
      ]
     },
     "execution_count": 35,
     "metadata": {},
     "output_type": "execute_result"
    }
   ],
   "source": [
    "model_iFS431.get_metabolite_reactions(\"M_cpd11416_c\")"
   ]
  },
  {
   "cell_type": "code",
   "execution_count": 36,
   "id": "ebaf4276-3d93-4169-8e59-5e08696148d3",
   "metadata": {},
   "outputs": [
    {
     "data": {
      "text/plain": [
       "R_BIOMASS: 40.0 M_cpd00002_c + 40.0 M_cpd00001_c + 0.5284 M_cpd11463_c + 0.026 M_cpd11461_c + 0.0655 M_cpd11613_c + 0.076 M_cpdcce02_c + M_cpdcce01_c + 0.0494 M_cpdcce04_c --> 40.0 M_cpd00008_c + 40.0 M_cpd00067_c + 40.0 M_cpd00009_c + M_cpd11416_c @nan"
      ]
     },
     "execution_count": 36,
     "metadata": {},
     "output_type": "execute_result"
    }
   ],
   "source": [
    "model_iFS431.reactions.R_BIOMASS"
   ]
  },
  {
   "cell_type": "code",
   "execution_count": 37,
   "id": "44269f81-94d3-4f4e-91b1-367420e629e4",
   "metadata": {},
   "outputs": [
    {
     "name": "stdout",
     "output_type": "stream",
     "text": [
      "ATP: M_cpd00002_c\n",
      "H2O: M_cpd00001_c\n",
      "PROTEIN: M_cpd11463_c\n",
      "DNA: M_cpd11461_c\n",
      "RNA: M_cpd11613_c\n",
      "PLIPID: M_cpdcce02_c\n",
      "CELLWALL: M_cpdcce01_c\n",
      "TRACE: M_cpdcce04_c\n"
     ]
    }
   ],
   "source": [
    "for met in model_iFS431.reactions.R_BIOMASS.get_substrates():\n",
    "    print(f\"{model_iFS431.metabolites[met].name}: {model_iFS431.metabolites[met].id}\")"
   ]
  },
  {
   "cell_type": "code",
   "execution_count": 38,
   "id": "c470936e-249b-4736-b8ee-cba263c1fe17",
   "metadata": {},
   "outputs": [
    {
     "data": {
      "text/plain": [
       "['R_R26', 'R_BIOMASS']"
      ]
     },
     "execution_count": 38,
     "metadata": {},
     "output_type": "execute_result"
    }
   ],
   "source": [
    "model_iFS431.get_metabolite_reactions(\"M_cpd11463_c\")"
   ]
  },
  {
   "cell_type": "code",
   "execution_count": 39,
   "id": "85138540-a861-48c4-909a-d8a2ae53dac2",
   "metadata": {},
   "outputs": [
    {
     "name": "stdout",
     "output_type": "stream",
     "text": [
      "ATP: M_cpd00002_c\n",
      "H2O: M_cpd00001_c\n",
      "L-Arginine: M_cpd00051_c\n",
      "L-Asparagine: M_cpd00132_c\n",
      "L-Aspartate: M_cpd00041_c\n",
      "L-Lysine: M_cpd00039_c\n",
      "L-Threonine: M_cpd00161_c\n",
      "Glycine: M_cpd00033_c\n",
      "L-Serine: M_cpd00054_c\n",
      "L-Glutamate: M_cpd00023_c\n",
      "L-Tryptophan: M_cpd00065_c\n",
      "L-Glutamine: M_cpd00053_c\n",
      "L-Methionine: M_cpd00060_c\n",
      "L-Proline: M_cpd00129_c\n",
      "L-Leucine: M_cpd00107_c\n",
      "L-Valine: M_cpd00156_c\n",
      "L-Isoleucine: M_cpd00322_c\n",
      "L-Histidine: M_cpd00119_c\n",
      "L-Cysteine: M_cpd00084_c\n",
      "L-Alanine: M_cpd00035_c\n",
      "L-Tyrosine: M_cpd00069_c\n",
      "L-Phenylalanine: M_cpd00066_c\n"
     ]
    }
   ],
   "source": [
    "for met in model_iFS431.reactions.R_R26.get_substrates():\n",
    "    print(f\"{model_iFS431.metabolites[met].name}: {model_iFS431.metabolites[met].id}\")"
   ]
  },
  {
   "cell_type": "code",
   "execution_count": 40,
   "id": "93e21099-5857-4050-b766-4943b71a5aa6",
   "metadata": {},
   "outputs": [
    {
     "data": {
      "text/plain": [
       "Phosphate"
      ]
     },
     "execution_count": 40,
     "metadata": {},
     "output_type": "execute_result"
    }
   ],
   "source": [
    "model_iFS431.metabolites.M_cpd00009_c"
   ]
  },
  {
   "cell_type": "code",
   "execution_count": 41,
   "id": "c3d17903-e376-4218-b51d-f37c127b7baf",
   "metadata": {},
   "outputs": [
    {
     "data": {
      "text/plain": [
       "R_R26: 37.195 M_cpd00002_c + 37.195 M_cpd00001_c + 0.133 M_cpd00051_c + 0.156 M_cpd00132_c + 0.156 M_cpd00041_c + 0.336 M_cpd00039_c + 0.41 M_cpd00161_c + 1.078 M_cpd00033_c + 0.427 M_cpd00054_c + 0.127 M_cpd00023_c + 0.043 M_cpd00065_c + 0.127 M_cpd00053_c + 0.783 M_cpd00060_c + 0.457 M_cpd00129_c + 0.429 M_cpd00107_c + 1.172 M_cpd00156_c + 0.436 M_cpd00322_c + 0.146 M_cpd00119_c + 1.216 M_cpd00084_c + 0.775 M_cpd00035_c + 0.801 M_cpd00069_c + 0.185 M_cpd00066_c --> 37.195 M_cpd00008_c + 37.195 M_cpd00067_c + 37.195 M_cpd00009_c + M_cpd11463_c @nan"
      ]
     },
     "execution_count": 41,
     "metadata": {},
     "output_type": "execute_result"
    }
   ],
   "source": [
    "model_iFS431.reactions.R_R26"
   ]
  },
  {
   "cell_type": "markdown",
   "id": "b6d9f423-8660-483f-bffc-9b938dcfceb7",
   "metadata": {},
   "source": [
    "### Create minimal glucose environment"
   ]
  },
  {
   "cell_type": "code",
   "execution_count": 42,
   "id": "86b10bfc-f593-4e37-89a0-90a15937dcf6",
   "metadata": {},
   "outputs": [],
   "source": [
    "env = Environment.from_reactions([\"R_EX_h_e\",\"R_EX_h2o_e\",\"R_EX_glc__D_e\",\"R_EX_atp_c\",\"R_EX_gtp_c\",\"R_EX_ppi_c\",\"R_EX_nad_c\"])\n",
    "env[\"R_EX_h2o_e\"]=(-1000,1000)\n",
    "env[\"R_EX_h_e\"]=(-1000,1000)\n",
    "\n",
    "\n",
    "rxns_from_env = [\"R_EX_\"+x.split(\"_\")[2] for x in env.keys()]\n",
    "exchange_rxns = model_iFS431.get_exchange_reactions()\n",
    "exchange_rxns_dict = {\"_\".join(x.split(\"_\")[0:3]):x for x in exchange_rxns}\n",
    "env_old_model = Environment.from_reactions([old_id for new_id, old_id in exchange_rxns_dict.items() if new_id in rxns_from_env])\n",
    "env_old_model[\"R_EX_h2o_LPAREN_e_RPAREN_\"]=(-100,100)\n",
    "env_old_model[\"R_EX_h_LPAREN_e_RPAREN_\"]=(-100,100)\n",
    "\n",
    "\n",
    "rxns_new = [\"R_EX_ac_e\",\"R_EX_etoh_e\",\"R_EX_lac__L_e\",\"R_ATPM\"]\n",
    "rxns_inf = [\"R_EX_ac_LPAREN_e_RPAREN_\",\"R_EX_etoh_LPAREN_e_RPAREN_\",\"R_EX_lac_DASH_D_LPAREN_e_RPAREN_\",\"R_ATPM_LPAREN_prev_PERIOD_NGAM_RPAREN_\"]\n",
    "\n",
    "rxns_dict = dict(zip(rxns_inf,rxns_new))"
   ]
  },
  {
   "cell_type": "markdown",
   "id": "66ed9f1a-c3f2-4047-8580-7a97a8b3867c",
   "metadata": {},
   "source": [
    "#### Apply environment"
   ]
  },
  {
   "cell_type": "code",
   "execution_count": 43,
   "id": "0d318fc2-a6db-4386-a316-92ddc2889121",
   "metadata": {},
   "outputs": [],
   "source": [
    "env.apply(mini_model,inplace=True,warning=False)\n",
    "env.apply(mini_model_inf,inplace=True,warning=False)\n",
    "env.apply(model,inplace=True,warning=False)\n",
    "env_old_model.apply(model_iFS431,inplace=True,warning=False)"
   ]
  },
  {
   "cell_type": "markdown",
   "id": "ee39c39e-078d-4a56-97ff-793bc67d5deb",
   "metadata": {},
   "source": [
    "### Maximizing production of different compounds"
   ]
  },
  {
   "cell_type": "code",
   "execution_count": 44,
   "id": "3e9d620f-d0ac-4c63-b1b8-136ef1578652",
   "metadata": {},
   "outputs": [],
   "source": [
    "fba_results = {}\n",
    "\n",
    "for model_id,model_spec in {\"mini_model\":mini_model,\"model\":model,\"mini_model_inf\":mini_model_inf,\"model_iFS431\":model_iFS431}.items():\n",
    "    \n",
    "    if model_id==\"model_iFS431\":\n",
    "        rxns = rxns_inf\n",
    "    else:\n",
    "        rxns = rxns_new\n",
    "        \n",
    "    fba_results[model_id]={}\n",
    "    fba_results[model_id] = {}\n",
    "    \n",
    "\n",
    "    for rxn in rxns:\n",
    "        objective = {rxn:0 for rxn in model_spec.reactions.keys()}\n",
    "        objective[rxn]=1\n",
    "        model_spec.set_objective(objective)\n",
    "        if model_id==\"model_iFS431\":\n",
    "            fba_results[model_id][rxns_dict[rxn]] = reframed.FBA(model_spec).fobj\n",
    "        else:\n",
    "            \n",
    "            fba_results[model_id][rxn]= reframed.FBA(model_spec,objective={rxn:1}).fobj\n",
    "            \n",
    "            \n",
    "        "
   ]
  },
  {
   "cell_type": "code",
   "execution_count": 45,
   "id": "1262d8ab-d06d-4f42-8e66-d60c7bd81ab7",
   "metadata": {},
   "outputs": [
    {
     "data": {
      "text/html": [
       "<div>\n",
       "<style scoped>\n",
       "    .dataframe tbody tr th:only-of-type {\n",
       "        vertical-align: middle;\n",
       "    }\n",
       "\n",
       "    .dataframe tbody tr th {\n",
       "        vertical-align: top;\n",
       "    }\n",
       "\n",
       "    .dataframe thead th {\n",
       "        text-align: right;\n",
       "    }\n",
       "</style>\n",
       "<table border=\"1\" class=\"dataframe\">\n",
       "  <thead>\n",
       "    <tr style=\"text-align: right;\">\n",
       "      <th></th>\n",
       "      <th>mini_model</th>\n",
       "      <th>model</th>\n",
       "      <th>mini_model_inf</th>\n",
       "      <th>model_iFS431</th>\n",
       "    </tr>\n",
       "  </thead>\n",
       "  <tbody>\n",
       "    <tr>\n",
       "      <th>R_EX_ac_e</th>\n",
       "      <td>20.0</td>\n",
       "      <td>20.0</td>\n",
       "      <td>20.0</td>\n",
       "      <td>20.0</td>\n",
       "    </tr>\n",
       "    <tr>\n",
       "      <th>R_EX_etoh_e</th>\n",
       "      <td>20.0</td>\n",
       "      <td>20.0</td>\n",
       "      <td>20.0</td>\n",
       "      <td>20.0</td>\n",
       "    </tr>\n",
       "    <tr>\n",
       "      <th>R_EX_lac__L_e</th>\n",
       "      <td>20.0</td>\n",
       "      <td>20.0</td>\n",
       "      <td>20.0</td>\n",
       "      <td>20.0</td>\n",
       "    </tr>\n",
       "    <tr>\n",
       "      <th>R_ATPM</th>\n",
       "      <td>45.0</td>\n",
       "      <td>30.0</td>\n",
       "      <td>30.0</td>\n",
       "      <td>40.0</td>\n",
       "    </tr>\n",
       "  </tbody>\n",
       "</table>\n",
       "</div>"
      ],
      "text/plain": [
       "               mini_model  model  mini_model_inf  model_iFS431\n",
       "R_EX_ac_e            20.0   20.0            20.0          20.0\n",
       "R_EX_etoh_e          20.0   20.0            20.0          20.0\n",
       "R_EX_lac__L_e        20.0   20.0            20.0          20.0\n",
       "R_ATPM               45.0   30.0            30.0          40.0"
      ]
     },
     "execution_count": 45,
     "metadata": {},
     "output_type": "execute_result"
    }
   ],
   "source": [
    "pd.DataFrame(fba_results)"
   ]
  },
  {
   "cell_type": "code",
   "execution_count": 46,
   "id": "4b9d18b6-84be-4fb0-9b02-8c074a9039dd",
   "metadata": {},
   "outputs": [
    {
     "name": "stdout",
     "output_type": "stream",
     "text": [
      "R_EX_h2o_e   -20\n",
      "R_EX_glc__D_e -10\n",
      "R_EX_h_e      20\n",
      "R_EX_co2_e    20\n",
      "R_EX_ac_e     20\n",
      "R_EX_h2_e     40\n"
     ]
    }
   ],
   "source": [
    "sol = reframed.pFBA(mini_model_inf,objective=\"R_ATPM\")\n",
    "\n",
    "sol.show_values(pattern=\"R_EX_\",sort=True)"
   ]
  },
  {
   "cell_type": "code",
   "execution_count": 47,
   "id": "6074ebce-734c-4862-acdd-04332ca9d827",
   "metadata": {},
   "outputs": [
    {
     "name": "stdout",
     "output_type": "stream",
     "text": [
      "[ --> o ] R_GAPD        20       \tM_g3p_c + M_nad_c + M_pi_c <-> M_13dpg_c + M_h_c + M_nadh_c\n",
      "[ <-- o ] R_FNRR       -20       \t2.0 M_fdxrd_c + M_h_c + M_nad_c <-> 2.0 M_fdxo_2_2_c + M_nadh_c\n"
     ]
    }
   ],
   "source": [
    "sol.show_metabolite_balance(\"M_nadh_c\",mini_model_inf,equations=True)"
   ]
  },
  {
   "cell_type": "code",
   "execution_count": 48,
   "id": "503a38f3-a63d-46fc-9f6e-eb2bd995d821",
   "metadata": {},
   "outputs": [
    {
     "name": "stdout",
     "output_type": "stream",
     "text": [
      "[ --> o ] R_POR_syn     40       \tM_coa_c + 2.0 M_fdxo_2_2_c + M_pyr_c --> M_accoa_c + M_co2_c + 2.0 M_fdxrd_c + M_h_c\n",
      "[ o <-- ] R_FNRR        40       \t2.0 M_fdxrd_c + M_h_c + M_nad_c <-> 2.0 M_fdxo_2_2_c + M_nadh_c\n",
      "[ <-- o ] R_FNRR3      -80       \t2.0 M_fdxo_2_2_c + M_h2_c <-> 2.0 M_fdxrd_c + 2.0 M_h_c\n"
     ]
    }
   ],
   "source": [
    "sol.show_metabolite_balance(\"M_fdxrd_c\",mini_model_inf,equations=True)"
   ]
  },
  {
   "cell_type": "code",
   "execution_count": 23,
   "id": "1a022c06-af8d-4e09-9e48-20f8822cc085",
   "metadata": {},
   "outputs": [
    {
     "name": "stdout",
     "output_type": "stream",
     "text": [
      "R_EX_h2o_e   -20\n",
      "R_EX_glc__D_e -10\n",
      "R_EX_ac_e     20\n",
      "R_EX_co2_e    20\n",
      "R_EX_h_e      20\n",
      "R_EX_h2_e     40\n"
     ]
    }
   ],
   "source": [
    "sol = reframed.pFBA(model,objective=\"R_ATPM\")\n",
    "\n",
    "sol.show_values(pattern=\"R_EX_\",sort=True)"
   ]
  },
  {
   "cell_type": "code",
   "execution_count": 24,
   "id": "637f73dc-6e9e-4da2-a0d0-fbc0593389fe",
   "metadata": {},
   "outputs": [
    {
     "name": "stdout",
     "output_type": "stream",
     "text": [
      "[ --> o ] R_GAPD        20       \tM_g3p_c + M_nad_c + M_pi_c <-> M_13dpg_c + M_h_c + M_nadh_c\n",
      "[ <-- o ] R_FNRR       -20       \t2.0 M_fdxrd_c + M_h_c + M_nad_c <-> 2.0 M_fdxo_2_2_c + M_nadh_c\n"
     ]
    }
   ],
   "source": [
    "sol.show_metabolite_balance(\"M_nadh_c\",mini_model_inf,equations=True)"
   ]
  },
  {
   "cell_type": "code",
   "execution_count": 25,
   "id": "a6a76fae-9950-4519-8e66-b8f68771bf45",
   "metadata": {},
   "outputs": [
    {
     "name": "stdout",
     "output_type": "stream",
     "text": [
      "[ --> o ] R_POR_syn     40       \tM_coa_c + 2.0 M_fdxo_2_2_c + M_pyr_c --> M_accoa_c + M_co2_c + 2.0 M_fdxrd_c + M_h_c\n",
      "[ o <-- ] R_FNRR        40       \t2.0 M_fdxrd_c + M_h_c + M_nad_c <-> 2.0 M_fdxo_2_2_c + M_nadh_c\n",
      "[ <-- o ] R_FNRR3      -80       \t2.0 M_fdxo_2_2_c + M_h2_c <-> 2.0 M_fdxrd_c + 2.0 M_h_c\n"
     ]
    }
   ],
   "source": [
    "sol.show_metabolite_balance(\"M_fdxrd_c\",mini_model_inf,equations=True)"
   ]
  },
  {
   "cell_type": "code",
   "execution_count": 49,
   "id": "c138f511-9857-4471-93ed-dd1216cee15b",
   "metadata": {},
   "outputs": [
    {
     "name": "stdout",
     "output_type": "stream",
     "text": [
      "[ --> o ] R_GAPD        20       \tM_g3p_c + M_nad_c + M_pi_c <-> M_13dpg_c + M_h_c + M_nadh_c\n",
      "[ <-- o ] R_FNRR       -20       \t2.0 M_fdxrd_c + M_h_c + M_nad_c <-> 2.0 M_fdxo_2_2_c + M_nadh_c\n"
     ]
    }
   ],
   "source": [
    "sol.show_metabolite_balance(\"M_nadh_c\",mini_model_inf,equations=True)"
   ]
  },
  {
   "cell_type": "code",
   "execution_count": 50,
   "id": "0d83629b-4543-4124-8586-0feb7c817bf1",
   "metadata": {},
   "outputs": [
    {
     "name": "stdout",
     "output_type": "stream",
     "text": [
      "[ --> o ] R_GLCabc      10       \tM_atp_c + M_glc__D_e + M_h2o_c --> M_adp_c + M_glc__D_c + M_h_c + M_pi_c\n",
      "[ --> o ] R_HEX1        10       \tM_atp_c + M_glc__D_c --> M_adp_c + M_g6p_c + M_h_c\n",
      "[ --> o ] R_PFK         10       \tM_atp_c + M_f6p_c --> M_adp_c + M_fdp_c + M_h_c\n",
      "[ --> o ] R_GAPD        20       \tM_g3p_c + M_nad_c + M_pi_c <-> M_13dpg_c + M_h_c + M_nadh_c\n",
      "[ --> o ] R_POR_syn     20       \tM_coa_c + 2.0 M_fdxo_2_2_c + M_pyr_c --> M_accoa_c + M_co2_c + 2.0 M_fdxrd_c + M_h_c\n",
      "[ --> o ] R_ATPM        30       \tM_atp_c + M_h2o_c --> M_adp_c + M_h_c + M_pi_c\n",
      "[ o <-- ] R_FNRR        20       \t2.0 M_fdxrd_c + M_h_c + M_nad_c <-> 2.0 M_fdxo_2_2_c + M_nadh_c\n",
      "[ o --> ] R_PYK        -20       \tM_adp_c + M_h_c + M_pep_c --> M_atp_c + M_pyr_c\n",
      "[ <-- o ] R_ACt2r      -20       \tM_ac_e + M_h_e <-> M_ac_c + M_h_c\n",
      "[ <-- o ] R_FNRR3      -80       \t2.0 M_fdxo_2_2_c + M_h2_c <-> 2.0 M_fdxrd_c + 2.0 M_h_c\n"
     ]
    }
   ],
   "source": [
    "sol.show_metabolite_balance(\"M_h_c\",mini_model_inf,equations=True)"
   ]
  },
  {
   "cell_type": "code",
   "execution_count": 26,
   "id": "995006cf-63fa-4555-8e38-61983f31ff2b",
   "metadata": {},
   "outputs": [
    {
     "ename": "KeyError",
     "evalue": "'R_ME1'",
     "output_type": "error",
     "traceback": [
      "\u001b[0;31m---------------------------------------------------------------------------\u001b[0m",
      "\u001b[0;31mKeyError\u001b[0m                                  Traceback (most recent call last)",
      "Cell \u001b[0;32mIn[26], line 1\u001b[0m\n\u001b[0;32m----> 1\u001b[0m \u001b[43msol\u001b[49m\u001b[38;5;241;43m.\u001b[39;49m\u001b[43mshow_metabolite_balance\u001b[49m\u001b[43m(\u001b[49m\u001b[38;5;124;43m\"\u001b[39;49m\u001b[38;5;124;43mM_cpd00004_c\u001b[39;49m\u001b[38;5;124;43m\"\u001b[39;49m\u001b[43m,\u001b[49m\u001b[43mmodel_iFS431\u001b[49m\u001b[43m,\u001b[49m\u001b[43mequations\u001b[49m\u001b[38;5;241;43m=\u001b[39;49m\u001b[38;5;28;43;01mTrue\u001b[39;49;00m\u001b[43m)\u001b[49m\n",
      "File \u001b[0;32m~/opt/anaconda3/envs/rcell_rec/lib/python3.8/site-packages/reframed/solvers/solution.py:150\u001b[0m, in \u001b[0;36mSolution.show_metabolite_balance\u001b[0;34m(self, m_id, model, sort, percentage, equations, abstol)\u001b[0m\n\u001b[1;32m    135\u001b[0m \u001b[38;5;250m\u001b[39m\u001b[38;5;124;03m\"\"\" Show metabolite balance details.\u001b[39;00m\n\u001b[1;32m    136\u001b[0m \n\u001b[1;32m    137\u001b[0m \u001b[38;5;124;03mArguments:\u001b[39;00m\n\u001b[0;32m   (...)\u001b[0m\n\u001b[1;32m    146\u001b[0m \u001b[38;5;124;03m    str: formatted output\u001b[39;00m\n\u001b[1;32m    147\u001b[0m \u001b[38;5;124;03m\"\"\"\u001b[39;00m\n\u001b[1;32m    149\u001b[0m \u001b[38;5;28;01mif\u001b[39;00m \u001b[38;5;28mself\u001b[39m\u001b[38;5;241m.\u001b[39mvalues:\n\u001b[0;32m--> 150\u001b[0m     \u001b[43mprint_balance\u001b[49m\u001b[43m(\u001b[49m\u001b[38;5;28;43mself\u001b[39;49m\u001b[38;5;241;43m.\u001b[39;49m\u001b[43mvalues\u001b[49m\u001b[43m,\u001b[49m\u001b[43m \u001b[49m\u001b[43mm_id\u001b[49m\u001b[43m,\u001b[49m\u001b[43m \u001b[49m\u001b[43mmodel\u001b[49m\u001b[43m,\u001b[49m\u001b[43m \u001b[49m\u001b[43msort\u001b[49m\u001b[38;5;241;43m=\u001b[39;49m\u001b[43msort\u001b[49m\u001b[43m,\u001b[49m\u001b[43m \u001b[49m\u001b[43mpercentage\u001b[49m\u001b[38;5;241;43m=\u001b[39;49m\u001b[43mpercentage\u001b[49m\u001b[43m,\u001b[49m\u001b[43m \u001b[49m\u001b[43mequations\u001b[49m\u001b[38;5;241;43m=\u001b[39;49m\u001b[43mequations\u001b[49m\u001b[43m,\u001b[49m\u001b[43m \u001b[49m\u001b[43mabstol\u001b[49m\u001b[38;5;241;43m=\u001b[39;49m\u001b[43mabstol\u001b[49m\u001b[43m)\u001b[49m\n",
      "File \u001b[0;32m~/opt/anaconda3/envs/rcell_rec/lib/python3.8/site-packages/reframed/solvers/solution.py:35\u001b[0m, in \u001b[0;36mprint_balance\u001b[0;34m(values, m_id, model, sort, percentage, equations, abstol)\u001b[0m\n\u001b[1;32m     32\u001b[0m inputs \u001b[38;5;241m=\u001b[39m model\u001b[38;5;241m.\u001b[39mget_metabolite_producers(m_id)\n\u001b[1;32m     33\u001b[0m outputs \u001b[38;5;241m=\u001b[39m model\u001b[38;5;241m.\u001b[39mget_metabolite_consumers(m_id)\n\u001b[0;32m---> 35\u001b[0m fwd_in \u001b[38;5;241m=\u001b[39m [(r_id, model\u001b[38;5;241m.\u001b[39mreactions[r_id]\u001b[38;5;241m.\u001b[39mstoichiometry[m_id] \u001b[38;5;241m*\u001b[39m values[r_id], \u001b[38;5;124m'\u001b[39m\u001b[38;5;124m--> o\u001b[39m\u001b[38;5;124m'\u001b[39m)\n\u001b[1;32m     36\u001b[0m           \u001b[38;5;28;01mfor\u001b[39;00m r_id \u001b[38;5;129;01min\u001b[39;00m inputs \u001b[38;5;28;01mif\u001b[39;00m values[r_id] \u001b[38;5;241m>\u001b[39m \u001b[38;5;241m0\u001b[39m]\n\u001b[1;32m     37\u001b[0m rev_in \u001b[38;5;241m=\u001b[39m [(r_id, model\u001b[38;5;241m.\u001b[39mreactions[r_id]\u001b[38;5;241m.\u001b[39mstoichiometry[m_id] \u001b[38;5;241m*\u001b[39m values[r_id], \u001b[38;5;124m'\u001b[39m\u001b[38;5;124mo <--\u001b[39m\u001b[38;5;124m'\u001b[39m)\n\u001b[1;32m     38\u001b[0m           \u001b[38;5;28;01mfor\u001b[39;00m r_id \u001b[38;5;129;01min\u001b[39;00m outputs \u001b[38;5;28;01mif\u001b[39;00m values[r_id] \u001b[38;5;241m<\u001b[39m \u001b[38;5;241m0\u001b[39m]\n\u001b[1;32m     39\u001b[0m fwd_out \u001b[38;5;241m=\u001b[39m [(r_id, model\u001b[38;5;241m.\u001b[39mreactions[r_id]\u001b[38;5;241m.\u001b[39mstoichiometry[m_id] \u001b[38;5;241m*\u001b[39m values[r_id], \u001b[38;5;124m'\u001b[39m\u001b[38;5;124mo -->\u001b[39m\u001b[38;5;124m'\u001b[39m)\n\u001b[1;32m     40\u001b[0m            \u001b[38;5;28;01mfor\u001b[39;00m r_id \u001b[38;5;129;01min\u001b[39;00m outputs \u001b[38;5;28;01mif\u001b[39;00m values[r_id] \u001b[38;5;241m>\u001b[39m \u001b[38;5;241m0\u001b[39m]\n",
      "File \u001b[0;32m~/opt/anaconda3/envs/rcell_rec/lib/python3.8/site-packages/reframed/solvers/solution.py:36\u001b[0m, in \u001b[0;36m<listcomp>\u001b[0;34m(.0)\u001b[0m\n\u001b[1;32m     32\u001b[0m inputs \u001b[38;5;241m=\u001b[39m model\u001b[38;5;241m.\u001b[39mget_metabolite_producers(m_id)\n\u001b[1;32m     33\u001b[0m outputs \u001b[38;5;241m=\u001b[39m model\u001b[38;5;241m.\u001b[39mget_metabolite_consumers(m_id)\n\u001b[1;32m     35\u001b[0m fwd_in \u001b[38;5;241m=\u001b[39m [(r_id, model\u001b[38;5;241m.\u001b[39mreactions[r_id]\u001b[38;5;241m.\u001b[39mstoichiometry[m_id] \u001b[38;5;241m*\u001b[39m values[r_id], \u001b[38;5;124m'\u001b[39m\u001b[38;5;124m--> o\u001b[39m\u001b[38;5;124m'\u001b[39m)\n\u001b[0;32m---> 36\u001b[0m           \u001b[38;5;28;01mfor\u001b[39;00m r_id \u001b[38;5;129;01min\u001b[39;00m inputs \u001b[38;5;28;01mif\u001b[39;00m \u001b[43mvalues\u001b[49m\u001b[43m[\u001b[49m\u001b[43mr_id\u001b[49m\u001b[43m]\u001b[49m \u001b[38;5;241m>\u001b[39m \u001b[38;5;241m0\u001b[39m]\n\u001b[1;32m     37\u001b[0m rev_in \u001b[38;5;241m=\u001b[39m [(r_id, model\u001b[38;5;241m.\u001b[39mreactions[r_id]\u001b[38;5;241m.\u001b[39mstoichiometry[m_id] \u001b[38;5;241m*\u001b[39m values[r_id], \u001b[38;5;124m'\u001b[39m\u001b[38;5;124mo <--\u001b[39m\u001b[38;5;124m'\u001b[39m)\n\u001b[1;32m     38\u001b[0m           \u001b[38;5;28;01mfor\u001b[39;00m r_id \u001b[38;5;129;01min\u001b[39;00m outputs \u001b[38;5;28;01mif\u001b[39;00m values[r_id] \u001b[38;5;241m<\u001b[39m \u001b[38;5;241m0\u001b[39m]\n\u001b[1;32m     39\u001b[0m fwd_out \u001b[38;5;241m=\u001b[39m [(r_id, model\u001b[38;5;241m.\u001b[39mreactions[r_id]\u001b[38;5;241m.\u001b[39mstoichiometry[m_id] \u001b[38;5;241m*\u001b[39m values[r_id], \u001b[38;5;124m'\u001b[39m\u001b[38;5;124mo -->\u001b[39m\u001b[38;5;124m'\u001b[39m)\n\u001b[1;32m     40\u001b[0m            \u001b[38;5;28;01mfor\u001b[39;00m r_id \u001b[38;5;129;01min\u001b[39;00m outputs \u001b[38;5;28;01mif\u001b[39;00m values[r_id] \u001b[38;5;241m>\u001b[39m \u001b[38;5;241m0\u001b[39m]\n",
      "\u001b[0;31mKeyError\u001b[0m: 'R_ME1'"
     ]
    }
   ],
   "source": [
    "sol.show_metabolite_balance(\"M_cpd00004_c\",model_iFS431,equations=True)"
   ]
  },
  {
   "cell_type": "code",
   "execution_count": null,
   "id": "19f3dc61-7f64-4378-8649-da8475081c19",
   "metadata": {},
   "outputs": [],
   "source": [
    "sol = reframed.pFBA(model_iFS431,objective=\"R_ATPM_LPAREN_prev_PERIOD_NGAM_RPAREN_\")\n",
    "\n",
    "sol.show_values(pattern=\"R_EX_\",sort=True)"
   ]
  },
  {
   "cell_type": "code",
   "execution_count": null,
   "id": "a9b64710",
   "metadata": {},
   "outputs": [],
   "source": [
    "sol.show_metabolite_balance(\"M_cpd00004_c\",model_iFS431,equations=True)"
   ]
  },
  {
   "cell_type": "code",
   "execution_count": null,
   "id": "12bbe609-6ba2-4f38-a305-b77d07301eb9",
   "metadata": {},
   "outputs": [],
   "source": [
    "sol.show_metabolite_balance(\"M_cpd15877_c\",model_iFS431,equations=True)"
   ]
  },
  {
   "cell_type": "code",
   "execution_count": null,
   "id": "c707efeb-c405-4906-ba97-68c73bd7191e",
   "metadata": {},
   "outputs": [],
   "source": [
    "atp_rxns_new = {\"R_POR_syn\":'Pyruvate-ferredoxin oxidoreductase',\n",
    "            \"R_FNRR\":'NADH Ferredoxin oxidoreductase',\n",
    "            \"R_FNRR2\":'NADPH Ferredoxin oxidoreductase',\n",
    "            \"R_FNRR3\":'Ferredoxin hydrogenase',\n",
    "            \"R_ATPS4r\":'ATP synthase',\n",
    "            \"R_EX_ac_e\":\"Acetate exchange\",\n",
    "            \"R_EX_etoh_e\":\"Ethanol exchange\",\n",
    "            \"R_EX_lac__L_e\":\"L-Lactate exchange\",\n",
    "            \"R_EX_h2_e\":\"Dihydrogen exchange\"}\n",
    "\n",
    "\n",
    "atp_rxns_old = {\"R_POR\":'Pyruvate-ferredoxin oxidoreductase',\n",
    "            \"R_FNOR2\":'NADH Ferredoxin oxidoreductase',\n",
    "            \"R_FNOR3\":'NADPH Ferredoxin oxidoreductase',\n",
    "            \"R_FRHD\":'Ferredoxin hydrogenase',\n",
    "            \"R_ATPS4r\":'ATP synthase',\n",
    "            \"R_EX_ac_LPAREN_e_RPAREN_\":\"Acetate exchange\",\n",
    "            \"R_EX_etoh_LPAREN_e_RPAREN_\":\"Ethanol exchange\",\n",
    "            \"R_EX_lac_DASH_D_LPAREN_e_RPAREN_\":\"L-Lactate exchange\",\n",
    "            \"R_EX_h2_LPAREN_e_RPAREN_\":\"Dihydrogen exchange\"}\n",
    "\n",
    "\n",
    "max_atp = {}\n",
    "for model_id,model_spec in {\"mini_model\":mini_model,\"model\":model,\"mini_model_inf\":mini_model_inf,\"model_iFS431\":model_iFS431}.items():\n",
    "    \n",
    "    if model_id==\"model_iFS431\":\n",
    "        atpm_rxn = \"R_ATPM_LPAREN_prev_PERIOD_NGAM_RPAREN_\"\n",
    "        rxns = atp_rxns_old\n",
    "    else:\n",
    "        atpm_rxn = \"R_ATPM\"\n",
    "        rxns = atp_rxns_new\n",
    "    max_atp[model_id] = {}\n",
    "    \n",
    "    objective = {rxn:0 for rxn in model_spec.reactions.keys()}\n",
    "    objective[atpm_rxn]=1\n",
    "    model_spec.set_objective(objective)\n",
    "    \n",
    "    sol = reframed.pFBA(model_spec)\n",
    "    \n",
    "\n",
    "    for rxn_id,rxn_name in rxns.items():\n",
    "        if model_id.startswith(\"mini\") and rxn_id==\"R_FNRR2\":\n",
    "            max_atp[model_id][rxn_name]=None\n",
    "            \n",
    "        else:\n",
    "            max_atp[model_id][rxn_name]=sol.values[rxn_id]\n",
    "        "
   ]
  },
  {
   "cell_type": "code",
   "execution_count": 18,
   "id": "d9ee10b0-c8e9-422d-ba73-9ba0edbf4618",
   "metadata": {},
   "outputs": [
    {
     "data": {
      "text/html": [
       "<div>\n",
       "<style scoped>\n",
       "    .dataframe tbody tr th:only-of-type {\n",
       "        vertical-align: middle;\n",
       "    }\n",
       "\n",
       "    .dataframe tbody tr th {\n",
       "        vertical-align: top;\n",
       "    }\n",
       "\n",
       "    .dataframe thead th {\n",
       "        text-align: right;\n",
       "    }\n",
       "</style>\n",
       "<table border=\"1\" class=\"dataframe\">\n",
       "  <thead>\n",
       "    <tr style=\"text-align: right;\">\n",
       "      <th></th>\n",
       "      <th>mini_model</th>\n",
       "      <th>model</th>\n",
       "      <th>mini_model_inf</th>\n",
       "      <th>model_iFS431</th>\n",
       "    </tr>\n",
       "  </thead>\n",
       "  <tbody>\n",
       "    <tr>\n",
       "      <th>Pyruvate-ferredoxin oxidoreductase</th>\n",
       "      <td>20.0</td>\n",
       "      <td>20.0</td>\n",
       "      <td>20.0</td>\n",
       "      <td>20.0</td>\n",
       "    </tr>\n",
       "    <tr>\n",
       "      <th>NADH Ferredoxin oxidoreductase</th>\n",
       "      <td>-20.0</td>\n",
       "      <td>-20.0</td>\n",
       "      <td>-20.0</td>\n",
       "      <td>20.0</td>\n",
       "    </tr>\n",
       "    <tr>\n",
       "      <th>NADPH Ferredoxin oxidoreductase</th>\n",
       "      <td>0.0</td>\n",
       "      <td>0.0</td>\n",
       "      <td>0.0</td>\n",
       "      <td>0.0</td>\n",
       "    </tr>\n",
       "    <tr>\n",
       "      <th>Ferredoxin hydrogenase</th>\n",
       "      <td>-40.0</td>\n",
       "      <td>-40.0</td>\n",
       "      <td>-40.0</td>\n",
       "      <td>40.0</td>\n",
       "    </tr>\n",
       "    <tr>\n",
       "      <th>ATP synthase</th>\n",
       "      <td>-5.0</td>\n",
       "      <td>0.0</td>\n",
       "      <td>0.0</td>\n",
       "      <td>0.0</td>\n",
       "    </tr>\n",
       "    <tr>\n",
       "      <th>Acetate exchange</th>\n",
       "      <td>20.0</td>\n",
       "      <td>20.0</td>\n",
       "      <td>20.0</td>\n",
       "      <td>20.0</td>\n",
       "    </tr>\n",
       "    <tr>\n",
       "      <th>Ethanol exchange</th>\n",
       "      <td>-0.0</td>\n",
       "      <td>-0.0</td>\n",
       "      <td>-0.0</td>\n",
       "      <td>0.0</td>\n",
       "    </tr>\n",
       "    <tr>\n",
       "      <th>L-Lactate exchange</th>\n",
       "      <td>-0.0</td>\n",
       "      <td>0.0</td>\n",
       "      <td>-0.0</td>\n",
       "      <td>0.0</td>\n",
       "    </tr>\n",
       "    <tr>\n",
       "      <th>Dihydrogen exchange</th>\n",
       "      <td>40.0</td>\n",
       "      <td>40.0</td>\n",
       "      <td>40.0</td>\n",
       "      <td>40.0</td>\n",
       "    </tr>\n",
       "  </tbody>\n",
       "</table>\n",
       "</div>"
      ],
      "text/plain": [
       "                                    mini_model  model  mini_model_inf  \\\n",
       "Pyruvate-ferredoxin oxidoreductase        20.0   20.0            20.0   \n",
       "NADH Ferredoxin oxidoreductase           -20.0  -20.0           -20.0   \n",
       "NADPH Ferredoxin oxidoreductase            0.0    0.0             0.0   \n",
       "Ferredoxin hydrogenase                   -40.0  -40.0           -40.0   \n",
       "ATP synthase                              -5.0    0.0             0.0   \n",
       "Acetate exchange                          20.0   20.0            20.0   \n",
       "Ethanol exchange                          -0.0   -0.0            -0.0   \n",
       "L-Lactate exchange                        -0.0    0.0            -0.0   \n",
       "Dihydrogen exchange                       40.0   40.0            40.0   \n",
       "\n",
       "                                    model_iFS431  \n",
       "Pyruvate-ferredoxin oxidoreductase          20.0  \n",
       "NADH Ferredoxin oxidoreductase              20.0  \n",
       "NADPH Ferredoxin oxidoreductase              0.0  \n",
       "Ferredoxin hydrogenase                      40.0  \n",
       "ATP synthase                                 0.0  \n",
       "Acetate exchange                            20.0  \n",
       "Ethanol exchange                             0.0  \n",
       "L-Lactate exchange                           0.0  \n",
       "Dihydrogen exchange                         40.0  "
      ]
     },
     "execution_count": 18,
     "metadata": {},
     "output_type": "execute_result"
    }
   ],
   "source": [
    "pd.DataFrame(max_atp).fillna(0)"
   ]
  },
  {
   "cell_type": "markdown",
   "id": "dc7d6662-c409-44ad-9cfa-2a0b3fc07a28",
   "metadata": {},
   "source": [
    "**THe HEX1 reaction in iFS431 is missing a proton**"
   ]
  },
  {
   "cell_type": "code",
   "execution_count": 733,
   "id": "83ad5faa-b767-48c2-8ece-088fb8fa21ff",
   "metadata": {},
   "outputs": [
    {
     "name": "stdout",
     "output_type": "stream",
     "text": [
      "[ --> o ] R_ATPM_LPAREN_prev_PERIOD_NGAM_RPAREN_  40       \tM_cpd00002_c + M_cpd00001_c --> M_cpd00008_c + M_cpd00067_c + M_cpd00009_c\n",
      "[ --> o ] R_GAPD        20       \tM_cpd00009_c + M_cpd00102_c + M_cpd00003_c <-> M_cpd00067_c + M_cpd00203_c + M_cpd00004_c\n",
      "[ --> o ] R_POR         20       \tM_cpd00020_c + M_cpd00010_c + M_cpd15876_c <-> M_cpd00067_c + M_cpd00011_c + M_cpd00022_c + M_cpd15877_c\n",
      "[ --> o ] R_FNOR2       20       \tM_cpd00004_c + M_cpd15876_c <-> M_cpd00067_c + M_cpd00003_c + M_cpd15877_c\n",
      "[ --> o ] R_PFK         10       \tM_cpd00002_c + M_cpd00072_c --> M_cpd00008_c + M_cpd00067_c + M_cpd00290_c\n",
      "[ o --> ] R_FRHD       -80       \t2.0 M_cpd00067_c + M_cpd15877_c --> M_cpd15876_c + M_cpd11640_c\n",
      "[ <-- o ] R_ACt6       -20       \tM_cpd00067_e + M_cpd00029_e <-> M_cpd00067_c + M_cpd00029_c\n",
      "[ o --> ] R_PYK        -10       \tM_cpd00008_c + M_cpd00067_c + M_cpd00061_c --> M_cpd00002_c + M_cpd00020_c\n"
     ]
    }
   ],
   "source": [
    "sol = reframed.pFBA(model_iFS431)\n",
    "sol.show_metabolite_balance(\"M_cpd00067_c\",model_iFS431,equations=True,sort=True)"
   ]
  },
  {
   "cell_type": "code",
   "execution_count": 734,
   "id": "1aa02e33-6b76-43fd-bdba-71922cc84476",
   "metadata": {},
   "outputs": [
    {
     "name": "stdout",
     "output_type": "stream",
     "text": [
      "[ --> o ] R_GAPD        20       \tM_g3p_c + M_nad_c + M_pi_c <-> M_13dpg_c + M_h_c + M_nadh_c\n",
      "[ --> o ] R_POR_syn     20       \tM_coa_c + 2.0 M_fdxo_2_2_c + M_pyr_c --> M_accoa_c + M_co2_c + 2.0 M_fdxrd_c + M_h_c\n",
      "[ --> o ] R_ATPM        20       \tM_atp_c + M_h2o_c --> M_adp_c + M_h_c + M_pi_c\n",
      "[ o <-- ] R_ACt2r_1     20       \tM_ac_e + M_h_c <-> M_ac_c + M_h_e\n",
      "[ o <-- ] R_FNRR        20       \t2.0 M_fdxrd_c + M_h_c + M_nad_c <-> 2.0 M_fdxo_2_2_c + M_nadh_c\n",
      "[ --> o ] R_GLCabc      10       \tM_atp_c + M_glc__D_e + M_h2o_c --> M_adp_c + M_glc__D_c + M_h_c + M_pi_c\n",
      "[ --> o ] R_HEX1        10       \tM_atp_c + M_glc__D_c --> M_adp_c + M_g6p_c + M_h_c\n",
      "[ --> o ] R_PFK         10       \tM_atp_c + M_f6p_c --> M_adp_c + M_fdp_c + M_h_c\n",
      "[ <-- o ] R_FNRR3      -80       \t2.0 M_fdxo_2_2_c + M_h2_c <-> 2.0 M_fdxrd_c + 2.0 M_h_c\n",
      "[ <-- o ] R_ATPS4r     -30       \tM_adp_c + M_pi_c + 4.0 M_h_e <-> M_atp_c + 3.0 M_h_c + M_h2o_c\n",
      "[ o --> ] R_PYK        -20       \tM_adp_c + M_h_c + M_pep_c --> M_atp_c + M_pyr_c\n"
     ]
    }
   ],
   "source": [
    "sol = reframed.pFBA(mini_model_inf)\n",
    "sol.show_metabolite_balance(\"M_h_c\",mini_model_inf,equations=True,sort=True)"
   ]
  },
  {
   "cell_type": "code",
   "execution_count": 735,
   "id": "518ca515-02b0-4c8b-b264-dc23c66a2d0d",
   "metadata": {},
   "outputs": [
    {
     "data": {
      "text/plain": [
       "{}"
      ]
     },
     "execution_count": 735,
     "metadata": {},
     "output_type": "execute_result"
    }
   ],
   "source": [
    "model_cobra.reactions.HEX1_gtp.check_mass_balance()"
   ]
  },
  {
   "cell_type": "code",
   "execution_count": 736,
   "id": "7d3b2baf-5664-4674-bac3-7013944c629a",
   "metadata": {},
   "outputs": [],
   "source": [
    "from reframed import plot_flux_envelope"
   ]
  },
  {
   "cell_type": "code",
   "execution_count": 737,
   "id": "a071a1dd-91c2-4ed1-9380-8a50b528308e",
   "metadata": {},
   "outputs": [
    {
     "data": {
      "text/plain": [
       "<Axes: xlabel='ATPM (mmol/gh)', ylabel='R_EX_lac__L_e'>"
      ]
     },
     "execution_count": 737,
     "metadata": {},
     "output_type": "execute_result"
    },
    {
     "data": {
      "image/png": "[encoded data removed]",
      "text/plain": [
       "<Figure size 1000x350 with 3 Axes>"
      ]
     },
     "metadata": {},
     "output_type": "display_data"
    }
   ],
   "source": [
    "\n",
    "fig, axs = plt.subplots(1,3, figsize=(10,3.5), sharey=True, sharex=True)\n",
    "plot_flux_envelope(model, 'R_ATPM', 'R_EX_ac_e', ax=axs[0], label_x='ATPM (mmol/gh)', \n",
    "                   plot_kwargs={'color': 'tab:blue'}, fill_kwargs={'color': 'tab:blue', 'alpha':0.2})\n",
    "plot_flux_envelope(model, 'R_ATPM', 'R_EX_etoh_e', ax=axs[1], label_x='ATPM (mmol/gh)', \n",
    "                   plot_kwargs={'color': 'tab:orange'}, fill_kwargs={'color': 'tab:orange', 'alpha':0.2})\n",
    "plot_flux_envelope(model, 'R_ATPM', 'R_EX_lac__L_e',ax=axs[2], label_x='ATPM (mmol/gh)', \n",
    "                   plot_kwargs={'color': 'tab:green'}, fill_kwargs={'color': 'tab:green', 'alpha':0.2})"
   ]
  },
  {
   "cell_type": "code",
   "execution_count": 740,
   "id": "40d54b79-7944-4f59-8d6f-6e9ce3e6749a",
   "metadata": {},
   "outputs": [
    {
     "data": {
      "text/plain": [
       "<Axes: xlabel='ATPM (mmol/gh)', ylabel='EX_lac-D(e)'>"
      ]
     },
     "execution_count": 740,
     "metadata": {},
     "output_type": "execute_result"
    },
    {
     "data": {
      "image/png": "[encoded data removed]",
      "text/plain": [
       "<Figure size 1000x350 with 3 Axes>"
      ]
     },
     "metadata": {},
     "output_type": "display_data"
    }
   ],
   "source": [
    "\n",
    "fig, axs = plt.subplots(1,3, figsize=(10,3.5), sharey=True, sharex=True)\n",
    "plot_flux_envelope(model_iFS431, 'R_ATPM_LPAREN_prev_PERIOD_NGAM_RPAREN_', 'R_EX_ac_LPAREN_e_RPAREN_', ax=axs[0], label_x='ATPM (mmol/gh)', \n",
    "                   plot_kwargs={'color': 'tab:blue'}, fill_kwargs={'color': 'tab:blue', 'alpha':0.2})\n",
    "plot_flux_envelope(model_iFS431, 'R_ATPM_LPAREN_prev_PERIOD_NGAM_RPAREN_', 'R_EX_etoh_LPAREN_e_RPAREN_', ax=axs[1], label_x='ATPM (mmol/gh)', \n",
    "                   plot_kwargs={'color': 'tab:orange'}, fill_kwargs={'color': 'tab:orange', 'alpha':0.2})\n",
    "plot_flux_envelope(model_iFS431, 'R_ATPM_LPAREN_prev_PERIOD_NGAM_RPAREN_', 'R_EX_lac_DASH_D_LPAREN_e_RPAREN_',ax=axs[2], label_x='ATPM (mmol/gh)', \n",
    "                   plot_kwargs={'color': 'tab:green'}, fill_kwargs={'color': 'tab:green', 'alpha':0.2})"
   ]
  },
  {
   "cell_type": "markdown",
   "id": "96a2b9f7-13ba-459a-b840-1f9265cc7b7d",
   "metadata": {},
   "source": [
    "## iFS431"
   ]
  },
  {
   "cell_type": "code",
   "execution_count": 644,
   "id": "29dc4b21-b1a3-4fe5-a8f8-75ed4f5e6a12",
   "metadata": {},
   "outputs": [],
   "source": [
    "import pandas as pd\n",
    "import reframed"
   ]
  },
  {
   "cell_type": "code",
   "execution_count": 645,
   "id": "a2820eee-41a9-4ccc-9e0f-0258543a8db1",
   "metadata": {},
   "outputs": [],
   "source": [
    "model_iFS431 = reframed.load_cbmodel(\"../models/iFS431.xml\",load_gprs=False,flavor=\"cobra\")\n",
    "model_iFS431.reactions.R_ATPM_LPAREN_prev_PERIOD_NGAM_RPAREN_.lb=0\n",
    "model_iFS431.reactions.R_ATPM_LPAREN_prev_PERIOD_NGAM_RPAREN_.ub=1000\n",
    "\n",
    "media = pd.read_csv('../input/media_db.tsv',sep='\\t')\n",
    "media_cellb = media[media.medium=='DM_cellobiose']\n",
    "env_cellb = Environment.from_compounds(list(media_cellb['compound']))\n",
    "rxns_from_env = [\"R_EX_\"+x.split(\"_\")[2] for x in env_cellb.keys()]\n",
    "\n",
    "exchange_rxns = model_iFS431.get_exchange_reactions()\n",
    "exchange_rxns_dict = {\"_\".join(x.split(\"_\")[0:3]):x for x in exchange_rxns}\n",
    "\n",
    "env_old_model = Environment.from_reactions([old_id for new_id, old_id in exchange_rxns_dict.items() if new_id in rxns_from_env])\n",
    "env_old_model[\"R_EX_glc_LPAREN_e_RPAREN_\"] = (-10,0)\n",
    "env_old_model[\"R_EX_cellb_LPAREN_e_RPAREN_\"] = (0,0)\n",
    "env_old_model[\"R_EX_h2o_LPAREN_e_RPAREN_\"]=(-100,100)\n",
    "env_old_model[\"R_EX_h_LPAREN_e_RPAREN_\"]=(-100,100)\n"
   ]
  },
  {
   "cell_type": "code",
   "execution_count": 646,
   "id": "74bc9b3c-542b-45e9-acf6-1746b5c27b0d",
   "metadata": {},
   "outputs": [
    {
     "data": {
      "text/plain": [
       "Objective: 0.0\n",
       "Status: Optimal"
      ]
     },
     "execution_count": 646,
     "metadata": {},
     "output_type": "execute_result"
    }
   ],
   "source": [
    "env_old_model.apply(model_iFS431,inplace=True,exclusive=True)\n",
    "\n",
    "objective_old = {rxn:0 for rxn in model_iFS431.reactions.keys()}\n",
    "objective_old[\"R_EX_BIOMASS_LPAREN_e_RPAREN_\"]=1\n",
    "model_iFS431.set_objective(objective_old)\n",
    "\n",
    "reframed.FBA(model_iFS431)"
   ]
  },
  {
   "cell_type": "code",
   "execution_count": 647,
   "id": "50ee6c96-41b6-4b4c-9018-aee6063df10d",
   "metadata": {},
   "outputs": [
    {
     "data": {
      "text/plain": [
       "Objective: 20.0\n",
       "Status: Optimal"
      ]
     },
     "execution_count": 647,
     "metadata": {},
     "output_type": "execute_result"
    }
   ],
   "source": [
    "objective_old = {rxn:0 for rxn in model_iFS431.reactions.keys()}\n",
    "objective_old[\"R_EX_lac_DASH_D_LPAREN_e_RPAREN_\"]=1\n",
    "model_iFS431.set_objective(objective_old)\n",
    "\n",
    "reframed.FBA(model_iFS431)"
   ]
  },
  {
   "cell_type": "code",
   "execution_count": 648,
   "id": "fada863b-d81d-45e0-95a7-af7d56973d55",
   "metadata": {},
   "outputs": [
    {
     "data": {
      "text/plain": [
       "Objective: 20.0\n",
       "Status: Optimal"
      ]
     },
     "execution_count": 648,
     "metadata": {},
     "output_type": "execute_result"
    }
   ],
   "source": [
    "objective_old = {rxn:0 for rxn in model_iFS431.reactions.keys()}\n",
    "objective_old[\"R_EX_etoh_LPAREN_e_RPAREN_\"]=1\n",
    "model_iFS431.set_objective(objective_old)\n",
    "\n",
    "reframed.FBA(model_iFS431)"
   ]
  },
  {
   "cell_type": "code",
   "execution_count": 649,
   "id": "6a45f969-005a-44aa-8f21-136f7de8f7d3",
   "metadata": {},
   "outputs": [
    {
     "data": {
      "text/plain": [
       "Objective: 20.0\n",
       "Status: Optimal"
      ]
     },
     "execution_count": 649,
     "metadata": {},
     "output_type": "execute_result"
    }
   ],
   "source": [
    "objective_old = {rxn:0 for rxn in model_iFS431.reactions.keys()}\n",
    "objective_old[\"R_EX_ac_LPAREN_e_RPAREN_\"]=1\n",
    "model_iFS431.set_objective(objective_old)\n",
    "\n",
    "sol = reframed.FBA(model_iFS431)\n",
    "sol"
   ]
  },
  {
   "cell_type": "code",
   "execution_count": 650,
   "id": "f48de6f7-5b9e-4573-a273-a031312bcd18",
   "metadata": {},
   "outputs": [
    {
     "name": "stdout",
     "output_type": "stream",
     "text": [
      "[ --> o ] R_GAPD        20       \tM_cpd00009_c + M_cpd00102_c + M_cpd00003_c <-> M_cpd00067_c + M_cpd00203_c + M_cpd00004_c\n",
      "[ o --> ] R_FNOR2      -20       \tM_cpd00004_c + M_cpd15876_c <-> M_cpd00067_c + M_cpd00003_c + M_cpd15877_c\n"
     ]
    }
   ],
   "source": [
    "sol.show_metabolite_balance(\"M_cpd00004_c\",model_iFS431,equations=True)"
   ]
  },
  {
   "cell_type": "code",
   "execution_count": 651,
   "id": "bf993fd6-1712-4a32-b2c9-7d6f69536d75",
   "metadata": {},
   "outputs": [
    {
     "name": "stdout",
     "output_type": "stream",
     "text": [
      "[ --> o ] R_FRHD        40       \t2.0 M_cpd00067_c + M_cpd15877_c --> M_cpd15876_c + M_cpd11640_c\n",
      "[ o --> ] R_POR        -20       \tM_cpd00020_c + M_cpd00010_c + M_cpd15876_c <-> M_cpd00067_c + M_cpd00011_c + M_cpd00022_c + M_cpd15877_c\n",
      "[ o --> ] R_FNOR2      -20       \tM_cpd00004_c + M_cpd15876_c <-> M_cpd00067_c + M_cpd00003_c + M_cpd15877_c\n"
     ]
    }
   ],
   "source": [
    "sol.show_metabolite_balance(\"M_cpd15876_c\",model_iFS431,equations=True)"
   ]
  },
  {
   "cell_type": "code",
   "execution_count": 652,
   "id": "b89cef39-0f60-441a-8b7f-b81df569269c",
   "metadata": {},
   "outputs": [
    {
     "data": {
      "text/plain": [
       "['R_NIT_n1p4',\n",
       " 'R_ACOAD1',\n",
       " 'R_CODHr',\n",
       " 'R_NTRIRfdox',\n",
       " 'R_FRHD',\n",
       " 'R_SUCD1',\n",
       " 'R_POR',\n",
       " 'R_FNOR2',\n",
       " 'R_FNOR3']"
      ]
     },
     "execution_count": 652,
     "metadata": {},
     "output_type": "execute_result"
    }
   ],
   "source": [
    "model_iFS431.get_metabolite_reactions(\"M_cpd15876_c\")"
   ]
  },
  {
   "cell_type": "code",
   "execution_count": 653,
   "id": "87f2e42b-14f4-410e-988f-642ca037bebf",
   "metadata": {},
   "outputs": [
    {
     "name": "stdout",
     "output_type": "stream",
     "text": [
      "[ o <-- ] R_ATPS4r      40       \tM_cpd00008_c + M_cpd00009_c + 4.0 M_cpd00067_e <-> M_cpd00002_c + 3.0 M_cpd00067_c + M_cpd00001_c\n",
      "[ o --> ] R_GAPD       -20       \tM_cpd00009_c + M_cpd00102_c + M_cpd00003_c <-> M_cpd00067_c + M_cpd00203_c + M_cpd00004_c\n",
      "[ o --> ] R_PTA        -20       \tM_cpd00009_c + M_cpd00022_c --> M_cpd00010_c + M_cpd00196_c\n"
     ]
    }
   ],
   "source": [
    "sol.show_metabolite_balance(\"M_cpd00009_c\",model_iFS431,equations=True)"
   ]
  },
  {
   "cell_type": "code",
   "execution_count": 654,
   "id": "8550a97c-5025-45b9-9441-d9bbb54431ea",
   "metadata": {},
   "outputs": [
    {
     "name": "stdout",
     "output_type": "stream",
     "text": [
      "[ --> o ] R_ENO         20       \tM_cpd00482_c <-> M_cpd00001_c + M_cpd00061_c\n",
      "[ o --> ] R_PYK        -10       \tM_cpd00008_c + M_cpd00067_c + M_cpd00061_c --> M_cpd00002_c + M_cpd00020_c\n",
      "[ o --> ] R_GLCpts     -10       \tM_cpd00061_c + M_cpd00027_e --> M_cpd00079_c + M_cpd00020_c\n"
     ]
    }
   ],
   "source": [
    "sol.show_metabolite_balance(\"M_cpd00061_c\",model_iFS431,equations=True)"
   ]
  },
  {
   "cell_type": "code",
   "execution_count": 655,
   "id": "e9af4c23-510d-4ab0-b129-7725f881e8dc",
   "metadata": {},
   "outputs": [
    {
     "name": "stdout",
     "output_type": "stream",
     "text": [
      "[ o <-- ] R_ATPS4r      160      \tM_cpd00008_c + M_cpd00009_c + 4.0 M_cpd00067_e <-> M_cpd00002_c + 3.0 M_cpd00067_c + M_cpd00001_c\n",
      "[ o <-- ] R_ACt6        20       \tM_cpd00067_e + M_cpd00029_e <-> M_cpd00067_c + M_cpd00029_c\n",
      "[ o --> ] R_NO2t3      -80       \tM_cpd00067_e + M_cpd00075_c --> M_cpd00067_c + M_cpd00075_e\n",
      "[ o --> ] R_NO2t2ir    -80       \tM_cpd00067_e + M_cpd00075_e --> M_cpd00067_c + M_cpd00075_c\n",
      "[ o --> ] R_EX_h_LPAREN_e_RPAREN_ -20       \tM_cpd00067_e <-> \n"
     ]
    }
   ],
   "source": [
    "sol.show_metabolite_balance(\"M_cpd00067_e\",model_iFS431,equations=True)"
   ]
  },
  {
   "cell_type": "code",
   "execution_count": 656,
   "id": "4bfebceb-ae1b-46d8-bf4d-5c77441cd2b8",
   "metadata": {},
   "outputs": [
    {
     "data": {
      "text/plain": [
       "Phosphoenolpyruvate"
      ]
     },
     "execution_count": 656,
     "metadata": {},
     "output_type": "execute_result"
    }
   ],
   "source": [
    "model_iFS431.metabolites.M_cpd00061_c"
   ]
  },
  {
   "cell_type": "code",
   "execution_count": 657,
   "id": "63725590-2e46-429a-8d25-dd581fc257c5",
   "metadata": {
    "tags": []
   },
   "outputs": [
    {
     "data": {
      "text/plain": [
       "Objective: 40.0\n",
       "Status: Optimal"
      ]
     },
     "execution_count": 657,
     "metadata": {},
     "output_type": "execute_result"
    }
   ],
   "source": [
    "model_iFS431.reactions.R_ATPM_LPAREN_prev_PERIOD_NGAM_RPAREN_.lb=0\n",
    "model_iFS431.reactions.R_ATPM_LPAREN_prev_PERIOD_NGAM_RPAREN_.ub=1000\n",
    "objective_old = {rxn:0 for rxn in model_iFS431.reactions.keys()}\n",
    "objective_old[\"R_ATPM_LPAREN_prev_PERIOD_NGAM_RPAREN_\"]=1\n",
    "model_iFS431.set_objective(objective_old)\n",
    "\n",
    "sol = reframed.FBA(model_iFS431)\n",
    "sol"
   ]
  },
  {
   "cell_type": "code",
   "execution_count": 658,
   "id": "0bdef29a-b9aa-49a8-ad97-d7b0ef155061",
   "metadata": {},
   "outputs": [
    {
     "data": {
      "text/plain": [
       "R_ATPM_LPAREN_prev_PERIOD_NGAM_RPAREN_: M_cpd00002_c + M_cpd00001_c --> M_cpd00008_c + M_cpd00067_c + M_cpd00009_c [0, 1000] @1"
      ]
     },
     "execution_count": 658,
     "metadata": {},
     "output_type": "execute_result"
    }
   ],
   "source": [
    "model_iFS431.reactions.R_ATPM_LPAREN_prev_PERIOD_NGAM_RPAREN_"
   ]
  },
  {
   "cell_type": "code",
   "execution_count": 659,
   "id": "727bffb1-714d-41a2-85db-641213050eed",
   "metadata": {},
   "outputs": [
    {
     "data": {
      "text/plain": [
       "R_ATPM: M_atp_c + M_h2o_c --> M_adp_c + M_h_c + M_pi_c @1"
      ]
     },
     "execution_count": 659,
     "metadata": {},
     "output_type": "execute_result"
    }
   ],
   "source": [
    "model.reactions.R_ATPM"
   ]
  },
  {
   "cell_type": "code",
   "execution_count": 660,
   "id": "d8ed2148-83b6-4c8d-b03b-1dbe55aa1045",
   "metadata": {},
   "outputs": [
    {
     "name": "stdout",
     "output_type": "stream",
     "text": [
      "R_EX_h_LPAREN_e_RPAREN_  20\n",
      "R_EX_h2o_LPAREN_e_RPAREN_ -20\n",
      "R_EX_glc_LPAREN_e_RPAREN_ -10\n",
      "R_EX_ac_LPAREN_e_RPAREN_  20\n",
      "R_EX_h2_LPAREN_e_RPAREN_  40\n",
      "R_EX_co2_LPAREN_e_RPAREN_  20\n"
     ]
    }
   ],
   "source": [
    "sol.show_values(pattern=\"R_EX_\")"
   ]
  },
  {
   "cell_type": "code",
   "execution_count": 661,
   "id": "6e6ff31e-7b80-4a50-8d65-7ac289002c4a",
   "metadata": {},
   "outputs": [],
   "source": [
    "model_iFS431 = reframed.load_cbmodel(\"../models/iFS431.xml\",load_gprs=False,flavor=\"cobra\")"
   ]
  },
  {
   "cell_type": "code",
   "execution_count": 662,
   "id": "a51d546b-12bf-445b-b03a-445183787d46",
   "metadata": {},
   "outputs": [
    {
     "data": {
      "text/plain": [
       "R_EX_h_LPAREN_e_RPAREN_\t-0.008\tinf\n",
       "R_EX_fe2_LPAREN_e_RPAREN_\t-0.015\t0.0\n",
       "R_EX_so4_LPAREN_e_RPAREN_\t-6.38\t0.0\n",
       "R_EX_pi_LPAREN_e_RPAREN_\t-2.79\t0.0\n",
       "R_EX_nh4_LPAREN_e_RPAREN_\t-11.89\t0.0\n",
       "R_EX_mg2_LPAREN_e_RPAREN_\t-0.41\t0.0\n",
       "R_EX_k_LPAREN_e_RPAREN_\t-2.79\t0.0\n",
       "R_EX_h2o_LPAREN_e_RPAREN_\t-inf\tinf\n",
       "R_EX_glc_LPAREN_e_RPAREN_\t-19.476\t0.0\n",
       "R_EX_btn_LPAREN_e_RPAREN_\t-0.015\t0.0\n",
       "R_EX_4abz_LPAREN_e_RPAREN_\t-0.007\t0.0\n",
       "R_EX_ac_LPAREN_e_RPAREN_\t0.0\tinf\n",
       "R_EX_n2_LPAREN_e_RPAREN_\t-inf\tinf\n",
       "R_EX_na1_LPAREN_e_RPAREN_\t-12.6\t0.0\n",
       "R_EX_cl_LPAREN_e_RPAREN_\t-12.6\t0.0\n",
       "R_EX_asn_DASH_L_LPAREN_e_RPAREN_\t0.0\t0.0\n",
       "R_EX_cellb_LPAREN_e_RPAREN_\t0.0\t0.0\n",
       "R_EX_pyr_LPAREN_e_RPAREN_\t0.0\t0.0\n",
       "R_EX_h2_LPAREN_e_RPAREN_\t0.0\tinf\n",
       "R_EX_for_LPAREN_e_RPAREN_\t0.0\tinf\n",
       "R_EX_co2_LPAREN_e_RPAREN_\t0.0\tinf\n",
       "R_EX_lac_DASH_L_LPAREN_e_RPAREN_\t0.0\tinf\n",
       "R_EX_actn_DASH_R_LPAREN_e_RPAREN_\t0.0\tinf\n",
       "R_EX_but_LPAREN_e_RPAREN_\t0.0\tinf\n",
       "R_EX_btoh_LPAREN_e_RPAREN_\t0.0\tinf\n",
       "R_EX_etoh_LPAREN_e_RPAREN_\t0.0\tinf\n",
       "R_EX_acetone_LPAREN_e_RPAREN_\t0.0\tinf\n",
       "R_EX_2ppoh_LPAREN_e_RPAREN_\t0.0\tinf\n",
       "R_EX_lac_DASH_D_LPAREN_e_RPAREN_\t0.0\tinf\n",
       "R_EX_gcald_LPAREN_e_RPAREN_\t0.0\tinf\n",
       "R_EX_BIOMASS_LPAREN_e_RPAREN_\t0.0\tinf"
      ]
     },
     "execution_count": 662,
     "metadata": {},
     "output_type": "execute_result"
    }
   ],
   "source": [
    "env_model = Environment.from_model(model_iFS431)\n",
    "env_model.apply(model_iFS431,inplace=True,exclusive=True)\n",
    "env_model"
   ]
  },
  {
   "cell_type": "code",
   "execution_count": 663,
   "id": "c8dfb7a0-b400-4f26-97c9-0f167b7e0ea7",
   "metadata": {},
   "outputs": [],
   "source": [
    "set2 = env_model.simplify().keys()"
   ]
  },
  {
   "cell_type": "code",
   "execution_count": 664,
   "id": "a37bb1bc-cff1-4d95-a383-9e14607020ba",
   "metadata": {},
   "outputs": [
    {
     "data": {
      "text/plain": [
       "{'R_EX_cellb_LPAREN_e_RPAREN_'}"
      ]
     },
     "execution_count": 664,
     "metadata": {},
     "output_type": "execute_result"
    }
   ],
   "source": [
    "set(set1)-set(set2)"
   ]
  },
  {
   "cell_type": "code",
   "execution_count": 665,
   "id": "148a5bf1-b77a-44bb-9c18-aa1f4daab0cc",
   "metadata": {},
   "outputs": [
    {
     "data": {
      "text/plain": [
       "{'R_EX_n2_LPAREN_e_RPAREN_'}"
      ]
     },
     "execution_count": 665,
     "metadata": {},
     "output_type": "execute_result"
    }
   ],
   "source": [
    "set(set2)-set(set1)"
   ]
  },
  {
   "cell_type": "code",
   "execution_count": 666,
   "id": "229d5f4e-9316-468d-a594-22bf9e1ec086",
   "metadata": {},
   "outputs": [],
   "source": [
    "objective_old = {rxn:0 for rxn in model_iFS431.reactions.keys()}\n",
    "objective_old[\"R_EX_lac_DASH_D_LPAREN_e_RPAREN_\"]=1\n",
    "model_iFS431.set_objective(objective_old)"
   ]
  },
  {
   "cell_type": "code",
   "execution_count": 667,
   "id": "97b83359-e9dd-4f08-b295-d9eeeab674fd",
   "metadata": {},
   "outputs": [],
   "source": [
    "sol = reframed.FBA(model_iFS431)"
   ]
  },
  {
   "cell_type": "code",
   "execution_count": 668,
   "id": "d5795699-90cc-4cbb-aedc-2a54eb08fbca",
   "metadata": {},
   "outputs": [
    {
     "name": "stdout",
     "output_type": "stream",
     "text": [
      "[ o <-- ] R_LDH_D       38.952   \n",
      "[ o --> ] R_GAPD       -38.952   \n"
     ]
    }
   ],
   "source": [
    "sol.show_metabolite_balance(\"M_cpd00003_c\",model_iFS431)"
   ]
  },
  {
   "cell_type": "code",
   "execution_count": 669,
   "id": "214ab1a7-497c-4396-a229-154869f204a5",
   "metadata": {},
   "outputs": [
    {
     "name": "stdout",
     "output_type": "stream",
     "text": [
      "[ --> o ] R_PYK         19.476   \n",
      "[ o <-- ] R_PGK         38.952   \n",
      "[ o --> ] R_PFK        -19.476   \n",
      "[ o --> ] R_Coabc      -37.952   \n",
      "[ o --> ] R_ATPM_LPAREN_prev_PERIOD_NGAM_RPAREN_ -1        \n"
     ]
    }
   ],
   "source": [
    "sol.show_metabolite_balance(\"M_cpd00002_c\",model_iFS431)"
   ]
  },
  {
   "cell_type": "code",
   "execution_count": 670,
   "id": "a5ad0404-bdf3-4be1-95f4-38290770f2a5",
   "metadata": {},
   "outputs": [
    {
     "data": {
      "text/plain": [
       "Co2"
      ]
     },
     "execution_count": 670,
     "metadata": {},
     "output_type": "execute_result"
    }
   ],
   "source": [
    "model_iFS431.metabolites.M_cpd00149_e"
   ]
  },
  {
   "cell_type": "code",
   "execution_count": 671,
   "id": "00a5708a-06aa-4814-87de-d3d8e377ff68",
   "metadata": {},
   "outputs": [
    {
     "name": "stdout",
     "output_type": "stream",
     "text": [
      "[ --> o ] R_COBALTt5    37.952   \n",
      "[ o --> ] R_Coabc      -37.952   \n"
     ]
    }
   ],
   "source": [
    "sol.show_metabolite_balance(\"M_cpd00149_e\",model_iFS431)"
   ]
  },
  {
   "cell_type": "code",
   "execution_count": 672,
   "id": "9483000e-23c5-44ee-9576-e456989f7412",
   "metadata": {},
   "outputs": [
    {
     "data": {
      "text/plain": [
       "R_EX_BIOMASS_LPAREN_e_RPAREN_: M_cpd11416_e --> "
      ]
     },
     "execution_count": 672,
     "metadata": {},
     "output_type": "execute_result"
    }
   ],
   "source": [
    "model_iFS431.reactions.R_EX_BIOMASS_LPAREN_e_RPAREN_"
   ]
  },
  {
   "cell_type": "code",
   "execution_count": null,
   "id": "4a533441-6833-4d17-920a-c88e40e3f904",
   "metadata": {},
   "outputs": [],
   "source": []
  }
 ],
 "metadata": {
  "kernelspec": {
   "display_name": "rcell_rec",
   "language": "python",
   "name": "rcell_rec"
  },
  "language_info": {
   "codemirror_mode": {
    "name": "ipython",
    "version": 3
   },
   "file_extension": ".py",
   "mimetype": "text/x-python",
   "name": "python",
   "nbconvert_exporter": "python",
   "pygments_lexer": "ipython3",
   "version": "3.8.6"
  }
 },
 "nbformat": 4,
 "nbformat_minor": 5
}
