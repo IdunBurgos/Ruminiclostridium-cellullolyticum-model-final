{
 "cells": [
  {
   "cell_type": "markdown",
   "id": "c189c14f-6479-45dc-b91f-cc4b2b856b44",
   "metadata": {},
   "source": [
    "# Simulation of batch experiment"
   ]
  },
  {
   "cell_type": "code",
   "execution_count": 1,
   "id": "861d8fdd-be27-4683-aa8c-84a13d012ded",
   "metadata": {},
   "outputs": [],
   "source": [
    "import numpy as np\n",
    "from tqdm import tqdm\n",
    "\n",
    "from scipy.integrate import solve_ivp\n",
    "\n",
    "import matplotlib.pyplot as plt\n",
    "%matplotlib inline\n",
    "\n",
    "import cobra\n",
    "import reframed\n",
    "from cobra.io import load_model\n",
    "import pandas as pd\n",
    "\n",
    "import molmass\n",
    "\n",
    "import sys\n",
    "sys.path.append(\"../functions/\")\n",
    "\n",
    "%load_ext autoreload\n",
    "%autoreload 2\n",
    "\n",
    "import dfba_cobra_cellulose"
   ]
  },
  {
   "cell_type": "markdown",
   "id": "d50a8947-3409-4df6-a785-18707cdbf150",
   "metadata": {},
   "source": [
    "### Prepare for simulation"
   ]
  },
  {
   "cell_type": "code",
   "execution_count": 2,
   "id": "8943cde8-6c04-4291-9e5d-13c8024c702b",
   "metadata": {},
   "outputs": [],
   "source": [
    "cellulose_exp = pd.read_csv(\"../input/Desvaux2001_batch_data/cellulose_g.csv\")\n",
    "biomass_exp = pd.read_csv(\"../input/Desvaux2001_batch_data/biomass_mg.csv\")\n",
    "ethanol = pd.read_csv(\"../input/Desvaux2001_batch_data/ethanol_mmol.csv\")\n",
    "acetate = pd.read_csv(\"../input/Desvaux2001_batch_data/acetate_mmol.csv\")\n",
    "lactate = pd.read_csv(\"../input/Desvaux2001_batch_data/lactate_mmol.csv\")\n",
    "pyruvate = pd.read_csv(\"../input/Desvaux2001_batch_data/pyruvate_umol.csv\")\n",
    "cellobiose = pd.read_csv(\"../input/Desvaux2001_batch_data/cellobiose_mmol.csv\")\n",
    "glucose = pd.read_csv(\"../input/Desvaux2001_batch_data/glucose_mmol.csv\")\n"
   ]
  },
  {
   "cell_type": "markdown",
   "id": "cb1c899d-acf2-4bab-b000-96437ccb0a10",
   "metadata": {},
   "source": [
    "**Calculate specific production rates**"
   ]
  },
  {
   "cell_type": "code",
   "execution_count": 3,
   "id": "f08a2a8d-2773-44e5-af64-5fcd448a84c9",
   "metadata": {},
   "outputs": [],
   "source": [
    "diff_bio = ((biomass_exp[biomass_exp.x<70].shift(-1)[\" y\"]-biomass_exp[biomass_exp.x<70][\" y\"]).mean()/1000)\n",
    "diff_ac = (acetate[acetate.x<70].shift(-1)[\" y\"]-acetate[acetate.x<70][\" y\"]).mean()\n",
    "diff_lac = (lactate[lactate.x<70].shift(-1)[\" y\"]-lactate[lactate.x<70][\" y\"]).mean()\n",
    "diff_etoh = (ethanol[ethanol.x<70].shift(-1)[\" y\"]-ethanol[ethanol.x<70][\" y\"]).mean()\n",
    "diff_pyr = (pyruvate[pyruvate.x<70].shift(-1)[\" y\"]-pyruvate[pyruvate.x<70][\" y\"]).mean()/1000"
   ]
  },
  {
   "cell_type": "code",
   "execution_count": 4,
   "id": "ddf2e6d5-6f61-4d09-9365-96e5e4503d38",
   "metadata": {},
   "outputs": [
    {
     "name": "stdout",
     "output_type": "stream",
     "text": [
      "Set parameter Username\n",
      "\n",
      "--------------------------------------------\n",
      "Warning: your license will expire in 11 days\n",
      "--------------------------------------------\n",
      "\n",
      "Academic license - for non-commercial use only - expires 2025-03-14\n"
     ]
    }
   ],
   "source": [
    "model = reframed.load_cbmodel(\"../models/RcH10_final.xml\")\n",
    "model.reactions.R_EX_gal_e.ub=0\n",
    "model.reactions.R_EX_rib__D_e.ub=0\n",
    "model.add_ratio_constraint(\"R_Growth\",\"R_EX_ac_e\",round((diff_bio/diff_ac),2))\n",
    "model.add_ratio_constraint(\"R_Growth\",\"R_EX_etoh_e\",round(diff_bio/diff_etoh,2)) \n",
    "model.add_ratio_constraint(\"R_Growth\",\"R_EX_lac__L_e\",round(diff_bio/diff_lac,2)) \n",
    "model.add_ratio_constraint(\"R_Growth\",\"R_EX_pyr_e\",round(diff_ac/diff_pyr,2)) \n",
    "reframed.save_cbmodel(model,\"../models/RcH10_final_flux_ratio.xml\")\n",
    "model = cobra.io.read_sbml_model('../models/RcH10_final_flux_ratio.xml')\n",
    " \n",
    "\n",
    "medium = model.medium\n",
    "\n",
    "medium[\"EX_glc__D_e\"]=10.0\n",
    "model.medium = medium\n",
    "cobra.util.add_lp_feasibility(model)"
   ]
  },
  {
   "cell_type": "code",
   "execution_count": 5,
   "id": "283ff52d-cdbc-4b64-b544-256d86bffeb8",
   "metadata": {
    "tags": []
   },
   "outputs": [
    {
     "name": "stderr",
     "output_type": "stream",
     "text": [
      "t = 73.847: : 354it [00:55,  6.37it/s]\n"
     ]
    }
   ],
   "source": [
    "#ts = np.linspace(0, 150, 1000)  # Desired integration resolution and interval\n",
    "ts = np.linspace(0, 81, 1000)  # Desired integration resolution and interval\n",
    "\n",
    "y0 = [0.02,0,0,0,0,0,0,38.53897]\n",
    "\n",
    "rxns = [\"Growth\",\"EX_glc__D_e\",\"EX_cellb_e\",\"EX_ac_e\",\"EX_etoh_e\",\"EX_lac__L_e\",\"EX_pyr_e\"]\n",
    "objective_dir = [\"max\",\"max\",\"max\",\"min\",\"min\",\"min\",\"min\"]\n",
    "\n",
    "\n",
    "with tqdm() as pbar:\n",
    "    dfba_cobra_cellulose.dynamic_system.pbar = pbar\n",
    "\n",
    "    sol = solve_ivp(\n",
    "        fun=dfba_cobra_cellulose.dynamic_system,\n",
    "        t_span=(ts.min(), ts.max()),\n",
    "        y0=y0,\n",
    "        #t_eval=ts,\n",
    "        method='LSODA',\n",
    "        events = [dfba_cobra_cellulose.infeasible_event],\n",
    "        args = (model,rxns,objective_dir,)\n",
    "    )"
   ]
  },
  {
   "cell_type": "markdown",
   "id": "6decccad-969c-4d0b-9dd1-4bf5bfc6d3f0",
   "metadata": {
    "tags": []
   },
   "source": [
    "#### Process data and plot results"
   ]
  },
  {
   "cell_type": "code",
   "execution_count": 6,
   "id": "88684eb3-ddf5-4b7b-a035-09f797ad26bd",
   "metadata": {},
   "outputs": [],
   "source": [
    "\n",
    "rxns_map = rxns.copy()\n",
    "rxns_map.append(\"EX_cellulose_e\")\n",
    "C_results = dict(zip(rxns_map,sol.y))\n",
    "\n",
    "t_extend = np.linspace(sol.t[-1],150)#[1:]\n",
    "C_extend = {rxn:np.array([c[-1] for item in t_extend]) for rxn,c in C_results.items()}\n",
    "\n",
    "\n",
    "## Before growth hault\n",
    "names = []\n",
    "C_time_series = {}\n",
    "for key,values in C_results.items():\n",
    "    if key!=\"EX_cellulose_e\" and key!=\"Growth\":\n",
    "        met = model.reactions.get_by_id(key)\n",
    "        met_name = list(met.metabolites.keys())[0].name\n",
    "    elif key==\"EX_cellulose_e\":\n",
    "        met_name = \"Cellulose (hexose eq.)\"\n",
    "    elif key==\"Growth\":\n",
    "        met_name = \"Biomass\"\n",
    "    C_time_series[met_name]=values\n",
    "    \n",
    "C_df = pd.DataFrame(C_time_series)\n",
    "C_df.index = sol.t\n",
    "molar_mass = 173.85  # Based on glucose equivalent (based on 0.35 cellobiose and 0.3 glucose)\n",
    "C_df[\"Cellulose (hexose eq.)\"] = C_df[\"Cellulose (hexose eq.)\"]*molar_mass/1000 # [g]\n",
    "\n",
    "\n",
    "## After growth stop\n",
    "C_time_series_2 = {}\n",
    "for key,values in C_extend.items():\n",
    "    if key!=\"EX_cellulose_e\" and key!=\"Growth\":\n",
    "        met = model.reactions.get_by_id(key)\n",
    "        met_name = list(met.metabolites.keys())[0].name\n",
    "    elif key==\"EX_cellulose_e\":\n",
    "        met_name = \"Cellulose (hexose eq.)\"\n",
    "    elif key==\"Growth\":\n",
    "        met_name = \"Biomass\"\n",
    "    C_time_series_2[met_name]=values\n",
    "\n",
    "C_df2 = pd.DataFrame(C_time_series_2)\n",
    "C_df2.index = t_extend\n",
    "molar_mass = 173.85  # Based on glucose equivalent (based on 0.35 cellobiose and 0.3 glucose)\n",
    "C_df2[\"Cellulose (hexose eq.)\"] = C_df2[\"Cellulose (hexose eq.)\"]*molar_mass/1000 # [g]"
   ]
  },
  {
   "cell_type": "code",
   "execution_count": 7,
   "id": "2fb2655c-dd25-4755-926a-d1b0d7fd4567",
   "metadata": {},
   "outputs": [],
   "source": [
    "from matplotlib.gridspec import GridSpec"
   ]
  },
  {
   "cell_type": "markdown",
   "id": "d49f8420-b389-4b54-8855-b33c396fc25b",
   "metadata": {},
   "source": [
    "#### Convert to grams"
   ]
  },
  {
   "cell_type": "code",
   "execution_count": 8,
   "id": "ae05ce4d-e52c-4f97-99db-745667b933f0",
   "metadata": {},
   "outputs": [],
   "source": [
    "Mm_glc = molmass.Formula(model.metabolites.get_by_id(\"glc__D_c\").formula).mass\n",
    "Mm_cellb = molmass.Formula(model.metabolites.get_by_id(\"cellb_c\").formula).mass\n",
    "Mm_ac = molmass.Formula(model.metabolites.get_by_id(\"ac_c\").formula).mass\n",
    "Mm_lac = molmass.Formula(model.metabolites.get_by_id(\"lac__L_c\").formula).mass\n",
    "Mm_etoh = molmass.Formula(model.metabolites.get_by_id(\"etoh_c\").formula).mass\n",
    "\n",
    "C_df_copy = C_df.copy()\n",
    "C_df_copy[\"D-Glucose\"] = C_df_copy[\"D-Glucose\"].map(lambda x: x*Mm_glc/1000) # mmol -> g: mmol*g/mol = g/1000 \n",
    "C_df_copy[\"Cellobiose\"] = C_df_copy[\"Cellobiose\"].map(lambda x: x*Mm_cellb/1000) # mmol -> g: mmol*g/mol = g/1000 \n",
    "C_df_copy[\"Acetate\"] = C_df_copy[\"Acetate\"].map(lambda x: x*Mm_ac/1000) # mmol -> g: mmol*g/mol = g/1000 \n",
    "C_df_copy[\"L-Lactate\"] = C_df_copy[\"L-Lactate\"].map(lambda x: x*Mm_lac/1000) # mmol -> g: mmol*g/mol = g/1000 \n",
    "C_df_copy[\"Ethanol\"] = C_df_copy[\"Ethanol\"].map(lambda x: x*Mm_etoh/1000) # mmol -> g: mmol*g/mol = g/1000 \n",
    "\n",
    "\n",
    "C_df2_copy = C_df2.copy()\n",
    "C_df2_copy[\"D-Glucose\"] = C_df2_copy[\"D-Glucose\"].map(lambda x: x*Mm_glc/1000) # mmol -> g: mmol*g/mol = g/1000 \n",
    "C_df2_copy[\"Cellobiose\"] = C_df2_copy[\"Cellobiose\"].map(lambda x: x*Mm_cellb/1000) # mmol -> g: mmol*g/mol = g/1000 \n",
    "C_df2_copy[\"Acetate\"] = C_df2_copy[\"Acetate\"].map(lambda x: x*Mm_ac/1000) # mmol -> g: mmol*g/mol = g/1000 \n",
    "C_df2_copy[\"L-Lactate\"] = C_df2_copy[\"L-Lactate\"].map(lambda x: x*Mm_lac/1000) # mmol -> g: mmol*g/mol = g/1000 \n",
    "C_df2_copy[\"Ethanol\"] = C_df2_copy[\"Ethanol\"].map(lambda x: x*Mm_etoh/1000) # mmol -> g: mmol*g/mol = g/1000 \n",
    "\n",
    "cellobiose_copy = cellobiose.copy()\n",
    "cellobiose_copy[\" y\"] = cellobiose_copy[\" y\"].map(lambda x: x*Mm_cellb/1000) # mmol -> g: mmol*g/mol = g/1000 \n",
    "glucose_copy = glucose.copy()\n",
    "glucose_copy[\" y\"] = glucose_copy[\" y\"].map(lambda x: x*Mm_glc/1000) # mmol -> g: mmol*g/mol = g/1000 \n",
    "\n",
    "\n",
    "acetate_copy = acetate.copy()\n",
    "acetate_copy[\" y\"] = acetate_copy[\" y\"].map(lambda x: x*Mm_ac/1000) # mmol -> g: mmol*g/mol = g/1000 \n",
    "lactate_copy = lactate.copy()\n",
    "lactate_copy[\" y\"] = lactate_copy[\" y\"].map(lambda x: x*Mm_lac/1000) # mmol -> g: mmol*g/mol = g/1000 \n",
    "ethanol_copy = ethanol.copy()\n",
    "ethanol_copy[\" y\"] = ethanol_copy[\" y\"].map(lambda x: x*Mm_etoh/1000) # mmol -> g: mmol*g/mol = g/1000 "
   ]
  },
  {
   "cell_type": "markdown",
   "id": "fa72c27b-1a9f-45f4-a06c-cef4bee5b261",
   "metadata": {},
   "source": [
    "### Plot figures"
   ]
  },
  {
   "cell_type": "markdown",
   "id": "e7ce303c-3d84-4b16-88b7-f390d9209fa9",
   "metadata": {},
   "source": [
    "#### fig = plt.figure(figsize=(10,8))\n",
    "gs = GridSpec(4,6,figure=fig)\n",
    "ax1 = fig.add_subplot(gs[0:2, :])\n",
    "#ax3 = fig.add_subplot(gs[2:3,1:5])\n",
    "# identical to ax1 = plt.subplot(gs.new_subplotspec((0, 0), colspan=3))\n",
    "ax2 = fig.add_subplot(gs[2:,0:3])\n",
    "ax3 = fig.add_subplot(gs[2:,3:])\n",
    "\n",
    "\n",
    "C_df.loc[:,[\"Cellulose (hexose eq.)\"]].plot(ax=ax1,xlabel=\"Time [h]\",ylabel=\"Conc. [g/L]\",color=\"green\")\n",
    "C_df2.loc[:,[\"Cellulose (hexose eq.)\"]].plot(ax=ax1,xlabel=\"Time [h]\",ylabel=\"Conc. [g/L]\",color=\"green\",linestyle=\"--\")\n",
    "\n",
    "ax1.plot(cellulose_exp[\"x\"].values,cellulose_exp[\" y\"].values,'x',color=\"green\")\n",
    "ax1.set_ylim([0,8])\n",
    "ax1.legend([\"Cellulose\"],loc=\"upper left\")\n",
    "ax1_twin = ax1.twinx()\n",
    "\n",
    "pd.Series(index=C_df.index,data=np.array(C_df[\"Biomass\"])).plot(ax=ax1_twin,xlabel=\"Time [h]\",ylabel=\"Conc. [g/L]\",color=\"black\") #1000\n",
    "pd.Series(index=C_df2.index,data=np.array(C_df2[\"Biomass\"])).plot(ax=ax1_twin,xlabel=\"Time [h]\",ylabel=\"Conc. [g/L]\",color=\"black\",linestyle=\"--\") #1000\n",
    "\n",
    "biomass_exp_copy = biomass_exp.copy()\n",
    "biomass_exp_copy[\" y\"] = biomass_exp_copy[\" y\"]/1000\n",
    "\n",
    "ax1_twin.plot(biomass_exp_copy[\"x\"].values,biomass_exp_copy[\" y\"].values,'x',color=\"black\",)\n",
    "#ax1_twin.set_ylim([0,0.8])\n",
    "ax1_twin.legend([\"Biomass\"])\n",
    "\n",
    "\n",
    "C_df_copy.loc[:,[\"Acetate\",\"Ethanol\",\"L-Lactate\"]].plot(ax=ax2,color=[\"grey\",\"tab:orange\",\"tab:red\"],xlabel=\"Time [h]\",ylabel=\"Conc. [g/L]\")\n",
    "C_df2_copy.loc[:,[\"Acetate\",\"Ethanol\",\"L-Lactate\"]].plot(ax=ax2,color=[\"grey\",\"tab:orange\",\"tab:red\"],xlabel=\"Time [h]\",ylabel=\"Conc. [g/L]\",linestyle=\"--\",legend=False)\n",
    "\n",
    "ax2.plot(acetate_copy[\"x\"].values,acetate_copy[\" y\"].values,'x',color=\"grey\")\n",
    "ax2.plot(ethanol_copy[\"x\"].values,ethanol_copy[\" y\"].values,'x',color=\"tab:orange\")\n",
    "ax2.plot(lactate_copy[\"x\"].values,lactate_copy[\" y\"].values,'x',color=\"tab:red\")\n",
    "\n",
    "\n",
    "C_df_copy.loc[:,[\"Cellobiose\",\"D-Glucose\"]].plot(ax=ax3,ylim=[0,0.2],color=[\"lightgreen\",\"tab:blue\"],xlabel=\"Time [h]\",ylabel=\"Conc. [g/L]\")\n",
    "C_df2_copy.loc[:,[\"Cellobiose\",\"D-Glucose\"]].plot(ax=ax3,ylim=[0,0.2],color=[\"lightgreen\",\"tab:blue\"],xlabel=\"Time [h]\",ylabel=\"Conc. [g/L]\",linestyle=\"--\",legend=False)\n",
    "\n",
    "ax3.plot(cellobiose[\"x\"].values,cellobiose[\" y\"].values,'x',color=\"lightgreen\")\n",
    "ax3.plot(glucose[\"x\"].values,glucose[\" y\"].values,'x',color=\"tab:blue\")\n",
    "\n",
    "\n",
    "ax1.set_title(\"a)\\n\",loc=\"left\")\n",
    "ax2.set_title(\"b)\\n\",loc=\"left\")\n",
    "ax3.set_title(\"c)\\n\",loc=\"left\")\n",
    "\n",
    "plt.tight_layout()\n",
    "plt.savefig(\"../figures/batch_replication.png\")"
   ]
  }
 ],
 "metadata": {
  "kernelspec": {
   "display_name": "rcell_rec",
   "language": "python",
   "name": "rcell_rec"
  },
  "language_info": {
   "codemirror_mode": {
    "name": "ipython",
    "version": 3
   },
   "file_extension": ".py",
   "mimetype": "text/x-python",
   "name": "python",
   "nbconvert_exporter": "python",
   "pygments_lexer": "ipython3",
   "version": "3.8.6"
  }
 },
 "nbformat": 4,
 "nbformat_minor": 5
}
