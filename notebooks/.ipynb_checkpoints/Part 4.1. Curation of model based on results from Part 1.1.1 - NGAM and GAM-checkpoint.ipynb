{
 "cells": [
  {
   "cell_type": "markdown",
   "id": "ac4213d5-1932-4ada-8b19-da655bdc2bfd",
   "metadata": {},
   "source": [
    "# <span style=\"color: blue;\">Part 4.1: Curation of model - NGAM and GAM</span>"
   ]
  },
  {
   "cell_type": "markdown",
   "id": "9edd7bdf-e9d1-4359-a86d-8bc452ae7848",
   "metadata": {},
   "source": [
    "- The pathways for sugar metabolism?\n",
    "- The pathways for fermentation product formation?\n",
    "- The GAM and NGAM\n",
    "- Transport reactions\n",
    "    - Here I can use the MEMOTE results\n",
    "- Whatever else is necessary\n"
   ]
  },
  {
   "cell_type": "code",
   "execution_count": 1,
   "id": "48db7d33",
   "metadata": {},
   "outputs": [],
   "source": [
    "import pandas as pd\n",
    "from sklearn.linear_model import LinearRegression\n",
    "import reframed\n",
    "from reframed import pFBA, Environment\n",
    "import matplotlib.pyplot as plt\n",
    "import warnings"
   ]
  },
  {
   "cell_type": "markdown",
   "id": "f69d0e62",
   "metadata": {},
   "source": [
    "## <span style=\"color: blue;\">Determining NGAM and GAM</span>"
   ]
  },
  {
   "cell_type": "markdown",
   "id": "5a82e028",
   "metadata": {},
   "source": [
    "To determine NGAM and GAM:\n",
    "- NGAM: \n",
    "    - Determine uptake of sugar at 0 growth rate (from experimental data).\n",
    "    - Maximize ATP production\n",
    "- GAM: \n",
    "    - Fix growth rate and uptake of sugar.\n",
    "    - Determine maximum ATP production (divided by growth rate)\n",
    "    - Take an baverage of this value. "
   ]
  },
  {
   "cell_type": "code",
   "execution_count": 2,
   "id": "8548eaf6",
   "metadata": {},
   "outputs": [],
   "source": [
    "model = reframed.load_cbmodel('model_c_H10_part3_3_1.xml')"
   ]
  },
  {
   "cell_type": "code",
   "execution_count": 3,
   "id": "547b6980",
   "metadata": {},
   "outputs": [],
   "source": [
    "media = pd.read_csv('carveMe input/carveMe_medium.tsv',sep='\\t')\n",
    "media_cellb = media[media.medium=='H10_defined_medium_cellobiose']\n",
    "media_cellb_list = list(media_cellb['compound'])\n",
    "\n",
    "# Create an environment object\n",
    "env_cellb = Environment.from_compounds(media_cellb_list)\n",
    "\n",
    "with warnings.catch_warnings(): # The code will create warnings because some of the compounds in the media are not in the model\n",
    "    warnings.simplefilter('ignore')\n",
    "    \n",
    "    # Apply envrironment to model\n",
    "    env_cellb.apply(model, inplace=True, exclusive=True)"
   ]
  },
  {
   "cell_type": "code",
   "execution_count": 4,
   "id": "404f8048",
   "metadata": {},
   "outputs": [],
   "source": [
    "%store -r mu\n",
    "%store -r q_cellb"
   ]
  },
  {
   "cell_type": "code",
   "execution_count": 5,
   "id": "6a4c2eab",
   "metadata": {
    "scrolled": true
   },
   "outputs": [
    {
     "data": {
      "text/html": [
       "<div>\n",
       "<style scoped>\n",
       "    .dataframe tbody tr th:only-of-type {\n",
       "        vertical-align: middle;\n",
       "    }\n",
       "\n",
       "    .dataframe tbody tr th {\n",
       "        vertical-align: top;\n",
       "    }\n",
       "\n",
       "    .dataframe thead th {\n",
       "        text-align: right;\n",
       "    }\n",
       "</style>\n",
       "<table border=\"1\" class=\"dataframe\">\n",
       "  <thead>\n",
       "    <tr style=\"text-align: right;\">\n",
       "      <th></th>\n",
       "      <th>growth rate</th>\n",
       "      <th>cellobiose uptake</th>\n",
       "    </tr>\n",
       "  </thead>\n",
       "  <tbody>\n",
       "    <tr>\n",
       "      <th>0</th>\n",
       "      <td>0.016</td>\n",
       "      <td>0.63</td>\n",
       "    </tr>\n",
       "    <tr>\n",
       "      <th>1</th>\n",
       "      <td>0.033</td>\n",
       "      <td>0.89</td>\n",
       "    </tr>\n",
       "    <tr>\n",
       "      <th>2</th>\n",
       "      <td>0.053</td>\n",
       "      <td>1.34</td>\n",
       "    </tr>\n",
       "    <tr>\n",
       "      <th>3</th>\n",
       "      <td>0.062</td>\n",
       "      <td>1.41</td>\n",
       "    </tr>\n",
       "    <tr>\n",
       "      <th>4</th>\n",
       "      <td>0.085</td>\n",
       "      <td>1.55</td>\n",
       "    </tr>\n",
       "    <tr>\n",
       "      <th>5</th>\n",
       "      <td>0.120</td>\n",
       "      <td>1.86</td>\n",
       "    </tr>\n",
       "    <tr>\n",
       "      <th>6</th>\n",
       "      <td>0.138</td>\n",
       "      <td>1.98</td>\n",
       "    </tr>\n",
       "  </tbody>\n",
       "</table>\n",
       "</div>"
      ],
      "text/plain": [
       "   growth rate  cellobiose uptake\n",
       "0        0.016               0.63\n",
       "1        0.033               0.89\n",
       "2        0.053               1.34\n",
       "3        0.062               1.41\n",
       "4        0.085               1.55\n",
       "5        0.120               1.86\n",
       "6        0.138               1.98"
      ]
     },
     "execution_count": 5,
     "metadata": {},
     "output_type": "execute_result"
    }
   ],
   "source": [
    "pd.DataFrame({\"growth rate\":mu, \"cellobiose uptake\":q_cellb})"
   ]
  },
  {
   "cell_type": "code",
   "execution_count": 6,
   "id": "080753cb",
   "metadata": {},
   "outputs": [],
   "source": [
    "#Setting GAM values in biomass function\n",
    "model.reactions.Growth.stoichiometry['M_atp_c']=0\n",
    "model.reactions.Growth.stoichiometry['M_adp_c']=0\n",
    "model.reactions.Growth.stoichiometry['M_h_c']=0\n",
    "model.reactions.Growth.stoichiometry['M_pi_c']=0"
   ]
  },
  {
   "cell_type": "markdown",
   "id": "7050300b",
   "metadata": {},
   "source": [
    "#### <span style=\"color: blue;\">Linear regression</span>"
   ]
  },
  {
   "cell_type": "markdown",
   "id": "0f42c9b4",
   "metadata": {},
   "source": [
    "Finding max ATP production when fixing growth rate and cellobiose uptake."
   ]
  },
  {
   "cell_type": "code",
   "execution_count": 7,
   "id": "80f7c6df",
   "metadata": {},
   "outputs": [],
   "source": [
    "ATP=[]\n",
    "\n",
    "objective = dict.fromkeys(model.reactions,0)\n",
    "objective['R_ATPM'] = 1\n",
    "\n",
    "constraints = {'R_EX_glc__D_e':0,\n",
    "       'R_EX_so4_e':(-2.45,1000),\n",
    "       'R_EX_pi_e':(-7.46,1000),\n",
    "       'R_EX_nh4_e':(-4.9,1000)}\n",
    "\n",
    "for i, q_cellb_i in enumerate(q_cellb):\n",
    "    constraints['R_EX_cellb_e']=-q_cellb_i\n",
    "    constraints['Growth']=mu[i]\n",
    "    sol = pFBA(model,constraints=constraints,objective=objective)\n",
    "    ATP.append(sol.values['R_ATPM'])"
   ]
  },
  {
   "cell_type": "code",
   "execution_count": 8,
   "id": "541b64ed",
   "metadata": {
    "scrolled": true
   },
   "outputs": [
    {
     "data": {
      "text/plain": [
       "[4.45349744,\n",
       " 5.910338469999999,\n",
       " 8.595173013666596,\n",
       " 8.760705537999925,\n",
       " 8.898547914999927,\n",
       " 9.672558871999984,\n",
       " 9.805842702799977]"
      ]
     },
     "execution_count": 8,
     "metadata": {},
     "output_type": "execute_result"
    }
   ],
   "source": [
    "ATP"
   ]
  },
  {
   "cell_type": "code",
   "execution_count": 9,
   "id": "fe4ba596",
   "metadata": {},
   "outputs": [],
   "source": [
    "x = mu[:-1].reshape((-1,1))\n",
    "y = ATP[:-1]"
   ]
  },
  {
   "cell_type": "code",
   "execution_count": 10,
   "id": "4d639422",
   "metadata": {},
   "outputs": [],
   "source": [
    "lin_model = LinearRegression().fit(x,y)"
   ]
  },
  {
   "cell_type": "code",
   "execution_count": 11,
   "id": "814c005f",
   "metadata": {},
   "outputs": [],
   "source": [
    "r_sq = lin_model.score(x, y)"
   ]
  },
  {
   "cell_type": "code",
   "execution_count": 12,
   "id": "bff6475a",
   "metadata": {},
   "outputs": [
    {
     "name": "stdout",
     "output_type": "stream",
     "text": [
      "coefficient of determination: 0.7723136721951847\n"
     ]
    }
   ],
   "source": [
    "print(f\"coefficient of determination: {r_sq}\")"
   ]
  },
  {
   "cell_type": "code",
   "execution_count": 13,
   "id": "a261c11d",
   "metadata": {},
   "outputs": [],
   "source": [
    "y_pred = lin_model.predict(x)"
   ]
  },
  {
   "cell_type": "markdown",
   "id": "792cce26",
   "metadata": {},
   "source": [
    "*Plotting the data*: Does not really follow a linear trend. "
   ]
  },
  {
   "cell_type": "code",
   "execution_count": 14,
   "id": "20d1d073",
   "metadata": {},
   "outputs": [
    {
     "data": {
      "text/plain": [
       "Text(0, 0.5, 'ATP [mmol/g CDW h]')"
      ]
     },
     "execution_count": 14,
     "metadata": {},
     "output_type": "execute_result"
    },
    {
     "data": {
      "image/png": "[encoded data removed]",
      "text/plain": [
       "<Figure size 432x288 with 1 Axes>"
      ]
     },
     "metadata": {
      "needs_background": "light"
     },
     "output_type": "display_data"
    }
   ],
   "source": [
    "plt.plot(x,y,'ro')\n",
    "plt.plot(x,y_pred)\n",
    "plt.xlabel('mu [g CDW/g CDW h]')\n",
    "plt.ylabel('ATP [mmol/g CDW h]')"
   ]
  },
  {
   "cell_type": "markdown",
   "id": "80c3ffa8",
   "metadata": {},
   "source": [
    "<span style=\"color: blue;\">**Determining NGAM**</span>"
   ]
  },
  {
   "cell_type": "code",
   "execution_count": 15,
   "id": "cf413594",
   "metadata": {
    "tags": []
   },
   "outputs": [
    {
     "name": "stdout",
     "output_type": "stream",
     "text": [
      "NGAM: 4.740175464355865\n"
     ]
    }
   ],
   "source": [
    "NGAM=lin_model.intercept_\n",
    "print(f\"NGAM: {lin_model.intercept_}\")"
   ]
  },
  {
   "cell_type": "markdown",
   "id": "a37908b7",
   "metadata": {},
   "source": [
    "<span style=\"color: blue;\">**Determining GAM**</span>\n",
    "\n",
    "This seems very high based on the results from Part 1.1.1."
   ]
  },
  {
   "cell_type": "code",
   "execution_count": 16,
   "id": "b985eb32",
   "metadata": {},
   "outputs": [
    {
     "name": "stdout",
     "output_type": "stream",
     "text": [
      "GAM: 48.37335626702233\n"
     ]
    }
   ],
   "source": [
    "GAM=lin_model.coef_[0]\n",
    "print(f\"GAM: {lin_model.coef_[0]}\")"
   ]
  },
  {
   "cell_type": "markdown",
   "id": "ae44d6da",
   "metadata": {},
   "source": [
    "<span style=\"color: blue;\">**Testing new values for NGAM and GAM**</span>"
   ]
  },
  {
   "cell_type": "code",
   "execution_count": 17,
   "id": "87b0c5f7",
   "metadata": {},
   "outputs": [],
   "source": [
    "#Setting GAM values in biomass function\n",
    "model.reactions.Growth.stoichiometry['M_atp_c']=-GAM\n",
    "model.reactions.Growth.stoichiometry['M_adp_c']=GAM\n",
    "model.reactions.Growth.stoichiometry['M_h_c']=GAM\n",
    "model.reactions.Growth.stoichiometry['M_pi_c']=GAM"
   ]
  },
  {
   "cell_type": "code",
   "execution_count": 18,
   "id": "ecb01fe6",
   "metadata": {},
   "outputs": [],
   "source": [
    "#Setting NGAM values in the ATPM function\n",
    "model.reactions.R_ATPM.ub=1000\n",
    "model.reactions.R_ATPM.lb=NGAM"
   ]
  },
  {
   "cell_type": "code",
   "execution_count": 19,
   "id": "df32e6b4",
   "metadata": {},
   "outputs": [
    {
     "name": "stdout",
     "output_type": "stream",
     "text": [
      "Status.OPTIMAL\n",
      "Status.OPTIMAL\n",
      "Status.OPTIMAL\n",
      "Status.OPTIMAL\n",
      "Status.OPTIMAL\n",
      "Status.OPTIMAL\n",
      "Status.OPTIMAL\n"
     ]
    }
   ],
   "source": [
    "## pFBA prediction of growth rate and product production\n",
    "mu_predict = []\n",
    "\n",
    "constraints = {'R_EX_glc__D_e':0,\n",
    "       'R_EX_so4_e':(-2.45,1000),\n",
    "       'R_EX_pi_e':(-7.46,1000),\n",
    "       'R_EX_nh4_e':(-4.9,1000)}\n",
    "\n",
    "for i,q_cellb_i in enumerate(q_cellb):\n",
    "    constraints['R_EX_cellb_e']=(-q_cellb_i,0)\n",
    "    sol = pFBA(model,constraints=constraints)\n",
    "    print(sol.status)\n",
    "    mu_predict.append(sol.values['Growth']) \n",
    "    "
   ]
  },
  {
   "cell_type": "code",
   "execution_count": 20,
   "id": "4bf89ee9",
   "metadata": {},
   "outputs": [
    {
     "data": {
      "image/png": "[encoded data removed]",
      "text/plain": [
       "<Figure size 468x324 with 1 Axes>"
      ]
     },
     "metadata": {
      "needs_background": "light"
     },
     "output_type": "display_data"
    }
   ],
   "source": [
    "fig, ax = plt.subplots()\n",
    "fig.set_size_inches(6.5, 4.5)\n",
    "ax.plot(q_cellb,mu_predict, linewidth=2,label=\"Predicted (pFBA)\",color='blue')\n",
    "ax.plot(q_cellb,mu,'bo',label=\"Experimental\")\n",
    "plt.ylabel(f'Biomass production [gCDW/(gCDW h)]')\n",
    "plt.xlabel(\"Uptake of cellobiose [mmol/(gCDW h)]\")\n",
    "\n",
    "plt.legend(loc='upper left')\n",
    "plt.savefig(\"image.png\", dpi=300)\n",
    "plt.show()\n",
    "\n"
   ]
  },
  {
   "cell_type": "markdown",
   "id": "c2977e6d-d5f7-4cbc-8e5a-76f925be0b69",
   "metadata": {},
   "source": [
    "plt.savefig(\"image.png\", dpi=300)"
   ]
  },
  {
   "cell_type": "markdown",
   "id": "764f9326-d11f-4832-bd86-eb0088ffd2d9",
   "metadata": {
    "tags": []
   },
   "source": [
    "### <span style=\"color: blue;\">Saving final model</span>"
   ]
  },
  {
   "cell_type": "code",
   "execution_count": 21,
   "id": "a0614b3c-71fb-4b1a-8c15-0aa8f2a736e3",
   "metadata": {},
   "outputs": [],
   "source": [
    "model.id = \"model_c_H10_part4_1\""
   ]
  },
  {
   "cell_type": "code",
   "execution_count": 22,
   "id": "0d07209e-67e2-425a-96bb-70a461e9df43",
   "metadata": {},
   "outputs": [],
   "source": [
    "model.update()"
   ]
  },
  {
   "cell_type": "code",
   "execution_count": 23,
   "id": "3009810f-5959-4a63-a3fb-0f4054ce9e16",
   "metadata": {},
   "outputs": [],
   "source": [
    "reframed.save_cbmodel(model,filename=\"model_c_H10_part4_1.xml\")"
   ]
  },
  {
   "cell_type": "code",
   "execution_count": null,
   "id": "b560037f-892b-4411-ad97-e7c8845f1bd9",
   "metadata": {},
   "outputs": [],
   "source": []
  }
 ],
 "metadata": {
  "kernelspec": {
   "display_name": "RecAndAn",
   "language": "python",
   "name": "recandan"
  },
  "language_info": {
   "codemirror_mode": {
    "name": "ipython",
    "version": 3
   },
   "file_extension": ".py",
   "mimetype": "text/x-python",
   "name": "python",
   "nbconvert_exporter": "python",
   "pygments_lexer": "ipython3",
   "version": "3.7.13"
  }
 },
 "nbformat": 4,
 "nbformat_minor": 5
}
