{
 "cells": [
  {
   "cell_type": "markdown",
   "id": "7c81e0f0-8ff8-4e49-a5f5-c5be23d7b4bf",
   "metadata": {},
   "source": [
    "# <span style=\"color: blue;\">Part 2.1.1: Curation of model based - cofactors of glycolysis fermentation pathways</span>"
   ]
  },
  {
   "cell_type": "markdown",
   "id": "8f6ab1f0-4fe8-4bc8-bf6c-a76c0ab361f6",
   "metadata": {},
   "source": [
    "- Change direction directionality for FNRR3 (Ferrodoxin reaction, should make it able to produce hydrogen). (Check that there will not be an energy producing cycle from this-what about other h2 producing reactions)\n",
    "- Removing NADPH dependent alcohol dehydrogenase (ALCD2y)\n",
    "- GTP/ATP dependency"
   ]
  },
  {
   "cell_type": "code",
   "execution_count": 75,
   "id": "0c3de7c2-eac7-4dd1-9f09-dff751053a5b",
   "metadata": {},
   "outputs": [],
   "source": [
    "import reframed\n",
    "from reframed import pFBA\n",
    "import pandas as pd\n",
    "import warnings\n",
    "import copy\n",
    "import collections"
   ]
  },
  {
   "cell_type": "code",
   "execution_count": 76,
   "id": "ab812deb-df68-4572-98f7-72ff4d130e6d",
   "metadata": {},
   "outputs": [],
   "source": [
    "model = reframed.load_cbmodel('model_cellulolyticum_H10.xml')"
   ]
  },
  {
   "cell_type": "code",
   "execution_count": 77,
   "id": "c3130e66-a006-4f49-adbb-c9e28891d89f",
   "metadata": {},
   "outputs": [],
   "source": [
    "model_universe = reframed.load_cbmodel('bigg_universe.xml')"
   ]
  },
  {
   "cell_type": "code",
   "execution_count": 78,
   "id": "0b28ee57-4ce6-4514-b332-0757694f33b9",
   "metadata": {},
   "outputs": [],
   "source": [
    "%store -r gene_protein_map"
   ]
  },
  {
   "cell_type": "markdown",
   "id": "e30e9141-5356-434b-be6c-67855601bd55",
   "metadata": {},
   "source": [
    "## Ferredoxin and NAD(P)H balancing\n",
    "\n",
    "**Motivation**: The model is lacking some reactions described in literature that are related to cofactor balancing. This is especially related to ferredoxin reductase activity. \n",
    "\n"
   ]
  },
  {
   "cell_type": "markdown",
   "id": "de6fcddc-9b9b-45ba-b6cd-87c9e602173e",
   "metadata": {},
   "source": [
    "### Analysis"
   ]
  },
  {
   "cell_type": "markdown",
   "id": "9fba5a68-2642-4d3a-a1fe-257c92ed73de",
   "metadata": {},
   "source": [
    "**Reactions involving ferredoxin that we want to be in the system (based on Desvaux 2001)**\n",
    "- R_POR_syn: M_coa_c + 2.0 M_fdxo_2_2_c + M_pyr_c --> M_accoa_c + M_co2_c + 2.0 M_fdxrd_c + M_h_c\n",
    "- R_FNRR: M_fdxrd_c + M_h_c + M_nad_c <-> M_fdxo_2_2_c + M_nadh_c\n",
    "- R_FNRR2: M_fdxrd_c + M_h_c + M_nadp_c <-> M_fdxo_2_2_c + M_nadph_c\n",
    "- R_FNRR3: M_fdxo_2_2_c + M_h2_c --> M_fdxrd_c + 2.0 M_h_c\n"
   ]
  },
  {
   "cell_type": "markdown",
   "id": "fddee1c1-479d-4d4d-a1e2-49426dc53067",
   "metadata": {},
   "source": [
    "**Reactions involving ferredoxin currently in model**"
   ]
  },
  {
   "cell_type": "code",
   "execution_count": 79,
   "id": "4860e2a6-58f3-41bd-8a84-c9c8ca05d9bb",
   "metadata": {},
   "outputs": [
    {
     "name": "stdout",
     "output_type": "stream",
     "text": [
      "R_CO2FO: M_co2_c + M_fdxrd_c + 2.0 M_h_c <-> M_co_c + M_fdxo_2_2_c + M_h2o_c [-inf, 0.0]: G_WP_015926513_1\n",
      "R_FNRR3: M_fdxo_2_2_c + M_h2_c --> M_fdxrd_c + 2.0 M_h_c: G_WP_015925729_1\n",
      "R_MECDPDH4E: M_2mecdp_c + M_fdxrd_c + M_h_c <-> M_fdxo_2_2_c + M_h2mb4p_c + M_h2o_c: G_WP_012634895_1\n",
      "R_NOR_syn_1: 6.0 M_fdxrd_c + 7.0 M_h_c + M_no2_c --> 6.0 M_fdxo_2_2_c + 2.0 M_h2o_c + M_nh3_c: None\n",
      "R_POR_syn: M_coa_c + 2.0 M_fdxo_2_2_c + M_pyr_c --> M_accoa_c + M_co2_c + 2.0 M_fdxrd_c + M_h_c: (G_WP_015924110_1 and G_WP_015924674_1)\n",
      "R_SULR_syn: 6.0 M_fdxrd_c + 8.0 M_h_c + M_so3_c --> 6.0 M_fdxo_2_2_c + 3.0 M_h2o_c + M_h2s_c: None\n",
      "R_VOR2bE: M_3mob_c + M_coa_c + M_fdxo_2_2_c --> M_co2_c + M_fdxrd_c + M_h_c + M_ibcoa_c: G_WP_015924108_1\n"
     ]
    }
   ],
   "source": [
    "for rxn in model.get_metabolite_reactions('M_fdxrd_c'):\n",
    "    print(str(model.reactions[rxn])+ \": \"+str(model.reactions[rxn].gpr))"
   ]
  },
  {
   "cell_type": "markdown",
   "id": "95e6e028-b400-4863-82d7-0b36eb419802",
   "metadata": {},
   "source": [
    "*Of these reactions, two do not have a GPR*:\n",
    "\n",
    "- R_NOR_syn_1: From Synechocystis sp. PCC68 model (iSynCJ816) - involved in [nitrogen metabolism and nitrate assimilation](https://www.brenda-enzymes.org/enzyme.php?ecno=1.7.7.1)\n",
    "- R_SULR_syn: From Synechocystis sp. PCC68 model (iSynCJ816) - involved in [sulfate assimilation](https://www.brenda-enzymes.org/enzyme.php?ecno=1.8.7.1)"
   ]
  },
  {
   "cell_type": "markdown",
   "id": "3fd9c3fc-6d65-44a5-b6f7-c1a545cef4af",
   "metadata": {},
   "source": [
    "model.remove_reactions([\"R_NOR_syn_1\",\"R_SULR_syn\"])"
   ]
  },
  {
   "cell_type": "markdown",
   "id": "92fadf47-36e5-4bc4-b81c-fca80731be61",
   "metadata": {},
   "source": [
    "**POR_syn - GPRs**"
   ]
  },
  {
   "cell_type": "code",
   "execution_count": 80,
   "id": "a89940c0-61bc-426a-84b8-6409994ad361",
   "metadata": {},
   "outputs": [
    {
     "data": {
      "text/plain": [
       "(G_WP_015924110_1 and G_WP_015924674_1)"
      ]
     },
     "execution_count": 80,
     "metadata": {},
     "output_type": "execute_result"
    }
   ],
   "source": [
    "model.reactions.R_POR_syn.gpr"
   ]
  },
  {
   "cell_type": "code",
   "execution_count": 81,
   "id": "52f788d1-0876-4e07-b5e5-d4cd67b5f64e",
   "metadata": {},
   "outputs": [
    {
     "data": {
      "text/html": [
       "<div>\n",
       "<style scoped>\n",
       "    .dataframe tbody tr th:only-of-type {\n",
       "        vertical-align: middle;\n",
       "    }\n",
       "\n",
       "    .dataframe tbody tr th {\n",
       "        vertical-align: top;\n",
       "    }\n",
       "\n",
       "    .dataframe thead th {\n",
       "        text-align: right;\n",
       "    }\n",
       "</style>\n",
       "<table border=\"1\" class=\"dataframe\">\n",
       "  <thead>\n",
       "    <tr style=\"text-align: right;\">\n",
       "      <th></th>\n",
       "      <th>Entry</th>\n",
       "      <th>Entry name</th>\n",
       "      <th>Protein names</th>\n",
       "      <th>Gene names</th>\n",
       "      <th>Cross-reference (RefSeq)</th>\n",
       "    </tr>\n",
       "  </thead>\n",
       "  <tbody>\n",
       "    <tr>\n",
       "      <th>616</th>\n",
       "      <td>B8I6P6</td>\n",
       "      <td>B8I6P6_RUMCH</td>\n",
       "      <td>Pyruvate ferredoxin/flavodoxin oxidoreductase</td>\n",
       "      <td>Ccel_0556</td>\n",
       "      <td>G_WP_015924110_1</td>\n",
       "    </tr>\n",
       "  </tbody>\n",
       "</table>\n",
       "</div>"
      ],
      "text/plain": [
       "      Entry    Entry name                                  Protein names  \\\n",
       "616  B8I6P6  B8I6P6_RUMCH  Pyruvate ferredoxin/flavodoxin oxidoreductase   \n",
       "\n",
       "    Gene names Cross-reference (RefSeq)  \n",
       "616  Ccel_0556         G_WP_015924110_1  "
      ]
     },
     "execution_count": 81,
     "metadata": {},
     "output_type": "execute_result"
    }
   ],
   "source": [
    "gene_protein_map[gene_protein_map['Cross-reference (RefSeq)']=='G_WP_015924110_1']"
   ]
  },
  {
   "cell_type": "code",
   "execution_count": 82,
   "id": "112388a4-3c26-449c-b0d5-4ca51efadd2f",
   "metadata": {},
   "outputs": [
    {
     "data": {
      "text/html": [
       "<div>\n",
       "<style scoped>\n",
       "    .dataframe tbody tr th:only-of-type {\n",
       "        vertical-align: middle;\n",
       "    }\n",
       "\n",
       "    .dataframe tbody tr th {\n",
       "        vertical-align: top;\n",
       "    }\n",
       "\n",
       "    .dataframe thead th {\n",
       "        text-align: right;\n",
       "    }\n",
       "</style>\n",
       "<table border=\"1\" class=\"dataframe\">\n",
       "  <thead>\n",
       "    <tr style=\"text-align: right;\">\n",
       "      <th></th>\n",
       "      <th>Entry</th>\n",
       "      <th>Entry name</th>\n",
       "      <th>Protein names</th>\n",
       "      <th>Gene names</th>\n",
       "      <th>Cross-reference (RefSeq)</th>\n",
       "    </tr>\n",
       "  </thead>\n",
       "  <tbody>\n",
       "    <tr>\n",
       "      <th>1110</th>\n",
       "      <td>B8I021</td>\n",
       "      <td>B8I021_RUMCH</td>\n",
       "      <td>Pyruvate flavodoxin/ferredoxin oxidoreductase ...</td>\n",
       "      <td>Ccel_1164</td>\n",
       "      <td>G_WP_015924674_1</td>\n",
       "    </tr>\n",
       "  </tbody>\n",
       "</table>\n",
       "</div>"
      ],
      "text/plain": [
       "       Entry    Entry name                                      Protein names  \\\n",
       "1110  B8I021  B8I021_RUMCH  Pyruvate flavodoxin/ferredoxin oxidoreductase ...   \n",
       "\n",
       "     Gene names Cross-reference (RefSeq)  \n",
       "1110  Ccel_1164         G_WP_015924674_1  "
      ]
     },
     "execution_count": 82,
     "metadata": {},
     "output_type": "execute_result"
    }
   ],
   "source": [
    "gene_protein_map[gene_protein_map['Cross-reference (RefSeq)']=='G_WP_015924674_1']"
   ]
  },
  {
   "cell_type": "markdown",
   "id": "fa25fbfd-db40-44d2-b9de-3c28ea912547",
   "metadata": {},
   "source": [
    "**FNRR3 - GPRs in model**\n",
    "\n",
    "<span style=\"color: red;\">Not sure if this one makes sense. </span>"
   ]
  },
  {
   "cell_type": "code",
   "execution_count": 83,
   "id": "a983e658-2495-400a-8f44-3ca49e07b9c3",
   "metadata": {},
   "outputs": [
    {
     "data": {
      "text/plain": [
       "G_WP_015925729_1"
      ]
     },
     "execution_count": 83,
     "metadata": {},
     "output_type": "execute_result"
    }
   ],
   "source": [
    "model.reactions.R_FNRR3.gpr"
   ]
  },
  {
   "cell_type": "code",
   "execution_count": 84,
   "id": "8571bc64-a64c-4e08-aee5-d0e9c7ce2059",
   "metadata": {},
   "outputs": [
    {
     "data": {
      "text/html": [
       "<div>\n",
       "<style scoped>\n",
       "    .dataframe tbody tr th:only-of-type {\n",
       "        vertical-align: middle;\n",
       "    }\n",
       "\n",
       "    .dataframe tbody tr th {\n",
       "        vertical-align: top;\n",
       "    }\n",
       "\n",
       "    .dataframe thead th {\n",
       "        text-align: right;\n",
       "    }\n",
       "</style>\n",
       "<table border=\"1\" class=\"dataframe\">\n",
       "  <thead>\n",
       "    <tr style=\"text-align: right;\">\n",
       "      <th></th>\n",
       "      <th>Entry</th>\n",
       "      <th>Entry name</th>\n",
       "      <th>Protein names</th>\n",
       "      <th>Gene names</th>\n",
       "      <th>Cross-reference (RefSeq)</th>\n",
       "    </tr>\n",
       "  </thead>\n",
       "  <tbody>\n",
       "    <tr>\n",
       "      <th>387</th>\n",
       "      <td>B8I4Y3</td>\n",
       "      <td>B8I4Y3_RUMCH</td>\n",
       "      <td>Putative PAS/PAC sensor protein</td>\n",
       "      <td>Ccel_2300</td>\n",
       "      <td>G_WP_015925729_1</td>\n",
       "    </tr>\n",
       "  </tbody>\n",
       "</table>\n",
       "</div>"
      ],
      "text/plain": [
       "      Entry    Entry name                    Protein names Gene names  \\\n",
       "387  B8I4Y3  B8I4Y3_RUMCH  Putative PAS/PAC sensor protein  Ccel_2300   \n",
       "\n",
       "    Cross-reference (RefSeq)  \n",
       "387         G_WP_015925729_1  "
      ]
     },
     "execution_count": 84,
     "metadata": {},
     "output_type": "execute_result"
    }
   ],
   "source": [
    "gene_protein_map[gene_protein_map['Cross-reference (RefSeq)']=='G_WP_015925729_1']"
   ]
  },
  {
   "cell_type": "markdown",
   "id": "e3be0c96-5bcf-4b67-9a69-bd6447e51f5a",
   "metadata": {
    "tags": []
   },
   "source": [
    "### Preparing for curation\n",
    "\n"
   ]
  },
  {
   "cell_type": "code",
   "execution_count": 85,
   "id": "1b3e45c6-3584-48ca-bfe6-f6b37ff68ac2",
   "metadata": {},
   "outputs": [],
   "source": [
    "rxn_add=[]\n",
    "rxn_rm=[]\n",
    "gprs={}"
   ]
  },
  {
   "cell_type": "markdown",
   "id": "3f26e617-db92-43fa-a69b-3675f59a3060",
   "metadata": {
    "tags": []
   },
   "source": [
    "#### Reactions to add\n",
    "\n",
    "- FNRR \n",
    "- FNRR2"
   ]
  },
  {
   "cell_type": "markdown",
   "id": "c7b337ef-de34-4d5b-b513-b8550a3b6fb4",
   "metadata": {},
   "source": [
    "*FNRR*"
   ]
  },
  {
   "cell_type": "code",
   "execution_count": 86,
   "id": "ea1a76d8-59dd-4069-a75a-81804b6e273c",
   "metadata": {},
   "outputs": [],
   "source": [
    "rxn_add.append(model_universe.reactions.R_FNRR)"
   ]
  },
  {
   "cell_type": "markdown",
   "id": "bd67882d-2d8f-42df-a3af-e3ea94d585e0",
   "metadata": {},
   "source": [
    "*FNRR2*"
   ]
  },
  {
   "cell_type": "code",
   "execution_count": 87,
   "id": "b1b6d384-4207-4ef9-9055-bb3ce543b125",
   "metadata": {},
   "outputs": [],
   "source": [
    "rxn_add.append(model_universe.reactions.R_FNRR2)"
   ]
  },
  {
   "cell_type": "markdown",
   "id": "31b62745-95fc-48b6-a828-59010baa8255",
   "metadata": {},
   "source": [
    "Gene collected from UniProt (explanation in different document)"
   ]
  },
  {
   "cell_type": "code",
   "execution_count": 88,
   "id": "775c1512-4a0a-4cca-b1d3-d48062242629",
   "metadata": {},
   "outputs": [
    {
     "data": {
      "text/html": [
       "<div>\n",
       "<style scoped>\n",
       "    .dataframe tbody tr th:only-of-type {\n",
       "        vertical-align: middle;\n",
       "    }\n",
       "\n",
       "    .dataframe tbody tr th {\n",
       "        vertical-align: top;\n",
       "    }\n",
       "\n",
       "    .dataframe thead th {\n",
       "        text-align: right;\n",
       "    }\n",
       "</style>\n",
       "<table border=\"1\" class=\"dataframe\">\n",
       "  <thead>\n",
       "    <tr style=\"text-align: right;\">\n",
       "      <th></th>\n",
       "      <th>Entry</th>\n",
       "      <th>Entry name</th>\n",
       "      <th>Protein names</th>\n",
       "      <th>Gene names</th>\n",
       "      <th>Cross-reference (RefSeq)</th>\n",
       "    </tr>\n",
       "  </thead>\n",
       "  <tbody>\n",
       "    <tr>\n",
       "      <th>2881</th>\n",
       "      <td>B8I6A9</td>\n",
       "      <td>B8I6A9_RUMCH</td>\n",
       "      <td>Oxidoreductase FAD/NAD(P)-binding domain protein</td>\n",
       "      <td>Ccel_2546</td>\n",
       "      <td>G_WP_015925963_1</td>\n",
       "    </tr>\n",
       "  </tbody>\n",
       "</table>\n",
       "</div>"
      ],
      "text/plain": [
       "       Entry    Entry name                                     Protein names  \\\n",
       "2881  B8I6A9  B8I6A9_RUMCH  Oxidoreductase FAD/NAD(P)-binding domain protein   \n",
       "\n",
       "     Gene names Cross-reference (RefSeq)  \n",
       "2881  Ccel_2546         G_WP_015925963_1  "
      ]
     },
     "execution_count": 88,
     "metadata": {},
     "output_type": "execute_result"
    }
   ],
   "source": [
    "gene_protein_map[gene_protein_map['Gene names'].str.contains('Ccel_2546')]"
   ]
  },
  {
   "cell_type": "code",
   "execution_count": 89,
   "id": "20cef59a-5da5-4bee-b967-73f6805308e6",
   "metadata": {},
   "outputs": [],
   "source": [
    "prot = reframed.Protein()\n",
    "prot.genes=['G_WP_015925963_1']\n",
    "gpr = reframed.GPRAssociation()\n",
    "gpr.proteins=[prot]\n",
    "gprs['R_FNRR2']=gpr"
   ]
  },
  {
   "cell_type": "markdown",
   "id": "a4a7960c-65c2-495a-8758-81cb768ca3b9",
   "metadata": {},
   "source": [
    "#### Reactions to remove\n",
    "- None"
   ]
  },
  {
   "cell_type": "markdown",
   "id": "65f2259f-fbb1-461e-8942-03ae67acce65",
   "metadata": {},
   "source": [
    "#### Reactions to change"
   ]
  },
  {
   "cell_type": "markdown",
   "id": "3bccd2bc-df2a-4c8f-9286-7723a43532f4",
   "metadata": {
    "tags": []
   },
   "source": [
    "##### Change directionality\n",
    "\n",
    "- FNRR3"
   ]
  },
  {
   "cell_type": "markdown",
   "id": "781983e6-b455-42ac-830c-358e8577d351",
   "metadata": {},
   "source": [
    "FNRR3 = copy.deepcopy(model.reactions.R_FNRR3)"
   ]
  },
  {
   "cell_type": "markdown",
   "id": "138b2a45-f3de-44d9-8bc5-ee3a34ed1aea",
   "metadata": {},
   "source": [
    "FNRR3.reversible"
   ]
  },
  {
   "cell_type": "markdown",
   "id": "7a261332-6f89-4fbb-9467-241d14aca047",
   "metadata": {},
   "source": [
    "FNRR3.reversible=True\n",
    "FNRR3.lb=-1000"
   ]
  },
  {
   "cell_type": "markdown",
   "id": "cd406e7f-cb65-4600-9a2e-1ab14a9f879f",
   "metadata": {},
   "source": [
    "rxn_rm.append(model.reactions.R_FNRR3)\n",
    "rxn_add.append(FNRR3)"
   ]
  },
  {
   "cell_type": "markdown",
   "id": "339ed21f-b49e-4867-8fb1-770374d018d8",
   "metadata": {},
   "source": [
    "### Curation and feasability test"
   ]
  },
  {
   "cell_type": "code",
   "execution_count": 90,
   "id": "961b3a7d-e1d4-49e3-bb48-62b6dac1808d",
   "metadata": {},
   "outputs": [
    {
     "data": {
      "text/plain": [
       "[R_FNRR: M_fdxrd_c + M_h_c + M_nad_c <-> M_fdxo_2_2_c + M_nadh_c,\n",
       " R_FNRR2: M_fdxrd_c + M_h_c + M_nadp_c <-> M_fdxo_2_2_c + M_nadph_c]"
      ]
     },
     "execution_count": 90,
     "metadata": {},
     "output_type": "execute_result"
    }
   ],
   "source": [
    "rxn_add"
   ]
  },
  {
   "cell_type": "code",
   "execution_count": 91,
   "id": "0f2c60dd-f64f-4b49-bbc9-b3aba5d1911c",
   "metadata": {},
   "outputs": [
    {
     "data": {
      "text/plain": [
       "[]"
      ]
     },
     "execution_count": 91,
     "metadata": {},
     "output_type": "execute_result"
    }
   ],
   "source": [
    "rxn_rm"
   ]
  },
  {
   "cell_type": "markdown",
   "id": "229a99a3-1fdb-484e-be48-4b45059ef38a",
   "metadata": {},
   "source": [
    "#### Remove reactions "
   ]
  },
  {
   "cell_type": "code",
   "execution_count": 92,
   "id": "2dfe5285-fddb-4b7e-a9a1-5db52681dd9f",
   "metadata": {
    "tags": []
   },
   "outputs": [],
   "source": [
    "for rxn in rxn_rm:\n",
    "    print(\"Removing rxn: \" + str(rxn))\n",
    "    model.remove_reaction(rxn.id)\n",
    "\n",
    "    env_empty = reframed.Environment.empty(model)\n",
    "    objective= {rxn:0 for rxn in model.reactions}\n",
    "    objective['R_ATPM']=1\n",
    "    \n",
    "    sol = reframed.FBA(model,objective=objective,constraints=env_empty)\n",
    "\n",
    "    if abs(sol.fobj) <1e-6: #cplex tolerance\n",
    "        print('There are NO energy producing cycles in the model')\n",
    "        print(\"\\n\")\n",
    "    else:\n",
    "        print('There is at least one energy producing cycle in the model')\n",
    "        print(\"\\n\")\n",
    "        sol_pfba = pFBA(model,objective=objective,constraints=env_empty)\n",
    "\n",
    "        print('These are the reactions that are a part of the energy producing cycle')\n",
    "\n",
    "        for rxn,value in sol_pfba.values.items():\n",
    "            if value>50.0: # What value to choose here?\n",
    "\n",
    "                print(\"\\t\" + str(rxn)+\": \" + str(value))\n",
    "        print(\"\\n\")"
   ]
  },
  {
   "cell_type": "markdown",
   "id": "a99d6c54-db29-43bf-999a-b55907c734d8",
   "metadata": {
    "tags": []
   },
   "source": [
    "#### Add reactions "
   ]
  },
  {
   "cell_type": "code",
   "execution_count": 93,
   "id": "038a2f2b-3ef8-4752-ada7-433a67620072",
   "metadata": {
    "tags": []
   },
   "outputs": [
    {
     "name": "stdout",
     "output_type": "stream",
     "text": [
      "Adding rxn: R_FNRR: M_fdxrd_c + M_h_c + M_nad_c <-> M_fdxo_2_2_c + M_nadh_c\n",
      "There are NO energy producing cycles in the model\n",
      "\n",
      "\n",
      "Adding rxn: R_FNRR2: M_fdxrd_c + M_h_c + M_nadp_c <-> M_fdxo_2_2_c + M_nadph_c\n",
      "There are NO energy producing cycles in the model\n",
      "\n",
      "\n"
     ]
    }
   ],
   "source": [
    "for rxn in rxn_add:\n",
    "    print(\"Adding rxn: \" + str(rxn))\n",
    "    model.add_reaction(rxn)\n",
    "    \n",
    "    env_empty = reframed.Environment.empty(model)\n",
    "    objective= {rxn:0 for rxn in model.reactions}\n",
    "    objective['R_ATPM']=1\n",
    "    \n",
    "    sol = reframed.FBA(model,objective=objective,constraints=env_empty)\n",
    "\n",
    "    if abs(sol.fobj) <1e-6: #cplex tolerance\n",
    "        print('There are NO energy producing cycles in the model')\n",
    "        print(\"\\n\")\n",
    "    else:\n",
    "        print('There is at least one energy producing cycle in the model')\n",
    "        sol_pfba = pFBA(model,objective=objective,constraints=env_empty)\n",
    "\n",
    "        print('These are the reactions that are a part of the energy producing cycle')\n",
    "\n",
    "        for rxn,value in sol_pfba.values.items():\n",
    "            if value>50.0: # What value to choose here?\n",
    "\n",
    "                print(\"\\t\" + str(rxn)+\": \" + str(value))\n",
    "        print(\"\\n\")"
   ]
  },
  {
   "cell_type": "markdown",
   "id": "6d911e6d-b742-4fca-a2db-da3fe9cf0bbf",
   "metadata": {},
   "source": [
    "#### Add GPR to reactions"
   ]
  },
  {
   "cell_type": "code",
   "execution_count": 94,
   "id": "36a73680-b857-46d8-837e-28c63f152d92",
   "metadata": {},
   "outputs": [],
   "source": [
    "for rxn_id,gpr in gprs.items():\n",
    "    model.set_gpr_association(rxn_id,gpr)"
   ]
  },
  {
   "cell_type": "markdown",
   "id": "7b2e88f3-3cda-42eb-973e-a7d5210255bd",
   "metadata": {
    "tags": []
   },
   "source": [
    "### Cofactors in central carbon metabolism\n",
    "\n",
    "- HEX1: ATP->GTP (Change)\n",
    "- GALK2: ATP->GTP (Change)\n",
    "- GALKr: ATP ->GTP (Change)\n",
    "- PFK: ATP (protein is not functional G_WP_015926027_1) (remove)\n",
    "- PFK_ppi: PPi -dependent PFK (Add)\n",
    "- CD6P: same as PFK but uses wrong cofactor (remove)\n",
    "- r0191: same as PFK but uses wrong cofactor (remove)\n",
    "- ID6P: same as PFK but uses wrong cofactor (remove)\n",
    "- R_CD6P', 'R_CT6PT', 'R_ID6P', 'R_PFK', 'R_PFK_3', 'R_UT6PT', 'R_r0191\n"
   ]
  },
  {
   "cell_type": "markdown",
   "id": "5391de20-6951-4f32-9147-fe26292ee3c7",
   "metadata": {},
   "source": [
    "**HEX1 - GPRs**\n",
    "\n",
    "Most of the proteins are a part of the *ROK protein family*: [ROK family proteins are are bacterial proteins that compose of transcriptional repressors, sugar kinases, and uncharactarized ORFs.](https://www.ebi.ac.uk/interpro/entry/InterPro/IPR000600/)\n",
    "\n",
    "One of them is a hexokinase. The evidence used for this part does not support changing GPR.  "
   ]
  },
  {
   "cell_type": "code",
   "execution_count": 95,
   "id": "153b378b-613b-4409-b628-9dcf4a9d711a",
   "metadata": {},
   "outputs": [
    {
     "data": {
      "text/plain": [
       "(G_WP_015924247_1 or G_WP_015925130_1 or G_WP_015925627_1 or G_WP_015926569_1 or G_WP_015926770_1)"
      ]
     },
     "execution_count": 95,
     "metadata": {},
     "output_type": "execute_result"
    }
   ],
   "source": [
    "model.reactions.R_HEX1.gpr"
   ]
  },
  {
   "cell_type": "code",
   "execution_count": 96,
   "id": "2bb223e4-83ab-42b2-8eca-e022d3d4e9f0",
   "metadata": {},
   "outputs": [
    {
     "data": {
      "text/html": [
       "<div>\n",
       "<style scoped>\n",
       "    .dataframe tbody tr th:only-of-type {\n",
       "        vertical-align: middle;\n",
       "    }\n",
       "\n",
       "    .dataframe tbody tr th {\n",
       "        vertical-align: top;\n",
       "    }\n",
       "\n",
       "    .dataframe thead th {\n",
       "        text-align: right;\n",
       "    }\n",
       "</style>\n",
       "<table border=\"1\" class=\"dataframe\">\n",
       "  <thead>\n",
       "    <tr style=\"text-align: right;\">\n",
       "      <th></th>\n",
       "      <th>Entry</th>\n",
       "      <th>Entry name</th>\n",
       "      <th>Protein names</th>\n",
       "      <th>Gene names</th>\n",
       "      <th>Cross-reference (RefSeq)</th>\n",
       "    </tr>\n",
       "  </thead>\n",
       "  <tbody>\n",
       "    <tr>\n",
       "      <th>1438</th>\n",
       "      <td>B8I7S2</td>\n",
       "      <td>B8I7S2_RUMCH</td>\n",
       "      <td>ROK family protein</td>\n",
       "      <td>Ccel_0700</td>\n",
       "      <td>G_WP_015924247_1</td>\n",
       "    </tr>\n",
       "  </tbody>\n",
       "</table>\n",
       "</div>"
      ],
      "text/plain": [
       "       Entry    Entry name       Protein names Gene names  \\\n",
       "1438  B8I7S2  B8I7S2_RUMCH  ROK family protein  Ccel_0700   \n",
       "\n",
       "     Cross-reference (RefSeq)  \n",
       "1438         G_WP_015924247_1  "
      ]
     },
     "execution_count": 96,
     "metadata": {},
     "output_type": "execute_result"
    }
   ],
   "source": [
    "gene_protein_map[gene_protein_map['Cross-reference (RefSeq)']=='G_WP_015924247_1']"
   ]
  },
  {
   "cell_type": "code",
   "execution_count": 97,
   "id": "2f42df5d-f326-430e-b5da-8170e44da809",
   "metadata": {},
   "outputs": [
    {
     "data": {
      "text/html": [
       "<div>\n",
       "<style scoped>\n",
       "    .dataframe tbody tr th:only-of-type {\n",
       "        vertical-align: middle;\n",
       "    }\n",
       "\n",
       "    .dataframe tbody tr th {\n",
       "        vertical-align: top;\n",
       "    }\n",
       "\n",
       "    .dataframe thead th {\n",
       "        text-align: right;\n",
       "    }\n",
       "</style>\n",
       "<table border=\"1\" class=\"dataframe\">\n",
       "  <thead>\n",
       "    <tr style=\"text-align: right;\">\n",
       "      <th></th>\n",
       "      <th>Entry</th>\n",
       "      <th>Entry name</th>\n",
       "      <th>Protein names</th>\n",
       "      <th>Gene names</th>\n",
       "      <th>Cross-reference (RefSeq)</th>\n",
       "    </tr>\n",
       "  </thead>\n",
       "  <tbody>\n",
       "    <tr>\n",
       "      <th>497</th>\n",
       "      <td>B8I2M1</td>\n",
       "      <td>B8I2M1_RUMCH</td>\n",
       "      <td>ROK family protein</td>\n",
       "      <td>Ccel_1663</td>\n",
       "      <td>G_WP_015925130_1</td>\n",
       "    </tr>\n",
       "  </tbody>\n",
       "</table>\n",
       "</div>"
      ],
      "text/plain": [
       "      Entry    Entry name       Protein names Gene names  \\\n",
       "497  B8I2M1  B8I2M1_RUMCH  ROK family protein  Ccel_1663   \n",
       "\n",
       "    Cross-reference (RefSeq)  \n",
       "497         G_WP_015925130_1  "
      ]
     },
     "execution_count": 97,
     "metadata": {},
     "output_type": "execute_result"
    }
   ],
   "source": [
    "gene_protein_map[gene_protein_map['Cross-reference (RefSeq)']=='G_WP_015925130_1']"
   ]
  },
  {
   "cell_type": "code",
   "execution_count": 98,
   "id": "b645c861-6ba0-4476-bd70-4b54d018a858",
   "metadata": {},
   "outputs": [
    {
     "data": {
      "text/html": [
       "<div>\n",
       "<style scoped>\n",
       "    .dataframe tbody tr th:only-of-type {\n",
       "        vertical-align: middle;\n",
       "    }\n",
       "\n",
       "    .dataframe tbody tr th {\n",
       "        vertical-align: top;\n",
       "    }\n",
       "\n",
       "    .dataframe thead th {\n",
       "        text-align: right;\n",
       "    }\n",
       "</style>\n",
       "<table border=\"1\" class=\"dataframe\">\n",
       "  <thead>\n",
       "    <tr style=\"text-align: right;\">\n",
       "      <th></th>\n",
       "      <th>Entry</th>\n",
       "      <th>Entry name</th>\n",
       "      <th>Protein names</th>\n",
       "      <th>Gene names</th>\n",
       "      <th>Cross-reference (RefSeq)</th>\n",
       "    </tr>\n",
       "  </thead>\n",
       "  <tbody>\n",
       "    <tr>\n",
       "      <th>2628</th>\n",
       "      <td>B8I4M8</td>\n",
       "      <td>B8I4M8_RUMCH</td>\n",
       "      <td>ROK family protein</td>\n",
       "      <td>Ccel_2190</td>\n",
       "      <td>G_WP_015925627_1</td>\n",
       "    </tr>\n",
       "  </tbody>\n",
       "</table>\n",
       "</div>"
      ],
      "text/plain": [
       "       Entry    Entry name       Protein names Gene names  \\\n",
       "2628  B8I4M8  B8I4M8_RUMCH  ROK family protein  Ccel_2190   \n",
       "\n",
       "     Cross-reference (RefSeq)  \n",
       "2628         G_WP_015925627_1  "
      ]
     },
     "execution_count": 98,
     "metadata": {},
     "output_type": "execute_result"
    }
   ],
   "source": [
    "gene_protein_map[gene_protein_map['Cross-reference (RefSeq)']=='G_WP_015925627_1']"
   ]
  },
  {
   "cell_type": "code",
   "execution_count": 99,
   "id": "78bc56f6-3208-4719-a2f1-fdc039cf1561",
   "metadata": {},
   "outputs": [
    {
     "data": {
      "text/html": [
       "<div>\n",
       "<style scoped>\n",
       "    .dataframe tbody tr th:only-of-type {\n",
       "        vertical-align: middle;\n",
       "    }\n",
       "\n",
       "    .dataframe tbody tr th {\n",
       "        vertical-align: top;\n",
       "    }\n",
       "\n",
       "    .dataframe thead th {\n",
       "        text-align: right;\n",
       "    }\n",
       "</style>\n",
       "<table border=\"1\" class=\"dataframe\">\n",
       "  <thead>\n",
       "    <tr style=\"text-align: right;\">\n",
       "      <th></th>\n",
       "      <th>Entry</th>\n",
       "      <th>Entry name</th>\n",
       "      <th>Protein names</th>\n",
       "      <th>Gene names</th>\n",
       "      <th>Cross-reference (RefSeq)</th>\n",
       "    </tr>\n",
       "  </thead>\n",
       "  <tbody>\n",
       "    <tr>\n",
       "      <th>1083</th>\n",
       "      <td>B8I0V5</td>\n",
       "      <td>B8I0V5_RUMCH</td>\n",
       "      <td>Hexokinase</td>\n",
       "      <td>Ccel_3221</td>\n",
       "      <td>G_WP_015926569_1</td>\n",
       "    </tr>\n",
       "  </tbody>\n",
       "</table>\n",
       "</div>"
      ],
      "text/plain": [
       "       Entry    Entry name Protein names Gene names Cross-reference (RefSeq)\n",
       "1083  B8I0V5  B8I0V5_RUMCH    Hexokinase  Ccel_3221         G_WP_015926569_1"
      ]
     },
     "execution_count": 99,
     "metadata": {},
     "output_type": "execute_result"
    }
   ],
   "source": [
    "gene_protein_map[gene_protein_map['Cross-reference (RefSeq)']=='G_WP_015926569_1']"
   ]
  },
  {
   "cell_type": "code",
   "execution_count": 100,
   "id": "c2fdbbc1-53c2-4a05-b82e-6966a8498877",
   "metadata": {},
   "outputs": [
    {
     "data": {
      "text/html": [
       "<div>\n",
       "<style scoped>\n",
       "    .dataframe tbody tr th:only-of-type {\n",
       "        vertical-align: middle;\n",
       "    }\n",
       "\n",
       "    .dataframe tbody tr th {\n",
       "        vertical-align: top;\n",
       "    }\n",
       "\n",
       "    .dataframe thead th {\n",
       "        text-align: right;\n",
       "    }\n",
       "</style>\n",
       "<table border=\"1\" class=\"dataframe\">\n",
       "  <thead>\n",
       "    <tr style=\"text-align: right;\">\n",
       "      <th></th>\n",
       "      <th>Entry</th>\n",
       "      <th>Entry name</th>\n",
       "      <th>Protein names</th>\n",
       "      <th>Gene names</th>\n",
       "      <th>Cross-reference (RefSeq)</th>\n",
       "    </tr>\n",
       "  </thead>\n",
       "  <tbody>\n",
       "    <tr>\n",
       "      <th>259</th>\n",
       "      <td>B8I1T3</td>\n",
       "      <td>B8I1T3_RUMCH</td>\n",
       "      <td>ROK family protein</td>\n",
       "      <td>Ccel_3430</td>\n",
       "      <td>G_WP_015926770_1</td>\n",
       "    </tr>\n",
       "  </tbody>\n",
       "</table>\n",
       "</div>"
      ],
      "text/plain": [
       "      Entry    Entry name       Protein names Gene names  \\\n",
       "259  B8I1T3  B8I1T3_RUMCH  ROK family protein  Ccel_3430   \n",
       "\n",
       "    Cross-reference (RefSeq)  \n",
       "259         G_WP_015926770_1  "
      ]
     },
     "execution_count": 100,
     "metadata": {},
     "output_type": "execute_result"
    }
   ],
   "source": [
    "gene_protein_map[gene_protein_map['Cross-reference (RefSeq)']=='G_WP_015926770_1']"
   ]
  },
  {
   "cell_type": "markdown",
   "id": "a8689a68-35e9-478a-a7b5-e631d775e633",
   "metadata": {},
   "source": [
    "**PFK - gprs**\n",
    "\n",
    "There are two different proteins related to this reaction. They have different preference for ATP vs PPi."
   ]
  },
  {
   "cell_type": "code",
   "execution_count": 101,
   "id": "70a2e644-6e95-4e7b-9a6f-517523e3af59",
   "metadata": {},
   "outputs": [
    {
     "data": {
      "text/plain": [
       "(G_WP_015925658_1 or G_WP_015926027_1)"
      ]
     },
     "execution_count": 101,
     "metadata": {},
     "output_type": "execute_result"
    }
   ],
   "source": [
    "model.reactions.R_PFK.gpr"
   ]
  },
  {
   "cell_type": "code",
   "execution_count": 102,
   "id": "648476a5-ea47-462c-8428-91a75df0c011",
   "metadata": {},
   "outputs": [
    {
     "data": {
      "text/html": [
       "<div>\n",
       "<style scoped>\n",
       "    .dataframe tbody tr th:only-of-type {\n",
       "        vertical-align: middle;\n",
       "    }\n",
       "\n",
       "    .dataframe tbody tr th {\n",
       "        vertical-align: top;\n",
       "    }\n",
       "\n",
       "    .dataframe thead th {\n",
       "        text-align: right;\n",
       "    }\n",
       "</style>\n",
       "<table border=\"1\" class=\"dataframe\">\n",
       "  <thead>\n",
       "    <tr style=\"text-align: right;\">\n",
       "      <th></th>\n",
       "      <th>Entry</th>\n",
       "      <th>Entry name</th>\n",
       "      <th>Protein names</th>\n",
       "      <th>Gene names</th>\n",
       "      <th>Cross-reference (RefSeq)</th>\n",
       "    </tr>\n",
       "  </thead>\n",
       "  <tbody>\n",
       "    <tr>\n",
       "      <th>822</th>\n",
       "      <td>B8I6U8</td>\n",
       "      <td>B8I6U8_RUMCH</td>\n",
       "      <td>ATP-dependent 6-phosphofructokinase (ATP-PFK) ...</td>\n",
       "      <td>pfkA Ccel_2612</td>\n",
       "      <td>G_WP_015926027_1</td>\n",
       "    </tr>\n",
       "  </tbody>\n",
       "</table>\n",
       "</div>"
      ],
      "text/plain": [
       "      Entry    Entry name                                      Protein names  \\\n",
       "822  B8I6U8  B8I6U8_RUMCH  ATP-dependent 6-phosphofructokinase (ATP-PFK) ...   \n",
       "\n",
       "         Gene names Cross-reference (RefSeq)  \n",
       "822  pfkA Ccel_2612         G_WP_015926027_1  "
      ]
     },
     "execution_count": 102,
     "metadata": {},
     "output_type": "execute_result"
    }
   ],
   "source": [
    "gene_protein_map[gene_protein_map['Cross-reference (RefSeq)']=='G_WP_015926027_1']"
   ]
  },
  {
   "cell_type": "code",
   "execution_count": 103,
   "id": "28b5afa2-7c14-40f0-9a27-659b871317aa",
   "metadata": {},
   "outputs": [
    {
     "data": {
      "text/html": [
       "<div>\n",
       "<style scoped>\n",
       "    .dataframe tbody tr th:only-of-type {\n",
       "        vertical-align: middle;\n",
       "    }\n",
       "\n",
       "    .dataframe tbody tr th {\n",
       "        vertical-align: top;\n",
       "    }\n",
       "\n",
       "    .dataframe thead th {\n",
       "        text-align: right;\n",
       "    }\n",
       "</style>\n",
       "<table border=\"1\" class=\"dataframe\">\n",
       "  <thead>\n",
       "    <tr style=\"text-align: right;\">\n",
       "      <th></th>\n",
       "      <th>Entry</th>\n",
       "      <th>Entry name</th>\n",
       "      <th>Protein names</th>\n",
       "      <th>Gene names</th>\n",
       "      <th>Cross-reference (RefSeq)</th>\n",
       "    </tr>\n",
       "  </thead>\n",
       "  <tbody>\n",
       "    <tr>\n",
       "      <th>2707</th>\n",
       "      <td>B8I4R1</td>\n",
       "      <td>B8I4R1_RUMCH</td>\n",
       "      <td>Pyrophosphate--fructose 6-phosphate 1-phosphot...</td>\n",
       "      <td>pfp Ccel_2223</td>\n",
       "      <td>G_WP_015925658_1</td>\n",
       "    </tr>\n",
       "  </tbody>\n",
       "</table>\n",
       "</div>"
      ],
      "text/plain": [
       "       Entry    Entry name                                      Protein names  \\\n",
       "2707  B8I4R1  B8I4R1_RUMCH  Pyrophosphate--fructose 6-phosphate 1-phosphot...   \n",
       "\n",
       "         Gene names Cross-reference (RefSeq)  \n",
       "2707  pfp Ccel_2223         G_WP_015925658_1  "
      ]
     },
     "execution_count": 103,
     "metadata": {},
     "output_type": "execute_result"
    }
   ],
   "source": [
    "gene_protein_map[gene_protein_map['Cross-reference (RefSeq)']=='G_WP_015925658_1']"
   ]
  },
  {
   "cell_type": "markdown",
   "id": "751b9265-dc5e-4e20-b478-0e11b4b5ebc3",
   "metadata": {
    "tags": []
   },
   "source": [
    "### Preparing for curation"
   ]
  },
  {
   "cell_type": "code",
   "execution_count": 104,
   "id": "2fb7c730-77b3-448a-aef9-4f59494af0b2",
   "metadata": {},
   "outputs": [],
   "source": [
    "rxn_add=[]\n",
    "rxn_rm=[]\n",
    "gprs={}"
   ]
  },
  {
   "cell_type": "markdown",
   "id": "357a2b06-e402-4660-b249-f77aa16f2d06",
   "metadata": {
    "tags": []
   },
   "source": [
    "#### Reactions to add\n",
    "- PFK_ppi\n"
   ]
  },
  {
   "cell_type": "markdown",
   "id": "dadfb1c9-07c4-4d31-9b5d-7e4f3a4efd11",
   "metadata": {},
   "source": [
    "*PFK_ppi*"
   ]
  },
  {
   "cell_type": "code",
   "execution_count": 105,
   "id": "611307d0-74b5-418e-866f-162dbf413ec2",
   "metadata": {},
   "outputs": [],
   "source": [
    "stoichiometry={'M_g6p_c':-1,\n",
    "              'M_ppi_c':-1,\n",
    "              'M_fdp_c':1,\n",
    "              'M_h_c':1,\n",
    "              'M_pi_c':1}\n",
    "\n",
    "PFK_ppi=reframed.CBReaction(reaction_id='R_PFK_ppi', \n",
    "                         name='diphosphate--fructose-6-phosphate 1-phosphotransferase',\n",
    "                         reversible=True, \n",
    "                         stoichiometry=stoichiometry,\n",
    "                         reaction_type=reframed.ReactionType.ENZYMATIC)\n",
    "\n",
    "rxn_add.append(PFK_ppi)\n",
    "\n",
    "prot = reframed.Protein()\n",
    "prot.genes=['G_WP_015925658_1']\n",
    "gpr = reframed.GPRAssociation()\n",
    "gpr.proteins=[prot]\n",
    "gprs['R_PFK_ppi']=gpr"
   ]
  },
  {
   "cell_type": "code",
   "execution_count": 106,
   "id": "3443ca10-4e36-4f85-9371-958b4eceb33d",
   "metadata": {},
   "outputs": [
    {
     "data": {
      "text/plain": [
       "[R_PFK_ppi: M_g6p_c + M_ppi_c <-> M_fdp_c + M_h_c + M_pi_c]"
      ]
     },
     "execution_count": 106,
     "metadata": {},
     "output_type": "execute_result"
    }
   ],
   "source": [
    "rxn_add"
   ]
  },
  {
   "cell_type": "code",
   "execution_count": 107,
   "id": "7cd333e8-fbbe-4b65-ab8f-4ba2087beaa5",
   "metadata": {},
   "outputs": [
    {
     "data": {
      "text/plain": [
       "{'R_PFK_ppi': G_WP_015925658_1}"
      ]
     },
     "execution_count": 107,
     "metadata": {},
     "output_type": "execute_result"
    }
   ],
   "source": [
    "gprs"
   ]
  },
  {
   "cell_type": "markdown",
   "id": "29a84025-2f36-4495-b9de-3857cfa6d852",
   "metadata": {},
   "source": [
    "#### Reactions to remove\n",
    "- CD6P\n",
    "- r0191\n",
    "- ID6P\n",
    "- PFK"
   ]
  },
  {
   "cell_type": "code",
   "execution_count": 108,
   "id": "803c9612-a952-471b-b51b-bb63ab23341a",
   "metadata": {},
   "outputs": [],
   "source": [
    "rxn_rm.append(model.reactions.R_CD6P)\n",
    "rxn_rm.append(model.reactions.R_r0191)\n",
    "rxn_rm.append(model.reactions.R_ID6P)\n",
    "rxn_rm.append(model.reactions.R_PFK)"
   ]
  },
  {
   "cell_type": "markdown",
   "id": "0ff8bbec-298b-4d5b-aaa2-8264da448e13",
   "metadata": {},
   "source": [
    "#### Reactions to change"
   ]
  },
  {
   "cell_type": "markdown",
   "id": "b5d5ba53-88d6-48f9-810f-6e5e7e472865",
   "metadata": {
    "tags": []
   },
   "source": [
    "##### Change GPR"
   ]
  },
  {
   "cell_type": "markdown",
   "id": "d63e382a-1ae4-4149-930e-be763bb3d0c1",
   "metadata": {
    "tags": []
   },
   "source": [
    "##### Change Cofactor\n",
    "- HEX1\n",
    "- GALK2\n",
    "- GALKr"
   ]
  },
  {
   "cell_type": "markdown",
   "id": "b5d85786-8534-48ff-af75-5e0994116342",
   "metadata": {},
   "source": [
    "*HEX1*"
   ]
  },
  {
   "cell_type": "code",
   "execution_count": 109,
   "id": "ab94ccf6-9c20-4c21-8d23-0060f820f50b",
   "metadata": {},
   "outputs": [
    {
     "data": {
      "text/plain": [
       "(G_WP_015924247_1 or G_WP_015925130_1 or G_WP_015925627_1 or G_WP_015926569_1 or G_WP_015926770_1)"
      ]
     },
     "execution_count": 109,
     "metadata": {},
     "output_type": "execute_result"
    }
   ],
   "source": [
    "model.reactions.R_HEX1.gpr"
   ]
  },
  {
   "cell_type": "code",
   "execution_count": 110,
   "id": "b001ca39-66e0-42ae-a791-6aa451ad40b3",
   "metadata": {},
   "outputs": [],
   "source": [
    "HEX1 = copy.deepcopy(model.reactions.R_HEX1)"
   ]
  },
  {
   "cell_type": "code",
   "execution_count": 111,
   "id": "0d93d549-624f-4ed8-922c-cf18ef898766",
   "metadata": {},
   "outputs": [],
   "source": [
    "HEX1.stoichiometry= collections.OrderedDict({'M_gtp_c':-1.0,'M_glc__D_c':-1.0,'M_gdp_c':1.0,'M_g6p_c': 1.0,'M_h_c': 1.0})"
   ]
  },
  {
   "cell_type": "code",
   "execution_count": 112,
   "id": "88a6b037-ccb1-4ae3-8a66-81d7b54c7527",
   "metadata": {},
   "outputs": [],
   "source": [
    "rxn_rm.append(model.reactions.R_HEX1)\n",
    "rxn_add.append(HEX1)"
   ]
  },
  {
   "cell_type": "markdown",
   "id": "9f0ad4b8-9f15-41d8-94d8-04592f8c5f54",
   "metadata": {},
   "source": [
    "*GALK2*"
   ]
  },
  {
   "cell_type": "code",
   "execution_count": 113,
   "id": "45bb6ad2-3df7-4a5a-87e6-e741f5aa61ed",
   "metadata": {},
   "outputs": [
    {
     "data": {
      "text/plain": [
       "G_WP_015926586_1"
      ]
     },
     "execution_count": 113,
     "metadata": {},
     "output_type": "execute_result"
    }
   ],
   "source": [
    "model.reactions.R_GALK2.gpr"
   ]
  },
  {
   "cell_type": "code",
   "execution_count": 114,
   "id": "a7a4888c-7670-4c0b-b98d-562ecd04ea93",
   "metadata": {},
   "outputs": [],
   "source": [
    "GALK2 = copy.deepcopy(model.reactions.R_GALK2)"
   ]
  },
  {
   "cell_type": "code",
   "execution_count": 115,
   "id": "66d85d59-4b0b-40e7-aeab-4e093ef2afa4",
   "metadata": {},
   "outputs": [],
   "source": [
    "GALK2.stoichiometry=collections.OrderedDict({'M_a_gal__D_c':-1,'M_gtp_c':-1,'M_gdp_c':1,'M_gal1p_c':1,'M_h_c':1})"
   ]
  },
  {
   "cell_type": "code",
   "execution_count": 116,
   "id": "18ae5b0c-edf2-4ba3-8bd1-1f3cbda6563a",
   "metadata": {},
   "outputs": [],
   "source": [
    "rxn_rm.append(model.reactions.R_GALK2)\n",
    "rxn_add.append(GALK2)"
   ]
  },
  {
   "cell_type": "markdown",
   "id": "27df7ca0-b4ca-4a8a-919b-b211ddbc9ffa",
   "metadata": {},
   "source": [
    "*GALKr*"
   ]
  },
  {
   "cell_type": "code",
   "execution_count": 117,
   "id": "59c728ac-b42a-4bc6-b315-23d00b5626c2",
   "metadata": {},
   "outputs": [
    {
     "data": {
      "text/plain": [
       "G_WP_015926586_1"
      ]
     },
     "execution_count": 117,
     "metadata": {},
     "output_type": "execute_result"
    }
   ],
   "source": [
    "model.reactions.R_GALKr.gpr"
   ]
  },
  {
   "cell_type": "code",
   "execution_count": 118,
   "id": "6fccf33f-0754-42fa-9fb0-8b1d055a49a6",
   "metadata": {},
   "outputs": [],
   "source": [
    "GALKr = copy.deepcopy(model.reactions.R_GALKr)"
   ]
  },
  {
   "cell_type": "code",
   "execution_count": 119,
   "id": "1ec1467b-1fbc-4efb-92b5-7d3758fc00c2",
   "metadata": {},
   "outputs": [],
   "source": [
    "GALKr.stoichiometry=collections.OrderedDict({'M_gal_c':-1,'M_gtp_c':-1,'M_gdp_c':1,'M_gal1p_c':1,'M_h_c':1})"
   ]
  },
  {
   "cell_type": "code",
   "execution_count": 120,
   "id": "cf1fc0cd-7225-44ff-bf13-feb279348800",
   "metadata": {},
   "outputs": [],
   "source": [
    "rxn_rm.append(model.reactions.R_GALKr)\n",
    "rxn_add.append(GALKr)"
   ]
  },
  {
   "cell_type": "markdown",
   "id": "b36674ae-4c32-4fe4-b618-0af5d9865efe",
   "metadata": {},
   "source": [
    "### Curation and feasability test"
   ]
  },
  {
   "cell_type": "code",
   "execution_count": 121,
   "id": "0e023f82-0e5b-4e97-bcd7-76f0c5e9ced5",
   "metadata": {},
   "outputs": [
    {
     "data": {
      "text/plain": [
       "[R_PFK_ppi: M_g6p_c + M_ppi_c <-> M_fdp_c + M_h_c + M_pi_c,\n",
       " R_HEX1: M_gtp_c + M_glc__D_c --> M_gdp_c + M_g6p_c + M_h_c,\n",
       " R_GALK2: M_a_gal__D_c + M_gtp_c --> M_gdp_c + M_gal1p_c + M_h_c,\n",
       " R_GALKr: M_gal_c + M_gtp_c <-> M_gdp_c + M_gal1p_c + M_h_c]"
      ]
     },
     "execution_count": 121,
     "metadata": {},
     "output_type": "execute_result"
    }
   ],
   "source": [
    "rxn_add"
   ]
  },
  {
   "cell_type": "code",
   "execution_count": 122,
   "id": "af110f70-51a5-4ac4-a98b-3bf1439b67d2",
   "metadata": {},
   "outputs": [
    {
     "data": {
      "text/plain": [
       "[R_CD6P: M_ctp_c + M_f6p_c --> M_cdp_c + M_fdp_c + M_h_c,\n",
       " R_r0191: M_f6p_c + M_utp_c --> M_fdp_c + M_h_c + M_udp_c,\n",
       " R_ID6P: M_f6p_c + M_itp_c --> M_fdp_c + M_h_c + M_idp_c,\n",
       " R_PFK: M_atp_c + M_f6p_c --> M_adp_c + M_fdp_c + M_h_c,\n",
       " R_HEX1: M_atp_c + M_glc__D_c --> M_adp_c + M_g6p_c + M_h_c,\n",
       " R_GALK2: M_a_gal__D_c + M_atp_c --> M_adp_c + M_gal1p_c + M_h_c,\n",
       " R_GALKr: M_atp_c + M_gal_c <-> M_adp_c + M_gal1p_c + M_h_c]"
      ]
     },
     "execution_count": 122,
     "metadata": {},
     "output_type": "execute_result"
    }
   ],
   "source": [
    "rxn_rm"
   ]
  },
  {
   "cell_type": "markdown",
   "id": "051ba916-1a2e-45c7-9ddb-3a895f6c224b",
   "metadata": {},
   "source": [
    "#### Remove reactions "
   ]
  },
  {
   "cell_type": "code",
   "execution_count": 123,
   "id": "af9c6dbf-19fe-4d0b-858d-11ad045b6830",
   "metadata": {
    "tags": []
   },
   "outputs": [
    {
     "name": "stdout",
     "output_type": "stream",
     "text": [
      "Removing rxn: R_CD6P: M_ctp_c + M_f6p_c --> M_cdp_c + M_fdp_c + M_h_c\n",
      "There are NO energy producing cycles in the model\n",
      "\n",
      "\n",
      "Removing rxn: R_r0191: M_f6p_c + M_utp_c --> M_fdp_c + M_h_c + M_udp_c\n",
      "There are NO energy producing cycles in the model\n",
      "\n",
      "\n",
      "Removing rxn: R_ID6P: M_f6p_c + M_itp_c --> M_fdp_c + M_h_c + M_idp_c\n",
      "There are NO energy producing cycles in the model\n",
      "\n",
      "\n",
      "Removing rxn: R_PFK: M_atp_c + M_f6p_c --> M_adp_c + M_fdp_c + M_h_c\n",
      "There are NO energy producing cycles in the model\n",
      "\n",
      "\n",
      "Removing rxn: R_HEX1: M_atp_c + M_glc__D_c --> M_adp_c + M_g6p_c + M_h_c\n",
      "There are NO energy producing cycles in the model\n",
      "\n",
      "\n",
      "Removing rxn: R_GALK2: M_a_gal__D_c + M_atp_c --> M_adp_c + M_gal1p_c + M_h_c\n",
      "There are NO energy producing cycles in the model\n",
      "\n",
      "\n",
      "Removing rxn: R_GALKr: M_atp_c + M_gal_c <-> M_adp_c + M_gal1p_c + M_h_c\n",
      "There are NO energy producing cycles in the model\n",
      "\n",
      "\n"
     ]
    }
   ],
   "source": [
    "for rxn in rxn_rm:\n",
    "    print(\"Removing rxn: \" + str(rxn))\n",
    "    model.remove_reaction(rxn.id)\n",
    "    env_empty = reframed.Environment.empty(model)\n",
    "    objective= {rxn:0 for rxn in model.reactions}\n",
    "    objective['R_ATPM']=1\n",
    "    \n",
    "    sol = reframed.FBA(model,objective=objective,constraints=env_empty)\n",
    "\n",
    "    if abs(sol.fobj) <1e-6: #cplex tolerance\n",
    "        print('There are NO energy producing cycles in the model')\n",
    "        print(\"\\n\")\n",
    "    else:\n",
    "        print('There is at least one energy producing cycle in the model')\n",
    "        print(\"\\n\")\n",
    "        sol_pfba = pFBA(model,objective=objective,constraints=env_empty)\n",
    "\n",
    "        print('These are the reactions that are a part of the energy producing cycle')\n",
    "\n",
    "        for rxn,value in sol_pfba.values.items():\n",
    "            if value>0.0: # What value to choose here?\n",
    "\n",
    "                print(\"\\t\" + str(rxn)+\": \" + str(value))\n",
    "        print(\"\\n\")"
   ]
  },
  {
   "cell_type": "code",
   "execution_count": 124,
   "id": "f1d906c8-36a9-44da-9776-19b5ea305f14",
   "metadata": {
    "tags": []
   },
   "outputs": [
    {
     "name": "stdout",
     "output_type": "stream",
     "text": [
      "Adding rxn: R_PFK_ppi: M_g6p_c + M_ppi_c <-> M_fdp_c + M_h_c + M_pi_c\n",
      "There are NO energy producing cycles in the model\n",
      "\n",
      "\n",
      "Adding rxn: R_HEX1: M_gtp_c + M_glc__D_c --> M_gdp_c + M_g6p_c + M_h_c\n",
      "There are NO energy producing cycles in the model\n",
      "\n",
      "\n",
      "Adding rxn: R_GALK2: M_a_gal__D_c + M_gtp_c --> M_gdp_c + M_gal1p_c + M_h_c\n",
      "There are NO energy producing cycles in the model\n",
      "\n",
      "\n",
      "Adding rxn: R_GALKr: M_gal_c + M_gtp_c <-> M_gdp_c + M_gal1p_c + M_h_c\n",
      "There are NO energy producing cycles in the model\n",
      "\n",
      "\n"
     ]
    }
   ],
   "source": [
    "for rxn in rxn_add:\n",
    "    print(\"Adding rxn: \" + str(rxn))\n",
    "    model.add_reaction(rxn)\n",
    "    \n",
    "    env_empty = reframed.Environment.empty(model)\n",
    "    objective= {rxn:0 for rxn in model.reactions}\n",
    "    objective['R_ATPM']=1\n",
    "    \n",
    "    sol = reframed.FBA(model,objective=objective,constraints=env_empty)\n",
    "\n",
    "    if abs(sol.fobj) <1e-6: #cplex tolerance\n",
    "        print('There are NO energy producing cycles in the model')\n",
    "        print(\"\\n\")\n",
    "    else:\n",
    "        print('There is at least one energy producing cycle in the model')\n",
    "        sol_pfba = pFBA(model,objective=objective,constraints=env_empty)\n",
    "\n",
    "        print('These are the reactions that are a part of the energy producing cycle')\n",
    "\n",
    "        for rxn,value in sol_pfba.values.items():\n",
    "            if abs(value)>0.0: # What value to choose here?\n",
    "\n",
    "                print(\"\\t\" + str(rxn)+\": \" + str(value))\n",
    "        print(\"\\n\")"
   ]
  },
  {
   "cell_type": "markdown",
   "id": "c67a7250-538f-4e25-a260-7e36062a4945",
   "metadata": {},
   "source": [
    "#### Add GPR to reactions"
   ]
  },
  {
   "cell_type": "code",
   "execution_count": 125,
   "id": "7d842f2f-98b6-4a16-b569-8959b1d86f90",
   "metadata": {},
   "outputs": [],
   "source": [
    "for rxn_id,gpr in gprs.items():\n",
    "    model.set_gpr_association(rxn_id,gpr)"
   ]
  },
  {
   "cell_type": "markdown",
   "id": "2a078072-3a0d-475c-896d-2e5651041b18",
   "metadata": {
    "tags": []
   },
   "source": [
    "## Hydrogen production\n",
    "\n",
    "One of the goal of this curation was to see if this will help the process of hydrogen production. Let's check if this is now possible. "
   ]
  },
  {
   "cell_type": "markdown",
   "id": "702d540e-2dbb-46c3-8e94-5c9a0568c5fe",
   "metadata": {},
   "source": [
    "Hydrogen production is NOT feasible in the current conditions, even at 0 growth rate."
   ]
  },
  {
   "cell_type": "code",
   "execution_count": 126,
   "id": "ec782cdc-c87b-4290-8139-dbb101dfa460",
   "metadata": {},
   "outputs": [
    {
     "data": {
      "text/plain": [
       "{'R_EX_h2_e': [0.0, 0.0]}"
      ]
     },
     "execution_count": 126,
     "metadata": {},
     "output_type": "execute_result"
    }
   ],
   "source": [
    "reframed.FVA(model,reactions=['R_EX_h2_e'])"
   ]
  },
  {
   "cell_type": "markdown",
   "id": "5b561fe1-3ff4-445d-9670-29830f654eee",
   "metadata": {},
   "source": [
    "Looking at the reactions involving M_h2_e and M_h2_c we see that there is no transport reaction for hydrogen. "
   ]
  },
  {
   "cell_type": "code",
   "execution_count": 127,
   "id": "d6f1f48c-eb47-4737-b2aa-cdccc73e6a7d",
   "metadata": {},
   "outputs": [
    {
     "name": "stdout",
     "output_type": "stream",
     "text": [
      "R_HYDA1: M_h2_e + 2.0 M_h_c + M_mqn6_c --> 2.0 M_h_e + M_mql6_c\n",
      "R_EX_h2_e: M_h2_e --> \n"
     ]
    }
   ],
   "source": [
    "for rxn in model.get_metabolite_reactions('M_h2_e'):\n",
    "    print(model.reactions[rxn])"
   ]
  },
  {
   "cell_type": "code",
   "execution_count": 128,
   "id": "2b1f6125-c985-478a-a17e-52bafa1ef14d",
   "metadata": {},
   "outputs": [
    {
     "name": "stdout",
     "output_type": "stream",
     "text": [
      "R_FNRR3: M_fdxo_2_2_c + M_h2_c --> M_fdxrd_c + 2.0 M_h_c\n",
      "R_H2ASE_syn: M_h_c + M_nadph_c <-> M_h2_c + M_nadp_c\n",
      "R_HYD1pp: M_h2_c + 2.0 M_h_c + M_q8_c --> 2.0 M_h_p + M_q8h2_c\n",
      "R_HYD2: M_h2_c + 2.0 M_h_c + M_mqn8_c --> 2.0 M_h_e + M_mql8_c\n"
     ]
    }
   ],
   "source": [
    "for rxn in model.get_metabolite_reactions('M_h2_c'):\n",
    "    print(model.reactions[rxn])"
   ]
  },
  {
   "cell_type": "markdown",
   "id": "07a9a899-682b-41a5-af0d-93561f51f0f0",
   "metadata": {},
   "source": [
    "In the universal model there is a transport reaction for hydrogen with diffusion. We can ask project partners for this. "
   ]
  },
  {
   "cell_type": "code",
   "execution_count": 129,
   "id": "979e87e0-a067-420f-b883-ca3cc450e59b",
   "metadata": {},
   "outputs": [
    {
     "data": {
      "text/plain": [
       "R_H2td: M_h2_c <-> M_h2_e"
      ]
     },
     "execution_count": 129,
     "metadata": {},
     "output_type": "execute_result"
    }
   ],
   "source": [
    "model_universe.reactions.R_H2td"
   ]
  },
  {
   "cell_type": "code",
   "execution_count": 130,
   "id": "44b1fcfa-f531-4d60-8d6b-72a22e40d696",
   "metadata": {},
   "outputs": [],
   "source": [
    "model.add_reaction(model_universe.reactions.R_H2td)"
   ]
  },
  {
   "cell_type": "code",
   "execution_count": 131,
   "id": "adc05c66-6e04-4d47-886c-7b7c52b12895",
   "metadata": {},
   "outputs": [],
   "source": [
    "model.update()"
   ]
  },
  {
   "cell_type": "code",
   "execution_count": 132,
   "id": "e41d3748-6f07-43cc-90ba-3b0ce2fa7ad7",
   "metadata": {},
   "outputs": [
    {
     "data": {
      "text/plain": [
       "{'R_EX_h2_e': [0.0, 75.12836970474969]}"
      ]
     },
     "execution_count": 132,
     "metadata": {},
     "output_type": "execute_result"
    }
   ],
   "source": [
    "reframed.FVA(model,reactions=['R_EX_h2_e'])"
   ]
  },
  {
   "cell_type": "code",
   "execution_count": 133,
   "id": "bdbae78c-d679-467b-8c1a-a76decc08e98",
   "metadata": {},
   "outputs": [
    {
     "name": "stdout",
     "output_type": "stream",
     "text": [
      "There are NO energy producing cycles in the model\n",
      "\n",
      "\n"
     ]
    }
   ],
   "source": [
    "env_empty = reframed.Environment.empty(model)\n",
    "objective= {rxn:0 for rxn in model.reactions}\n",
    "objective['R_ATPM']=1\n",
    "\n",
    "sol = reframed.FBA(model,objective=objective,constraints=env_empty)\n",
    "\n",
    "if abs(sol.fobj) <1e-6: #cplex tolerance\n",
    "    print('There are NO energy producing cycles in the model')\n",
    "    print(\"\\n\")\n",
    "else:\n",
    "    print('There is at least one energy producing cycle in the model')\n",
    "    sol_pfba = pFBA(model,objective=objective,constraints=env_empty)\n",
    "\n",
    "    print('These are the reactions that are a part of the energy producing cycle')\n",
    "\n",
    "    for rxn,value in sol_pfba.values.items():\n",
    "        if value>50.0: # What value to choose here?\n",
    "\n",
    "            print(\"\\t\" + str(rxn)+\": \" + str(value))\n",
    "    print(\"\\n\")"
   ]
  },
  {
   "cell_type": "markdown",
   "id": "81183cb5-c677-42b9-a03c-13f9ebac6f33",
   "metadata": {},
   "source": [
    "### pFBA results"
   ]
  },
  {
   "cell_type": "code",
   "execution_count": 134,
   "id": "7e5b526f-19e1-4477-b23b-c17161e6ee21",
   "metadata": {},
   "outputs": [
    {
     "name": "stdout",
     "output_type": "stream",
     "text": [
      "R_EX_glc__D_e -10\n",
      "R_EX_h_e     -10\n",
      "R_EX_no3_e   -7.50625\n",
      "R_EX_pi_e    -0.883792\n",
      "R_EX_cys__L_e -0.155023\n",
      "R_EX_k_e     -0.122862\n",
      "R_EX_mg2_e   -0.00546039\n",
      "R_EX_fe3_e   -0.00491467\n",
      "R_EX_fe2_e   -0.00422669\n",
      "R_EX_ca2_e   -0.00327623\n",
      "R_EX_cl_e    -0.00327623\n",
      "R_EX_so4_e   -0.00273051\n",
      "R_EX_cu2_e   -0.000446273\n",
      "R_EX_mn2_e   -0.000434943\n",
      "R_EX_ribflv_e -0.00028073\n",
      "R_EX_zn2_e   -0.000214639\n",
      "R_EX_cobalt2_e -6.2944e-05\n",
      "R_EX_4hba_e   0.000140365\n",
      "R_EX_d23hb_e  0.346936\n",
      "R_EX_nh4_e    0.884451\n",
      "R_EX_ac_e     10.8348\n",
      "R_EX_co2_e    11.9292\n",
      "R_EX_h2o_e    27.9927\n"
     ]
    }
   ],
   "source": [
    "reframed.pFBA(model,constraints={'R_EX_h2s_e':0}).show_values(pattern=\"R_EX\",sort=True)"
   ]
  },
  {
   "cell_type": "markdown",
   "id": "bca6893a-495e-412b-918f-a317595ef0ff",
   "metadata": {},
   "source": [
    "### Summary"
   ]
  },
  {
   "cell_type": "code",
   "execution_count": 135,
   "id": "c8f1ebc8-af02-4d4b-9f0c-b3d89045e537",
   "metadata": {},
   "outputs": [],
   "source": [
    "model.update()"
   ]
  },
  {
   "cell_type": "markdown",
   "id": "d9743d2d-b2f7-444d-b2d9-bcb03368e51a",
   "metadata": {},
   "source": [
    "**Remove genes/proteins**"
   ]
  },
  {
   "cell_type": "code",
   "execution_count": 136,
   "id": "b3fb4248-b243-462b-9676-92bef7f884f0",
   "metadata": {},
   "outputs": [
    {
     "data": {
      "text/plain": [
       "[]"
      ]
     },
     "execution_count": 136,
     "metadata": {},
     "output_type": "execute_result"
    }
   ],
   "source": [
    "[key for key, value in model.gene_to_reaction_lookup().items() if len(value)==0]"
   ]
  },
  {
   "cell_type": "code",
   "execution_count": 137,
   "id": "f9726a10-537e-4ba3-8def-40d9d09dc3b9",
   "metadata": {},
   "outputs": [],
   "source": [
    "model.remove_genes([key for key, value in model.gene_to_reaction_lookup().items() if len(value)==0])"
   ]
  },
  {
   "cell_type": "code",
   "execution_count": 138,
   "id": "267abe3d-1c17-4ce9-b592-d613170a1209",
   "metadata": {},
   "outputs": [],
   "source": [
    "model.update()"
   ]
  },
  {
   "cell_type": "code",
   "execution_count": 139,
   "id": "6c9b2f29-191a-47ba-9629-242c7c5602b7",
   "metadata": {},
   "outputs": [
    {
     "data": {
      "text/plain": [
       "[]"
      ]
     },
     "execution_count": 139,
     "metadata": {},
     "output_type": "execute_result"
    }
   ],
   "source": [
    "[key for key, value in model.gene_to_reaction_lookup().items() if len(value)==0]"
   ]
  },
  {
   "cell_type": "markdown",
   "id": "b301f3b4-ae17-40f3-8f84-77c927a407ae",
   "metadata": {},
   "source": [
    "**Finish model**"
   ]
  },
  {
   "cell_type": "code",
   "execution_count": 140,
   "id": "e0698bd8-228b-455d-bfdc-43abbc92c033",
   "metadata": {},
   "outputs": [],
   "source": [
    "model.id = \"model_c_H10_part2_1_1\""
   ]
  },
  {
   "cell_type": "code",
   "execution_count": 141,
   "id": "ee47f3b7-e95e-406e-9ac7-7cb4e3df1abc",
   "metadata": {},
   "outputs": [],
   "source": [
    "reframed.save_cbmodel(model,filename=\"model_c_H10_part2_1_1.xml\")"
   ]
  },
  {
   "cell_type": "code",
   "execution_count": 142,
   "id": "cdb0e42f-5888-49a6-9399-6651d03e482f",
   "metadata": {},
   "outputs": [],
   "source": [
    "model_new = reframed.load_cbmodel('model_c_H10_part2_1_1.xml')"
   ]
  },
  {
   "cell_type": "code",
   "execution_count": 143,
   "id": "b56372fc-5155-4476-ac3a-81d06a21d4e9",
   "metadata": {},
   "outputs": [],
   "source": [
    "model_prev = reframed.load_cbmodel('model_cellulolyticum_H10.xml')"
   ]
  },
  {
   "cell_type": "code",
   "execution_count": 144,
   "id": "c5d7c553-6c7c-4a71-baed-47248cc4f82f",
   "metadata": {},
   "outputs": [],
   "source": [
    "models_dict={model.id:{} for model in [model_new,model_prev]}\n",
    "models_rxn_dict={model.id:{} for model in [model_new,model_prev]}\n",
    "for model in [model,model_prev]:\n",
    "    models_dict[model.id]['Reactions']=len(model.reactions)\n",
    "    models_dict[model.id]['Metabolites']=len(model.metabolites)\n",
    "    models_dict[model.id]['Genes']=len(model.genes)\n",
    "    \n",
    "    models_rxn_dict[model.id]['Enzymatic']=len(model.get_reactions_by_type(reframed.ReactionType.ENZYMATIC))\n",
    "    models_rxn_dict[model.id]['Exchange']=len(model.get_reactions_by_type(reframed.ReactionType.EXCHANGE))\n",
    "    models_rxn_dict[model.id]['Transport']=len(model.get_reactions_by_type(reframed.ReactionType.TRANSPORT))\n",
    "    models_rxn_dict[model.id]['Sink']=len(model.get_reactions_by_type(reframed.ReactionType.SINK))\n",
    "    models_rxn_dict[model.id]['Other']=len(model.get_reactions_by_type(reframed.ReactionType.OTHER))\n",
    "    "
   ]
  },
  {
   "cell_type": "markdown",
   "id": "14c0e82f-6f94-471c-a565-7a567455309e",
   "metadata": {},
   "source": [
    "**Overview models**"
   ]
  },
  {
   "cell_type": "code",
   "execution_count": 145,
   "id": "6c1c374a-a68c-4380-9619-82c1017c5e6f",
   "metadata": {},
   "outputs": [
    {
     "data": {
      "text/html": [
       "<div>\n",
       "<style scoped>\n",
       "    .dataframe tbody tr th:only-of-type {\n",
       "        vertical-align: middle;\n",
       "    }\n",
       "\n",
       "    .dataframe tbody tr th {\n",
       "        vertical-align: top;\n",
       "    }\n",
       "\n",
       "    .dataframe thead th {\n",
       "        text-align: right;\n",
       "    }\n",
       "</style>\n",
       "<table border=\"1\" class=\"dataframe\">\n",
       "  <thead>\n",
       "    <tr style=\"text-align: right;\">\n",
       "      <th></th>\n",
       "      <th>model_c_H10_part2_1_1</th>\n",
       "      <th>model_cellulolyticum_H10</th>\n",
       "    </tr>\n",
       "  </thead>\n",
       "  <tbody>\n",
       "    <tr>\n",
       "      <th>Reactions</th>\n",
       "      <td>1811</td>\n",
       "      <td>1811</td>\n",
       "    </tr>\n",
       "    <tr>\n",
       "      <th>Metabolites</th>\n",
       "      <td>1250</td>\n",
       "      <td>1250</td>\n",
       "    </tr>\n",
       "    <tr>\n",
       "      <th>Genes</th>\n",
       "      <td>734</td>\n",
       "      <td>733</td>\n",
       "    </tr>\n",
       "  </tbody>\n",
       "</table>\n",
       "</div>"
      ],
      "text/plain": [
       "             model_c_H10_part2_1_1  model_cellulolyticum_H10\n",
       "Reactions                     1811                      1811\n",
       "Metabolites                   1250                      1250\n",
       "Genes                          734                       733"
      ]
     },
     "execution_count": 145,
     "metadata": {},
     "output_type": "execute_result"
    }
   ],
   "source": [
    "pd.DataFrame(models_dict)"
   ]
  },
  {
   "cell_type": "markdown",
   "id": "7b801c09-b8d4-476a-a8e8-bb0cf561884f",
   "metadata": {},
   "source": [
    "**Overview reactions in models**"
   ]
  },
  {
   "cell_type": "code",
   "execution_count": 146,
   "id": "ddb17969-9ede-41d1-94f7-9f8808723324",
   "metadata": {},
   "outputs": [
    {
     "data": {
      "text/html": [
       "<div>\n",
       "<style scoped>\n",
       "    .dataframe tbody tr th:only-of-type {\n",
       "        vertical-align: middle;\n",
       "    }\n",
       "\n",
       "    .dataframe tbody tr th {\n",
       "        vertical-align: top;\n",
       "    }\n",
       "\n",
       "    .dataframe thead th {\n",
       "        text-align: right;\n",
       "    }\n",
       "</style>\n",
       "<table border=\"1\" class=\"dataframe\">\n",
       "  <thead>\n",
       "    <tr style=\"text-align: right;\">\n",
       "      <th></th>\n",
       "      <th>model_c_H10_part2_1_1</th>\n",
       "      <th>model_cellulolyticum_H10</th>\n",
       "    </tr>\n",
       "  </thead>\n",
       "  <tbody>\n",
       "    <tr>\n",
       "      <th>Enzymatic</th>\n",
       "      <td>880</td>\n",
       "      <td>883</td>\n",
       "    </tr>\n",
       "    <tr>\n",
       "      <th>Exchange</th>\n",
       "      <td>210</td>\n",
       "      <td>210</td>\n",
       "    </tr>\n",
       "    <tr>\n",
       "      <th>Transport</th>\n",
       "      <td>476</td>\n",
       "      <td>475</td>\n",
       "    </tr>\n",
       "    <tr>\n",
       "      <th>Sink</th>\n",
       "      <td>0</td>\n",
       "      <td>0</td>\n",
       "    </tr>\n",
       "    <tr>\n",
       "      <th>Other</th>\n",
       "      <td>245</td>\n",
       "      <td>243</td>\n",
       "    </tr>\n",
       "  </tbody>\n",
       "</table>\n",
       "</div>"
      ],
      "text/plain": [
       "           model_c_H10_part2_1_1  model_cellulolyticum_H10\n",
       "Enzymatic                    880                       883\n",
       "Exchange                     210                       210\n",
       "Transport                    476                       475\n",
       "Sink                           0                         0\n",
       "Other                        245                       243"
      ]
     },
     "execution_count": 146,
     "metadata": {},
     "output_type": "execute_result"
    }
   ],
   "source": [
    "pd.DataFrame(models_rxn_dict)"
   ]
  },
  {
   "cell_type": "markdown",
   "id": "b4f28c0c-032f-4cd7-831c-a7ccf286a8b8",
   "metadata": {},
   "source": [
    "**Reactions removed**"
   ]
  },
  {
   "cell_type": "code",
   "execution_count": 147,
   "id": "a0698b1f-aaea-4157-ac76-441349af99ab",
   "metadata": {},
   "outputs": [
    {
     "data": {
      "text/plain": [
       "{'R_CD6P', 'R_ID6P', 'R_PFK', 'R_r0191'}"
      ]
     },
     "execution_count": 147,
     "metadata": {},
     "output_type": "execute_result"
    }
   ],
   "source": [
    "set(model_prev.reactions)-set(model_new.reactions)"
   ]
  },
  {
   "cell_type": "markdown",
   "id": "e899004f-f5ad-4ea1-ba52-6ccab6a44762",
   "metadata": {},
   "source": [
    "**Reactions added**"
   ]
  },
  {
   "cell_type": "code",
   "execution_count": 148,
   "id": "795022c5-0e25-40d8-9438-d1a3d1f4fdd7",
   "metadata": {},
   "outputs": [
    {
     "data": {
      "text/plain": [
       "{'R_FNRR', 'R_FNRR2', 'R_H2td', 'R_PFK_ppi'}"
      ]
     },
     "execution_count": 148,
     "metadata": {},
     "output_type": "execute_result"
    }
   ],
   "source": [
    "set(model_new.reactions)-set(model_prev.reactions)"
   ]
  }
 ],
 "metadata": {
  "kernelspec": {
   "display_name": "RecAndAn",
   "language": "python",
   "name": "recandan"
  },
  "language_info": {
   "codemirror_mode": {
    "name": "ipython",
    "version": 3
   },
   "file_extension": ".py",
   "mimetype": "text/x-python",
   "name": "python",
   "nbconvert_exporter": "python",
   "pygments_lexer": "ipython3",
   "version": "3.7.13"
  }
 },
 "nbformat": 4,
 "nbformat_minor": 5
}
