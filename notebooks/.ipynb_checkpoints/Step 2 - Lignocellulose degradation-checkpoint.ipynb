{
 "cells": [
  {
   "cell_type": "markdown",
   "id": "5a66bd26-bdd5-47cc-9aed-30c79225689d",
   "metadata": {},
   "source": [
    "# Reconstructing pathways cellulose degradation and updake"
   ]
  },
  {
   "cell_type": "code",
   "execution_count": null,
   "id": "7ba19a13-e003-4e34-b7e6-3d513b8c4e0c",
   "metadata": {
    "tags": []
   },
   "outputs": [],
   "source": [
    "import pandas as pd\n",
    "from reframed import Metabolite, GPRAssociation, Gene, Protein, ReactionType, CBReaction, Environment, FVA, load_cbmodel\n",
    "from reframed.io.sbml import parse_gpr_rule\n",
    "import json"
   ]
  },
  {
   "cell_type": "markdown",
   "id": "77df0640-edfc-4ea7-ab5c-694729123407",
   "metadata": {},
   "source": [
    "## Reconstructing pathway"
   ]
  },
  {
   "cell_type": "markdown",
   "id": "05927f96-9780-46cb-9078-ea67d93fe83a",
   "metadata": {},
   "source": [
    "### Metabolites\n",
    "    "
   ]
  },
  {
   "cell_type": "code",
   "execution_count": null,
   "id": "e5466996-49a9-4f7a-86f9-eea4a0b90e5b",
   "metadata": {
    "tags": []
   },
   "outputs": [],
   "source": [
    "metabolites = pd.read_excel('../input/Polysaccharide degrading pathways.xlsx', sheet_name=\"Mets.  Cat. of cellodextrins \", usecols=\"A:E\").dropna()"
   ]
  },
  {
   "cell_type": "code",
   "execution_count": null,
   "id": "a4c43595-3da0-42d3-bcdb-263619aaecad",
   "metadata": {
    "tags": []
   },
   "outputs": [],
   "source": [
    "mets = []\n",
    "\n",
    "for index, row in metabolites.iterrows():\n",
    "    met = Metabolite(met_id=row['Identifier'], name=row['Name'], compartment=\"C_\"+row['Compartment'])\n",
    "    met.metadata={'FORMULA':row['Formula'], 'CHARGE':str(row['Charge'])}                  \n",
    "    mets.append(met)"
   ]
  },
  {
   "cell_type": "markdown",
   "id": "9652ed8e-2014-48c2-b73d-2f8b9f0c01ae",
   "metadata": {
    "tags": []
   },
   "source": [
    "### Genes"
   ]
  },
  {
   "cell_type": "code",
   "execution_count": null,
   "id": "ada180e0-84c6-4a06-9574-ec14d9fa3e42",
   "metadata": {
    "tags": []
   },
   "outputs": [],
   "source": [
    "gene_id_map = pd.read_csv('../input/uniprot-proteome_UP000001349.tab', sep='\\t', usecols=[3,4], names=['name', 'refseq'], header=0)\n",
    "gene_id_map['name'] =  gene_id_map['name'].str.split()\n",
    "gene_id_map = gene_id_map.explode('name').dropna()\n",
    "gene_id_map['refseq'] = gene_id_map['refseq'].apply(lambda x: f'G_{x[:-3]}_1')\n",
    "gene_id_map = dict(gene_id_map.values)"
   ]
  },
  {
   "cell_type": "code",
   "execution_count": null,
   "id": "ab1d5e1e-e70d-4465-932b-97b391206484",
   "metadata": {},
   "outputs": [],
   "source": [
    "def gene_str_to_GPR(gene_string):\n",
    "    gpr = parse_gpr_rule(gene_string)\n",
    "    \n",
    "    for protein in gpr.proteins:\n",
    "        protein.genes = [gene_id_map.get(x, 'G_' + x) for x in protein.genes]\n",
    "                \n",
    "    return gpr"
   ]
  },
  {
   "cell_type": "markdown",
   "id": "7f984016-374b-4a22-bff1-2b75e7726deb",
   "metadata": {},
   "source": [
    "### Reactions"
   ]
  },
  {
   "cell_type": "code",
   "execution_count": null,
   "id": "db09cdf7-eab5-40ca-b048-2bd630de835c",
   "metadata": {
    "tags": []
   },
   "outputs": [],
   "source": [
    "reactions = pd.read_excel('../input/Polysaccharide degrading pathways.xlsx', sheet_name=\"Rxns.  Cat. of cellodextrins \", usecols=\"A:F\")"
   ]
  },
  {
   "cell_type": "code",
   "execution_count": null,
   "id": "14578223-141a-4f2b-a1dd-7e782b821542",
   "metadata": {},
   "outputs": [],
   "source": [
    "rxns=[]\n",
    "gprs={}\n",
    "\n",
    "for index, row in reactions.iterrows():\n",
    "    \n",
    "    reaction_id = row['Identifier']\n",
    "    name = row['Enzyme']\n",
    "    reversible = False\n",
    "    stoichiometry = json.loads(row['Stoichiometry'])\n",
    "    reaction_type = ReactionType.ENZYMATIC\n",
    "    \n",
    "    if row['Transport']==1:\n",
    "        reaction_type=ReactionType.TRANSPORT \n",
    "    \n",
    "    rxn = CBReaction(reaction_id=reaction_id, name=name, reversible=reversible, stoichiometry=stoichiometry, reaction_type=reaction_type)\n",
    "    rxns.append(rxn)\n",
    "    \n",
    "    gprs[reaction_id] = gene_str_to_GPR(row['Gene'])"
   ]
  },
  {
   "cell_type": "markdown",
   "id": "f5ab91e0-9821-429e-9da3-39c4a83d1eba",
   "metadata": {},
   "source": [
    "### Exchange reactions"
   ]
  },
  {
   "cell_type": "code",
   "execution_count": null,
   "id": "152ab0aa-0a91-4486-91a2-b9810960a0f0",
   "metadata": {},
   "outputs": [],
   "source": [
    "mets_exchange = [met.id for met in mets if met.compartment==\"C_e\"]\n",
    "rxns_exchange = []\n",
    "\n",
    "for met in mets_exchange:\n",
    "    rxn_id = \"R_EX_\" + met[2:]\n",
    "    name = \"Exchange of \" + model.metabolites[met].name\n",
    "    rxn = CBReaction(reaction_id=rxn_id, name=name, reversible=True, stoichiometry={met: -1.0} , reaction_type=ReactionType.EXCHANGE)\n",
    "    rxns_exchange.append(rxn)"
   ]
  },
  {
   "cell_type": "markdown",
   "id": "41d9840d-b2b4-4d82-b495-0e105edb2f48",
   "metadata": {
    "tags": []
   },
   "source": [
    "### Add new metabolites and reactions to model"
   ]
  },
  {
   "cell_type": "code",
   "execution_count": null,
   "id": "5bfb9831-ea3f-4e68-bb8d-0bb3e6e65cef",
   "metadata": {},
   "outputs": [],
   "source": [
    "model = load_cbmodel('../models/RcH10_draft.xml')"
   ]
  },
  {
   "cell_type": "code",
   "execution_count": null,
   "id": "89a54fc5-3298-4280-81f5-3c1d8c78a376",
   "metadata": {},
   "outputs": [],
   "source": [
    "for met in mets:\n",
    "    model.add_metabolite(met)\n",
    "    \n",
    "for rxn in rxns:\n",
    "    model.add_reaction(rxn)\n",
    "    model.set_gpr_association(rxn.id,gprs[rxn.id])\n",
    "    \n",
    "for rxn in rxns_exchange:\n",
    "    model.add_reaction(rxn)"
   ]
  }
 ],
 "metadata": {
  "kernelspec": {
   "display_name": "Python 3 (ipykernel)",
   "language": "python",
   "name": "python3"
  },
  "language_info": {
   "codemirror_mode": {
    "name": "ipython",
    "version": 3
   },
   "file_extension": ".py",
   "mimetype": "text/x-python",
   "name": "python",
   "nbconvert_exporter": "python",
   "pygments_lexer": "ipython3",
   "version": "3.9.18"
  }
 },
 "nbformat": 4,
 "nbformat_minor": 5
}
