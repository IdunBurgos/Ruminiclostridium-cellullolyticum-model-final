{
 "cells": [
  {
   "cell_type": "markdown",
   "id": "729899c9-107a-4087-9f62-23a0c80927cd",
   "metadata": {},
   "source": [
    "# Part 3.2.1. Reconstructing pathway for uptake of oligosaccharides from xyloglucan"
   ]
  },
  {
   "cell_type": "code",
   "execution_count": 1,
   "id": "8f552ac9-8186-40f2-958d-8b6c51d55c7e",
   "metadata": {},
   "outputs": [],
   "source": [
    "import pandas as pd\n",
    "import numpy as np\n",
    "import reframed\n",
    "from reframed import Metabolite, GPRAssociation,Gene,Protein, ReactionType,CBReaction,Environment,FVA\n",
    "from collections import OrderedDict\n",
    "import json\n"
   ]
  },
  {
   "cell_type": "markdown",
   "id": "9524d68e-f1f8-4732-9974-d5f137d5f54e",
   "metadata": {},
   "source": [
    "## Reconstructing pathway"
   ]
  },
  {
   "cell_type": "markdown",
   "id": "69b87251-a211-456c-b5e8-9be5626373f2",
   "metadata": {},
   "source": [
    "### Metabolites\n",
    "    "
   ]
  },
  {
   "cell_type": "code",
   "execution_count": 2,
   "id": "87553c3f-b1d5-4583-94c2-66072dbbbed3",
   "metadata": {},
   "outputs": [
    {
     "data": {
      "text/html": [
       "<div>\n",
       "<style scoped>\n",
       "    .dataframe tbody tr th:only-of-type {\n",
       "        vertical-align: middle;\n",
       "    }\n",
       "\n",
       "    .dataframe tbody tr th {\n",
       "        vertical-align: top;\n",
       "    }\n",
       "\n",
       "    .dataframe thead th {\n",
       "        text-align: right;\n",
       "    }\n",
       "</style>\n",
       "<table border=\"1\" class=\"dataframe\">\n",
       "  <thead>\n",
       "    <tr style=\"text-align: right;\">\n",
       "      <th></th>\n",
       "      <th>Name</th>\n",
       "      <th>Identifier</th>\n",
       "      <th>Compartment</th>\n",
       "      <th>Formula</th>\n",
       "      <th>Charge</th>\n",
       "    </tr>\n",
       "  </thead>\n",
       "  <tbody>\n",
       "    <tr>\n",
       "      <th>0</th>\n",
       "      <td>Four-glucosyl xyloglucan oligosaccharide XLXG</td>\n",
       "      <td>M_QLQG_e</td>\n",
       "      <td>e</td>\n",
       "      <td>C45H76O38</td>\n",
       "      <td>0.0</td>\n",
       "    </tr>\n",
       "    <tr>\n",
       "      <th>1</th>\n",
       "      <td>Four-glucosyl xyloglucan oligosaccharide XXLG</td>\n",
       "      <td>M_QQLG_e</td>\n",
       "      <td>e</td>\n",
       "      <td>C45H76O38</td>\n",
       "      <td>0.0</td>\n",
       "    </tr>\n",
       "    <tr>\n",
       "      <th>2</th>\n",
       "      <td>Four-glucosyl xyloglucan oligosaccharide XLLG</td>\n",
       "      <td>M_QLLG_e</td>\n",
       "      <td>e</td>\n",
       "      <td>C51H86O43</td>\n",
       "      <td>0.0</td>\n",
       "    </tr>\n",
       "    <tr>\n",
       "      <th>3</th>\n",
       "      <td>Four-glucosyl xyloglucan oligosaccharide XXXG</td>\n",
       "      <td>M_QQQG_e</td>\n",
       "      <td>e</td>\n",
       "      <td>C39H66O33</td>\n",
       "      <td>0.0</td>\n",
       "    </tr>\n",
       "    <tr>\n",
       "      <th>4</th>\n",
       "      <td>Four-glucosyl xyloglucan oligosaccharide XLXG</td>\n",
       "      <td>M_QLQG_c</td>\n",
       "      <td>c</td>\n",
       "      <td>C45H76O38</td>\n",
       "      <td>0.0</td>\n",
       "    </tr>\n",
       "    <tr>\n",
       "      <th>5</th>\n",
       "      <td>Four-glucosyl xyloglucan oligosaccharide XXLG</td>\n",
       "      <td>M_QQLG_c</td>\n",
       "      <td>c</td>\n",
       "      <td>C45H76O38</td>\n",
       "      <td>0.0</td>\n",
       "    </tr>\n",
       "    <tr>\n",
       "      <th>6</th>\n",
       "      <td>Four-glucosyl xyloglucan oligosaccharide XLLG</td>\n",
       "      <td>M_QLLG_c</td>\n",
       "      <td>c</td>\n",
       "      <td>C51H86O43</td>\n",
       "      <td>0.0</td>\n",
       "    </tr>\n",
       "    <tr>\n",
       "      <th>7</th>\n",
       "      <td>Four-glucosyl xyloglucan oligosaccharide XXXG</td>\n",
       "      <td>M_QQQG_c</td>\n",
       "      <td>c</td>\n",
       "      <td>C39H66O33</td>\n",
       "      <td>0.0</td>\n",
       "    </tr>\n",
       "    <tr>\n",
       "      <th>8</th>\n",
       "      <td>Four-glucosyl xyloglucan oligosaccharide GXXG</td>\n",
       "      <td>M_GQQG_c</td>\n",
       "      <td>c</td>\n",
       "      <td>C34H58O29</td>\n",
       "      <td>0.0</td>\n",
       "    </tr>\n",
       "    <tr>\n",
       "      <th>9</th>\n",
       "      <td>Three-glucosyl xyloglucan oligosaccharide XXG</td>\n",
       "      <td>M_QQG_c</td>\n",
       "      <td>c</td>\n",
       "      <td>C28H48O24</td>\n",
       "      <td>0.0</td>\n",
       "    </tr>\n",
       "    <tr>\n",
       "      <th>10</th>\n",
       "      <td>Three-glucosyl xyloglucan oligosaccharide GXG</td>\n",
       "      <td>M_GQG_c</td>\n",
       "      <td>c</td>\n",
       "      <td>C23H40O20</td>\n",
       "      <td>0.0</td>\n",
       "    </tr>\n",
       "    <tr>\n",
       "      <th>11</th>\n",
       "      <td>Two-glucosyl xyloglucan oligosaccharide XG</td>\n",
       "      <td>M_QG_c</td>\n",
       "      <td>c</td>\n",
       "      <td>C11H20O10</td>\n",
       "      <td>0.0</td>\n",
       "    </tr>\n",
       "    <tr>\n",
       "      <th>12</th>\n",
       "      <td>Four-glucosyl xyloglucan oligosaccharide GXXG</td>\n",
       "      <td>M_GQQG_e</td>\n",
       "      <td>e</td>\n",
       "      <td>C11H20O11</td>\n",
       "      <td>0.0</td>\n",
       "    </tr>\n",
       "  </tbody>\n",
       "</table>\n",
       "</div>"
      ],
      "text/plain": [
       "                                             Name Identifier Compartment  \\\n",
       "0   Four-glucosyl xyloglucan oligosaccharide XLXG   M_QLQG_e           e   \n",
       "1   Four-glucosyl xyloglucan oligosaccharide XXLG   M_QQLG_e           e   \n",
       "2   Four-glucosyl xyloglucan oligosaccharide XLLG   M_QLLG_e           e   \n",
       "3   Four-glucosyl xyloglucan oligosaccharide XXXG   M_QQQG_e           e   \n",
       "4   Four-glucosyl xyloglucan oligosaccharide XLXG   M_QLQG_c           c   \n",
       "5   Four-glucosyl xyloglucan oligosaccharide XXLG   M_QQLG_c           c   \n",
       "6   Four-glucosyl xyloglucan oligosaccharide XLLG   M_QLLG_c           c   \n",
       "7   Four-glucosyl xyloglucan oligosaccharide XXXG   M_QQQG_c           c   \n",
       "8   Four-glucosyl xyloglucan oligosaccharide GXXG   M_GQQG_c           c   \n",
       "9   Three-glucosyl xyloglucan oligosaccharide XXG    M_QQG_c           c   \n",
       "10  Three-glucosyl xyloglucan oligosaccharide GXG    M_GQG_c           c   \n",
       "11     Two-glucosyl xyloglucan oligosaccharide XG     M_QG_c           c   \n",
       "12  Four-glucosyl xyloglucan oligosaccharide GXXG   M_GQQG_e           e   \n",
       "\n",
       "      Formula  Charge  \n",
       "0   C45H76O38     0.0  \n",
       "1   C45H76O38     0.0  \n",
       "2   C51H86O43     0.0  \n",
       "3   C39H66O33     0.0  \n",
       "4   C45H76O38     0.0  \n",
       "5   C45H76O38     0.0  \n",
       "6   C51H86O43     0.0  \n",
       "7   C39H66O33     0.0  \n",
       "8   C34H58O29     0.0  \n",
       "9   C28H48O24     0.0  \n",
       "10  C23H40O20     0.0  \n",
       "11  C11H20O10     0.0  \n",
       "12  C11H20O11     0.0  "
      ]
     },
     "execution_count": 2,
     "metadata": {},
     "output_type": "execute_result"
    }
   ],
   "source": [
    "metabolites = pd.read_excel('/Users/idunmariaburgos/Documents/Work/Project/Ruminiclostridium cellulolyticum part 2/Polysaccharide degrading pathways.xlsx',\n",
    "                              sheet_name=\"Mets. Cat. of xyloglu. oligosac\", \n",
    "                              usecols=\"A:E\").dropna(how='all')\n",
    "metabolites"
   ]
  },
  {
   "cell_type": "code",
   "execution_count": 3,
   "id": "018af080-9f40-487f-9289-0645a76dc586",
   "metadata": {},
   "outputs": [],
   "source": [
    "mets = []\n",
    "\n",
    "for index, row in metabolites.iterrows():\n",
    "    # Create metabolite object\n",
    "    met_id=row['Identifier']\n",
    "    name=row['Name']\n",
    "    compartment=\"C_\"+row['Compartment']\n",
    "\n",
    "    met = Metabolite(met_id=met_id, name=name,compartment=compartment)\n",
    "    \n",
    "    # Add metadata  \n",
    "    formula = row['Formula']\n",
    "    charge = row['Charge']\n",
    "    \n",
    "    met.metadata=OrderedDict({'FORMULA':formula,\n",
    "                             'CHARGE':str(charge)})                   \n",
    "    mets.append(met)"
   ]
  },
  {
   "cell_type": "code",
   "execution_count": 4,
   "id": "d2a3effc-5afc-4029-8484-fb49cd31fe6b",
   "metadata": {},
   "outputs": [
    {
     "data": {
      "text/plain": [
       "[Four-glucosyl xyloglucan oligosaccharide XLXG,\n",
       " Four-glucosyl xyloglucan oligosaccharide XXLG,\n",
       " Four-glucosyl xyloglucan oligosaccharide XLLG,\n",
       " Four-glucosyl xyloglucan oligosaccharide XXXG,\n",
       " Four-glucosyl xyloglucan oligosaccharide XLXG,\n",
       " Four-glucosyl xyloglucan oligosaccharide XXLG,\n",
       " Four-glucosyl xyloglucan oligosaccharide XLLG,\n",
       " Four-glucosyl xyloglucan oligosaccharide XXXG,\n",
       " Four-glucosyl xyloglucan oligosaccharide GXXG,\n",
       " Three-glucosyl xyloglucan oligosaccharide XXG,\n",
       " Three-glucosyl xyloglucan oligosaccharide GXG,\n",
       " Two-glucosyl xyloglucan oligosaccharide XG,\n",
       " Four-glucosyl xyloglucan oligosaccharide GXXG]"
      ]
     },
     "execution_count": 4,
     "metadata": {},
     "output_type": "execute_result"
    }
   ],
   "source": [
    "mets"
   ]
  },
  {
   "cell_type": "markdown",
   "id": "63b584bc-4d31-46b6-bd7e-22b8dff9bb07",
   "metadata": {
    "tags": []
   },
   "source": [
    "### Reactions"
   ]
  },
  {
   "cell_type": "code",
   "execution_count": 5,
   "id": "bd6efb3f-f773-4232-a899-331e96aa0620",
   "metadata": {},
   "outputs": [],
   "source": [
    "reactions = pd.read_excel('/Users/idunmariaburgos/Documents/Work/Project/Ruminiclostridium cellulolyticum part 2/Polysaccharide degrading pathways.xlsx',\n",
    "                              sheet_name=\"Rxns. Cat. of xyloglu. oligosac\", \n",
    "                              usecols=\"A:F\")"
   ]
  },
  {
   "cell_type": "code",
   "execution_count": 6,
   "id": "9e95966a-543f-4d52-96f0-c69d0e9fa5d4",
   "metadata": {},
   "outputs": [
    {
     "data": {
      "text/html": [
       "<div>\n",
       "<style scoped>\n",
       "    .dataframe tbody tr th:only-of-type {\n",
       "        vertical-align: middle;\n",
       "    }\n",
       "\n",
       "    .dataframe tbody tr th {\n",
       "        vertical-align: top;\n",
       "    }\n",
       "\n",
       "    .dataframe thead th {\n",
       "        text-align: right;\n",
       "    }\n",
       "</style>\n",
       "<table border=\"1\" class=\"dataframe\">\n",
       "  <thead>\n",
       "    <tr style=\"text-align: right;\">\n",
       "      <th></th>\n",
       "      <th>Enzyme</th>\n",
       "      <th>Identifier</th>\n",
       "      <th>Gene</th>\n",
       "      <th>Stoichiometry</th>\n",
       "      <th>Transport</th>\n",
       "      <th>Cellulosome</th>\n",
       "    </tr>\n",
       "  </thead>\n",
       "  <tbody>\n",
       "    <tr>\n",
       "      <th>0</th>\n",
       "      <td>Xyloglucan oligosaccharide transport QLQG</td>\n",
       "      <td>R_QLQGabc</td>\n",
       "      <td>Ccel_2456 and Ccel_2457 and Ccel_2458</td>\n",
       "      <td>{\"M_QLQG_e\":-1, \"M_atp_c\":-2, \"M_h2o_c\":-1, \"M...</td>\n",
       "      <td>1</td>\n",
       "      <td>No</td>\n",
       "    </tr>\n",
       "    <tr>\n",
       "      <th>1</th>\n",
       "      <td>Xyloglucan oligosaccharide transport QQLG</td>\n",
       "      <td>R_QQLGabc</td>\n",
       "      <td>Ccel_2456 and Ccel_2457 and Ccel_2458</td>\n",
       "      <td>{\"M_QQLG_e\":-1, \"M_atp_c\":-2, \"M_h2o_c\":-1, \"M...</td>\n",
       "      <td>1</td>\n",
       "      <td>No</td>\n",
       "    </tr>\n",
       "    <tr>\n",
       "      <th>2</th>\n",
       "      <td>Xyloglucan oligosaccharide transport QLLG</td>\n",
       "      <td>R_QLLGabc</td>\n",
       "      <td>Ccel_2456 and Ccel_2457 and Ccel_2458</td>\n",
       "      <td>{\"M_QLLG_e\":-1, \"M_atp_c\":-2, \"M_h2o_c\":-1, \"M...</td>\n",
       "      <td>1</td>\n",
       "      <td>No</td>\n",
       "    </tr>\n",
       "    <tr>\n",
       "      <th>3</th>\n",
       "      <td>Xyloglucan oligosaccharide transport QQQG</td>\n",
       "      <td>R_QQQGabc</td>\n",
       "      <td>Ccel_2456 and Ccel_2457 and Ccel_2458</td>\n",
       "      <td>{\"M_QQQG_e\":-1, \"M_atp_c\":-2, \"M_h2o_c\":-1, \"M...</td>\n",
       "      <td>1</td>\n",
       "      <td>No</td>\n",
       "    </tr>\n",
       "    <tr>\n",
       "      <th>4</th>\n",
       "      <td>Xyloglucan oligosaccharide transport QQQG</td>\n",
       "      <td>R_GQQGabc</td>\n",
       "      <td>Ccel_2456 and Ccel_2457 and Ccel_2458</td>\n",
       "      <td>{\"M_GQQG_e\":-1, \"M_atp_c\":-2, \"M_h2o_c\":-1, \"M...</td>\n",
       "      <td>1</td>\n",
       "      <td>No</td>\n",
       "    </tr>\n",
       "    <tr>\n",
       "      <th>5</th>\n",
       "      <td>beta-galactosidase QLQG</td>\n",
       "      <td>R_GALqlqg</td>\n",
       "      <td>Ccel_2451</td>\n",
       "      <td>{\"M_QLQG_c\":-1,\"M_h2o_c\":-1,\"M_QQQG_c\":1,\"M_ga...</td>\n",
       "      <td>0</td>\n",
       "      <td>No</td>\n",
       "    </tr>\n",
       "    <tr>\n",
       "      <th>6</th>\n",
       "      <td>beta-galactosidase QQLG</td>\n",
       "      <td>R_GALqqlg</td>\n",
       "      <td>Ccel_2451</td>\n",
       "      <td>{\"M_QQLG_c\":-1,\"M_h2o_c\":-1,\"M_QQQG_c\":1,\"M_ga...</td>\n",
       "      <td>0</td>\n",
       "      <td>No</td>\n",
       "    </tr>\n",
       "    <tr>\n",
       "      <th>7</th>\n",
       "      <td>beta-galactosidase QLLG</td>\n",
       "      <td>R_GALqllg</td>\n",
       "      <td>Ccel_2451</td>\n",
       "      <td>{\"M_QLLG_c\":-1,\"M_h2o_c\":-2,\"M_QQQG_c\":1,\"M_ga...</td>\n",
       "      <td>0</td>\n",
       "      <td>No</td>\n",
       "    </tr>\n",
       "    <tr>\n",
       "      <th>8</th>\n",
       "      <td>alpha-xylosidase QQQG</td>\n",
       "      <td>R_XYLqqqg</td>\n",
       "      <td>Ccel_2455</td>\n",
       "      <td>{\"M_QQQG_c\":-1,\"M_h2o_c\":-1,\"M_GQQG_c\":1,\"M_xy...</td>\n",
       "      <td>0</td>\n",
       "      <td>No</td>\n",
       "    </tr>\n",
       "    <tr>\n",
       "      <th>9</th>\n",
       "      <td>beta-glucosidase GQQG</td>\n",
       "      <td>R_GLUgqqg</td>\n",
       "      <td>Ccel_2454</td>\n",
       "      <td>{\"M_GQQG_c\":-1,\"M_h2o_c\":-1,\"M_QQG_c\":1,\"M_glc...</td>\n",
       "      <td>0</td>\n",
       "      <td>No</td>\n",
       "    </tr>\n",
       "    <tr>\n",
       "      <th>10</th>\n",
       "      <td>alpha-xylosidase QQG</td>\n",
       "      <td>R_XYLqqg</td>\n",
       "      <td>Ccel_2455</td>\n",
       "      <td>{\"M_QQG_c\":-1,\"M_h2o_c\":-1,\"M_GQG_c\":1,\"M_xyl_...</td>\n",
       "      <td>0</td>\n",
       "      <td>No</td>\n",
       "    </tr>\n",
       "    <tr>\n",
       "      <th>11</th>\n",
       "      <td>beta-glucosidase GQG</td>\n",
       "      <td>R_GLUgqg</td>\n",
       "      <td>Ccel_2454</td>\n",
       "      <td>{\"M_GQG_c\":-1,\"M_h2o_c\":-1,\"M_QG_c\":1,\"M_glc__...</td>\n",
       "      <td>0</td>\n",
       "      <td>No</td>\n",
       "    </tr>\n",
       "    <tr>\n",
       "      <th>12</th>\n",
       "      <td>alpha-xylosidase QG</td>\n",
       "      <td>R_XYLqg</td>\n",
       "      <td>Ccel_2455</td>\n",
       "      <td>{\"M_QG_c\":-1,\"M_h2o_c\":-1,\"M_cellb_c\":1,\"M_xyl...</td>\n",
       "      <td>0</td>\n",
       "      <td>No</td>\n",
       "    </tr>\n",
       "  </tbody>\n",
       "</table>\n",
       "</div>"
      ],
      "text/plain": [
       "                                       Enzyme Identifier  \\\n",
       "0   Xyloglucan oligosaccharide transport QLQG  R_QLQGabc   \n",
       "1   Xyloglucan oligosaccharide transport QQLG  R_QQLGabc   \n",
       "2   Xyloglucan oligosaccharide transport QLLG  R_QLLGabc   \n",
       "3   Xyloglucan oligosaccharide transport QQQG  R_QQQGabc   \n",
       "4   Xyloglucan oligosaccharide transport QQQG  R_GQQGabc   \n",
       "5                     beta-galactosidase QLQG  R_GALqlqg   \n",
       "6                     beta-galactosidase QQLG  R_GALqqlg   \n",
       "7                     beta-galactosidase QLLG  R_GALqllg   \n",
       "8                       alpha-xylosidase QQQG  R_XYLqqqg   \n",
       "9                       beta-glucosidase GQQG  R_GLUgqqg   \n",
       "10                       alpha-xylosidase QQG   R_XYLqqg   \n",
       "11                       beta-glucosidase GQG   R_GLUgqg   \n",
       "12                        alpha-xylosidase QG    R_XYLqg   \n",
       "\n",
       "                                     Gene  \\\n",
       "0   Ccel_2456 and Ccel_2457 and Ccel_2458   \n",
       "1   Ccel_2456 and Ccel_2457 and Ccel_2458   \n",
       "2   Ccel_2456 and Ccel_2457 and Ccel_2458   \n",
       "3   Ccel_2456 and Ccel_2457 and Ccel_2458   \n",
       "4   Ccel_2456 and Ccel_2457 and Ccel_2458   \n",
       "5                               Ccel_2451   \n",
       "6                               Ccel_2451   \n",
       "7                               Ccel_2451   \n",
       "8                               Ccel_2455   \n",
       "9                               Ccel_2454   \n",
       "10                              Ccel_2455   \n",
       "11                              Ccel_2454   \n",
       "12                              Ccel_2455   \n",
       "\n",
       "                                        Stoichiometry  Transport Cellulosome  \n",
       "0   {\"M_QLQG_e\":-1, \"M_atp_c\":-2, \"M_h2o_c\":-1, \"M...          1          No  \n",
       "1   {\"M_QQLG_e\":-1, \"M_atp_c\":-2, \"M_h2o_c\":-1, \"M...          1          No  \n",
       "2   {\"M_QLLG_e\":-1, \"M_atp_c\":-2, \"M_h2o_c\":-1, \"M...          1          No  \n",
       "3   {\"M_QQQG_e\":-1, \"M_atp_c\":-2, \"M_h2o_c\":-1, \"M...          1          No  \n",
       "4   {\"M_GQQG_e\":-1, \"M_atp_c\":-2, \"M_h2o_c\":-1, \"M...          1          No  \n",
       "5   {\"M_QLQG_c\":-1,\"M_h2o_c\":-1,\"M_QQQG_c\":1,\"M_ga...          0          No  \n",
       "6   {\"M_QQLG_c\":-1,\"M_h2o_c\":-1,\"M_QQQG_c\":1,\"M_ga...          0          No  \n",
       "7   {\"M_QLLG_c\":-1,\"M_h2o_c\":-2,\"M_QQQG_c\":1,\"M_ga...          0          No  \n",
       "8   {\"M_QQQG_c\":-1,\"M_h2o_c\":-1,\"M_GQQG_c\":1,\"M_xy...          0          No  \n",
       "9   {\"M_GQQG_c\":-1,\"M_h2o_c\":-1,\"M_QQG_c\":1,\"M_glc...          0          No  \n",
       "10  {\"M_QQG_c\":-1,\"M_h2o_c\":-1,\"M_GQG_c\":1,\"M_xyl_...          0          No  \n",
       "11  {\"M_GQG_c\":-1,\"M_h2o_c\":-1,\"M_QG_c\":1,\"M_glc__...          0          No  \n",
       "12  {\"M_QG_c\":-1,\"M_h2o_c\":-1,\"M_cellb_c\":1,\"M_xyl...          0          No  "
      ]
     },
     "execution_count": 6,
     "metadata": {},
     "output_type": "execute_result"
    }
   ],
   "source": [
    "reactions"
   ]
  },
  {
   "cell_type": "markdown",
   "id": "f1f2b0df-1ce1-4bdd-90ef-3e053bf0ccda",
   "metadata": {},
   "source": [
    "**From gene string find GPR**\n",
    "\n",
    "- process gene string and find all genes\n",
    "    - For all genes: find protein ID. \n",
    "        - For each gene: Create Gene(gene_id=protein_id, name=None?)\n",
    " - Create Protein()\n",
    "     - protein.genes= list of genes\n",
    " - Create GPRAssociation()\n",
    "     - gpr.proteins = list of proteins"
   ]
  },
  {
   "cell_type": "code",
   "execution_count": 7,
   "id": "889b0a96-f5c0-47b9-bcb1-a2c9f61b643d",
   "metadata": {},
   "outputs": [],
   "source": [
    "%store -r gene_protein_map "
   ]
  },
  {
   "cell_type": "code",
   "execution_count": 8,
   "id": "dd2ac56e-dd3e-4446-8cef-65a1b03f9dbf",
   "metadata": {},
   "outputs": [
    {
     "data": {
      "text/html": [
       "<div>\n",
       "<style scoped>\n",
       "    .dataframe tbody tr th:only-of-type {\n",
       "        vertical-align: middle;\n",
       "    }\n",
       "\n",
       "    .dataframe tbody tr th {\n",
       "        vertical-align: top;\n",
       "    }\n",
       "\n",
       "    .dataframe thead th {\n",
       "        text-align: right;\n",
       "    }\n",
       "</style>\n",
       "<table border=\"1\" class=\"dataframe\">\n",
       "  <thead>\n",
       "    <tr style=\"text-align: right;\">\n",
       "      <th></th>\n",
       "      <th>Entry</th>\n",
       "      <th>Entry name</th>\n",
       "      <th>Protein names</th>\n",
       "      <th>Gene names</th>\n",
       "      <th>Cross-reference (RefSeq)</th>\n",
       "    </tr>\n",
       "  </thead>\n",
       "  <tbody>\n",
       "    <tr>\n",
       "      <th>0</th>\n",
       "      <td>B8I4G1</td>\n",
       "      <td>LEUD_RUMCH</td>\n",
       "      <td>3-isopropylmalate dehydratase small subunit (E...</td>\n",
       "      <td>leuD Ccel_0127</td>\n",
       "      <td>G_WP_012634581_1</td>\n",
       "    </tr>\n",
       "    <tr>\n",
       "      <th>1</th>\n",
       "      <td>B8I8F2</td>\n",
       "      <td>UVRC_RUMCH</td>\n",
       "      <td>UvrABC system protein C (Protein UvrC) (Excinu...</td>\n",
       "      <td>uvrC Ccel_0807</td>\n",
       "      <td>G_WP_015924347_1</td>\n",
       "    </tr>\n",
       "    <tr>\n",
       "      <th>2</th>\n",
       "      <td>B8I567</td>\n",
       "      <td>UPP_RUMCH</td>\n",
       "      <td>Uracil phosphoribosyltransferase (EC 2.4.2.9) ...</td>\n",
       "      <td>upp Ccel_0260</td>\n",
       "      <td>G_WP_012634712_1</td>\n",
       "    </tr>\n",
       "  </tbody>\n",
       "</table>\n",
       "</div>"
      ],
      "text/plain": [
       "    Entry  Entry name                                      Protein names  \\\n",
       "0  B8I4G1  LEUD_RUMCH  3-isopropylmalate dehydratase small subunit (E...   \n",
       "1  B8I8F2  UVRC_RUMCH  UvrABC system protein C (Protein UvrC) (Excinu...   \n",
       "2  B8I567   UPP_RUMCH  Uracil phosphoribosyltransferase (EC 2.4.2.9) ...   \n",
       "\n",
       "       Gene names Cross-reference (RefSeq)  \n",
       "0  leuD Ccel_0127         G_WP_012634581_1  \n",
       "1  uvrC Ccel_0807         G_WP_015924347_1  \n",
       "2   upp Ccel_0260         G_WP_012634712_1  "
      ]
     },
     "execution_count": 8,
     "metadata": {},
     "output_type": "execute_result"
    }
   ],
   "source": [
    "gene_protein_map.head(3)"
   ]
  },
  {
   "cell_type": "code",
   "execution_count": 9,
   "id": "e23437be-df8d-4b57-8ce6-33b964e5c824",
   "metadata": {},
   "outputs": [],
   "source": [
    "def gene_str_to_GPR(gene_string, gene_protein_map):\n",
    "    # This is meant to be used when there is only one protein complex in the string (in other word it can only handle 'and' associations and not 'or')\n",
    "    \n",
    "    genes_unfiltered = gene_string.split(' ')\n",
    "    \n",
    "    genes = []\n",
    "    \n",
    "    # Find the gene id (actually protein id, but in this case considered as gene id). If there is no ID, keep the old one. \n",
    "    for string in genes_unfiltered:\n",
    "        if string!='and':\n",
    "            gene = gene_protein_map.loc[gene_protein_map['Gene names'].str.contains(string)]['Cross-reference (RefSeq)'].values[0]\n",
    "            \n",
    "            # If there is a matching protein Id, add this to the gene list. \n",
    "            if type(gene)!=float:\n",
    "                genes.append(\"G_\" + gene)\n",
    "                \n",
    "            # If there is NOT a matching protein Id, add gene ID. \n",
    "            else:\n",
    "                genes.append(string)\n",
    "    \n",
    "    # If there are genes for the reaction\n",
    "    if len(genes)!=0:\n",
    "        \n",
    "        # Create protein object\n",
    "        protein=Protein()\n",
    "        protein.genes=genes\n",
    "\n",
    "        # Create GPR object\n",
    "        gpr=GPRAssociation()\n",
    "        gpr.proteins=[protein]\n",
    "    \n",
    "        return gpr\n",
    "    else:\n",
    "        #If there are no genes associated with the reaction pass None \n",
    "        pass"
   ]
  },
  {
   "cell_type": "markdown",
   "id": "60b5f4e3-3529-4e65-893c-e616c481e211",
   "metadata": {},
   "source": [
    "**Create reaction objects**"
   ]
  },
  {
   "cell_type": "code",
   "execution_count": 10,
   "id": "84e70a57-ca9d-417e-abbf-32c901283cfe",
   "metadata": {},
   "outputs": [],
   "source": [
    "rxns=[]\n",
    "gprs={}\n",
    "\n",
    "for index, row in reactions.iterrows():\n",
    "    \n",
    "    reaction_id = row['Identifier']\n",
    "    name = row['Enzyme']\n",
    "    reversible = False\n",
    "    stoichiometry = json.loads(row['Stoichiometry'])\n",
    "    reaction_type = ReactionType.ENZYMATIC\n",
    "    \n",
    "    if row['Transport']==1:\n",
    "        reaction_type=ReactionType.TRANSPORT \n",
    "    \n",
    "    rxn = CBReaction(reaction_id=reaction_id, name=name, reversible=reversible, stoichiometry=stoichiometry, reaction_type=reaction_type)\n",
    "    rxns.append(rxn)\n",
    "    \n",
    "    gpr=gene_str_to_GPR(row['Gene'],gene_protein_map)\n",
    "    if gpr is not None:\n",
    "        gprs[reaction_id] = gpr\n",
    "\n"
   ]
  },
  {
   "cell_type": "code",
   "execution_count": 11,
   "id": "a6677f9d-ddc8-4b93-ba8e-222e8663b1f1",
   "metadata": {},
   "outputs": [
    {
     "data": {
      "text/plain": [
       "[R_QLQGabc: M_QLQG_e + 2 M_atp_c + M_h2o_c --> M_QLQG_c + 2 M_adp_c + M_h_c + 2 M_pi_c,\n",
       " R_QQLGabc: M_QQLG_e + 2 M_atp_c + M_h2o_c --> M_QQLG_c + 2 M_adp_c + M_h_c + 2 M_pi_c,\n",
       " R_QLLGabc: M_QLLG_e + 2 M_atp_c + M_h2o_c --> M_QLLG_c + 2 M_adp_c + M_h_c + 2 M_pi_c,\n",
       " R_QQQGabc: M_QQQG_e + 2 M_atp_c + M_h2o_c --> M_QQQG_c + 2 M_adp_c + M_h_c + 2 M_pi_c,\n",
       " R_GQQGabc: M_GQQG_e + 2 M_atp_c + M_h2o_c --> M_GQQG_c + 2 M_adp_c + M_h_c + 2 M_pi_c,\n",
       " R_GALqlqg: M_QLQG_c + M_h2o_c --> M_QQQG_c + M_gal_c,\n",
       " R_GALqqlg: M_QQLG_c + M_h2o_c --> M_QQQG_c + M_gal_c,\n",
       " R_GALqllg: M_QLLG_c + 2 M_h2o_c --> M_QQQG_c + 2 M_gal_c,\n",
       " R_XYLqqqg: M_QQQG_c + M_h2o_c --> M_GQQG_c + M_xyl__D_c,\n",
       " R_GLUgqqg: M_GQQG_c + M_h2o_c --> M_QQG_c + M_glc__D_c,\n",
       " R_XYLqqg: M_QQG_c + M_h2o_c --> M_GQG_c + M_xyl__D_c,\n",
       " R_GLUgqg: M_GQG_c + M_h2o_c --> M_QG_c + M_glc__D_c,\n",
       " R_XYLqg: M_QG_c + M_h2o_c --> M_cellb_c + M_xyl__D_c]"
      ]
     },
     "execution_count": 11,
     "metadata": {},
     "output_type": "execute_result"
    }
   ],
   "source": [
    "rxns"
   ]
  },
  {
   "cell_type": "markdown",
   "id": "f9686e6e-06e2-4554-aa95-5033a4485888",
   "metadata": {},
   "source": [
    "### Add new metabolites and reactions to model"
   ]
  },
  {
   "cell_type": "code",
   "execution_count": 12,
   "id": "41230f99-dc98-4020-af7f-97ff29fa546e",
   "metadata": {},
   "outputs": [],
   "source": [
    "model = reframed.load_cbmodel('model_c_H10_part3_1_1.xml')"
   ]
  },
  {
   "cell_type": "code",
   "execution_count": 13,
   "id": "3e93fb65-9253-4516-b48a-de8e157737ce",
   "metadata": {},
   "outputs": [
    {
     "name": "stdout",
     "output_type": "stream",
     "text": [
      "Metabolites:\n",
      "C_c 855\n",
      "C_e 217\n",
      "C_p 184\n",
      "\n",
      "Reactions:\n",
      "enzymatic 881\n",
      "transport 428\n",
      "exchange 213\n",
      "sink 0\n",
      "other 244\n"
     ]
    }
   ],
   "source": [
    "model.summary()"
   ]
  },
  {
   "cell_type": "code",
   "execution_count": 14,
   "id": "fc24a391-1c13-4a7f-84cb-ad28a4869ebe",
   "metadata": {},
   "outputs": [
    {
     "data": {
      "text/plain": [
       "732"
      ]
     },
     "execution_count": 14,
     "metadata": {},
     "output_type": "execute_result"
    }
   ],
   "source": [
    "len(model.genes)"
   ]
  },
  {
   "cell_type": "code",
   "execution_count": 15,
   "id": "b55d60d7-fba8-45c1-b6eb-eb04690f9758",
   "metadata": {},
   "outputs": [],
   "source": [
    "for met in mets:\n",
    "    model.add_metabolite(met)"
   ]
  },
  {
   "cell_type": "code",
   "execution_count": 16,
   "id": "922d07cd-b7a2-4c5b-829a-1ce5f2037efe",
   "metadata": {},
   "outputs": [],
   "source": [
    "for rxn in rxns:\n",
    "    model.add_reaction(rxn)\n",
    "    model.set_gpr_association(rxn.id,gprs[rxn.id])"
   ]
  },
  {
   "cell_type": "code",
   "execution_count": 17,
   "id": "b41f1329-3493-4d40-9f2e-ff8377b0a62d",
   "metadata": {},
   "outputs": [
    {
     "name": "stdout",
     "output_type": "stream",
     "text": [
      "Metabolites:\n",
      "C_c 863\n",
      "C_e 222\n",
      "C_p 184\n",
      "\n",
      "Reactions:\n",
      "enzymatic 889\n",
      "transport 433\n",
      "exchange 213\n",
      "sink 0\n",
      "other 244\n"
     ]
    }
   ],
   "source": [
    "model.summary()"
   ]
  },
  {
   "cell_type": "code",
   "execution_count": 18,
   "id": "7101a07a-801e-435e-9f72-d6b17e156463",
   "metadata": {},
   "outputs": [
    {
     "data": {
      "text/plain": [
       "738"
      ]
     },
     "execution_count": 18,
     "metadata": {},
     "output_type": "execute_result"
    }
   ],
   "source": [
    "len(model.genes)"
   ]
  },
  {
   "cell_type": "markdown",
   "id": "6c22a2d6-6c3e-4135-bd60-307586d8d077",
   "metadata": {},
   "source": [
    "### Add exchange reactions for oligosaccharides"
   ]
  },
  {
   "cell_type": "code",
   "execution_count": 19,
   "id": "58909ff4-3d5a-4ed2-ae32-d520a1ece6df",
   "metadata": {},
   "outputs": [],
   "source": [
    "mets_exchange = [met.id for met in mets if met.compartment==\"C_e\"]\n",
    "rxns_exchange = []\n",
    "for met in mets_exchange:\n",
    "    rxn_id = \"R_EX_\" + met[2:]\n",
    "    name = \"Exchange of \" + model.metabolites[met].name\n",
    "    reversible=True\n",
    "    stoichiometry =OrderedDict([(met, -1.0)])\n",
    "    reaction_type = ReactionType.EXCHANGE\n",
    "    rxns_exchange.append(CBReaction(reaction_id=rxn_id, name=name, reversible=reversible, stoichiometry=stoichiometry, reaction_type=reaction_type))"
   ]
  },
  {
   "cell_type": "code",
   "execution_count": 20,
   "id": "86bae78a-45ef-42f6-b9fd-f4d3db179059",
   "metadata": {},
   "outputs": [
    {
     "data": {
      "text/plain": [
       "[R_EX_QLQG_e: M_QLQG_e <-> ,\n",
       " R_EX_QQLG_e: M_QQLG_e <-> ,\n",
       " R_EX_QLLG_e: M_QLLG_e <-> ,\n",
       " R_EX_QQQG_e: M_QQQG_e <-> ,\n",
       " R_EX_GQQG_e: M_GQQG_e <-> ]"
      ]
     },
     "execution_count": 20,
     "metadata": {},
     "output_type": "execute_result"
    }
   ],
   "source": [
    "rxns_exchange"
   ]
  },
  {
   "cell_type": "code",
   "execution_count": 21,
   "id": "dbb1e150-62a5-4acc-b8ad-b73c6b5ce08f",
   "metadata": {},
   "outputs": [],
   "source": [
    "for rxn in rxns_exchange:\n",
    "    model.add_reaction(rxn)"
   ]
  },
  {
   "cell_type": "code",
   "execution_count": 22,
   "id": "bc106fcf-e4ea-4c2c-828b-82055082a857",
   "metadata": {},
   "outputs": [
    {
     "name": "stdout",
     "output_type": "stream",
     "text": [
      "Metabolites:\n",
      "C_c 863\n",
      "C_e 222\n",
      "C_p 184\n",
      "\n",
      "Reactions:\n",
      "enzymatic 889\n",
      "transport 433\n",
      "exchange 218\n",
      "sink 0\n",
      "other 244\n"
     ]
    }
   ],
   "source": [
    "model.summary()"
   ]
  },
  {
   "cell_type": "markdown",
   "id": "664d8b8d-1ab1-4c4f-8857-2f1b5bf80712",
   "metadata": {},
   "source": [
    "## Verifying that new reactions can carry flux with FVA"
   ]
  },
  {
   "cell_type": "markdown",
   "id": "94de65a4-7010-4b46-b334-4cc4505a119b",
   "metadata": {},
   "source": [
    "**Creating an environment from all exchange reactions in the model.**"
   ]
  },
  {
   "cell_type": "code",
   "execution_count": 23,
   "id": "1b0ae04b-5a01-4917-97e9-68b844413fee",
   "metadata": {},
   "outputs": [],
   "source": [
    "env = Environment.complete(model, max_uptake=10)"
   ]
  },
  {
   "cell_type": "code",
   "execution_count": 24,
   "id": "9f59bc91-b61d-450a-b349-3a5f5c20c171",
   "metadata": {},
   "outputs": [],
   "source": [
    "all_rxns= rxns_exchange + rxns\n",
    "rxn_ids = [rxn.id for rxn in all_rxns]"
   ]
  },
  {
   "cell_type": "markdown",
   "id": "daa6b4e6-1702-44c2-85c3-a23a26bb68d2",
   "metadata": {},
   "source": [
    "**Predict flux with all exchange reactions open** "
   ]
  },
  {
   "cell_type": "code",
   "execution_count": 25,
   "id": "19ec0eab-1a32-4b94-9d87-304581d764e6",
   "metadata": {},
   "outputs": [],
   "source": [
    "sol = FVA(model,constraints=env, reactions= rxn_ids)"
   ]
  },
  {
   "cell_type": "code",
   "execution_count": 26,
   "id": "f3297e39-4906-458d-9b20-ab1747f74522",
   "metadata": {},
   "outputs": [
    {
     "data": {
      "text/plain": [
       "{'R_EX_QLQG_e': [-10.0, 0.0],\n",
       " 'R_EX_QQLG_e': [-10.0, 0.0],\n",
       " 'R_EX_QLLG_e': [-10.0, 0.0],\n",
       " 'R_EX_QQQG_e': [-10.0, 0.0],\n",
       " 'R_EX_GQQG_e': [-10.0, 0.0],\n",
       " 'R_QLQGabc': [0.0, 10.0],\n",
       " 'R_QQLGabc': [0.0, 10.0],\n",
       " 'R_QLLGabc': [0.0, 10.0],\n",
       " 'R_QQQGabc': [0.0, 10.0],\n",
       " 'R_GQQGabc': [0.0, 10.0],\n",
       " 'R_GALqlqg': [0.0, 10.0],\n",
       " 'R_GALqqlg': [0.0, 10.0],\n",
       " 'R_GALqllg': [0.0, 10.0],\n",
       " 'R_XYLqqqg': [0.0, 40.0],\n",
       " 'R_GLUgqqg': [0.0, 50.0],\n",
       " 'R_XYLqqg': [0.0, 50.0],\n",
       " 'R_GLUgqg': [0.0, 50.0],\n",
       " 'R_XYLqg': [0.0, 50.0]}"
      ]
     },
     "execution_count": 26,
     "metadata": {},
     "output_type": "execute_result"
    }
   ],
   "source": [
    "sol"
   ]
  },
  {
   "cell_type": "markdown",
   "id": "d58e67f7-8f59-4683-8778-02d5cae23b48",
   "metadata": {
    "tags": []
   },
   "source": [
    "## Checking if genes included are involved in other enzymatic reactions"
   ]
  },
  {
   "cell_type": "code",
   "execution_count": 27,
   "id": "718ca0fa-4a88-482c-aa96-31d7188d7e8f",
   "metadata": {},
   "outputs": [],
   "source": [
    "genes = [rxn.get_genes() for rxn in rxns]\n",
    "genes_flat = list(set([item for sublist in genes for item in sublist]))"
   ]
  },
  {
   "cell_type": "code",
   "execution_count": 28,
   "id": "6d279239-8067-4a28-99c2-2af2930b48e5",
   "metadata": {},
   "outputs": [
    {
     "name": "stdout",
     "output_type": "stream",
     "text": [
      "Gene: Ccel_2451, Reactions: ['R_GALqlqg', 'R_GALqqlg', 'R_GALqllg']\n",
      "Gene: G_G_WP_015925876_1, Reactions: ['R_QLQGabc', 'R_QQLGabc', 'R_QLLGabc', 'R_QQQGabc', 'R_GQQGabc']\n",
      "Gene: G_G_WP_015925872_1, Reactions: ['R_GLUgqqg', 'R_GLUgqg']\n",
      "Gene: G_G_WP_015925873_1, Reactions: ['R_XYLqqqg', 'R_XYLqqg', 'R_XYLqg']\n",
      "Gene: G_G_WP_015925874_1, Reactions: ['R_QLQGabc', 'R_QQLGabc', 'R_QLLGabc', 'R_QQQGabc', 'R_GQQGabc']\n",
      "Gene: G_G_WP_015925875_1, Reactions: ['R_QLQGabc', 'R_QQLGabc', 'R_QLLGabc', 'R_QQQGabc', 'R_GQQGabc']\n"
     ]
    }
   ],
   "source": [
    "gene_reaction_dict= {}\n",
    "for gene in genes_flat:\n",
    "    try:\n",
    "        print(\"Gene: \" + gene + \", Reactions: \" +  str(model.gene_to_reaction_lookup()[gene]))\n",
    "        gene_reaction_dict[gene]=model.gene_to_reaction_lookup()[gene]\n",
    "    except:\n",
    "        print(\"Gene: \" + gene + \" not in model \")"
   ]
  },
  {
   "cell_type": "code",
   "execution_count": 29,
   "id": "e80616de-34f0-4e8c-989a-3e2712b6fcd6",
   "metadata": {},
   "outputs": [],
   "source": [
    "def prGreen(skk): print(\"\\033[92m {}\\033[00m\" .format(skk))"
   ]
  },
  {
   "cell_type": "code",
   "execution_count": 30,
   "id": "d5b5bc82-5277-4d2d-8b78-1d08d8f7e51b",
   "metadata": {},
   "outputs": [
    {
     "name": "stdout",
     "output_type": "stream",
     "text": [
      "Green reactions are the reactions that were included in this Jupyter Notebook\n",
      "\n",
      "Gene: Ccel_2451\n",
      "\u001b[92m  R_GALqlqg: M_QLQG_c + M_h2o_c --> M_QQQG_c + M_gal_c\u001b[00m\n",
      "\u001b[92m  R_GALqqlg: M_QQLG_c + M_h2o_c --> M_QQQG_c + M_gal_c\u001b[00m\n",
      "\u001b[92m  R_GALqllg: M_QLLG_c + 2 M_h2o_c --> M_QQQG_c + 2 M_gal_c\u001b[00m\n",
      "Gene: G_G_WP_015925876_1\n",
      "\u001b[92m  R_QLQGabc: M_QLQG_e + 2 M_atp_c + M_h2o_c --> M_QLQG_c + 2 M_adp_c + M_h_c + 2 M_pi_c\u001b[00m\n",
      "\u001b[92m  R_QQLGabc: M_QQLG_e + 2 M_atp_c + M_h2o_c --> M_QQLG_c + 2 M_adp_c + M_h_c + 2 M_pi_c\u001b[00m\n",
      "\u001b[92m  R_QLLGabc: M_QLLG_e + 2 M_atp_c + M_h2o_c --> M_QLLG_c + 2 M_adp_c + M_h_c + 2 M_pi_c\u001b[00m\n",
      "\u001b[92m  R_QQQGabc: M_QQQG_e + 2 M_atp_c + M_h2o_c --> M_QQQG_c + 2 M_adp_c + M_h_c + 2 M_pi_c\u001b[00m\n",
      "\u001b[92m  R_GQQGabc: M_GQQG_e + 2 M_atp_c + M_h2o_c --> M_GQQG_c + 2 M_adp_c + M_h_c + 2 M_pi_c\u001b[00m\n",
      "Gene: G_G_WP_015925872_1\n",
      "\u001b[92m  R_GLUgqqg: M_GQQG_c + M_h2o_c --> M_QQG_c + M_glc__D_c\u001b[00m\n",
      "\u001b[92m  R_GLUgqg: M_GQG_c + M_h2o_c --> M_QG_c + M_glc__D_c\u001b[00m\n",
      "Gene: G_G_WP_015925873_1\n",
      "\u001b[92m  R_XYLqqqg: M_QQQG_c + M_h2o_c --> M_GQQG_c + M_xyl__D_c\u001b[00m\n",
      "\u001b[92m  R_XYLqqg: M_QQG_c + M_h2o_c --> M_GQG_c + M_xyl__D_c\u001b[00m\n",
      "\u001b[92m  R_XYLqg: M_QG_c + M_h2o_c --> M_cellb_c + M_xyl__D_c\u001b[00m\n",
      "Gene: G_G_WP_015925874_1\n",
      "\u001b[92m  R_QLQGabc: M_QLQG_e + 2 M_atp_c + M_h2o_c --> M_QLQG_c + 2 M_adp_c + M_h_c + 2 M_pi_c\u001b[00m\n",
      "\u001b[92m  R_QQLGabc: M_QQLG_e + 2 M_atp_c + M_h2o_c --> M_QQLG_c + 2 M_adp_c + M_h_c + 2 M_pi_c\u001b[00m\n",
      "\u001b[92m  R_QLLGabc: M_QLLG_e + 2 M_atp_c + M_h2o_c --> M_QLLG_c + 2 M_adp_c + M_h_c + 2 M_pi_c\u001b[00m\n",
      "\u001b[92m  R_QQQGabc: M_QQQG_e + 2 M_atp_c + M_h2o_c --> M_QQQG_c + 2 M_adp_c + M_h_c + 2 M_pi_c\u001b[00m\n",
      "\u001b[92m  R_GQQGabc: M_GQQG_e + 2 M_atp_c + M_h2o_c --> M_GQQG_c + 2 M_adp_c + M_h_c + 2 M_pi_c\u001b[00m\n",
      "Gene: G_G_WP_015925875_1\n",
      "\u001b[92m  R_QLQGabc: M_QLQG_e + 2 M_atp_c + M_h2o_c --> M_QLQG_c + 2 M_adp_c + M_h_c + 2 M_pi_c\u001b[00m\n",
      "\u001b[92m  R_QQLGabc: M_QQLG_e + 2 M_atp_c + M_h2o_c --> M_QQLG_c + 2 M_adp_c + M_h_c + 2 M_pi_c\u001b[00m\n",
      "\u001b[92m  R_QLLGabc: M_QLLG_e + 2 M_atp_c + M_h2o_c --> M_QLLG_c + 2 M_adp_c + M_h_c + 2 M_pi_c\u001b[00m\n",
      "\u001b[92m  R_QQQGabc: M_QQQG_e + 2 M_atp_c + M_h2o_c --> M_QQQG_c + 2 M_adp_c + M_h_c + 2 M_pi_c\u001b[00m\n",
      "\u001b[92m  R_GQQGabc: M_GQQG_e + 2 M_atp_c + M_h2o_c --> M_GQQG_c + 2 M_adp_c + M_h_c + 2 M_pi_c\u001b[00m\n"
     ]
    }
   ],
   "source": [
    "print(\"Green reactions are the reactions that were included in this Jupyter Notebook\\n\")\n",
    "for key in gene_reaction_dict.keys():\n",
    "    print(\"Gene: \" + key)\n",
    "    for rxn in gene_reaction_dict[key]:\n",
    "        if rxn in rxn_ids:\n",
    "            prGreen(\" \" + str(model.reactions[rxn]))\n",
    "        else:\n",
    "            print(\"  \" + str(model.reactions[rxn]))"
   ]
  },
  {
   "cell_type": "markdown",
   "id": "1f4021d0-44a3-4802-8dca-0518f110fcde",
   "metadata": {
    "tags": []
   },
   "source": [
    "## <span style=\"color: blue;\">Summary </span>"
   ]
  },
  {
   "cell_type": "code",
   "execution_count": 31,
   "id": "f63eef19-1468-406a-82b5-bd68a13ea29c",
   "metadata": {},
   "outputs": [],
   "source": [
    "model.update()"
   ]
  },
  {
   "cell_type": "code",
   "execution_count": 32,
   "id": "1b218b46-c6c5-4955-adbc-61ab7588e7ae",
   "metadata": {},
   "outputs": [],
   "source": [
    "model.id = \"model_c_H10_part3_2_1\""
   ]
  },
  {
   "cell_type": "code",
   "execution_count": 33,
   "id": "248ac644-01b9-46fc-8aa0-c6da1a7e7ecf",
   "metadata": {},
   "outputs": [],
   "source": [
    "reframed.save_cbmodel(model,filename=\"model_c_H10_part3_2_1.xml\")"
   ]
  },
  {
   "cell_type": "code",
   "execution_count": 34,
   "id": "b26112e5-1f52-42c3-b1ed-5dbc0f669135",
   "metadata": {},
   "outputs": [],
   "source": [
    "model_new = reframed.load_cbmodel('model_c_H10_part3_2_1.xml')"
   ]
  },
  {
   "cell_type": "code",
   "execution_count": 35,
   "id": "7510d9d2-ed8d-4039-a63a-979cc4507c27",
   "metadata": {},
   "outputs": [],
   "source": [
    "model_prev = reframed.load_cbmodel('model_cellulolyticum_H10.xml')"
   ]
  },
  {
   "cell_type": "code",
   "execution_count": 36,
   "id": "0e2d676e-f276-4e19-9a36-8ba1fe97a536",
   "metadata": {},
   "outputs": [],
   "source": [
    "models_dict={model.id:{} for model in [model_new,model_prev]}\n",
    "models_rxn_dict={model.id:{} for model in [model_new,model_prev]}\n",
    "for model in [model,model_prev]:\n",
    "    models_dict[model.id]['Reactions']=len(model.reactions)\n",
    "    models_dict[model.id]['Metabolites']=len(model.metabolites)\n",
    "    models_dict[model.id]['Genes']=len(model.genes)\n",
    "    \n",
    "    models_rxn_dict[model.id]['Enzymatic']=len(model.get_reactions_by_type(reframed.ReactionType.ENZYMATIC))\n",
    "    models_rxn_dict[model.id]['Exchange']=len(model.get_reactions_by_type(reframed.ReactionType.EXCHANGE))\n",
    "    models_rxn_dict[model.id]['Transport']=len(model.get_reactions_by_type(reframed.ReactionType.TRANSPORT))\n",
    "    models_rxn_dict[model.id]['Sink']=len(model.get_reactions_by_type(reframed.ReactionType.SINK))\n",
    "    models_rxn_dict[model.id]['Other']=len(model.get_reactions_by_type(reframed.ReactionType.OTHER))\n",
    "    "
   ]
  },
  {
   "cell_type": "markdown",
   "id": "a6eccc97-3eb5-4c24-b8ad-f694aec57ce5",
   "metadata": {},
   "source": [
    "**Overview models**"
   ]
  },
  {
   "cell_type": "code",
   "execution_count": 37,
   "id": "c5b5bcc8-1850-4986-9f69-0b99231e9cf6",
   "metadata": {},
   "outputs": [
    {
     "data": {
      "text/html": [
       "<div>\n",
       "<style scoped>\n",
       "    .dataframe tbody tr th:only-of-type {\n",
       "        vertical-align: middle;\n",
       "    }\n",
       "\n",
       "    .dataframe tbody tr th {\n",
       "        vertical-align: top;\n",
       "    }\n",
       "\n",
       "    .dataframe thead th {\n",
       "        text-align: right;\n",
       "    }\n",
       "</style>\n",
       "<table border=\"1\" class=\"dataframe\">\n",
       "  <thead>\n",
       "    <tr style=\"text-align: right;\">\n",
       "      <th></th>\n",
       "      <th>model_c_H10_part3_2_1</th>\n",
       "      <th>model_cellulolyticum_H10</th>\n",
       "    </tr>\n",
       "  </thead>\n",
       "  <tbody>\n",
       "    <tr>\n",
       "      <th>Reactions</th>\n",
       "      <td>1784</td>\n",
       "      <td>1811</td>\n",
       "    </tr>\n",
       "    <tr>\n",
       "      <th>Metabolites</th>\n",
       "      <td>1269</td>\n",
       "      <td>1250</td>\n",
       "    </tr>\n",
       "    <tr>\n",
       "      <th>Genes</th>\n",
       "      <td>738</td>\n",
       "      <td>733</td>\n",
       "    </tr>\n",
       "  </tbody>\n",
       "</table>\n",
       "</div>"
      ],
      "text/plain": [
       "             model_c_H10_part3_2_1  model_cellulolyticum_H10\n",
       "Reactions                     1784                      1811\n",
       "Metabolites                   1269                      1250\n",
       "Genes                          738                       733"
      ]
     },
     "execution_count": 37,
     "metadata": {},
     "output_type": "execute_result"
    }
   ],
   "source": [
    "pd.DataFrame(models_dict)"
   ]
  },
  {
   "cell_type": "markdown",
   "id": "4dbfb6c1-610f-4406-8243-682eac0377cd",
   "metadata": {},
   "source": [
    "**Overview reactions in models**"
   ]
  },
  {
   "cell_type": "code",
   "execution_count": 38,
   "id": "1a26bbc4-b1b0-467f-a4b0-7ab052ab5ca8",
   "metadata": {},
   "outputs": [
    {
     "data": {
      "text/html": [
       "<div>\n",
       "<style scoped>\n",
       "    .dataframe tbody tr th:only-of-type {\n",
       "        vertical-align: middle;\n",
       "    }\n",
       "\n",
       "    .dataframe tbody tr th {\n",
       "        vertical-align: top;\n",
       "    }\n",
       "\n",
       "    .dataframe thead th {\n",
       "        text-align: right;\n",
       "    }\n",
       "</style>\n",
       "<table border=\"1\" class=\"dataframe\">\n",
       "  <thead>\n",
       "    <tr style=\"text-align: right;\">\n",
       "      <th></th>\n",
       "      <th>model_c_H10_part3_2_1</th>\n",
       "      <th>model_cellulolyticum_H10</th>\n",
       "    </tr>\n",
       "  </thead>\n",
       "  <tbody>\n",
       "    <tr>\n",
       "      <th>Enzymatic</th>\n",
       "      <td>889</td>\n",
       "      <td>883</td>\n",
       "    </tr>\n",
       "    <tr>\n",
       "      <th>Exchange</th>\n",
       "      <td>218</td>\n",
       "      <td>210</td>\n",
       "    </tr>\n",
       "    <tr>\n",
       "      <th>Transport</th>\n",
       "      <td>433</td>\n",
       "      <td>475</td>\n",
       "    </tr>\n",
       "    <tr>\n",
       "      <th>Sink</th>\n",
       "      <td>0</td>\n",
       "      <td>0</td>\n",
       "    </tr>\n",
       "    <tr>\n",
       "      <th>Other</th>\n",
       "      <td>244</td>\n",
       "      <td>243</td>\n",
       "    </tr>\n",
       "  </tbody>\n",
       "</table>\n",
       "</div>"
      ],
      "text/plain": [
       "           model_c_H10_part3_2_1  model_cellulolyticum_H10\n",
       "Enzymatic                    889                       883\n",
       "Exchange                     218                       210\n",
       "Transport                    433                       475\n",
       "Sink                           0                         0\n",
       "Other                        244                       243"
      ]
     },
     "execution_count": 38,
     "metadata": {},
     "output_type": "execute_result"
    }
   ],
   "source": [
    "pd.DataFrame(models_rxn_dict)"
   ]
  },
  {
   "cell_type": "code",
   "execution_count": 39,
   "id": "71709f73-72d8-4155-8e28-3b3549d12f17",
   "metadata": {},
   "outputs": [],
   "source": [
    "import cobra"
   ]
  },
  {
   "cell_type": "code",
   "execution_count": 40,
   "id": "73290969-ac0c-4a51-b4a8-7a2d5139f501",
   "metadata": {},
   "outputs": [],
   "source": [
    "model_cobra = cobra.io.read_sbml_model('model_c_H10_part3_2_1.xml')"
   ]
  },
  {
   "cell_type": "code",
   "execution_count": 41,
   "id": "9ab7bb10-59eb-45e6-b8c8-8f87ffe835f1",
   "metadata": {},
   "outputs": [],
   "source": [
    "cobra.io.save_json_model(model_cobra, \"model_c_H10_part3_2_1.json\")"
   ]
  }
 ],
 "metadata": {
  "kernelspec": {
   "display_name": "RecAndAn",
   "language": "python",
   "name": "recandan"
  },
  "language_info": {
   "codemirror_mode": {
    "name": "ipython",
    "version": 3
   },
   "file_extension": ".py",
   "mimetype": "text/x-python",
   "name": "python",
   "nbconvert_exporter": "python",
   "pygments_lexer": "ipython3",
   "version": "3.7.13"
  }
 },
 "nbformat": 4,
 "nbformat_minor": 5
}
