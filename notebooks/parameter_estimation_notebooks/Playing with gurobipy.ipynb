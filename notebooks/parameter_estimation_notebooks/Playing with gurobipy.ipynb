{
 "cells": [
  {
   "cell_type": "markdown",
   "id": "6f76c6f5-8ebe-43b3-b049-115be6cf5a22",
   "metadata": {},
   "source": [
    "### Mathematical programming"
   ]
  },
  {
   "cell_type": "markdown",
   "id": "31127d6e-b145-4648-87ed-0b50b5060af5",
   "metadata": {},
   "source": [
    "A mathematical optimization model has five components:\n",
    "\n",
    "- Sets\n",
    "- Parameters\n",
    "- Decision variables\n",
    "- Constraints\n",
    "- Objective function(s)"
   ]
  },
  {
   "cell_type": "code",
   "execution_count": 1,
   "id": "847d8b8f-b71c-4afd-b191-da2eeb21a6fe",
   "metadata": {},
   "outputs": [],
   "source": [
    "import gurobipy as gp"
   ]
  },
  {
   "cell_type": "code",
   "execution_count": 2,
   "id": "75e53890-118f-4517-9b8f-56ffb82307ff",
   "metadata": {},
   "outputs": [],
   "source": [
    "from gurobipy import GRB"
   ]
  },
  {
   "cell_type": "code",
   "execution_count": 3,
   "id": "b0aa6efd-96e1-4594-8020-30697a03c6cd",
   "metadata": {},
   "outputs": [],
   "source": [
    "R = ['Carlos', 'Joe', 'Monika'] # Resources\n",
    "J = ['Tester', 'JavaDeveloper', 'Architect'] # Jobs"
   ]
  },
  {
   "cell_type": "markdown",
   "id": "4dc1fd16-7a1c-4c2d-94a6-d52efd57f9b6",
   "metadata": {},
   "source": [
    "**Overview**\n",
    "\n",
    "The scores and combinations show the ability of one person (resource) to do the job.\n",
    "\n",
    "\n",
    "If we want to maximize the score for each work where the decision variable vij=0 or 1 and sum(vji (for all i)) =1 and sum(vji (for all j)) =1, we need to add:\n",
    "- sets (the combinations and scores)\n",
    "- parameters=\n",
    "- "
   ]
  },
  {
   "cell_type": "code",
   "execution_count": 4,
   "id": "30d472d8-052d-4ba6-9447-5d94b9be3b07",
   "metadata": {},
   "outputs": [],
   "source": [
    "combinations, scores = gp.multidict({\n",
    "    ('Carlos', 'Tester'): 53,\n",
    "    ('Carlos', 'JavaDeveloper'): 27,\n",
    "    ('Carlos', 'Architect'): 13,\n",
    "    ('Joe', 'Tester'): 80,\n",
    "    ('Joe', 'JavaDeveloper'): 47,\n",
    "    ('Joe', 'Architect'): 67,\n",
    "    ('Monika', 'Tester'): 53,\n",
    "    ('Monika', 'JavaDeveloper'): 73,\n",
    "    ('Monika', 'Architect'): 47\n",
    "})"
   ]
  },
  {
   "cell_type": "code",
   "execution_count": 8,
   "id": "e41ffd58-a97c-450f-b244-321ce1a551c2",
   "metadata": {},
   "outputs": [
    {
     "data": {
      "text/plain": [
       "gurobipy.tupledict"
      ]
     },
     "execution_count": 8,
     "metadata": {},
     "output_type": "execute_result"
    }
   ],
   "source": [
    "type(scores)"
   ]
  },
  {
   "cell_type": "code",
   "execution_count": 9,
   "id": "f8daae29-646e-47c7-b45f-28f129f89fa8",
   "metadata": {},
   "outputs": [
    {
     "data": {
      "text/plain": [
       "gurobipy.tuplelist"
      ]
     },
     "execution_count": 9,
     "metadata": {},
     "output_type": "execute_result"
    }
   ],
   "source": [
    "type(combinations)"
   ]
  },
  {
   "cell_type": "code",
   "execution_count": 10,
   "id": "a988319f-2090-494f-8633-1b1fec147c9d",
   "metadata": {},
   "outputs": [
    {
     "data": {
      "text/plain": [
       "<gurobi.tuplelist (9 tuples, 2 values each):\n",
       " ( Carlos , Tester        )\n",
       " ( Carlos , JavaDeveloper )\n",
       " ( Carlos , Architect     )\n",
       " ( Joe    , Tester        )\n",
       " ( Joe    , JavaDeveloper )\n",
       " ( Joe    , Architect     )\n",
       " ( Monika , Tester        )\n",
       " ( Monika , JavaDeveloper )\n",
       " ( Monika , Architect     )\n",
       ">"
      ]
     },
     "execution_count": 10,
     "metadata": {},
     "output_type": "execute_result"
    }
   ],
   "source": [
    "combinations"
   ]
  },
  {
   "cell_type": "code",
   "execution_count": 11,
   "id": "9814f180-bbaa-4ece-ba19-dfc9aeefedb9",
   "metadata": {},
   "outputs": [
    {
     "data": {
      "text/plain": [
       "{('Carlos', 'Tester'): 53,\n",
       " ('Carlos', 'JavaDeveloper'): 27,\n",
       " ('Carlos', 'Architect'): 13,\n",
       " ('Joe', 'Tester'): 80,\n",
       " ('Joe', 'JavaDeveloper'): 47,\n",
       " ('Joe', 'Architect'): 67,\n",
       " ('Monika', 'Tester'): 53,\n",
       " ('Monika', 'JavaDeveloper'): 73,\n",
       " ('Monika', 'Architect'): 47}"
      ]
     },
     "execution_count": 11,
     "metadata": {},
     "output_type": "execute_result"
    }
   ],
   "source": [
    "scores"
   ]
  },
  {
   "cell_type": "markdown",
   "id": "021979f9-5312-441e-9083-14b4129f6c9c",
   "metadata": {},
   "source": [
    "**Initialize empty model**"
   ]
  },
  {
   "cell_type": "code",
   "execution_count": 7,
   "id": "f3b1aea6-7e4b-4b39-9c38-45a36e48acf5",
   "metadata": {},
   "outputs": [
    {
     "data": {
      "text/plain": [
       "<gurobi.Model Continuous instance RAP: 0 constrs, 0 vars, No parameter changes>"
      ]
     },
     "execution_count": 7,
     "metadata": {},
     "output_type": "execute_result"
    }
   ],
   "source": [
    "m = gp.Model('RAP')\n",
    "m"
   ]
  },
  {
   "cell_type": "markdown",
   "id": "3dfc467c-809c-4472-9de1-02fbec77b922",
   "metadata": {},
   "source": [
    "**Add the decision variables**"
   ]
  },
  {
   "cell_type": "code",
   "execution_count": 12,
   "id": "1191e014-6554-47ee-9bb6-3c31d0367c60",
   "metadata": {},
   "outputs": [],
   "source": [
    "x = m.addVars(combinations, name=\"assign\")"
   ]
  },
  {
   "cell_type": "code",
   "execution_count": 13,
   "id": "294809f8-fabe-49d6-bc8b-ced85cdbcb18",
   "metadata": {},
   "outputs": [
    {
     "data": {
      "text/plain": [
       "{('Carlos', 'Tester'): <gurobi.Var *Awaiting Model Update*>,\n",
       " ('Carlos', 'JavaDeveloper'): <gurobi.Var *Awaiting Model Update*>,\n",
       " ('Carlos', 'Architect'): <gurobi.Var *Awaiting Model Update*>,\n",
       " ('Joe', 'Tester'): <gurobi.Var *Awaiting Model Update*>,\n",
       " ('Joe', 'JavaDeveloper'): <gurobi.Var *Awaiting Model Update*>,\n",
       " ('Joe', 'Architect'): <gurobi.Var *Awaiting Model Update*>,\n",
       " ('Monika', 'Tester'): <gurobi.Var *Awaiting Model Update*>,\n",
       " ('Monika', 'JavaDeveloper'): <gurobi.Var *Awaiting Model Update*>,\n",
       " ('Monika', 'Architect'): <gurobi.Var *Awaiting Model Update*>}"
      ]
     },
     "execution_count": 13,
     "metadata": {},
     "output_type": "execute_result"
    }
   ],
   "source": [
    "x"
   ]
  },
  {
   "cell_type": "markdown",
   "id": "01d533bc-9f36-4002-9812-8bf0387b13db",
   "metadata": {},
   "source": [
    "**Add constraints**"
   ]
  },
  {
   "cell_type": "code",
   "execution_count": 14,
   "id": "6d16c97c-de74-47dc-a0a3-bbd5fe556412",
   "metadata": {},
   "outputs": [],
   "source": [
    "jobs = m.addConstrs((x.sum('*',j) == 1 for j in J), name='job') # The '*' is kindoff the same as :"
   ]
  },
  {
   "cell_type": "code",
   "execution_count": 15,
   "id": "6cdb79d1-10cd-443c-86a0-14f7af92ed10",
   "metadata": {},
   "outputs": [
    {
     "data": {
      "text/plain": [
       "{'Tester': <gurobi.Constr *Awaiting Model Update*>,\n",
       " 'JavaDeveloper': <gurobi.Constr *Awaiting Model Update*>,\n",
       " 'Architect': <gurobi.Constr *Awaiting Model Update*>}"
      ]
     },
     "execution_count": 15,
     "metadata": {},
     "output_type": "execute_result"
    }
   ],
   "source": [
    "jobs"
   ]
  },
  {
   "cell_type": "code",
   "execution_count": 18,
   "id": "d339c406-0ae3-4bd7-8cf6-7a18ee6899f9",
   "metadata": {},
   "outputs": [],
   "source": [
    "resources = m.addConstrs((x.sum(r,'*') == 1 for r in R), name='resource') # The '*' is kindoff the same as :"
   ]
  },
  {
   "cell_type": "code",
   "execution_count": 19,
   "id": "8fc9cc69-0583-4df1-b3ce-2875e2968138",
   "metadata": {},
   "outputs": [
    {
     "data": {
      "text/plain": [
       "{'Carlos': <gurobi.Constr *Awaiting Model Update*>,\n",
       " 'Joe': <gurobi.Constr *Awaiting Model Update*>,\n",
       " 'Monika': <gurobi.Constr *Awaiting Model Update*>}"
      ]
     },
     "execution_count": 19,
     "metadata": {},
     "output_type": "execute_result"
    }
   ],
   "source": [
    "resources"
   ]
  },
  {
   "cell_type": "markdown",
   "id": "84d5827c-2e08-4bc2-a885-32540303d569",
   "metadata": {},
   "source": [
    "**Add objective**"
   ]
  },
  {
   "cell_type": "code",
   "execution_count": 20,
   "id": "305ed2a1-3191-4669-bf63-c33378d36714",
   "metadata": {},
   "outputs": [],
   "source": [
    "m.setObjective(x.prod(scores),GRB.MAXIMIZE)"
   ]
  },
  {
   "cell_type": "code",
   "execution_count": 21,
   "id": "1a7bcfef-49c9-4a30-93c7-119b61510a83",
   "metadata": {},
   "outputs": [
    {
     "data": {
      "text/plain": [
       "<gurobi.Model Continuous instance RAP: 0 constrs, 0 vars, No parameter changes>"
      ]
     },
     "execution_count": 21,
     "metadata": {},
     "output_type": "execute_result"
    }
   ],
   "source": [
    "m"
   ]
  },
  {
   "cell_type": "code",
   "execution_count": 22,
   "id": "8da8b631-d85a-4986-bfd3-297fb6b33ff8",
   "metadata": {},
   "outputs": [],
   "source": [
    "m.write('RAP.lp')"
   ]
  },
  {
   "cell_type": "code",
   "execution_count": 23,
   "id": "1d78d03a-3233-4e18-9825-6bc049572ee6",
   "metadata": {},
   "outputs": [
    {
     "data": {
      "text/plain": [
       "<gurobi.Model Continuous instance RAP: 6 constrs, 9 vars, No parameter changes>"
      ]
     },
     "execution_count": 23,
     "metadata": {},
     "output_type": "execute_result"
    }
   ],
   "source": [
    "m"
   ]
  },
  {
   "cell_type": "markdown",
   "id": "ad2f9fe3-5fe4-4c35-8f50-79c2091d5cad",
   "metadata": {},
   "source": [
    "**Optimize**"
   ]
  },
  {
   "cell_type": "code",
   "execution_count": 24,
   "id": "2a599206-cd91-4006-85fc-5686cd6f5d4f",
   "metadata": {},
   "outputs": [
    {
     "name": "stdout",
     "output_type": "stream",
     "text": [
      "Gurobi Optimizer version 9.5.0 build v9.5.0rc5 (mac64[rosetta2])\n",
      "Thread count: 8 physical cores, 8 logical processors, using up to 8 threads\n",
      "Optimize a model with 6 rows, 9 columns and 18 nonzeros\n",
      "Model fingerprint: 0x4c93045b\n",
      "Coefficient statistics:\n",
      "  Matrix range     [1e+00, 1e+00]\n",
      "  Objective range  [1e+01, 8e+01]\n",
      "  Bounds range     [0e+00, 0e+00]\n",
      "  RHS range        [1e+00, 1e+00]\n",
      "Presolve time: 0.02s\n",
      "Presolved: 6 rows, 9 columns, 18 nonzeros\n",
      "\n",
      "Iteration    Objective       Primal Inf.    Dual Inf.      Time\n",
      "       0    4.6000000e+32   1.800000e+31   4.600000e+02      0s\n",
      "       4    1.9300000e+02   0.000000e+00   0.000000e+00      0s\n",
      "\n",
      "Solved in 4 iterations and 0.03 seconds (0.00 work units)\n",
      "Optimal objective  1.930000000e+02\n"
     ]
    }
   ],
   "source": [
    "m.optimize()"
   ]
  },
  {
   "cell_type": "code",
   "execution_count": 26,
   "id": "697e706b-908b-468f-a166-f35c25201517",
   "metadata": {},
   "outputs": [
    {
     "data": {
      "text/plain": [
       "[<gurobi.Var assign[Carlos,Tester] (value 1.0)>,\n",
       " <gurobi.Var assign[Carlos,JavaDeveloper] (value 0.0)>,\n",
       " <gurobi.Var assign[Carlos,Architect] (value 0.0)>,\n",
       " <gurobi.Var assign[Joe,Tester] (value 0.0)>,\n",
       " <gurobi.Var assign[Joe,JavaDeveloper] (value 0.0)>,\n",
       " <gurobi.Var assign[Joe,Architect] (value 1.0)>,\n",
       " <gurobi.Var assign[Monika,Tester] (value 0.0)>,\n",
       " <gurobi.Var assign[Monika,JavaDeveloper] (value 1.0)>,\n",
       " <gurobi.Var assign[Monika,Architect] (value 0.0)>]"
      ]
     },
     "execution_count": 26,
     "metadata": {},
     "output_type": "execute_result"
    }
   ],
   "source": [
    "m.getVars()"
   ]
  },
  {
   "cell_type": "code",
   "execution_count": 27,
   "id": "4b300785-c368-4c5f-a169-dc1c601d73c6",
   "metadata": {},
   "outputs": [
    {
     "name": "stdout",
     "output_type": "stream",
     "text": [
      "assign[Carlos,Tester] 1.0\n",
      "assign[Joe,Architect] 1.0\n",
      "assign[Monika,JavaDeveloper] 1.0\n"
     ]
    }
   ],
   "source": [
    "for v in m.getVars():\n",
    "    if v.x > 1e-6:\n",
    "        print(v.varName, v.x)"
   ]
  },
  {
   "cell_type": "code",
   "execution_count": 36,
   "id": "8b24d910-fcea-47d7-808a-d2917fbddfb2",
   "metadata": {},
   "outputs": [
    {
     "data": {
      "text/plain": [
       "<gurobi.Constr job[Tester]>"
      ]
     },
     "execution_count": 36,
     "metadata": {},
     "output_type": "execute_result"
    }
   ],
   "source": [
    "job_ex = m.getConstrs()[0]\n",
    "job_ex"
   ]
  },
  {
   "cell_type": "markdown",
   "id": "59ee339f-566c-4946-8fe6-34c02f02deb2",
   "metadata": {},
   "source": [
    "## Changing problem - giving a total number of jobs"
   ]
  },
  {
   "cell_type": "code",
   "execution_count": 50,
   "id": "6ac13272-7c61-4069-9356-5594ad6238f5",
   "metadata": {},
   "outputs": [],
   "source": [
    "R = ['Carlos', 'Joe', 'Monika'] # Resources\n",
    "J = ['Tester', 'JavaDeveloper', 'Architect'] # Jobs"
   ]
  },
  {
   "cell_type": "markdown",
   "id": "9b4f991b-78a7-4731-9996-80f87fa396f4",
   "metadata": {},
   "source": [
    "**Overview**\n",
    "\n",
    "The scores and combinations show the ability of one person (resource) to do the job.\n",
    "\n",
    "\n",
    "If we want to maximize the score for each work where the decision variable vij=0 or 1 and sum(vji (for all i)) =1 and sum(vji (for all j)) =1, we need to add:\n",
    "- sets (the combinations and scores)\n",
    "- parameters=\n",
    "- "
   ]
  },
  {
   "cell_type": "code",
   "execution_count": 122,
   "id": "aa54d96b-6ba2-47d9-9b7e-073714a0e9cc",
   "metadata": {},
   "outputs": [],
   "source": [
    "combinations, scores = gp.multidict({\n",
    "    ('Carlos', 'Tester'): 53,\n",
    "    ('Carlos', 'JavaDeveloper'): 27,\n",
    "    ('Carlos', 'Architect'): 13,\n",
    "    ('Joe', 'Tester'): 80,\n",
    "    ('Joe', 'JavaDeveloper'): 47,\n",
    "    ('Joe', 'Architect'): 67,\n",
    "    ('Monika', 'Tester'): 53,\n",
    "    ('Monika', 'JavaDeveloper'): 73,\n",
    "    ('Monika', 'Architect'): 47\n",
    "})"
   ]
  },
  {
   "cell_type": "code",
   "execution_count": 123,
   "id": "cc07211e-efbf-4c17-9fb2-364e497e364a",
   "metadata": {},
   "outputs": [
    {
     "data": {
      "text/plain": [
       "gurobipy.tupledict"
      ]
     },
     "execution_count": 123,
     "metadata": {},
     "output_type": "execute_result"
    }
   ],
   "source": [
    "type(scores)"
   ]
  },
  {
   "cell_type": "code",
   "execution_count": 124,
   "id": "301f532c-9e12-447d-8922-b5ad024e4528",
   "metadata": {},
   "outputs": [
    {
     "data": {
      "text/plain": [
       "gurobipy.tuplelist"
      ]
     },
     "execution_count": 124,
     "metadata": {},
     "output_type": "execute_result"
    }
   ],
   "source": [
    "type(combinations)"
   ]
  },
  {
   "cell_type": "code",
   "execution_count": 125,
   "id": "5fb1ef14-bdf4-4798-91c3-5f0b90360768",
   "metadata": {},
   "outputs": [
    {
     "data": {
      "text/plain": [
       "<gurobi.tuplelist (9 tuples, 2 values each):\n",
       " ( Carlos , Tester        )\n",
       " ( Carlos , JavaDeveloper )\n",
       " ( Carlos , Architect     )\n",
       " ( Joe    , Tester        )\n",
       " ( Joe    , JavaDeveloper )\n",
       " ( Joe    , Architect     )\n",
       " ( Monika , Tester        )\n",
       " ( Monika , JavaDeveloper )\n",
       " ( Monika , Architect     )\n",
       ">"
      ]
     },
     "execution_count": 125,
     "metadata": {},
     "output_type": "execute_result"
    }
   ],
   "source": [
    "combinations"
   ]
  },
  {
   "cell_type": "code",
   "execution_count": 126,
   "id": "41e5dcb9-24f0-47fa-a37a-7374efe270ed",
   "metadata": {},
   "outputs": [
    {
     "data": {
      "text/plain": [
       "{('Carlos', 'Tester'): 53,\n",
       " ('Carlos', 'JavaDeveloper'): 27,\n",
       " ('Carlos', 'Architect'): 13,\n",
       " ('Joe', 'Tester'): 80,\n",
       " ('Joe', 'JavaDeveloper'): 47,\n",
       " ('Joe', 'Architect'): 67,\n",
       " ('Monika', 'Tester'): 53,\n",
       " ('Monika', 'JavaDeveloper'): 73,\n",
       " ('Monika', 'Architect'): 47}"
      ]
     },
     "execution_count": 126,
     "metadata": {},
     "output_type": "execute_result"
    }
   ],
   "source": [
    "scores"
   ]
  },
  {
   "cell_type": "markdown",
   "id": "be6526fc-f704-41c2-8656-5ea99eb5e76e",
   "metadata": {},
   "source": [
    "**Initialize empty model**"
   ]
  },
  {
   "cell_type": "code",
   "execution_count": 127,
   "id": "a523a7ee-1729-46e7-bc18-c7647edb3d28",
   "metadata": {},
   "outputs": [
    {
     "data": {
      "text/plain": [
       "<gurobi.Model Continuous instance RAP: 0 constrs, 0 vars, No parameter changes>"
      ]
     },
     "execution_count": 127,
     "metadata": {},
     "output_type": "execute_result"
    }
   ],
   "source": [
    "m = gp.Model('RAP')\n",
    "m"
   ]
  },
  {
   "cell_type": "markdown",
   "id": "d05db174-bda0-4b95-9fc9-5411fb53406a",
   "metadata": {},
   "source": [
    "**Add Variables**"
   ]
  },
  {
   "cell_type": "code",
   "execution_count": 128,
   "id": "1aac3786-b939-42b5-8f50-f5c572bd0d7c",
   "metadata": {},
   "outputs": [],
   "source": [
    "x = m.addVars(combinations,lb=0, name=\"assign\")"
   ]
  },
  {
   "cell_type": "markdown",
   "id": "58994d34-1236-4a6d-bec5-b72b066dca8c",
   "metadata": {},
   "source": [
    "**Add constraints**"
   ]
  },
  {
   "cell_type": "code",
   "execution_count": 129,
   "id": "d9b2a25e-bd94-4171-8468-54cfb817bc49",
   "metadata": {},
   "outputs": [
    {
     "data": {
      "text/plain": [
       "['Tester', 'JavaDeveloper', 'Architect']"
      ]
     },
     "execution_count": 129,
     "metadata": {},
     "output_type": "execute_result"
    }
   ],
   "source": [
    "J"
   ]
  },
  {
   "cell_type": "code",
   "execution_count": 130,
   "id": "a33695d5-0724-4306-8716-ea0cbf3aa82f",
   "metadata": {},
   "outputs": [],
   "source": [
    "job1 = m.addConstr(x.sum('*',J[0]) == 20, name='job-Tester') # The '*' is kindoff the same as :\n",
    "\n",
    "job2 = m.addConstr(x.sum('*',J[1]) == 30, name='job-JavaDeveloper') # The '*' is kindoff the same as :\n",
    "\n",
    "job3 = m.addConstr(x.sum('*',J[2]) == 50, name='job-Architect') # The '*' is kindoff the same as :"
   ]
  },
  {
   "cell_type": "code",
   "execution_count": 131,
   "id": "5cf5726a-b185-40a0-a4a7-ea33d64a4177",
   "metadata": {},
   "outputs": [
    {
     "data": {
      "text/plain": [
       "['Carlos', 'Joe', 'Monika']"
      ]
     },
     "execution_count": 131,
     "metadata": {},
     "output_type": "execute_result"
    }
   ],
   "source": [
    "R"
   ]
  },
  {
   "cell_type": "code",
   "execution_count": 132,
   "id": "da6088ef-c44d-463d-91ad-eb0ecb2c8098",
   "metadata": {},
   "outputs": [],
   "source": [
    "r1 = m.addConstr(x.sum(R[0],'*') <= 80, name='resource-Carlos') # The '*' is kindoff the same as :\n",
    "\n",
    "r2 = m.addConstr(x.sum(R[1],'*') <= 20, name='resource-Joe') # The '*' is kindoff the same as :\n",
    "\n",
    "r3 = m.addConstr(x.sum(R[2],'*') <= 25, name='resource-Monika') # The '*' is kindoff the same as :\n"
   ]
  },
  {
   "cell_type": "markdown",
   "id": "178812fa-1554-4f8f-96dd-f7ffcb76f7dc",
   "metadata": {},
   "source": [
    "**Objective**"
   ]
  },
  {
   "cell_type": "code",
   "execution_count": 133,
   "id": "0ad9c962-3fce-4ce6-bcc1-51b2b7b9b8c1",
   "metadata": {},
   "outputs": [],
   "source": [
    "m.setObjective(x.prod(scores),GRB.MAXIMIZE)"
   ]
  },
  {
   "cell_type": "code",
   "execution_count": 134,
   "id": "d0e24726-2377-4ea1-927a-01b7cf27744e",
   "metadata": {},
   "outputs": [],
   "source": [
    "m.write('RAP.lp')"
   ]
  },
  {
   "cell_type": "code",
   "execution_count": 135,
   "id": "a0cd9f9d-59c1-441a-bd73-aeb38b6b4004",
   "metadata": {},
   "outputs": [
    {
     "data": {
      "text/plain": [
       "<gurobi.Model Continuous instance RAP: 6 constrs, 9 vars, No parameter changes>"
      ]
     },
     "execution_count": 135,
     "metadata": {},
     "output_type": "execute_result"
    }
   ],
   "source": [
    "m"
   ]
  },
  {
   "cell_type": "code",
   "execution_count": 136,
   "id": "d4cd13d1-6944-4c78-9d65-ea999738e6ad",
   "metadata": {},
   "outputs": [
    {
     "name": "stdout",
     "output_type": "stream",
     "text": [
      "Gurobi Optimizer version 9.5.0 build v9.5.0rc5 (mac64[rosetta2])\n",
      "Thread count: 8 physical cores, 8 logical processors, using up to 8 threads\n",
      "Optimize a model with 6 rows, 9 columns and 18 nonzeros\n",
      "Model fingerprint: 0x386ef8a5\n",
      "Coefficient statistics:\n",
      "  Matrix range     [1e+00, 1e+00]\n",
      "  Objective range  [1e+01, 8e+01]\n",
      "  Bounds range     [0e+00, 0e+00]\n",
      "  RHS range        [2e+01, 8e+01]\n",
      "Presolve removed 1 rows and 1 columns\n",
      "Presolve time: 0.01s\n",
      "Presolved: 5 rows, 8 columns, 16 nonzeros\n",
      "\n",
      "Iteration    Objective       Primal Inf.    Dual Inf.      Time\n",
      "       0    6.3720180e+03   2.751050e+01   0.000000e+00      0s\n",
      "       5    4.7500000e+03   0.000000e+00   0.000000e+00      0s\n",
      "\n",
      "Solved in 5 iterations and 0.02 seconds (0.00 work units)\n",
      "Optimal objective  4.750000000e+03\n"
     ]
    }
   ],
   "source": [
    "m.optimize()"
   ]
  },
  {
   "cell_type": "code",
   "execution_count": 137,
   "id": "8146ae20-82b2-41a4-a64f-668ca6dda44c",
   "metadata": {},
   "outputs": [
    {
     "name": "stdout",
     "output_type": "stream",
     "text": [
      "assign[Carlos,Tester] 20.0\n",
      "assign[Carlos,JavaDeveloper] 5.0\n",
      "assign[Carlos,Architect] 30.0\n",
      "assign[Joe,Architect] 20.0\n",
      "assign[Monika,JavaDeveloper] 25.0\n"
     ]
    }
   ],
   "source": [
    "for v in m.getVars():\n",
    "    if abs(v.x) > 1e-6:\n",
    "        print(v.varName, v.x)"
   ]
  },
  {
   "cell_type": "markdown",
   "id": "5a760742-789e-4323-8c07-86c99a7ee7bb",
   "metadata": {},
   "source": [
    "#### Model to determine different hemicelluloses"
   ]
  },
  {
   "cell_type": "code",
   "execution_count": 149,
   "id": "ec8e315f-a117-4961-820b-6659a7585b28",
   "metadata": {},
   "outputs": [
    {
     "data": {
      "text/plain": [
       "<gurobi.Model Continuous instance RAP: 0 constrs, 0 vars, No parameter changes>"
      ]
     },
     "execution_count": 149,
     "metadata": {},
     "output_type": "execute_result"
    }
   ],
   "source": [
    "m = gp.Model('RAP')\n",
    "m"
   ]
  },
  {
   "cell_type": "code",
   "execution_count": 150,
   "id": "52a28493-8fe3-43f1-8f07-27a381aa6709",
   "metadata": {},
   "outputs": [],
   "source": [
    "v1 = m.addVar(lb=0)\n",
    "v2 = m.addVar(lb=0)\n",
    "v3 = m.addVar(lb=0)"
   ]
  },
  {
   "cell_type": "code",
   "execution_count": 151,
   "id": "6386cfaf-766a-4480-9299-8da00b3789db",
   "metadata": {},
   "outputs": [
    {
     "data": {
      "text/plain": [
       "<gurobi.Constr *Awaiting Model Update*>"
      ]
     },
     "execution_count": 151,
     "metadata": {},
     "output_type": "execute_result"
    }
   ],
   "source": [
    "m.addConstr(v1 + v2/2==80,name=\"Glucose\")\n",
    "m.addConstr(v3/2==10,name=\"Galactose\")\n",
    "m.addConstr(v2/3==5,name=\"Arabinose\")\n",
    "m.addConstr(2*v2/3 + v3/4==5,name=\"Xylose\")"
   ]
  },
  {
   "cell_type": "code",
   "execution_count": 152,
   "id": "9e066dfa-ab23-4bf6-9f84-e14bd1a512f9",
   "metadata": {},
   "outputs": [],
   "source": [
    "m.setObjective(v1+v2+v3,GRB.MAXIMIZE)"
   ]
  },
  {
   "cell_type": "code",
   "execution_count": 153,
   "id": "d0f83969-e27b-4e93-8811-6a33cb11a215",
   "metadata": {},
   "outputs": [],
   "source": [
    "m.write('RAP.lp')"
   ]
  },
  {
   "cell_type": "code",
   "execution_count": 154,
   "id": "68f2b4e0-849c-4296-a736-bd06c2aebd13",
   "metadata": {},
   "outputs": [
    {
     "data": {
      "text/plain": [
       "<gurobi.Model Continuous instance RAP: 4 constrs, 3 vars, No parameter changes>"
      ]
     },
     "execution_count": 154,
     "metadata": {},
     "output_type": "execute_result"
    }
   ],
   "source": [
    "m"
   ]
  },
  {
   "cell_type": "code",
   "execution_count": 155,
   "id": "0e9b5c86-7626-42c9-b2e0-c20b21e6a629",
   "metadata": {},
   "outputs": [
    {
     "name": "stdout",
     "output_type": "stream",
     "text": [
      "Gurobi Optimizer version 9.5.0 build v9.5.0rc5 (mac64[rosetta2])\n",
      "Thread count: 8 physical cores, 8 logical processors, using up to 8 threads\n",
      "Optimize a model with 4 rows, 3 columns and 6 nonzeros\n",
      "Model fingerprint: 0x40fdc549\n",
      "Coefficient statistics:\n",
      "  Matrix range     [2e-01, 1e+00]\n",
      "  Objective range  [1e+00, 1e+00]\n",
      "  Bounds range     [0e+00, 0e+00]\n",
      "  RHS range        [5e+00, 8e+01]\n",
      "Presolve removed 2 rows and 2 columns\n",
      "Presolve time: 0.01s\n",
      "\n",
      "Solved in 0 iterations and 0.01 seconds (0.00 work units)\n",
      "Infeasible or unbounded model\n"
     ]
    }
   ],
   "source": [
    "m.optimize()"
   ]
  },
  {
   "cell_type": "code",
   "execution_count": null,
   "id": "f1c4a9b5-9e05-4836-806e-14f6bfc9d035",
   "metadata": {},
   "outputs": [],
   "source": []
  }
 ],
 "metadata": {
  "kernelspec": {
   "display_name": "rcell_rec",
   "language": "python",
   "name": "rcell_rec"
  },
  "language_info": {
   "codemirror_mode": {
    "name": "ipython",
    "version": 3
   },
   "file_extension": ".py",
   "mimetype": "text/x-python",
   "name": "python",
   "nbconvert_exporter": "python",
   "pygments_lexer": "ipython3",
   "version": "3.8.6"
  }
 },
 "nbformat": 4,
 "nbformat_minor": 5
}
