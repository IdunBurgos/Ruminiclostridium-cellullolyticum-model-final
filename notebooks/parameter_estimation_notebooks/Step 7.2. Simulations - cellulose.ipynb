{
 "cells": [
  {
   "cell_type": "markdown",
   "id": "85264f5a-812c-480c-8630-3f940b20a4b6",
   "metadata": {},
   "source": [
    "### Optimizing parameters for cellulose growth"
   ]
  },
  {
   "cell_type": "markdown",
   "id": "e63c8682-646d-4f94-983d-34b525fa55a6",
   "metadata": {
    "tags": []
   },
   "source": [
    "Data:\n",
    "- Cellulose concentration\n",
    "- Biomass concentration\n",
    "- Cellodextrin concentration: glc,cellb, and cell3\n",
    "- Acetate,lactate,ethanol concentration\n",
    "\n",
    "\n",
    "Parameters:\n",
    "- \n"
   ]
  },
  {
   "cell_type": "code",
   "execution_count": 1,
   "id": "631aafc5-0951-4648-940a-c5ad50a58b05",
   "metadata": {},
   "outputs": [],
   "source": [
    "import pandas as pd"
   ]
  },
  {
   "cell_type": "code",
   "execution_count": 2,
   "id": "e71d0f5f-65e7-4435-ad39-ee23cdca71d5",
   "metadata": {},
   "outputs": [],
   "source": [
    "import numpy as np\n",
    "from tqdm import tqdm\n",
    "\n",
    "from scipy.integrate import solve_ivp\n",
    "\n",
    "import matplotlib.pyplot as plt\n",
    "%matplotlib inline\n",
    "\n",
    "from collections import OrderedDict"
   ]
  },
  {
   "cell_type": "code",
   "execution_count": 3,
   "id": "941b41f8-7f3b-4955-831f-405b903918c4",
   "metadata": {},
   "outputs": [],
   "source": [
    "import cobra\n",
    "from cobra.io import load_model\n",
    "\n",
    "import pandas as pd\n",
    "import copy\n",
    "import numpy as np\n",
    "\n",
    "import molmass\n",
    "import reframed\n",
    "\n",
    "from scipy.interpolate import interp1d\n",
    "from sklearn.metrics import r2_score\n",
    "\n",
    "from scipy.optimize import minimize\n",
    "from sklearn.metrics import mean_squared_error\n",
    "from optimparallel import minimize_parallel\n",
    "from scipy.optimize import differential_evolution\n",
    "\n",
    "import matplotlib.colors as mcolors\n",
    "\n",
    "import sys\n",
    "sys.path.append(\"../functions/\")\n",
    "\n",
    "%load_ext autoreload\n",
    "%autoreload 2\n",
    "\n",
    "from dfba_param_opt_cobra_cellulose import read_model,optimize_parameters_inner_problem_cellulose\n",
    "\n",
    "from differential_evolution_process_results import process_results"
   ]
  },
  {
   "cell_type": "code",
   "execution_count": 4,
   "id": "486283e1-0fba-475d-9531-2e25b644ef20",
   "metadata": {},
   "outputs": [],
   "source": [
    "cellulose_exp = pd.read_csv(\"../input/Desvaux2001_batch_data/cellulose_g.csv\")\n",
    "molar_mass = 180.156  \n",
    "cellulose_exp[\"y mmol\"]= cellulose_exp[\" y\"].map(lambda x: (x/molar_mass)*1000)\n",
    "\n",
    "biomass_exp = pd.read_csv(\"../input/Desvaux2001_batch_data/biomass_mg.csv\")\n",
    "biomass_exp[\"y g\"] = biomass_exp[\" y\"].map(lambda x: x/1000)\n",
    "\n",
    "cellb_exp = pd.read_csv(\"../input/Desvaux2001_batch_data/cellobiose_mmol.csv\")\n",
    "glc_exp = pd.read_csv(\"../input/Desvaux2001_batch_data/glucose_mmol.csv\")\n",
    "\n",
    "acetate_exp = pd.read_csv(\"../input/Desvaux2001_batch_data/acetate_mmol.csv\")\n",
    "ethanol_exp = pd.read_csv(\"../input/Desvaux2001_batch_data/ethanol_mmol.csv\")\n",
    "lactate_exp = pd.read_csv(\"../input/Desvaux2001_batch_data/lactate_mmol.csv\")"
   ]
  },
  {
   "cell_type": "code",
   "execution_count": 5,
   "id": "f016f509-3b5c-4f45-9900-b9408c3a3220",
   "metadata": {},
   "outputs": [],
   "source": [
    "interp_func = interp1d(acetate_exp.x,acetate_exp[\" y\"], kind='linear', fill_value=\"extrapolate\")\n",
    "y_interp = interp_func(ethanol_exp.x.values)\n",
    "\n",
    "ratio1 = y_interp.sum()/ethanol_exp[\" y\"].sum()"
   ]
  },
  {
   "cell_type": "code",
   "execution_count": 6,
   "id": "52bebd03-6e91-48c4-a581-d7f24e5c4255",
   "metadata": {},
   "outputs": [],
   "source": [
    "y_interp = interp_func(lactate_exp.x.values)\n",
    "y_interp  \n",
    "\n",
    "ratio2 = y_interp.sum()/lactate_exp[\" y\"].sum()"
   ]
  },
  {
   "cell_type": "code",
   "execution_count": 7,
   "id": "cf2a5b65-5fe8-44c8-8314-52b47a1c70d5",
   "metadata": {},
   "outputs": [],
   "source": [
    "RcH10_final2 = reframed.load_cbmodel(\"../models/RcH10_final.xml\")\n",
    "\n",
    "RcH10_final2.add_ratio_constraint(\"R_EX_ac_e\",\"R_EX_etoh_e\",round(ratio1,2))\n",
    "RcH10_final2.add_ratio_constraint(\"R_EX_ac_e\",\"R_EX_lac__L_e\",round(ratio2,2))\n",
    "reframed.save_cbmodel(RcH10_final2,\"../models/RcH10_final_flux_ratio.xml\")"
   ]
  },
  {
   "cell_type": "markdown",
   "id": "38e7d2a1-51bb-4dff-8e32-242eaa5c8c62",
   "metadata": {},
   "source": [
    "### Additional functions"
   ]
  },
  {
   "cell_type": "code",
   "execution_count": 8,
   "id": "24fafd78-42b9-4f58-a5a2-5955651d3548",
   "metadata": {},
   "outputs": [],
   "source": [
    "from concurrent.futures import ProcessPoolExecutor\n",
    "\n",
    "# Initialize any shared variables if needed\n",
    "pop_min = []\n",
    "energies_min = []\n",
    "\n",
    "def maplike_fun(func, x, *args, max_workers=2):\n",
    "    # Store the current population\n",
    "    print(x)\n",
    "    pop_min.append(np.copy(x))\n",
    "\n",
    "    # Evaluate the objective function for each individual in parallel\n",
    "    e = []\n",
    "    with ProcessPoolExecutor(max_workers=max_workers) as executor:\n",
    "        # Submit each individual to the executor, running them in parallel\n",
    "        futures = [executor.submit(func, x_i, *args) for x_i in x]\n",
    "        \n",
    "        # Collect the results as they complete\n",
    "        for future in futures:\n",
    "            e.append(future.result())\n",
    "    \n",
    "    # Store the energies (objective function values)\n",
    "    energies_min.append(e)\n",
    "    \n",
    "    # Return the objective values, ensuring it matches the length of x\n",
    "    return e"
   ]
  },
  {
   "cell_type": "markdown",
   "id": "6a765cf6-32e2-4fe5-a582-8d8409bc806c",
   "metadata": {},
   "source": [
    "### Optimize parameters"
   ]
  },
  {
   "cell_type": "code",
   "execution_count": 9,
   "id": "c0687808-4626-4736-8c34-428604a835e0",
   "metadata": {
    "scrolled": true,
    "tags": []
   },
   "outputs": [],
   "source": [
    "\n",
    "glc_eq_dict =OrderedDict({\n",
    "\"EX_glc__D_e\": 1,\n",
    "\"EX_cellb_e\":2})\n",
    "\n",
    "C_dict =OrderedDict({\n",
    "\"Growth\":biomass_exp.loc[0,\"y g\"],\n",
    "\"EX_glc__D_e\": 0,\n",
    "\"EX_cellb_e\": 0,\n",
    "\"EX_ac_e\":0,\n",
    "\"EX_etoh_e\":0,\n",
    "\"EX_lac__L_e\":0\n",
    "})\n",
    "\n",
    "\n",
    "C_dict[\"EX_cellulose_e\"]= cellulose_exp.loc[0,\"y mmol\"]\n",
    "\n",
    "\n",
    "rxns = list(C_dict.keys())\n",
    "y0 = np.array(list(C_dict.values()))\n",
    "\n",
    "objective_dir = [\"max\", \"max\",\"max\",\"max\",\"max\",\"max\"]\n",
    "best_r2 = {}\n",
    "\n",
    "media = pd.read_csv('../input/media_db.tsv',sep='\\t')\n",
    "media = media.groupby('medium').agg({'compound': set})['compound'].to_dict()\n"
   ]
  },
  {
   "cell_type": "code",
   "execution_count": 10,
   "id": "d9fd41bb-c964-4e4f-9c35-ffd844993295",
   "metadata": {
    "scrolled": true,
    "tags": []
   },
   "outputs": [
    {
     "name": "stdout",
     "output_type": "stream",
     "text": [
      "Set parameter Username\n",
      "Academic license - for non-commercial use only - expires 2025-03-14\n",
      "[[ 6.33762871 15.37060018  3.96312493 18.41987247  7.81726462  8.48573371\n",
      "  19.57896172]\n",
      " [ 0.55802236 18.35522941  7.39123771  9.6669249   8.16177265 15.56562179\n",
      "  18.18251262]\n",
      " [ 7.37168327 11.17088732  3.28762712  8.13616254  1.41257219  4.99074745\n",
      "   5.08350575]\n",
      " [ 8.85191563 12.64590591  9.82485276  6.00568882  4.80209359 19.69991288\n",
      "  13.1067915 ]\n",
      " [ 5.55507077  4.6867478   0.25547596  1.5181518   7.44205146  2.64894542\n",
      "   6.00132258]\n",
      " [ 7.74427126 14.75639998  1.3637456   5.20041566  3.21865584 10.93064214\n",
      "  16.14441525]\n",
      " [ 4.10822067 15.98614185  5.62971482  1.02173038  3.89502454 11.84271738\n",
      "  12.37533319]\n",
      " [ 2.43277299 10.69212167  3.00204209 19.21897842  5.75389274 17.65031122\n",
      "   9.53331489]\n",
      " [ 9.65204602  0.83894651  0.97587589 11.59503738  1.1173651   1.282427\n",
      "  17.11516027]\n",
      " [ 5.93910809  7.91126158  6.68786356  1.87801381  9.40051881  9.8285887\n",
      "   2.66154888]\n",
      " [ 2.69358091 19.05091045  7.03215466 16.41928738  1.92067994  3.95295794\n",
      "  13.29486548]\n",
      " [ 7.00888961  2.57318694  2.10322114 12.08978554  4.96136025  7.8574987\n",
      "   9.14819766]\n",
      " [ 3.63488659  7.15876075  1.95756362 14.04463119  0.53252876 13.43187122\n",
      "  10.45648558]\n",
      " [ 2.3497728  18.04931133  6.23930892 17.35422678  0.90517025  6.73079486\n",
      "  14.88766064]\n",
      " [ 7.66596865  2.04913241  8.27929928  8.9652138   2.58921593 13.83919828\n",
      "  15.67222429]\n",
      " [ 0.96703818  5.96967063  4.7978165   7.61346432  7.58003578  0.74508974\n",
      "   9.92153655]\n",
      " [ 9.16362793  5.38374749  8.4622121   6.68558369  0.21890404 17.06749793\n",
      "   8.51405299]\n",
      " [ 8.30417625  3.39409672  0.9072673   4.28829182  9.93824081 18.14115817\n",
      "   7.86752795]\n",
      " [ 0.22332427 19.91762518  5.10643583 18.19942596  9.55152413  4.31099638\n",
      "  18.69968129]\n",
      " [ 3.21511062  1.68366198  0.45833114  9.90547549  4.44079301 18.70347949\n",
      "   1.52441135]\n",
      " [ 0.71788442  8.56128227  7.76603331 19.53281044  5.21838148 14.50297963\n",
      "   0.96057727]\n",
      " [ 9.82658038  3.70566033  6.00326984  3.75451899  6.90057283  6.98697848\n",
      "   3.8159578 ]\n",
      " [ 8.28189788  9.50428032  8.62288019 11.38336431  6.87546382 19.3954841\n",
      "   4.09546649]\n",
      " [ 1.62372106  8.75413356  9.09630864  0.34751187  6.04865245  9.29761634\n",
      "  17.60763918]\n",
      " [ 5.04696386  6.80766738  7.5715187  12.83324286  8.64469071  5.77613582\n",
      "   1.86652055]\n",
      " [ 4.74443946 10.07723899  4.60264973  5.41990923  1.71249852 16.30774651\n",
      "   0.21635737]\n",
      " [ 6.0488386  11.56323385  9.49894976 15.36539491  6.51192651  1.93421825\n",
      "  11.92565205]\n",
      " [ 6.72801863 16.82614118  3.59353234 10.44077149  8.49451685 15.28981049\n",
      "   7.10096699]\n",
      " [ 8.96728904 17.62110803  6.33516176 14.60015135  2.32066914  6.20460761\n",
      "   6.57462046]\n",
      " [ 5.19432787 13.52945329  4.28006517  3.03513549  5.96695357  8.77854836\n",
      "  11.03483295]\n",
      " [ 3.78896564 12.17052923  5.27492017 17.08695946  2.65863491 12.24305672\n",
      "   3.22714761]\n",
      " [ 2.04874996 16.34424162  2.64397528 13.52695903  4.30577927  0.28781894\n",
      "  19.22813723]\n",
      " [ 1.29374376 13.99848651  2.79395034  7.23612744  3.76948045  3.49127333\n",
      "  14.58802907]\n",
      " [ 3.07113155  0.11474091  9.27449509  2.48899115  8.92678164 12.72116399\n",
      "   5.46808465]\n",
      " [ 4.49654622  4.38942121  1.67834404 15.82780454  3.16391335 10.49562116\n",
      "  14.0017006 ]]\n",
      "Set parameter Username\n",
      "Set parameter Username\n",
      "Academic license - for non-commercial use only - expires 2025-03-14\n",
      "Academic license - for non-commercial use only - expires 2025-03-14\n",
      "Read LP format model from file /var/folders/mc/1rm74nkd4s78l46281nyt5wm0000gn/T/tmp_tvy2gub.lp\n",
      "Reading time = 0.01 seconds\n",
      ": 1067 rows, 5248 columns, 15982 nonzeros\n",
      "Read LP format model from file /var/folders/mc/1rm74nkd4s78l46281nyt5wm0000gn/T/tmpuprqheca.lp\n",
      "Reading time = 0.01 seconds\n",
      ": 1067 rows, 5248 columns, 15982 nonzeros\n",
      "[ 6.33762871 15.37060018  3.96312493 18.41987247  7.81726462  8.48573371\n",
      " 19.57896172]\n",
      "penalty: 524.4881294763244\n",
      "Read LP format model from file /var/folders/mc/1rm74nkd4s78l46281nyt5wm0000gn/T/tmpju06y99a.lp\n",
      "Reading time = 0.01 seconds\n",
      ": 1067 rows, 5248 columns, 15982 nonzeros\n",
      "[ 0.55802236 18.35522941  7.39123771  9.6669249   8.16177265 15.56562179\n",
      " 18.18251262]\n",
      "penalty: 518.0953547617563\n",
      "Read LP format model from file /var/folders/mc/1rm74nkd4s78l46281nyt5wm0000gn/T/tmpeiz1rg9u.lp\n",
      "Reading time = 0.01 seconds\n",
      ": 1067 rows, 5248 columns, 15982 nonzeros\n",
      "[ 7.37168327 11.17088732  3.28762712  8.13616254  1.41257219  4.99074745\n",
      "  5.08350575]\n",
      "penalty: 748.627860169311\n",
      "Read LP format model from file /var/folders/mc/1rm74nkd4s78l46281nyt5wm0000gn/T/tmp_5iubzce.lp\n",
      "Reading time = 0.01 seconds\n",
      ": 1067 rows, 5248 columns, 15982 nonzeros\n",
      "[ 8.85191563 12.64590591  9.82485276  6.00568882  4.80209359 19.69991288\n",
      " 13.1067915 ]\n",
      "penalty: 485.8931013295294\n",
      "Read LP format model from file /var/folders/mc/1rm74nkd4s78l46281nyt5wm0000gn/T/tmpvcbc3_j1.lp\n",
      "Reading time = 0.01 seconds\n",
      ": 1067 rows, 5248 columns, 15982 nonzeros\n",
      "[5.55507077 4.6867478  0.25547596 1.5181518  7.44205146 2.64894542\n",
      " 6.00132258]\n",
      "penalty: 372.4942137402532\n",
      "Read LP format model from file /var/folders/mc/1rm74nkd4s78l46281nyt5wm0000gn/T/tmpv_4c8f_7.lp\n",
      "Reading time = 0.01 seconds\n",
      ": 1067 rows, 5248 columns, 15982 nonzeros\n",
      "[ 7.74427126 14.75639998  1.3637456   5.20041566  3.21865584 10.93064214\n",
      " 16.14441525]\n",
      "penalty: 690.3515553086816\n",
      "Read LP format model from file /var/folders/mc/1rm74nkd4s78l46281nyt5wm0000gn/T/tmpcv38lqsp.lp\n",
      "Reading time = 0.01 seconds\n",
      ": 1067 rows, 5248 columns, 15982 nonzeros\n",
      "[ 2.43277299 10.69212167  3.00204209 19.21897842  5.75389274 17.65031122\n",
      "  9.53331489]\n",
      "penalty: 639.5965864324723\n",
      "Read LP format model from file /var/folders/mc/1rm74nkd4s78l46281nyt5wm0000gn/T/tmp0cw7757z.lp\n",
      "Reading time = 0.01 seconds\n",
      ": 1067 rows, 5248 columns, 15982 nonzeros\n",
      "[ 4.10822067 15.98614185  5.62971482  1.02173038  3.89502454 11.84271738\n",
      " 12.37533319]\n",
      "penalty: 430.9483337133029\n",
      "Read LP format model from file /var/folders/mc/1rm74nkd4s78l46281nyt5wm0000gn/T/tmpgybshn7f.lp\n",
      "Reading time = 0.01 seconds\n",
      ": 1067 rows, 5248 columns, 15982 nonzeros\n",
      "[ 9.65204602  0.83894651  0.97587589 11.59503738  1.1173651   1.282427\n",
      " 17.11516027]\n",
      "penalty: 752.8494033872655\n",
      "Read LP format model from file /var/folders/mc/1rm74nkd4s78l46281nyt5wm0000gn/T/tmptf9q7w7e.lp\n",
      "Reading time = 0.01 seconds\n",
      ": 1067 rows, 5248 columns, 15982 nonzeros\n",
      "[ 2.69358091 19.05091045  7.03215466 16.41928738  1.92067994  3.95295794\n",
      " 13.29486548]\n",
      "penalty: 726.1602846778853\n",
      "Read LP format model from file /var/folders/mc/1rm74nkd4s78l46281nyt5wm0000gn/T/tmp66_zyf2e.lp\n",
      "Reading time = 0.01 seconds\n",
      ": 1067 rows, 5248 columns, 15982 nonzeros\n",
      "[ 7.00888961  2.57318694  2.10322114 12.08978554  4.96136025  7.8574987\n",
      "  9.14819766]\n",
      "penalty: 450.4917900275762\n",
      "Read LP format model from file /var/folders/mc/1rm74nkd4s78l46281nyt5wm0000gn/T/tmpai20iqrm.lp\n",
      "Reading time = 0.01 seconds\n",
      ": 1067 rows, 5248 columns, 15982 nonzeros\n",
      "[5.93910809 7.91126158 6.68786356 1.87801381 9.40051881 9.8285887\n",
      " 2.66154888]\n",
      "penalty: 5269.684120344538\n",
      "Read LP format model from file /var/folders/mc/1rm74nkd4s78l46281nyt5wm0000gn/T/tmp2hktw5_p.lp\n",
      "Reading time = 0.01 seconds\n",
      ": 1067 rows, 5248 columns, 15982 nonzeros\n",
      "[ 3.63488659  7.15876075  1.95756362 14.04463119  0.53252876 13.43187122\n",
      " 10.45648558]\n",
      "penalty: 795.1896332459178\n",
      "Read LP format model from file /var/folders/mc/1rm74nkd4s78l46281nyt5wm0000gn/T/tmpbx6btpd5.lp\n",
      "Reading time = 0.01 seconds\n",
      ": 1067 rows, 5248 columns, 15982 nonzeros\n",
      "[ 2.3497728  18.04931133  6.23930892 17.35422678  0.90517025  6.73079486\n",
      " 14.88766064]\n",
      "penalty: 775.272177439811\n",
      "Read LP format model from file /var/folders/mc/1rm74nkd4s78l46281nyt5wm0000gn/T/tmpb51h6k4b.lp\n",
      "Reading time = 0.01 seconds\n",
      ": 1067 rows, 5248 columns, 15982 nonzeros\n",
      "[ 7.66596865  2.04913241  8.27929928  8.9652138   2.58921593 13.83919828\n",
      " 15.67222429]\n",
      "penalty: 671.5288481418163\n",
      "Read LP format model from file /var/folders/mc/1rm74nkd4s78l46281nyt5wm0000gn/T/tmpsydnho17.lp\n",
      "Reading time = 0.01 seconds\n",
      ": 1067 rows, 5248 columns, 15982 nonzeros\n",
      "[0.96703818 5.96967063 4.7978165  7.61346432 7.58003578 0.74508974\n",
      " 9.92153655]\n",
      "penalty: 375.1500306494437\n",
      "Read LP format model from file /var/folders/mc/1rm74nkd4s78l46281nyt5wm0000gn/T/tmpdj2tfpa1.lp\n",
      "Reading time = 0.01 seconds\n",
      ": 1067 rows, 5248 columns, 15982 nonzeros\n",
      "[ 9.16362793  5.38374749  8.4622121   6.68558369  0.21890404 17.06749793\n",
      "  8.51405299]\n",
      "penalty: 808.1599456263832\n",
      "Read LP format model from file /var/folders/mc/1rm74nkd4s78l46281nyt5wm0000gn/T/tmp0f45l08g.lp\n",
      "Reading time = 0.01 seconds\n",
      ": 1067 rows, 5248 columns, 15982 nonzeros\n",
      "[ 0.22332427 19.91762518  5.10643583 18.19942596  9.55152413  4.31099638\n",
      " 18.69968129]\n",
      "penalty: 518.625167753666\n",
      "Read LP format model from file /var/folders/mc/1rm74nkd4s78l46281nyt5wm0000gn/T/tmpupipsuzf.lp\n",
      "Reading time = 0.01 seconds\n",
      ": 1067 rows, 5248 columns, 15982 nonzeros\n",
      "[ 8.30417625  3.39409672  0.9072673   4.28829182  9.93824081 18.14115817\n",
      "  7.86752795]\n",
      "penalty: 115.17827374431945\n",
      "Read LP format model from file /var/folders/mc/1rm74nkd4s78l46281nyt5wm0000gn/T/tmp989wtd4d.lp\n",
      "Reading time = 0.01 seconds\n",
      ": 1067 rows, 5248 columns, 15982 nonzeros\n",
      "[ 0.71788442  8.56128227  7.76603331 19.53281044  5.21838148 14.50297963\n",
      "  0.96057727]\n",
      "penalty: 657.9972233170856\n",
      "Read LP format model from file /var/folders/mc/1rm74nkd4s78l46281nyt5wm0000gn/T/tmp6x70vobg.lp\n",
      "Reading time = 0.01 seconds\n",
      ": 1067 rows, 5248 columns, 15982 nonzeros\n",
      "[ 3.21511062  1.68366198  0.45833114  9.90547549  4.44079301 18.70347949\n",
      "  1.52441135]\n",
      "penalty: 676.0335473667744\n",
      "Read LP format model from file /var/folders/mc/1rm74nkd4s78l46281nyt5wm0000gn/T/tmpvq3d6vmv.lp\n",
      "Reading time = 0.01 seconds\n",
      ": 1067 rows, 5248 columns, 15982 nonzeros\n",
      "[ 8.28189788  9.50428032  8.62288019 11.38336431  6.87546382 19.3954841\n",
      "  4.09546649]\n",
      "penalty: 354.0205876413268\n",
      "Read LP format model from file /var/folders/mc/1rm74nkd4s78l46281nyt5wm0000gn/T/tmp0ya3y08a.lp\n",
      "Reading time = 0.01 seconds\n",
      ": 1067 rows, 5248 columns, 15982 nonzeros\n",
      "[9.82658038 3.70566033 6.00326984 3.75451899 6.90057283 6.98697848\n",
      " 3.8159578 ]\n",
      "penalty: 4112.6070426267715\n",
      "Read LP format model from file /var/folders/mc/1rm74nkd4s78l46281nyt5wm0000gn/T/tmppum5lxf5.lp\n",
      "Reading time = 0.01 seconds\n",
      ": 1067 rows, 5248 columns, 15982 nonzeros\n",
      "[ 5.04696386  6.80766738  7.5715187  12.83324286  8.64469071  5.77613582\n",
      "  1.86652055]\n",
      "penalty: 288.3006135547541\n",
      "Read LP format model from file /var/folders/mc/1rm74nkd4s78l46281nyt5wm0000gn/T/tmp0my2_v3h.lp\n",
      "Reading time = 0.01 seconds\n",
      ": 1067 rows, 5248 columns, 15982 nonzeros\n",
      "[ 1.62372106  8.75413356  9.09630864  0.34751187  6.04865245  9.29761634\n",
      " 17.60763918]\n",
      "penalty: 1178.7310059312201\n",
      "Read LP format model from file /var/folders/mc/1rm74nkd4s78l46281nyt5wm0000gn/T/tmpzt9yyd74.lp\n",
      "Reading time = 0.01 seconds\n",
      ": 1067 rows, 5248 columns, 15982 nonzeros\n",
      "[ 4.74443946 10.07723899  4.60264973  5.41990923  1.71249852 16.30774651\n",
      "  0.21635737]\n",
      "penalty: 759.6312490625334\n",
      "Read LP format model from file /var/folders/mc/1rm74nkd4s78l46281nyt5wm0000gn/T/tmpy7psvpw5.lp\n",
      "Reading time = 0.01 seconds\n",
      ": 1067 rows, 5248 columns, 15982 nonzeros\n",
      "[ 6.0488386  11.56323385  9.49894976 15.36539491  6.51192651  1.93421825\n",
      " 11.92565205]\n",
      "penalty: 181.1315203290352\n",
      "Read LP format model from file /var/folders/mc/1rm74nkd4s78l46281nyt5wm0000gn/T/tmpr9f7ixt6.lp\n",
      "Reading time = 0.01 seconds\n",
      ": 1067 rows, 5248 columns, 15982 nonzeros\n",
      "[ 6.72801863 16.82614118  3.59353234 10.44077149  8.49451685 15.28981049\n",
      "  7.10096699]\n",
      "penalty: 516.0001179488008\n",
      "Read LP format model from file /var/folders/mc/1rm74nkd4s78l46281nyt5wm0000gn/T/tmp0z_e3wk2.lp\n",
      "Reading time = 0.01 seconds\n",
      ": 1067 rows, 5248 columns, 15982 nonzeros\n",
      "[ 8.96728904 17.62110803  6.33516176 14.60015135  2.32066914  6.20460761\n",
      "  6.57462046]\n",
      "penalty: 712.3936368450188\n",
      "Read LP format model from file /var/folders/mc/1rm74nkd4s78l46281nyt5wm0000gn/T/tmp4v3iil4d.lp\n",
      "Reading time = 0.01 seconds\n",
      ": 1067 rows, 5248 columns, 15982 nonzeros\n",
      "[ 5.19432787 13.52945329  4.28006517  3.03513549  5.96695357  8.77854836\n",
      " 11.03483295]\n",
      "penalty: 220.22545409694487\n",
      "Read LP format model from file /var/folders/mc/1rm74nkd4s78l46281nyt5wm0000gn/T/tmpa4wwik7g.lp\n",
      "Reading time = 0.01 seconds\n",
      ": 1067 rows, 5248 columns, 15982 nonzeros\n",
      "[ 3.78896564 12.17052923  5.27492017 17.08695946  2.65863491 12.24305672\n",
      "  3.22714761]\n",
      "penalty: 715.0673580089634\n",
      "Read LP format model from file /var/folders/mc/1rm74nkd4s78l46281nyt5wm0000gn/T/tmp77ekqoh3.lp\n",
      "Reading time = 0.01 seconds\n",
      ": 1067 rows, 5248 columns, 15982 nonzeros\n",
      "[ 2.04874996 16.34424162  2.64397528 13.52695903  4.30577927  0.28781894\n",
      " 19.22813723]\n",
      "penalty: 621.8792769983584\n",
      "Read LP format model from file /var/folders/mc/1rm74nkd4s78l46281nyt5wm0000gn/T/tmpjm9bmv3q.lp\n",
      "Reading time = 0.01 seconds\n",
      ": 1067 rows, 5248 columns, 15982 nonzeros\n",
      "[ 1.29374376 13.99848651  2.79395034  7.23612744  3.76948045  3.49127333\n",
      " 14.58802907]\n",
      "penalty: 652.694069755338\n",
      "Read LP format model from file /var/folders/mc/1rm74nkd4s78l46281nyt5wm0000gn/T/tmpfdvcnsdc.lp\n",
      "Reading time = 0.01 seconds\n",
      ": 1067 rows, 5248 columns, 15982 nonzeros\n",
      "[ 4.49654622  4.38942121  1.67834404 15.82780454  3.16391335 10.49562116\n",
      " 14.0017006 ]\n",
      "penalty: 689.6437690540464\n",
      "[ 3.07113155  0.11474091  9.27449509  2.48899115  8.92678164 12.72116399\n",
      "  5.46808465]\n",
      "penalty: 9540.429759448125\n",
      "[[ 8.30417625  6.21783877  5.22438996  4.28829182  4.95919524  7.44668973\n",
      "   7.55771884]\n",
      " [ 4.79986997 14.85563065  7.39123771  2.00107069  8.16177265  0.56089578\n",
      "  18.18251262]\n",
      " [ 7.37168327 11.17088732  3.41961661  8.13616254  8.71094958  4.73271261\n",
      "  18.15470442]\n",
      " [ 2.02452349 13.41370233  6.99519357  1.29230916  2.7127631  14.10555689\n",
      "  13.1067915 ]\n",
      " [ 1.87056368 16.15527237  8.58258122 12.51737844  7.44205146 11.1221251\n",
      "   1.42017198]\n",
      " [ 7.23295639 17.79078102  8.9258135  14.59802865  3.21865584 13.90110046\n",
      "  18.11132712]\n",
      " [ 3.50212985 19.02710912  6.94864902  1.02173038  6.7275517  11.84271738\n",
      "  12.37533319]\n",
      " [ 2.43277299  6.29717345  3.28945328  7.32335488  5.75389274 17.65031122\n",
      "   1.83012522]\n",
      " [ 0.35500161  0.83894651  9.198098    4.38892552  5.84252105  1.282427\n",
      "  19.42636118]\n",
      " [ 1.20427791  6.46407826  7.76981468  4.80797051  5.64935955 12.07471478\n",
      "  17.49053079]\n",
      " [ 2.69358091 16.18727484  5.48480747 17.10778535  1.92067994 17.71440289\n",
      "  19.13162339]\n",
      " [ 3.48066439  1.52771534  2.03311403 12.08978554  0.31629217 18.98856144\n",
      "   9.14819766]\n",
      " [ 3.83878305 15.13429491  1.95756362  5.83386378  0.57447603 13.43187122\n",
      "   9.84537442]\n",
      " [ 8.13956213 13.33918611  5.9216165  17.98346919  2.62104569  4.91981761\n",
      "  16.74897144]\n",
      " [ 4.90506566 15.21321962  8.32588188  4.09046217  5.35276091 12.81044125\n",
      "  16.92995172]\n",
      " [ 8.4420561  11.67360143  5.91426876  0.4671012   5.25131492 17.57729897\n",
      "   4.63034213]\n",
      " [ 7.46241094  8.70159802  8.4622121  11.86395724  0.21890404 17.7429191\n",
      "   1.21234012]\n",
      " [ 6.60393305  8.03832422  4.24805176 18.41987247  7.81726462  1.2647685\n",
      "  19.57896172]\n",
      " [ 8.71661142  0.790593    6.30025299  6.46230121  3.35190184 11.41196071\n",
      "  18.69968129]\n",
      " [ 7.81193445  1.68366198  8.13179149  9.90547549  8.11348732  9.32567874\n",
      "   5.51225058]\n",
      " [ 1.15863666  8.4367927   9.17292282  4.21946467  4.31130008 18.45559252\n",
      "   1.82776437]\n",
      " [ 9.82658038  8.52704369  1.66041409 10.0299033   5.10055159  2.417778\n",
      "   8.98796067]\n",
      " [ 5.07529817 16.74045327  4.91907055 11.38336431  7.88291953 11.14612944\n",
      "   8.27794069]\n",
      " [ 6.80729294 13.59064587  7.52405828 17.1600855   7.2288576   0.42740302\n",
      "  16.30370874]\n",
      " [ 6.54764052  8.73685819  7.5715187  12.83324286  8.64469071 14.91105878\n",
      "  12.1431627 ]\n",
      " [ 8.26422125 10.07723899  4.60264973  2.84916632  1.71249852  4.73269322\n",
      "   0.21635737]\n",
      " [ 8.08841348 11.56323385  3.71545116 15.36539491  6.51192651  7.76493599\n",
      "  19.35272889]\n",
      " [ 6.40676903  6.27537189  3.59353234 10.44077149  2.43500665 15.28981049\n",
      "  17.81273358]\n",
      " [ 3.6721892   5.2568178   3.237562    2.07818374  2.32066914  0.30317881\n",
      "   0.51556918]\n",
      " [ 5.19432787 13.52945329  2.73742739  8.365996    5.96695357 10.27548808\n",
      "  14.05567493]\n",
      " [ 3.78896564  4.64150868  5.75139942  6.84786168  8.38208601 16.2585148\n",
      "  18.22993877]\n",
      " [ 2.04874996  0.6880073   1.77799569  1.66822899  4.30577927  0.40909471\n",
      "   6.51706694]\n",
      " [ 4.07857013 12.59004134  2.79395034  5.74861631  5.12016519  8.45311662\n",
      "  12.48960664]\n",
      " [ 7.26553132 19.71869469  4.04016368  2.48899115  8.92678164 11.09588227\n",
      "   5.46808465]\n",
      " [ 4.33089321 15.20498808  0.29019883 10.55421251  7.6167013  10.49562116\n",
      "  14.0017006 ]]\n",
      "Set parameter Username\n",
      "Set parameter Username\n",
      "Academic license - for non-commercial use only - expires 2025-03-14\n",
      "Academic license - for non-commercial use only - expires 2025-03-14\n",
      "Read LP format model from file /var/folders/mc/1rm74nkd4s78l46281nyt5wm0000gn/T/tmprf1ujtdd.lp\n",
      "Read LP format model from file /var/folders/mc/1rm74nkd4s78l46281nyt5wm0000gn/T/tmp9yfi4i6d.lp\n",
      "Reading time = 0.01 seconds\n",
      "Reading time = 0.01 seconds\n",
      ": 1067 rows, 5248 columns, 15982 nonzeros\n",
      ": 1067 rows, 5248 columns, 15982 nonzeros\n",
      "[8.30417625 6.21783877 5.22438996 4.28829182 4.95919524 7.44668973\n",
      " 7.55771884]\n",
      "penalty: 67.11907032185486\n",
      "Read LP format model from file /var/folders/mc/1rm74nkd4s78l46281nyt5wm0000gn/T/tmpw5eag_2q.lp\n",
      "Reading time = 0.01 seconds\n",
      ": 1067 rows, 5248 columns, 15982 nonzeros\n",
      "[ 7.37168327 11.17088732  3.41961661  8.13616254  8.71094958  4.73271261\n",
      " 18.15470442]\n",
      "penalty: 189.3322421117584\n",
      "Read LP format model from file /var/folders/mc/1rm74nkd4s78l46281nyt5wm0000gn/T/tmp5v4lt42g.lp\n",
      "Reading time = 0.01 seconds\n",
      ": 1067 rows, 5248 columns, 15982 nonzeros\n"
     ]
    },
    {
     "name": "stderr",
     "output_type": "stream",
     "text": [
      "capi_return is NULL\n",
      "Call-back cb_f_in_lsoda__user__routines failed.\n"
     ]
    },
    {
     "name": "stdout",
     "output_type": "stream",
     "text": [
      "[ 2.02452349 13.41370233  6.99519357  1.29230916  2.7127631  14.10555689\n",
      " 13.1067915 ]\n",
      "had issues with this combination: [ 2.02452349 13.41370233  6.99519357  1.29230916  2.7127631  14.10555689\n",
      " 13.1067915 ]\n",
      "Read LP format model from file /var/folders/mc/1rm74nkd4s78l46281nyt5wm0000gn/T/tmpyb8t_pls.lp\n",
      "Reading time = 0.01 seconds\n",
      ": 1067 rows, 5248 columns, 15982 nonzeros\n",
      "[ 4.79986997 14.85563065  7.39123771  2.00107069  8.16177265  0.56089578\n",
      " 18.18251262]\n",
      "penalty: 4356.500960860366\n",
      "Read LP format model from file /var/folders/mc/1rm74nkd4s78l46281nyt5wm0000gn/T/tmp4k_hhds9.lp\n",
      "Reading time = 0.01 seconds\n",
      ": 1067 rows, 5248 columns, 15982 nonzeros\n",
      "[ 1.87056368 16.15527237  8.58258122 12.51737844  7.44205146 11.1221251\n",
      "  1.42017198]\n",
      "penalty: 538.7450356305867\n",
      "Read LP format model from file /var/folders/mc/1rm74nkd4s78l46281nyt5wm0000gn/T/tmpcngprdf4.lp\n",
      "Reading time = 0.01 seconds\n",
      ": 1067 rows, 5248 columns, 15982 nonzeros\n",
      "[ 7.23295639 17.79078102  8.9258135  14.59802865  3.21865584 13.90110046\n",
      " 18.11132712]\n",
      "penalty: 695.9033210573391\n",
      "Read LP format model from file /var/folders/mc/1rm74nkd4s78l46281nyt5wm0000gn/T/tmpujsd90j7.lp\n",
      "Reading time = 0.01 seconds\n",
      ": 1067 rows, 5248 columns, 15982 nonzeros\n",
      "[ 2.43277299  6.29717345  3.28945328  7.32335488  5.75389274 17.65031122\n",
      "  1.83012522]\n",
      "penalty: 639.7434099501061\n",
      "Read LP format model from file /var/folders/mc/1rm74nkd4s78l46281nyt5wm0000gn/T/tmpjdj4af0o.lp\n",
      "Reading time = 0.01 seconds\n",
      ": 1067 rows, 5248 columns, 15982 nonzeros\n",
      "[ 3.50212985 19.02710912  6.94864902  1.02173038  6.7275517  11.84271738\n",
      " 12.37533319]\n",
      "penalty: 849.5257994055011\n",
      "Read LP format model from file /var/folders/mc/1rm74nkd4s78l46281nyt5wm0000gn/T/tmpme7ju5fl.lp\n",
      "Reading time = 0.01 seconds\n",
      ": 1067 rows, 5248 columns, 15982 nonzeros\n",
      "[ 0.35500161  0.83894651  9.198098    4.38892552  5.84252105  1.282427\n",
      " 19.42636118]\n",
      "penalty: 322.81010292139615\n",
      "Read LP format model from file /var/folders/mc/1rm74nkd4s78l46281nyt5wm0000gn/T/tmpa55sz_90.lp\n",
      "Reading time = 0.01 seconds\n",
      ": 1067 rows, 5248 columns, 15982 nonzeros\n",
      "[ 2.69358091 16.18727484  5.48480747 17.10778535  1.92067994 17.71440289\n",
      " 19.13162339]\n",
      "penalty: 748.0567010906478\n",
      "Read LP format model from file /var/folders/mc/1rm74nkd4s78l46281nyt5wm0000gn/T/tmpf18sz5ag.lp\n",
      "Reading time = 0.01 seconds\n",
      ": 1067 rows, 5248 columns, 15982 nonzeros\n",
      "[ 1.20427791  6.46407826  7.76981468  4.80797051  5.64935955 12.07471478\n",
      " 17.49053079]\n",
      "penalty: 421.5211528085885\n",
      "Read LP format model from file /var/folders/mc/1rm74nkd4s78l46281nyt5wm0000gn/T/tmp2cc9_b8j.lp\n",
      "Reading time = 0.01 seconds\n",
      ": 1067 rows, 5248 columns, 15982 nonzeros\n",
      "[ 3.83878305 15.13429491  1.95756362  5.83386378  0.57447603 13.43187122\n",
      "  9.84537442]\n",
      "penalty: 793.6532438389526\n",
      "Read LP format model from file /var/folders/mc/1rm74nkd4s78l46281nyt5wm0000gn/T/tmpr9qvyk1l.lp\n",
      "Reading time = 0.01 seconds\n",
      ": 1067 rows, 5248 columns, 15982 nonzeros\n",
      "[ 3.48066439  1.52771534  2.03311403 12.08978554  0.31629217 18.98856144\n",
      "  9.14819766]\n",
      "penalty: 804.7704459404803\n",
      "Read LP format model from file /var/folders/mc/1rm74nkd4s78l46281nyt5wm0000gn/T/tmp6qh13orr.lp\n",
      "Reading time = 0.01 seconds\n",
      ": 1067 rows, 5248 columns, 15982 nonzeros\n",
      "[ 8.13956213 13.33918611  5.9216165  17.98346919  2.62104569  4.91981761\n",
      " 16.74897144]\n",
      "penalty: 696.5572207053377\n",
      "Read LP format model from file /var/folders/mc/1rm74nkd4s78l46281nyt5wm0000gn/T/tmp8yozicem.lp\n",
      "Reading time = 0.01 seconds\n",
      ": 1067 rows, 5248 columns, 15982 nonzeros\n",
      "[ 4.90506566 15.21321962  8.32588188  4.09046217  5.35276091 12.81044125\n",
      " 16.92995172]\n",
      "penalty: 299.26455248555885\n",
      "Read LP format model from file /var/folders/mc/1rm74nkd4s78l46281nyt5wm0000gn/T/tmpsi37qusp.lp\n",
      "Reading time = 0.01 seconds\n",
      ": 1067 rows, 5248 columns, 15982 nonzeros\n",
      "[ 7.46241094  8.70159802  8.4622121  11.86395724  0.21890404 17.7429191\n",
      "  1.21234012]\n",
      "penalty: 808.6039686519281\n",
      "Read LP format model from file /var/folders/mc/1rm74nkd4s78l46281nyt5wm0000gn/T/tmp0fasnw15.lp\n",
      "Reading time = 0.01 seconds\n",
      ": 1067 rows, 5248 columns, 15982 nonzeros\n",
      "[ 8.4420561  11.67360143  5.91426876  0.4671012   5.25131492 17.57729897\n",
      "  4.63034213]\n",
      "penalty: 184.56898140049375\n",
      "Read LP format model from file /var/folders/mc/1rm74nkd4s78l46281nyt5wm0000gn/T/tmppwf12t8n.lp\n",
      "Reading time = 0.01 seconds\n",
      ": 1067 rows, 5248 columns, 15982 nonzeros\n",
      "[ 6.60393305  8.03832422  4.24805176 18.41987247  7.81726462  1.2647685\n",
      " 19.57896172]\n",
      "penalty: 244.82137160880075\n",
      "Read LP format model from file /var/folders/mc/1rm74nkd4s78l46281nyt5wm0000gn/T/tmpq77zj9wu.lp\n",
      "Reading time = 0.01 seconds\n",
      ": 1067 rows, 5248 columns, 15982 nonzeros\n",
      "[ 8.71661142  0.790593    6.30025299  6.46230121  3.35190184 11.41196071\n",
      " 18.69968129]\n",
      "penalty: 383.14673127239394\n",
      "Read LP format model from file /var/folders/mc/1rm74nkd4s78l46281nyt5wm0000gn/T/tmp459j43c3.lp\n",
      "Reading time = 0.01 seconds\n",
      ": 1067 rows, 5248 columns, 15982 nonzeros\n",
      "[ 1.15863666  8.4367927   9.17292282  4.21946467  4.31130008 18.45559252\n",
      "  1.82776437]\n",
      "penalty: 629.8185194551995\n",
      "Read LP format model from file /var/folders/mc/1rm74nkd4s78l46281nyt5wm0000gn/T/tmp2m33z0z4.lp\n",
      "Reading time = 0.01 seconds\n",
      ": 1067 rows, 5248 columns, 15982 nonzeros\n",
      "[7.81193445 1.68366198 8.13179149 9.90547549 8.11348732 9.32567874\n",
      " 5.51225058]\n",
      "penalty: 4251.769345833005\n",
      "Read LP format model from file /var/folders/mc/1rm74nkd4s78l46281nyt5wm0000gn/T/tmpfedzfm65.lp\n",
      "Reading time = 0.01 seconds\n",
      ": 1067 rows, 5248 columns, 15982 nonzeros\n",
      "[ 9.82658038  8.52704369  1.66041409 10.0299033   5.10055159  2.417778\n",
      "  8.98796067]\n",
      "penalty: 514.1262264472733\n",
      "Read LP format model from file /var/folders/mc/1rm74nkd4s78l46281nyt5wm0000gn/T/tmphfedrbxf.lp\n",
      "Reading time = 0.01 seconds\n",
      ": 1067 rows, 5248 columns, 15982 nonzeros\n",
      "[ 5.07529817 16.74045327  4.91907055 11.38336431  7.88291953 11.14612944\n",
      "  8.27794069]\n",
      "penalty: 503.7363859042607\n",
      "Read LP format model from file /var/folders/mc/1rm74nkd4s78l46281nyt5wm0000gn/T/tmpgq4hcade.lp\n",
      "Reading time = 0.01 seconds\n",
      ": 1067 rows, 5248 columns, 15982 nonzeros\n",
      "[ 6.80729294 13.59064587  7.52405828 17.1600855   7.2288576   0.42740302\n",
      " 16.30370874]\n",
      "penalty: 217.65747539698657\n",
      "Read LP format model from file /var/folders/mc/1rm74nkd4s78l46281nyt5wm0000gn/T/tmprvoyjb6f.lp\n",
      "Reading time = 0.01 seconds\n",
      ": 1067 rows, 5248 columns, 15982 nonzeros\n",
      "[ 6.54764052  8.73685819  7.5715187  12.83324286  8.64469071 14.91105878\n",
      " 12.1431627 ]\n",
      "penalty: 126.40171922707498\n",
      "Read LP format model from file /var/folders/mc/1rm74nkd4s78l46281nyt5wm0000gn/T/tmpi9ets8z3.lp\n",
      "Reading time = 0.01 seconds\n",
      ": 1067 rows, 5248 columns, 15982 nonzeros\n",
      "[ 8.26422125 10.07723899  4.60264973  2.84916632  1.71249852  4.73269322\n",
      "  0.21635737]\n",
      "penalty: 736.0961367628319\n",
      "Read LP format model from file /var/folders/mc/1rm74nkd4s78l46281nyt5wm0000gn/T/tmplalzvzok.lp\n",
      "Reading time = 0.01 seconds\n",
      ": 1067 rows, 5248 columns, 15982 nonzeros\n",
      "[ 8.08841348 11.56323385  3.71545116 15.36539491  6.51192651  7.76493599\n",
      " 19.35272889]\n",
      "penalty: 513.3564158110445\n",
      "Read LP format model from file /var/folders/mc/1rm74nkd4s78l46281nyt5wm0000gn/T/tmpuoifsfs2.lp\n",
      "Reading time = 0.01 seconds\n",
      ": 1067 rows, 5248 columns, 15982 nonzeros\n",
      "[ 6.40676903  6.27537189  3.59353234 10.44077149  2.43500665 15.28981049\n",
      " 17.81273358]\n",
      "penalty: 723.6748683970842\n",
      "Read LP format model from file /var/folders/mc/1rm74nkd4s78l46281nyt5wm0000gn/T/tmp31h_fgtr.lp\n",
      "Reading time = 0.01 seconds\n",
      ": 1067 rows, 5248 columns, 15982 nonzeros\n",
      "[3.6721892  5.2568178  3.237562   2.07818374 2.32066914 0.30317881\n",
      " 0.51556918]\n",
      "penalty: 663.1873702413106\n",
      "Read LP format model from file /var/folders/mc/1rm74nkd4s78l46281nyt5wm0000gn/T/tmprjf_s8w0.lp\n",
      "Reading time = 0.01 seconds\n",
      ": 1067 rows, 5248 columns, 15982 nonzeros\n",
      "[ 5.19432787 13.52945329  2.73742739  8.365996    5.96695357 10.27548808\n",
      " 14.05567493]\n",
      "penalty: 594.9184767659914\n",
      "Read LP format model from file /var/folders/mc/1rm74nkd4s78l46281nyt5wm0000gn/T/tmpqqva13ec.lp\n",
      "Reading time = 0.01 seconds\n",
      ": 1067 rows, 5248 columns, 15982 nonzeros\n",
      "[ 3.78896564  4.64150868  5.75139942  6.84786168  8.38208601 16.2585148\n",
      " 18.22993877]\n",
      "penalty: 89.29096814866985\n",
      "Read LP format model from file /var/folders/mc/1rm74nkd4s78l46281nyt5wm0000gn/T/tmp_4vbi92_.lp\n",
      "Reading time = 0.01 seconds\n",
      ": 1067 rows, 5248 columns, 15982 nonzeros\n",
      "[2.04874996 0.6880073  1.77799569 1.66822899 4.30577927 0.40909471\n",
      " 6.51706694]\n",
      "penalty: 144.6239457652702\n",
      "Read LP format model from file /var/folders/mc/1rm74nkd4s78l46281nyt5wm0000gn/T/tmp6b8km0p5.lp\n",
      "Reading time = 0.01 seconds\n",
      ": 1067 rows, 5248 columns, 15982 nonzeros\n",
      "[ 4.07857013 12.59004134  2.79395034  5.74861631  5.12016519  8.45311662\n",
      " 12.48960664]\n",
      "penalty: 610.411149491793\n",
      "Read LP format model from file /var/folders/mc/1rm74nkd4s78l46281nyt5wm0000gn/T/tmp3dd6_5aw.lp\n",
      "Reading time = 0.01 seconds\n",
      ": 1067 rows, 5248 columns, 15982 nonzeros\n",
      "[ 4.33089321 15.20498808  0.29019883 10.55421251  7.6167013  10.49562116\n",
      " 14.0017006 ]\n",
      "penalty: 575.5429687206647\n",
      "[ 7.26553132 19.71869469  4.04016368  2.48899115  8.92678164 11.09588227\n",
      "  5.46808465]\n",
      "penalty: 900.3396712837574\n"
     ]
    },
    {
     "ename": "UnboundLocalError",
     "evalue": "local variable 'sol' referenced before assignment",
     "output_type": "error",
     "traceback": [
      "\u001b[0;31m---------------------------------------------------------------------------\u001b[0m",
      "\u001b[0;31m_RemoteTraceback\u001b[0m                          Traceback (most recent call last)",
      "\u001b[0;31m_RemoteTraceback\u001b[0m: \n\"\"\"\nTraceback (most recent call last):\n  File \"/Users/idunmariaburgos/opt/anaconda3/envs/rcell_rec/lib/python3.8/concurrent/futures/process.py\", line 239, in _process_worker\n    r = call_item.fn(*call_item.args, **call_item.kwargs)\n  File \"/Users/idunmariaburgos/opt/anaconda3/envs/rcell_rec/lib/python3.8/site-packages/scipy/optimize/_differentialevolution.py\", line 1346, in __call__\n    return self.f(x, *self.args)\n  File \"../functions/dfba_param_opt_cobra_cellulose.py\", line 133, in optimize_parameters_inner_problem_cellulose\n    C_dict_results = dict(zip(rxns,sol.y))\nUnboundLocalError: local variable 'sol' referenced before assignment\n\"\"\"",
      "\nThe above exception was the direct cause of the following exception:\n",
      "\u001b[0;31mUnboundLocalError\u001b[0m                         Traceback (most recent call last)",
      "File \u001b[0;32m<timed exec>:5\u001b[0m\n",
      "File \u001b[0;32m~/opt/anaconda3/envs/rcell_rec/lib/python3.8/site-packages/scipy/optimize/_differentialevolution.py:329\u001b[0m, in \u001b[0;36mdifferential_evolution\u001b[0;34m(func, bounds, args, strategy, maxiter, popsize, tol, mutation, recombination, seed, callback, disp, polish, init, atol, updating, workers, constraints, x0)\u001b[0m\n\u001b[1;32m    314\u001b[0m \u001b[38;5;66;03m# using a context manager means that any created Pool objects are\u001b[39;00m\n\u001b[1;32m    315\u001b[0m \u001b[38;5;66;03m# cleared up.\u001b[39;00m\n\u001b[1;32m    316\u001b[0m \u001b[38;5;28;01mwith\u001b[39;00m DifferentialEvolutionSolver(func, bounds, args\u001b[38;5;241m=\u001b[39margs,\n\u001b[1;32m    317\u001b[0m                                  strategy\u001b[38;5;241m=\u001b[39mstrategy,\n\u001b[1;32m    318\u001b[0m                                  maxiter\u001b[38;5;241m=\u001b[39mmaxiter,\n\u001b[0;32m   (...)\u001b[0m\n\u001b[1;32m    327\u001b[0m                                  constraints\u001b[38;5;241m=\u001b[39mconstraints,\n\u001b[1;32m    328\u001b[0m                                  x0\u001b[38;5;241m=\u001b[39mx0) \u001b[38;5;28;01mas\u001b[39;00m solver:\n\u001b[0;32m--> 329\u001b[0m     ret \u001b[38;5;241m=\u001b[39m \u001b[43msolver\u001b[49m\u001b[38;5;241;43m.\u001b[39;49m\u001b[43msolve\u001b[49m\u001b[43m(\u001b[49m\u001b[43m)\u001b[49m\n\u001b[1;32m    331\u001b[0m \u001b[38;5;28;01mreturn\u001b[39;00m ret\n",
      "File \u001b[0;32m~/opt/anaconda3/envs/rcell_rec/lib/python3.8/site-packages/scipy/optimize/_differentialevolution.py:852\u001b[0m, in \u001b[0;36mDifferentialEvolutionSolver.solve\u001b[0;34m(self)\u001b[0m\n\u001b[1;32m    849\u001b[0m \u001b[38;5;28;01mfor\u001b[39;00m nit \u001b[38;5;129;01min\u001b[39;00m \u001b[38;5;28mrange\u001b[39m(\u001b[38;5;241m1\u001b[39m, \u001b[38;5;28mself\u001b[39m\u001b[38;5;241m.\u001b[39mmaxiter \u001b[38;5;241m+\u001b[39m \u001b[38;5;241m1\u001b[39m):\n\u001b[1;32m    850\u001b[0m     \u001b[38;5;66;03m# evolve the population by a generation\u001b[39;00m\n\u001b[1;32m    851\u001b[0m     \u001b[38;5;28;01mtry\u001b[39;00m:\n\u001b[0;32m--> 852\u001b[0m         \u001b[38;5;28;43mnext\u001b[39;49m\u001b[43m(\u001b[49m\u001b[38;5;28;43mself\u001b[39;49m\u001b[43m)\u001b[49m\n\u001b[1;32m    853\u001b[0m     \u001b[38;5;28;01mexcept\u001b[39;00m \u001b[38;5;167;01mStopIteration\u001b[39;00m:\n\u001b[1;32m    854\u001b[0m         warning_flag \u001b[38;5;241m=\u001b[39m \u001b[38;5;28;01mTrue\u001b[39;00m\n",
      "File \u001b[0;32m~/opt/anaconda3/envs/rcell_rec/lib/python3.8/site-packages/scipy/optimize/_differentialevolution.py:1202\u001b[0m, in \u001b[0;36mDifferentialEvolutionSolver.__next__\u001b[0;34m(self)\u001b[0m\n\u001b[1;32m   1199\u001b[0m trial_energies \u001b[38;5;241m=\u001b[39m np\u001b[38;5;241m.\u001b[39mfull(\u001b[38;5;28mself\u001b[39m\u001b[38;5;241m.\u001b[39mnum_population_members, np\u001b[38;5;241m.\u001b[39minf)\n\u001b[1;32m   1201\u001b[0m \u001b[38;5;66;03m# only calculate for feasible entries\u001b[39;00m\n\u001b[0;32m-> 1202\u001b[0m trial_energies[feasible] \u001b[38;5;241m=\u001b[39m \u001b[38;5;28;43mself\u001b[39;49m\u001b[38;5;241;43m.\u001b[39;49m\u001b[43m_calculate_population_energies\u001b[49m\u001b[43m(\u001b[49m\n\u001b[1;32m   1203\u001b[0m \u001b[43m    \u001b[49m\u001b[43mtrial_pop\u001b[49m\u001b[43m[\u001b[49m\u001b[43mfeasible\u001b[49m\u001b[43m]\u001b[49m\u001b[43m)\u001b[49m\n\u001b[1;32m   1205\u001b[0m \u001b[38;5;66;03m# which solutions are 'improved'?\u001b[39;00m\n\u001b[1;32m   1206\u001b[0m loc \u001b[38;5;241m=\u001b[39m [\u001b[38;5;28mself\u001b[39m\u001b[38;5;241m.\u001b[39m_accept_trial(\u001b[38;5;241m*\u001b[39mval) \u001b[38;5;28;01mfor\u001b[39;00m val \u001b[38;5;129;01min\u001b[39;00m\n\u001b[1;32m   1207\u001b[0m        \u001b[38;5;28mzip\u001b[39m(trial_energies, feasible, cv, \u001b[38;5;28mself\u001b[39m\u001b[38;5;241m.\u001b[39mpopulation_energies,\n\u001b[1;32m   1208\u001b[0m            \u001b[38;5;28mself\u001b[39m\u001b[38;5;241m.\u001b[39mfeasible, \u001b[38;5;28mself\u001b[39m\u001b[38;5;241m.\u001b[39mconstraint_violation)]\n",
      "File \u001b[0;32m~/opt/anaconda3/envs/rcell_rec/lib/python3.8/site-packages/scipy/optimize/_differentialevolution.py:966\u001b[0m, in \u001b[0;36mDifferentialEvolutionSolver._calculate_population_energies\u001b[0;34m(self, population)\u001b[0m\n\u001b[1;32m    964\u001b[0m parameters_pop \u001b[38;5;241m=\u001b[39m \u001b[38;5;28mself\u001b[39m\u001b[38;5;241m.\u001b[39m_scale_parameters(population)\n\u001b[1;32m    965\u001b[0m \u001b[38;5;28;01mtry\u001b[39;00m:\n\u001b[0;32m--> 966\u001b[0m     calc_energies \u001b[38;5;241m=\u001b[39m \u001b[38;5;28mlist\u001b[39m(\u001b[38;5;28;43mself\u001b[39;49m\u001b[38;5;241;43m.\u001b[39;49m\u001b[43m_mapwrapper\u001b[49m\u001b[43m(\u001b[49m\u001b[38;5;28;43mself\u001b[39;49m\u001b[38;5;241;43m.\u001b[39;49m\u001b[43mfunc\u001b[49m\u001b[43m,\u001b[49m\n\u001b[1;32m    967\u001b[0m \u001b[43m                                          \u001b[49m\u001b[43mparameters_pop\u001b[49m\u001b[43m[\u001b[49m\u001b[38;5;241;43m0\u001b[39;49m\u001b[43m:\u001b[49m\u001b[43mnfevs\u001b[49m\u001b[43m]\u001b[49m\u001b[43m)\u001b[49m)\n\u001b[1;32m    968\u001b[0m     energies[\u001b[38;5;241m0\u001b[39m:nfevs] \u001b[38;5;241m=\u001b[39m np\u001b[38;5;241m.\u001b[39msqueeze(calc_energies)\n\u001b[1;32m    969\u001b[0m \u001b[38;5;28;01mexcept\u001b[39;00m (\u001b[38;5;167;01mTypeError\u001b[39;00m, \u001b[38;5;167;01mValueError\u001b[39;00m) \u001b[38;5;28;01mas\u001b[39;00m e:\n\u001b[1;32m    970\u001b[0m     \u001b[38;5;66;03m# wrong number of arguments for _mapwrapper\u001b[39;00m\n\u001b[1;32m    971\u001b[0m     \u001b[38;5;66;03m# or wrong length returned from the mapper\u001b[39;00m\n",
      "File \u001b[0;32m~/opt/anaconda3/envs/rcell_rec/lib/python3.8/site-packages/scipy/_lib/_util.py:471\u001b[0m, in \u001b[0;36mMapWrapper.__call__\u001b[0;34m(self, func, iterable)\u001b[0m\n\u001b[1;32m    468\u001b[0m \u001b[38;5;28;01mdef\u001b[39;00m \u001b[38;5;21m__call__\u001b[39m(\u001b[38;5;28mself\u001b[39m, func, iterable):\n\u001b[1;32m    469\u001b[0m     \u001b[38;5;66;03m# only accept one iterable because that's all Pool.map accepts\u001b[39;00m\n\u001b[1;32m    470\u001b[0m     \u001b[38;5;28;01mtry\u001b[39;00m:\n\u001b[0;32m--> 471\u001b[0m         \u001b[38;5;28;01mreturn\u001b[39;00m \u001b[38;5;28;43mself\u001b[39;49m\u001b[38;5;241;43m.\u001b[39;49m\u001b[43m_mapfunc\u001b[49m\u001b[43m(\u001b[49m\u001b[43mfunc\u001b[49m\u001b[43m,\u001b[49m\u001b[43m \u001b[49m\u001b[43miterable\u001b[49m\u001b[43m)\u001b[49m\n\u001b[1;32m    472\u001b[0m     \u001b[38;5;28;01mexcept\u001b[39;00m \u001b[38;5;167;01mTypeError\u001b[39;00m \u001b[38;5;28;01mas\u001b[39;00m e:\n\u001b[1;32m    473\u001b[0m         \u001b[38;5;66;03m# wrong number of arguments\u001b[39;00m\n\u001b[1;32m    474\u001b[0m         \u001b[38;5;28;01mraise\u001b[39;00m \u001b[38;5;167;01mTypeError\u001b[39;00m(\u001b[38;5;124m\"\u001b[39m\u001b[38;5;124mThe map-like callable must be of the\u001b[39m\u001b[38;5;124m\"\u001b[39m\n\u001b[1;32m    475\u001b[0m                         \u001b[38;5;124m\"\u001b[39m\u001b[38;5;124m form f(func, iterable)\u001b[39m\u001b[38;5;124m\"\u001b[39m) \u001b[38;5;28;01mfrom\u001b[39;00m \u001b[38;5;21;01me\u001b[39;00m\n",
      "Cell \u001b[0;32mIn[8], line 20\u001b[0m, in \u001b[0;36mmaplike_fun\u001b[0;34m(func, x, max_workers, *args)\u001b[0m\n\u001b[1;32m     18\u001b[0m     \u001b[38;5;66;03m# Collect the results as they complete\u001b[39;00m\n\u001b[1;32m     19\u001b[0m     \u001b[38;5;28;01mfor\u001b[39;00m future \u001b[38;5;129;01min\u001b[39;00m futures:\n\u001b[0;32m---> 20\u001b[0m         e\u001b[38;5;241m.\u001b[39mappend(\u001b[43mfuture\u001b[49m\u001b[38;5;241;43m.\u001b[39;49m\u001b[43mresult\u001b[49m\u001b[43m(\u001b[49m\u001b[43m)\u001b[49m)\n\u001b[1;32m     22\u001b[0m \u001b[38;5;66;03m# Store the energies (objective function values)\u001b[39;00m\n\u001b[1;32m     23\u001b[0m energies_min\u001b[38;5;241m.\u001b[39mappend(e)\n",
      "File \u001b[0;32m~/opt/anaconda3/envs/rcell_rec/lib/python3.8/concurrent/futures/_base.py:432\u001b[0m, in \u001b[0;36mFuture.result\u001b[0;34m(self, timeout)\u001b[0m\n\u001b[1;32m    430\u001b[0m     \u001b[38;5;28;01mraise\u001b[39;00m CancelledError()\n\u001b[1;32m    431\u001b[0m \u001b[38;5;28;01melif\u001b[39;00m \u001b[38;5;28mself\u001b[39m\u001b[38;5;241m.\u001b[39m_state \u001b[38;5;241m==\u001b[39m FINISHED:\n\u001b[0;32m--> 432\u001b[0m     \u001b[38;5;28;01mreturn\u001b[39;00m \u001b[38;5;28;43mself\u001b[39;49m\u001b[38;5;241;43m.\u001b[39;49m\u001b[43m__get_result\u001b[49m\u001b[43m(\u001b[49m\u001b[43m)\u001b[49m\n\u001b[1;32m    434\u001b[0m \u001b[38;5;28mself\u001b[39m\u001b[38;5;241m.\u001b[39m_condition\u001b[38;5;241m.\u001b[39mwait(timeout)\n\u001b[1;32m    436\u001b[0m \u001b[38;5;28;01mif\u001b[39;00m \u001b[38;5;28mself\u001b[39m\u001b[38;5;241m.\u001b[39m_state \u001b[38;5;129;01min\u001b[39;00m [CANCELLED, CANCELLED_AND_NOTIFIED]:\n",
      "File \u001b[0;32m~/opt/anaconda3/envs/rcell_rec/lib/python3.8/concurrent/futures/_base.py:388\u001b[0m, in \u001b[0;36mFuture.__get_result\u001b[0;34m(self)\u001b[0m\n\u001b[1;32m    386\u001b[0m \u001b[38;5;28;01mdef\u001b[39;00m \u001b[38;5;21m__get_result\u001b[39m(\u001b[38;5;28mself\u001b[39m):\n\u001b[1;32m    387\u001b[0m     \u001b[38;5;28;01mif\u001b[39;00m \u001b[38;5;28mself\u001b[39m\u001b[38;5;241m.\u001b[39m_exception:\n\u001b[0;32m--> 388\u001b[0m         \u001b[38;5;28;01mraise\u001b[39;00m \u001b[38;5;28mself\u001b[39m\u001b[38;5;241m.\u001b[39m_exception\n\u001b[1;32m    389\u001b[0m     \u001b[38;5;28;01melse\u001b[39;00m:\n\u001b[1;32m    390\u001b[0m         \u001b[38;5;28;01mreturn\u001b[39;00m \u001b[38;5;28mself\u001b[39m\u001b[38;5;241m.\u001b[39m_result\n",
      "\u001b[0;31mUnboundLocalError\u001b[0m: local variable 'sol' referenced before assignment"
     ]
    }
   ],
   "source": [
    "%%time\n",
    "model = read_model(media)\n",
    "\n",
    "pop_min = []\n",
    "energies_min = []\n",
    "res_min = differential_evolution(optimize_parameters_inner_problem_cellulose,\n",
    "                  bounds=[(0.1,10),(0.1,20),(0.1,10),(0.1,20),(0.1,10),(0.1,20),(0.1,20)],\n",
    "                  args=(model,media,rxns,y0,objective_dir,glc_eq_dict),\n",
    "                  strategy = \"rand2bin\",\n",
    "                  workers=maplike_fun,\n",
    "                  mutation = (0.6,0.8),\n",
    "                  recombination=0.7,\n",
    "                  popsize=5,\n",
    "                  maxiter=25,\n",
    "                  polish=False,\n",
    "                  seed=2,\n",
    "                  updating='deferred')"
   ]
  },
  {
   "cell_type": "code",
   "execution_count": 13,
   "id": "0c7302c6-182c-4eaa-b410-c2031176d707",
   "metadata": {
    "scrolled": true,
    "tags": []
   },
   "outputs": [
    {
     "name": "stdout",
     "output_type": "stream",
     "text": [
      "Set parameter Username\n",
      "Academic license - for non-commercial use only - expires 2025-03-14\n",
      "Read LP format model from file /var/folders/mc/1rm74nkd4s78l46281nyt5wm0000gn/T/tmpn2_2z_vx.lp\n",
      "Reading time = 0.01 seconds\n",
      ": 1067 rows, 5248 columns, 15982 nonzeros\n",
      "Set parameter Username\n",
      "Academic license - for non-commercial use only - expires 2025-03-14\n",
      "Read LP format model from file /var/folders/mc/1rm74nkd4s78l46281nyt5wm0000gn/T/tmpd1rcmj_8.lp\n",
      "Reading time = 0.01 seconds\n",
      ": 1067 rows, 5248 columns, 15982 nonzeros\n",
      "Set parameter Username\n",
      "Academic license - for non-commercial use only - expires 2025-03-14\n",
      "Read LP format model from file /var/folders/mc/1rm74nkd4s78l46281nyt5wm0000gn/T/tmpwz4gc17t.lp\n",
      "Reading time = 0.01 seconds\n",
      ": 1067 rows, 5248 columns, 15982 nonzeros\n",
      "Set parameter Username\n",
      "Academic license - for non-commercial use only - expires 2025-03-14\n",
      "Read LP format model from file /var/folders/mc/1rm74nkd4s78l46281nyt5wm0000gn/T/tmpnisa8q1k.lp\n",
      "Reading time = 0.01 seconds\n",
      ": 1067 rows, 5248 columns, 15982 nonzeros\n"
     ]
    },
    {
     "name": "stderr",
     "output_type": "stream",
     "text": [
      "capi_return is NULL\n",
      "Call-back cb_f_in_lsoda__user__routines failed.\n",
      "capi_return is NULL\n",
      "Call-back cb_f_in_lsoda__user__routines failed.\n"
     ]
    },
    {
     "name": "stdout",
     "output_type": "stream",
     "text": [
      "[ 3.57063676  7.43223245  5.22655188  0.90691345  7.27610953 10.25470161\n",
      " 18.18596756]\n",
      "had issues with this combination: [ 3.57063676  7.43223245  5.22655188  0.90691345  7.27610953 10.25470161\n",
      " 18.18596756]\n",
      "Read LP format model from file /var/folders/mc/1rm74nkd4s78l46281nyt5wm0000gn/T/tmph964jw22.lp\n",
      "Reading time = 0.02 seconds\n",
      ": 1067 rows, 5248 columns, 15982 nonzeros\n",
      "[ 3.57063675  7.43223245  5.22655189  0.90691345  7.27610953 10.25470161\n",
      " 18.18596756]\n",
      "had issues with this combination: [ 3.57063675  7.43223245  5.22655189  0.90691345  7.27610953 10.25470161\n",
      " 18.18596756]\n",
      "Read LP format model from file /var/folders/mc/1rm74nkd4s78l46281nyt5wm0000gn/T/tmpjtyv5084.lp\n",
      "Reading time = 0.01 seconds\n",
      ": 1067 rows, 5248 columns, 15982 nonzeros\n"
     ]
    },
    {
     "name": "stderr",
     "output_type": "stream",
     "text": [
      "capi_return is NULL\n",
      "Call-back cb_f_in_lsoda__user__routines failed.\n",
      "capi_return is NULL\n",
      "Call-back cb_f_in_lsoda__user__routines failed.\n"
     ]
    },
    {
     "name": "stdout",
     "output_type": "stream",
     "text": [
      "[ 3.57063675  7.43223245  5.22655188  0.90691345  7.27610953 10.25470161\n",
      " 18.18596756]\n",
      "had issues with this combination: [ 3.57063675  7.43223245  5.22655188  0.90691345  7.27610953 10.25470161\n",
      " 18.18596756]\n",
      "Read LP format model from file /var/folders/mc/1rm74nkd4s78l46281nyt5wm0000gn/T/tmp_zb1oh7l.lp\n",
      "Reading time = 0.01 seconds\n",
      ": 1067 rows, 5248 columns, 15982 nonzeros\n",
      "[ 3.57063675  7.43223246  5.22655188  0.90691345  7.27610953 10.25470161\n",
      " 18.18596756]\n",
      "had issues with this combination: [ 3.57063675  7.43223246  5.22655188  0.90691345  7.27610953 10.25470161\n",
      " 18.18596756]\n",
      "Read LP format model from file /var/folders/mc/1rm74nkd4s78l46281nyt5wm0000gn/T/tmpoec89qcg.lp\n",
      "Reading time = 0.01 seconds\n",
      ": 1067 rows, 5248 columns, 15982 nonzeros\n"
     ]
    },
    {
     "name": "stderr",
     "output_type": "stream",
     "text": [
      "capi_return is NULL\n",
      "Call-back cb_f_in_lsoda__user__routines failed.\n",
      "capi_return is NULL\n",
      "Call-back cb_f_in_lsoda__user__routines failed.\n",
      "capi_return is NULL\n",
      "Call-back cb_f_in_lsoda__user__routines failed.\n",
      "capi_return is NULL\n",
      "Call-back cb_f_in_lsoda__user__routines failed.\n"
     ]
    },
    {
     "name": "stdout",
     "output_type": "stream",
     "text": [
      "[ 3.57063675  7.43223245  5.22655188  0.90691346  7.27610953 10.25470161\n",
      " 18.18596756]\n",
      "had issues with this combination: [ 3.57063675  7.43223245  5.22655188  0.90691346  7.27610953 10.25470161\n",
      " 18.18596756]\n",
      "[ 3.57063675  7.43223245  5.22655188  0.90691345  7.27610954 10.25470161\n",
      " 18.18596756]\n",
      "had issues with this combination: [ 3.57063675  7.43223245  5.22655188  0.90691345  7.27610954 10.25470161\n",
      " 18.18596756]\n",
      "[ 3.57063675  7.43223245  5.22655188  0.90691345  7.27610953 10.25470162\n",
      " 18.18596756]\n",
      "had issues with this combination: [ 3.57063675  7.43223245  5.22655188  0.90691345  7.27610953 10.25470162\n",
      " 18.18596756]\n",
      "[ 3.57063675  7.43223245  5.22655188  0.90691345  7.27610953 10.25470161\n",
      " 18.18596757]\n",
      "had issues with this combination: [ 3.57063675  7.43223245  5.22655188  0.90691345  7.27610953 10.25470161\n",
      " 18.18596757]\n"
     ]
    },
    {
     "ename": "UnboundLocalError",
     "evalue": "local variable 'sol' referenced before assignment",
     "output_type": "error",
     "traceback": [
      "\u001b[0;31m---------------------------------------------------------------------------\u001b[0m",
      "\u001b[0;31m_RemoteTraceback\u001b[0m                          Traceback (most recent call last)",
      "\u001b[0;31m_RemoteTraceback\u001b[0m: \n\"\"\"\nTraceback (most recent call last):\n  File \"/Users/idunmariaburgos/opt/anaconda3/envs/rcell_rec/lib/python3.8/concurrent/futures/process.py\", line 239, in _process_worker\n    r = call_item.fn(*call_item.args, **call_item.kwargs)\n  File \"/Users/idunmariaburgos/opt/anaconda3/envs/rcell_rec/lib/python3.8/concurrent/futures/process.py\", line 198, in _process_chunk\n    return [fn(*args) for args in chunk]\n  File \"/Users/idunmariaburgos/opt/anaconda3/envs/rcell_rec/lib/python3.8/concurrent/futures/process.py\", line 198, in <listcomp>\n    return [fn(*args) for args in chunk]\n  File \"/Users/idunmariaburgos/opt/anaconda3/envs/rcell_rec/lib/python3.8/site-packages/optimparallel.py\", line 83, in _eval_approx_args\n    return fun(x_, *args)\n  File \"../functions/dfba_param_opt_cobra_cellulose.py\", line 133, in optimize_parameters_inner_problem_cellulose\n    C_dict_results = dict(zip(rxns,sol.y))\nUnboundLocalError: local variable 'sol' referenced before assignment\n\"\"\"",
      "\nThe above exception was the direct cause of the following exception:\n",
      "\u001b[0;31mUnboundLocalError\u001b[0m                         Traceback (most recent call last)",
      "File \u001b[0;32m<timed exec>:5\u001b[0m\n",
      "File \u001b[0;32m~/opt/anaconda3/envs/rcell_rec/lib/python3.8/site-packages/optimparallel.py:410\u001b[0m, in \u001b[0;36mminimize_parallel\u001b[0;34m(fun, x0, args, jac, bounds, tol, options, callback, parallel)\u001b[0m\n\u001b[1;32m    398\u001b[0m \u001b[38;5;28;01mwith\u001b[39;00m parallel_used\u001b[38;5;241m.\u001b[39mget(\u001b[38;5;124m\"\u001b[39m\u001b[38;5;124mexecutor\u001b[39m\u001b[38;5;124m\"\u001b[39m) \u001b[38;5;28;01mas\u001b[39;00m executor:\n\u001b[1;32m    399\u001b[0m     fun_jac \u001b[38;5;241m=\u001b[39m EvalParallel(\n\u001b[1;32m    400\u001b[0m         fun\u001b[38;5;241m=\u001b[39mfun,\n\u001b[1;32m    401\u001b[0m         jac\u001b[38;5;241m=\u001b[39mjac,\n\u001b[0;32m   (...)\u001b[0m\n\u001b[1;32m    408\u001b[0m         n\u001b[38;5;241m=\u001b[39mn,\n\u001b[1;32m    409\u001b[0m     )\n\u001b[0;32m--> 410\u001b[0m     out \u001b[38;5;241m=\u001b[39m \u001b[43mminimize\u001b[49m\u001b[43m(\u001b[49m\n\u001b[1;32m    411\u001b[0m \u001b[43m        \u001b[49m\u001b[43mfun\u001b[49m\u001b[38;5;241;43m=\u001b[39;49m\u001b[43mfun_jac\u001b[49m\u001b[38;5;241;43m.\u001b[39;49m\u001b[43mfun\u001b[49m\u001b[43m,\u001b[49m\n\u001b[1;32m    412\u001b[0m \u001b[43m        \u001b[49m\u001b[43mx0\u001b[49m\u001b[38;5;241;43m=\u001b[39;49m\u001b[43mx0\u001b[49m\u001b[43m,\u001b[49m\n\u001b[1;32m    413\u001b[0m \u001b[43m        \u001b[49m\u001b[43mjac\u001b[49m\u001b[38;5;241;43m=\u001b[39;49m\u001b[43mfun_jac\u001b[49m\u001b[38;5;241;43m.\u001b[39;49m\u001b[43mjac\u001b[49m\u001b[43m,\u001b[49m\n\u001b[1;32m    414\u001b[0m \u001b[43m        \u001b[49m\u001b[43mmethod\u001b[49m\u001b[38;5;241;43m=\u001b[39;49m\u001b[38;5;124;43m\"\u001b[39;49m\u001b[38;5;124;43mL-BFGS-B\u001b[39;49m\u001b[38;5;124;43m\"\u001b[39;49m\u001b[43m,\u001b[49m\n\u001b[1;32m    415\u001b[0m \u001b[43m        \u001b[49m\u001b[43mbounds\u001b[49m\u001b[38;5;241;43m=\u001b[39;49m\u001b[43mbounds\u001b[49m\u001b[43m,\u001b[49m\n\u001b[1;32m    416\u001b[0m \u001b[43m        \u001b[49m\u001b[43mcallback\u001b[49m\u001b[38;5;241;43m=\u001b[39;49m\u001b[43mcallback\u001b[49m\u001b[43m,\u001b[49m\n\u001b[1;32m    417\u001b[0m \u001b[43m        \u001b[49m\u001b[43moptions\u001b[49m\u001b[38;5;241;43m=\u001b[39;49m\u001b[43moptions_used\u001b[49m\u001b[43m,\u001b[49m\n\u001b[1;32m    418\u001b[0m \u001b[43m    \u001b[49m\u001b[43m)\u001b[49m\n\u001b[1;32m    420\u001b[0m \u001b[38;5;28;01mif\u001b[39;00m parallel_used\u001b[38;5;241m.\u001b[39mget(\u001b[38;5;124m\"\u001b[39m\u001b[38;5;124mloginfo\u001b[39m\u001b[38;5;124m\"\u001b[39m):\n\u001b[1;32m    421\u001b[0m     out\u001b[38;5;241m.\u001b[39mloginfo \u001b[38;5;241m=\u001b[39m {\n\u001b[1;32m    422\u001b[0m         k: (\n\u001b[1;32m    423\u001b[0m             \u001b[38;5;28;01mlambda\u001b[39;00m x: np\u001b[38;5;241m.\u001b[39marray(x)\n\u001b[0;32m   (...)\u001b[0m\n\u001b[1;32m    427\u001b[0m         \u001b[38;5;28;01mfor\u001b[39;00m k, v \u001b[38;5;129;01min\u001b[39;00m fun_jac\u001b[38;5;241m.\u001b[39minfo\u001b[38;5;241m.\u001b[39mitems()\n\u001b[1;32m    428\u001b[0m     }\n",
      "File \u001b[0;32m~/opt/anaconda3/envs/rcell_rec/lib/python3.8/site-packages/scipy/optimize/_minimize.py:623\u001b[0m, in \u001b[0;36mminimize\u001b[0;34m(fun, x0, args, method, jac, hess, hessp, bounds, constraints, tol, callback, options)\u001b[0m\n\u001b[1;32m    620\u001b[0m     \u001b[38;5;28;01mreturn\u001b[39;00m _minimize_newtoncg(fun, x0, args, jac, hess, hessp, callback,\n\u001b[1;32m    621\u001b[0m                               \u001b[38;5;241m*\u001b[39m\u001b[38;5;241m*\u001b[39moptions)\n\u001b[1;32m    622\u001b[0m \u001b[38;5;28;01melif\u001b[39;00m meth \u001b[38;5;241m==\u001b[39m \u001b[38;5;124m'\u001b[39m\u001b[38;5;124ml-bfgs-b\u001b[39m\u001b[38;5;124m'\u001b[39m:\n\u001b[0;32m--> 623\u001b[0m     \u001b[38;5;28;01mreturn\u001b[39;00m \u001b[43m_minimize_lbfgsb\u001b[49m\u001b[43m(\u001b[49m\u001b[43mfun\u001b[49m\u001b[43m,\u001b[49m\u001b[43m \u001b[49m\u001b[43mx0\u001b[49m\u001b[43m,\u001b[49m\u001b[43m \u001b[49m\u001b[43margs\u001b[49m\u001b[43m,\u001b[49m\u001b[43m \u001b[49m\u001b[43mjac\u001b[49m\u001b[43m,\u001b[49m\u001b[43m \u001b[49m\u001b[43mbounds\u001b[49m\u001b[43m,\u001b[49m\n\u001b[1;32m    624\u001b[0m \u001b[43m                            \u001b[49m\u001b[43mcallback\u001b[49m\u001b[38;5;241;43m=\u001b[39;49m\u001b[43mcallback\u001b[49m\u001b[43m,\u001b[49m\u001b[43m \u001b[49m\u001b[38;5;241;43m*\u001b[39;49m\u001b[38;5;241;43m*\u001b[39;49m\u001b[43moptions\u001b[49m\u001b[43m)\u001b[49m\n\u001b[1;32m    625\u001b[0m \u001b[38;5;28;01melif\u001b[39;00m meth \u001b[38;5;241m==\u001b[39m \u001b[38;5;124m'\u001b[39m\u001b[38;5;124mtnc\u001b[39m\u001b[38;5;124m'\u001b[39m:\n\u001b[1;32m    626\u001b[0m     \u001b[38;5;28;01mreturn\u001b[39;00m _minimize_tnc(fun, x0, args, jac, bounds, callback\u001b[38;5;241m=\u001b[39mcallback,\n\u001b[1;32m    627\u001b[0m                          \u001b[38;5;241m*\u001b[39m\u001b[38;5;241m*\u001b[39moptions)\n",
      "File \u001b[0;32m~/opt/anaconda3/envs/rcell_rec/lib/python3.8/site-packages/scipy/optimize/lbfgsb.py:306\u001b[0m, in \u001b[0;36m_minimize_lbfgsb\u001b[0;34m(fun, x0, args, jac, bounds, disp, maxcor, ftol, gtol, eps, maxfun, maxiter, iprint, callback, maxls, finite_diff_rel_step, **unknown_options)\u001b[0m\n\u001b[1;32m    303\u001b[0m     \u001b[38;5;28;01melse\u001b[39;00m:\n\u001b[1;32m    304\u001b[0m         iprint \u001b[38;5;241m=\u001b[39m disp\n\u001b[0;32m--> 306\u001b[0m sf \u001b[38;5;241m=\u001b[39m \u001b[43m_prepare_scalar_function\u001b[49m\u001b[43m(\u001b[49m\u001b[43mfun\u001b[49m\u001b[43m,\u001b[49m\u001b[43m \u001b[49m\u001b[43mx0\u001b[49m\u001b[43m,\u001b[49m\u001b[43m \u001b[49m\u001b[43mjac\u001b[49m\u001b[38;5;241;43m=\u001b[39;49m\u001b[43mjac\u001b[49m\u001b[43m,\u001b[49m\u001b[43m \u001b[49m\u001b[43margs\u001b[49m\u001b[38;5;241;43m=\u001b[39;49m\u001b[43margs\u001b[49m\u001b[43m,\u001b[49m\u001b[43m \u001b[49m\u001b[43mepsilon\u001b[49m\u001b[38;5;241;43m=\u001b[39;49m\u001b[43meps\u001b[49m\u001b[43m,\u001b[49m\n\u001b[1;32m    307\u001b[0m \u001b[43m                              \u001b[49m\u001b[43mbounds\u001b[49m\u001b[38;5;241;43m=\u001b[39;49m\u001b[43mnew_bounds\u001b[49m\u001b[43m,\u001b[49m\n\u001b[1;32m    308\u001b[0m \u001b[43m                              \u001b[49m\u001b[43mfinite_diff_rel_step\u001b[49m\u001b[38;5;241;43m=\u001b[39;49m\u001b[43mfinite_diff_rel_step\u001b[49m\u001b[43m)\u001b[49m\n\u001b[1;32m    310\u001b[0m func_and_grad \u001b[38;5;241m=\u001b[39m sf\u001b[38;5;241m.\u001b[39mfun_and_grad\n\u001b[1;32m    312\u001b[0m fortran_int \u001b[38;5;241m=\u001b[39m _lbfgsb\u001b[38;5;241m.\u001b[39mtypes\u001b[38;5;241m.\u001b[39mintvar\u001b[38;5;241m.\u001b[39mdtype\n",
      "File \u001b[0;32m~/opt/anaconda3/envs/rcell_rec/lib/python3.8/site-packages/scipy/optimize/optimize.py:261\u001b[0m, in \u001b[0;36m_prepare_scalar_function\u001b[0;34m(fun, x0, jac, args, bounds, epsilon, finite_diff_rel_step, hess)\u001b[0m\n\u001b[1;32m    257\u001b[0m     bounds \u001b[38;5;241m=\u001b[39m (\u001b[38;5;241m-\u001b[39mnp\u001b[38;5;241m.\u001b[39minf, np\u001b[38;5;241m.\u001b[39minf)\n\u001b[1;32m    259\u001b[0m \u001b[38;5;66;03m# ScalarFunction caches. Reuse of fun(x) during grad\u001b[39;00m\n\u001b[1;32m    260\u001b[0m \u001b[38;5;66;03m# calculation reduces overall function evaluations.\u001b[39;00m\n\u001b[0;32m--> 261\u001b[0m sf \u001b[38;5;241m=\u001b[39m \u001b[43mScalarFunction\u001b[49m\u001b[43m(\u001b[49m\u001b[43mfun\u001b[49m\u001b[43m,\u001b[49m\u001b[43m \u001b[49m\u001b[43mx0\u001b[49m\u001b[43m,\u001b[49m\u001b[43m \u001b[49m\u001b[43margs\u001b[49m\u001b[43m,\u001b[49m\u001b[43m \u001b[49m\u001b[43mgrad\u001b[49m\u001b[43m,\u001b[49m\u001b[43m \u001b[49m\u001b[43mhess\u001b[49m\u001b[43m,\u001b[49m\n\u001b[1;32m    262\u001b[0m \u001b[43m                    \u001b[49m\u001b[43mfinite_diff_rel_step\u001b[49m\u001b[43m,\u001b[49m\u001b[43m \u001b[49m\u001b[43mbounds\u001b[49m\u001b[43m,\u001b[49m\u001b[43m \u001b[49m\u001b[43mepsilon\u001b[49m\u001b[38;5;241;43m=\u001b[39;49m\u001b[43mepsilon\u001b[49m\u001b[43m)\u001b[49m\n\u001b[1;32m    264\u001b[0m \u001b[38;5;28;01mreturn\u001b[39;00m sf\n",
      "File \u001b[0;32m~/opt/anaconda3/envs/rcell_rec/lib/python3.8/site-packages/scipy/optimize/_differentiable_functions.py:140\u001b[0m, in \u001b[0;36mScalarFunction.__init__\u001b[0;34m(self, fun, x0, args, grad, hess, finite_diff_rel_step, finite_diff_bounds, epsilon)\u001b[0m\n\u001b[1;32m    137\u001b[0m     \u001b[38;5;28mself\u001b[39m\u001b[38;5;241m.\u001b[39mf \u001b[38;5;241m=\u001b[39m fun_wrapped(\u001b[38;5;28mself\u001b[39m\u001b[38;5;241m.\u001b[39mx)\n\u001b[1;32m    139\u001b[0m \u001b[38;5;28mself\u001b[39m\u001b[38;5;241m.\u001b[39m_update_fun_impl \u001b[38;5;241m=\u001b[39m update_fun\n\u001b[0;32m--> 140\u001b[0m \u001b[38;5;28;43mself\u001b[39;49m\u001b[38;5;241;43m.\u001b[39;49m\u001b[43m_update_fun\u001b[49m\u001b[43m(\u001b[49m\u001b[43m)\u001b[49m\n\u001b[1;32m    142\u001b[0m \u001b[38;5;66;03m# Gradient evaluation\u001b[39;00m\n\u001b[1;32m    143\u001b[0m \u001b[38;5;28;01mif\u001b[39;00m \u001b[38;5;28mcallable\u001b[39m(grad):\n",
      "File \u001b[0;32m~/opt/anaconda3/envs/rcell_rec/lib/python3.8/site-packages/scipy/optimize/_differentiable_functions.py:233\u001b[0m, in \u001b[0;36mScalarFunction._update_fun\u001b[0;34m(self)\u001b[0m\n\u001b[1;32m    231\u001b[0m \u001b[38;5;28;01mdef\u001b[39;00m \u001b[38;5;21m_update_fun\u001b[39m(\u001b[38;5;28mself\u001b[39m):\n\u001b[1;32m    232\u001b[0m     \u001b[38;5;28;01mif\u001b[39;00m \u001b[38;5;129;01mnot\u001b[39;00m \u001b[38;5;28mself\u001b[39m\u001b[38;5;241m.\u001b[39mf_updated:\n\u001b[0;32m--> 233\u001b[0m         \u001b[38;5;28;43mself\u001b[39;49m\u001b[38;5;241;43m.\u001b[39;49m\u001b[43m_update_fun_impl\u001b[49m\u001b[43m(\u001b[49m\u001b[43m)\u001b[49m\n\u001b[1;32m    234\u001b[0m         \u001b[38;5;28mself\u001b[39m\u001b[38;5;241m.\u001b[39mf_updated \u001b[38;5;241m=\u001b[39m \u001b[38;5;28;01mTrue\u001b[39;00m\n",
      "File \u001b[0;32m~/opt/anaconda3/envs/rcell_rec/lib/python3.8/site-packages/scipy/optimize/_differentiable_functions.py:137\u001b[0m, in \u001b[0;36mScalarFunction.__init__.<locals>.update_fun\u001b[0;34m()\u001b[0m\n\u001b[1;32m    136\u001b[0m \u001b[38;5;28;01mdef\u001b[39;00m \u001b[38;5;21mupdate_fun\u001b[39m():\n\u001b[0;32m--> 137\u001b[0m     \u001b[38;5;28mself\u001b[39m\u001b[38;5;241m.\u001b[39mf \u001b[38;5;241m=\u001b[39m \u001b[43mfun_wrapped\u001b[49m\u001b[43m(\u001b[49m\u001b[38;5;28;43mself\u001b[39;49m\u001b[38;5;241;43m.\u001b[39;49m\u001b[43mx\u001b[49m\u001b[43m)\u001b[49m\n",
      "File \u001b[0;32m~/opt/anaconda3/envs/rcell_rec/lib/python3.8/site-packages/scipy/optimize/_differentiable_functions.py:134\u001b[0m, in \u001b[0;36mScalarFunction.__init__.<locals>.fun_wrapped\u001b[0;34m(x)\u001b[0m\n\u001b[1;32m    130\u001b[0m \u001b[38;5;28mself\u001b[39m\u001b[38;5;241m.\u001b[39mnfev \u001b[38;5;241m+\u001b[39m\u001b[38;5;241m=\u001b[39m \u001b[38;5;241m1\u001b[39m\n\u001b[1;32m    131\u001b[0m \u001b[38;5;66;03m# Send a copy because the user may overwrite it.\u001b[39;00m\n\u001b[1;32m    132\u001b[0m \u001b[38;5;66;03m# Overwriting results in undefined behaviour because\u001b[39;00m\n\u001b[1;32m    133\u001b[0m \u001b[38;5;66;03m# fun(self.x) will change self.x, with the two no longer linked.\u001b[39;00m\n\u001b[0;32m--> 134\u001b[0m \u001b[38;5;28;01mreturn\u001b[39;00m \u001b[43mfun\u001b[49m\u001b[43m(\u001b[49m\u001b[43mnp\u001b[49m\u001b[38;5;241;43m.\u001b[39;49m\u001b[43mcopy\u001b[49m\u001b[43m(\u001b[49m\u001b[43mx\u001b[49m\u001b[43m)\u001b[49m\u001b[43m,\u001b[49m\u001b[43m \u001b[49m\u001b[38;5;241;43m*\u001b[39;49m\u001b[43margs\u001b[49m\u001b[43m)\u001b[49m\n",
      "File \u001b[0;32m~/opt/anaconda3/envs/rcell_rec/lib/python3.8/site-packages/optimparallel.py:191\u001b[0m, in \u001b[0;36mEvalParallel.fun\u001b[0;34m(self, x)\u001b[0m\n\u001b[1;32m    190\u001b[0m \u001b[38;5;28;01mdef\u001b[39;00m \u001b[38;5;21mfun\u001b[39m(\u001b[38;5;28mself\u001b[39m, x: ArrayLike):\n\u001b[0;32m--> 191\u001b[0m     \u001b[38;5;28;43mself\u001b[39;49m\u001b[38;5;241;43m.\u001b[39;49m\u001b[43meval_parallel\u001b[49m\u001b[43m(\u001b[49m\u001b[43mx\u001b[49m\u001b[38;5;241;43m=\u001b[39;49m\u001b[43mx\u001b[49m\u001b[43m)\u001b[49m\n\u001b[1;32m    192\u001b[0m     \u001b[38;5;28;01mif\u001b[39;00m \u001b[38;5;28mself\u001b[39m\u001b[38;5;241m.\u001b[39mverbose:\n\u001b[1;32m    193\u001b[0m         \u001b[38;5;28mprint\u001b[39m(\u001b[38;5;124m\"\u001b[39m\u001b[38;5;124mfun(\u001b[39m\u001b[38;5;124m\"\u001b[39m \u001b[38;5;241m+\u001b[39m \u001b[38;5;28mstr\u001b[39m(x) \u001b[38;5;241m+\u001b[39m \u001b[38;5;124m\"\u001b[39m\u001b[38;5;124m) = \u001b[39m\u001b[38;5;124m\"\u001b[39m \u001b[38;5;241m+\u001b[39m \u001b[38;5;28mstr\u001b[39m(\u001b[38;5;28mself\u001b[39m\u001b[38;5;241m.\u001b[39mfun_val))\n",
      "File \u001b[0;32m~/opt/anaconda3/envs/rcell_rec/lib/python3.8/site-packages/optimparallel.py:151\u001b[0m, in \u001b[0;36mEvalParallel.eval_parallel\u001b[0;34m(self, x)\u001b[0m\n\u001b[1;32m    142\u001b[0m     ftmp \u001b[38;5;241m=\u001b[39m \u001b[38;5;28mself\u001b[39m\u001b[38;5;241m.\u001b[39m_eval_approx\n\u001b[1;32m    144\u001b[0m ret \u001b[38;5;241m=\u001b[39m \u001b[38;5;28mself\u001b[39m\u001b[38;5;241m.\u001b[39mexecutor\u001b[38;5;241m.\u001b[39mmap(\n\u001b[1;32m    145\u001b[0m     ftmp,\n\u001b[1;32m    146\u001b[0m     eps_at,\n\u001b[0;32m   (...)\u001b[0m\n\u001b[1;32m    149\u001b[0m     itertools\u001b[38;5;241m.\u001b[39mrepeat(\u001b[38;5;28mself\u001b[39m\u001b[38;5;241m.\u001b[39meps),\n\u001b[1;32m    150\u001b[0m )\n\u001b[0;32m--> 151\u001b[0m ret \u001b[38;5;241m=\u001b[39m np\u001b[38;5;241m.\u001b[39marray(\u001b[38;5;28;43mlist\u001b[39;49m\u001b[43m(\u001b[49m\u001b[43mret\u001b[49m\u001b[43m)\u001b[49m)\n\u001b[1;32m    152\u001b[0m \u001b[38;5;28mself\u001b[39m\u001b[38;5;241m.\u001b[39mfun_val \u001b[38;5;241m=\u001b[39m ret[\u001b[38;5;241m0\u001b[39m]\n\u001b[1;32m    153\u001b[0m \u001b[38;5;28;01mif\u001b[39;00m \u001b[38;5;28mself\u001b[39m\u001b[38;5;241m.\u001b[39mforward:\n",
      "File \u001b[0;32m~/opt/anaconda3/envs/rcell_rec/lib/python3.8/concurrent/futures/process.py:484\u001b[0m, in \u001b[0;36m_chain_from_iterable_of_lists\u001b[0;34m(iterable)\u001b[0m\n\u001b[1;32m    478\u001b[0m \u001b[38;5;28;01mdef\u001b[39;00m \u001b[38;5;21m_chain_from_iterable_of_lists\u001b[39m(iterable):\n\u001b[1;32m    479\u001b[0m \u001b[38;5;250m    \u001b[39m\u001b[38;5;124;03m\"\"\"\u001b[39;00m\n\u001b[1;32m    480\u001b[0m \u001b[38;5;124;03m    Specialized implementation of itertools.chain.from_iterable.\u001b[39;00m\n\u001b[1;32m    481\u001b[0m \u001b[38;5;124;03m    Each item in *iterable* should be a list.  This function is\u001b[39;00m\n\u001b[1;32m    482\u001b[0m \u001b[38;5;124;03m    careful not to keep references to yielded objects.\u001b[39;00m\n\u001b[1;32m    483\u001b[0m \u001b[38;5;124;03m    \"\"\"\u001b[39;00m\n\u001b[0;32m--> 484\u001b[0m     \u001b[38;5;28;01mfor\u001b[39;00m element \u001b[38;5;129;01min\u001b[39;00m iterable:\n\u001b[1;32m    485\u001b[0m         element\u001b[38;5;241m.\u001b[39mreverse()\n\u001b[1;32m    486\u001b[0m         \u001b[38;5;28;01mwhile\u001b[39;00m element:\n",
      "File \u001b[0;32m~/opt/anaconda3/envs/rcell_rec/lib/python3.8/concurrent/futures/_base.py:611\u001b[0m, in \u001b[0;36mExecutor.map.<locals>.result_iterator\u001b[0;34m()\u001b[0m\n\u001b[1;32m    608\u001b[0m \u001b[38;5;28;01mwhile\u001b[39;00m fs:\n\u001b[1;32m    609\u001b[0m     \u001b[38;5;66;03m# Careful not to keep a reference to the popped future\u001b[39;00m\n\u001b[1;32m    610\u001b[0m     \u001b[38;5;28;01mif\u001b[39;00m timeout \u001b[38;5;129;01mis\u001b[39;00m \u001b[38;5;28;01mNone\u001b[39;00m:\n\u001b[0;32m--> 611\u001b[0m         \u001b[38;5;28;01myield\u001b[39;00m \u001b[43mfs\u001b[49m\u001b[38;5;241;43m.\u001b[39;49m\u001b[43mpop\u001b[49m\u001b[43m(\u001b[49m\u001b[43m)\u001b[49m\u001b[38;5;241;43m.\u001b[39;49m\u001b[43mresult\u001b[49m\u001b[43m(\u001b[49m\u001b[43m)\u001b[49m\n\u001b[1;32m    612\u001b[0m     \u001b[38;5;28;01melse\u001b[39;00m:\n\u001b[1;32m    613\u001b[0m         \u001b[38;5;28;01myield\u001b[39;00m fs\u001b[38;5;241m.\u001b[39mpop()\u001b[38;5;241m.\u001b[39mresult(end_time \u001b[38;5;241m-\u001b[39m time\u001b[38;5;241m.\u001b[39mmonotonic())\n",
      "File \u001b[0;32m~/opt/anaconda3/envs/rcell_rec/lib/python3.8/concurrent/futures/_base.py:439\u001b[0m, in \u001b[0;36mFuture.result\u001b[0;34m(self, timeout)\u001b[0m\n\u001b[1;32m    437\u001b[0m     \u001b[38;5;28;01mraise\u001b[39;00m CancelledError()\n\u001b[1;32m    438\u001b[0m \u001b[38;5;28;01melif\u001b[39;00m \u001b[38;5;28mself\u001b[39m\u001b[38;5;241m.\u001b[39m_state \u001b[38;5;241m==\u001b[39m FINISHED:\n\u001b[0;32m--> 439\u001b[0m     \u001b[38;5;28;01mreturn\u001b[39;00m \u001b[38;5;28;43mself\u001b[39;49m\u001b[38;5;241;43m.\u001b[39;49m\u001b[43m__get_result\u001b[49m\u001b[43m(\u001b[49m\u001b[43m)\u001b[49m\n\u001b[1;32m    440\u001b[0m \u001b[38;5;28;01melse\u001b[39;00m:\n\u001b[1;32m    441\u001b[0m     \u001b[38;5;28;01mraise\u001b[39;00m \u001b[38;5;167;01mTimeoutError\u001b[39;00m()\n",
      "File \u001b[0;32m~/opt/anaconda3/envs/rcell_rec/lib/python3.8/concurrent/futures/_base.py:388\u001b[0m, in \u001b[0;36mFuture.__get_result\u001b[0;34m(self)\u001b[0m\n\u001b[1;32m    386\u001b[0m \u001b[38;5;28;01mdef\u001b[39;00m \u001b[38;5;21m__get_result\u001b[39m(\u001b[38;5;28mself\u001b[39m):\n\u001b[1;32m    387\u001b[0m     \u001b[38;5;28;01mif\u001b[39;00m \u001b[38;5;28mself\u001b[39m\u001b[38;5;241m.\u001b[39m_exception:\n\u001b[0;32m--> 388\u001b[0m         \u001b[38;5;28;01mraise\u001b[39;00m \u001b[38;5;28mself\u001b[39m\u001b[38;5;241m.\u001b[39m_exception\n\u001b[1;32m    389\u001b[0m     \u001b[38;5;28;01melse\u001b[39;00m:\n\u001b[1;32m    390\u001b[0m         \u001b[38;5;28;01mreturn\u001b[39;00m \u001b[38;5;28mself\u001b[39m\u001b[38;5;241m.\u001b[39m_result\n",
      "\u001b[0;31mUnboundLocalError\u001b[0m: local variable 'sol' referenced before assignment"
     ]
    }
   ],
   "source": [
    "%%time\n",
    "\n",
    "combination = [ 3.57063675,7.43223245,5.22655188,0.90691345,7.27610953,10.25470161,\n",
    " 18.18596756]\n",
    "\n",
    "model = read_model(media)\n",
    "result = minimize_parallel(optimize_parameters_inner_problem_cellulose,\n",
    "                  combination,\n",
    "                  bounds=[(0.1,10),(0.1,20),(0.1,10),(0.1,20),(0.1,10),(0.1,20),(0.1,20)],\n",
    "                  args=(model,media,rxns,y0,objective_dir,glc_eq_dict),\n",
    "                 options ={'maxiter':100,'gtol': 1e-3,'ftol':1e-4},\n",
    "                  parallel = {'max_workers':4,'verbose':False})\n"
   ]
  },
  {
   "cell_type": "markdown",
   "id": "e3812f6d-0214-4165-b0e3-61b60c28897d",
   "metadata": {},
   "source": [
    "CPU times: user 16.7 s, sys: 2.97 s, total: 19.7 s\n",
    "Wall time: 42min 46s"
   ]
  },
  {
   "cell_type": "code",
   "execution_count": 13,
   "id": "b8dbbd30-ad41-4442-bba0-7b741c53bf2f",
   "metadata": {},
   "outputs": [
    {
     "data": {
      "text/plain": [
       "result.x           [5.16907737, 1.77849702, 6.04687408, 1.7649211...\n",
       "result.success                                                  True\n",
       "results.message      CONVERGENCE: REL_REDUCTION_OF_F_<=_FACTR*EPSMCH\n",
       "result.fun                                                 84.260088\n",
       "dtype: object"
      ]
     },
     "execution_count": 13,
     "metadata": {},
     "output_type": "execute_result"
    }
   ],
   "source": [
    "pd.Series({\"result.x\":[ 5.16907737,  1.77849702,  6.04687408,  1.76492112,  5.59893772,\n",
    "        8.81471336, 10.6161635 ,  0.07552199,  0.24068677],\n",
    "\"result.success\":True,\n",
    "\"results.message\":\"CONVERGENCE: REL_REDUCTION_OF_F_<=_FACTR*EPSMCH\",\n",
    "\"result.fun\":84.2600877155809\n",
    "})"
   ]
  },
  {
   "cell_type": "code",
   "execution_count": 14,
   "id": "66d2a7ff-a103-4829-a382-6850edc2d7ef",
   "metadata": {
    "scrolled": true,
    "tags": []
   },
   "outputs": [
    {
     "name": "stdout",
     "output_type": "stream",
     "text": [
      "[3.57063675, 7.43223245, 5.22655188, 0.90691345, 7.27610953, 10.25470161, 18.18596756]\n",
      "penalty: 2605.2933305227552\n",
      "CPU times: user 41.1 s, sys: 255 ms, total: 41.3 s\n",
      "Wall time: 41.6 s\n"
     ]
    }
   ],
   "source": [
    "%%time\n",
    "combination =  [ 3.57063675,7.43223245,5.22655188,0.90691345,7.27610953,10.25470161,\n",
    " 18.18596756]\n",
    "model = read_model(media)\n",
    "sol,penalty,penalty_dict = optimize_parameters_inner_problem_cellulose(combination=combination,model=model,media=media,rxns=rxns,y0=y0,objective_dir=objective_dir,glc_eq_dict=glc_eq_dict,alternative_solution=True,t_end=150)\n",
    "    "
   ]
  },
  {
   "cell_type": "code",
   "execution_count": 19,
   "id": "16dcea90-8fa8-43b6-8a74-991239140356",
   "metadata": {},
   "outputs": [],
   "source": [
    "from dfba_param_opt_cobra_cellulose import add_dynamic_bounds"
   ]
  },
  {
   "cell_type": "code",
   "execution_count": 20,
   "id": "b8318dc3-9ed0-4314-8c4b-287c84f811e7",
   "metadata": {},
   "outputs": [],
   "source": [
    "model = read_model(media)\n"
   ]
  },
  {
   "cell_type": "code",
   "execution_count": 21,
   "id": "45b596b7-fd92-411a-9b09-c981d97e3c74",
   "metadata": {},
   "outputs": [],
   "source": [
    "y = [0.880160405, 2.59270626, 0.0113171744, 27.1771327,\n",
    " 23.2283185, 5.79469779, 0.330988639]\n",
    "conc_dict =  dict(zip(rxns,y))\n"
   ]
  },
  {
   "cell_type": "code",
   "execution_count": 22,
   "id": "4d159adb-310d-496f-b47c-5f79e8a67f90",
   "metadata": {},
   "outputs": [],
   "source": [
    "cellulase = add_dynamic_bounds(model, conc_dict,glc_eq_dict,\n",
    "                   vmax_inner_glc=3.57063675,\n",
    "                   Km_inner_glc=7.43223245,\n",
    "                   vmax_inner_cellb=5.22655188,\n",
    "                   Km_inner_cellb=0.90691345,\n",
    "                   vmax_outer=7.27610953,\n",
    "                   Km_outer=10.25470161,\n",
    "                   Ki=18.18596756)\n",
    "\n",
    "\n",
    "#[ 3.57063675,7.43223245,5.22655188,0.90691345,7.27610953,10.25470161,18.18596756]"
   ]
  },
  {
   "cell_type": "code",
   "execution_count": 23,
   "id": "6e28e0d1-6dff-4e0e-8432-08e03490d762",
   "metadata": {},
   "outputs": [],
   "source": [
    "rxns_map = copy.copy(rxns)\n",
    "rxns_map.remove(\"EX_cellulose_e\")"
   ]
  },
  {
   "cell_type": "code",
   "execution_count": 24,
   "id": "a9369d44-b24b-4455-a3d5-7f2e1c5e5c94",
   "metadata": {},
   "outputs": [
    {
     "data": {
      "text/plain": [
       "{'EX_ac_e': 0,\n",
       " 'EX_ca2_e': 100,\n",
       " 'EX_cellb_e': 0.06441714920503566,\n",
       " 'EX_cl_e': 100,\n",
       " 'EX_cobalt2_e': 100,\n",
       " 'EX_cu2_e': 100,\n",
       " 'EX_fe2_e': 100,\n",
       " 'EX_fe3_e': 100,\n",
       " 'EX_glc__D_e': 0.9234582396674875,\n",
       " 'EX_h2o_e': 100,\n",
       " 'EX_h_e': 100,\n",
       " 'EX_k_e': 100,\n",
       " 'EX_mg2_e': 100,\n",
       " 'EX_mn2_e': 100,\n",
       " 'EX_nh4_e': 100,\n",
       " 'EX_pi_e': 100,\n",
       " 'EX_ribflv_e': 100,\n",
       " 'EX_so4_e': 100,\n",
       " 'EX_zn2_e': 100}"
      ]
     },
     "execution_count": 24,
     "metadata": {},
     "output_type": "execute_result"
    }
   ],
   "source": [
    "model.medium"
   ]
  },
  {
   "cell_type": "code",
   "execution_count": 25,
   "id": "afef43e4-4488-4751-b9f6-7f8dd2172426",
   "metadata": {},
   "outputs": [
    {
     "data": {
      "text/plain": [
       "-6.704509919017564e-09"
      ]
     },
     "execution_count": 25,
     "metadata": {},
     "output_type": "execute_result"
    }
   ],
   "source": [
    "feasibility = cobra.util.fix_objective_as_constraint(model)\n",
    "\n",
    "feasibility"
   ]
  },
  {
   "cell_type": "code",
   "execution_count": 26,
   "id": "cc86cd2a-012c-4437-8bf0-16aff79001f3",
   "metadata": {},
   "outputs": [
    {
     "data": {
      "text/plain": [
       "Growth         0.000128\n",
       "EX_glc__D_e   -0.923458\n",
       "EX_cellb_e    -0.064417\n",
       "EX_ac_e        1.016950\n",
       "EX_etoh_e      0.869188\n",
       "EX_lac__L_e    0.216834\n",
       "dtype: float64"
      ]
     },
     "execution_count": 26,
     "metadata": {},
     "output_type": "execute_result"
    }
   ],
   "source": [
    "lex_constraints = cobra.util.add_lexicographic_constraints(model, rxns_map, objective_dir)\n",
    "lex_constraints"
   ]
  },
  {
   "cell_type": "code",
   "execution_count": 61,
   "id": "6ec455a5-ea05-496e-ba7f-e213edb5e3af",
   "metadata": {},
   "outputs": [
    {
     "name": "stdout",
     "output_type": "stream",
     "text": [
      "fluxes: [ 1.49679374e-06  4.38006705e-02  2.78206839e-02  1.88822598e-02\n",
      "  1.82121893e-02  4.51834283e-03 -1.20257843e-01] \n",
      "\n"
     ]
    }
   ],
   "source": [
    "# Since the calculated fluxes are specific rates, we multiply them by the\n",
    "# biomass concentration to get the bulk exchange rates.\n",
    "fluxes =lex_constraints.values\n",
    "i = 1 \n",
    "for key, glc_eq in glc_eq_dict.items():\n",
    "    uptake = fluxes[i]\n",
    "    fluxes[i] = uptake - cellulase/(glc_eq*len(glc_eq_dict)) # 1 mol of cellulase produces one mol of glucose equivalents\n",
    "    i +=1\n",
    "\n",
    "fluxes =np.append(fluxes, cellulase)\n",
    "fluxes *= conc_dict[\"Growth\"]\n",
    "\n",
    "print(f\"fluxes: {fluxes} \\n\")\n",
    "\n"
   ]
  },
  {
   "cell_type": "code",
   "execution_count": 38,
   "id": "6797a7b6-f633-4ce7-960f-52e72116525a",
   "metadata": {},
   "outputs": [
    {
     "data": {
      "text/plain": [
       "{'penalty_growth': 300.33915792101647,\n",
       " 'penalty_cellulose': 72.43274879546254,\n",
       " 'penalty_acetate': 86.07661805258192,\n",
       " 'penalty_ethanol': 66.37717702448859,\n",
       " 'penalty_lac': 14.793521817248923}"
      ]
     },
     "execution_count": 38,
     "metadata": {},
     "output_type": "execute_result"
    }
   ],
   "source": [
    "penalty_dict"
   ]
  },
  {
   "cell_type": "code",
   "execution_count": 39,
   "id": "ed13de0e-b375-4ac5-9357-86058f9ba257",
   "metadata": {},
   "outputs": [],
   "source": [
    "C_dict_results = dict(zip(rxns,sol.y))"
   ]
  },
  {
   "cell_type": "code",
   "execution_count": 40,
   "id": "5151a2be-a85e-4ff8-ae4b-b02fc90393fd",
   "metadata": {},
   "outputs": [
    {
     "data": {
      "text/plain": [
       "<matplotlib.legend.Legend at 0x7f849990c5e0>"
      ]
     },
     "execution_count": 40,
     "metadata": {},
     "output_type": "execute_result"
    },
    {
     "data": {
      "image/png": "[encoded data removed]",
      "text/plain": [
       "<Figure size 1500x500 with 4 Axes>"
      ]
     },
     "metadata": {},
     "output_type": "display_data"
    }
   ],
   "source": [
    "fig,ax = plt.subplots(1,4,figsize=(15,5))\n",
    "\n",
    "ax[0].plot(sol.t,C_dict_results[\"Growth\"],label=\"Biomass\")\n",
    "\n",
    "ax[0].plot(biomass_exp.x,biomass_exp[\"y g\"],'x',color=\"tab:blue\")\n",
    "ax[0].legend()\n",
    "\n",
    "ax[1].plot(sol.t,C_dict_results[\"EX_cellulose_e\"],label=\"Cellulose\")\n",
    "ax[1].plot(cellulose_exp.x,cellulose_exp[\"y mmol\"],'x',color=\"tab:blue\")\n",
    "ax[1].legend()\n",
    "\n",
    "ax[2].plot(sol.t,C_dict_results[\"EX_cellb_e\"],label=\"Cellobiose\")\n",
    "ax[2].plot(cellb_exp.x,cellb_exp[\" y\"],'x',color=\"tab:blue\")\n",
    "\n",
    "ax[2].plot(sol.t,C_dict_results[\"EX_glc__D_e\"],color=\"r\",label=\"Glucose\")\n",
    "ax[2].plot(glc_exp.x,glc_exp[\" y\"],'x',color=\"r\")\n",
    "\n",
    "ax[2].legend()\n",
    "\n",
    "\n",
    "ax[3].plot(sol.t,C_dict_results[\"EX_ac_e\"],color=\"r\",label=\"Acetate\")\n",
    "ax[3].plot(acetate_exp.x,acetate_exp[\" y\"],'x',color=\"r\")\n",
    "\n",
    "\n",
    "ax[3].plot(sol.t,C_dict_results[\"EX_etoh_e\"],color=\"b\",label=\"Ethanol\")\n",
    "ax[3].plot(ethanol_exp.x,ethanol_exp[\" y\"],'x',color=\"b\")\n",
    "\n",
    "ax[3].plot(sol.t,C_dict_results[\"EX_lac__L_e\"],color=\"g\",label=\"Lactate\")\n",
    "ax[3].plot(lactate_exp.x,lactate_exp[\" y\"],'x',color=\"g\")\n",
    "ax[3].legend()"
   ]
  },
  {
   "cell_type": "markdown",
   "id": "a5fa0da8-3bbf-448b-8626-913b357036e5",
   "metadata": {},
   "source": [
    "#### Testing out a combination closer to the best values"
   ]
  },
  {
   "cell_type": "code",
   "execution_count": 22,
   "id": "1c739f44-151b-4f39-9350-b67d0228f4dd",
   "metadata": {},
   "outputs": [],
   "source": [
    "combination = [6.01,0.2,5.01,0.2,2.9,4.4,11,0,0]"
   ]
  },
  {
   "cell_type": "raw",
   "id": "90014e42-05a1-4045-b962-540346da3b61",
   "metadata": {
    "tags": []
   },
   "source": [
    "%%time\n",
    "model = read_model(media)\n",
    "result = minimize_parallel(optimize_parameters_inner_problem_cellulose,\n",
    "                  combination,\n",
    "                  bounds=[(0.1,10),(0.1,20),(0.1,10),(0.1,20),(0.1,10),(0.1,20),(0.1,20),(0,0.5),(-2,2)],\n",
    "                  args=(model,media,rxns,y0,objective_dir,glc_eq_dict),\n",
    "                 options ={'maxiter':100,'gtol': 1e-3,'ftol':1e-4},\n",
    "                  parallel = {'max_workers':4,'verbose':False})\n"
   ]
  },
  {
   "cell_type": "markdown",
   "id": "a1437228-08d4-4184-81d4-c014e1b7600b",
   "metadata": {},
   "source": [
    "CPU times: user 13.1 s, sys: 2.22 s, total: 15.3 s\n",
    "Wall time: 41min 41s"
   ]
  },
  {
   "cell_type": "code",
   "execution_count": 74,
   "id": "3ec93e9f-f262-41ff-978d-297e7280ad2c",
   "metadata": {},
   "outputs": [
    {
     "data": {
      "text/plain": [
       "result.x               [5.51984901, 0.18524121, 5.42517869, 0.1902395...\n",
       "result.success                                                      True\n",
       "results.convergence      CONVERGENCE: REL_REDUCTION_OF_F_<=_FACTR*EPSMCH\n",
       "result.fun                                                     21.353896\n",
       "dtype: object"
      ]
     },
     "execution_count": 74,
     "metadata": {},
     "output_type": "execute_result"
    }
   ],
   "source": [
    "pd.Series({\"result.x\":[ 5.51984901,  0.18524121,  5.42517869,  0.1902395 ,  2.66153537,\n",
    "        4.02279575, 11.73930932,  0.11992288,  0.04280795],\n",
    "\"result.success\":True,\n",
    "\"results.convergence\":\"CONVERGENCE: REL_REDUCTION_OF_F_<=_FACTR*EPSMCH\",\n",
    "\"result.fun\":21.353895719513883\n",
    "})"
   ]
  },
  {
   "cell_type": "code",
   "execution_count": 29,
   "id": "46544155-d125-47fd-92f1-5618130f855c",
   "metadata": {},
   "outputs": [],
   "source": [
    "combination = result.x\n",
    "\n",
    "\n",
    "model = read_model(media)\n",
    "sol,penalty,penalty_dict = optimize_parameters_inner_problem_cellulose(combination=combination,model=model,media=media,rxns=rxns,y0=y0,objective_dir=objective_dir,glc_eq_dict=glc_eq_dict,alternative_solution=True,t_end=150)\n",
    "    "
   ]
  },
  {
   "cell_type": "code",
   "execution_count": 30,
   "id": "5a161369-8b79-47fb-bda9-748124887830",
   "metadata": {},
   "outputs": [
    {
     "data": {
      "text/plain": [
       "{'penalty_growth': 6.990038387647931,\n",
       " 'penalty_cellulose': 4.357499622605967,\n",
       " 'penalty_acetate': 1.1148768296961604,\n",
       " 'penalty_ethanol': 8.83632170804648,\n",
       " 'penalty_lac': 0.05621924015412904}"
      ]
     },
     "execution_count": 30,
     "metadata": {},
     "output_type": "execute_result"
    }
   ],
   "source": [
    "penalty_dict"
   ]
  },
  {
   "cell_type": "code",
   "execution_count": 31,
   "id": "fd83f2d9-6fe6-4b2f-91c8-7758ed079289",
   "metadata": {},
   "outputs": [],
   "source": [
    "C_dict_results = dict(zip(rxns,sol.y))"
   ]
  },
  {
   "cell_type": "code",
   "execution_count": 32,
   "id": "37e6c49c-eada-4d1e-b062-f98b4ba025b9",
   "metadata": {},
   "outputs": [
    {
     "data": {
      "text/plain": [
       "<matplotlib.legend.Legend at 0x7fab8ec19640>"
      ]
     },
     "execution_count": 32,
     "metadata": {},
     "output_type": "execute_result"
    },
    {
     "data": {
      "image/png": "[encoded data removed]",
      "text/plain": [
       "<Figure size 1500x500 with 4 Axes>"
      ]
     },
     "metadata": {},
     "output_type": "display_data"
    }
   ],
   "source": [
    "fig,ax = plt.subplots(1,4,figsize=(15,5))\n",
    "\n",
    "ax[0].plot(sol.t,C_dict_results[\"Growth\"],label=\"Biomass\")\n",
    "\n",
    "ax[0].plot(biomass_exp.x,biomass_exp[\"y g\"],'x',color=\"tab:blue\")\n",
    "ax[0].legend()\n",
    "\n",
    "ax[1].plot(sol.t,C_dict_results[\"EX_cellulose_e\"],label=\"Cellulose\")\n",
    "ax[1].plot(cellulose_exp.x,cellulose_exp[\"y mmol\"],'x',color=\"tab:blue\")\n",
    "ax[1].legend()\n",
    "\n",
    "ax[2].plot(sol.t,C_dict_results[\"EX_cellb_e\"],label=\"Cellobiose\")\n",
    "ax[2].plot(cellb_exp.x,cellb_exp[\" y\"],'x',color=\"tab:blue\")\n",
    "\n",
    "ax[2].plot(sol.t,C_dict_results[\"EX_glc__D_e\"],color=\"r\",label=\"Glucose\")\n",
    "ax[2].plot(glc_exp.x,glc_exp[\" y\"],'x',color=\"r\")\n",
    "\n",
    "ax[2].legend()\n",
    "\n",
    "\n",
    "ax[3].plot(sol.t,C_dict_results[\"EX_ac_e\"],color=\"r\",label=\"Acetate\")\n",
    "ax[3].plot(acetate_exp.x,acetate_exp[\" y\"],'x',color=\"r\")\n",
    "\n",
    "\n",
    "ax[3].plot(sol.t,C_dict_results[\"EX_etoh_e\"],color=\"b\",label=\"Ethanol\")\n",
    "ax[3].plot(ethanol_exp.x,ethanol_exp[\" y\"],'x',color=\"b\")\n",
    "\n",
    "ax[3].plot(sol.t,C_dict_results[\"EX_lac__L_e\"],color=\"g\",label=\"Lactate\")\n",
    "ax[3].plot(lactate_exp.x,lactate_exp[\" y\"],'x',color=\"g\")\n",
    "ax[3].legend()"
   ]
  },
  {
   "cell_type": "markdown",
   "id": "754a8e39-a200-4a9a-bddb-21342acfb7eb",
   "metadata": {},
   "source": [
    "#### Another combination"
   ]
  },
  {
   "cell_type": "code",
   "execution_count": 64,
   "id": "54bbdc51-d0dc-43b4-8a0b-2c33e43c328a",
   "metadata": {},
   "outputs": [],
   "source": [
    "combination = [ 3.51984901,  1.18524121,  3.42517869,  1.1902395 ,  4.66153537,\n",
    "        10, 11.73930932,  0.2,  0.04280795]"
   ]
  },
  {
   "cell_type": "code",
   "execution_count": 65,
   "id": "6cce221c-ac93-4822-b96b-e5125f1b2e2e",
   "metadata": {},
   "outputs": [
    {
     "name": "stdout",
     "output_type": "stream",
     "text": [
      "[3.51984901, 1.18524121, 3.42517869, 1.1902395, 4.66153537, 10, 11.73930932, 0.2, 0.04280795]\n",
      "1-r2: 263.7990873615984\n"
     ]
    }
   ],
   "source": [
    "model = read_model(media)\n",
    "sol,penalty,penalty_dict = optimize_parameters_inner_problem_cellulose(combination=combination,model=model,media=media,rxns=rxns,y0=y0,objective_dir=objective_dir,glc_eq_dict=glc_eq_dict,alternative_solution=True,t_end=150)\n",
    "    "
   ]
  },
  {
   "cell_type": "code",
   "execution_count": 66,
   "id": "b54670fc-e730-42c2-a14e-28fefbc49ad6",
   "metadata": {},
   "outputs": [
    {
     "data": {
      "text/plain": [
       "{'penalty_growth': 62.169497412241164,\n",
       " 'penalty_cellulose': 128.48593222620303,\n",
       " 'penalty_acetate': 29.307825793262936,\n",
       " 'penalty_ethanol': 39.70942101407155,\n",
       " 'penalty_lac': 4.126410915819728}"
      ]
     },
     "execution_count": 66,
     "metadata": {},
     "output_type": "execute_result"
    }
   ],
   "source": [
    "penalty_dict"
   ]
  },
  {
   "cell_type": "code",
   "execution_count": 67,
   "id": "6b4b7e33-4c7b-4de3-bc87-d605c6268ce6",
   "metadata": {},
   "outputs": [],
   "source": [
    "C_dict_results = dict(zip(rxns,sol.y))"
   ]
  },
  {
   "cell_type": "code",
   "execution_count": 68,
   "id": "aaadeecf-05ea-4487-beea-30e48b6a583c",
   "metadata": {},
   "outputs": [
    {
     "data": {
      "text/plain": [
       "<matplotlib.legend.Legend at 0x7fab5a032940>"
      ]
     },
     "execution_count": 68,
     "metadata": {},
     "output_type": "execute_result"
    },
    {
     "data": {
      "image/png": "[encoded data removed]",
      "text/plain": [
       "<Figure size 1500x500 with 4 Axes>"
      ]
     },
     "metadata": {},
     "output_type": "display_data"
    }
   ],
   "source": [
    "fig,ax = plt.subplots(1,4,figsize=(15,5))\n",
    "\n",
    "ax[0].plot(sol.t,C_dict_results[\"Growth\"],label=\"Biomass\")\n",
    "\n",
    "ax[0].plot(biomass_exp.x,biomass_exp[\"y g\"],'x',color=\"tab:blue\")\n",
    "ax[0].legend()\n",
    "\n",
    "ax[1].plot(sol.t,C_dict_results[\"EX_cellulose_e\"],label=\"Cellulose\")\n",
    "ax[1].plot(cellulose_exp.x,cellulose_exp[\"y mmol\"],'x',color=\"tab:blue\")\n",
    "ax[1].legend()\n",
    "\n",
    "ax[2].plot(sol.t,C_dict_results[\"EX_cellb_e\"],label=\"Cellobiose\")\n",
    "ax[2].plot(cellb_exp.x,cellb_exp[\" y\"],'x',color=\"tab:blue\")\n",
    "\n",
    "ax[2].plot(sol.t,C_dict_results[\"EX_glc__D_e\"],color=\"r\",label=\"Glucose\")\n",
    "ax[2].plot(glc_exp.x,glc_exp[\" y\"],'x',color=\"r\")\n",
    "\n",
    "ax[2].legend()\n",
    "\n",
    "\n",
    "ax[3].plot(sol.t,C_dict_results[\"EX_ac_e\"],color=\"r\",label=\"Acetate\")\n",
    "ax[3].plot(acetate_exp.x,acetate_exp[\" y\"],'x',color=\"r\")\n",
    "\n",
    "\n",
    "ax[3].plot(sol.t,C_dict_results[\"EX_etoh_e\"],color=\"b\",label=\"Ethanol\")\n",
    "ax[3].plot(ethanol_exp.x,ethanol_exp[\" y\"],'x',color=\"b\")\n",
    "\n",
    "ax[3].plot(sol.t,C_dict_results[\"EX_lac__L_e\"],color=\"g\",label=\"Lactate\")\n",
    "ax[3].plot(lactate_exp.x,lactate_exp[\" y\"],'x',color=\"g\")\n",
    "ax[3].legend()"
   ]
  },
  {
   "cell_type": "code",
   "execution_count": null,
   "id": "a2c3c6d7-02ac-4b84-a73b-c969aba82322",
   "metadata": {},
   "outputs": [],
   "source": []
  }
 ],
 "metadata": {
  "kernelspec": {
   "display_name": "rcell_rec",
   "language": "python",
   "name": "rcell_rec"
  },
  "language_info": {
   "codemirror_mode": {
    "name": "ipython",
    "version": 3
   },
   "file_extension": ".py",
   "mimetype": "text/x-python",
   "name": "python",
   "nbconvert_exporter": "python",
   "pygments_lexer": "ipython3",
   "version": "3.8.6"
  }
 },
 "nbformat": 4,
 "nbformat_minor": 5
}
