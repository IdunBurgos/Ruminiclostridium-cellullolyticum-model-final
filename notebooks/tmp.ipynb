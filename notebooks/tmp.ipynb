{
 "cells": [
  {
   "cell_type": "code",
   "execution_count": 28,
   "id": "69cc4a54-61c5-41cc-a30e-84dd54122404",
   "metadata": {},
   "outputs": [],
   "source": [
    "from reframed import load_cbmodel, Environment, FBA, pFBA\n",
    "import pandas as pd"
   ]
  },
  {
   "cell_type": "code",
   "execution_count": 29,
   "id": "bce96623-5fc2-48bb-b88f-acb4ce95e85f",
   "metadata": {},
   "outputs": [],
   "source": [
    "model = load_cbmodel('../models/RcH10_final.xml')"
   ]
  },
  {
   "cell_type": "code",
   "execution_count": 30,
   "id": "510ff7a2-01f7-4859-82df-06b057cec3f4",
   "metadata": {},
   "outputs": [],
   "source": [
    "media = pd.read_csv('../input/media_db.tsv',sep='\\t')\n",
    "media = media.groupby('medium').agg({'compound': set})['compound'].to_dict()"
   ]
  },
  {
   "cell_type": "code",
   "execution_count": 31,
   "id": "219aa5f6-1cdb-49d5-bfda-3ecfe480c191",
   "metadata": {},
   "outputs": [],
   "source": [
    "env_init=Environment.from_compounds(media['MM_glucose'])\n",
    "env_init.apply(model, exclusive=True, inplace=True, warning=False)"
   ]
  },
  {
   "cell_type": "code",
   "execution_count": 32,
   "id": "d7ba6977-1e6b-4ef7-8c75-41479ab980e3",
   "metadata": {},
   "outputs": [],
   "source": [
    "sol = FBA(model)"
   ]
  },
  {
   "cell_type": "code",
   "execution_count": 33,
   "id": "de0f4215-5c9f-417a-9a36-8e30e9bed7a9",
   "metadata": {},
   "outputs": [
    {
     "name": "stdout",
     "output_type": "stream",
     "text": [
      "R_EX_glc__D_e -10\n",
      "R_EX_h_e     -10\n",
      "R_EX_no3_e   -7.28634\n",
      "R_EX_pi_e    -0.578874\n",
      "R_EX_so4_e   -0.165757\n",
      "R_EX_k_e     -0.129095\n",
      "R_EX_d23hb_e  0.248909\n",
      "R_EX_nh4_e    0.743859\n",
      "R_EX_h2o_e    5.63925\n",
      "R_EX_ac_e     10.8642\n",
      "R_EX_co2_e    12.0082\n"
     ]
    }
   ],
   "source": [
    "sol.show_values(pattern='R_EX', sort=True, abstol=0.1)"
   ]
  },
  {
   "cell_type": "code",
   "execution_count": null,
   "id": "4ed6f552-93dd-446e-9656-3ca6cee20693",
   "metadata": {},
   "outputs": [],
   "source": []
  }
 ],
 "metadata": {
  "kernelspec": {
   "display_name": "Python 3 (ipykernel)",
   "language": "python",
   "name": "python3"
  },
  "language_info": {
   "codemirror_mode": {
    "name": "ipython",
    "version": 3
   },
   "file_extension": ".py",
   "mimetype": "text/x-python",
   "name": "python",
   "nbconvert_exporter": "python",
   "pygments_lexer": "ipython3",
   "version": "3.10.8"
  }
 },
 "nbformat": 4,
 "nbformat_minor": 5
}
