{
 "cells": [
  {
   "cell_type": "code",
   "execution_count": 12,
   "id": "69cc4a54-61c5-41cc-a30e-84dd54122404",
   "metadata": {},
   "outputs": [],
   "source": [
    "from reframed import load_cbmodel, Environment, FBA, pFBA, ReactionType\n",
    "import pandas as pd"
   ]
  },
  {
   "cell_type": "code",
   "execution_count": 64,
   "id": "bce96623-5fc2-48bb-b88f-acb4ce95e85f",
   "metadata": {},
   "outputs": [],
   "source": [
    "model = load_cbmodel('../models/iFS431 copy.xml', flavor='cobra')"
   ]
  },
  {
   "cell_type": "code",
   "execution_count": 68,
   "id": "c6d06ada-ad75-4529-8e05-b6d88e1f0889",
   "metadata": {
    "tags": []
   },
   "outputs": [
    {
     "data": {
      "text/plain": [
       "752"
      ]
     },
     "execution_count": 68,
     "metadata": {},
     "output_type": "execute_result"
    }
   ],
   "source": [
    "len(model.metabolites)"
   ]
  },
  {
   "cell_type": "code",
   "execution_count": 69,
   "id": "52a59e3b-7c8a-451f-b8c2-824ccc770d48",
   "metadata": {
    "tags": []
   },
   "outputs": [
    {
     "data": {
      "text/plain": [
       "743"
      ]
     },
     "execution_count": 69,
     "metadata": {},
     "output_type": "execute_result"
    }
   ],
   "source": [
    "len(model.reactions)"
   ]
  },
  {
   "cell_type": "code",
   "execution_count": 67,
   "id": "8ecd147e-9491-4993-840d-5fee4f8c8480",
   "metadata": {
    "tags": []
   },
   "outputs": [
    {
     "name": "stdout",
     "output_type": "stream",
     "text": [
      "Metabolites:\n",
      "c 679\n",
      "e 73\n",
      "\n",
      "Reactions:\n",
      "enzymatic 0\n",
      "transport 79\n",
      "exchange 31\n",
      "sink 0\n",
      "other 633\n"
     ]
    }
   ],
   "source": [
    "model.summary()"
   ]
  },
  {
   "cell_type": "code",
   "execution_count": 53,
   "id": "9bdf544d-9ef3-44b4-a47c-0fc83da6916a",
   "metadata": {
    "tags": []
   },
   "outputs": [
    {
     "data": {
      "text/plain": [
       "1093"
      ]
     },
     "execution_count": 53,
     "metadata": {},
     "output_type": "execute_result"
    }
   ],
   "source": [
    "860 + 233"
   ]
  },
  {
   "cell_type": "code",
   "execution_count": null,
   "id": "793f17a2-5af3-41fa-95d7-c6d4dd0623b6",
   "metadata": {},
   "outputs": [],
   "source": []
  }
 ],
 "metadata": {
  "kernelspec": {
   "display_name": "Python 3 (ipykernel)",
   "language": "python",
   "name": "python3"
  },
  "language_info": {
   "codemirror_mode": {
    "name": "ipython",
    "version": 3
   },
   "file_extension": ".py",
   "mimetype": "text/x-python",
   "name": "python",
   "nbconvert_exporter": "python",
   "pygments_lexer": "ipython3",
   "version": "3.10.8"
  }
 },
 "nbformat": 4,
 "nbformat_minor": 5
}
