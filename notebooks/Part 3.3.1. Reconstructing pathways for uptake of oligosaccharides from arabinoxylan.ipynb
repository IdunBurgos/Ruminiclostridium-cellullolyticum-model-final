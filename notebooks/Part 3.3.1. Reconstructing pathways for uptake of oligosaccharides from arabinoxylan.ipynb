{
 "cells": [
  {
   "cell_type": "markdown",
   "id": "5a66bd26-bdd5-47cc-9aed-30c79225689d",
   "metadata": {},
   "source": [
    "# Part 3.3.1. Reconstructing pathways for uptake of oligosaccharides from cellulose"
   ]
  },
  {
   "cell_type": "code",
   "execution_count": 46,
   "id": "7ba19a13-e003-4e34-b7e6-3d513b8c4e0c",
   "metadata": {},
   "outputs": [],
   "source": [
    "import pandas as pd\n",
    "import reframed\n",
    "from reframed import Metabolite, GPRAssociation,Gene,Protein, ReactionType,CBReaction,Environment,FVA\n",
    "import json\n",
    "from collections import OrderedDict"
   ]
  },
  {
   "cell_type": "markdown",
   "id": "77df0640-edfc-4ea7-ab5c-694729123407",
   "metadata": {},
   "source": [
    "## Reconstructing pathway"
   ]
  },
  {
   "cell_type": "markdown",
   "id": "05927f96-9780-46cb-9078-ea67d93fe83a",
   "metadata": {},
   "source": [
    "### Metabolites\n",
    "    "
   ]
  },
  {
   "cell_type": "code",
   "execution_count": 47,
   "id": "e5466996-49a9-4f7a-86f9-eea4a0b90e5b",
   "metadata": {},
   "outputs": [
    {
     "data": {
      "text/html": [
       "<div>\n",
       "<style scoped>\n",
       "    .dataframe tbody tr th:only-of-type {\n",
       "        vertical-align: middle;\n",
       "    }\n",
       "\n",
       "    .dataframe tbody tr th {\n",
       "        vertical-align: top;\n",
       "    }\n",
       "\n",
       "    .dataframe thead th {\n",
       "        text-align: right;\n",
       "    }\n",
       "</style>\n",
       "<table border=\"1\" class=\"dataframe\">\n",
       "  <thead>\n",
       "    <tr style=\"text-align: right;\">\n",
       "      <th></th>\n",
       "      <th>Name</th>\n",
       "      <th>Identifier</th>\n",
       "      <th>Compartment</th>\n",
       "      <th>Formula</th>\n",
       "      <th>Charge</th>\n",
       "    </tr>\n",
       "  </thead>\n",
       "  <tbody>\n",
       "    <tr>\n",
       "      <th>0</th>\n",
       "      <td>Arabinoxylan oligosaccharide (xylose,n=2. arab...</td>\n",
       "      <td>M_AX_e</td>\n",
       "      <td>e</td>\n",
       "      <td>C15H26O13</td>\n",
       "      <td>0.0</td>\n",
       "    </tr>\n",
       "    <tr>\n",
       "      <th>1</th>\n",
       "      <td>Arabinoxylan oligosaccharide (xylose,n=2. arab...</td>\n",
       "      <td>M_AX_c</td>\n",
       "      <td>c</td>\n",
       "      <td>C15H26O13</td>\n",
       "      <td>0.0</td>\n",
       "    </tr>\n",
       "    <tr>\n",
       "      <th>2</th>\n",
       "      <td>Arabinoxylan oligosaccharide (xylose,n=3. arab...</td>\n",
       "      <td>M_AXX_e</td>\n",
       "      <td>e</td>\n",
       "      <td>C20H34O17</td>\n",
       "      <td>0.0</td>\n",
       "    </tr>\n",
       "    <tr>\n",
       "      <th>3</th>\n",
       "      <td>Arabinoxylan oligosaccharide (xylose,n=3. arab...</td>\n",
       "      <td>M_AXX_c</td>\n",
       "      <td>c</td>\n",
       "      <td>C20H34O17</td>\n",
       "      <td>0.0</td>\n",
       "    </tr>\n",
       "    <tr>\n",
       "      <th>4</th>\n",
       "      <td>Arabinoxylan oligosaccharide (xylose,n=4. arab...</td>\n",
       "      <td>M_XA23XX_e</td>\n",
       "      <td>e</td>\n",
       "      <td>C30H50O25</td>\n",
       "      <td>0.0</td>\n",
       "    </tr>\n",
       "    <tr>\n",
       "      <th>5</th>\n",
       "      <td>Arabinoxylan oligosaccharide (xylose,n=4. arab...</td>\n",
       "      <td>M_XA23XX_c</td>\n",
       "      <td>c</td>\n",
       "      <td>C30H50O25</td>\n",
       "      <td>0.0</td>\n",
       "    </tr>\n",
       "    <tr>\n",
       "      <th>6</th>\n",
       "      <td>Arabinoxylan oligosaccharide (xylose,n=3. arab...</td>\n",
       "      <td>M_XA23X_c</td>\n",
       "      <td>c</td>\n",
       "      <td>C25H42O21</td>\n",
       "      <td>0.0</td>\n",
       "    </tr>\n",
       "    <tr>\n",
       "      <th>7</th>\n",
       "      <td>Arabinoxylan oligosaccharide (xylose,n=3. arab...</td>\n",
       "      <td>M_A23XX_c</td>\n",
       "      <td>c</td>\n",
       "      <td>C25H42O21</td>\n",
       "      <td>0.0</td>\n",
       "    </tr>\n",
       "    <tr>\n",
       "      <th>8</th>\n",
       "      <td>Arabinoxylan oligosaccharide (xylose,n=3. arab...</td>\n",
       "      <td>M_A23XX_e</td>\n",
       "      <td>e</td>\n",
       "      <td>C25H42O21</td>\n",
       "      <td>0.0</td>\n",
       "    </tr>\n",
       "    <tr>\n",
       "      <th>9</th>\n",
       "      <td>Arabinoxylan oligosaccharide (xylose,n=4. arab...</td>\n",
       "      <td>M_XAXX_c</td>\n",
       "      <td>c</td>\n",
       "      <td>C25H42O21</td>\n",
       "      <td>0.0</td>\n",
       "    </tr>\n",
       "    <tr>\n",
       "      <th>10</th>\n",
       "      <td>Arabinoxylan oligosaccharide (xylose,n=4. arab...</td>\n",
       "      <td>M_XAXX_e</td>\n",
       "      <td>e</td>\n",
       "      <td>C25H42O21</td>\n",
       "      <td>0.0</td>\n",
       "    </tr>\n",
       "    <tr>\n",
       "      <th>11</th>\n",
       "      <td>Arabinoxylan oligosaccharide (xylose,n=3. arab...</td>\n",
       "      <td>M_XAX_c</td>\n",
       "      <td>c</td>\n",
       "      <td>C20H34O17</td>\n",
       "      <td>0.0</td>\n",
       "    </tr>\n",
       "  </tbody>\n",
       "</table>\n",
       "</div>"
      ],
      "text/plain": [
       "                                                 Name  Identifier Compartment  \\\n",
       "0   Arabinoxylan oligosaccharide (xylose,n=2. arab...      M_AX_e           e   \n",
       "1   Arabinoxylan oligosaccharide (xylose,n=2. arab...      M_AX_c           c   \n",
       "2   Arabinoxylan oligosaccharide (xylose,n=3. arab...     M_AXX_e           e   \n",
       "3   Arabinoxylan oligosaccharide (xylose,n=3. arab...     M_AXX_c           c   \n",
       "4   Arabinoxylan oligosaccharide (xylose,n=4. arab...  M_XA23XX_e           e   \n",
       "5   Arabinoxylan oligosaccharide (xylose,n=4. arab...  M_XA23XX_c           c   \n",
       "6   Arabinoxylan oligosaccharide (xylose,n=3. arab...   M_XA23X_c           c   \n",
       "7   Arabinoxylan oligosaccharide (xylose,n=3. arab...   M_A23XX_c           c   \n",
       "8   Arabinoxylan oligosaccharide (xylose,n=3. arab...   M_A23XX_e           e   \n",
       "9   Arabinoxylan oligosaccharide (xylose,n=4. arab...    M_XAXX_c           c   \n",
       "10  Arabinoxylan oligosaccharide (xylose,n=4. arab...    M_XAXX_e           e   \n",
       "11  Arabinoxylan oligosaccharide (xylose,n=3. arab...     M_XAX_c           c   \n",
       "\n",
       "      Formula  Charge  \n",
       "0   C15H26O13     0.0  \n",
       "1   C15H26O13     0.0  \n",
       "2   C20H34O17     0.0  \n",
       "3   C20H34O17     0.0  \n",
       "4   C30H50O25     0.0  \n",
       "5   C30H50O25     0.0  \n",
       "6   C25H42O21     0.0  \n",
       "7   C25H42O21     0.0  \n",
       "8   C25H42O21     0.0  \n",
       "9   C25H42O21     0.0  \n",
       "10  C25H42O21     0.0  \n",
       "11  C20H34O17     0.0  "
      ]
     },
     "execution_count": 47,
     "metadata": {},
     "output_type": "execute_result"
    }
   ],
   "source": [
    "metabolites = pd.read_excel('/Users/idunmariaburgos/Documents/Work/Project/Ruminiclostridium cellulolyticum part 2/Polysaccharide degrading pathways.xlsx',\n",
    "                              sheet_name=\"Mets. arabinoxylan\", \n",
    "                              usecols=\"A:E\").dropna(how='all')\n",
    "metabolites"
   ]
  },
  {
   "cell_type": "code",
   "execution_count": 48,
   "id": "a4c43595-3da0-42d3-bcdb-263619aaecad",
   "metadata": {},
   "outputs": [],
   "source": [
    "mets = []\n",
    "\n",
    "for index, row in metabolites.iterrows():\n",
    "    # Create metabolite object\n",
    "    met_id=row['Identifier']\n",
    "    name=row['Name']\n",
    "    compartment=\"C_\"+row['Compartment']\n",
    "\n",
    "    met = Metabolite(met_id=met_id, name=name,compartment=compartment)\n",
    "    \n",
    "    # Add metadata  \n",
    "    formula = row['Formula']\n",
    "    charge = row['Charge']\n",
    "    \n",
    "    met.metadata=OrderedDict({'FORMULA':formula,\n",
    "                             'CHARGE':str(charge)})                   \n",
    "    mets.append(met)"
   ]
  },
  {
   "cell_type": "code",
   "execution_count": 49,
   "id": "94e90ef1-2335-4b2e-931e-5b605ee16f2d",
   "metadata": {},
   "outputs": [
    {
     "data": {
      "text/plain": [
       "[Arabinoxylan oligosaccharide (xylose,n=2. arabinose,n=1) ,\n",
       " Arabinoxylan oligosaccharide (xylose,n=2. arabinose,n=1) ,\n",
       " Arabinoxylan oligosaccharide (xylose,n=3. arabinose,n=1) ,\n",
       " Arabinoxylan oligosaccharide (xylose,n=3. arabinose,n=1) ,\n",
       " Arabinoxylan oligosaccharide (xylose,n=4. arabinose,n=2) ,\n",
       " Arabinoxylan oligosaccharide (xylose,n=4. arabinose,n=2) ,\n",
       " Arabinoxylan oligosaccharide (xylose,n=3. arabinose,n=2) ,\n",
       " Arabinoxylan oligosaccharide (xylose,n=3. arabinose,n=2) ,\n",
       " Arabinoxylan oligosaccharide (xylose,n=3. arabinose,n=2) ,\n",
       " Arabinoxylan oligosaccharide (xylose,n=4. arabinose,n=1) ,\n",
       " Arabinoxylan oligosaccharide (xylose,n=4. arabinose,n=1) ,\n",
       " Arabinoxylan oligosaccharide (xylose,n=3. arabinose,n=1) ]"
      ]
     },
     "execution_count": 49,
     "metadata": {},
     "output_type": "execute_result"
    }
   ],
   "source": [
    "mets"
   ]
  },
  {
   "cell_type": "code",
   "execution_count": 50,
   "id": "6f8d04b3-bddc-44b1-80e0-f5fe812c3b7a",
   "metadata": {},
   "outputs": [
    {
     "data": {
      "text/plain": [
       "['M_AX_e',\n",
       " 'M_AX_c',\n",
       " 'M_AXX_e',\n",
       " 'M_AXX_c',\n",
       " 'M_XA23XX_e',\n",
       " 'M_XA23XX_c',\n",
       " 'M_XA23X_c',\n",
       " 'M_A23XX_c',\n",
       " 'M_A23XX_e',\n",
       " 'M_XAXX_c',\n",
       " 'M_XAXX_e',\n",
       " 'M_XAX_c']"
      ]
     },
     "execution_count": 50,
     "metadata": {},
     "output_type": "execute_result"
    }
   ],
   "source": [
    "[met.id for met in mets]"
   ]
  },
  {
   "cell_type": "markdown",
   "id": "9652ed8e-2014-48c2-b73d-2f8b9f0c01ae",
   "metadata": {
    "tags": []
   },
   "source": [
    "### Reactions"
   ]
  },
  {
   "cell_type": "code",
   "execution_count": 51,
   "id": "db09cdf7-eab5-40ca-b048-2bd630de835c",
   "metadata": {},
   "outputs": [],
   "source": [
    "reactions = pd.read_excel('/Users/idunmariaburgos/Documents/Work/Project/Ruminiclostridium cellulolyticum part 2/Polysaccharide degrading pathways.xlsx',\n",
    "                              sheet_name=\"Rxns. Cat. of ara.xyl oligosac\", \n",
    "                              usecols=\"A:F\")"
   ]
  },
  {
   "cell_type": "code",
   "execution_count": 52,
   "id": "7714ad68-7107-4476-94b4-4fa8d42d53a1",
   "metadata": {},
   "outputs": [
    {
     "data": {
      "text/html": [
       "<div>\n",
       "<style scoped>\n",
       "    .dataframe tbody tr th:only-of-type {\n",
       "        vertical-align: middle;\n",
       "    }\n",
       "\n",
       "    .dataframe tbody tr th {\n",
       "        vertical-align: top;\n",
       "    }\n",
       "\n",
       "    .dataframe thead th {\n",
       "        text-align: right;\n",
       "    }\n",
       "</style>\n",
       "<table border=\"1\" class=\"dataframe\">\n",
       "  <thead>\n",
       "    <tr style=\"text-align: right;\">\n",
       "      <th></th>\n",
       "      <th>Enzyme</th>\n",
       "      <th>Identifier</th>\n",
       "      <th>Gene</th>\n",
       "      <th>Stoichiometry</th>\n",
       "      <th>Transport</th>\n",
       "      <th>Type</th>\n",
       "    </tr>\n",
       "  </thead>\n",
       "  <tbody>\n",
       "    <tr>\n",
       "      <th>0</th>\n",
       "      <td>ABC transporter arabinoxylan oligosaccharide (...</td>\n",
       "      <td>R_AXabc</td>\n",
       "      <td>Ccel_1252 and Ccel_1253 and Ccel_1254</td>\n",
       "      <td>{\"M_AX_e\":-1, \"M_atp_c\":-2, \"M_h2o_c\":-1, \"M_A...</td>\n",
       "      <td>1</td>\n",
       "      <td>ABC-transporter</td>\n",
       "    </tr>\n",
       "    <tr>\n",
       "      <th>1</th>\n",
       "      <td>ABC transporter arabinoxylan oligosaccharide (...</td>\n",
       "      <td>R_AXXabc</td>\n",
       "      <td>Ccel_1252 and Ccel_1253 and Ccel_1254</td>\n",
       "      <td>{\"M_AXX_e\":-1, \"M_atp_c\":-2, \"M_h2o_c\":-1, \"M_...</td>\n",
       "      <td>1</td>\n",
       "      <td>ABC-transporter</td>\n",
       "    </tr>\n",
       "    <tr>\n",
       "      <th>2</th>\n",
       "      <td>ABC transporter arabinoxylan oligosaccharide (...</td>\n",
       "      <td>R_A23XXabc</td>\n",
       "      <td>Ccel_1252 and Ccel_1253 and Ccel_1254</td>\n",
       "      <td>{\"M_A23XX_e\":-1, \"M_atp_c\":-2, \"M_h2o_c\":-1, \"...</td>\n",
       "      <td>1</td>\n",
       "      <td>ABC-transporter</td>\n",
       "    </tr>\n",
       "    <tr>\n",
       "      <th>3</th>\n",
       "      <td>ABC transporter arabinoxylan oligosaccharide (...</td>\n",
       "      <td>R_XA23XXabc</td>\n",
       "      <td>Ccel_1252 and Ccel_1253 and Ccel_1254</td>\n",
       "      <td>{\"M_XA23XX_e\":-1, \"M_atp_c\":-2, \"M_h2o_c\":-1, ...</td>\n",
       "      <td>1</td>\n",
       "      <td>ABC-transporter</td>\n",
       "    </tr>\n",
       "    <tr>\n",
       "      <th>4</th>\n",
       "      <td>ABC transporter arabinoxylan oligosaccharide (...</td>\n",
       "      <td>R_XAXXabc</td>\n",
       "      <td>Ccel_1252 and Ccel_1253 and Ccel_1254</td>\n",
       "      <td>{\"M_XAXX_e\":-1, \"M_atp_c\":-2, \"M_h2o_c\":-1, \"M...</td>\n",
       "      <td>1</td>\n",
       "      <td>ABC-transporter</td>\n",
       "    </tr>\n",
       "    <tr>\n",
       "      <th>5</th>\n",
       "      <td>Arabinoxylan glycoside hydrolase (xylose,n=4. ...</td>\n",
       "      <td>R_GHAxa23xx</td>\n",
       "      <td>Ccel_1255</td>\n",
       "      <td>{\"M_XA23XX_c\":-1,\"M_h2o_c\":-2,\"M_xyl4_c\":1,\"M_...</td>\n",
       "      <td>0</td>\n",
       "      <td>Glycoside hydroxylase arabinose</td>\n",
       "    </tr>\n",
       "    <tr>\n",
       "      <th>6</th>\n",
       "      <td>Arabinoxylan glycoside hydrolase (xylose,n=4. ...</td>\n",
       "      <td>R_GHAxaxx</td>\n",
       "      <td>Ccel_1255 or Ccell_1257</td>\n",
       "      <td>{\"M_XAXX_c\":-1,\"M_h2o_c\":-1,\"M_xyl4_c\":1,\"M_ar...</td>\n",
       "      <td>0</td>\n",
       "      <td>Glycoside hydroxylase arabinose</td>\n",
       "    </tr>\n",
       "    <tr>\n",
       "      <th>7</th>\n",
       "      <td>Arabinoxylan glycoside hydrolase (xylose,n=3. ...</td>\n",
       "      <td>R_GHAxax</td>\n",
       "      <td>Ccel_1255</td>\n",
       "      <td>{\"M_XAX_c\":-1,\"M_h2o_c\":-1,\"M_xyl3_c\":1,\"M_ara...</td>\n",
       "      <td>0</td>\n",
       "      <td>Glycoside hydroxylase arabinose</td>\n",
       "    </tr>\n",
       "    <tr>\n",
       "      <th>8</th>\n",
       "      <td>Arabinoxylan glycoside hydrolase (xylose,n=3. ...</td>\n",
       "      <td>R_GHAaxx</td>\n",
       "      <td>Ccel_1255</td>\n",
       "      <td>{\"M_AXX_c\":-1,\"M_h2o_c\":-1,\"M_xyl3_c\":1,\"M_ara...</td>\n",
       "      <td>0</td>\n",
       "      <td>Glycoside hydroxylase arabinose</td>\n",
       "    </tr>\n",
       "    <tr>\n",
       "      <th>9</th>\n",
       "      <td>Arabinoxylan glycoside hydrolase (xylose,n=2. ...</td>\n",
       "      <td>R_GHAax</td>\n",
       "      <td>Ccel_1255</td>\n",
       "      <td>{\"M_AX_c\":-1,\"M_h2o_c\":-1,\"M_xylb_c\":1,\"M_arab...</td>\n",
       "      <td>0</td>\n",
       "      <td>Glycoside hydroxylase arabinose</td>\n",
       "    </tr>\n",
       "    <tr>\n",
       "      <th>10</th>\n",
       "      <td>Arabinoxylan glycoside hydrolase (xylose,n=3. ...</td>\n",
       "      <td>R_GHAa23xx</td>\n",
       "      <td>Ccel_1255</td>\n",
       "      <td>{\"M_A23XX_c\":-1,\"M_h2o_c\":-2,\"M_xyl3_c\":1,\"M_a...</td>\n",
       "      <td>0</td>\n",
       "      <td>Glycoside hydroxylase arabinose</td>\n",
       "    </tr>\n",
       "    <tr>\n",
       "      <th>11</th>\n",
       "      <td>Arabinoxylan glycoside hydrolase (xylose,n=4. ...</td>\n",
       "      <td>R_GHAxa23xx2</td>\n",
       "      <td>Ccel_1257</td>\n",
       "      <td>{\"M_XA23XX_c\":-1,\"M_h2o_c\":-1,\"M_XAXX_c\":1,\"M_...</td>\n",
       "      <td>0</td>\n",
       "      <td>Glycoside hydroxylase arabinose</td>\n",
       "    </tr>\n",
       "    <tr>\n",
       "      <th>12</th>\n",
       "      <td>Arabinoxylan glycoside hydrolase (xylose,n=3. ...</td>\n",
       "      <td>R_GHAa23xx2</td>\n",
       "      <td>Ccel_1257</td>\n",
       "      <td>{\"M_A23XX_c\":-1,\"M_h2o_c\":-1,\"M_AXX_c\":1,\"M_ar...</td>\n",
       "      <td>0</td>\n",
       "      <td>Glycoside hydroxylase arabinose</td>\n",
       "    </tr>\n",
       "    <tr>\n",
       "      <th>13</th>\n",
       "      <td>Arabinoxylan glycoside hydrolase (xylose,n=3. ...</td>\n",
       "      <td>R_GHAxa23x</td>\n",
       "      <td>Ccel_1257</td>\n",
       "      <td>{\"M_XA23X_c\":-1,\"M_h2o_c\":-1,\"M_XAX_c\":1,\"M_ar...</td>\n",
       "      <td>0</td>\n",
       "      <td>Glycoside hydroxylase arabinose</td>\n",
       "    </tr>\n",
       "    <tr>\n",
       "      <th>14</th>\n",
       "      <td>Arabinoxylan exo-xylanase (xylose,n=4. arabino...</td>\n",
       "      <td>R_GHXxa23xx</td>\n",
       "      <td>Ccel_1258</td>\n",
       "      <td>{\"M_XA23XX_c\":-1,\"M_h2o_c\":-1,\"M_XA23X_c\":1,\"M...</td>\n",
       "      <td>0</td>\n",
       "      <td>Glycoside hydroxylase xylose</td>\n",
       "    </tr>\n",
       "    <tr>\n",
       "      <th>15</th>\n",
       "      <td>Arabinoxylan exo-xylanase (xylose,n=4. arabino...</td>\n",
       "      <td>R_GHXxaxx</td>\n",
       "      <td>Ccel_1258</td>\n",
       "      <td>{\"M_XAXX_c\":-1,\"M_h2o_c\":-1,\"M_XAX_c\":1,\"M_xyl...</td>\n",
       "      <td>0</td>\n",
       "      <td>Glycoside hydroxylase xylose</td>\n",
       "    </tr>\n",
       "    <tr>\n",
       "      <th>16</th>\n",
       "      <td>Arabinoxylan exo-xylanase (xylose,n=3. arabino...</td>\n",
       "      <td>R_GHXaxx</td>\n",
       "      <td>Ccel_1258</td>\n",
       "      <td>{\"M_AXX_c\":-1,\"M_h2o_c\":-1,\"M_AX_c\":1,\"M_xyl__...</td>\n",
       "      <td>0</td>\n",
       "      <td>Glycoside hydroxylase xylose</td>\n",
       "    </tr>\n",
       "    <tr>\n",
       "      <th>17</th>\n",
       "      <td>Arabinoxylan exo-xylanase (xylose,n=4. arabino...</td>\n",
       "      <td>R_GHXxa23xx2</td>\n",
       "      <td>Ccel_1259</td>\n",
       "      <td>{\"M_XA23XX_c\":-1,\"M_h2o_c\":-1,\"M_A23XX_c\":1,\"M...</td>\n",
       "      <td>0</td>\n",
       "      <td>Glycoside hydroxylase xylose</td>\n",
       "    </tr>\n",
       "    <tr>\n",
       "      <th>18</th>\n",
       "      <td>Arabinoxylan exo-xylanase (xylose,n=4. arabino...</td>\n",
       "      <td>R_GHXxaxx2</td>\n",
       "      <td>Ccel_1259</td>\n",
       "      <td>{\"M_XAXX_c\":-1,\"M_h2o_c\":-1,\"M_AXX_c\":1,\"M_xyl...</td>\n",
       "      <td>0</td>\n",
       "      <td>Glycoside hydroxylase xylose</td>\n",
       "    </tr>\n",
       "  </tbody>\n",
       "</table>\n",
       "</div>"
      ],
      "text/plain": [
       "                                               Enzyme    Identifier  \\\n",
       "0   ABC transporter arabinoxylan oligosaccharide (...       R_AXabc   \n",
       "1   ABC transporter arabinoxylan oligosaccharide (...      R_AXXabc   \n",
       "2   ABC transporter arabinoxylan oligosaccharide (...    R_A23XXabc   \n",
       "3   ABC transporter arabinoxylan oligosaccharide (...   R_XA23XXabc   \n",
       "4   ABC transporter arabinoxylan oligosaccharide (...     R_XAXXabc   \n",
       "5   Arabinoxylan glycoside hydrolase (xylose,n=4. ...   R_GHAxa23xx   \n",
       "6   Arabinoxylan glycoside hydrolase (xylose,n=4. ...     R_GHAxaxx   \n",
       "7   Arabinoxylan glycoside hydrolase (xylose,n=3. ...      R_GHAxax   \n",
       "8   Arabinoxylan glycoside hydrolase (xylose,n=3. ...      R_GHAaxx   \n",
       "9   Arabinoxylan glycoside hydrolase (xylose,n=2. ...       R_GHAax   \n",
       "10  Arabinoxylan glycoside hydrolase (xylose,n=3. ...    R_GHAa23xx   \n",
       "11  Arabinoxylan glycoside hydrolase (xylose,n=4. ...  R_GHAxa23xx2   \n",
       "12  Arabinoxylan glycoside hydrolase (xylose,n=3. ...   R_GHAa23xx2   \n",
       "13  Arabinoxylan glycoside hydrolase (xylose,n=3. ...    R_GHAxa23x   \n",
       "14  Arabinoxylan exo-xylanase (xylose,n=4. arabino...   R_GHXxa23xx   \n",
       "15  Arabinoxylan exo-xylanase (xylose,n=4. arabino...     R_GHXxaxx   \n",
       "16  Arabinoxylan exo-xylanase (xylose,n=3. arabino...      R_GHXaxx   \n",
       "17  Arabinoxylan exo-xylanase (xylose,n=4. arabino...  R_GHXxa23xx2   \n",
       "18  Arabinoxylan exo-xylanase (xylose,n=4. arabino...    R_GHXxaxx2   \n",
       "\n",
       "                                     Gene  \\\n",
       "0   Ccel_1252 and Ccel_1253 and Ccel_1254   \n",
       "1   Ccel_1252 and Ccel_1253 and Ccel_1254   \n",
       "2   Ccel_1252 and Ccel_1253 and Ccel_1254   \n",
       "3   Ccel_1252 and Ccel_1253 and Ccel_1254   \n",
       "4   Ccel_1252 and Ccel_1253 and Ccel_1254   \n",
       "5                               Ccel_1255   \n",
       "6                 Ccel_1255 or Ccell_1257   \n",
       "7                               Ccel_1255   \n",
       "8                               Ccel_1255   \n",
       "9                               Ccel_1255   \n",
       "10                              Ccel_1255   \n",
       "11                              Ccel_1257   \n",
       "12                              Ccel_1257   \n",
       "13                              Ccel_1257   \n",
       "14                              Ccel_1258   \n",
       "15                              Ccel_1258   \n",
       "16                              Ccel_1258   \n",
       "17                              Ccel_1259   \n",
       "18                              Ccel_1259   \n",
       "\n",
       "                                        Stoichiometry  Transport  \\\n",
       "0   {\"M_AX_e\":-1, \"M_atp_c\":-2, \"M_h2o_c\":-1, \"M_A...          1   \n",
       "1   {\"M_AXX_e\":-1, \"M_atp_c\":-2, \"M_h2o_c\":-1, \"M_...          1   \n",
       "2   {\"M_A23XX_e\":-1, \"M_atp_c\":-2, \"M_h2o_c\":-1, \"...          1   \n",
       "3   {\"M_XA23XX_e\":-1, \"M_atp_c\":-2, \"M_h2o_c\":-1, ...          1   \n",
       "4   {\"M_XAXX_e\":-1, \"M_atp_c\":-2, \"M_h2o_c\":-1, \"M...          1   \n",
       "5   {\"M_XA23XX_c\":-1,\"M_h2o_c\":-2,\"M_xyl4_c\":1,\"M_...          0   \n",
       "6   {\"M_XAXX_c\":-1,\"M_h2o_c\":-1,\"M_xyl4_c\":1,\"M_ar...          0   \n",
       "7   {\"M_XAX_c\":-1,\"M_h2o_c\":-1,\"M_xyl3_c\":1,\"M_ara...          0   \n",
       "8   {\"M_AXX_c\":-1,\"M_h2o_c\":-1,\"M_xyl3_c\":1,\"M_ara...          0   \n",
       "9   {\"M_AX_c\":-1,\"M_h2o_c\":-1,\"M_xylb_c\":1,\"M_arab...          0   \n",
       "10  {\"M_A23XX_c\":-1,\"M_h2o_c\":-2,\"M_xyl3_c\":1,\"M_a...          0   \n",
       "11  {\"M_XA23XX_c\":-1,\"M_h2o_c\":-1,\"M_XAXX_c\":1,\"M_...          0   \n",
       "12  {\"M_A23XX_c\":-1,\"M_h2o_c\":-1,\"M_AXX_c\":1,\"M_ar...          0   \n",
       "13  {\"M_XA23X_c\":-1,\"M_h2o_c\":-1,\"M_XAX_c\":1,\"M_ar...          0   \n",
       "14  {\"M_XA23XX_c\":-1,\"M_h2o_c\":-1,\"M_XA23X_c\":1,\"M...          0   \n",
       "15  {\"M_XAXX_c\":-1,\"M_h2o_c\":-1,\"M_XAX_c\":1,\"M_xyl...          0   \n",
       "16  {\"M_AXX_c\":-1,\"M_h2o_c\":-1,\"M_AX_c\":1,\"M_xyl__...          0   \n",
       "17  {\"M_XA23XX_c\":-1,\"M_h2o_c\":-1,\"M_A23XX_c\":1,\"M...          0   \n",
       "18  {\"M_XAXX_c\":-1,\"M_h2o_c\":-1,\"M_AXX_c\":1,\"M_xyl...          0   \n",
       "\n",
       "                               Type  \n",
       "0                   ABC-transporter  \n",
       "1                   ABC-transporter  \n",
       "2                   ABC-transporter  \n",
       "3                   ABC-transporter  \n",
       "4                   ABC-transporter  \n",
       "5   Glycoside hydroxylase arabinose  \n",
       "6   Glycoside hydroxylase arabinose  \n",
       "7   Glycoside hydroxylase arabinose  \n",
       "8   Glycoside hydroxylase arabinose  \n",
       "9   Glycoside hydroxylase arabinose  \n",
       "10  Glycoside hydroxylase arabinose  \n",
       "11  Glycoside hydroxylase arabinose  \n",
       "12  Glycoside hydroxylase arabinose  \n",
       "13  Glycoside hydroxylase arabinose  \n",
       "14     Glycoside hydroxylase xylose  \n",
       "15     Glycoside hydroxylase xylose  \n",
       "16     Glycoside hydroxylase xylose  \n",
       "17     Glycoside hydroxylase xylose  \n",
       "18     Glycoside hydroxylase xylose  "
      ]
     },
     "execution_count": 52,
     "metadata": {},
     "output_type": "execute_result"
    }
   ],
   "source": [
    "reactions"
   ]
  },
  {
   "cell_type": "markdown",
   "id": "9fe6af47-982a-4a67-b52d-e494d80f6c11",
   "metadata": {},
   "source": [
    "**From gene string find GPR**\n",
    "\n",
    "- process gene string and find all genes\n",
    "    - For all genes: find protein ID. \n",
    "        - For each gene: Create Gene(gene_id=protein_id, name=None?)\n",
    " - Create Protein()\n",
    "     - protein.genes= list of genes\n",
    " - Create GPRAssociation()\n",
    "     - gpr.proteins = list of proteins"
   ]
  },
  {
   "cell_type": "code",
   "execution_count": 53,
   "id": "889b0a96-f5c0-47b9-bcb1-a2c9f61b643d",
   "metadata": {},
   "outputs": [],
   "source": [
    "%store -r gene_protein_map "
   ]
  },
  {
   "cell_type": "code",
   "execution_count": 54,
   "id": "dd2ac56e-dd3e-4446-8cef-65a1b03f9dbf",
   "metadata": {},
   "outputs": [
    {
     "data": {
      "text/html": [
       "<div>\n",
       "<style scoped>\n",
       "    .dataframe tbody tr th:only-of-type {\n",
       "        vertical-align: middle;\n",
       "    }\n",
       "\n",
       "    .dataframe tbody tr th {\n",
       "        vertical-align: top;\n",
       "    }\n",
       "\n",
       "    .dataframe thead th {\n",
       "        text-align: right;\n",
       "    }\n",
       "</style>\n",
       "<table border=\"1\" class=\"dataframe\">\n",
       "  <thead>\n",
       "    <tr style=\"text-align: right;\">\n",
       "      <th></th>\n",
       "      <th>Entry</th>\n",
       "      <th>Entry name</th>\n",
       "      <th>Protein names</th>\n",
       "      <th>Gene names</th>\n",
       "      <th>Cross-reference (RefSeq)</th>\n",
       "    </tr>\n",
       "  </thead>\n",
       "  <tbody>\n",
       "    <tr>\n",
       "      <th>0</th>\n",
       "      <td>B8I4G1</td>\n",
       "      <td>LEUD_RUMCH</td>\n",
       "      <td>3-isopropylmalate dehydratase small subunit (E...</td>\n",
       "      <td>leuD Ccel_0127</td>\n",
       "      <td>G_WP_012634581_1</td>\n",
       "    </tr>\n",
       "    <tr>\n",
       "      <th>1</th>\n",
       "      <td>B8I8F2</td>\n",
       "      <td>UVRC_RUMCH</td>\n",
       "      <td>UvrABC system protein C (Protein UvrC) (Excinu...</td>\n",
       "      <td>uvrC Ccel_0807</td>\n",
       "      <td>G_WP_015924347_1</td>\n",
       "    </tr>\n",
       "    <tr>\n",
       "      <th>2</th>\n",
       "      <td>B8I567</td>\n",
       "      <td>UPP_RUMCH</td>\n",
       "      <td>Uracil phosphoribosyltransferase (EC 2.4.2.9) ...</td>\n",
       "      <td>upp Ccel_0260</td>\n",
       "      <td>G_WP_012634712_1</td>\n",
       "    </tr>\n",
       "  </tbody>\n",
       "</table>\n",
       "</div>"
      ],
      "text/plain": [
       "    Entry  Entry name                                      Protein names  \\\n",
       "0  B8I4G1  LEUD_RUMCH  3-isopropylmalate dehydratase small subunit (E...   \n",
       "1  B8I8F2  UVRC_RUMCH  UvrABC system protein C (Protein UvrC) (Excinu...   \n",
       "2  B8I567   UPP_RUMCH  Uracil phosphoribosyltransferase (EC 2.4.2.9) ...   \n",
       "\n",
       "       Gene names Cross-reference (RefSeq)  \n",
       "0  leuD Ccel_0127         G_WP_012634581_1  \n",
       "1  uvrC Ccel_0807         G_WP_015924347_1  \n",
       "2   upp Ccel_0260         G_WP_012634712_1  "
      ]
     },
     "execution_count": 54,
     "metadata": {},
     "output_type": "execute_result"
    }
   ],
   "source": [
    "gene_protein_map.head(3)"
   ]
  },
  {
   "cell_type": "code",
   "execution_count": 55,
   "id": "ab1d5e1e-e70d-4465-932b-97b391206484",
   "metadata": {},
   "outputs": [],
   "source": [
    "def gene_str_to_GPR(gene_string, gene_protein_map):\n",
    "    # This is meant to be used when there is only one protein complex in the string (in other word it can only handle 'and' associations and not 'or')\n",
    "\n",
    "    genes_unfiltered = gene_string.split(' ')\n",
    "    gpr=GPRAssociation()\n",
    "    proteins=[]\n",
    "    genes = []\n",
    "\n",
    "    # Find the gene id (actually protein id, but in this case considered as gene id). If there is no ID, keep the old one. \n",
    "    i =0\n",
    "    while i<len(genes_unfiltered):\n",
    "        \n",
    "        # If the subs\n",
    "        if genes_unfiltered[i]!='and' and genes_unfiltered[i]!='or':\n",
    "            gene = gene_protein_map.loc[gene_protein_map['Gene names'].str.contains(genes_unfiltered[i])]['Cross-reference (RefSeq)']\n",
    "\n",
    "            # If there is a matching protein Id, add this to the gene list. \n",
    "            if len(gene)>0:\n",
    "                genes.append(gene.values[0])\n",
    "\n",
    "            # If there is NOT a matching protein Id, add gene ID. \n",
    "            else:\n",
    "                genes.append(\"G_\" + genes_unfiltered[i])\n",
    "                \n",
    "        if genes_unfiltered[i]==\"or\" or i==len(genes_unfiltered)-1:\n",
    "            # Create protein object\n",
    "            protein=Protein()\n",
    "            protein.genes=genes\n",
    "\n",
    "            # Add protein to list of proteins\n",
    "            proteins.append(protein) \n",
    "            genes=[]\n",
    "        i=i+1\n",
    "\n",
    "    gpr.proteins=proteins\n",
    "                \n",
    "    return gpr\n",
    "\n",
    " "
   ]
  },
  {
   "cell_type": "markdown",
   "id": "7f984016-374b-4a22-bff1-2b75e7726deb",
   "metadata": {},
   "source": [
    "**Create reaction objects**"
   ]
  },
  {
   "cell_type": "code",
   "execution_count": 56,
   "id": "84e70a57-ca9d-417e-abbf-32c901283cfe",
   "metadata": {},
   "outputs": [],
   "source": [
    "rxns=[]\n",
    "gprs={}\n",
    "\n",
    "for index, row in reactions.iterrows():\n",
    "    \n",
    "    reaction_id = row['Identifier']\n",
    "    name = row['Enzyme']\n",
    "    reversible = False\n",
    "    stoichiometry = json.loads(row['Stoichiometry'])\n",
    "    reaction_type = ReactionType.ENZYMATIC\n",
    "    \n",
    "    if row['Transport']==1:\n",
    "        reaction_type=ReactionType.TRANSPORT \n",
    "    \n",
    "    rxn = CBReaction(reaction_id=reaction_id, name=name, reversible=reversible, stoichiometry=stoichiometry, reaction_type=reaction_type)\n",
    "    rxns.append(rxn)\n",
    "    \n",
    "    gprs[reaction_id] = gene_str_to_GPR(row['Gene'],gene_protein_map)\n"
   ]
  },
  {
   "cell_type": "code",
   "execution_count": 57,
   "id": "a7282417-1dbf-402a-9533-08464d750b94",
   "metadata": {},
   "outputs": [
    {
     "name": "stdout",
     "output_type": "stream",
     "text": [
      "R_AXabc: M_AX_e + 2 M_atp_c + M_h2o_c --> M_AX_c + 2 M_adp_c + M_h_c + 2 M_pi_c\n",
      "R_AXXabc: M_AXX_e + 2 M_atp_c + M_h2o_c --> M_AXX_c + 2 M_adp_c + M_h_c + 2 M_pi_c\n",
      "R_A23XXabc: M_A23XX_e + 2 M_atp_c + M_h2o_c --> M_A23XX_c + 2 M_adp_c + M_h_c + 2 M_pi_c\n",
      "R_XA23XXabc: M_XA23XX_e + 2 M_atp_c + M_h2o_c --> M_XA23XX_c + 2 M_adp_c + M_h_c + 2 M_pi_c\n",
      "R_XAXXabc: M_XAXX_e + 2 M_atp_c + M_h2o_c --> M_XAXX_c + 2 M_adp_c + M_h_c + 2 M_pi_c\n",
      "R_GHAxa23xx: M_XA23XX_c + 2 M_h2o_c --> M_xyl4_c + 2 M_arab__L_c\n",
      "R_GHAxaxx: M_XAXX_c + M_h2o_c --> M_xyl4_c + M_arab__L_c\n",
      "R_GHAxax: M_XAX_c + M_h2o_c --> M_xyl3_c + M_arab__L_c\n",
      "R_GHAaxx: M_AXX_c + M_h2o_c --> M_xyl3_c + M_arab__L_c\n",
      "R_GHAax: M_AX_c + M_h2o_c --> M_xylb_c + M_arab__L_c\n",
      "R_GHAa23xx: M_A23XX_c + 2 M_h2o_c --> M_xyl3_c + 2 M_arab__L_c\n",
      "R_GHAxa23xx2: M_XA23XX_c + M_h2o_c --> M_XAXX_c + M_arab__L_c\n",
      "R_GHAa23xx2: M_A23XX_c + M_h2o_c --> M_AXX_c + M_arab__L_c\n",
      "R_GHAxa23x: M_XA23X_c + M_h2o_c --> M_XAX_c + M_arab__L_c\n",
      "R_GHXxa23xx: M_XA23XX_c + M_h2o_c --> M_XA23X_c + M_xyl__D_c\n",
      "R_GHXxaxx: M_XAXX_c + M_h2o_c --> M_XAX_c + M_xyl__D_c\n",
      "R_GHXaxx: M_AXX_c + M_h2o_c --> M_AX_c + M_xyl__D_c\n",
      "R_GHXxa23xx2: M_XA23XX_c + M_h2o_c --> M_A23XX_c + M_xyl__D_c\n",
      "R_GHXxaxx2: M_XAXX_c + M_h2o_c --> M_AXX_c + M_xyl__D_c\n"
     ]
    }
   ],
   "source": [
    "for rxn in rxns: print(rxn) "
   ]
  },
  {
   "cell_type": "code",
   "execution_count": 58,
   "id": "abae580c-f23a-46e6-b5b9-761de80350a5",
   "metadata": {},
   "outputs": [
    {
     "data": {
      "text/plain": [
       "{'R_AXabc': (G_WP_015924757_1 and G_WP_015924758_1 and G_WP_015924759_1),\n",
       " 'R_AXXabc': (G_WP_015924757_1 and G_WP_015924758_1 and G_WP_015924759_1),\n",
       " 'R_A23XXabc': (G_WP_015924757_1 and G_WP_015924758_1 and G_WP_015924759_1),\n",
       " 'R_XA23XXabc': (G_WP_015924757_1 and G_WP_015924758_1 and G_WP_015924759_1),\n",
       " 'R_XAXXabc': (G_WP_015924757_1 and G_WP_015924758_1 and G_WP_015924759_1),\n",
       " 'R_GHAxa23xx': G_WP_015924760_1,\n",
       " 'R_GHAxaxx': (G_WP_015924760_1 or G_Ccell_1257),\n",
       " 'R_GHAxax': G_WP_015924760_1,\n",
       " 'R_GHAaxx': G_WP_015924760_1,\n",
       " 'R_GHAax': G_WP_015924760_1,\n",
       " 'R_GHAa23xx': G_WP_015924760_1,\n",
       " 'R_GHAxa23xx2': G_WP_015924762_1,\n",
       " 'R_GHAa23xx2': G_WP_015924762_1,\n",
       " 'R_GHAxa23x': G_WP_015924762_1,\n",
       " 'R_GHXxa23xx': G_WP_015924763_1,\n",
       " 'R_GHXxaxx': G_WP_015924763_1,\n",
       " 'R_GHXaxx': G_WP_015924763_1,\n",
       " 'R_GHXxa23xx2': G_WP_015924764_1,\n",
       " 'R_GHXxaxx2': G_WP_015924764_1}"
      ]
     },
     "execution_count": 58,
     "metadata": {},
     "output_type": "execute_result"
    }
   ],
   "source": [
    "gprs"
   ]
  },
  {
   "cell_type": "markdown",
   "id": "41d9840d-b2b4-4d82-b495-0e105edb2f48",
   "metadata": {
    "tags": []
   },
   "source": [
    "### Add new metabolites and reactions to model"
   ]
  },
  {
   "cell_type": "code",
   "execution_count": 59,
   "id": "e799493a-ce5b-412b-9279-a4de3dcc2003",
   "metadata": {},
   "outputs": [],
   "source": [
    "model = reframed.load_cbmodel('model_c_H10_part3_2_1.xml')"
   ]
  },
  {
   "cell_type": "code",
   "execution_count": 60,
   "id": "5bfb9831-ea3f-4e68-bb8d-0bb3e6e65cef",
   "metadata": {},
   "outputs": [
    {
     "name": "stdout",
     "output_type": "stream",
     "text": [
      "Metabolites:\n",
      "C_c 863\n",
      "C_e 222\n",
      "C_p 184\n",
      "\n",
      "Reactions:\n",
      "enzymatic 889\n",
      "transport 433\n",
      "exchange 218\n",
      "sink 0\n",
      "other 244\n"
     ]
    }
   ],
   "source": [
    "model.summary()"
   ]
  },
  {
   "cell_type": "code",
   "execution_count": 61,
   "id": "7e338a06-11f9-4e37-8157-f05d86efefc2",
   "metadata": {},
   "outputs": [
    {
     "data": {
      "text/plain": [
       "738"
      ]
     },
     "execution_count": 61,
     "metadata": {},
     "output_type": "execute_result"
    }
   ],
   "source": [
    "len(model.genes)"
   ]
  },
  {
   "cell_type": "code",
   "execution_count": 62,
   "id": "89a54fc5-3298-4280-81f5-3c1d8c78a376",
   "metadata": {},
   "outputs": [],
   "source": [
    "for met in mets:\n",
    "    model.add_metabolite(met)"
   ]
  },
  {
   "cell_type": "code",
   "execution_count": 63,
   "id": "a646b1f2-97ea-4d77-8fa0-38beb955c73b",
   "metadata": {},
   "outputs": [],
   "source": [
    "for rxn in rxns:\n",
    "    model.add_reaction(rxn)\n",
    "    model.set_gpr_association(rxn.id,gprs[rxn.id])"
   ]
  },
  {
   "cell_type": "code",
   "execution_count": 64,
   "id": "5ddd41fd-a483-4f62-8305-7a6a570cdf1e",
   "metadata": {},
   "outputs": [
    {
     "name": "stdout",
     "output_type": "stream",
     "text": [
      "Metabolites:\n",
      "C_c 870\n",
      "C_e 227\n",
      "C_p 184\n",
      "\n",
      "Reactions:\n",
      "enzymatic 903\n",
      "transport 438\n",
      "exchange 218\n",
      "sink 0\n",
      "other 244\n"
     ]
    }
   ],
   "source": [
    "model.summary()"
   ]
  },
  {
   "cell_type": "code",
   "execution_count": 65,
   "id": "7101a07a-801e-435e-9f72-d6b17e156463",
   "metadata": {},
   "outputs": [
    {
     "data": {
      "text/plain": [
       "746"
      ]
     },
     "execution_count": 65,
     "metadata": {},
     "output_type": "execute_result"
    }
   ],
   "source": [
    "len(model.genes)"
   ]
  },
  {
   "cell_type": "markdown",
   "id": "78cb393d-8918-4b5c-806c-f8489decce68",
   "metadata": {},
   "source": [
    "### Add exchange reactions for cellodextrins"
   ]
  },
  {
   "cell_type": "code",
   "execution_count": 66,
   "id": "58909ff4-3d5a-4ed2-ae32-d520a1ece6df",
   "metadata": {},
   "outputs": [],
   "source": [
    "mets_exchange = [met.id for met in mets if met.compartment==\"C_e\"]\n",
    "rxns_exchange = []\n",
    "for met in mets_exchange:\n",
    "    rxn_id = \"R_EX_\" + met[2:]\n",
    "    name = \"Exchange of \" + model.metabolites[met].name\n",
    "    reversible=True\n",
    "    stoichiometry =OrderedDict([(met, -1.0)])\n",
    "    reaction_type = ReactionType.EXCHANGE\n",
    "    rxns_exchange.append(CBReaction(reaction_id=rxn_id, name=name, reversible=reversible, stoichiometry=stoichiometry, reaction_type=reaction_type))"
   ]
  },
  {
   "cell_type": "code",
   "execution_count": 67,
   "id": "86bae78a-45ef-42f6-b9fd-f4d3db179059",
   "metadata": {},
   "outputs": [
    {
     "data": {
      "text/plain": [
       "[R_EX_AX_e: M_AX_e <-> ,\n",
       " R_EX_AXX_e: M_AXX_e <-> ,\n",
       " R_EX_XA23XX_e: M_XA23XX_e <-> ,\n",
       " R_EX_A23XX_e: M_A23XX_e <-> ,\n",
       " R_EX_XAXX_e: M_XAXX_e <-> ]"
      ]
     },
     "execution_count": 67,
     "metadata": {},
     "output_type": "execute_result"
    }
   ],
   "source": [
    "rxns_exchange"
   ]
  },
  {
   "cell_type": "code",
   "execution_count": 68,
   "id": "dbb1e150-62a5-4acc-b8ad-b73c6b5ce08f",
   "metadata": {},
   "outputs": [],
   "source": [
    "for rxn in rxns_exchange:\n",
    "    model.add_reaction(rxn)"
   ]
  },
  {
   "cell_type": "code",
   "execution_count": 69,
   "id": "bc106fcf-e4ea-4c2c-828b-82055082a857",
   "metadata": {},
   "outputs": [
    {
     "name": "stdout",
     "output_type": "stream",
     "text": [
      "Metabolites:\n",
      "C_c 870\n",
      "C_e 227\n",
      "C_p 184\n",
      "\n",
      "Reactions:\n",
      "enzymatic 903\n",
      "transport 438\n",
      "exchange 223\n",
      "sink 0\n",
      "other 244\n"
     ]
    }
   ],
   "source": [
    "model.summary()"
   ]
  },
  {
   "cell_type": "markdown",
   "id": "01d5b875-de3f-40aa-ac89-39a656a847be",
   "metadata": {},
   "source": [
    "## Verifying that new reactions can carry flux with FVA"
   ]
  },
  {
   "cell_type": "markdown",
   "id": "454e0416-3744-4207-bd83-b79ad1059844",
   "metadata": {},
   "source": [
    "**Creating an environment from all exchange reactions in the model.**"
   ]
  },
  {
   "cell_type": "code",
   "execution_count": 70,
   "id": "1b0ae04b-5a01-4917-97e9-68b844413fee",
   "metadata": {},
   "outputs": [],
   "source": [
    "env = Environment.complete(model, max_uptake=10)"
   ]
  },
  {
   "cell_type": "code",
   "execution_count": 71,
   "id": "9f59bc91-b61d-450a-b349-3a5f5c20c171",
   "metadata": {},
   "outputs": [],
   "source": [
    "all_rxns= rxns_exchange + rxns\n",
    "rxn_ids = [rxn.id for rxn in all_rxns]"
   ]
  },
  {
   "cell_type": "markdown",
   "id": "6e02fe4b-ce5f-4812-b2c0-948dd8447baa",
   "metadata": {},
   "source": [
    "**Predict flux with all exchange reactions open** "
   ]
  },
  {
   "cell_type": "code",
   "execution_count": 72,
   "id": "19ec0eab-1a32-4b94-9d87-304581d764e6",
   "metadata": {},
   "outputs": [],
   "source": [
    "sol = FVA(model,constraints=env, reactions= rxn_ids)"
   ]
  },
  {
   "cell_type": "code",
   "execution_count": 73,
   "id": "f3297e39-4906-458d-9b20-ab1747f74522",
   "metadata": {},
   "outputs": [
    {
     "data": {
      "text/plain": [
       "{'R_EX_AX_e': [-10.0, 0.0],\n",
       " 'R_EX_AXX_e': [-10.0, 0.0],\n",
       " 'R_EX_XA23XX_e': [-10.0, 0.0],\n",
       " 'R_EX_A23XX_e': [-10.0, 0.0],\n",
       " 'R_EX_XAXX_e': [-10.0, 0.0],\n",
       " 'R_AXabc': [0.0, 10.0],\n",
       " 'R_AXXabc': [0.0, 10.0],\n",
       " 'R_A23XXabc': [0.0, 10.0],\n",
       " 'R_XA23XXabc': [0.0, 10.0],\n",
       " 'R_XAXXabc': [0.0, 10.0],\n",
       " 'R_GHAxa23xx': [0.0, 10.0],\n",
       " 'R_GHAxaxx': [0.0, 20.0],\n",
       " 'R_GHAxax': [0.0, 20.0],\n",
       " 'R_GHAaxx': [0.0, 40.0],\n",
       " 'R_GHAax': [0.0, 50.0],\n",
       " 'R_GHAa23xx': [0.0, 20.0],\n",
       " 'R_GHAxa23xx2': [0.0, 10.0],\n",
       " 'R_GHAa23xx2': [0.0, 20.0],\n",
       " 'R_GHAxa23x': [0.0, 10.0],\n",
       " 'R_GHXxa23xx': [0.0, 10.0],\n",
       " 'R_GHXxaxx': [0.0, 20.0],\n",
       " 'R_GHXaxx': [0.0, 40.0],\n",
       " 'R_GHXxa23xx2': [0.0, 10.0],\n",
       " 'R_GHXxaxx2': [0.0, 20.0]}"
      ]
     },
     "execution_count": 73,
     "metadata": {},
     "output_type": "execute_result"
    }
   ],
   "source": [
    "sol"
   ]
  },
  {
   "cell_type": "markdown",
   "id": "424fc3cd-ed52-46d0-b905-3042bf678948",
   "metadata": {
    "tags": []
   },
   "source": [
    "## Checking if genes included are involved in other enzymatic reactions"
   ]
  },
  {
   "cell_type": "code",
   "execution_count": 74,
   "id": "718ca0fa-4a88-482c-aa96-31d7188d7e8f",
   "metadata": {},
   "outputs": [],
   "source": [
    "genes = [rxn.get_genes() for rxn in rxns]\n",
    "    "
   ]
  },
  {
   "cell_type": "code",
   "execution_count": 75,
   "id": "98afe817-300c-441d-bb1c-9b28c12b94d9",
   "metadata": {},
   "outputs": [],
   "source": [
    "genes_flat = list(set([item for sublist in genes for item in sublist]))"
   ]
  },
  {
   "cell_type": "code",
   "execution_count": 76,
   "id": "0d1f388c-51e2-4a38-8417-273ad8fcdefd",
   "metadata": {},
   "outputs": [
    {
     "data": {
      "text/plain": [
       "['G_WP_015924759_1',\n",
       " 'G_WP_015924757_1',\n",
       " 'G_Ccell_1257',\n",
       " 'G_WP_015924764_1',\n",
       " 'G_WP_015924760_1',\n",
       " 'G_WP_015924762_1',\n",
       " 'G_WP_015924763_1',\n",
       " 'G_WP_015924758_1']"
      ]
     },
     "execution_count": 76,
     "metadata": {},
     "output_type": "execute_result"
    }
   ],
   "source": [
    "genes_flat"
   ]
  },
  {
   "cell_type": "code",
   "execution_count": 77,
   "id": "6d279239-8067-4a28-99c2-2af2930b48e5",
   "metadata": {},
   "outputs": [
    {
     "name": "stdout",
     "output_type": "stream",
     "text": [
      "Gene: G_WP_015924759_1, Reactions: ['R_AXabc', 'R_AXXabc', 'R_A23XXabc', 'R_XA23XXabc', 'R_XAXXabc']\n",
      "Gene: G_WP_015924757_1, Reactions: ['R_AXabc', 'R_AXXabc', 'R_A23XXabc', 'R_XA23XXabc', 'R_XAXXabc']\n",
      "Gene: G_Ccell_1257, Reactions: ['R_GHAxaxx']\n",
      "Gene: G_WP_015924764_1, Reactions: ['R_GHXxa23xx2', 'R_GHXxaxx2']\n",
      "Gene: G_WP_015924760_1, Reactions: ['R_GHAxa23xx', 'R_GHAxaxx', 'R_GHAxax', 'R_GHAaxx', 'R_GHAax', 'R_GHAa23xx']\n",
      "Gene: G_WP_015924762_1, Reactions: ['R_GHAxa23xx2', 'R_GHAa23xx2', 'R_GHAxa23x']\n",
      "Gene: G_WP_015924763_1, Reactions: ['R_GHXxa23xx', 'R_GHXxaxx', 'R_GHXaxx']\n",
      "Gene: G_WP_015924758_1, Reactions: ['R_AXabc', 'R_AXXabc', 'R_A23XXabc', 'R_XA23XXabc', 'R_XAXXabc']\n"
     ]
    }
   ],
   "source": [
    "gene_reaction_dict= {}\n",
    "for gene in genes_flat:\n",
    "    try:\n",
    "        print(\"Gene: \" + gene + \", Reactions: \" +  str(model.gene_to_reaction_lookup()[gene]))\n",
    "        gene_reaction_dict[gene]=model.gene_to_reaction_lookup()[gene]\n",
    "    except:\n",
    "        print(\"Gene: \" + gene + \" not in model \")"
   ]
  },
  {
   "cell_type": "code",
   "execution_count": 78,
   "id": "1c7f21e3-dace-4c44-a51a-41e49a3fb0e4",
   "metadata": {},
   "outputs": [],
   "source": [
    "def prGreen(skk): print(\"\\033[92m {}\\033[00m\" .format(skk))"
   ]
  },
  {
   "cell_type": "code",
   "execution_count": 79,
   "id": "d6a05591-1a95-41f3-bd32-2ed5e4b7e93c",
   "metadata": {},
   "outputs": [
    {
     "name": "stdout",
     "output_type": "stream",
     "text": [
      "Green reactions are the reactions that were included in this Jupyter Notebook\n",
      "\n",
      "Gene: G_WP_015924759_1\n",
      "\u001b[92m  R_AXabc: M_AX_e + 2 M_atp_c + M_h2o_c --> M_AX_c + 2 M_adp_c + M_h_c + 2 M_pi_c\u001b[00m\n",
      "\u001b[92m  R_AXXabc: M_AXX_e + 2 M_atp_c + M_h2o_c --> M_AXX_c + 2 M_adp_c + M_h_c + 2 M_pi_c\u001b[00m\n",
      "\u001b[92m  R_A23XXabc: M_A23XX_e + 2 M_atp_c + M_h2o_c --> M_A23XX_c + 2 M_adp_c + M_h_c + 2 M_pi_c\u001b[00m\n",
      "\u001b[92m  R_XA23XXabc: M_XA23XX_e + 2 M_atp_c + M_h2o_c --> M_XA23XX_c + 2 M_adp_c + M_h_c + 2 M_pi_c\u001b[00m\n",
      "\u001b[92m  R_XAXXabc: M_XAXX_e + 2 M_atp_c + M_h2o_c --> M_XAXX_c + 2 M_adp_c + M_h_c + 2 M_pi_c\u001b[00m\n",
      "Gene: G_WP_015924757_1\n",
      "\u001b[92m  R_AXabc: M_AX_e + 2 M_atp_c + M_h2o_c --> M_AX_c + 2 M_adp_c + M_h_c + 2 M_pi_c\u001b[00m\n",
      "\u001b[92m  R_AXXabc: M_AXX_e + 2 M_atp_c + M_h2o_c --> M_AXX_c + 2 M_adp_c + M_h_c + 2 M_pi_c\u001b[00m\n",
      "\u001b[92m  R_A23XXabc: M_A23XX_e + 2 M_atp_c + M_h2o_c --> M_A23XX_c + 2 M_adp_c + M_h_c + 2 M_pi_c\u001b[00m\n",
      "\u001b[92m  R_XA23XXabc: M_XA23XX_e + 2 M_atp_c + M_h2o_c --> M_XA23XX_c + 2 M_adp_c + M_h_c + 2 M_pi_c\u001b[00m\n",
      "\u001b[92m  R_XAXXabc: M_XAXX_e + 2 M_atp_c + M_h2o_c --> M_XAXX_c + 2 M_adp_c + M_h_c + 2 M_pi_c\u001b[00m\n",
      "Gene: G_Ccell_1257\n",
      "\u001b[92m  R_GHAxaxx: M_XAXX_c + M_h2o_c --> M_xyl4_c + M_arab__L_c\u001b[00m\n",
      "Gene: G_WP_015924764_1\n",
      "\u001b[92m  R_GHXxa23xx2: M_XA23XX_c + M_h2o_c --> M_A23XX_c + M_xyl__D_c\u001b[00m\n",
      "\u001b[92m  R_GHXxaxx2: M_XAXX_c + M_h2o_c --> M_AXX_c + M_xyl__D_c\u001b[00m\n",
      "Gene: G_WP_015924760_1\n",
      "\u001b[92m  R_GHAxa23xx: M_XA23XX_c + 2 M_h2o_c --> M_xyl4_c + 2 M_arab__L_c\u001b[00m\n",
      "\u001b[92m  R_GHAxaxx: M_XAXX_c + M_h2o_c --> M_xyl4_c + M_arab__L_c\u001b[00m\n",
      "\u001b[92m  R_GHAxax: M_XAX_c + M_h2o_c --> M_xyl3_c + M_arab__L_c\u001b[00m\n",
      "\u001b[92m  R_GHAaxx: M_AXX_c + M_h2o_c --> M_xyl3_c + M_arab__L_c\u001b[00m\n",
      "\u001b[92m  R_GHAax: M_AX_c + M_h2o_c --> M_xylb_c + M_arab__L_c\u001b[00m\n",
      "\u001b[92m  R_GHAa23xx: M_A23XX_c + 2 M_h2o_c --> M_xyl3_c + 2 M_arab__L_c\u001b[00m\n",
      "Gene: G_WP_015924762_1\n",
      "\u001b[92m  R_GHAxa23xx2: M_XA23XX_c + M_h2o_c --> M_XAXX_c + M_arab__L_c\u001b[00m\n",
      "\u001b[92m  R_GHAa23xx2: M_A23XX_c + M_h2o_c --> M_AXX_c + M_arab__L_c\u001b[00m\n",
      "\u001b[92m  R_GHAxa23x: M_XA23X_c + M_h2o_c --> M_XAX_c + M_arab__L_c\u001b[00m\n",
      "Gene: G_WP_015924763_1\n",
      "\u001b[92m  R_GHXxa23xx: M_XA23XX_c + M_h2o_c --> M_XA23X_c + M_xyl__D_c\u001b[00m\n",
      "\u001b[92m  R_GHXxaxx: M_XAXX_c + M_h2o_c --> M_XAX_c + M_xyl__D_c\u001b[00m\n",
      "\u001b[92m  R_GHXaxx: M_AXX_c + M_h2o_c --> M_AX_c + M_xyl__D_c\u001b[00m\n",
      "Gene: G_WP_015924758_1\n",
      "\u001b[92m  R_AXabc: M_AX_e + 2 M_atp_c + M_h2o_c --> M_AX_c + 2 M_adp_c + M_h_c + 2 M_pi_c\u001b[00m\n",
      "\u001b[92m  R_AXXabc: M_AXX_e + 2 M_atp_c + M_h2o_c --> M_AXX_c + 2 M_adp_c + M_h_c + 2 M_pi_c\u001b[00m\n",
      "\u001b[92m  R_A23XXabc: M_A23XX_e + 2 M_atp_c + M_h2o_c --> M_A23XX_c + 2 M_adp_c + M_h_c + 2 M_pi_c\u001b[00m\n",
      "\u001b[92m  R_XA23XXabc: M_XA23XX_e + 2 M_atp_c + M_h2o_c --> M_XA23XX_c + 2 M_adp_c + M_h_c + 2 M_pi_c\u001b[00m\n",
      "\u001b[92m  R_XAXXabc: M_XAXX_e + 2 M_atp_c + M_h2o_c --> M_XAXX_c + 2 M_adp_c + M_h_c + 2 M_pi_c\u001b[00m\n"
     ]
    }
   ],
   "source": [
    "print(\"Green reactions are the reactions that were included in this Jupyter Notebook\\n\")\n",
    "for key in gene_reaction_dict.keys():\n",
    "    print(\"Gene: \" + key)\n",
    "    for rxn in gene_reaction_dict[key]:\n",
    "        if rxn in rxn_ids:\n",
    "            prGreen(\" \" + str(model.reactions[rxn]))\n",
    "        else:\n",
    "            print(\"  \" + str(model.reactions[rxn]))"
   ]
  },
  {
   "cell_type": "markdown",
   "id": "176da293-1227-4872-abbb-c73abcb7c4f6",
   "metadata": {
    "tags": []
   },
   "source": [
    "## <span style=\"color: blue;\">Summary </span>"
   ]
  },
  {
   "cell_type": "code",
   "execution_count": 80,
   "id": "b2222a05-f421-4f3f-9736-598f4ddd9d51",
   "metadata": {},
   "outputs": [],
   "source": [
    "model.update()"
   ]
  },
  {
   "cell_type": "code",
   "execution_count": 81,
   "id": "34c28c8b-d704-4695-9463-5c77e00fb80b",
   "metadata": {},
   "outputs": [],
   "source": [
    "model.id = \"model_c_H10_part3_3_1\""
   ]
  },
  {
   "cell_type": "code",
   "execution_count": 82,
   "id": "a210d8f4-bd54-4b71-bf44-4de9dff1c73f",
   "metadata": {},
   "outputs": [],
   "source": [
    "reframed.save_cbmodel(model,filename=\"model_c_H10_part3_3_1.xml\")"
   ]
  },
  {
   "cell_type": "code",
   "execution_count": 83,
   "id": "ce0becf4-5a53-438a-87ee-9830adc895eb",
   "metadata": {},
   "outputs": [],
   "source": [
    "model_new = reframed.load_cbmodel('model_c_H10_part3_3_1.xml')"
   ]
  },
  {
   "cell_type": "code",
   "execution_count": 84,
   "id": "d47dd6ec-4e7a-45ad-9281-eb1dd02d45a1",
   "metadata": {},
   "outputs": [],
   "source": [
    "model_prev = reframed.load_cbmodel('model_cellulolyticum_H10.xml')"
   ]
  },
  {
   "cell_type": "code",
   "execution_count": 85,
   "id": "9fdf4357-b8f0-4531-b16a-827db4d42603",
   "metadata": {},
   "outputs": [],
   "source": [
    "models_dict={model.id:{} for model in [model_new,model_prev]}\n",
    "models_rxn_dict={model.id:{} for model in [model_new,model_prev]}\n",
    "for model in [model,model_prev]:\n",
    "    models_dict[model.id]['Reactions']=len(model.reactions)\n",
    "    models_dict[model.id]['Metabolites']=len(model.metabolites)\n",
    "    models_dict[model.id]['Genes']=len(model.genes)\n",
    "    \n",
    "    models_rxn_dict[model.id]['Enzymatic']=len(model.get_reactions_by_type(reframed.ReactionType.ENZYMATIC))\n",
    "    models_rxn_dict[model.id]['Exchange']=len(model.get_reactions_by_type(reframed.ReactionType.EXCHANGE))\n",
    "    models_rxn_dict[model.id]['Transport']=len(model.get_reactions_by_type(reframed.ReactionType.TRANSPORT))\n",
    "    models_rxn_dict[model.id]['Sink']=len(model.get_reactions_by_type(reframed.ReactionType.SINK))\n",
    "    models_rxn_dict[model.id]['Other']=len(model.get_reactions_by_type(reframed.ReactionType.OTHER))\n",
    "    "
   ]
  },
  {
   "cell_type": "markdown",
   "id": "5d48caf0-654b-4bc0-93e8-0f653e1184e3",
   "metadata": {},
   "source": [
    "**Overview models**"
   ]
  },
  {
   "cell_type": "code",
   "execution_count": 86,
   "id": "aceb678f-d11e-40d8-9fd9-f17a8ba37338",
   "metadata": {},
   "outputs": [
    {
     "data": {
      "text/html": [
       "<div>\n",
       "<style scoped>\n",
       "    .dataframe tbody tr th:only-of-type {\n",
       "        vertical-align: middle;\n",
       "    }\n",
       "\n",
       "    .dataframe tbody tr th {\n",
       "        vertical-align: top;\n",
       "    }\n",
       "\n",
       "    .dataframe thead th {\n",
       "        text-align: right;\n",
       "    }\n",
       "</style>\n",
       "<table border=\"1\" class=\"dataframe\">\n",
       "  <thead>\n",
       "    <tr style=\"text-align: right;\">\n",
       "      <th></th>\n",
       "      <th>model_c_H10_part3_3_1</th>\n",
       "      <th>model_cellulolyticum_H10</th>\n",
       "    </tr>\n",
       "  </thead>\n",
       "  <tbody>\n",
       "    <tr>\n",
       "      <th>Reactions</th>\n",
       "      <td>1808</td>\n",
       "      <td>1811</td>\n",
       "    </tr>\n",
       "    <tr>\n",
       "      <th>Metabolites</th>\n",
       "      <td>1281</td>\n",
       "      <td>1250</td>\n",
       "    </tr>\n",
       "    <tr>\n",
       "      <th>Genes</th>\n",
       "      <td>746</td>\n",
       "      <td>733</td>\n",
       "    </tr>\n",
       "  </tbody>\n",
       "</table>\n",
       "</div>"
      ],
      "text/plain": [
       "             model_c_H10_part3_3_1  model_cellulolyticum_H10\n",
       "Reactions                     1808                      1811\n",
       "Metabolites                   1281                      1250\n",
       "Genes                          746                       733"
      ]
     },
     "execution_count": 86,
     "metadata": {},
     "output_type": "execute_result"
    }
   ],
   "source": [
    "pd.DataFrame(models_dict)"
   ]
  },
  {
   "cell_type": "markdown",
   "id": "05ce1bd2-d1b8-425f-aa15-f24dc377f11e",
   "metadata": {},
   "source": [
    "**Overview reactions in models**"
   ]
  },
  {
   "cell_type": "code",
   "execution_count": 87,
   "id": "6e21c733-ca3c-44a8-8a14-d11b32a9407b",
   "metadata": {},
   "outputs": [
    {
     "data": {
      "text/html": [
       "<div>\n",
       "<style scoped>\n",
       "    .dataframe tbody tr th:only-of-type {\n",
       "        vertical-align: middle;\n",
       "    }\n",
       "\n",
       "    .dataframe tbody tr th {\n",
       "        vertical-align: top;\n",
       "    }\n",
       "\n",
       "    .dataframe thead th {\n",
       "        text-align: right;\n",
       "    }\n",
       "</style>\n",
       "<table border=\"1\" class=\"dataframe\">\n",
       "  <thead>\n",
       "    <tr style=\"text-align: right;\">\n",
       "      <th></th>\n",
       "      <th>model_c_H10_part3_3_1</th>\n",
       "      <th>model_cellulolyticum_H10</th>\n",
       "    </tr>\n",
       "  </thead>\n",
       "  <tbody>\n",
       "    <tr>\n",
       "      <th>Enzymatic</th>\n",
       "      <td>903</td>\n",
       "      <td>883</td>\n",
       "    </tr>\n",
       "    <tr>\n",
       "      <th>Exchange</th>\n",
       "      <td>223</td>\n",
       "      <td>210</td>\n",
       "    </tr>\n",
       "    <tr>\n",
       "      <th>Transport</th>\n",
       "      <td>438</td>\n",
       "      <td>475</td>\n",
       "    </tr>\n",
       "    <tr>\n",
       "      <th>Sink</th>\n",
       "      <td>0</td>\n",
       "      <td>0</td>\n",
       "    </tr>\n",
       "    <tr>\n",
       "      <th>Other</th>\n",
       "      <td>244</td>\n",
       "      <td>243</td>\n",
       "    </tr>\n",
       "  </tbody>\n",
       "</table>\n",
       "</div>"
      ],
      "text/plain": [
       "           model_c_H10_part3_3_1  model_cellulolyticum_H10\n",
       "Enzymatic                    903                       883\n",
       "Exchange                     223                       210\n",
       "Transport                    438                       475\n",
       "Sink                           0                         0\n",
       "Other                        244                       243"
      ]
     },
     "execution_count": 87,
     "metadata": {},
     "output_type": "execute_result"
    }
   ],
   "source": [
    "pd.DataFrame(models_rxn_dict)"
   ]
  },
  {
   "cell_type": "code",
   "execution_count": 88,
   "id": "37d985c9-4e9a-478a-9564-dc1ef714a7cc",
   "metadata": {},
   "outputs": [],
   "source": [
    "import cobra"
   ]
  },
  {
   "cell_type": "code",
   "execution_count": 89,
   "id": "1e95f08e-e34f-4b64-bc8b-05eb21c0efb8",
   "metadata": {},
   "outputs": [],
   "source": [
    "model_cobra = cobra.io.read_sbml_model('model_c_H10_part3_3_1.xml')"
   ]
  },
  {
   "cell_type": "code",
   "execution_count": 90,
   "id": "94eafff2-e32b-487d-9607-d3cf095810a6",
   "metadata": {},
   "outputs": [],
   "source": [
    "cobra.io.save_json_model(model_cobra, \"model_c_H10_part3_3_1.json\")"
   ]
  },
  {
   "cell_type": "code",
   "execution_count": null,
   "id": "8d57d700-d258-498e-b190-79e8b51cd4cb",
   "metadata": {},
   "outputs": [],
   "source": []
  }
 ],
 "metadata": {
  "kernelspec": {
   "display_name": "RecAndAn",
   "language": "python",
   "name": "recandan"
  },
  "language_info": {
   "codemirror_mode": {
    "name": "ipython",
    "version": 3
   },
   "file_extension": ".py",
   "mimetype": "text/x-python",
   "name": "python",
   "nbconvert_exporter": "python",
   "pygments_lexer": "ipython3",
   "version": "3.7.13"
  }
 },
 "nbformat": 4,
 "nbformat_minor": 5
}
