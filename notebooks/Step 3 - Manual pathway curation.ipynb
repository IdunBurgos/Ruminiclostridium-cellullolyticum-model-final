{
 "cells": [
  {
   "cell_type": "markdown",
   "id": "7c81e0f0-8ff8-4e49-a5f5-c5be23d7b4bf",
   "metadata": {},
   "source": [
    "# Manual curation of fermentative pathways and glycolysis"
   ]
  },
  {
   "cell_type": "code",
   "execution_count": 1,
   "id": "0c3de7c2-eac7-4dd1-9f09-dff751053a5b",
   "metadata": {},
   "outputs": [],
   "source": [
    "from reframed import load_cbmodel, save_cbmodel, Protein, GPRAssociation, simplify, Environment\n",
    "from reframed.io.sbml import parse_gpr_rule\n",
    "from copy import deepcopy"
   ]
  },
  {
   "cell_type": "code",
   "execution_count": 2,
   "id": "869d3ca1-e674-4c1d-9049-ccbfb335a029",
   "metadata": {},
   "outputs": [],
   "source": [
    "model = load_cbmodel('../models/RcH10_v1.xml')"
   ]
  },
  {
   "cell_type": "markdown",
   "id": "131d770b-3265-4d33-8f58-ec50f7abe80b",
   "metadata": {},
   "source": [
    "<span style=\"color:red\">**Load universal model**"
   ]
  },
  {
   "cell_type": "code",
   "execution_count": 3,
   "id": "aa7a272b-4eb8-499d-8dca-8bcd68c653f1",
   "metadata": {},
   "outputs": [],
   "source": [
    "model_uni = load_cbmodel(\"../models/universe_grampos.xml\")"
   ]
  },
  {
   "cell_type": "markdown",
   "id": "70fc442d-f9dc-428d-859d-8b66c4155ff6",
   "metadata": {},
   "source": [
    "### Fermentative pathways "
   ]
  },
  {
   "cell_type": "markdown",
   "id": "43813c8c-f783-41a6-930a-4e1f8cfb687b",
   "metadata": {},
   "source": [
    "<span style=\"color:red\">**Changed below because it showed the wrong stoichiometry for the ferredoxin based reactions**</span>"
   ]
  },
  {
   "cell_type": "code",
   "execution_count": 4,
   "id": "310c4a38-88fc-4080-ab4e-abb91f178418",
   "metadata": {},
   "outputs": [],
   "source": [
    "model.remove_reaction('R_ME1')\n",
    "model.add_reaction_from_str('R_FNRR: 2 M_fdxrd_c + M_h_c + M_nad_c <-> 2 M_fdxo_2_2_c + M_nadh_c')\n",
    "model.add_reaction_from_str('R_FNRR2: 2 M_fdxrd_c + M_h_c + M_nadp_c <-> 2 M_fdxo_2_2_c + M_nadph_c')\n",
    "model.add_reaction_from_str('R_H2td: M_h2_c <-> M_h2_e')\n",
    "\n",
    "prot = Protein()\n",
    "prot.genes=['G_WP_015925963_1']\n",
    "gpr = GPRAssociation()\n",
    "gpr.proteins=[prot]\n",
    "model.set_gpr_association('R_FNRR2', gpr)"
   ]
  },
  {
   "cell_type": "markdown",
   "id": "16bf5772-abbf-4d18-bc7e-0d78c6763ed8",
   "metadata": {},
   "source": [
    "<span style=\"color:red\">**Changing the cofactor stoichiometry to ensure balanced reactions**</span>"
   ]
  },
  {
   "cell_type": "code",
   "execution_count": 5,
   "id": "c95bbcd0-9f0a-40c4-af17-08d4df416b34",
   "metadata": {},
   "outputs": [
    {
     "name": "stdout",
     "output_type": "stream",
     "text": [
      "R_CO2FO: M_co2_c + M_fdxrd_c + 2.0 M_h_c <-> M_co_c + M_fdxo_2_2_c + M_h2o_c [-inf, 0.0]\n",
      "R_FNRR3: M_fdxo_2_2_c + M_h2_c --> M_fdxrd_c + 2.0 M_h_c\n",
      "R_MECDPDH4E: M_2mecdp_c + M_fdxrd_c + M_h_c <-> M_fdxo_2_2_c + M_h2mb4p_c + M_h2o_c\n",
      "R_VOR2bE: M_3mob_c + M_coa_c + M_fdxo_2_2_c --> M_co2_c + M_fdxrd_c + M_h_c + M_ibcoa_c\n"
     ]
    }
   ],
   "source": [
    "for rxn in model.get_metabolite_reactions(\"M_fdxrd_c\"):\n",
    "    if abs(model.reactions[rxn].stoichiometry[\"M_fdxrd_c\"])==1:\n",
    "        print(model.reactions[rxn])\n",
    "        coeff = model.reactions[rxn].stoichiometry[\"M_fdxrd_c\"]\n",
    "        coeff_ox = model.reactions[rxn].stoichiometry[\"M_fdxo_2_2_c\"]\n",
    "        model.reactions[rxn].stoichiometry[\"M_fdxrd_c\"]=coeff*2\n",
    "        model.reactions[rxn].stoichiometry[\"M_fdxo_2_2_c\"]=coeff_ox*2"
   ]
  },
  {
   "cell_type": "markdown",
   "id": "7b2e88f3-3cda-42eb-973e-a7d5210255bd",
   "metadata": {
    "tags": []
   },
   "source": [
    "### Cofactors in glycolysis"
   ]
  },
  {
   "cell_type": "code",
   "execution_count": 6,
   "id": "6551a67d-005a-491a-a878-86a34b10bfe3",
   "metadata": {},
   "outputs": [],
   "source": [
    "model.add_reaction_from_str('R_PFK_ppi: M_f6p_c + M_ppi_c <-> M_fdp_c + M_h_c + M_pi_c') ## CHANGED from g6p to f6p!!\n",
    "model.reactions['R_PFK_ppi'].name = 'diphosphate--fructose-6-phosphate 1-phosphotransferase'\n",
    "\n",
    "prot = Protein()\n",
    "prot.genes=['G_WP_015925658_1']\n",
    "gpr = GPRAssociation()\n",
    "gpr.proteins=[prot]\n",
    "model.set_gpr_association('R_PFK_ppi', gpr)"
   ]
  },
  {
   "cell_type": "code",
   "execution_count": 7,
   "id": "cae31a38-3b66-4205-a06c-5f7ee690f6b4",
   "metadata": {},
   "outputs": [],
   "source": [
    "model.add_reaction_from_str('R_HEX1_gtp: M_glc__D_c + M_gtp_c <-> M_g6p_c + M_gdp_c + M_h_c')\n",
    "model.reactions['R_HEX1_gtp'].name = 'GTP dependent hexokinase'\n",
    "\n",
    "prot = Protein()\n",
    "prot.genes=['G_WP_015926569_1']\n",
    "gpr = GPRAssociation()\n",
    "gpr.proteins=[prot]\n",
    "model.set_gpr_association('R_HEX1_gtp', gpr)"
   ]
  },
  {
   "cell_type": "code",
   "execution_count": 8,
   "id": "bb0ac5b2-4dfd-472e-88a2-1a99c7766b1a",
   "metadata": {},
   "outputs": [],
   "source": [
    "model.add_reaction_from_str('R_GALK2_gtp: M_a_gal__D_c + M_gtp_c --> M_gal1p_c + M_gdp_c + M_h_c')\n",
    "model.reactions['R_GALK2_gtp'].name = 'alpha Galactokinase GTP dependent'\n",
    "\n",
    "prot = Protein()\n",
    "prot.genes=['G_WP_015926586_1']\n",
    "gpr = GPRAssociation()\n",
    "gpr.proteins=[prot]\n",
    "model.set_gpr_association('R_GALK2_gtp', gpr)"
   ]
  },
  {
   "cell_type": "code",
   "execution_count": 9,
   "id": "c40fdbc2-6e99-4863-a688-17043e7bbeb2",
   "metadata": {},
   "outputs": [],
   "source": [
    "model.add_reaction_from_str('R_GALKr_gtp: M_gal_c + M_gtp_c <-> M_gal1p_c + M_gdp_c + M_h_c')\n",
    "model.reactions['R_GALKr_gtp'].name = 'Galactokinase GTP dependent'\n",
    "\n",
    "prot = Protein()\n",
    "prot.genes=['G_WP_015926586_1']\n",
    "gpr = GPRAssociation()\n",
    "gpr.proteins=[prot]\n",
    "model.set_gpr_association('R_GALKr_gtp', gpr)"
   ]
  },
  {
   "cell_type": "code",
   "execution_count": 10,
   "id": "63380119-6d05-40d8-bd5b-ad1cadc68416",
   "metadata": {},
   "outputs": [],
   "source": [
    "model.reactions.R_PFK.gpr.proteins.pop(1)\n",
    "model.reactions.R_HEX1.gpr.proteins.pop(0)\n",
    "model.remove_reactions(['R_CD6P', 'R_r0191', 'R_ID6P', 'R_PFK', 'R_GALK2', 'R_GALKr'])"
   ]
  },
  {
   "cell_type": "markdown",
   "id": "0a1f1a36-9223-48e4-840b-2e4779d162d0",
   "metadata": {},
   "source": [
    "### Mis-annotated transporters leading to false negative essentiality predictions"
   ]
  },
  {
   "cell_type": "code",
   "execution_count": 11,
   "id": "f396c815-9cf7-40c0-b65f-7f9d9905194f",
   "metadata": {},
   "outputs": [],
   "source": [
    "model.remove_reactions(['R_HEX1', 'R_XYLI2','R_GLUKA_1','R_MNLDHr', 'R_BG_CELLB', 'R_GLCt2', 'R_BGLA'])\n",
    "model.reactions.R_CEPA.reversible=False\n",
    "model.reactions.R_CEPA.lb=0"
   ]
  },
  {
   "cell_type": "markdown",
   "id": "545c92aa-807b-40e3-9d29-198aeb82ecd2",
   "metadata": {
    "tags": []
   },
   "source": [
    "### Fix false positive essentiality for xylose isomerase "
   ]
  },
  {
   "cell_type": "code",
   "execution_count": 12,
   "id": "c6652d0f-048d-4d90-ba14-0ff05da4bf36",
   "metadata": {
    "tags": []
   },
   "outputs": [],
   "source": [
    "p1 = Protein()\n",
    "p1.genes=['G_WP_015926769_1'] # Ccel_3429 (original xylose isomerase)\n",
    "p2 = Protein()\n",
    "p2.genes=['G_WP_012634944_1'] # Ccel_0500 (alternative xylose isomerase)\n",
    "gpr = GPRAssociation()\n",
    "gpr.proteins=[p1, p2]\n",
    "model.set_gpr_association('R_XYLI1', gpr)"
   ]
  },
  {
   "cell_type": "markdown",
   "id": "e13e8bcd-ecfc-4f49-9815-ec34d37af589",
   "metadata": {},
   "source": [
    "### Other mis-annotated suger transporters"
   ]
  },
  {
   "cell_type": "code",
   "execution_count": 13,
   "id": "ce279ed5-9fbb-4251-8f0d-bc42b81c2dce",
   "metadata": {},
   "outputs": [],
   "source": [
    "model.remove_reactions(['R_ARBabcpp', 'R_GLCabcpp', 'R_XYLabcpp'])\n",
    "\n",
    "rxns = [rxn for rxn in model.get_reactions_by_gene('G_WP_041706401_1') if len(model.reactions[rxn].get_genes())==1]\n",
    "model.remove_reactions(rxns)\n",
    "\n",
    "model.add_reaction_from_str('R_GALabc: M_atp_c + M_gal_e + M_h2o_c <-> M_adp_c + M_gal_c + M_h_c + M_pi_c')\n",
    "gpr = deepcopy(model.reactions.R_GALabcpp.gpr)\n",
    "model.set_gpr_association('R_GALabc', gpr)\n",
    "\n",
    "pts_rxns = [rxn for rxn in [rxn for rxn in model.reactions if rxn.endswith('pts')]]\n",
    "model.remove_reactions(pts_rxns)\n",
    "\n",
    "model.add_reaction_from_str('R_GALUi: M_g1p_c + M_h_c + M_utp_c <-> M_ppi_c + M_udpg_c')\n",
    "prot = Protein()\n",
    "prot.genes=['G_WP_015926747_1']\n",
    "gpr = GPRAssociation()\n",
    "gpr.proteins=[prot]\n",
    "model.set_gpr_association('R_GALUi', gpr)"
   ]
  },
  {
   "cell_type": "markdown",
   "id": "834cba91-b205-4de3-a365-5c3bc74c613f",
   "metadata": {},
   "source": [
    "### Remove ABC transporters using both cytosol and periplasm"
   ]
  },
  {
   "cell_type": "code",
   "execution_count": 14,
   "id": "c0026bf9-001b-4ba1-a8cd-56ed7005c559",
   "metadata": {},
   "outputs": [],
   "source": [
    "duplicated = [r_id for r_id in model.reactions if r_id.endswith('abcpp') and r_id[:-2] in model.reactions]\n",
    "\n",
    "for r_id in duplicated:\n",
    "    gpr1 = model.reactions[r_id].gpr\n",
    "    gpr2 = model.reactions[r_id[:-2]].gpr\n",
    "    gpr_str = f'({gpr1}) or ({gpr2})'\n",
    "\n",
    "    gpr = parse_gpr_rule(gpr_str)\n",
    "    model.set_gpr_association(r_id[:-2], gpr)\n",
    "    \n",
    "model.remove_reactions(duplicated)"
   ]
  },
  {
   "cell_type": "markdown",
   "id": "232fd250-fb89-4fa8-9a35-f3e156bc940a",
   "metadata": {},
   "source": [
    "### <span style=\"color:red\"> Energy balancing"
   ]
  },
  {
   "cell_type": "code",
   "execution_count": 15,
   "id": "ec71e9ea-1d1a-4684-b010-5c09a9b99d23",
   "metadata": {},
   "outputs": [],
   "source": [
    "model.add_reaction_from_str(\"R_ATPS4r: M_adp_c + M_pi_c + 4.0 M_h_e --> M_atp_c + 3.0 M_h_c + M_h2o_c\")\n",
    "model.remove_reaction(\"R_ATPS4rpp\")\n",
    "\n",
    "genes_dict = {\n",
    "\"atpA\": [\"G_Ccel_0270\"],\n",
    "\"atpB\": [\"G_WP_012634718_1\"],\n",
    "\"atpC\": [\"G_WP_012634725_1\"],\n",
    "\"atpD\": [\"G_WP_012634724_1\"],\n",
    "\"atpE\": [\"G_WP_012634719_1\"],\n",
    "\"atpF\": [\"G_WP_012634720_1\"],\n",
    "\"atpG\": [\"G_WP_012634723_1\"],\n",
    "\"atpH\": [\"G_WP_012634721_1\"]\n",
    "}\n",
    "\n",
    "proteins_list = []\n",
    "\n",
    "for genes in genes_dict.values():\n",
    "    prot = Protein()\n",
    "    prot.genes=genes\n",
    "    proteins_list.append(prot)\n",
    "    \n",
    "gpr = GPRAssociation()    \n",
    "gpr.proteins=proteins_list\n",
    "model.set_gpr_association('R_ATPS4r', gpr)\n",
    "\n",
    "model.reactions.R_ATPS4r.reversible=True\n",
    "model.reactions.R_ATPS4r.lb=-1000"
   ]
  },
  {
   "cell_type": "code",
   "execution_count": 16,
   "id": "67943f03-da80-4aac-b67f-36c0b9b69043",
   "metadata": {},
   "outputs": [],
   "source": [
    "model.reactions.R_FNRR3.reversible=True\n",
    "model.reactions.R_FNRR3.lb=-1000\n",
    "\n",
    "# This is more likely to be https://www.uniprot.org/uniprotkb?query=WP_015926678.1, and lead to too high production of acetate\n",
    "model.remove_reaction(\"R_ALDD2y\")\n",
    "model.reactions.R_ACALD.ub=0\n",
    "\n",
    "model.remove_reaction(\"R_ACt2r_1\") ## Replaced this reactions because it doesn't have any genetic evidence and is far less common than ACt2r http://bigg.ucsd.edu/universal/reactions/ACt2r_1\n",
    "model.add_reaction(deepcopy(model_uni.reactions.R_ACt2r))\n",
    "model.reactions.R_ACt2r.reversible=True\n",
    "model.reactions.R_ACt2r.lb=-1000"
   ]
  },
  {
   "cell_type": "markdown",
   "id": "6f325a34-3151-4ee3-a034-be330f7a9971",
   "metadata": {},
   "source": [
    "### <span style=\"color:red\"> Pyruvate exchange"
   ]
  },
  {
   "cell_type": "code",
   "execution_count": 17,
   "id": "9351da83-6860-47c1-a190-444d4c3fa5f6",
   "metadata": {},
   "outputs": [],
   "source": [
    "model.add_metabolite(deepcopy(model_uni.metabolites.M_pyr_e))\n",
    "model.add_reaction(deepcopy(model_uni.reactions.R_PYRt2))\n",
    "model.add_reaction(deepcopy(model_uni.reactions.R_EX_pyr_e))\n",
    "model.reactions.R_PYRt2.reversible=True\n",
    "model.reactions.R_PYRt2.lb=-1000\n"
   ]
  },
  {
   "cell_type": "markdown",
   "id": "f2134257-6029-415c-bc07-f8df16e55879",
   "metadata": {},
   "source": [
    "### Remove ubiquinone reactions (including hydrogenase that converts h2 back to h+ with ubiquinone) "
   ]
  },
  {
   "cell_type": "code",
   "execution_count": 18,
   "id": "cf39b6f0-ee91-41db-a05d-e83491926ab1",
   "metadata": {},
   "outputs": [],
   "source": [
    "model.remove_reactions(model.get_metabolite_reactions(\"M_q8_c\"))"
   ]
  },
  {
   "cell_type": "markdown",
   "id": "ff173a41-6bb9-437c-b900-21b1613cbd70",
   "metadata": {},
   "source": [
    "## Remove blocked reactions and orphaned genes"
   ]
  },
  {
   "cell_type": "code",
   "execution_count": 19,
   "id": "e94608e8-89e4-4eba-8317-02b0abcdde27",
   "metadata": {},
   "outputs": [],
   "source": [
    "model.update()"
   ]
  },
  {
   "cell_type": "code",
   "execution_count": 20,
   "id": "c21dfb4d-07a1-427a-8729-891d45afaf5a",
   "metadata": {},
   "outputs": [],
   "source": [
    "Environment.complete(model, inplace=True)\n",
    "simplify(model, inplace=True)"
   ]
  },
  {
   "cell_type": "markdown",
   "id": "90dafe74-cf5c-4cad-bffe-3b86f8551f8a",
   "metadata": {},
   "source": [
    "## Save model"
   ]
  },
  {
   "cell_type": "code",
   "execution_count": 21,
   "id": "67d76c0c-5b8f-4bcd-8ec2-ae8cb147b9c2",
   "metadata": {},
   "outputs": [],
   "source": [
    "save_cbmodel(model, '../models/RcH10_v2.xml')"
   ]
  },
  {
   "cell_type": "markdown",
   "id": "baead17b-b503-4cd8-9a2c-c142fabaab36",
   "metadata": {},
   "source": [
    "### <span style=\"color:red\"> Fixing imbalanced reactions"
   ]
  },
  {
   "cell_type": "code",
   "execution_count": 22,
   "id": "e1561560-7dbd-4079-ba32-e365bfdca900",
   "metadata": {
    "tags": []
   },
   "outputs": [
    {
     "name": "stdout",
     "output_type": "stream",
     "text": [
      "Set parameter Username\n",
      "Academic license - for non-commercial use only - expires 2025-03-14\n",
      "Number of imbalanced reactions before: 320\n",
      "Number of imbalanced reactions now: 190\n"
     ]
    }
   ],
   "source": [
    "%run ../scripts/fixing_mass_imbalances.py"
   ]
  },
  {
   "cell_type": "code",
   "execution_count": null,
   "id": "0ba2e7e0-4b84-4cfe-a124-487dfe5032d7",
   "metadata": {},
   "outputs": [],
   "source": []
  }
 ],
 "metadata": {
  "kernelspec": {
   "display_name": "rcell_rec",
   "language": "python",
   "name": "rcell_rec"
  },
  "language_info": {
   "codemirror_mode": {
    "name": "ipython",
    "version": 3
   },
   "file_extension": ".py",
   "mimetype": "text/x-python",
   "name": "python",
   "nbconvert_exporter": "python",
   "pygments_lexer": "ipython3",
   "version": "3.8.6"
  }
 },
 "nbformat": 4,
 "nbformat_minor": 5
}
