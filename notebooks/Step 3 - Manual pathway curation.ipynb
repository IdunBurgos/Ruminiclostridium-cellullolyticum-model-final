{
 "cells": [
  {
   "cell_type": "markdown",
   "id": "7c81e0f0-8ff8-4e49-a5f5-c5be23d7b4bf",
   "metadata": {},
   "source": [
    "# Manual curation of fermentative pathways and glycolysis"
   ]
  },
  {
   "cell_type": "code",
   "execution_count": 1,
   "id": "0c3de7c2-eac7-4dd1-9f09-dff751053a5b",
   "metadata": {},
   "outputs": [],
   "source": [
    "from reframed import load_cbmodel, save_cbmodel, Protein, GPRAssociation, simplify, Environment\n",
    "from reframed.io.sbml import parse_gpr_rule\n",
    "from copy import deepcopy"
   ]
  },
  {
   "cell_type": "code",
   "execution_count": 2,
   "id": "ab812deb-df68-4572-98f7-72ff4d130e6d",
   "metadata": {},
   "outputs": [],
   "source": [
    "model = load_cbmodel('../models/RcH10_v1.xml')"
   ]
  },
  {
   "cell_type": "markdown",
   "id": "70fc442d-f9dc-428d-859d-8b66c4155ff6",
   "metadata": {},
   "source": [
    "### Fermentative pathways "
   ]
  },
  {
   "cell_type": "code",
   "execution_count": 3,
   "id": "1b3e45c6-3584-48ca-bfe6-f6b37ff68ac2",
   "metadata": {},
   "outputs": [],
   "source": [
    "model.remove_reaction('R_ME1')\n",
    "model.add_reaction_from_str('R_FNRR: M_fdxrd_c + M_h_c + M_nad_c <-> M_fdxo_2_2_c + M_nadh_c')\n",
    "model.add_reaction_from_str('R_FNRR2: M_fdxrd_c + M_h_c + M_nadp_c <-> M_fdxo_2_2_c + M_nadph_c')\n",
    "model.add_reaction_from_str('R_H2td: M_h2_c <-> M_h2_e')\n",
    "\n",
    "prot = Protein()\n",
    "prot.genes=['G_WP_015925963_1']\n",
    "gpr = GPRAssociation()\n",
    "gpr.proteins=[prot]\n",
    "model.set_gpr_association('R_FNRR2', gpr)"
   ]
  },
  {
   "cell_type": "markdown",
   "id": "7b2e88f3-3cda-42eb-973e-a7d5210255bd",
   "metadata": {
    "tags": []
   },
   "source": [
    "### Cofactors in glycolysis"
   ]
  },
  {
   "cell_type": "code",
   "execution_count": 4,
   "id": "611307d0-74b5-418e-866f-162dbf413ec2",
   "metadata": {},
   "outputs": [],
   "source": [
    "model.add_reaction_from_str('R_PFK_ppi: M_g6p_c + M_ppi_c <-> M_fdp_c + M_h_c + M_pi_c')\n",
    "model.reactions['R_PFK_ppi'].name = 'diphosphate--fructose-6-phosphate 1-phosphotransferase'\n",
    "\n",
    "prot = Protein()\n",
    "prot.genes=['G_WP_015925658_1']\n",
    "gpr = GPRAssociation()\n",
    "gpr.proteins=[prot]\n",
    "model.set_gpr_association('R_PFK_ppi', gpr)"
   ]
  },
  {
   "cell_type": "code",
   "execution_count": 5,
   "id": "895af8d7-c05d-4cbc-836a-3fc114612add",
   "metadata": {},
   "outputs": [],
   "source": [
    "model.add_reaction_from_str('R_HEX1_gtp: M_glc__D_c + M_gtp_c <-> M_g6p_c + M_gdp_c + M_h_c')\n",
    "model.reactions['R_HEX1_gtp'].name = 'GTP dependent hexokinase'\n",
    "\n",
    "prot = Protein()\n",
    "prot.genes=['G_WP_015926569_1']\n",
    "gpr = GPRAssociation()\n",
    "gpr.proteins=[prot]\n",
    "model.set_gpr_association('R_HEX1_gtp', gpr)"
   ]
  },
  {
   "cell_type": "code",
   "execution_count": 6,
   "id": "bb0ac5b2-4dfd-472e-88a2-1a99c7766b1a",
   "metadata": {},
   "outputs": [],
   "source": [
    "model.add_reaction_from_str('R_GALK2_gtp: M_a_gal__D_c + M_gtp_c --> M_gal1p_c + M_gdp_c + M_h_c')\n",
    "model.reactions['R_GALK2_gtp'].name = 'alpha Galactokinase GTP dependent'\n",
    "\n",
    "prot = Protein()\n",
    "prot.genes=['G_WP_015926586_1']\n",
    "gpr = GPRAssociation()\n",
    "gpr.proteins=[prot]\n",
    "model.set_gpr_association('R_GALK2_gtp', gpr)"
   ]
  },
  {
   "cell_type": "code",
   "execution_count": 7,
   "id": "c40fdbc2-6e99-4863-a688-17043e7bbeb2",
   "metadata": {},
   "outputs": [],
   "source": [
    "model.add_reaction_from_str('R_GALKr_gtp: M_gal_c + M_gtp_c <-> M_gal1p_c + M_gdp_c + M_h_c')\n",
    "model.reactions['R_GALKr_gtp'].name = 'Galactokinase GTP dependent'\n",
    "\n",
    "prot = Protein()\n",
    "prot.genes=['G_WP_015926586_1']\n",
    "gpr = GPRAssociation()\n",
    "gpr.proteins=[prot]\n",
    "model.set_gpr_association('R_GALKr_gtp', gpr)"
   ]
  },
  {
   "cell_type": "code",
   "execution_count": 8,
   "id": "b001ca39-66e0-42ae-a791-6aa451ad40b3",
   "metadata": {},
   "outputs": [],
   "source": [
    "model.reactions.R_PFK.gpr.proteins.pop(1)\n",
    "model.reactions.R_HEX1.gpr.proteins.pop(0)\n",
    "model.remove_reactions(['R_CD6P', 'R_r0191', 'R_ID6P', 'R_PFK', 'R_GALK2', 'R_GALKr'])"
   ]
  },
  {
   "cell_type": "markdown",
   "id": "0a1f1a36-9223-48e4-840b-2e4779d162d0",
   "metadata": {},
   "source": [
    "### Mis-annotated transporters leading to false negative essentiality predictions"
   ]
  },
  {
   "cell_type": "code",
   "execution_count": 9,
   "id": "66f1f5dd-7279-425d-b511-5123e08c5488",
   "metadata": {},
   "outputs": [],
   "source": [
    "model.remove_reactions(['R_HEX1', 'R_XYLI2','R_GLUKA_1','R_MNLDHr'])\n",
    "model.reactions.R_CEPA.reversible=False\n",
    "model.reactions.R_CEPA.lb=0"
   ]
  },
  {
   "cell_type": "markdown",
   "id": "e13e8bcd-ecfc-4f49-9815-ec34d37af589",
   "metadata": {},
   "source": [
    "### Other mis-annotated suger transporters"
   ]
  },
  {
   "cell_type": "code",
   "execution_count": 10,
   "id": "48a29dd9-9ca4-497d-84ba-ec9fade05774",
   "metadata": {},
   "outputs": [
    {
     "name": "stderr",
     "output_type": "stream",
     "text": [
      "/Volumes/Daniel/git/reframed/reframed/core/model.py:471: UserWarning: No such reaction R_ARBabcpp\n",
      "  warn(f\"No such reaction {r_id}\")\n"
     ]
    }
   ],
   "source": [
    "model.remove_reactions(['R_ARBabcpp', 'R_GLCabcpp', 'R_XYLabcpp'])"
   ]
  },
  {
   "cell_type": "code",
   "execution_count": 11,
   "id": "6dd4326d-9bd0-4f27-b999-f19df7aab018",
   "metadata": {},
   "outputs": [],
   "source": [
    "rxns = [rxn for rxn in model.get_reactions_by_gene('G_WP_041706401_1') if len(model.reactions[rxn].get_genes())==1]\n",
    "model.remove_reactions(rxns)"
   ]
  },
  {
   "cell_type": "code",
   "execution_count": 12,
   "id": "b4a07c0f-2ad2-41e9-b68f-a57adbc2a729",
   "metadata": {},
   "outputs": [],
   "source": [
    "model.add_reaction_from_str('R_GALabc: M_atp_c + M_gal_e + M_h2o_c <-> M_adp_c + M_gal_c + M_h_c + M_pi_c')\n",
    "gpr = deepcopy(model.reactions.R_GALabcpp.gpr)\n",
    "model.set_gpr_association('R_GALabc', gpr)"
   ]
  },
  {
   "cell_type": "code",
   "execution_count": 13,
   "id": "ef4bb61f-7b9e-4e3f-a8a1-8e3d5fa5cb07",
   "metadata": {},
   "outputs": [],
   "source": [
    "pts_rxns = [rxn for rxn in [rxn for rxn in model.reactions if rxn.endswith('pts')]]\n",
    "model.remove_reactions(pts_rxns)"
   ]
  },
  {
   "cell_type": "code",
   "execution_count": 14,
   "id": "0b6b19e9-0d16-4298-8465-34fb21c2fdb5",
   "metadata": {},
   "outputs": [],
   "source": [
    "model.add_reaction_from_str('R_GALUi: M_g1p_c + M_h_c + M_utp_c <-> M_ppi_c + M_udpg_c')\n",
    "prot = Protein()\n",
    "prot.genes=['G_WP_015926747_1']\n",
    "gpr = GPRAssociation()\n",
    "gpr.proteins=[prot]\n",
    "model.set_gpr_association('R_GALUi', gpr)"
   ]
  },
  {
   "cell_type": "markdown",
   "id": "834cba91-b205-4de3-a365-5c3bc74c613f",
   "metadata": {},
   "source": [
    "### Remove ABC transporters using both cytosol and periplasm"
   ]
  },
  {
   "cell_type": "code",
   "execution_count": 15,
   "id": "c0026bf9-001b-4ba1-a8cd-56ed7005c559",
   "metadata": {},
   "outputs": [],
   "source": [
    "duplicated = [r_id for r_id in model.reactions if r_id.endswith('abcpp') and r_id[:-2] in model.reactions]\n",
    "\n",
    "for r_id in duplicated:\n",
    "    gpr1 = model.reactions[r_id].gpr\n",
    "    gpr2 = model.reactions[r_id[:-2]].gpr\n",
    "    gpr_str = f'({gpr1}) or ({gpr2})'\n",
    "\n",
    "    gpr = parse_gpr_rule(gpr_str)\n",
    "    model.set_gpr_association(r_id[:-2], gpr)\n",
    "    \n",
    "model.remove_reactions(duplicated)"
   ]
  },
  {
   "cell_type": "markdown",
   "id": "ff173a41-6bb9-437c-b900-21b1613cbd70",
   "metadata": {},
   "source": [
    "## Remove blocked reactions and orphaned genes"
   ]
  },
  {
   "cell_type": "code",
   "execution_count": 16,
   "id": "c21dfb4d-07a1-427a-8729-891d45afaf5a",
   "metadata": {},
   "outputs": [],
   "source": [
    "Environment.complete(model, inplace=True)\n",
    "simplify(model, inplace=True)"
   ]
  },
  {
   "cell_type": "markdown",
   "id": "90dafe74-cf5c-4cad-bffe-3b86f8551f8a",
   "metadata": {},
   "source": [
    "## Save model"
   ]
  },
  {
   "cell_type": "code",
   "execution_count": 17,
   "id": "67d76c0c-5b8f-4bcd-8ec2-ae8cb147b9c2",
   "metadata": {},
   "outputs": [],
   "source": [
    "save_cbmodel(model, '../models/RcH10_v2.xml')"
   ]
  }
 ],
 "metadata": {
  "kernelspec": {
   "display_name": "Python 3 (ipykernel)",
   "language": "python",
   "name": "python3"
  },
  "language_info": {
   "codemirror_mode": {
    "name": "ipython",
    "version": 3
   },
   "file_extension": ".py",
   "mimetype": "text/x-python",
   "name": "python",
   "nbconvert_exporter": "python",
   "pygments_lexer": "ipython3",
   "version": "3.9.18"
  }
 },
 "nbformat": 4,
 "nbformat_minor": 5
}
