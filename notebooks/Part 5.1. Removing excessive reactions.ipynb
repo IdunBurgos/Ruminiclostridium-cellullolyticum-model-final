{
 "cells": [
  {
   "cell_type": "markdown",
   "id": "d14547c8-25e2-4f00-9de3-d0dea940adc9",
   "metadata": {},
   "source": [
    "# <span style=\"color: blue;\">Part 5: Removing blocked reactions</span>"
   ]
  },
  {
   "cell_type": "code",
   "execution_count": 1,
   "id": "42b4b907-d865-4f91-b93c-641150745935",
   "metadata": {},
   "outputs": [],
   "source": [
    "import reframed\n",
    "from reframed import Environment\n",
    "import numpy as np\n",
    "import pandas as pd"
   ]
  },
  {
   "cell_type": "code",
   "execution_count": 2,
   "id": "5be0a125-0bfc-405e-bb38-526e59d8a91e",
   "metadata": {},
   "outputs": [],
   "source": [
    "model = reframed.load_cbmodel('model_c_H10_part4_1.xml')"
   ]
  },
  {
   "cell_type": "code",
   "execution_count": 3,
   "id": "a81e3272-dfd1-4f93-aeb7-a2e29bceac72",
   "metadata": {
    "tags": []
   },
   "outputs": [],
   "source": [
    "Environment.complete(model,max_uptake=10.0,inplace=True)"
   ]
  },
  {
   "cell_type": "code",
   "execution_count": 4,
   "id": "be87c493-c4f6-4024-8017-421aa08acf33",
   "metadata": {},
   "outputs": [],
   "source": [
    "sol = reframed.FVA(model,obj_frac=0)"
   ]
  },
  {
   "cell_type": "code",
   "execution_count": 5,
   "id": "2b5b8307-f652-4717-b3b4-4971e10d20fe",
   "metadata": {
    "scrolled": true,
    "tags": []
   },
   "outputs": [],
   "source": [
    "no_flux = [key for key in list(sol.keys()) if sum(abs(np.array(sol[key])))==0]"
   ]
  },
  {
   "cell_type": "code",
   "execution_count": 6,
   "id": "9b195385-2603-4f8c-b10b-e719f4f1213d",
   "metadata": {
    "scrolled": true,
    "tags": []
   },
   "outputs": [
    {
     "data": {
      "text/plain": [
       "['R_13PPDH2',\n",
       " 'R_3NUCLE4',\n",
       " 'R_ACLS_d',\n",
       " 'R_ACNPLYS',\n",
       " 'R_ACOAD4_1',\n",
       " 'R_ACOAD4f',\n",
       " 'R_ACOAD5_1',\n",
       " 'R_ACOAD5f',\n",
       " 'R_ACOAD8f',\n",
       " 'R_AHGDx',\n",
       " 'R_ARBT6Pt',\n",
       " 'R_ARBt3ipp',\n",
       " 'R_ARGtex',\n",
       " 'R_ASCBPL',\n",
       " 'R_ASPtex',\n",
       " 'R_BGLApp',\n",
       " 'R_BTDD_RR',\n",
       " 'R_CA2tex',\n",
       " 'R_CGLYabcpp',\n",
       " 'R_CLBtex',\n",
       " 'R_CT6PT',\n",
       " 'R_CYSabc2pp',\n",
       " 'R_CYStpp',\n",
       " 'R_E4PD',\n",
       " 'R_FCLPA',\n",
       " 'R_FFSD',\n",
       " 'R_GAL6PI',\n",
       " 'R_GALM1',\n",
       " 'R_GALM2',\n",
       " 'R_GLNtex',\n",
       " 'R_GLTPD',\n",
       " 'R_GLYtex',\n",
       " 'R_GPDDA4pp',\n",
       " 'R_GTHRDHpp',\n",
       " 'R_GTHRDt2_1',\n",
       " 'R_GUI2',\n",
       " 'R_GalMr',\n",
       " 'R_HACD1_1',\n",
       " 'R_HACD3',\n",
       " 'R_HACD4',\n",
       " 'R_HACD5',\n",
       " 'R_HACD6',\n",
       " 'R_HACD7',\n",
       " 'R_HACD8',\n",
       " 'R_HIStex',\n",
       " 'R_HMPSCD',\n",
       " 'R_ILEtex',\n",
       " 'R_KG6PDC',\n",
       " 'R_LACZpp',\n",
       " 'R_LCADi',\n",
       " 'R_LCTSt3ipp',\n",
       " 'R_LEUt4rpp',\n",
       " 'R_METtex',\n",
       " 'R_MNL1P_Et',\n",
       " 'R_MNLDH2',\n",
       " 'R_MS_1',\n",
       " 'R_OCBT_1',\n",
       " 'R_OXFOt4pp',\n",
       " 'R_PERD',\n",
       " 'R_PFK_2',\n",
       " 'R_PNP_1',\n",
       " 'R_PPAKr',\n",
       " 'R_PROtex',\n",
       " 'R_PTRCtex',\n",
       " 'R_PUNP5_1',\n",
       " 'R_RIBtex',\n",
       " 'R_SBTD_D2',\n",
       " 'R_SBTPD',\n",
       " 'R_SO4tex',\n",
       " 'R_SPMDt3pp',\n",
       " 'R_TGBPA',\n",
       " 'R_TRE6P_Et',\n",
       " 'R_UT6PT',\n",
       " 'R_X5PL3E',\n",
       " 'R_XYLtex',\n",
       " 'R_EX_acgam_e',\n",
       " 'R_EX_acmana_e',\n",
       " 'R_EX_acnam_e',\n",
       " 'R_EX_arbt6p_e',\n",
       " 'R_EX_arbt_e',\n",
       " 'R_EX_ascb__L_e',\n",
       " 'R_EX_btn_e',\n",
       " 'R_EX_fru_e',\n",
       " 'R_EX_fuc_e',\n",
       " 'R_EX_gal_bD_e',\n",
       " 'R_EX_galt_e',\n",
       " 'R_EX_gam_e',\n",
       " 'R_EX_glc__aD_e',\n",
       " 'R_EX_gthrd_e',\n",
       " 'R_EX_mnl1p_e',\n",
       " 'R_EX_mnl_e',\n",
       " 'R_EX_mobd_e',\n",
       " 'R_EX_rmn_e',\n",
       " 'R_EX_sbt__D_e',\n",
       " 'R_EX_sel_e',\n",
       " 'R_EX_slnt_e',\n",
       " 'R_EX_tre6p_e']"
      ]
     },
     "execution_count": 6,
     "metadata": {},
     "output_type": "execute_result"
    }
   ],
   "source": [
    "no_flux"
   ]
  },
  {
   "cell_type": "code",
   "execution_count": 7,
   "id": "8e1bd15f-4e2a-4a41-9724-ced47ceae7f8",
   "metadata": {},
   "outputs": [],
   "source": [
    "model.remove_reactions(no_flux)"
   ]
  },
  {
   "cell_type": "code",
   "execution_count": 8,
   "id": "6cc4a785-7e85-456d-b4b5-a04e258aef54",
   "metadata": {
    "scrolled": true,
    "tags": []
   },
   "outputs": [
    {
     "data": {
      "text/plain": [
       "['R_EX_2mbald_e',\n",
       " 'R_EX_2pglyc_e',\n",
       " 'R_EX_3cmp_e',\n",
       " 'R_EX_4abut_e',\n",
       " 'R_EX_4ahmmp_e',\n",
       " 'R_EX_4hpro_LT_e',\n",
       " 'R_EX_5mcsn_e',\n",
       " 'R_EX_6pgc_e',\n",
       " 'R_EX_LalaDgluMdapDala_e',\n",
       " 'R_EX_LalaLglu_e',\n",
       " 'R_EX_Larab_e',\n",
       " 'R_EX_acald_e',\n",
       " 'R_EX_actn__R_e',\n",
       " 'R_EX_ad_e',\n",
       " 'R_EX_ala_L_asp__L_e',\n",
       " 'R_EX_ala_L_glu__L_e',\n",
       " 'R_EX_ala_L_thr__L_e',\n",
       " 'R_EX_ala__L_e',\n",
       " 'R_EX_ala_gln_e',\n",
       " 'R_EX_ala_his_e',\n",
       " 'R_EX_ala_leu_e',\n",
       " 'R_EX_alaala_e',\n",
       " 'R_EX_alagly_e',\n",
       " 'R_EX_arab__L_e',\n",
       " 'R_EX_arg__L_e',\n",
       " 'R_EX_asn__L_e',\n",
       " 'R_EX_aso4_e',\n",
       " 'R_EX_asp__L_e',\n",
       " 'R_EX_bz_e',\n",
       " 'R_EX_ca2_e',\n",
       " 'R_EX_cellb_e',\n",
       " 'R_EX_cgly_e',\n",
       " 'R_EX_chol_e',\n",
       " 'R_EX_chols_e',\n",
       " 'R_EX_cl_e',\n",
       " 'R_EX_co2_e',\n",
       " 'R_EX_co_e',\n",
       " 'R_EX_cobalt2_e',\n",
       " 'R_EX_crn_e',\n",
       " 'R_EX_cu2_e',\n",
       " 'R_EX_cys__L_e',\n",
       " 'R_EX_dca_e',\n",
       " 'R_EX_diact_e',\n",
       " 'R_EX_drib_e',\n",
       " 'R_EX_ecto__L_e',\n",
       " 'R_EX_etoh_e',\n",
       " 'R_EX_fe2_e',\n",
       " 'R_EX_fe3_e',\n",
       " 'R_EX_fe3dcit_e',\n",
       " 'R_EX_fe3pyovd_kt_e',\n",
       " 'R_EX_feenter_e',\n",
       " 'R_EX_fol_e',\n",
       " 'R_EX_fruur_e',\n",
       " 'R_EX_g3pe_e',\n",
       " 'R_EX_gal_e',\n",
       " 'R_EX_galman4_e',\n",
       " 'R_EX_galman6_e',\n",
       " 'R_EX_glc__D_e',\n",
       " 'R_EX_glcman4_e',\n",
       " 'R_EX_glcman6_e',\n",
       " 'R_EX_glcr_e',\n",
       " 'R_EX_gln__L_e',\n",
       " 'R_EX_glu__L_e',\n",
       " 'R_EX_glucan4_e',\n",
       " 'R_EX_glucan6_e',\n",
       " 'R_EX_gly_asn__L_e',\n",
       " 'R_EX_gly_asp__L_e',\n",
       " 'R_EX_gly_cys_e',\n",
       " 'R_EX_gly_e',\n",
       " 'R_EX_gly_gln_e',\n",
       " 'R_EX_gly_glu__L_e',\n",
       " 'R_EX_gly_leu_e',\n",
       " 'R_EX_gly_met_e',\n",
       " 'R_EX_gly_phe_e',\n",
       " 'R_EX_gly_pro__L_e',\n",
       " 'R_EX_gly_tyr_e',\n",
       " 'R_EX_glyb_e',\n",
       " 'R_EX_glyc3p_e',\n",
       " 'R_EX_glyclt_e',\n",
       " 'R_EX_glyglygln_e',\n",
       " 'R_EX_gua_e',\n",
       " 'R_EX_h2_e',\n",
       " 'R_EX_h2o2_e',\n",
       " 'R_EX_h2o_e',\n",
       " 'R_EX_h2s_e',\n",
       " 'R_EX_h_e',\n",
       " 'R_EX_ham_e',\n",
       " 'R_EX_his__L_e',\n",
       " 'R_EX_hxa_e',\n",
       " 'R_EX_hxan_e',\n",
       " 'R_EX_ile__L_e',\n",
       " 'R_EX_istfrnA_e',\n",
       " 'R_EX_istfrnB_e',\n",
       " 'R_EX_k_e',\n",
       " 'R_EX_lac__L_e',\n",
       " 'R_EX_lcts_e',\n",
       " 'R_EX_leu__L_e',\n",
       " 'R_EX_lmn2_e',\n",
       " 'R_EX_lys__L_e',\n",
       " 'R_EX_lysglugly_e',\n",
       " 'R_EX_mal__D_e',\n",
       " 'R_EX_malt_e',\n",
       " 'R_EX_malthp_e',\n",
       " 'R_EX_malthx_e',\n",
       " 'R_EX_malttr_e',\n",
       " 'R_EX_man_e',\n",
       " 'R_EX_melib_e',\n",
       " 'R_EX_met_L_ala__L_e',\n",
       " 'R_EX_met__D_e',\n",
       " 'R_EX_met__L_e',\n",
       " 'R_EX_metglcur_e',\n",
       " 'R_EX_metox__R_e',\n",
       " 'R_EX_metox_e',\n",
       " 'R_EX_mg2_e',\n",
       " 'R_EX_mn2_e',\n",
       " 'R_EX_nh4_e',\n",
       " 'R_EX_no3_e',\n",
       " 'R_EX_no_e',\n",
       " 'R_EX_o2s_e',\n",
       " 'R_EX_octa_e',\n",
       " 'R_EX_orn_e',\n",
       " 'R_EX_pacald_e',\n",
       " 'R_EX_peamn_e',\n",
       " 'R_EX_phe__L_e',\n",
       " 'R_EX_pi_e',\n",
       " 'R_EX_pro__L_e',\n",
       " 'R_EX_prohisglu_e',\n",
       " 'R_EX_pser__L_e',\n",
       " 'R_EX_pta_e',\n",
       " 'R_EX_ptrc_e',\n",
       " 'R_EX_pyovd_kt_e',\n",
       " 'R_EX_rib__D_e',\n",
       " 'R_EX_ribflv_e',\n",
       " 'R_EX_salc_e',\n",
       " 'R_EX_salchs4fe_e',\n",
       " 'R_EX_ser__L_e',\n",
       " 'R_EX_serglugly_e',\n",
       " 'R_EX_so4_e',\n",
       " 'R_EX_stfrnA_e',\n",
       " 'R_EX_stfrnB_e',\n",
       " 'R_EX_succ_e',\n",
       " 'R_EX_sucr_e',\n",
       " 'R_EX_tartr__L_e',\n",
       " 'R_EX_taur_e',\n",
       " 'R_EX_tet_e',\n",
       " 'R_EX_thm_e',\n",
       " 'R_EX_thr__L_e',\n",
       " 'R_EX_thym_e',\n",
       " 'R_EX_tnt_e',\n",
       " 'R_EX_tre_e',\n",
       " 'R_EX_trp__L_e',\n",
       " 'R_EX_tsul_e',\n",
       " 'R_EX_tyr__L_e',\n",
       " 'R_EX_udcpdp_e',\n",
       " 'R_EX_ura_e',\n",
       " 'R_EX_val__L_e',\n",
       " 'R_EX_xyl3_e',\n",
       " 'R_EX_xyl__D_e',\n",
       " 'R_EX_xylan4_e',\n",
       " 'R_EX_xylan8_e',\n",
       " 'R_EX_xylb_e',\n",
       " 'R_EX_zn2_e',\n",
       " 'R_EX_cell5_e',\n",
       " 'R_EX_cell4_e',\n",
       " 'R_EX_cell3_e',\n",
       " 'R_EX_QLQG_e',\n",
       " 'R_EX_QQLG_e',\n",
       " 'R_EX_QLLG_e',\n",
       " 'R_EX_QQQG_e',\n",
       " 'R_EX_GQQG_e',\n",
       " 'R_EX_AX_e',\n",
       " 'R_EX_AXX_e',\n",
       " 'R_EX_XA23XX_e',\n",
       " 'R_EX_A23XX_e',\n",
       " 'R_EX_XAXX_e']"
      ]
     },
     "execution_count": 8,
     "metadata": {},
     "output_type": "execute_result"
    }
   ],
   "source": [
    "[key for key in model.get_exchange_reactions() if np.array(sol[key])[0]<0]"
   ]
  },
  {
   "cell_type": "code",
   "execution_count": 9,
   "id": "afcf9e05-397b-497f-9d0a-f1024417a7a0",
   "metadata": {},
   "outputs": [
    {
     "data": {
      "text/plain": [
       "{'R_GALMAN4abc': -1.0, 'R_EX_galman4_e': -1.0}"
      ]
     },
     "execution_count": 9,
     "metadata": {},
     "output_type": "execute_result"
    }
   ],
   "source": [
    "model.metabolite_reaction_lookup()['M_galman4_e']"
   ]
  },
  {
   "cell_type": "code",
   "execution_count": 10,
   "id": "5246e472-a78d-42ce-a95f-fa90df494b3d",
   "metadata": {},
   "outputs": [
    {
     "data": {
      "text/plain": [
       "(G_WP_015925230_1 and G_WP_015925231_1)"
      ]
     },
     "execution_count": 10,
     "metadata": {},
     "output_type": "execute_result"
    }
   ],
   "source": [
    "model.reactions.R_GALMAN4abc.gpr"
   ]
  },
  {
   "cell_type": "code",
   "execution_count": 11,
   "id": "96cbc82f-b2ab-4715-980e-d2f51791531b",
   "metadata": {},
   "outputs": [
    {
     "data": {
      "text/plain": [
       "['R_GALMAN4abc',\n",
       " 'R_GALMAN6abc',\n",
       " 'R_GLCMAN4abc',\n",
       " 'R_GLCMAN6abc',\n",
       " 'R_RMNabc',\n",
       " 'R_XYLANabc',\n",
       " 'R_XYLabc']"
      ]
     },
     "execution_count": 11,
     "metadata": {},
     "output_type": "execute_result"
    }
   ],
   "source": [
    "model.gene_to_reaction_lookup()['G_WP_015925231_1']"
   ]
  },
  {
   "cell_type": "code",
   "execution_count": 12,
   "id": "1ff68b33-3e53-44cb-b64b-ac828dbc0804",
   "metadata": {},
   "outputs": [
    {
     "data": {
      "text/plain": [
       "{'R_GALMAN4': -1.0, 'R_GALMAN4abc': 1.0}"
      ]
     },
     "execution_count": 12,
     "metadata": {},
     "output_type": "execute_result"
    }
   ],
   "source": [
    "model.metabolite_reaction_lookup()['M_galman4_c']"
   ]
  },
  {
   "cell_type": "code",
   "execution_count": 13,
   "id": "670118d6-28c3-489e-baa5-fdfed6db6ba6",
   "metadata": {},
   "outputs": [
    {
     "data": {
      "text/plain": [
       "R_GALMAN4: M_galman4_c + 3.0 M_h2o_c --> M_gal_c + 3.0 M_man_c"
      ]
     },
     "execution_count": 13,
     "metadata": {},
     "output_type": "execute_result"
    }
   ],
   "source": [
    "model.reactions.R_GALMAN4"
   ]
  },
  {
   "cell_type": "code",
   "execution_count": 14,
   "id": "be519da1-0832-4ac3-8f92-9c56ba585afc",
   "metadata": {},
   "outputs": [
    {
     "data": {
      "text/plain": [
       "{'R_GLUCANabc': -1.0, 'R_EX_glucan4_e': -1.0}"
      ]
     },
     "execution_count": 14,
     "metadata": {},
     "output_type": "execute_result"
    }
   ],
   "source": [
    "model.metabolite_reaction_lookup()['M_glucan4_e']"
   ]
  },
  {
   "cell_type": "code",
   "execution_count": 15,
   "id": "e23f4176-2c32-435a-8981-1310be6fc475",
   "metadata": {},
   "outputs": [
    {
     "data": {
      "text/plain": [
       "{'R_GLS': -1.0, 'R_GLUCANabc': 1.0}"
      ]
     },
     "execution_count": 15,
     "metadata": {},
     "output_type": "execute_result"
    }
   ],
   "source": [
    "model.metabolite_reaction_lookup()['M_glucan4_c']"
   ]
  },
  {
   "cell_type": "markdown",
   "id": "bca1a09b-b352-4dbe-8ff5-a0ce8d454590",
   "metadata": {
    "tags": []
   },
   "source": [
    "## <span style=\"color: blue;\">Summary </span>"
   ]
  },
  {
   "cell_type": "code",
   "execution_count": 16,
   "id": "ca9d47b9-bdac-41f5-9ec2-cde7b3f5c57c",
   "metadata": {},
   "outputs": [],
   "source": [
    "model.update()"
   ]
  },
  {
   "cell_type": "code",
   "execution_count": 17,
   "id": "34c28c8b-d704-4695-9463-5c77e00fb80b",
   "metadata": {},
   "outputs": [],
   "source": [
    "model.id = \"model_c_H10_part5_1\""
   ]
  },
  {
   "cell_type": "code",
   "execution_count": 18,
   "id": "a210d8f4-bd54-4b71-bf44-4de9dff1c73f",
   "metadata": {},
   "outputs": [],
   "source": [
    "reframed.save_cbmodel(model,filename=\"model_c_H10_part5_1.xml\")"
   ]
  },
  {
   "cell_type": "code",
   "execution_count": 19,
   "id": "ce0becf4-5a53-438a-87ee-9830adc895eb",
   "metadata": {},
   "outputs": [],
   "source": [
    "model_new = reframed.load_cbmodel('model_c_H10_part5_1.xml')"
   ]
  },
  {
   "cell_type": "code",
   "execution_count": 20,
   "id": "d47dd6ec-4e7a-45ad-9281-eb1dd02d45a1",
   "metadata": {},
   "outputs": [],
   "source": [
    "model_prev = reframed.load_cbmodel('model_cellulolyticum_H10.xml')"
   ]
  },
  {
   "cell_type": "code",
   "execution_count": 21,
   "id": "9fdf4357-b8f0-4531-b16a-827db4d42603",
   "metadata": {},
   "outputs": [],
   "source": [
    "models_dict={model.id:{} for model in [model_new,model_prev]}\n",
    "models_rxn_dict={model.id:{} for model in [model_new,model_prev]}\n",
    "for model in [model,model_prev]:\n",
    "    models_dict[model.id]['Reactions']=len(model.reactions)\n",
    "    models_dict[model.id]['Metabolites']=len(model.metabolites)\n",
    "    models_dict[model.id]['Genes']=len(model.genes)\n",
    "    \n",
    "    models_rxn_dict[model.id]['Enzymatic']=len(model.get_reactions_by_type(reframed.ReactionType.ENZYMATIC))\n",
    "    models_rxn_dict[model.id]['Exchange']=len(model.get_reactions_by_type(reframed.ReactionType.EXCHANGE))\n",
    "    models_rxn_dict[model.id]['Transport']=len(model.get_reactions_by_type(reframed.ReactionType.TRANSPORT))\n",
    "    models_rxn_dict[model.id]['Sink']=len(model.get_reactions_by_type(reframed.ReactionType.SINK))\n",
    "    models_rxn_dict[model.id]['Other']=len(model.get_reactions_by_type(reframed.ReactionType.OTHER))\n",
    "    "
   ]
  },
  {
   "cell_type": "markdown",
   "id": "0dab8c43-6e52-438b-9bdb-6699708d40ac",
   "metadata": {},
   "source": [
    "**Overview models**"
   ]
  },
  {
   "cell_type": "code",
   "execution_count": 22,
   "id": "aceb678f-d11e-40d8-9fd9-f17a8ba37338",
   "metadata": {},
   "outputs": [
    {
     "data": {
      "text/html": [
       "<div>\n",
       "<style scoped>\n",
       "    .dataframe tbody tr th:only-of-type {\n",
       "        vertical-align: middle;\n",
       "    }\n",
       "\n",
       "    .dataframe tbody tr th {\n",
       "        vertical-align: top;\n",
       "    }\n",
       "\n",
       "    .dataframe thead th {\n",
       "        text-align: right;\n",
       "    }\n",
       "</style>\n",
       "<table border=\"1\" class=\"dataframe\">\n",
       "  <thead>\n",
       "    <tr style=\"text-align: right;\">\n",
       "      <th></th>\n",
       "      <th>model_c_H10_part5_1</th>\n",
       "      <th>model_cellulolyticum_H10</th>\n",
       "    </tr>\n",
       "  </thead>\n",
       "  <tbody>\n",
       "    <tr>\n",
       "      <th>Reactions</th>\n",
       "      <td>1711</td>\n",
       "      <td>1811</td>\n",
       "    </tr>\n",
       "    <tr>\n",
       "      <th>Metabolites</th>\n",
       "      <td>1281</td>\n",
       "      <td>1250</td>\n",
       "    </tr>\n",
       "    <tr>\n",
       "      <th>Genes</th>\n",
       "      <td>746</td>\n",
       "      <td>733</td>\n",
       "    </tr>\n",
       "  </tbody>\n",
       "</table>\n",
       "</div>"
      ],
      "text/plain": [
       "             model_c_H10_part5_1  model_cellulolyticum_H10\n",
       "Reactions                   1711                      1811\n",
       "Metabolites                 1281                      1250\n",
       "Genes                        746                       733"
      ]
     },
     "execution_count": 22,
     "metadata": {},
     "output_type": "execute_result"
    }
   ],
   "source": [
    "pd.DataFrame(models_dict)"
   ]
  },
  {
   "cell_type": "markdown",
   "id": "64481766-14e5-44ab-84e6-e8cd0feaad7e",
   "metadata": {},
   "source": [
    "**Overview reactions in models**"
   ]
  },
  {
   "cell_type": "code",
   "execution_count": 23,
   "id": "6e21c733-ca3c-44a8-8a14-d11b32a9407b",
   "metadata": {},
   "outputs": [
    {
     "data": {
      "text/html": [
       "<div>\n",
       "<style scoped>\n",
       "    .dataframe tbody tr th:only-of-type {\n",
       "        vertical-align: middle;\n",
       "    }\n",
       "\n",
       "    .dataframe tbody tr th {\n",
       "        vertical-align: top;\n",
       "    }\n",
       "\n",
       "    .dataframe thead th {\n",
       "        text-align: right;\n",
       "    }\n",
       "</style>\n",
       "<table border=\"1\" class=\"dataframe\">\n",
       "  <thead>\n",
       "    <tr style=\"text-align: right;\">\n",
       "      <th></th>\n",
       "      <th>model_c_H10_part5_1</th>\n",
       "      <th>model_cellulolyticum_H10</th>\n",
       "    </tr>\n",
       "  </thead>\n",
       "  <tbody>\n",
       "    <tr>\n",
       "      <th>Enzymatic</th>\n",
       "      <td>863</td>\n",
       "      <td>883</td>\n",
       "    </tr>\n",
       "    <tr>\n",
       "      <th>Exchange</th>\n",
       "      <td>201</td>\n",
       "      <td>210</td>\n",
       "    </tr>\n",
       "    <tr>\n",
       "      <th>Transport</th>\n",
       "      <td>412</td>\n",
       "      <td>475</td>\n",
       "    </tr>\n",
       "    <tr>\n",
       "      <th>Sink</th>\n",
       "      <td>0</td>\n",
       "      <td>0</td>\n",
       "    </tr>\n",
       "    <tr>\n",
       "      <th>Other</th>\n",
       "      <td>235</td>\n",
       "      <td>243</td>\n",
       "    </tr>\n",
       "  </tbody>\n",
       "</table>\n",
       "</div>"
      ],
      "text/plain": [
       "           model_c_H10_part5_1  model_cellulolyticum_H10\n",
       "Enzymatic                  863                       883\n",
       "Exchange                   201                       210\n",
       "Transport                  412                       475\n",
       "Sink                         0                         0\n",
       "Other                      235                       243"
      ]
     },
     "execution_count": 23,
     "metadata": {},
     "output_type": "execute_result"
    }
   ],
   "source": [
    "pd.DataFrame(models_rxn_dict)"
   ]
  }
 ],
 "metadata": {
  "kernelspec": {
   "display_name": "RecAndAn",
   "language": "python",
   "name": "recandan"
  },
  "language_info": {
   "codemirror_mode": {
    "name": "ipython",
    "version": 3
   },
   "file_extension": ".py",
   "mimetype": "text/x-python",
   "name": "python",
   "nbconvert_exporter": "python",
   "pygments_lexer": "ipython3",
   "version": "3.7.13"
  }
 },
 "nbformat": 4,
 "nbformat_minor": 5
}
