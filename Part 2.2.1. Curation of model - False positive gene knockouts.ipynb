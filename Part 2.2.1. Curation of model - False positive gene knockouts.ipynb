{
 "cells": [
  {
   "cell_type": "markdown",
   "id": "ff5b82f9-2fdc-4036-a7dd-7902dcb3cad3",
   "metadata": {},
   "source": [
    "# <span style=\"color: blue;\">Part 2.2.1: Curation of model - Catabolism of sugars, false positives KOs </span>"
   ]
  },
  {
   "cell_type": "code",
   "execution_count": 1,
   "id": "a731a08f-4402-460d-ac8d-ebd25dd67dbf",
   "metadata": {},
   "outputs": [],
   "source": [
    "import reframed\n",
    "import pandas as pd\n",
    "import warnings"
   ]
  },
  {
   "cell_type": "code",
   "execution_count": 2,
   "id": "a73ef8b9-0036-4b9f-a390-6d2df984a38e",
   "metadata": {},
   "outputs": [],
   "source": [
    "model = reframed.load_cbmodel('model_c_H10_part2_1_1.xml')"
   ]
  },
  {
   "cell_type": "markdown",
   "id": "56b10395-e7d9-4bf6-a2a7-5efe201fb363",
   "metadata": {
    "tags": []
   },
   "source": [
    "## <span style=\"color: blue;\">A: False positive knockouts </span>"
   ]
  },
  {
   "cell_type": "markdown",
   "id": "059f1981-6e6b-404d-be75-f4e824ca5886",
   "metadata": {},
   "source": [
    "**Hexokinase (Ccel_3221/G_WP_015926569_1):** \n",
    "\n",
    "- **False positive glucose**\n",
    "\n",
    "- **False positive on cellobiose**\n",
    "\n",
    "- **False positive on mannose**\n",
    "    "
   ]
  },
  {
   "cell_type": "markdown",
   "id": "8b1b5470-6f0f-41c2-815c-45cc90c4b971",
   "metadata": {},
   "source": [
    "#### Getting gene-protein-map from UniProt"
   ]
  },
  {
   "cell_type": "code",
   "execution_count": 3,
   "id": "954b5f8e-6ea4-4eab-8abe-9753c9dd0e11",
   "metadata": {},
   "outputs": [],
   "source": [
    "%store -r gene_protein_map"
   ]
  },
  {
   "cell_type": "code",
   "execution_count": 4,
   "id": "eab5b519-5664-4a4b-9bb2-9e3c54188fb2",
   "metadata": {},
   "outputs": [
    {
     "data": {
      "text/html": [
       "<div>\n",
       "<style scoped>\n",
       "    .dataframe tbody tr th:only-of-type {\n",
       "        vertical-align: middle;\n",
       "    }\n",
       "\n",
       "    .dataframe tbody tr th {\n",
       "        vertical-align: top;\n",
       "    }\n",
       "\n",
       "    .dataframe thead th {\n",
       "        text-align: right;\n",
       "    }\n",
       "</style>\n",
       "<table border=\"1\" class=\"dataframe\">\n",
       "  <thead>\n",
       "    <tr style=\"text-align: right;\">\n",
       "      <th></th>\n",
       "      <th>Entry</th>\n",
       "      <th>Entry name</th>\n",
       "      <th>Protein names</th>\n",
       "      <th>Gene names</th>\n",
       "      <th>Cross-reference (RefSeq)</th>\n",
       "    </tr>\n",
       "  </thead>\n",
       "  <tbody>\n",
       "    <tr>\n",
       "      <th>0</th>\n",
       "      <td>B8I4G1</td>\n",
       "      <td>LEUD_RUMCH</td>\n",
       "      <td>3-isopropylmalate dehydratase small subunit (E...</td>\n",
       "      <td>leuD Ccel_0127</td>\n",
       "      <td>G_WP_012634581_1</td>\n",
       "    </tr>\n",
       "    <tr>\n",
       "      <th>1</th>\n",
       "      <td>B8I8F2</td>\n",
       "      <td>UVRC_RUMCH</td>\n",
       "      <td>UvrABC system protein C (Protein UvrC) (Excinu...</td>\n",
       "      <td>uvrC Ccel_0807</td>\n",
       "      <td>G_WP_015924347_1</td>\n",
       "    </tr>\n",
       "    <tr>\n",
       "      <th>2</th>\n",
       "      <td>B8I567</td>\n",
       "      <td>UPP_RUMCH</td>\n",
       "      <td>Uracil phosphoribosyltransferase (EC 2.4.2.9) ...</td>\n",
       "      <td>upp Ccel_0260</td>\n",
       "      <td>G_WP_012634712_1</td>\n",
       "    </tr>\n",
       "  </tbody>\n",
       "</table>\n",
       "</div>"
      ],
      "text/plain": [
       "    Entry  Entry name                                      Protein names  \\\n",
       "0  B8I4G1  LEUD_RUMCH  3-isopropylmalate dehydratase small subunit (E...   \n",
       "1  B8I8F2  UVRC_RUMCH  UvrABC system protein C (Protein UvrC) (Excinu...   \n",
       "2  B8I567   UPP_RUMCH  Uracil phosphoribosyltransferase (EC 2.4.2.9) ...   \n",
       "\n",
       "       Gene names Cross-reference (RefSeq)  \n",
       "0  leuD Ccel_0127         G_WP_012634581_1  \n",
       "1  uvrC Ccel_0807         G_WP_015924347_1  \n",
       "2   upp Ccel_0260         G_WP_012634712_1  "
      ]
     },
     "execution_count": 4,
     "metadata": {},
     "output_type": "execute_result"
    }
   ],
   "source": [
    "gene_protein_map.head(3)"
   ]
  },
  {
   "cell_type": "markdown",
   "id": "52db7521-89cf-4ea9-9417-481fde00f592",
   "metadata": {},
   "source": [
    "### <span style=\"color: blue;\">A.1: False positive on glucose and cellobiose - Hexokinase (Ccel_3221/G_WP_015926569_1) mutant</span>\n"
   ]
  },
  {
   "cell_type": "markdown",
   "id": "e045a38a-b4f6-43aa-8f33-fdff7e924167",
   "metadata": {},
   "source": [
    "The hexokinase reaction is carried out by several proteins in the model. Since it is essential for growth on cellobiose, this is likely not the case. \n",
    "The true protein: **G_WP_015926569_1**\n",
    "\n",
    "**The protein catalyzes the following reactions**: \n",
    "- **R_HEX1: M_atp_c + M_glc__D_c --> M_adp_c + M_g6p_c + M_h_c: (G_WP_015924247_1 or G_WP_015925130_1 or G_WP_015925627_1 or G_WP_015926569_1 or G_WP_015926770_1)**\n",
    "- R_HEX4: M_atp_c + M_man_c --> M_adp_c + M_h_c + M_man6p_c: G_WP_015926569_1\n",
    "- R_HEX7: M_atp_c + M_fru_c --> M_adp_c + M_f6p_c + M_h_c: (G_WP_015924474_1 or G_WP_015926569_1)\n",
    "GPR for HEX1 should be changed as it is likely only catalyzed by the one protein, since it is essential for growth.\n",
    "\n",
    "\n",
    "**Model behavior - false positive on glucose and cellobiose**\n",
    "\n",
    "Model is producing and re-consuming cellobiose. There is a cycle with R_CEPA and R_BGLA. I don't completely understand where the glucose is going. -> Change reaction directionality?\n",
    "- R_CEPA: M_cellb_c + M_pi_c <-> M_g1p_c + M_glc__D_c\n",
    "- and R_BGLA: M_cellb_c + M_h2o_c <-> 2.0 M_glc__D_c\n",
    "\n",
    "**Strategy**\n",
    "- Find genes associated with HEX1\n",
    "    - Find annotation and score in UniProt\n",
    "- Find gene(s) associated with CEPA and BGLA\n",
    "    - Find annotation and score in UniProt\n",
    "- Determine if reaction directionality makes sense."
   ]
  },
  {
   "cell_type": "markdown",
   "id": "ea3e18b7-d57f-4c06-baf6-16c98d8c135c",
   "metadata": {
    "tags": []
   },
   "source": [
    "#### <span style=\"color: purple;\">Details on problem</span>"
   ]
  },
  {
   "cell_type": "markdown",
   "id": "6b9e27cf-41fa-47b5-a819-a2f0af343904",
   "metadata": {},
   "source": [
    "**Genes involved in HEX1 reaction, UniProt annotations, and their connection to other reactions**"
   ]
  },
  {
   "cell_type": "markdown",
   "id": "5e84393e-60c1-4439-a4d8-e46be180f3ee",
   "metadata": {},
   "source": [
    "[*Ccel_0700 annotation score in UniProt: 1*](https://www.uniprot.org/uniprotkb?query=Ccel_0700)"
   ]
  },
  {
   "cell_type": "code",
   "execution_count": 5,
   "id": "fc1289cd-528f-4143-9341-bd31db0ba399",
   "metadata": {},
   "outputs": [
    {
     "name": "stdout",
     "output_type": "stream",
     "text": [
      "R_GLUKA_1: M_atp_c + M_glc__aD_c --> M_adp_c + M_g6p_A_c + M_h_c\n",
      "R_HEX1: M_gtp_c + M_glc__D_c --> M_gdp_c + M_g6p_c + M_h_c\n"
     ]
    }
   ],
   "source": [
    "for rxn in model.gene_to_reaction_lookup()['G_WP_015924247_1']:\n",
    "    print(model.reactions[rxn])"
   ]
  },
  {
   "cell_type": "code",
   "execution_count": 6,
   "id": "e1ad9072-40ac-47b6-976d-648a36416542",
   "metadata": {},
   "outputs": [
    {
     "data": {
      "text/html": [
       "<div>\n",
       "<style scoped>\n",
       "    .dataframe tbody tr th:only-of-type {\n",
       "        vertical-align: middle;\n",
       "    }\n",
       "\n",
       "    .dataframe tbody tr th {\n",
       "        vertical-align: top;\n",
       "    }\n",
       "\n",
       "    .dataframe thead th {\n",
       "        text-align: right;\n",
       "    }\n",
       "</style>\n",
       "<table border=\"1\" class=\"dataframe\">\n",
       "  <thead>\n",
       "    <tr style=\"text-align: right;\">\n",
       "      <th></th>\n",
       "      <th>Entry</th>\n",
       "      <th>Entry name</th>\n",
       "      <th>Protein names</th>\n",
       "      <th>Gene names</th>\n",
       "      <th>Cross-reference (RefSeq)</th>\n",
       "    </tr>\n",
       "  </thead>\n",
       "  <tbody>\n",
       "    <tr>\n",
       "      <th>1438</th>\n",
       "      <td>B8I7S2</td>\n",
       "      <td>B8I7S2_RUMCH</td>\n",
       "      <td>ROK family protein</td>\n",
       "      <td>Ccel_0700</td>\n",
       "      <td>G_WP_015924247_1</td>\n",
       "    </tr>\n",
       "  </tbody>\n",
       "</table>\n",
       "</div>"
      ],
      "text/plain": [
       "       Entry    Entry name       Protein names Gene names  \\\n",
       "1438  B8I7S2  B8I7S2_RUMCH  ROK family protein  Ccel_0700   \n",
       "\n",
       "     Cross-reference (RefSeq)  \n",
       "1438         G_WP_015924247_1  "
      ]
     },
     "execution_count": 6,
     "metadata": {},
     "output_type": "execute_result"
    }
   ],
   "source": [
    "gene_protein_map[gene_protein_map['Cross-reference (RefSeq)']=='G_WP_015924247_1']"
   ]
  },
  {
   "cell_type": "markdown",
   "id": "2b84509b-8caa-40d6-a03a-533e33cb1ac7",
   "metadata": {},
   "source": [
    "\n",
    "[*Ccel_1663 annotation score in UniProt: 1*](https://www.uniprot.org/uniprotkb?query=Ccel_1663)"
   ]
  },
  {
   "cell_type": "code",
   "execution_count": 7,
   "id": "eb876960-c12f-422a-b3b8-788cca101b49",
   "metadata": {},
   "outputs": [
    {
     "name": "stdout",
     "output_type": "stream",
     "text": [
      "R_HEX1: M_gtp_c + M_glc__D_c --> M_gdp_c + M_g6p_c + M_h_c\n"
     ]
    }
   ],
   "source": [
    "for rxn in model.gene_to_reaction_lookup()['G_WP_015925130_1']:\n",
    "    print(model.reactions[rxn])"
   ]
  },
  {
   "cell_type": "code",
   "execution_count": 8,
   "id": "1d012cd8-481c-4890-a897-2189c1a37322",
   "metadata": {},
   "outputs": [
    {
     "data": {
      "text/html": [
       "<div>\n",
       "<style scoped>\n",
       "    .dataframe tbody tr th:only-of-type {\n",
       "        vertical-align: middle;\n",
       "    }\n",
       "\n",
       "    .dataframe tbody tr th {\n",
       "        vertical-align: top;\n",
       "    }\n",
       "\n",
       "    .dataframe thead th {\n",
       "        text-align: right;\n",
       "    }\n",
       "</style>\n",
       "<table border=\"1\" class=\"dataframe\">\n",
       "  <thead>\n",
       "    <tr style=\"text-align: right;\">\n",
       "      <th></th>\n",
       "      <th>Entry</th>\n",
       "      <th>Entry name</th>\n",
       "      <th>Protein names</th>\n",
       "      <th>Gene names</th>\n",
       "      <th>Cross-reference (RefSeq)</th>\n",
       "    </tr>\n",
       "  </thead>\n",
       "  <tbody>\n",
       "    <tr>\n",
       "      <th>497</th>\n",
       "      <td>B8I2M1</td>\n",
       "      <td>B8I2M1_RUMCH</td>\n",
       "      <td>ROK family protein</td>\n",
       "      <td>Ccel_1663</td>\n",
       "      <td>G_WP_015925130_1</td>\n",
       "    </tr>\n",
       "  </tbody>\n",
       "</table>\n",
       "</div>"
      ],
      "text/plain": [
       "      Entry    Entry name       Protein names Gene names  \\\n",
       "497  B8I2M1  B8I2M1_RUMCH  ROK family protein  Ccel_1663   \n",
       "\n",
       "    Cross-reference (RefSeq)  \n",
       "497         G_WP_015925130_1  "
      ]
     },
     "execution_count": 8,
     "metadata": {},
     "output_type": "execute_result"
    }
   ],
   "source": [
    "gene_protein_map[gene_protein_map['Cross-reference (RefSeq)']=='G_WP_015925130_1']"
   ]
  },
  {
   "cell_type": "markdown",
   "id": "1641b810-16bd-4188-88ad-9fbb9f8dfd3f",
   "metadata": {},
   "source": [
    "[*Ccel_2190 annotation score in UniProt: 1*](https://www.uniprot.org/uniprotkb?query=Ccel_2190)"
   ]
  },
  {
   "cell_type": "code",
   "execution_count": 9,
   "id": "06fcc080-5616-4ad1-909b-ffa4d5b4f509",
   "metadata": {},
   "outputs": [
    {
     "name": "stdout",
     "output_type": "stream",
     "text": [
      "R_AMANK: M_acmana_c + M_atp_c --> M_acmanap_c + M_adp_c + M_h_c\n",
      "R_HEX1: M_gtp_c + M_glc__D_c --> M_gdp_c + M_g6p_c + M_h_c\n"
     ]
    }
   ],
   "source": [
    "for rxn in model.gene_to_reaction_lookup()['G_WP_015925627_1']:\n",
    "    print(model.reactions[rxn])"
   ]
  },
  {
   "cell_type": "code",
   "execution_count": 10,
   "id": "643657ad-82ef-4026-ab03-a1bb0dc730e7",
   "metadata": {},
   "outputs": [
    {
     "data": {
      "text/html": [
       "<div>\n",
       "<style scoped>\n",
       "    .dataframe tbody tr th:only-of-type {\n",
       "        vertical-align: middle;\n",
       "    }\n",
       "\n",
       "    .dataframe tbody tr th {\n",
       "        vertical-align: top;\n",
       "    }\n",
       "\n",
       "    .dataframe thead th {\n",
       "        text-align: right;\n",
       "    }\n",
       "</style>\n",
       "<table border=\"1\" class=\"dataframe\">\n",
       "  <thead>\n",
       "    <tr style=\"text-align: right;\">\n",
       "      <th></th>\n",
       "      <th>Entry</th>\n",
       "      <th>Entry name</th>\n",
       "      <th>Protein names</th>\n",
       "      <th>Gene names</th>\n",
       "      <th>Cross-reference (RefSeq)</th>\n",
       "    </tr>\n",
       "  </thead>\n",
       "  <tbody>\n",
       "    <tr>\n",
       "      <th>2628</th>\n",
       "      <td>B8I4M8</td>\n",
       "      <td>B8I4M8_RUMCH</td>\n",
       "      <td>ROK family protein</td>\n",
       "      <td>Ccel_2190</td>\n",
       "      <td>G_WP_015925627_1</td>\n",
       "    </tr>\n",
       "  </tbody>\n",
       "</table>\n",
       "</div>"
      ],
      "text/plain": [
       "       Entry    Entry name       Protein names Gene names  \\\n",
       "2628  B8I4M8  B8I4M8_RUMCH  ROK family protein  Ccel_2190   \n",
       "\n",
       "     Cross-reference (RefSeq)  \n",
       "2628         G_WP_015925627_1  "
      ]
     },
     "execution_count": 10,
     "metadata": {},
     "output_type": "execute_result"
    }
   ],
   "source": [
    "gene_protein_map[gene_protein_map['Cross-reference (RefSeq)']=='G_WP_015925627_1']"
   ]
  },
  {
   "cell_type": "markdown",
   "id": "8f9be6bc-32ff-456d-bb5f-5e987a7a18e0",
   "metadata": {},
   "source": [
    "[*Ccel_3221 annotation score in UniProt: 1*](https://www.uniprot.org/uniprotkb?query=Ccel_3221)"
   ]
  },
  {
   "cell_type": "code",
   "execution_count": 11,
   "id": "c38c08d6-ce3a-44b5-9433-c624aedae6d2",
   "metadata": {},
   "outputs": [
    {
     "name": "stdout",
     "output_type": "stream",
     "text": [
      "R_HEX4: M_atp_c + M_man_c --> M_adp_c + M_h_c + M_man6p_c\n",
      "R_HEX7: M_atp_c + M_fru_c --> M_adp_c + M_f6p_c + M_h_c\n",
      "R_HEX1: M_gtp_c + M_glc__D_c --> M_gdp_c + M_g6p_c + M_h_c\n"
     ]
    }
   ],
   "source": [
    "for rxn in model.gene_to_reaction_lookup()['G_WP_015926569_1']:\n",
    "    print(model.reactions[rxn])"
   ]
  },
  {
   "cell_type": "code",
   "execution_count": 12,
   "id": "9fa82efe-f1e2-4acd-9669-3e6d5ca0a636",
   "metadata": {},
   "outputs": [
    {
     "data": {
      "text/html": [
       "<div>\n",
       "<style scoped>\n",
       "    .dataframe tbody tr th:only-of-type {\n",
       "        vertical-align: middle;\n",
       "    }\n",
       "\n",
       "    .dataframe tbody tr th {\n",
       "        vertical-align: top;\n",
       "    }\n",
       "\n",
       "    .dataframe thead th {\n",
       "        text-align: right;\n",
       "    }\n",
       "</style>\n",
       "<table border=\"1\" class=\"dataframe\">\n",
       "  <thead>\n",
       "    <tr style=\"text-align: right;\">\n",
       "      <th></th>\n",
       "      <th>Entry</th>\n",
       "      <th>Entry name</th>\n",
       "      <th>Protein names</th>\n",
       "      <th>Gene names</th>\n",
       "      <th>Cross-reference (RefSeq)</th>\n",
       "    </tr>\n",
       "  </thead>\n",
       "  <tbody>\n",
       "    <tr>\n",
       "      <th>1083</th>\n",
       "      <td>B8I0V5</td>\n",
       "      <td>B8I0V5_RUMCH</td>\n",
       "      <td>Hexokinase</td>\n",
       "      <td>Ccel_3221</td>\n",
       "      <td>G_WP_015926569_1</td>\n",
       "    </tr>\n",
       "  </tbody>\n",
       "</table>\n",
       "</div>"
      ],
      "text/plain": [
       "       Entry    Entry name Protein names Gene names Cross-reference (RefSeq)\n",
       "1083  B8I0V5  B8I0V5_RUMCH    Hexokinase  Ccel_3221         G_WP_015926569_1"
      ]
     },
     "execution_count": 12,
     "metadata": {},
     "output_type": "execute_result"
    }
   ],
   "source": [
    "gene_protein_map[gene_protein_map['Cross-reference (RefSeq)']=='G_WP_015926569_1']"
   ]
  },
  {
   "cell_type": "markdown",
   "id": "1ee1102b-614b-42df-be35-c1b521c258c6",
   "metadata": {},
   "source": [
    "[*Ccel_3430 annotation score in UniProt: 1*](https://www.uniprot.org/uniprotkb?query=Ccel_3430)"
   ]
  },
  {
   "cell_type": "code",
   "execution_count": 13,
   "id": "e9bcbd2b-34f6-4951-91d0-02d8e85d4776",
   "metadata": {},
   "outputs": [
    {
     "name": "stdout",
     "output_type": "stream",
     "text": [
      "R_HEX1: M_gtp_c + M_glc__D_c --> M_gdp_c + M_g6p_c + M_h_c\n"
     ]
    }
   ],
   "source": [
    "for rxn in model.gene_to_reaction_lookup()['G_WP_015926770_1']:\n",
    "    print(model.reactions[rxn])"
   ]
  },
  {
   "cell_type": "code",
   "execution_count": 14,
   "id": "1902c005-6a67-4274-a9f7-9a300184c988",
   "metadata": {},
   "outputs": [
    {
     "data": {
      "text/html": [
       "<div>\n",
       "<style scoped>\n",
       "    .dataframe tbody tr th:only-of-type {\n",
       "        vertical-align: middle;\n",
       "    }\n",
       "\n",
       "    .dataframe tbody tr th {\n",
       "        vertical-align: top;\n",
       "    }\n",
       "\n",
       "    .dataframe thead th {\n",
       "        text-align: right;\n",
       "    }\n",
       "</style>\n",
       "<table border=\"1\" class=\"dataframe\">\n",
       "  <thead>\n",
       "    <tr style=\"text-align: right;\">\n",
       "      <th></th>\n",
       "      <th>Entry</th>\n",
       "      <th>Entry name</th>\n",
       "      <th>Protein names</th>\n",
       "      <th>Gene names</th>\n",
       "      <th>Cross-reference (RefSeq)</th>\n",
       "    </tr>\n",
       "  </thead>\n",
       "  <tbody>\n",
       "    <tr>\n",
       "      <th>259</th>\n",
       "      <td>B8I1T3</td>\n",
       "      <td>B8I1T3_RUMCH</td>\n",
       "      <td>ROK family protein</td>\n",
       "      <td>Ccel_3430</td>\n",
       "      <td>G_WP_015926770_1</td>\n",
       "    </tr>\n",
       "  </tbody>\n",
       "</table>\n",
       "</div>"
      ],
      "text/plain": [
       "      Entry    Entry name       Protein names Gene names  \\\n",
       "259  B8I1T3  B8I1T3_RUMCH  ROK family protein  Ccel_3430   \n",
       "\n",
       "    Cross-reference (RefSeq)  \n",
       "259         G_WP_015926770_1  "
      ]
     },
     "execution_count": 14,
     "metadata": {},
     "output_type": "execute_result"
    }
   ],
   "source": [
    "gene_protein_map[gene_protein_map['Cross-reference (RefSeq)']=='G_WP_015926770_1']"
   ]
  },
  {
   "cell_type": "markdown",
   "id": "02943856-9071-4ef5-b622-b5a2082cae1e",
   "metadata": {},
   "source": [
    "**Genes involved CEPA reaction and UniProt annotation**"
   ]
  },
  {
   "cell_type": "code",
   "execution_count": 15,
   "id": "f4fcb038-8267-4d48-9a21-75952ff04691",
   "metadata": {},
   "outputs": [
    {
     "data": {
      "text/plain": [
       "'Cellobiose phosphorylase'"
      ]
     },
     "execution_count": 15,
     "metadata": {},
     "output_type": "execute_result"
    }
   ],
   "source": [
    "model.reactions.R_CEPA.name"
   ]
  },
  {
   "cell_type": "code",
   "execution_count": 16,
   "id": "1dab8d66-2792-4083-9d25-de5abefa1d51",
   "metadata": {},
   "outputs": [
    {
     "data": {
      "text/plain": [
       "G_WP_015925554_1"
      ]
     },
     "execution_count": 16,
     "metadata": {},
     "output_type": "execute_result"
    }
   ],
   "source": [
    "model.reactions.R_CEPA.gpr"
   ]
  },
  {
   "cell_type": "markdown",
   "id": "042317ea-ff62-4f04-bf24-fb63b75899db",
   "metadata": {},
   "source": [
    "[*Ccel_2109 annotation score in UniProt: 1*](https://www.uniprot.org/uniprotkb?query=Ccel_2109)"
   ]
  },
  {
   "cell_type": "code",
   "execution_count": 17,
   "id": "44e3ec41-3056-4aee-afd1-8ab5da7a2951",
   "metadata": {},
   "outputs": [
    {
     "data": {
      "text/html": [
       "<div>\n",
       "<style scoped>\n",
       "    .dataframe tbody tr th:only-of-type {\n",
       "        vertical-align: middle;\n",
       "    }\n",
       "\n",
       "    .dataframe tbody tr th {\n",
       "        vertical-align: top;\n",
       "    }\n",
       "\n",
       "    .dataframe thead th {\n",
       "        text-align: right;\n",
       "    }\n",
       "</style>\n",
       "<table border=\"1\" class=\"dataframe\">\n",
       "  <thead>\n",
       "    <tr style=\"text-align: right;\">\n",
       "      <th></th>\n",
       "      <th>Entry</th>\n",
       "      <th>Entry name</th>\n",
       "      <th>Protein names</th>\n",
       "      <th>Gene names</th>\n",
       "      <th>Cross-reference (RefSeq)</th>\n",
       "    </tr>\n",
       "  </thead>\n",
       "  <tbody>\n",
       "    <tr>\n",
       "      <th>872</th>\n",
       "      <td>B8I421</td>\n",
       "      <td>B8I421_RUMCH</td>\n",
       "      <td>Glycosyltransferase 36</td>\n",
       "      <td>Ccel_2109</td>\n",
       "      <td>G_WP_015925554_1</td>\n",
       "    </tr>\n",
       "  </tbody>\n",
       "</table>\n",
       "</div>"
      ],
      "text/plain": [
       "      Entry    Entry name           Protein names Gene names  \\\n",
       "872  B8I421  B8I421_RUMCH  Glycosyltransferase 36  Ccel_2109   \n",
       "\n",
       "    Cross-reference (RefSeq)  \n",
       "872         G_WP_015925554_1  "
      ]
     },
     "execution_count": 17,
     "metadata": {},
     "output_type": "execute_result"
    }
   ],
   "source": [
    "gene_protein_map[gene_protein_map['Cross-reference (RefSeq)']==str(model.reactions.R_CEPA.gpr)]"
   ]
  },
  {
   "cell_type": "markdown",
   "id": "6738c790-81a7-4705-ab06-416e7ef87da2",
   "metadata": {},
   "source": [
    "**Genes involved in BGLA reaction and UniProt annotation**"
   ]
  },
  {
   "cell_type": "code",
   "execution_count": 18,
   "id": "53cf36bf-e800-48bd-95e5-48e2d5e9d144",
   "metadata": {},
   "outputs": [
    {
     "data": {
      "text/plain": [
       "(G_WP_012634655_1 or G_WP_015925872_1)"
      ]
     },
     "execution_count": 18,
     "metadata": {},
     "output_type": "execute_result"
    }
   ],
   "source": [
    "model.reactions.R_BGLA.gpr"
   ]
  },
  {
   "cell_type": "markdown",
   "id": "a6b0a723-07d0-4bff-8825-4c71173734c7",
   "metadata": {},
   "source": [
    "[*Ccel_0203 annotation score in UniProt: 1*](https://www.uniprot.org/uniprotkb?query=Ccel_0203)"
   ]
  },
  {
   "cell_type": "code",
   "execution_count": 19,
   "id": "6a0243fb-727c-4ec1-be6b-0582c85765c4",
   "metadata": {},
   "outputs": [
    {
     "data": {
      "text/html": [
       "<div>\n",
       "<style scoped>\n",
       "    .dataframe tbody tr th:only-of-type {\n",
       "        vertical-align: middle;\n",
       "    }\n",
       "\n",
       "    .dataframe tbody tr th {\n",
       "        vertical-align: top;\n",
       "    }\n",
       "\n",
       "    .dataframe thead th {\n",
       "        text-align: right;\n",
       "    }\n",
       "</style>\n",
       "<table border=\"1\" class=\"dataframe\">\n",
       "  <thead>\n",
       "    <tr style=\"text-align: right;\">\n",
       "      <th></th>\n",
       "      <th>Entry</th>\n",
       "      <th>Entry name</th>\n",
       "      <th>Protein names</th>\n",
       "      <th>Gene names</th>\n",
       "      <th>Cross-reference (RefSeq)</th>\n",
       "    </tr>\n",
       "  </thead>\n",
       "  <tbody>\n",
       "    <tr>\n",
       "      <th>2897</th>\n",
       "      <td>B8I510</td>\n",
       "      <td>B8I510_RUMCH</td>\n",
       "      <td>Glycoside hydrolase family 3 domain protein</td>\n",
       "      <td>Ccel_0203</td>\n",
       "      <td>G_WP_012634655_1</td>\n",
       "    </tr>\n",
       "  </tbody>\n",
       "</table>\n",
       "</div>"
      ],
      "text/plain": [
       "       Entry    Entry name                                Protein names  \\\n",
       "2897  B8I510  B8I510_RUMCH  Glycoside hydrolase family 3 domain protein   \n",
       "\n",
       "     Gene names Cross-reference (RefSeq)  \n",
       "2897  Ccel_0203         G_WP_012634655_1  "
      ]
     },
     "execution_count": 19,
     "metadata": {},
     "output_type": "execute_result"
    }
   ],
   "source": [
    "gene_protein_map[gene_protein_map['Cross-reference (RefSeq)']=='G_WP_012634655_1']"
   ]
  },
  {
   "cell_type": "markdown",
   "id": "1a32481c-f014-4bef-9d34-143ffba4416f",
   "metadata": {},
   "source": [
    "[*Ccel_2454 annotation score in UniProt: 1*](https://www.uniprot.org/uniprotkb?query=Ccel_2454)"
   ]
  },
  {
   "cell_type": "code",
   "execution_count": 20,
   "id": "96ec9789-089e-4e74-bdbe-7d74052751cd",
   "metadata": {},
   "outputs": [
    {
     "data": {
      "text/html": [
       "<div>\n",
       "<style scoped>\n",
       "    .dataframe tbody tr th:only-of-type {\n",
       "        vertical-align: middle;\n",
       "    }\n",
       "\n",
       "    .dataframe tbody tr th {\n",
       "        vertical-align: top;\n",
       "    }\n",
       "\n",
       "    .dataframe thead th {\n",
       "        text-align: right;\n",
       "    }\n",
       "</style>\n",
       "<table border=\"1\" class=\"dataframe\">\n",
       "  <thead>\n",
       "    <tr style=\"text-align: right;\">\n",
       "      <th></th>\n",
       "      <th>Entry</th>\n",
       "      <th>Entry name</th>\n",
       "      <th>Protein names</th>\n",
       "      <th>Gene names</th>\n",
       "      <th>Cross-reference (RefSeq)</th>\n",
       "    </tr>\n",
       "  </thead>\n",
       "  <tbody>\n",
       "    <tr>\n",
       "      <th>688</th>\n",
       "      <td>B8I618</td>\n",
       "      <td>B8I618_RUMCH</td>\n",
       "      <td>Glycoside hydrolase family 3 domain protein</td>\n",
       "      <td>Ccel_2454</td>\n",
       "      <td>G_WP_015925872_1</td>\n",
       "    </tr>\n",
       "  </tbody>\n",
       "</table>\n",
       "</div>"
      ],
      "text/plain": [
       "      Entry    Entry name                                Protein names  \\\n",
       "688  B8I618  B8I618_RUMCH  Glycoside hydrolase family 3 domain protein   \n",
       "\n",
       "    Gene names Cross-reference (RefSeq)  \n",
       "688  Ccel_2454         G_WP_015925872_1  "
      ]
     },
     "execution_count": 20,
     "metadata": {},
     "output_type": "execute_result"
    }
   ],
   "source": [
    "gene_protein_map[gene_protein_map['Cross-reference (RefSeq)']=='G_WP_015925872_1']"
   ]
  },
  {
   "cell_type": "markdown",
   "id": "69cb424b-75b0-4fe6-a0c2-6069760a4387",
   "metadata": {},
   "source": [
    "#### <span style=\"color: purple;\">A.1: Conclusion</span>\n",
    "\n",
    "**HEX1 reaction**: The only protein with a definite connection to heksokinase is the gene that they knocked out. The other genes/proteins have a less specific annotation (they belong to a family of proteins that could be either [repressors, uncharacterized open reading frames, or kinases (ROK family)](https://www.ebi.ac.uk/interpro/entry/InterPro/IPR000600/). Due to the ambiguous role of these proteins and the gene knockout experiment, the GPR will be changed to only be associated with Ccel_3221/G_WP_015926569_1.\n",
    "\n",
    "**BGLA and CEPA reaction**: Both in BiGG and in KEGG, the [CEPA](https://www.kegg.jp/entry/R00952) and [BGLA](https://www.kegg.jp/entry/R00306) reactions seem to be reversible. However, given the context, the reversibility of them should be changed to ensure that the model is not able to produce cellobiose from glucose as this does not correspond with the behavior of *R. cellulolyticum*."
   ]
  },
  {
   "cell_type": "markdown",
   "id": "4c05932f-0710-432b-a8aa-a28b0d867e62",
   "metadata": {
    "tags": []
   },
   "source": [
    "#### <span style=\"color: purple;\">A.1: Solution</span>"
   ]
  },
  {
   "cell_type": "markdown",
   "id": "c2ddb98b-5810-4934-91ed-487ab04efae5",
   "metadata": {},
   "source": [
    "**Change GPR for HEX1 to only Ccel_3221/G_WP_015926569_1**"
   ]
  },
  {
   "cell_type": "code",
   "execution_count": 21,
   "id": "aa731066-8fcf-4b42-a0c8-766abefeedf8",
   "metadata": {},
   "outputs": [
    {
     "data": {
      "text/plain": [
       "(G_WP_015924247_1 or G_WP_015925130_1 or G_WP_015925627_1 or G_WP_015926569_1 or G_WP_015926770_1)"
      ]
     },
     "execution_count": 21,
     "metadata": {},
     "output_type": "execute_result"
    }
   ],
   "source": [
    "model.reactions.R_HEX1.gpr"
   ]
  },
  {
   "cell_type": "code",
   "execution_count": 22,
   "id": "9ecbee01-97c4-405d-b095-167e3ea0ce44",
   "metadata": {},
   "outputs": [],
   "source": [
    "prot = reframed.Protein()\n",
    "prot.genes=['G_WP_015926569_1']\n",
    "gpr = reframed.GPRAssociation()\n",
    "gpr.proteins=[prot]\n",
    "model.set_gpr_association('R_HEX1', gpr)"
   ]
  },
  {
   "cell_type": "code",
   "execution_count": 23,
   "id": "354990b2-066a-4082-8aa7-cd2f48b65d20",
   "metadata": {},
   "outputs": [
    {
     "data": {
      "text/plain": [
       "G_WP_015926569_1"
      ]
     },
     "execution_count": 23,
     "metadata": {},
     "output_type": "execute_result"
    }
   ],
   "source": [
    "model.reactions.R_HEX1.gpr"
   ]
  },
  {
   "cell_type": "markdown",
   "id": "32b78133-87f8-4aeb-9b8c-150102c73db9",
   "metadata": {},
   "source": [
    "<span style=\"color: red;\"> **Remember**: Remove all genes that are not used anymore from the model </span>"
   ]
  },
  {
   "cell_type": "code",
   "execution_count": 24,
   "id": "129c33f1-3172-477b-8ce7-3141f93ba41f",
   "metadata": {},
   "outputs": [],
   "source": [
    "model.update()"
   ]
  },
  {
   "cell_type": "code",
   "execution_count": 25,
   "id": "ce08080b-881f-4ac7-8a42-605a8f134e17",
   "metadata": {},
   "outputs": [
    {
     "data": {
      "text/plain": [
       "G_WP_015926569_1"
      ]
     },
     "execution_count": 25,
     "metadata": {},
     "output_type": "execute_result"
    }
   ],
   "source": [
    "model.reactions.R_HEX1.gpr"
   ]
  },
  {
   "cell_type": "markdown",
   "id": "e90c8a8a-216f-469f-a161-06c457b7b0e8",
   "metadata": {},
   "source": [
    "**Change reversibility of CEPA and BGLA**"
   ]
  },
  {
   "cell_type": "code",
   "execution_count": 26,
   "id": "a0333132-33bf-4441-86f1-390f30d04c8d",
   "metadata": {},
   "outputs": [],
   "source": [
    "model.reactions.R_CEPA.reversible=False\n",
    "model.reactions.R_CEPA.lb=0"
   ]
  },
  {
   "cell_type": "code",
   "execution_count": 27,
   "id": "c87a9573-a39c-4f7f-9d32-1d3de65b864d",
   "metadata": {},
   "outputs": [
    {
     "data": {
      "text/plain": [
       "R_CEPA: M_cellb_c + M_pi_c --> M_g1p_c + M_glc__D_c"
      ]
     },
     "execution_count": 27,
     "metadata": {},
     "output_type": "execute_result"
    }
   ],
   "source": [
    "model.reactions.R_CEPA"
   ]
  },
  {
   "cell_type": "code",
   "execution_count": 28,
   "id": "a85785b8-6ca4-4caf-b7f8-e54ec7c87bae",
   "metadata": {},
   "outputs": [],
   "source": [
    "model.reactions.R_BGLA.reversible=False\n",
    "model.reactions.R_BGLA.lb=0"
   ]
  },
  {
   "cell_type": "code",
   "execution_count": 29,
   "id": "491ba92d-89a4-43c9-9a7d-e0bb50f64952",
   "metadata": {},
   "outputs": [
    {
     "data": {
      "text/plain": [
       "R_BGLA: M_cellb_c + M_h2o_c --> 2.0 M_glc__D_c"
      ]
     },
     "execution_count": 29,
     "metadata": {},
     "output_type": "execute_result"
    }
   ],
   "source": [
    "model.reactions.R_BGLA"
   ]
  },
  {
   "cell_type": "code",
   "execution_count": 30,
   "id": "d6e11291-d9e3-46a7-8fa4-830d329d8025",
   "metadata": {},
   "outputs": [],
   "source": [
    "model.update()"
   ]
  },
  {
   "cell_type": "code",
   "execution_count": 31,
   "id": "fed874aa-b459-4042-8333-213e7b5e7853",
   "metadata": {},
   "outputs": [
    {
     "data": {
      "text/plain": [
       "R_CEPA: M_cellb_c + M_pi_c --> M_g1p_c + M_glc__D_c"
      ]
     },
     "execution_count": 31,
     "metadata": {},
     "output_type": "execute_result"
    }
   ],
   "source": [
    "model.reactions.R_CEPA"
   ]
  },
  {
   "cell_type": "code",
   "execution_count": 32,
   "id": "90600632-67ed-42bc-b129-7ad0f432671b",
   "metadata": {},
   "outputs": [
    {
     "data": {
      "text/plain": [
       "R_BGLA: M_cellb_c + M_h2o_c --> 2.0 M_glc__D_c"
      ]
     },
     "execution_count": 32,
     "metadata": {},
     "output_type": "execute_result"
    }
   ],
   "source": [
    "model.reactions.R_BGLA"
   ]
  },
  {
   "cell_type": "markdown",
   "id": "b057706b-b3d5-4e87-8e39-e2826aa16de1",
   "metadata": {
    "tags": []
   },
   "source": [
    "#### <span style=\"color: purple;\">A.1: Test</span>\n"
   ]
  },
  {
   "cell_type": "code",
   "execution_count": 33,
   "id": "e08d86c4-6135-4ab5-92db-44a094bbc266",
   "metadata": {},
   "outputs": [
    {
     "data": {
      "text/html": [
       "<div>\n",
       "<style scoped>\n",
       "    .dataframe tbody tr th:only-of-type {\n",
       "        vertical-align: middle;\n",
       "    }\n",
       "\n",
       "    .dataframe tbody tr th {\n",
       "        vertical-align: top;\n",
       "    }\n",
       "\n",
       "    .dataframe thead th {\n",
       "        text-align: right;\n",
       "    }\n",
       "</style>\n",
       "<table border=\"1\" class=\"dataframe\">\n",
       "  <thead>\n",
       "    <tr style=\"text-align: right;\">\n",
       "      <th></th>\n",
       "      <th>Entry</th>\n",
       "      <th>Entry name</th>\n",
       "      <th>Protein names</th>\n",
       "      <th>Gene names</th>\n",
       "      <th>Cross-reference (RefSeq)</th>\n",
       "    </tr>\n",
       "  </thead>\n",
       "  <tbody>\n",
       "    <tr>\n",
       "      <th>1083</th>\n",
       "      <td>B8I0V5</td>\n",
       "      <td>B8I0V5_RUMCH</td>\n",
       "      <td>Hexokinase</td>\n",
       "      <td>Ccel_3221</td>\n",
       "      <td>G_WP_015926569_1</td>\n",
       "    </tr>\n",
       "  </tbody>\n",
       "</table>\n",
       "</div>"
      ],
      "text/plain": [
       "       Entry    Entry name Protein names Gene names Cross-reference (RefSeq)\n",
       "1083  B8I0V5  B8I0V5_RUMCH    Hexokinase  Ccel_3221         G_WP_015926569_1"
      ]
     },
     "execution_count": 33,
     "metadata": {},
     "output_type": "execute_result"
    }
   ],
   "source": [
    "gene_protein_map[gene_protein_map['Gene names'].str.contains('Ccel_3221')]"
   ]
  },
  {
   "cell_type": "code",
   "execution_count": 34,
   "id": "a0d5c197-3349-4a3f-8ef8-da3e023ac96a",
   "metadata": {},
   "outputs": [],
   "source": [
    "media = pd.read_csv('carveMe input/carveMe_medium.tsv',sep='\\t')"
   ]
  },
  {
   "cell_type": "code",
   "execution_count": 35,
   "id": "01eefc94-25d4-4f5b-be5f-9b00406bfde6",
   "metadata": {},
   "outputs": [],
   "source": [
    "KO_exp= {'H10_minimal_cellobiose':{'media': list(media[media.medium=='H10_minimal_cellobiose']['compound'])}, \n",
    "    'H10_minimal_glucose':{'media':list(media[media.medium=='H10_minimal_glucose']['compound'])}}"
   ]
  },
  {
   "cell_type": "code",
   "execution_count": 36,
   "id": "7c7b8563-7d66-4afb-b0c7-ad7668e7c2ae",
   "metadata": {},
   "outputs": [],
   "source": [
    "for ko_exp in KO_exp.keys():\n",
    "    \n",
    "    env = reframed.Environment.from_compounds(KO_exp[ko_exp]['media'])\n",
    "    \n",
    "    with warnings.catch_warnings(): # The code will create warnings because some of the compounds in the media are not in the model\n",
    "        warnings.simplefilter('ignore')\n",
    "        env.apply(model,exclusive=True,inplace=True)\n",
    "    sol = reframed.cobra.knockout.gene_knockout(model, 'G_WP_015926569_1', method='pFBA')\n",
    "    KO_exp[ko_exp]['sol_KO']=sol"
   ]
  },
  {
   "cell_type": "markdown",
   "id": "f2dcd0e4-3f89-4703-893a-0e7495f1b48d",
   "metadata": {},
   "source": [
    "<span style=\"color: red;\">Model are still able to grow according to pFBA</span>"
   ]
  },
  {
   "cell_type": "code",
   "execution_count": 37,
   "id": "c5d5f065-2cff-4495-b080-aff027b34933",
   "metadata": {},
   "outputs": [
    {
     "data": {
      "text/plain": [
       "{'H10_minimal_cellobiose': 1.0700681362344582,\n",
       " 'H10_minimal_glucose': 0.5599940468522957}"
      ]
     },
     "execution_count": 37,
     "metadata": {},
     "output_type": "execute_result"
    }
   ],
   "source": [
    "{key:KO_exp[key]['sol_KO'].values['Growth'] for key,ko_exp in KO_exp.items()}"
   ]
  },
  {
   "cell_type": "markdown",
   "id": "40505396-194d-4c73-b106-f2fc828c61fc",
   "metadata": {},
   "source": [
    " "
   ]
  },
  {
   "cell_type": "markdown",
   "id": "7e3c6b97-4978-4464-80e8-77a45e0132a9",
   "metadata": {},
   "source": [
    "##### <span style=\"color: purple;\">Knockout of Ccel_3221 - growth on cellobiose - analyzing pathway</span>\n",
    "Below is an illustration of the pathway. In blue the pathway used in this example is shown. The ID of reactions are shown either in green or in red, where the color code indicates whether the reaction should be there or not be there, respectively. "
   ]
  },
  {
   "cell_type": "code",
   "execution_count": 38,
   "id": "4fc854f1-f4d0-4323-8c49-bab04817c25e",
   "metadata": {},
   "outputs": [
    {
     "data": {
      "image/jpeg": "[encoded data removed]",
      "text/plain": [
       "<IPython.core.display.Image object>"
      ]
     },
     "execution_count": 38,
     "metadata": {
      "image/jpeg": {
       "width": 500
      }
     },
     "output_type": "execute_result"
    }
   ],
   "source": [
    "from IPython.display import Image\n",
    "Image(filename='pathway1.jpg', width=500)"
   ]
  },
  {
   "cell_type": "markdown",
   "id": "a2839b85-f0f6-4e42-bf23-9c77aed25a4c",
   "metadata": {},
   "source": [
    "The Ccel_3221 controls the HEX1 reaction which produces glucose-6-phosphate (g6p) from glucose. As we can see below, g6p is not being produced currently. This means that the carbon is taking an alternative pathway. "
   ]
  },
  {
   "cell_type": "code",
   "execution_count": 39,
   "id": "25d55568-7d06-4bb9-9ab8-bf0040da1bc0",
   "metadata": {},
   "outputs": [
    {
     "name": "stdout",
     "output_type": "stream",
     "text": [
      "[ --> o ] R_PGMT        9.78064  \n",
      "[ o <-- ] R_PGI         8.84628  \n",
      "[ o --> ] R_PFK_ppi    -18.6269  \n"
     ]
    }
   ],
   "source": [
    "KO_exp['H10_minimal_cellobiose']['sol_KO'].show_metabolite_balance('M_g6p_c',model)"
   ]
  },
  {
   "cell_type": "markdown",
   "id": "00f5f09a-48df-4bda-855e-3e2d00e54868",
   "metadata": {},
   "source": [
    "**Transport of cellobiose. The only transporter for cellobiose should be the ABC transporter.**"
   ]
  },
  {
   "cell_type": "code",
   "execution_count": 40,
   "id": "6f586cce-0609-48e8-a8f0-b624e9685224",
   "metadata": {},
   "outputs": [
    {
     "name": "stdout",
     "output_type": "stream",
     "text": [
      "[ o <-- ] R_EX_cellb_e  10       \n",
      "[ o --> ] R_CELBt2     -10       \n"
     ]
    }
   ],
   "source": [
    "KO_exp['H10_minimal_cellobiose']['sol_KO'].show_metabolite_balance('M_cellb_e',model)"
   ]
  },
  {
   "cell_type": "code",
   "execution_count": 41,
   "id": "d1e5b1cc-f807-45b1-aa52-86a8d44355b1",
   "metadata": {},
   "outputs": [
    {
     "data": {
      "text/plain": [
       "R_CELBt2: M_cellb_e + M_h_e --> M_cellb_c + M_h_c"
      ]
     },
     "execution_count": 41,
     "metadata": {},
     "output_type": "execute_result"
    }
   ],
   "source": [
    "model.reactions.R_CELBt2"
   ]
  },
  {
   "cell_type": "markdown",
   "id": "50e16aa6-95bb-4c22-ae56-397bcd386e15",
   "metadata": {},
   "source": [
    "**The cellobiose is being processed by CEPA (an enzyme that likely exists as it is a part of cellulose digestion)**"
   ]
  },
  {
   "cell_type": "code",
   "execution_count": 42,
   "id": "a485bbbf-9dd4-40fc-9f40-8f9e0e69831e",
   "metadata": {},
   "outputs": [
    {
     "name": "stdout",
     "output_type": "stream",
     "text": [
      "[ --> o ] R_CELBt2      10       \n",
      "[ o --> ] R_CEPA       -10       \n"
     ]
    }
   ],
   "source": [
    "KO_exp['H10_minimal_cellobiose']['sol_KO'].show_metabolite_balance('M_cellb_c',model)"
   ]
  },
  {
   "cell_type": "code",
   "execution_count": 43,
   "id": "65b830c9-9338-4c8f-8393-a4b0cb36c60e",
   "metadata": {},
   "outputs": [
    {
     "data": {
      "text/plain": [
       "R_CEPA: M_cellb_c + M_pi_c --> M_g1p_c + M_glc__D_c"
      ]
     },
     "execution_count": 43,
     "metadata": {},
     "output_type": "execute_result"
    }
   ],
   "source": [
    "model.reactions.R_CEPA"
   ]
  },
  {
   "cell_type": "markdown",
   "id": "4e9dd00a-3083-4680-8817-50e588284a40",
   "metadata": {},
   "source": [
    "**The glucose is being transformed to fructose by [xylose isomerase (R_XYLI2)](https://www.genome.jp/entry/R00878). Might have a different specificity in R. cellulolyticum.**"
   ]
  },
  {
   "cell_type": "code",
   "execution_count": 44,
   "id": "1f860787-3c81-45c7-8918-4766a4889f54",
   "metadata": {},
   "outputs": [
    {
     "name": "stdout",
     "output_type": "stream",
     "text": [
      "[ --> o ] R_CEPA        10       \n",
      "[ o --> ] R_XYLI2      -10       \n"
     ]
    }
   ],
   "source": [
    "KO_exp['H10_minimal_cellobiose']['sol_KO'].show_metabolite_balance('M_glc__D_c',model)"
   ]
  },
  {
   "cell_type": "code",
   "execution_count": 45,
   "id": "717b18d9-d66d-4ff0-acb6-a6cfe7897a6d",
   "metadata": {},
   "outputs": [
    {
     "data": {
      "text/plain": [
       "R_XYLI2: M_glc__D_c <-> M_fru_c"
      ]
     },
     "execution_count": 45,
     "metadata": {},
     "output_type": "execute_result"
    }
   ],
   "source": [
    "model.reactions.R_XYLI2"
   ]
  },
  {
   "cell_type": "code",
   "execution_count": 46,
   "id": "c16a0cbe-a612-4f73-b8e3-165dcb0fb284",
   "metadata": {},
   "outputs": [
    {
     "data": {
      "text/plain": [
       "G_WP_015926769_1"
      ]
     },
     "execution_count": 46,
     "metadata": {},
     "output_type": "execute_result"
    }
   ],
   "source": [
    "model.reactions.R_XYLI2.gpr"
   ]
  },
  {
   "cell_type": "markdown",
   "id": "94aba716-9a56-47dd-8945-e3eba498cad4",
   "metadata": {},
   "source": [
    "[Ccel_3429 annotation score in UniProt: 2](https://www.uniprot.org/uniprotkb?query=Ccel_3429) But likely is specific to xylose. "
   ]
  },
  {
   "cell_type": "code",
   "execution_count": 47,
   "id": "c9951ee2-0d49-44fb-9fa2-aa5eab0c92cc",
   "metadata": {},
   "outputs": [
    {
     "data": {
      "text/html": [
       "<div>\n",
       "<style scoped>\n",
       "    .dataframe tbody tr th:only-of-type {\n",
       "        vertical-align: middle;\n",
       "    }\n",
       "\n",
       "    .dataframe tbody tr th {\n",
       "        vertical-align: top;\n",
       "    }\n",
       "\n",
       "    .dataframe thead th {\n",
       "        text-align: right;\n",
       "    }\n",
       "</style>\n",
       "<table border=\"1\" class=\"dataframe\">\n",
       "  <thead>\n",
       "    <tr style=\"text-align: right;\">\n",
       "      <th></th>\n",
       "      <th>Entry</th>\n",
       "      <th>Entry name</th>\n",
       "      <th>Protein names</th>\n",
       "      <th>Gene names</th>\n",
       "      <th>Cross-reference (RefSeq)</th>\n",
       "    </tr>\n",
       "  </thead>\n",
       "  <tbody>\n",
       "    <tr>\n",
       "      <th>2798</th>\n",
       "      <td>B8I1T2</td>\n",
       "      <td>B8I1T2_RUMCH</td>\n",
       "      <td>Xylose isomerase (EC 5.3.1.5)</td>\n",
       "      <td>xylA Ccel_3429</td>\n",
       "      <td>G_WP_015926769_1</td>\n",
       "    </tr>\n",
       "  </tbody>\n",
       "</table>\n",
       "</div>"
      ],
      "text/plain": [
       "       Entry    Entry name                  Protein names      Gene names  \\\n",
       "2798  B8I1T2  B8I1T2_RUMCH  Xylose isomerase (EC 5.3.1.5)  xylA Ccel_3429   \n",
       "\n",
       "     Cross-reference (RefSeq)  \n",
       "2798         G_WP_015926769_1  "
      ]
     },
     "execution_count": 47,
     "metadata": {},
     "output_type": "execute_result"
    }
   ],
   "source": [
    "gene_protein_map[gene_protein_map['Cross-reference (RefSeq)']=='G_WP_015926769_1']"
   ]
  },
  {
   "cell_type": "markdown",
   "id": "87baf630-37ff-4f50-9f57-2f2e3f50767f",
   "metadata": {},
   "source": [
    " "
   ]
  },
  {
   "cell_type": "markdown",
   "id": "d0b30d8d-6b12-4712-a3ca-782ccb7a9b77",
   "metadata": {
    "tags": []
   },
   "source": [
    "##### <span style=\"color: purple;\">Knockout of Ccel_3221 and XYLI2- growth on cellobiose - analyzing pathway</span>\n",
    "Below is an illustration of the pathway. In blue the pathway used in this example is shown. The ID of reactions are shown either in green or in red, where the color code indicates whether the reaction should be there or not be there, respectively. "
   ]
  },
  {
   "cell_type": "code",
   "execution_count": 48,
   "id": "6ee404fd-0053-4577-b2fe-08ef03d26a79",
   "metadata": {},
   "outputs": [
    {
     "data": {
      "image/jpeg": "[encoded data removed]",
      "text/plain": [
       "<IPython.core.display.Image object>"
      ]
     },
     "execution_count": 48,
     "metadata": {
      "image/jpeg": {
       "width": 500
      }
     },
     "output_type": "execute_result"
    }
   ],
   "source": [
    "Image(filename='pathway2.jpg', width=500)"
   ]
  },
  {
   "cell_type": "code",
   "execution_count": 49,
   "id": "e8411327-856d-4f1c-8b8f-c05ba9b9e486",
   "metadata": {},
   "outputs": [],
   "source": [
    "KO_exp= {'H10_minimal_cellobiose':{'media': list(media[media.medium=='H10_minimal_cellobiose']['compound'])}, \n",
    "    'H10_minimal_glucose':{'media':list(media[media.medium=='H10_minimal_glucose']['compound'])}}"
   ]
  },
  {
   "cell_type": "markdown",
   "id": "4232eee1-06a0-475d-b7e9-85db70e973a5",
   "metadata": {},
   "source": [
    "<span style=\"color: red;\">**Blocking any of these reactions does not change the results - too many alternative pathways** </span>"
   ]
  },
  {
   "cell_type": "code",
   "execution_count": 50,
   "id": "0b06b229-4fe1-4e24-b1df-c4cf63e3fb5f",
   "metadata": {},
   "outputs": [],
   "source": [
    "for ko_exp in KO_exp.keys():\n",
    "    \n",
    "    env = reframed.Environment.from_compounds(KO_exp[ko_exp]['media'])\n",
    "    \n",
    "    with warnings.catch_warnings(): # The code will create warnings because some of the compounds in the media are not in the model\n",
    "        warnings.simplefilter('ignore')\n",
    "        env.apply(model,exclusive=True,inplace=True)\n",
    "    sol = reframed.cobra.knockout.gene_knockout(model, 'G_WP_015926569_1', constraints= {'R_XYLI2':0},method='pFBA')\n",
    "    KO_exp[ko_exp]['sol_KO']=sol"
   ]
  },
  {
   "cell_type": "code",
   "execution_count": 51,
   "id": "c697cfbe-5d0d-4359-8606-93cfc22a363a",
   "metadata": {},
   "outputs": [
    {
     "data": {
      "text/plain": [
       "{'H10_minimal_cellobiose': 1.0700681362344566,\n",
       " 'H10_minimal_glucose': 0.5599940468522884}"
      ]
     },
     "execution_count": 51,
     "metadata": {},
     "output_type": "execute_result"
    }
   ],
   "source": [
    "{key:KO_exp[key]['sol_KO'].values['Growth'] for key,ko_exp in KO_exp.items()}"
   ]
  },
  {
   "cell_type": "code",
   "execution_count": 52,
   "id": "e69fc13b-d6bb-403c-bf2f-a5e20058ad43",
   "metadata": {},
   "outputs": [
    {
     "name": "stdout",
     "output_type": "stream",
     "text": [
      "[ o <-- ] R_EX_cellb_e  10       \n",
      "[ o --> ] R_CELBt2     -10       \n"
     ]
    }
   ],
   "source": [
    "KO_exp['H10_minimal_cellobiose']['sol_KO'].show_metabolite_balance('M_cellb_e',model)"
   ]
  },
  {
   "cell_type": "markdown",
   "id": "aa3f834d-69d2-4117-9a4d-b8bdeef9edb0",
   "metadata": {},
   "source": [
    "**D-Glucose is converted to beta-D-Glucose by Aldose 1-epimerase (glucose) (GALM1)**"
   ]
  },
  {
   "cell_type": "code",
   "execution_count": 53,
   "id": "51d242e7-ffd9-4d49-9622-41d9f827acba",
   "metadata": {},
   "outputs": [
    {
     "name": "stdout",
     "output_type": "stream",
     "text": [
      "[ --> o ] R_CEPA        10       \n",
      "[ <-- o ] R_GALM1      -10       \n"
     ]
    }
   ],
   "source": [
    "KO_exp['H10_minimal_cellobiose']['sol_KO'].show_metabolite_balance('M_glc__D_c',model)"
   ]
  },
  {
   "cell_type": "code",
   "execution_count": 54,
   "id": "ef2768f6-bcfd-499d-b067-5aadab87ab16",
   "metadata": {},
   "outputs": [
    {
     "data": {
      "text/plain": [
       "R_GALM1: M_glc__bD_c <-> M_glc__D_c"
      ]
     },
     "execution_count": 54,
     "metadata": {},
     "output_type": "execute_result"
    }
   ],
   "source": [
    "model.reactions.R_GALM1"
   ]
  },
  {
   "cell_type": "code",
   "execution_count": 55,
   "id": "9e656b89-61e9-469b-a5ee-1cb153846d58",
   "metadata": {},
   "outputs": [
    {
     "data": {
      "text/plain": [
       "G_WP_015924930_1"
      ]
     },
     "execution_count": 55,
     "metadata": {},
     "output_type": "execute_result"
    }
   ],
   "source": [
    "model.reactions.R_GALM1.gpr"
   ]
  },
  {
   "cell_type": "markdown",
   "id": "b8a12606-be7c-42ac-b16d-da5a99225c7b",
   "metadata": {},
   "source": [
    "[Ccel_1431 annotation score: 2](https://www.uniprot.org/uniprotkb?query=Ccel_1431). No reason to remove this reaction."
   ]
  },
  {
   "cell_type": "code",
   "execution_count": 56,
   "id": "f6abccfe-0785-42d7-8a28-626c3bb5d256",
   "metadata": {},
   "outputs": [
    {
     "data": {
      "text/html": [
       "<div>\n",
       "<style scoped>\n",
       "    .dataframe tbody tr th:only-of-type {\n",
       "        vertical-align: middle;\n",
       "    }\n",
       "\n",
       "    .dataframe tbody tr th {\n",
       "        vertical-align: top;\n",
       "    }\n",
       "\n",
       "    .dataframe thead th {\n",
       "        text-align: right;\n",
       "    }\n",
       "</style>\n",
       "<table border=\"1\" class=\"dataframe\">\n",
       "  <thead>\n",
       "    <tr style=\"text-align: right;\">\n",
       "      <th></th>\n",
       "      <th>Entry</th>\n",
       "      <th>Entry name</th>\n",
       "      <th>Protein names</th>\n",
       "      <th>Gene names</th>\n",
       "      <th>Cross-reference (RefSeq)</th>\n",
       "    </tr>\n",
       "  </thead>\n",
       "  <tbody>\n",
       "    <tr>\n",
       "      <th>2140</th>\n",
       "      <td>B8I1I7</td>\n",
       "      <td>B8I1I7_RUMCH</td>\n",
       "      <td>Aldose 1-epimerase (EC 5.1.3.3)</td>\n",
       "      <td>Ccel_1431</td>\n",
       "      <td>G_WP_015924930_1</td>\n",
       "    </tr>\n",
       "  </tbody>\n",
       "</table>\n",
       "</div>"
      ],
      "text/plain": [
       "       Entry    Entry name                    Protein names Gene names  \\\n",
       "2140  B8I1I7  B8I1I7_RUMCH  Aldose 1-epimerase (EC 5.1.3.3)  Ccel_1431   \n",
       "\n",
       "     Cross-reference (RefSeq)  \n",
       "2140         G_WP_015924930_1  "
      ]
     },
     "execution_count": 56,
     "metadata": {},
     "output_type": "execute_result"
    }
   ],
   "source": [
    "gene_protein_map[gene_protein_map['Cross-reference (RefSeq)']=='G_WP_015924930_1']"
   ]
  },
  {
   "cell_type": "markdown",
   "id": "51fec7f3-1892-4fc5-8fbd-932a429b1f86",
   "metadata": {},
   "source": [
    "**beta-D-glucose is converted to alpha-D-glucose by Aldose 1-epimerase (GalMr) - same enzyme as previous**"
   ]
  },
  {
   "cell_type": "code",
   "execution_count": 57,
   "id": "3873a910-1653-4513-b7fc-bad08bacc599",
   "metadata": {},
   "outputs": [
    {
     "name": "stdout",
     "output_type": "stream",
     "text": [
      "[ o <-- ] R_GALM1       10       \n",
      "[ <-- o ] R_GalMr      -10       \n"
     ]
    }
   ],
   "source": [
    "KO_exp['H10_minimal_cellobiose']['sol_KO'].show_metabolite_balance('M_glc__bD_c',model)"
   ]
  },
  {
   "cell_type": "code",
   "execution_count": 58,
   "id": "ed88e3a7-569a-4fdd-a035-d0cae45a0d9a",
   "metadata": {},
   "outputs": [
    {
     "data": {
      "text/plain": [
       "R_GalMr: M_glc__aD_c <-> M_glc__bD_c"
      ]
     },
     "execution_count": 58,
     "metadata": {},
     "output_type": "execute_result"
    }
   ],
   "source": [
    "model.reactions.R_GalMr"
   ]
  },
  {
   "cell_type": "code",
   "execution_count": 59,
   "id": "7fa5572a-8b4e-4893-bb35-6a51f7b6b4da",
   "metadata": {},
   "outputs": [
    {
     "data": {
      "text/plain": [
       "G_WP_015924930_1"
      ]
     },
     "execution_count": 59,
     "metadata": {},
     "output_type": "execute_result"
    }
   ],
   "source": [
    "model.reactions.R_GalMr.gpr"
   ]
  },
  {
   "cell_type": "markdown",
   "id": "be9c16e2-6213-4b44-b94c-9283002f3d78",
   "metadata": {},
   "source": [
    "**alpha-D-glucose is converted to alpha-g6p by Glucokinase/hexokinase (glc-A) (GLUCA_1)**"
   ]
  },
  {
   "cell_type": "code",
   "execution_count": 60,
   "id": "99296cfe-9d2c-4b7b-885d-6819a7fa749e",
   "metadata": {},
   "outputs": [
    {
     "name": "stdout",
     "output_type": "stream",
     "text": [
      "[ o <-- ] R_GalMr       10       \n",
      "[ o --> ] R_GLUKA_1    -10       \n"
     ]
    }
   ],
   "source": [
    "KO_exp['H10_minimal_cellobiose']['sol_KO'].show_metabolite_balance('M_glc__aD_c',model)"
   ]
  },
  {
   "cell_type": "code",
   "execution_count": 61,
   "id": "588e48aa-e60d-44b9-bed2-69d078055834",
   "metadata": {},
   "outputs": [
    {
     "data": {
      "text/plain": [
       "'Glucokinase/hexokinase (glc-A)'"
      ]
     },
     "execution_count": 61,
     "metadata": {},
     "output_type": "execute_result"
    }
   ],
   "source": [
    "model.reactions.R_GLUKA_1.name"
   ]
  },
  {
   "cell_type": "code",
   "execution_count": 62,
   "id": "600ad858-c80d-4881-881b-62e7c050eb13",
   "metadata": {},
   "outputs": [
    {
     "data": {
      "text/plain": [
       "R_GLUKA_1: M_atp_c + M_glc__aD_c --> M_adp_c + M_g6p_A_c + M_h_c"
      ]
     },
     "execution_count": 62,
     "metadata": {},
     "output_type": "execute_result"
    }
   ],
   "source": [
    "model.reactions.R_GLUKA_1"
   ]
  },
  {
   "cell_type": "code",
   "execution_count": 63,
   "id": "d5239369-4937-4565-89bf-689216e6470f",
   "metadata": {},
   "outputs": [
    {
     "data": {
      "text/plain": [
       "G_WP_015924247_1"
      ]
     },
     "execution_count": 63,
     "metadata": {},
     "output_type": "execute_result"
    }
   ],
   "source": [
    "model.reactions.R_GLUKA_1.gpr"
   ]
  },
  {
   "cell_type": "markdown",
   "id": "fa323b16-ef43-4c89-bd1b-a814692c567a",
   "metadata": {},
   "source": [
    "Poor evidence for this enzyme as ROK protein only a family name and not related to a specific function. "
   ]
  },
  {
   "cell_type": "code",
   "execution_count": 64,
   "id": "24d457ef-e581-46db-a052-8d1bb0da3480",
   "metadata": {},
   "outputs": [
    {
     "data": {
      "text/html": [
       "<div>\n",
       "<style scoped>\n",
       "    .dataframe tbody tr th:only-of-type {\n",
       "        vertical-align: middle;\n",
       "    }\n",
       "\n",
       "    .dataframe tbody tr th {\n",
       "        vertical-align: top;\n",
       "    }\n",
       "\n",
       "    .dataframe thead th {\n",
       "        text-align: right;\n",
       "    }\n",
       "</style>\n",
       "<table border=\"1\" class=\"dataframe\">\n",
       "  <thead>\n",
       "    <tr style=\"text-align: right;\">\n",
       "      <th></th>\n",
       "      <th>Entry</th>\n",
       "      <th>Entry name</th>\n",
       "      <th>Protein names</th>\n",
       "      <th>Gene names</th>\n",
       "      <th>Cross-reference (RefSeq)</th>\n",
       "    </tr>\n",
       "  </thead>\n",
       "  <tbody>\n",
       "    <tr>\n",
       "      <th>1438</th>\n",
       "      <td>B8I7S2</td>\n",
       "      <td>B8I7S2_RUMCH</td>\n",
       "      <td>ROK family protein</td>\n",
       "      <td>Ccel_0700</td>\n",
       "      <td>G_WP_015924247_1</td>\n",
       "    </tr>\n",
       "  </tbody>\n",
       "</table>\n",
       "</div>"
      ],
      "text/plain": [
       "       Entry    Entry name       Protein names Gene names  \\\n",
       "1438  B8I7S2  B8I7S2_RUMCH  ROK family protein  Ccel_0700   \n",
       "\n",
       "     Cross-reference (RefSeq)  \n",
       "1438         G_WP_015924247_1  "
      ]
     },
     "execution_count": 64,
     "metadata": {},
     "output_type": "execute_result"
    }
   ],
   "source": [
    "gene_protein_map[gene_protein_map['Cross-reference (RefSeq)']=='G_WP_015924247_1']"
   ]
  },
  {
   "cell_type": "markdown",
   "id": "d41c3e4f-0802-4ba7-9a88-78b7dd1d53cf",
   "metadata": {},
   "source": [
    " "
   ]
  },
  {
   "cell_type": "markdown",
   "id": "0ee3f3b0-49bc-40d8-84af-5cb9e066de58",
   "metadata": {
    "tags": []
   },
   "source": [
    "##### <span style=\"color: purple;\">Knockout of Ccel_3221, XYLI2 and GLUKA_1- growth on cellobiose - analyzing pathway</span>\n",
    "Below is an illustration of the pathway. In blue the pathway used in this example is shown. The ID of reactions are shown either in green or in red, where the color code indicates whether the reaction should be there or not be there, respectively. "
   ]
  },
  {
   "cell_type": "code",
   "execution_count": 65,
   "id": "969e1601-5cd0-442c-beb2-089075007436",
   "metadata": {},
   "outputs": [
    {
     "data": {
      "image/jpeg": "[encoded data removed]",
      "text/plain": [
       "<IPython.core.display.Image object>"
      ]
     },
     "execution_count": 65,
     "metadata": {
      "image/jpeg": {
       "width": 500
      }
     },
     "output_type": "execute_result"
    }
   ],
   "source": [
    "Image(filename='pathway3.jpg', width=500)"
   ]
  },
  {
   "cell_type": "code",
   "execution_count": 66,
   "id": "6e2c031b-c120-4b62-a295-7c6cf53f033e",
   "metadata": {},
   "outputs": [],
   "source": [
    "KO_exp= {'H10_minimal_cellobiose':{'media': list(media[media.medium=='H10_minimal_cellobiose']['compound'])}, \n",
    "    'H10_minimal_glucose':{'media':list(media[media.medium=='H10_minimal_glucose']['compound'])}}"
   ]
  },
  {
   "cell_type": "markdown",
   "id": "056fcf60-b69d-4108-96b0-e61907ee36cc",
   "metadata": {},
   "source": [
    "<span style=\"color: red;\">**Blocking any of these reactions does not change the results - too many alternative pathways** </span>"
   ]
  },
  {
   "cell_type": "code",
   "execution_count": 67,
   "id": "c9949753-e4b1-42a3-90a3-f9fdbe56339d",
   "metadata": {},
   "outputs": [],
   "source": [
    "for ko_exp in KO_exp.keys():\n",
    "    \n",
    "    env = reframed.Environment.from_compounds(KO_exp[ko_exp]['media'])\n",
    "    \n",
    "    with warnings.catch_warnings(): # The code will create warnings because some of the compounds in the media are not in the model\n",
    "        warnings.simplefilter('ignore')\n",
    "        env.apply(model,exclusive=True,inplace=True)\n",
    "    sol = reframed.cobra.knockout.gene_knockout(model, 'G_WP_015926569_1', constraints= {'R_XYLI2':0,'R_GLUKA_1':0},method='pFBA')\n",
    "    KO_exp[ko_exp]['sol_KO']=sol"
   ]
  },
  {
   "cell_type": "code",
   "execution_count": 68,
   "id": "4b2793d7-486c-4fc1-9f46-9c4bd8c3a064",
   "metadata": {},
   "outputs": [
    {
     "data": {
      "text/plain": [
       "{'H10_minimal_cellobiose': 0.9776881532501885,\n",
       " 'H10_minimal_glucose': 0.5599940468522913}"
      ]
     },
     "execution_count": 68,
     "metadata": {},
     "output_type": "execute_result"
    }
   ],
   "source": [
    "{key:KO_exp[key]['sol_KO'].values['Growth'] for key,ko_exp in KO_exp.items()}\n"
   ]
  },
  {
   "cell_type": "code",
   "execution_count": 69,
   "id": "ba721a67-8d9a-49a8-9c5a-83c9cf9d5a2d",
   "metadata": {},
   "outputs": [
    {
     "name": "stdout",
     "output_type": "stream",
     "text": [
      "[ o <-- ] R_EX_cellb_e  10       \n",
      "[ o --> ] R_BG_CELLB   -10       \n"
     ]
    }
   ],
   "source": [
    "KO_exp['H10_minimal_cellobiose']['sol_KO'].show_metabolite_balance('M_cellb_e',model)"
   ]
  },
  {
   "cell_type": "code",
   "execution_count": 70,
   "id": "86c55ed5-b0f1-4819-83ed-446c86b21f1a",
   "metadata": {},
   "outputs": [
    {
     "data": {
      "text/plain": [
       "R_BG_CELLB: M_cellb_e + M_h2o_e --> 2.0 M_glc__D_e"
      ]
     },
     "execution_count": 70,
     "metadata": {},
     "output_type": "execute_result"
    }
   ],
   "source": [
    "model.reactions.R_BG_CELLB"
   ]
  },
  {
   "cell_type": "code",
   "execution_count": 71,
   "id": "6d1e0d7b-95ab-428a-ad45-01d7fb5b1780",
   "metadata": {},
   "outputs": [
    {
     "data": {
      "text/plain": [
       "G_WP_012634822_1"
      ]
     },
     "execution_count": 71,
     "metadata": {},
     "output_type": "execute_result"
    }
   ],
   "source": [
    "model.reactions.R_BG_CELLB.gpr"
   ]
  },
  {
   "cell_type": "markdown",
   "id": "5c2cca5e-bce4-4106-a497-369a296a6a1c",
   "metadata": {},
   "source": [
    "There are no PTS transporters in R. cellulolyticum."
   ]
  },
  {
   "cell_type": "code",
   "execution_count": 72,
   "id": "31ac23a0-3e25-4e5b-b74a-4c86ccadf65f",
   "metadata": {},
   "outputs": [
    {
     "name": "stdout",
     "output_type": "stream",
     "text": [
      "[ --> o ] R_BG_CELLB    20       \n",
      "[ o --> ] R_GLCpts     -20       \n"
     ]
    }
   ],
   "source": [
    "KO_exp['H10_minimal_cellobiose']['sol_KO'].show_metabolite_balance('M_glc__D_e',model)"
   ]
  },
  {
   "cell_type": "code",
   "execution_count": 73,
   "id": "77a88b5e-1fd9-41e1-baaf-9352d6213417",
   "metadata": {},
   "outputs": [
    {
     "data": {
      "text/plain": [
       "R_GLCpts: M_glc__D_e + M_pep_c --> M_g6p_c + M_pyr_c"
      ]
     },
     "execution_count": 73,
     "metadata": {},
     "output_type": "execute_result"
    }
   ],
   "source": [
    "model.reactions.R_GLCpts"
   ]
  },
  {
   "cell_type": "code",
   "execution_count": 74,
   "id": "634c76aa-a8aa-49ce-bdc3-b0adc771751a",
   "metadata": {},
   "outputs": [
    {
     "data": {
      "text/plain": [
       "G_WP_015924346_1"
      ]
     },
     "execution_count": 74,
     "metadata": {},
     "output_type": "execute_result"
    }
   ],
   "source": [
    "model.reactions.R_GLCpts.gpr"
   ]
  },
  {
   "cell_type": "code",
   "execution_count": 75,
   "id": "7ba11d22-d715-475f-b514-106801ca81b2",
   "metadata": {},
   "outputs": [
    {
     "data": {
      "text/html": [
       "<div>\n",
       "<style scoped>\n",
       "    .dataframe tbody tr th:only-of-type {\n",
       "        vertical-align: middle;\n",
       "    }\n",
       "\n",
       "    .dataframe tbody tr th {\n",
       "        vertical-align: top;\n",
       "    }\n",
       "\n",
       "    .dataframe thead th {\n",
       "        text-align: right;\n",
       "    }\n",
       "</style>\n",
       "<table border=\"1\" class=\"dataframe\">\n",
       "  <thead>\n",
       "    <tr style=\"text-align: right;\">\n",
       "      <th></th>\n",
       "      <th>Entry</th>\n",
       "      <th>Entry name</th>\n",
       "      <th>Protein names</th>\n",
       "      <th>Gene names</th>\n",
       "      <th>Cross-reference (RefSeq)</th>\n",
       "    </tr>\n",
       "  </thead>\n",
       "  <tbody>\n",
       "    <tr>\n",
       "      <th>2263</th>\n",
       "      <td>B8I8F1</td>\n",
       "      <td>B8I8F1_RUMCH</td>\n",
       "      <td>Phosphocarrier, HPr family</td>\n",
       "      <td>Ccel_0806</td>\n",
       "      <td>G_WP_015924346_1</td>\n",
       "    </tr>\n",
       "  </tbody>\n",
       "</table>\n",
       "</div>"
      ],
      "text/plain": [
       "       Entry    Entry name               Protein names Gene names  \\\n",
       "2263  B8I8F1  B8I8F1_RUMCH  Phosphocarrier, HPr family  Ccel_0806   \n",
       "\n",
       "     Cross-reference (RefSeq)  \n",
       "2263         G_WP_015924346_1  "
      ]
     },
     "execution_count": 75,
     "metadata": {},
     "output_type": "execute_result"
    }
   ],
   "source": [
    "gene_protein_map[gene_protein_map['Cross-reference (RefSeq)']=='G_WP_015924346_1']"
   ]
  },
  {
   "cell_type": "markdown",
   "id": "8d724fb0-7336-453c-bbfa-97cbc508afa5",
   "metadata": {},
   "source": [
    "##### <span style=\"color: purple;\">Knockout of Ccel_3221, XYLI2, GLUKA_1 and GLCpts - growth on cellobiose - analyzing pathway</span>"
   ]
  },
  {
   "cell_type": "code",
   "execution_count": 76,
   "id": "97b35207-9d3f-4af4-8a11-875a94077ba9",
   "metadata": {},
   "outputs": [],
   "source": [
    "KO_exp= {'H10_minimal_cellobiose':{'media': list(media[media.medium=='H10_minimal_cellobiose']['compound'])}, \n",
    "    'H10_minimal_glucose':{'media':list(media[media.medium=='H10_minimal_glucose']['compound'])}}"
   ]
  },
  {
   "cell_type": "markdown",
   "id": "1c47e137-8348-4e11-996a-38d3ecbce69c",
   "metadata": {},
   "source": [
    "<span style=\"color: green;\">**Blocking this reaction finally changes the results** </span>"
   ]
  },
  {
   "cell_type": "code",
   "execution_count": 77,
   "id": "749a0147-6218-4f41-a717-5d313392599d",
   "metadata": {},
   "outputs": [],
   "source": [
    "for ko_exp in KO_exp.keys():\n",
    "    \n",
    "    env = reframed.Environment.from_compounds(KO_exp[ko_exp]['media'])\n",
    "    \n",
    "    with warnings.catch_warnings(): # The code will create warnings because some of the compounds in the media are not in the model\n",
    "        warnings.simplefilter('ignore')\n",
    "        env.apply(model,exclusive=True,inplace=True)\n",
    "    sol = reframed.cobra.knockout.gene_knockout(model, 'G_WP_015926569_1', constraints= {'R_XYLI2':0,'R_GLUKA_1':0,'R_GLCpts':0},method='pFBA')\n",
    "    KO_exp[ko_exp]['sol_KO']=sol"
   ]
  },
  {
   "cell_type": "code",
   "execution_count": 78,
   "id": "66aab7f9-942a-47ab-95f9-cfb7fd28d11d",
   "metadata": {},
   "outputs": [
    {
     "data": {
      "text/plain": [
       "{'H10_minimal_cellobiose': 0.038413367421632996,\n",
       " 'H10_minimal_glucose': 0.038413367421632996}"
      ]
     },
     "execution_count": 78,
     "metadata": {},
     "output_type": "execute_result"
    }
   ],
   "source": [
    "{key:KO_exp[key]['sol_KO'].values['Growth'] for key,ko_exp in KO_exp.items()}\n"
   ]
  },
  {
   "cell_type": "markdown",
   "id": "12999f3b-8b32-4e34-92d8-cfafe68119e7",
   "metadata": {
    "tags": []
   },
   "source": [
    "### <span style=\"color: purple;\">A.2 Additional curation: false positives on glucose and cellobiose - Hexokinase (Ccel_3221/G_WP_015926569_1) mutant</span>"
   ]
  },
  {
   "cell_type": "markdown",
   "id": "e9e9b162-e437-441b-b2bd-1b76596fda8f",
   "metadata": {},
   "source": [
    "Based on the past analysis we should remove these reactions:\n",
    "\n",
    "- R_XYLI2 - a promiscious enzyme which likely has different substrate affinity.\n",
    "- R_GLUKA_1 - a hexokinase related to a protein with an undefined function.\n",
    "- R_GLCpts - no PTS transporters exist in R. cellulolyticum."
   ]
  },
  {
   "cell_type": "markdown",
   "id": "625015d8-f6db-41ed-b6de-b11d4d648d67",
   "metadata": {
    "tags": []
   },
   "source": [
    "#### <span style=\"color: purple;\">A.2 analysis"
   ]
  },
  {
   "cell_type": "markdown",
   "id": "0b4697f7-1b2f-425f-ad3e-f5e0672152f7",
   "metadata": {},
   "source": [
    "**R_XYLI2**"
   ]
  },
  {
   "cell_type": "code",
   "execution_count": 79,
   "id": "d1906376-5602-4437-ad67-32ee3214e4af",
   "metadata": {},
   "outputs": [
    {
     "data": {
      "text/plain": [
       "G_WP_015926769_1"
      ]
     },
     "execution_count": 79,
     "metadata": {},
     "output_type": "execute_result"
    }
   ],
   "source": [
    "model.reactions.R_XYLI2.gpr"
   ]
  },
  {
   "cell_type": "code",
   "execution_count": 80,
   "id": "24b3ea0e-601e-402b-9f42-6dc808ca5552",
   "metadata": {},
   "outputs": [
    {
     "name": "stdout",
     "output_type": "stream",
     "text": [
      "R_XYLI1: M_xyl__D_c <-> M_xylu__D_c\n",
      "R_XYLI2: M_glc__D_c <-> M_fru_c\n"
     ]
    }
   ],
   "source": [
    "for rxn in model.get_reactions_by_gene('G_WP_015926769_1'):\n",
    "    print(model.reactions[rxn])"
   ]
  },
  {
   "cell_type": "markdown",
   "id": "23a04e03-1a76-4058-88cc-5d79980a2c8e",
   "metadata": {},
   "source": [
    "**R_GLUKA_1**"
   ]
  },
  {
   "cell_type": "code",
   "execution_count": 81,
   "id": "3d615022-74de-41ca-8410-50f653f4a795",
   "metadata": {},
   "outputs": [
    {
     "data": {
      "text/plain": [
       "G_WP_015924247_1"
      ]
     },
     "execution_count": 81,
     "metadata": {},
     "output_type": "execute_result"
    }
   ],
   "source": [
    "model.reactions.R_GLUKA_1.gpr"
   ]
  },
  {
   "cell_type": "code",
   "execution_count": 82,
   "id": "2d2e2844-680a-4c5d-9a08-9298f339c93c",
   "metadata": {},
   "outputs": [
    {
     "name": "stdout",
     "output_type": "stream",
     "text": [
      "R_GLUKA_1: M_atp_c + M_glc__aD_c --> M_adp_c + M_g6p_A_c + M_h_c\n"
     ]
    }
   ],
   "source": [
    "\n",
    "for rxn in model.get_reactions_by_gene('G_WP_015924247_1'):\n",
    "    print(model.reactions[rxn])"
   ]
  },
  {
   "cell_type": "markdown",
   "id": "22a627e1-94ff-4e4f-8c9b-e33f785991e0",
   "metadata": {},
   "source": [
    "*BlastP to other known enzymes*\n",
    "\n",
    "The reaction for GLUKA_1: EC 2.7.1.1 (Hexokinase)\n",
    "\n",
    "\n",
    "The process for determining protein similarity was as following:\n",
    "1. Find proteins for [EC 2.7.1.1 in UniProt](https://www.uniprot.org/uniprotkb?query=(taxonomy_id:2)%20AND%20(ec:2.7.1.1)). \n",
    "2. Download fasta for proteins with annotation score >=2.\n",
    "3. Do blastp for protein WP_015924247.1 in NCBI (with default settings) against both fasta files. \n",
    "\n",
    "***Result:*** Found no significant matches"
   ]
  },
  {
   "cell_type": "markdown",
   "id": "6dcda168-abe5-4eb9-b069-74549f4ef2ad",
   "metadata": {},
   "source": [
    "**R_GLCpts**"
   ]
  },
  {
   "cell_type": "code",
   "execution_count": 83,
   "id": "594b54fc-70bd-4931-a179-a9de8d4d1e67",
   "metadata": {},
   "outputs": [
    {
     "data": {
      "text/plain": [
       "G_WP_015924346_1"
      ]
     },
     "execution_count": 83,
     "metadata": {},
     "output_type": "execute_result"
    }
   ],
   "source": [
    "model.reactions.R_GLCpts.gpr"
   ]
  },
  {
   "cell_type": "code",
   "execution_count": 84,
   "id": "14fbbaa9-cf59-4a25-a63b-0d259d4ed983",
   "metadata": {},
   "outputs": [
    {
     "name": "stdout",
     "output_type": "stream",
     "text": [
      "R_ACGApts: M_acgam_e + M_pep_c --> M_acgam6p_c + M_pyr_c\n",
      "R_ACMANApts: M_acmana_e + M_pep_c --> M_acmanap_c + M_pyr_c\n",
      "R_ARBTpts: M_arbt_e + M_pep_c --> M_arbt6p_c + M_pyr_c\n",
      "R_ASCBpts: M_ascb__L_e + M_pep_c --> M_ascb6p_c + M_pyr_c\n",
      "R_DHAPT: M_dha_c + M_pep_c --> M_dhap_c + M_pyr_c\n",
      "R_FRUpts: M_fru_e + M_pep_c --> M_f1p_c + M_pyr_c\n",
      "R_GALTpts: M_galt_e + M_pep_c --> M_galt1p_c + M_pyr_c\n",
      "R_GALpts: M_gal_e + M_pep_c <-> M_dgal6p_c + M_pyr_c\n",
      "R_GAMpts: M_gam_e + M_pep_c --> M_gam6p_c + M_pyr_c\n",
      "R_GLCpts: M_glc__D_e + M_pep_c --> M_g6p_c + M_pyr_c\n",
      "R_MALTpts: M_malt_e + M_pep_c --> M_malt6p_c + M_pyr_c\n",
      "R_MANpts: M_man_e + M_pep_c --> M_man6p_c + M_pyr_c\n",
      "R_MNLpts: M_mnl_e + M_pep_c --> M_mnl1p_c + M_pyr_c\n",
      "R_SBTpts: M_pep_c + M_sbt__D_e --> M_pyr_c + M_sbt6p_c\n",
      "R_SUCpts: M_pep_c + M_sucr_e --> M_pyr_c + M_suc6p_c\n",
      "R_TREpts: M_pep_c + M_tre_e --> M_pyr_c + M_tre6p_c\n"
     ]
    }
   ],
   "source": [
    "for rxn in model.get_reactions_by_gene('G_WP_015924346_1'):\n",
    "    print(model.reactions[rxn])"
   ]
  },
  {
   "cell_type": "markdown",
   "id": "d210d564-8e3a-495d-86c9-d3f06edf55f4",
   "metadata": {
    "tags": []
   },
   "source": [
    "#### <span style=\"color: purple;\">A.2 Conclusion\n",
    "\n",
    "Remove reactions above."
   ]
  },
  {
   "cell_type": "markdown",
   "id": "ad718f4a-76cc-421b-9f00-289125888756",
   "metadata": {
    "tags": []
   },
   "source": [
    "#### <span style=\"color: purple;\">A.2 Solution"
   ]
  },
  {
   "cell_type": "code",
   "execution_count": 85,
   "id": "f05a178b-161f-4631-9844-8b7597e99d8b",
   "metadata": {},
   "outputs": [],
   "source": [
    "model.remove_reactions(['R_XYLI2','R_GLUKA_1','R_GLCpts'])"
   ]
  },
  {
   "cell_type": "code",
   "execution_count": 86,
   "id": "2af8ec55-53d2-4daf-a516-e9f6dca24926",
   "metadata": {},
   "outputs": [],
   "source": [
    "model.update()"
   ]
  },
  {
   "cell_type": "code",
   "execution_count": 87,
   "id": "65ab65a4-66af-4064-b456-40c7ab3ae066",
   "metadata": {},
   "outputs": [
    {
     "name": "stdout",
     "output_type": "stream",
     "text": [
      "Reactions successfully deleted\n"
     ]
    }
   ],
   "source": [
    "try: \n",
    "    model.reactions.R_XYLI2\n",
    "    \n",
    "except:\n",
    "    print('Reactions successfully deleted')"
   ]
  },
  {
   "cell_type": "code",
   "execution_count": 88,
   "id": "76488fcb-737d-44fc-9df7-8924f6311b1a",
   "metadata": {},
   "outputs": [
    {
     "name": "stdout",
     "output_type": "stream",
     "text": [
      "Reactions successfully deleted\n"
     ]
    }
   ],
   "source": [
    "try: \n",
    "    model.reactions.R_GLUKA_1\n",
    "    \n",
    "except:\n",
    "    print('Reactions successfully deleted')"
   ]
  },
  {
   "cell_type": "code",
   "execution_count": 89,
   "id": "271df42c-f96a-40cb-b5a2-f6632e70cc62",
   "metadata": {},
   "outputs": [
    {
     "name": "stdout",
     "output_type": "stream",
     "text": [
      "Reactions successfully deleted\n"
     ]
    }
   ],
   "source": [
    "try: \n",
    "    model.reactions.R_GLCpts\n",
    "    \n",
    "except:\n",
    "    print('Reactions successfully deleted')\n"
   ]
  },
  {
   "cell_type": "markdown",
   "id": "8e39d3ca-d884-4957-945b-34a6199df203",
   "metadata": {
    "tags": []
   },
   "source": [
    "### <span style=\"color: blue;\">B.1: False positive on mannose - Hexokinase (Ccel_3221/G_WP_015926569_1) mutant</span>\n",
    "\n",
    "- Mannose is used to produce mannitol. Check if this reaction should be removed. R_MNLDHr: M_mnl_c + M_nad_c <-> M_h_c + M_man_c + M_nadh_c\n",
    "\n",
    "Strategy:\n",
    "- Find gene(s) associated with mannitol production\n",
    "- Find reactions associated with this gene in model\n",
    "- Find the components of the enzyme from literature\n",
    "- Do blastp of protein against known proteins for the enzyme"
   ]
  },
  {
   "cell_type": "markdown",
   "id": "ab1bc675-2607-484b-a7d8-7ac9fb29c2d2",
   "metadata": {
    "tags": []
   },
   "source": [
    "#### <span style=\"color: purple;\">Details on problem</span>"
   ]
  },
  {
   "cell_type": "code",
   "execution_count": 90,
   "id": "e9976e8b-e173-4e83-bb8c-14d7b3f12ad5",
   "metadata": {},
   "outputs": [
    {
     "data": {
      "text/plain": [
       "R_MNLDHr: M_mnl_c + M_nad_c <-> M_h_c + M_man_c + M_nadh_c"
      ]
     },
     "execution_count": 90,
     "metadata": {},
     "output_type": "execute_result"
    }
   ],
   "source": [
    "model.reactions.R_MNLDHr"
   ]
  },
  {
   "cell_type": "code",
   "execution_count": 91,
   "id": "6e634b1c-15e9-4326-a513-70ae0f01a7c2",
   "metadata": {},
   "outputs": [
    {
     "data": {
      "text/plain": [
       "G_WP_015924473_1"
      ]
     },
     "execution_count": 91,
     "metadata": {},
     "output_type": "execute_result"
    }
   ],
   "source": [
    "model.reactions.R_MNLDHr.gpr"
   ]
  },
  {
   "cell_type": "code",
   "execution_count": 92,
   "id": "d7b5bb46-2884-4cf0-a8ad-ca79895a6c49",
   "metadata": {},
   "outputs": [
    {
     "data": {
      "text/html": [
       "<div>\n",
       "<style scoped>\n",
       "    .dataframe tbody tr th:only-of-type {\n",
       "        vertical-align: middle;\n",
       "    }\n",
       "\n",
       "    .dataframe tbody tr th {\n",
       "        vertical-align: top;\n",
       "    }\n",
       "\n",
       "    .dataframe thead th {\n",
       "        text-align: right;\n",
       "    }\n",
       "</style>\n",
       "<table border=\"1\" class=\"dataframe\">\n",
       "  <thead>\n",
       "    <tr style=\"text-align: right;\">\n",
       "      <th></th>\n",
       "      <th>Entry</th>\n",
       "      <th>Entry name</th>\n",
       "      <th>Protein names</th>\n",
       "      <th>Gene names</th>\n",
       "      <th>Cross-reference (RefSeq)</th>\n",
       "    </tr>\n",
       "  </thead>\n",
       "  <tbody>\n",
       "    <tr>\n",
       "      <th>2153</th>\n",
       "      <td>B8I956</td>\n",
       "      <td>B8I956_RUMCH</td>\n",
       "      <td>Alcohol dehydrogenase GroES domain protein</td>\n",
       "      <td>Ccel_0953</td>\n",
       "      <td>G_WP_015924473_1</td>\n",
       "    </tr>\n",
       "  </tbody>\n",
       "</table>\n",
       "</div>"
      ],
      "text/plain": [
       "       Entry    Entry name                               Protein names  \\\n",
       "2153  B8I956  B8I956_RUMCH  Alcohol dehydrogenase GroES domain protein   \n",
       "\n",
       "     Gene names Cross-reference (RefSeq)  \n",
       "2153  Ccel_0953         G_WP_015924473_1  "
      ]
     },
     "execution_count": 92,
     "metadata": {},
     "output_type": "execute_result"
    }
   ],
   "source": [
    "gene_protein_map[gene_protein_map['Cross-reference (RefSeq)']==str(model.reactions.R_MNLDHr.gpr)]"
   ]
  },
  {
   "cell_type": "markdown",
   "id": "2d8a1bb2-15fe-4450-aa4b-642869152392",
   "metadata": {},
   "source": [
    "[*Ccel_0953 annotation score in UniProt: 1*](https://www.uniprot.org/uniprotkb?query=Ccel_0953)"
   ]
  },
  {
   "cell_type": "code",
   "execution_count": 93,
   "id": "97f38476-73c6-458c-a008-9c26e686862c",
   "metadata": {},
   "outputs": [
    {
     "name": "stdout",
     "output_type": "stream",
     "text": [
      "R_MNLDH2: M_mnl_c + M_nad_c --> M_fru_c + M_h_c + M_nadh_c: G_WP_015924473_1\n",
      "R_MNLDHr: M_mnl_c + M_nad_c <-> M_h_c + M_man_c + M_nadh_c: G_WP_015924473_1\n",
      "R_SBTD_D2: M_nad_c + M_sbt__D_c --> M_fru_c + M_h_c + M_nadh_c: (G_WP_015924473_1 or G_WP_015924547_1 or G_WP_015925626_1 or G_WP_015926572_1)\n"
     ]
    }
   ],
   "source": [
    "for rxn in model.get_reactions_by_gene('G_WP_015924473_1'):\n",
    "    print(str(model.reactions[rxn]) + \": \" + str(model.reactions[rxn].gpr))"
   ]
  },
  {
   "cell_type": "markdown",
   "id": "347acabd-41a7-451e-9259-d4d90b067c06",
   "metadata": {},
   "source": [
    "**BlastP to other known enzymes**\n",
    "\n",
    "The reaction for MNDLH2 has EC number: EC:1.1.1.255\n",
    "\n",
    "The reaction for MNLDHr has EC number: EC:1.1.1.67\n",
    "\n",
    "The process for determining protein similarity was as following:\n",
    "1. Find proteins for [EC:1.1.1.255](https://www.uniprot.org/uniprotkb?query=%28ec%3A1.1.1.255%29) and [EC:1.1.1.67](https://www.uniprot.org/uniprotkb?dir=descend&query=(ec:1.1.1.67)&sort=annotation_score) in UniProt. \n",
    "2. Download fasta for proteins with annotation score >=2, for both.\n",
    "3. Do blastp for protein WP_015924473.1 in NCBI (with default settings) against both fasta files. "
   ]
  },
  {
   "attachments": {
    "5238f624-63e9-4b8e-8022-b1f00caf8b7e.png": {
     "image/png": "[encoded data removed]"
    }
   },
   "cell_type": "markdown",
   "id": "ef18c426-ed25-4031-9fd2-cda253940a0d",
   "metadata": {},
   "source": [
    "**EC:1.1.1.67**: No significant similarity found with BlastP.\n",
    "\n",
    "**EC:1.1.1.255**: \n",
    "\n",
    "![Protein blastp EC.1.1.1.255.png](attachment:5238f624-63e9-4b8e-8022-b1f00caf8b7e.png)"
   ]
  },
  {
   "cell_type": "markdown",
   "id": "21e73817-0d64-40f8-b3c4-37d58579e043",
   "metadata": {},
   "source": [
    "#### <span style=\"color: purple;\">B.1: Conclusion</span>\n",
    "\n",
    "The MNLDHr reaction should be removed due to the lack of sequence similarity and the results from the KO experiment. As shown above there are only two reactions involving mannitol: MNDLH2 and MNLDHr, so this means that mannitol production will be blocked. Despite this, the results above indicate that there is only sufficient proof for removing MNLDHr, not MNDLH2. "
   ]
  },
  {
   "cell_type": "markdown",
   "id": "df672b77-b391-46a2-9132-876404b42178",
   "metadata": {},
   "source": [
    "#### <span style=\"color: purple;\">B.1:Solution</span>"
   ]
  },
  {
   "cell_type": "code",
   "execution_count": 94,
   "id": "55b07079-567b-4af5-a3dc-ce5943a6ae83",
   "metadata": {},
   "outputs": [],
   "source": [
    "model.remove_reaction('R_MNLDHr')"
   ]
  },
  {
   "cell_type": "code",
   "execution_count": 95,
   "id": "b2baa61d-f321-49b5-9534-a10b95e6505b",
   "metadata": {},
   "outputs": [
    {
     "name": "stdout",
     "output_type": "stream",
     "text": [
      "Reactions successfully deleted\n"
     ]
    }
   ],
   "source": [
    "try: \n",
    "    model.reactions.R_MNLDHr\n",
    "except:\n",
    "    print('Reactions successfully deleted')"
   ]
  },
  {
   "cell_type": "code",
   "execution_count": 96,
   "id": "f8d89187-fcea-4f48-99cc-f930284f469b",
   "metadata": {},
   "outputs": [],
   "source": [
    "model.update()"
   ]
  },
  {
   "cell_type": "code",
   "execution_count": 97,
   "id": "f734b4e0-4488-4434-8e9a-0cf23d6e0775",
   "metadata": {},
   "outputs": [
    {
     "name": "stdout",
     "output_type": "stream",
     "text": [
      "Reactions successfully deleted\n"
     ]
    }
   ],
   "source": [
    "try: \n",
    "    model.reactions.R_MNLDHr\n",
    "except:\n",
    "    print('Reactions successfully deleted')"
   ]
  },
  {
   "cell_type": "markdown",
   "id": "2ddd01a2-e279-4ed6-b8cd-b10e02b7159e",
   "metadata": {},
   "source": [
    "#### <span style=\"color: purple;\">B.1. Test</span>"
   ]
  },
  {
   "cell_type": "code",
   "execution_count": 98,
   "id": "ca40ff34-103b-43f2-910c-ea0a2de7e11f",
   "metadata": {},
   "outputs": [],
   "source": [
    "media_man= list(media[media.medium=='H10_minimal_mannose']['compound'])\n"
   ]
  },
  {
   "cell_type": "code",
   "execution_count": 99,
   "id": "798ea433-a806-4e32-9992-a01f2becf750",
   "metadata": {},
   "outputs": [],
   "source": [
    "env_man = reframed.Environment.from_compounds(media_man)\n",
    "\n",
    "with warnings.catch_warnings(): # The code will create warnings because some of the compounds in the media are not in the model\n",
    "    warnings.simplefilter('ignore')\n",
    "    env_man.apply(model,exclusive=True,inplace=True)\n",
    "    sol = reframed.cobra.knockout.gene_knockout(model, 'G_WP_015926569_1', method='pFBA')"
   ]
  },
  {
   "cell_type": "code",
   "execution_count": 100,
   "id": "a7ece447-b742-4f7c-a2f0-ec4a6eb693e7",
   "metadata": {},
   "outputs": [
    {
     "data": {
      "text/plain": [
       "0.5599940468522907"
      ]
     },
     "execution_count": 100,
     "metadata": {},
     "output_type": "execute_result"
    }
   ],
   "source": [
    "sol.values['Growth']"
   ]
  },
  {
   "cell_type": "code",
   "execution_count": 101,
   "id": "e2e581f4-3dcd-4bb0-93c3-bcfbc4e250d1",
   "metadata": {},
   "outputs": [
    {
     "name": "stdout",
     "output_type": "stream",
     "text": [
      "[ o <-- ] R_EX_man_e    10       \n",
      "[ o --> ] R_MANpts     -10       \n"
     ]
    }
   ],
   "source": [
    "sol.show_metabolite_balance('M_man_e',model)"
   ]
  },
  {
   "cell_type": "markdown",
   "id": "96bd97fb-820a-425e-8833-f0381d74a23f",
   "metadata": {},
   "source": [
    "**Mannose is being transported with PTS, but this one does not have any genetic evidence**"
   ]
  },
  {
   "cell_type": "code",
   "execution_count": 102,
   "id": "e33758af-eaa6-46b7-8890-dd2fced5e708",
   "metadata": {},
   "outputs": [
    {
     "data": {
      "text/plain": [
       "R_MANpts: M_man_e + M_pep_c --> M_man6p_c + M_pyr_c"
      ]
     },
     "execution_count": 102,
     "metadata": {},
     "output_type": "execute_result"
    }
   ],
   "source": [
    "model.reactions.R_MANpts"
   ]
  },
  {
   "cell_type": "markdown",
   "id": "7ead2a92-2fb2-423d-a3f5-0b339a320be8",
   "metadata": {},
   "source": [
    "**According to the results below, removing this reaction could give better predictions**"
   ]
  },
  {
   "cell_type": "code",
   "execution_count": 103,
   "id": "1dc9878b-087d-498c-96a8-539daf124c53",
   "metadata": {},
   "outputs": [],
   "source": [
    "sol = reframed.cobra.knockout.gene_knockout(model, 'G_WP_015926569_1',constraints={'R_MANpts':0}, method='pFBA')"
   ]
  },
  {
   "cell_type": "code",
   "execution_count": 104,
   "id": "6fc50428-8bf2-4ab7-9bc4-8ccd02e33963",
   "metadata": {},
   "outputs": [
    {
     "data": {
      "text/plain": [
       "0.03841336742163294"
      ]
     },
     "execution_count": 104,
     "metadata": {},
     "output_type": "execute_result"
    }
   ],
   "source": [
    "sol.values['Growth']"
   ]
  },
  {
   "cell_type": "code",
   "execution_count": 105,
   "id": "238b3acc-497d-481c-9503-3b0581cd9479",
   "metadata": {},
   "outputs": [],
   "source": [
    "sol = reframed.pFBA(model,constraints={'R_MANpts':0})"
   ]
  },
  {
   "cell_type": "code",
   "execution_count": 106,
   "id": "3c90c63f-407c-47db-85a3-062e134cc07c",
   "metadata": {},
   "outputs": [
    {
     "data": {
      "text/plain": [
       "0.5458706156580303"
      ]
     },
     "execution_count": 106,
     "metadata": {},
     "output_type": "execute_result"
    }
   ],
   "source": [
    "sol.values['Growth']"
   ]
  },
  {
   "cell_type": "markdown",
   "id": "b387ed35-ad91-4561-97c9-9946236ae921",
   "metadata": {
    "tags": []
   },
   "source": [
    "### <span style=\"color: blue;\">B.1: Additional curation: False positive on mannose - Hexokinase (Ccel_3221/G_WP_015926569_1) mutant</span>\n",
    "\n",
    "Remove following reaction: R_MANpts"
   ]
  },
  {
   "cell_type": "code",
   "execution_count": 107,
   "id": "cb5c16bc-56f7-4795-a7f0-62ce9dd81b0c",
   "metadata": {},
   "outputs": [],
   "source": [
    "model.remove_reaction('R_MANpts')"
   ]
  },
  {
   "cell_type": "code",
   "execution_count": 108,
   "id": "4c371ffb-9206-4372-91ba-5c2f558639fd",
   "metadata": {},
   "outputs": [],
   "source": [
    "model.update()"
   ]
  },
  {
   "cell_type": "code",
   "execution_count": 109,
   "id": "c7934559-2e50-4424-a109-27293b420048",
   "metadata": {},
   "outputs": [
    {
     "name": "stdout",
     "output_type": "stream",
     "text": [
      "Reactions successfully deleted\n"
     ]
    }
   ],
   "source": [
    "try: \n",
    "    model.reactions.R_MANpts\n",
    "except:\n",
    "    print('Reactions successfully deleted')"
   ]
  },
  {
   "cell_type": "markdown",
   "id": "8399eaff-3987-4c77-8ca0-6bbed5327786",
   "metadata": {
    "tags": []
   },
   "source": [
    "## <span style=\"color: blue;\">Summary </span>"
   ]
  },
  {
   "cell_type": "markdown",
   "id": "2caeaa25-43a0-4ec7-97b9-fca95610d9e3",
   "metadata": {},
   "source": [
    "**Remove genes/proteins**"
   ]
  },
  {
   "cell_type": "code",
   "execution_count": 110,
   "id": "b3fb4248-b243-462b-9676-92bef7f884f0",
   "metadata": {},
   "outputs": [
    {
     "data": {
      "text/plain": [
       "['G_WP_015924247_1', 'G_WP_015925130_1', 'G_WP_015926770_1']"
      ]
     },
     "execution_count": 110,
     "metadata": {},
     "output_type": "execute_result"
    }
   ],
   "source": [
    "[key for key, value in model.gene_to_reaction_lookup().items() if len(value)==0]"
   ]
  },
  {
   "cell_type": "code",
   "execution_count": 111,
   "id": "f9726a10-537e-4ba3-8def-40d9d09dc3b9",
   "metadata": {},
   "outputs": [],
   "source": [
    "model.remove_genes([key for key, value in model.gene_to_reaction_lookup().items() if len(value)==0])"
   ]
  },
  {
   "cell_type": "code",
   "execution_count": 112,
   "id": "267abe3d-1c17-4ce9-b592-d613170a1209",
   "metadata": {},
   "outputs": [],
   "source": [
    "model.update()"
   ]
  },
  {
   "cell_type": "code",
   "execution_count": 113,
   "id": "6c9b2f29-191a-47ba-9629-242c7c5602b7",
   "metadata": {},
   "outputs": [
    {
     "data": {
      "text/plain": [
       "[]"
      ]
     },
     "execution_count": 113,
     "metadata": {},
     "output_type": "execute_result"
    }
   ],
   "source": [
    "[key for key, value in model.gene_to_reaction_lookup().items() if len(value)==0]"
   ]
  },
  {
   "cell_type": "markdown",
   "id": "1d1f2ba8-ca7b-4d43-8e8b-9525418f8b16",
   "metadata": {},
   "source": [
    "**Finish model**"
   ]
  },
  {
   "cell_type": "code",
   "execution_count": 114,
   "id": "e0698bd8-228b-455d-bfdc-43abbc92c033",
   "metadata": {},
   "outputs": [],
   "source": [
    "model.id = \"model_c_H10_part2_2_1\""
   ]
  },
  {
   "cell_type": "code",
   "execution_count": 115,
   "id": "8d4156f9-cd2c-4cfc-bda2-1dae6dd1d770",
   "metadata": {},
   "outputs": [],
   "source": [
    "reframed.save_cbmodel(model,filename=\"model_c_H10_part2_2_1.xml\")"
   ]
  },
  {
   "cell_type": "code",
   "execution_count": 116,
   "id": "8fa73365-8dbb-49b1-a436-994f4812416b",
   "metadata": {},
   "outputs": [],
   "source": [
    "model_new = reframed.load_cbmodel('model_c_H10_part2_2_1.xml')"
   ]
  },
  {
   "cell_type": "code",
   "execution_count": 117,
   "id": "cb603787-9424-4333-aba8-fa80a1ed9b04",
   "metadata": {},
   "outputs": [],
   "source": [
    "model_prev = reframed.load_cbmodel('model_cellulolyticum_H10.xml')"
   ]
  },
  {
   "cell_type": "code",
   "execution_count": 118,
   "id": "b5b9ea90-4bbd-434d-b4de-743ec386305b",
   "metadata": {},
   "outputs": [],
   "source": [
    "models_dict={model.id:{} for model in [model_new,model_prev]}\n",
    "models_rxn_dict={model.id:{} for model in [model_new,model_prev]}\n",
    "for model in [model,model_prev]:\n",
    "    models_dict[model.id]['Reactions']=len(model.reactions)\n",
    "    models_dict[model.id]['Metabolites']=len(model.metabolites)\n",
    "    models_dict[model.id]['Genes']=len(model.genes)\n",
    "    \n",
    "    models_rxn_dict[model.id]['Enzymatic']=len(model.get_reactions_by_type(reframed.ReactionType.ENZYMATIC))\n",
    "    models_rxn_dict[model.id]['Exchange']=len(model.get_reactions_by_type(reframed.ReactionType.EXCHANGE))\n",
    "    models_rxn_dict[model.id]['Transport']=len(model.get_reactions_by_type(reframed.ReactionType.TRANSPORT))\n",
    "    models_rxn_dict[model.id]['Sink']=len(model.get_reactions_by_type(reframed.ReactionType.SINK))\n",
    "    models_rxn_dict[model.id]['Other']=len(model.get_reactions_by_type(reframed.ReactionType.OTHER))\n",
    "    "
   ]
  },
  {
   "cell_type": "markdown",
   "id": "71c9169b-09b5-49da-baac-fa076c08591b",
   "metadata": {},
   "source": [
    "**Overview models**"
   ]
  },
  {
   "cell_type": "code",
   "execution_count": 119,
   "id": "8283c94d-981e-435c-ad40-e7e71b1f1f89",
   "metadata": {},
   "outputs": [
    {
     "data": {
      "text/html": [
       "<div>\n",
       "<style scoped>\n",
       "    .dataframe tbody tr th:only-of-type {\n",
       "        vertical-align: middle;\n",
       "    }\n",
       "\n",
       "    .dataframe tbody tr th {\n",
       "        vertical-align: top;\n",
       "    }\n",
       "\n",
       "    .dataframe thead th {\n",
       "        text-align: right;\n",
       "    }\n",
       "</style>\n",
       "<table border=\"1\" class=\"dataframe\">\n",
       "  <thead>\n",
       "    <tr style=\"text-align: right;\">\n",
       "      <th></th>\n",
       "      <th>model_c_H10_part2_2_1</th>\n",
       "      <th>model_cellulolyticum_H10</th>\n",
       "    </tr>\n",
       "  </thead>\n",
       "  <tbody>\n",
       "    <tr>\n",
       "      <th>Reactions</th>\n",
       "      <td>1806</td>\n",
       "      <td>1811</td>\n",
       "    </tr>\n",
       "    <tr>\n",
       "      <th>Metabolites</th>\n",
       "      <td>1250</td>\n",
       "      <td>1250</td>\n",
       "    </tr>\n",
       "    <tr>\n",
       "      <th>Genes</th>\n",
       "      <td>731</td>\n",
       "      <td>733</td>\n",
       "    </tr>\n",
       "  </tbody>\n",
       "</table>\n",
       "</div>"
      ],
      "text/plain": [
       "             model_c_H10_part2_2_1  model_cellulolyticum_H10\n",
       "Reactions                     1806                      1811\n",
       "Metabolites                   1250                      1250\n",
       "Genes                          731                       733"
      ]
     },
     "execution_count": 119,
     "metadata": {},
     "output_type": "execute_result"
    }
   ],
   "source": [
    "pd.DataFrame(models_dict)"
   ]
  },
  {
   "cell_type": "markdown",
   "id": "6b118107-97e8-4c25-9033-6c5ea3b4db15",
   "metadata": {},
   "source": [
    "**Overview reactions in models**"
   ]
  },
  {
   "cell_type": "code",
   "execution_count": 120,
   "id": "080f3666-c71a-4aed-8b01-4500e92f1913",
   "metadata": {},
   "outputs": [
    {
     "data": {
      "text/html": [
       "<div>\n",
       "<style scoped>\n",
       "    .dataframe tbody tr th:only-of-type {\n",
       "        vertical-align: middle;\n",
       "    }\n",
       "\n",
       "    .dataframe tbody tr th {\n",
       "        vertical-align: top;\n",
       "    }\n",
       "\n",
       "    .dataframe thead th {\n",
       "        text-align: right;\n",
       "    }\n",
       "</style>\n",
       "<table border=\"1\" class=\"dataframe\">\n",
       "  <thead>\n",
       "    <tr style=\"text-align: right;\">\n",
       "      <th></th>\n",
       "      <th>model_c_H10_part2_2_1</th>\n",
       "      <th>model_cellulolyticum_H10</th>\n",
       "    </tr>\n",
       "  </thead>\n",
       "  <tbody>\n",
       "    <tr>\n",
       "      <th>Enzymatic</th>\n",
       "      <td>878</td>\n",
       "      <td>883</td>\n",
       "    </tr>\n",
       "    <tr>\n",
       "      <th>Exchange</th>\n",
       "      <td>210</td>\n",
       "      <td>210</td>\n",
       "    </tr>\n",
       "    <tr>\n",
       "      <th>Transport</th>\n",
       "      <td>474</td>\n",
       "      <td>475</td>\n",
       "    </tr>\n",
       "    <tr>\n",
       "      <th>Sink</th>\n",
       "      <td>0</td>\n",
       "      <td>0</td>\n",
       "    </tr>\n",
       "    <tr>\n",
       "      <th>Other</th>\n",
       "      <td>244</td>\n",
       "      <td>243</td>\n",
       "    </tr>\n",
       "  </tbody>\n",
       "</table>\n",
       "</div>"
      ],
      "text/plain": [
       "           model_c_H10_part2_2_1  model_cellulolyticum_H10\n",
       "Enzymatic                    878                       883\n",
       "Exchange                     210                       210\n",
       "Transport                    474                       475\n",
       "Sink                           0                         0\n",
       "Other                        244                       243"
      ]
     },
     "execution_count": 120,
     "metadata": {},
     "output_type": "execute_result"
    }
   ],
   "source": [
    "pd.DataFrame(models_rxn_dict)"
   ]
  },
  {
   "cell_type": "markdown",
   "id": "44e8d45f-43d8-4484-9753-6dfb6ddfc961",
   "metadata": {},
   "source": [
    "**Reactions removed**"
   ]
  },
  {
   "cell_type": "code",
   "execution_count": 121,
   "id": "a72d7f24-6986-4ad6-840f-6e896ab4d7ab",
   "metadata": {},
   "outputs": [
    {
     "data": {
      "text/plain": [
       "{'R_CD6P',\n",
       " 'R_GLCpts',\n",
       " 'R_GLUKA_1',\n",
       " 'R_ID6P',\n",
       " 'R_MANpts',\n",
       " 'R_MNLDHr',\n",
       " 'R_PFK',\n",
       " 'R_XYLI2',\n",
       " 'R_r0191'}"
      ]
     },
     "execution_count": 121,
     "metadata": {},
     "output_type": "execute_result"
    }
   ],
   "source": [
    "set(model_prev.reactions)-set(model_new.reactions)"
   ]
  },
  {
   "cell_type": "markdown",
   "id": "19ba757f-f08a-4e66-a578-2f97c9af0ee8",
   "metadata": {},
   "source": [
    "**Reactions added**"
   ]
  },
  {
   "cell_type": "code",
   "execution_count": 122,
   "id": "ad150fe1-93b0-448a-b431-d4a44a8326ea",
   "metadata": {},
   "outputs": [
    {
     "data": {
      "text/plain": [
       "{'R_FNRR', 'R_FNRR2', 'R_H2td', 'R_PFK_ppi'}"
      ]
     },
     "execution_count": 122,
     "metadata": {},
     "output_type": "execute_result"
    }
   ],
   "source": [
    "set(model_new.reactions)-set(model_prev.reactions)"
   ]
  },
  {
   "cell_type": "code",
   "execution_count": null,
   "id": "663fcae8-fd0f-4d8a-ae54-eceb28154a5f",
   "metadata": {},
   "outputs": [],
   "source": []
  }
 ],
 "metadata": {
  "kernelspec": {
   "display_name": "RecAndAn",
   "language": "python",
   "name": "recandan"
  },
  "language_info": {
   "codemirror_mode": {
    "name": "ipython",
    "version": 3
   },
   "file_extension": ".py",
   "mimetype": "text/x-python",
   "name": "python",
   "nbconvert_exporter": "python",
   "pygments_lexer": "ipython3",
   "version": "3.7.13"
  }
 },
 "nbformat": 4,
 "nbformat_minor": 5
}
