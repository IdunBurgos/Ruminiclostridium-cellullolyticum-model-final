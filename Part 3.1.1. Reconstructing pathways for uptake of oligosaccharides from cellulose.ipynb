{
 "cells": [
  {
   "cell_type": "markdown",
   "id": "5a66bd26-bdd5-47cc-9aed-30c79225689d",
   "metadata": {},
   "source": [
    "# Part 3.1.1. Reconstructing pathways for uptake of oligosaccharides from cellulose"
   ]
  },
  {
   "cell_type": "code",
   "execution_count": 1,
   "id": "7ba19a13-e003-4e34-b7e6-3d513b8c4e0c",
   "metadata": {},
   "outputs": [],
   "source": [
    "import pandas as pd\n",
    "import reframed\n",
    "from reframed import Metabolite, GPRAssociation,Gene,Protein, ReactionType,CBReaction,Environment,FVA\n",
    "import json\n",
    "from collections import OrderedDict"
   ]
  },
  {
   "cell_type": "markdown",
   "id": "77df0640-edfc-4ea7-ab5c-694729123407",
   "metadata": {},
   "source": [
    "## Reconstructing pathway"
   ]
  },
  {
   "cell_type": "markdown",
   "id": "05927f96-9780-46cb-9078-ea67d93fe83a",
   "metadata": {},
   "source": [
    "### Metabolites\n",
    "    "
   ]
  },
  {
   "cell_type": "code",
   "execution_count": 2,
   "id": "e5466996-49a9-4f7a-86f9-eea4a0b90e5b",
   "metadata": {},
   "outputs": [
    {
     "data": {
      "text/html": [
       "<div>\n",
       "<style scoped>\n",
       "    .dataframe tbody tr th:only-of-type {\n",
       "        vertical-align: middle;\n",
       "    }\n",
       "\n",
       "    .dataframe tbody tr th {\n",
       "        vertical-align: top;\n",
       "    }\n",
       "\n",
       "    .dataframe thead th {\n",
       "        text-align: right;\n",
       "    }\n",
       "</style>\n",
       "<table border=\"1\" class=\"dataframe\">\n",
       "  <thead>\n",
       "    <tr style=\"text-align: right;\">\n",
       "      <th></th>\n",
       "      <th>Name</th>\n",
       "      <th>Identifier</th>\n",
       "      <th>Compartment</th>\n",
       "      <th>Formula</th>\n",
       "      <th>Charge</th>\n",
       "    </tr>\n",
       "  </thead>\n",
       "  <tbody>\n",
       "    <tr>\n",
       "      <th>0</th>\n",
       "      <td>Cellulose (n=5 repeating units)</td>\n",
       "      <td>M_cell5_e</td>\n",
       "      <td>e</td>\n",
       "      <td>C30H52O26</td>\n",
       "      <td>0</td>\n",
       "    </tr>\n",
       "    <tr>\n",
       "      <th>1</th>\n",
       "      <td>Cellulose (n=5 repeating units)</td>\n",
       "      <td>M_cell5_c</td>\n",
       "      <td>c</td>\n",
       "      <td>C30H52O26</td>\n",
       "      <td>0</td>\n",
       "    </tr>\n",
       "    <tr>\n",
       "      <th>2</th>\n",
       "      <td>Cellulose (n=4 repeating units)</td>\n",
       "      <td>M_cell4_e</td>\n",
       "      <td>e</td>\n",
       "      <td>C24H42O21</td>\n",
       "      <td>0</td>\n",
       "    </tr>\n",
       "    <tr>\n",
       "      <th>3</th>\n",
       "      <td>Cellulose (n=4 repeating units)</td>\n",
       "      <td>M_cell4_c</td>\n",
       "      <td>c</td>\n",
       "      <td>C24H42O21</td>\n",
       "      <td>0</td>\n",
       "    </tr>\n",
       "    <tr>\n",
       "      <th>4</th>\n",
       "      <td>Cellulose (n=3 repeating units)</td>\n",
       "      <td>M_cell3_e</td>\n",
       "      <td>e</td>\n",
       "      <td>C18H32O16</td>\n",
       "      <td>0</td>\n",
       "    </tr>\n",
       "    <tr>\n",
       "      <th>5</th>\n",
       "      <td>Cellulose (n=3 repeating units)</td>\n",
       "      <td>M_cell3_c</td>\n",
       "      <td>c</td>\n",
       "      <td>C18H32O16</td>\n",
       "      <td>0</td>\n",
       "    </tr>\n",
       "  </tbody>\n",
       "</table>\n",
       "</div>"
      ],
      "text/plain": [
       "                              Name Identifier Compartment    Formula  Charge\n",
       "0  Cellulose (n=5 repeating units)  M_cell5_e           e  C30H52O26       0\n",
       "1  Cellulose (n=5 repeating units)  M_cell5_c           c  C30H52O26       0\n",
       "2  Cellulose (n=4 repeating units)  M_cell4_e           e  C24H42O21       0\n",
       "3  Cellulose (n=4 repeating units)  M_cell4_c           c  C24H42O21       0\n",
       "4  Cellulose (n=3 repeating units)  M_cell3_e           e  C18H32O16       0\n",
       "5  Cellulose (n=3 repeating units)  M_cell3_c           c  C18H32O16       0"
      ]
     },
     "execution_count": 2,
     "metadata": {},
     "output_type": "execute_result"
    }
   ],
   "source": [
    "metabolites = pd.read_excel('/Users/idunmariaburgos/Documents/Work/Project/Ruminiclostridium cellulolyticum part 2/Polysaccharide degrading pathways.xlsx',\n",
    "                              sheet_name=\"Mets.  Cat. of cellodextrins \", \n",
    "                              usecols=\"A:E\")\n",
    "metabolites"
   ]
  },
  {
   "cell_type": "code",
   "execution_count": 3,
   "id": "a4c43595-3da0-42d3-bcdb-263619aaecad",
   "metadata": {},
   "outputs": [],
   "source": [
    "mets = []\n",
    "\n",
    "for index, row in metabolites.iterrows():\n",
    "    # Create metabolite object\n",
    "    met_id=row['Identifier']\n",
    "    name=row['Name']\n",
    "    compartment=\"C_\"+row['Compartment']\n",
    "\n",
    "    met = Metabolite(met_id=met_id, name=name,compartment=compartment)\n",
    "    \n",
    "    # Add metadata  \n",
    "    formula = row['Formula']\n",
    "    charge = row['Charge']\n",
    "    \n",
    "    met.metadata=OrderedDict({'FORMULA':formula,\n",
    "                             'CHARGE':str(charge)})                   \n",
    "    mets.append(met)"
   ]
  },
  {
   "cell_type": "code",
   "execution_count": 4,
   "id": "94e90ef1-2335-4b2e-931e-5b605ee16f2d",
   "metadata": {},
   "outputs": [
    {
     "data": {
      "text/plain": [
       "[Cellulose (n=5 repeating units),\n",
       " Cellulose (n=5 repeating units),\n",
       " Cellulose (n=4 repeating units),\n",
       " Cellulose (n=4 repeating units),\n",
       " Cellulose (n=3 repeating units),\n",
       " Cellulose (n=3 repeating units)]"
      ]
     },
     "execution_count": 4,
     "metadata": {},
     "output_type": "execute_result"
    }
   ],
   "source": [
    "mets"
   ]
  },
  {
   "cell_type": "markdown",
   "id": "9652ed8e-2014-48c2-b73d-2f8b9f0c01ae",
   "metadata": {
    "tags": []
   },
   "source": [
    "### Reactions"
   ]
  },
  {
   "cell_type": "code",
   "execution_count": 5,
   "id": "db09cdf7-eab5-40ca-b048-2bd630de835c",
   "metadata": {},
   "outputs": [],
   "source": [
    "reactions = pd.read_excel('/Users/idunmariaburgos/Documents/Work/Project/Ruminiclostridium cellulolyticum part 2/Polysaccharide degrading pathways.xlsx',\n",
    "                              sheet_name=\"Rxns.  Cat. of cellodextrins \", \n",
    "                              usecols=\"A:F\")"
   ]
  },
  {
   "cell_type": "code",
   "execution_count": 6,
   "id": "7714ad68-7107-4476-94b4-4fa8d42d53a1",
   "metadata": {},
   "outputs": [
    {
     "data": {
      "text/html": [
       "<div>\n",
       "<style scoped>\n",
       "    .dataframe tbody tr th:only-of-type {\n",
       "        vertical-align: middle;\n",
       "    }\n",
       "\n",
       "    .dataframe tbody tr th {\n",
       "        vertical-align: top;\n",
       "    }\n",
       "\n",
       "    .dataframe thead th {\n",
       "        text-align: right;\n",
       "    }\n",
       "</style>\n",
       "<table border=\"1\" class=\"dataframe\">\n",
       "  <thead>\n",
       "    <tr style=\"text-align: right;\">\n",
       "      <th></th>\n",
       "      <th>Enzyme</th>\n",
       "      <th>Identifier</th>\n",
       "      <th>Gene</th>\n",
       "      <th>Stoichiometry</th>\n",
       "      <th>Transport</th>\n",
       "      <th>Type</th>\n",
       "    </tr>\n",
       "  </thead>\n",
       "  <tbody>\n",
       "    <tr>\n",
       "      <th>0</th>\n",
       "      <td>ABC transporter cellobiose</td>\n",
       "      <td>R_Cellbabc</td>\n",
       "      <td>Ccel_2112 and Ccel_2111 and Ccel_2110</td>\n",
       "      <td>{\"M_cellb_e\":-1, \"M_atp_c\":-2, \"M_h2o_c\":-1, \"...</td>\n",
       "      <td>1</td>\n",
       "      <td>ABC-transporter</td>\n",
       "    </tr>\n",
       "    <tr>\n",
       "      <th>1</th>\n",
       "      <td>ABC transporter cellodextrin G3</td>\n",
       "      <td>R_cell3abc</td>\n",
       "      <td>Ccel_2112 and Ccel_2111 and Ccel_2110</td>\n",
       "      <td>{\"M_cell3_e\":-1, \"M_atp_c\":-2, \"M_h2o_c\":-1, \"...</td>\n",
       "      <td>1</td>\n",
       "      <td>ABC-transporter</td>\n",
       "    </tr>\n",
       "    <tr>\n",
       "      <th>2</th>\n",
       "      <td>ABC transporter cellodextrin G4</td>\n",
       "      <td>R_cell4abc</td>\n",
       "      <td>Ccel_2112 and Ccel_2111 and Ccel_2110</td>\n",
       "      <td>{\"M_cell4_e\":-1, \"M_atp_c\":-2, \"M_h2o_c\":-1, \"...</td>\n",
       "      <td>1</td>\n",
       "      <td>ABC-transporter</td>\n",
       "    </tr>\n",
       "    <tr>\n",
       "      <th>3</th>\n",
       "      <td>ABC transporter cellodextrin G5</td>\n",
       "      <td>R_cell5abc</td>\n",
       "      <td>Ccel_2112 and Ccel_2111 and Ccel_2110</td>\n",
       "      <td>{\"M_cell5_e\":-1, \"M_atp_c\":-2, \"M_h2o_c\":-1, \"...</td>\n",
       "      <td>1</td>\n",
       "      <td>ABC-transporter</td>\n",
       "    </tr>\n",
       "    <tr>\n",
       "      <th>4</th>\n",
       "      <td>cellodextrin phosphorylase CdpA G4, CdpB</td>\n",
       "      <td>R_CEPA3</td>\n",
       "      <td>Ccel_1439 or Ccel_2354</td>\n",
       "      <td>{\"M_cell4_c\": -1,\"M_pi_c\": -1, \"M_cell3_c\": 1,...</td>\n",
       "      <td>0</td>\n",
       "      <td>Glycosyl hydrolases Family 94</td>\n",
       "    </tr>\n",
       "    <tr>\n",
       "      <th>5</th>\n",
       "      <td>cellodextrin phosphorylase CdpA G5</td>\n",
       "      <td>R_CEPA4</td>\n",
       "      <td>Ccel_1439</td>\n",
       "      <td>{\"M_cell5_c\": -1,\"M_pi_c\": -1, \"M_cell4_c\": 1,...</td>\n",
       "      <td>0</td>\n",
       "      <td>Glycosyl hydrolases Family 94</td>\n",
       "    </tr>\n",
       "    <tr>\n",
       "      <th>6</th>\n",
       "      <td>cellodextrin phisphorylase CdpC</td>\n",
       "      <td>R_CEPA2</td>\n",
       "      <td>Ccel_3412</td>\n",
       "      <td>{\"M_cell3_c\": -1,\"M_pi_c\": -1, \"M_cellb_c\": 1,...</td>\n",
       "      <td>0</td>\n",
       "      <td>Glycosyl hydrolases Family 94</td>\n",
       "    </tr>\n",
       "  </tbody>\n",
       "</table>\n",
       "</div>"
      ],
      "text/plain": [
       "                                     Enzyme  Identifier  \\\n",
       "0                ABC transporter cellobiose  R_Cellbabc   \n",
       "1           ABC transporter cellodextrin G3  R_cell3abc   \n",
       "2           ABC transporter cellodextrin G4  R_cell4abc   \n",
       "3           ABC transporter cellodextrin G5  R_cell5abc   \n",
       "4  cellodextrin phosphorylase CdpA G4, CdpB     R_CEPA3   \n",
       "5        cellodextrin phosphorylase CdpA G5     R_CEPA4   \n",
       "6           cellodextrin phisphorylase CdpC     R_CEPA2   \n",
       "\n",
       "                                    Gene  \\\n",
       "0  Ccel_2112 and Ccel_2111 and Ccel_2110   \n",
       "1  Ccel_2112 and Ccel_2111 and Ccel_2110   \n",
       "2  Ccel_2112 and Ccel_2111 and Ccel_2110   \n",
       "3  Ccel_2112 and Ccel_2111 and Ccel_2110   \n",
       "4                 Ccel_1439 or Ccel_2354   \n",
       "5                              Ccel_1439   \n",
       "6                              Ccel_3412   \n",
       "\n",
       "                                       Stoichiometry  Transport  \\\n",
       "0  {\"M_cellb_e\":-1, \"M_atp_c\":-2, \"M_h2o_c\":-1, \"...          1   \n",
       "1  {\"M_cell3_e\":-1, \"M_atp_c\":-2, \"M_h2o_c\":-1, \"...          1   \n",
       "2  {\"M_cell4_e\":-1, \"M_atp_c\":-2, \"M_h2o_c\":-1, \"...          1   \n",
       "3  {\"M_cell5_e\":-1, \"M_atp_c\":-2, \"M_h2o_c\":-1, \"...          1   \n",
       "4  {\"M_cell4_c\": -1,\"M_pi_c\": -1, \"M_cell3_c\": 1,...          0   \n",
       "5  {\"M_cell5_c\": -1,\"M_pi_c\": -1, \"M_cell4_c\": 1,...          0   \n",
       "6  {\"M_cell3_c\": -1,\"M_pi_c\": -1, \"M_cellb_c\": 1,...          0   \n",
       "\n",
       "                             Type  \n",
       "0                 ABC-transporter  \n",
       "1                 ABC-transporter  \n",
       "2                 ABC-transporter  \n",
       "3                 ABC-transporter  \n",
       "4  Glycosyl hydrolases Family 94   \n",
       "5  Glycosyl hydrolases Family 94   \n",
       "6  Glycosyl hydrolases Family 94   "
      ]
     },
     "execution_count": 6,
     "metadata": {},
     "output_type": "execute_result"
    }
   ],
   "source": [
    "reactions"
   ]
  },
  {
   "cell_type": "markdown",
   "id": "9fe6af47-982a-4a67-b52d-e494d80f6c11",
   "metadata": {},
   "source": [
    "**From gene string find GPR**\n",
    "\n",
    "- process gene string and find all genes\n",
    "    - For all genes: find protein ID. \n",
    "        - For each gene: Create Gene(gene_id=protein_id, name=None?)\n",
    " - Create Protein()\n",
    "     - protein.genes= list of genes\n",
    " - Create GPRAssociation()\n",
    "     - gpr.proteins = list of proteins"
   ]
  },
  {
   "cell_type": "code",
   "execution_count": 7,
   "id": "889b0a96-f5c0-47b9-bcb1-a2c9f61b643d",
   "metadata": {},
   "outputs": [],
   "source": [
    "%store -r gene_protein_map "
   ]
  },
  {
   "cell_type": "code",
   "execution_count": 8,
   "id": "dd2ac56e-dd3e-4446-8cef-65a1b03f9dbf",
   "metadata": {},
   "outputs": [
    {
     "data": {
      "text/html": [
       "<div>\n",
       "<style scoped>\n",
       "    .dataframe tbody tr th:only-of-type {\n",
       "        vertical-align: middle;\n",
       "    }\n",
       "\n",
       "    .dataframe tbody tr th {\n",
       "        vertical-align: top;\n",
       "    }\n",
       "\n",
       "    .dataframe thead th {\n",
       "        text-align: right;\n",
       "    }\n",
       "</style>\n",
       "<table border=\"1\" class=\"dataframe\">\n",
       "  <thead>\n",
       "    <tr style=\"text-align: right;\">\n",
       "      <th></th>\n",
       "      <th>Entry</th>\n",
       "      <th>Entry name</th>\n",
       "      <th>Protein names</th>\n",
       "      <th>Gene names</th>\n",
       "      <th>Cross-reference (RefSeq)</th>\n",
       "    </tr>\n",
       "  </thead>\n",
       "  <tbody>\n",
       "    <tr>\n",
       "      <th>0</th>\n",
       "      <td>B8I4G1</td>\n",
       "      <td>LEUD_RUMCH</td>\n",
       "      <td>3-isopropylmalate dehydratase small subunit (E...</td>\n",
       "      <td>leuD Ccel_0127</td>\n",
       "      <td>G_WP_012634581_1</td>\n",
       "    </tr>\n",
       "    <tr>\n",
       "      <th>1</th>\n",
       "      <td>B8I8F2</td>\n",
       "      <td>UVRC_RUMCH</td>\n",
       "      <td>UvrABC system protein C (Protein UvrC) (Excinu...</td>\n",
       "      <td>uvrC Ccel_0807</td>\n",
       "      <td>G_WP_015924347_1</td>\n",
       "    </tr>\n",
       "    <tr>\n",
       "      <th>2</th>\n",
       "      <td>B8I567</td>\n",
       "      <td>UPP_RUMCH</td>\n",
       "      <td>Uracil phosphoribosyltransferase (EC 2.4.2.9) ...</td>\n",
       "      <td>upp Ccel_0260</td>\n",
       "      <td>G_WP_012634712_1</td>\n",
       "    </tr>\n",
       "  </tbody>\n",
       "</table>\n",
       "</div>"
      ],
      "text/plain": [
       "    Entry  Entry name                                      Protein names  \\\n",
       "0  B8I4G1  LEUD_RUMCH  3-isopropylmalate dehydratase small subunit (E...   \n",
       "1  B8I8F2  UVRC_RUMCH  UvrABC system protein C (Protein UvrC) (Excinu...   \n",
       "2  B8I567   UPP_RUMCH  Uracil phosphoribosyltransferase (EC 2.4.2.9) ...   \n",
       "\n",
       "       Gene names Cross-reference (RefSeq)  \n",
       "0  leuD Ccel_0127         G_WP_012634581_1  \n",
       "1  uvrC Ccel_0807         G_WP_015924347_1  \n",
       "2   upp Ccel_0260         G_WP_012634712_1  "
      ]
     },
     "execution_count": 8,
     "metadata": {},
     "output_type": "execute_result"
    }
   ],
   "source": [
    "gene_protein_map.head(3)"
   ]
  },
  {
   "cell_type": "code",
   "execution_count": 9,
   "id": "ab1d5e1e-e70d-4465-932b-97b391206484",
   "metadata": {},
   "outputs": [],
   "source": [
    "def gene_str_to_GPR(gene_string, gene_protein_map):\n",
    "    # This is meant to be used when there is only one protein complex in the string (in other word it can only handle 'and' associations and not 'or')\n",
    "\n",
    "    genes_unfiltered = gene_string.split(' ')\n",
    "    gpr=GPRAssociation()\n",
    "    proteins=[]\n",
    "    genes = []\n",
    "\n",
    "    # Find the gene id (actually protein id, but in this case considered as gene id). If there is no ID, keep the old one. \n",
    "    i =0\n",
    "    while i<len(genes_unfiltered):\n",
    "        \n",
    "        # If the substring is a gene id\n",
    "        if genes_unfiltered[i]!='and' and genes_unfiltered[i]!='or':\n",
    "            gene = gene_protein_map.loc[gene_protein_map['Gene names'].str.contains(genes_unfiltered[i])]['Cross-reference (RefSeq)'].values[0]\n",
    "\n",
    "            # If there is a matching protein Id, add this to the gene list. \n",
    "            if type(gene)!=float:\n",
    "                genes.append(gene)\n",
    "\n",
    "            # If there is NOT a matching protein Id, add gene ID. \n",
    "            else:\n",
    "                genes.append(\"G_\" + genes_unfiltered[i])\n",
    "                \n",
    "        # If it's time to make a new protein        \n",
    "        if genes_unfiltered[i]==\"or\" or i==len(genes_unfiltered)-1:\n",
    "            # Create protein object\n",
    "            protein=Protein()\n",
    "            protein.genes=genes\n",
    "\n",
    "            # Add protein to list of proteins\n",
    "            proteins.append(protein) \n",
    "            genes=[]\n",
    "        i=i+1\n",
    "\n",
    "    gpr.proteins=proteins\n",
    "                \n",
    "    return gpr\n",
    "\n",
    " "
   ]
  },
  {
   "cell_type": "markdown",
   "id": "7f984016-374b-4a22-bff1-2b75e7726deb",
   "metadata": {},
   "source": [
    "**Create reaction objects**"
   ]
  },
  {
   "cell_type": "code",
   "execution_count": 10,
   "id": "84e70a57-ca9d-417e-abbf-32c901283cfe",
   "metadata": {},
   "outputs": [],
   "source": [
    "rxns=[]\n",
    "gprs={}\n",
    "\n",
    "for index, row in reactions.iterrows():\n",
    "    \n",
    "    reaction_id = row['Identifier']\n",
    "    name = row['Enzyme']\n",
    "    reversible = False\n",
    "    stoichiometry = json.loads(row['Stoichiometry'])\n",
    "    reaction_type = ReactionType.ENZYMATIC\n",
    "    \n",
    "    if row['Transport']==1:\n",
    "        reaction_type=ReactionType.TRANSPORT \n",
    "    \n",
    "    rxn = CBReaction(reaction_id=reaction_id, name=name, reversible=reversible, stoichiometry=stoichiometry, reaction_type=reaction_type)\n",
    "    rxns.append(rxn)\n",
    "    \n",
    "    gprs[reaction_id] = gene_str_to_GPR(row['Gene'],gene_protein_map)\n"
   ]
  },
  {
   "cell_type": "code",
   "execution_count": 11,
   "id": "abae580c-f23a-46e6-b5b9-761de80350a5",
   "metadata": {},
   "outputs": [
    {
     "data": {
      "text/plain": [
       "{'R_Cellbabc': (G_WP_015925557_1 and G_WP_015925556_1 and G_WP_015925555_1),\n",
       " 'R_cell3abc': (G_WP_015925557_1 and G_WP_015925556_1 and G_WP_015925555_1),\n",
       " 'R_cell4abc': (G_WP_015925557_1 and G_WP_015925556_1 and G_WP_015925555_1),\n",
       " 'R_cell5abc': (G_WP_015925557_1 and G_WP_015925556_1 and G_WP_015925555_1),\n",
       " 'R_CEPA3': (G_WP_015924937_1 or G_WP_015925780_1),\n",
       " 'R_CEPA4': G_WP_015924937_1,\n",
       " 'R_CEPA2': G_WP_015926752_1}"
      ]
     },
     "execution_count": 11,
     "metadata": {},
     "output_type": "execute_result"
    }
   ],
   "source": [
    "gprs"
   ]
  },
  {
   "cell_type": "markdown",
   "id": "41d9840d-b2b4-4d82-b495-0e105edb2f48",
   "metadata": {
    "tags": []
   },
   "source": [
    "### Add new metabolites and reactions to model"
   ]
  },
  {
   "cell_type": "code",
   "execution_count": 12,
   "id": "e799493a-ce5b-412b-9279-a4de3dcc2003",
   "metadata": {},
   "outputs": [],
   "source": [
    "model = reframed.load_cbmodel('model_c_H10_part2_3_1.xml')"
   ]
  },
  {
   "cell_type": "code",
   "execution_count": 13,
   "id": "5bfb9831-ea3f-4e68-bb8d-0bb3e6e65cef",
   "metadata": {},
   "outputs": [
    {
     "name": "stdout",
     "output_type": "stream",
     "text": [
      "Metabolites:\n",
      "C_c 852\n",
      "C_e 214\n",
      "C_p 184\n",
      "\n",
      "Reactions:\n",
      "enzymatic 878\n",
      "transport 424\n",
      "exchange 210\n",
      "sink 0\n",
      "other 244\n"
     ]
    }
   ],
   "source": [
    "model.summary()"
   ]
  },
  {
   "cell_type": "code",
   "execution_count": 14,
   "id": "7e338a06-11f9-4e37-8157-f05d86efefc2",
   "metadata": {},
   "outputs": [
    {
     "data": {
      "text/plain": [
       "728"
      ]
     },
     "execution_count": 14,
     "metadata": {},
     "output_type": "execute_result"
    }
   ],
   "source": [
    "len(model.genes)"
   ]
  },
  {
   "cell_type": "code",
   "execution_count": 15,
   "id": "89a54fc5-3298-4280-81f5-3c1d8c78a376",
   "metadata": {},
   "outputs": [],
   "source": [
    "for met in mets:\n",
    "    model.add_metabolite(met)"
   ]
  },
  {
   "cell_type": "code",
   "execution_count": 16,
   "id": "a646b1f2-97ea-4d77-8fa0-38beb955c73b",
   "metadata": {},
   "outputs": [],
   "source": [
    "for rxn in rxns:\n",
    "    model.add_reaction(rxn)\n",
    "    model.set_gpr_association(rxn.id,gprs[rxn.id])"
   ]
  },
  {
   "cell_type": "code",
   "execution_count": 17,
   "id": "5ddd41fd-a483-4f62-8305-7a6a570cdf1e",
   "metadata": {},
   "outputs": [
    {
     "name": "stdout",
     "output_type": "stream",
     "text": [
      "Metabolites:\n",
      "C_c 855\n",
      "C_e 217\n",
      "C_p 184\n",
      "\n",
      "Reactions:\n",
      "enzymatic 881\n",
      "transport 428\n",
      "exchange 210\n",
      "sink 0\n",
      "other 244\n"
     ]
    }
   ],
   "source": [
    "model.summary()"
   ]
  },
  {
   "cell_type": "code",
   "execution_count": 18,
   "id": "7101a07a-801e-435e-9f72-d6b17e156463",
   "metadata": {},
   "outputs": [
    {
     "data": {
      "text/plain": [
       "732"
      ]
     },
     "execution_count": 18,
     "metadata": {},
     "output_type": "execute_result"
    }
   ],
   "source": [
    "len(model.genes)"
   ]
  },
  {
   "cell_type": "markdown",
   "id": "78cb393d-8918-4b5c-806c-f8489decce68",
   "metadata": {},
   "source": [
    "### Add exchange reactions for cellodextrins"
   ]
  },
  {
   "cell_type": "code",
   "execution_count": 19,
   "id": "58909ff4-3d5a-4ed2-ae32-d520a1ece6df",
   "metadata": {},
   "outputs": [],
   "source": [
    "mets_exchange = [met.id for met in mets if met.compartment==\"C_e\"]\n",
    "rxns_exchange = []\n",
    "for met in mets_exchange:\n",
    "    rxn_id = \"R_EX_\" + met[2:]\n",
    "    name = \"Exchange of \" + model.metabolites[met].name\n",
    "    reversible=True\n",
    "    stoichiometry =OrderedDict([(met, -1.0)])\n",
    "    reaction_type = ReactionType.EXCHANGE\n",
    "    rxns_exchange.append(CBReaction(reaction_id=rxn_id, name=name, reversible=reversible, stoichiometry=stoichiometry, reaction_type=reaction_type))"
   ]
  },
  {
   "cell_type": "code",
   "execution_count": 20,
   "id": "86bae78a-45ef-42f6-b9fd-f4d3db179059",
   "metadata": {},
   "outputs": [
    {
     "data": {
      "text/plain": [
       "[R_EX_cell5_e: M_cell5_e <-> ,\n",
       " R_EX_cell4_e: M_cell4_e <-> ,\n",
       " R_EX_cell3_e: M_cell3_e <-> ]"
      ]
     },
     "execution_count": 20,
     "metadata": {},
     "output_type": "execute_result"
    }
   ],
   "source": [
    "rxns_exchange"
   ]
  },
  {
   "cell_type": "raw",
   "id": "fa14facb-6976-4daa-90ca-05bf9c0d613f",
   "metadata": {},
   "source": [
    "for rxn in rxns_exchange:\n",
    "    model.add_reaction(rxn)"
   ]
  },
  {
   "cell_type": "code",
   "execution_count": 21,
   "id": "bc106fcf-e4ea-4c2c-828b-82055082a857",
   "metadata": {},
   "outputs": [
    {
     "name": "stdout",
     "output_type": "stream",
     "text": [
      "Metabolites:\n",
      "C_c 855\n",
      "C_e 217\n",
      "C_p 184\n",
      "\n",
      "Reactions:\n",
      "enzymatic 881\n",
      "transport 428\n",
      "exchange 210\n",
      "sink 0\n",
      "other 244\n"
     ]
    }
   ],
   "source": [
    "model.summary()"
   ]
  },
  {
   "cell_type": "markdown",
   "id": "01d5b875-de3f-40aa-ac89-39a656a847be",
   "metadata": {},
   "source": [
    "## Verifying that new reactions can carry flux with FVA"
   ]
  },
  {
   "cell_type": "markdown",
   "id": "454e0416-3744-4207-bd83-b79ad1059844",
   "metadata": {},
   "source": [
    "**Creating an environment from all exchange reactions in the model.**"
   ]
  },
  {
   "cell_type": "code",
   "execution_count": 22,
   "id": "1b0ae04b-5a01-4917-97e9-68b844413fee",
   "metadata": {},
   "outputs": [],
   "source": [
    "env = Environment.complete(model, max_uptake=10)"
   ]
  },
  {
   "cell_type": "code",
   "execution_count": 23,
   "id": "9f59bc91-b61d-450a-b349-3a5f5c20c171",
   "metadata": {},
   "outputs": [],
   "source": [
    "all_rxns= rxns_exchange + rxns\n",
    "rxn_ids = [rxn.id for rxn in all_rxns]"
   ]
  },
  {
   "cell_type": "markdown",
   "id": "6e02fe4b-ce5f-4812-b2c0-948dd8447baa",
   "metadata": {},
   "source": [
    "**Predict flux with all exchange reactions open** "
   ]
  },
  {
   "cell_type": "code",
   "execution_count": 24,
   "id": "19ec0eab-1a32-4b94-9d87-304581d764e6",
   "metadata": {},
   "outputs": [
    {
     "name": "stderr",
     "output_type": "stream",
     "text": [
      "/Users/idunmariaburgos/opt/anaconda3/envs/RecAndAn/lib/python3.7/site-packages/reframed/solvers/cplex_solver.py:252: UserWarning: Objective variable not previously declared: R_EX_cell5_e\n",
      "  warn(f\"Objective variable not previously declared: {r_id}\")\n",
      "/Users/idunmariaburgos/opt/anaconda3/envs/RecAndAn/lib/python3.7/site-packages/reframed/solvers/cplex_solver.py:252: UserWarning: Objective variable not previously declared: R_EX_cell4_e\n",
      "  warn(f\"Objective variable not previously declared: {r_id}\")\n",
      "/Users/idunmariaburgos/opt/anaconda3/envs/RecAndAn/lib/python3.7/site-packages/reframed/solvers/cplex_solver.py:252: UserWarning: Objective variable not previously declared: R_EX_cell3_e\n",
      "  warn(f\"Objective variable not previously declared: {r_id}\")\n"
     ]
    }
   ],
   "source": [
    "sol = FVA(model,constraints=env, reactions= rxn_ids)"
   ]
  },
  {
   "cell_type": "code",
   "execution_count": 25,
   "id": "f3297e39-4906-458d-9b20-ab1747f74522",
   "metadata": {},
   "outputs": [
    {
     "data": {
      "text/plain": [
       "{'R_EX_cell5_e': [0.0, 0.0],\n",
       " 'R_EX_cell4_e': [0.0, 0.0],\n",
       " 'R_EX_cell3_e': [0.0, 0.0],\n",
       " 'R_Cellbabc': [0.0, 10.0],\n",
       " 'R_cell3abc': [0.0, 0.0],\n",
       " 'R_cell4abc': [0.0, 0.0],\n",
       " 'R_cell5abc': [0.0, 0.0],\n",
       " 'R_CEPA3': [0.0, 0.0],\n",
       " 'R_CEPA4': [0.0, 0.0],\n",
       " 'R_CEPA2': [0.0, 0.0]}"
      ]
     },
     "execution_count": 25,
     "metadata": {},
     "output_type": "execute_result"
    }
   ],
   "source": [
    "sol"
   ]
  },
  {
   "cell_type": "markdown",
   "id": "424fc3cd-ed52-46d0-b905-3042bf678948",
   "metadata": {
    "tags": []
   },
   "source": [
    "## Checking if genes included are involved in other enzymatic reactions"
   ]
  },
  {
   "cell_type": "code",
   "execution_count": 26,
   "id": "718ca0fa-4a88-482c-aa96-31d7188d7e8f",
   "metadata": {},
   "outputs": [],
   "source": [
    "genes = [rxn.get_genes() for rxn in rxns]\n",
    "    "
   ]
  },
  {
   "cell_type": "code",
   "execution_count": 27,
   "id": "98afe817-300c-441d-bb1c-9b28c12b94d9",
   "metadata": {},
   "outputs": [],
   "source": [
    "genes_flat = list(set([item for sublist in genes for item in sublist]))"
   ]
  },
  {
   "cell_type": "code",
   "execution_count": 28,
   "id": "0d1f388c-51e2-4a38-8417-273ad8fcdefd",
   "metadata": {},
   "outputs": [
    {
     "data": {
      "text/plain": [
       "['G_WP_015925555_1',\n",
       " 'G_WP_015926752_1',\n",
       " 'G_WP_015925557_1',\n",
       " 'G_WP_015925780_1',\n",
       " 'G_WP_015924937_1',\n",
       " 'G_WP_015925556_1']"
      ]
     },
     "execution_count": 28,
     "metadata": {},
     "output_type": "execute_result"
    }
   ],
   "source": [
    "genes_flat"
   ]
  },
  {
   "cell_type": "code",
   "execution_count": 29,
   "id": "6d279239-8067-4a28-99c2-2af2930b48e5",
   "metadata": {},
   "outputs": [
    {
     "name": "stdout",
     "output_type": "stream",
     "text": [
      "Gene: G_WP_015925555_1, Reactions: ['R_ARBabc', 'R_Cellbabc', 'R_cell3abc', 'R_cell4abc', 'R_cell5abc']\n",
      "Gene: G_WP_015926752_1, Reactions: ['R_CEPA2']\n",
      "Gene: G_WP_015925557_1, Reactions: ['R_Cellbabc', 'R_cell3abc', 'R_cell4abc', 'R_cell5abc']\n",
      "Gene: G_WP_015925780_1, Reactions: ['R_CEPA3']\n",
      "Gene: G_WP_015924937_1, Reactions: ['R_CEPA3', 'R_CEPA4']\n",
      "Gene: G_WP_015925556_1, Reactions: ['R_ARBabc', 'R_Cellbabc', 'R_cell3abc', 'R_cell4abc', 'R_cell5abc']\n"
     ]
    }
   ],
   "source": [
    "gene_reaction_dict= {}\n",
    "for gene in genes_flat:\n",
    "    try:\n",
    "        print(\"Gene: \" + gene + \", Reactions: \" +  str(model.gene_to_reaction_lookup()[gene]))\n",
    "        gene_reaction_dict[gene]=model.gene_to_reaction_lookup()[gene]\n",
    "    except:\n",
    "        print(\"Gene: \" + gene + \" not in model \")"
   ]
  },
  {
   "cell_type": "code",
   "execution_count": 30,
   "id": "1c7f21e3-dace-4c44-a51a-41e49a3fb0e4",
   "metadata": {},
   "outputs": [],
   "source": [
    "def prGreen(skk): print(\"\\033[92m {}\\033[00m\" .format(skk))"
   ]
  },
  {
   "cell_type": "code",
   "execution_count": 31,
   "id": "d6a05591-1a95-41f3-bd32-2ed5e4b7e93c",
   "metadata": {},
   "outputs": [
    {
     "name": "stdout",
     "output_type": "stream",
     "text": [
      "Green reactions are the reactions that were included in this Jupyter Notebook\n",
      "\n",
      "Gene: G_WP_015925555_1\n",
      "  R_ARBabc: M_arab__L_e + M_atp_c + M_h2o_c --> M_adp_c + M_arab__L_c + M_h_c + M_pi_c\n",
      "\u001b[92m  R_Cellbabc: M_cellb_e + 2 M_atp_c + M_h2o_c --> M_cellb_c + 2 M_adp_c + M_h_c + 2 M_pi_c\u001b[00m\n",
      "\u001b[92m  R_cell3abc: M_cell3_e + 2 M_atp_c + M_h2o_c --> M_cell3_c + 2 M_adp_c + M_h_c + 2 M_pi_c\u001b[00m\n",
      "\u001b[92m  R_cell4abc: M_cell4_e + 2 M_atp_c + M_h2o_c --> M_cell4_c + 2 M_adp_c + M_h_c + 2 M_pi_c\u001b[00m\n",
      "\u001b[92m  R_cell5abc: M_cell5_e + 2 M_atp_c + M_h2o_c --> M_cell5_c + 2 M_adp_c + M_h_c + 2 M_pi_c\u001b[00m\n",
      "Gene: G_WP_015926752_1\n",
      "\u001b[92m  R_CEPA2: M_cell3_c + M_pi_c --> M_cellb_c + M_g1p_c\u001b[00m\n",
      "Gene: G_WP_015925557_1\n",
      "\u001b[92m  R_Cellbabc: M_cellb_e + 2 M_atp_c + M_h2o_c --> M_cellb_c + 2 M_adp_c + M_h_c + 2 M_pi_c\u001b[00m\n",
      "\u001b[92m  R_cell3abc: M_cell3_e + 2 M_atp_c + M_h2o_c --> M_cell3_c + 2 M_adp_c + M_h_c + 2 M_pi_c\u001b[00m\n",
      "\u001b[92m  R_cell4abc: M_cell4_e + 2 M_atp_c + M_h2o_c --> M_cell4_c + 2 M_adp_c + M_h_c + 2 M_pi_c\u001b[00m\n",
      "\u001b[92m  R_cell5abc: M_cell5_e + 2 M_atp_c + M_h2o_c --> M_cell5_c + 2 M_adp_c + M_h_c + 2 M_pi_c\u001b[00m\n",
      "Gene: G_WP_015925780_1\n",
      "\u001b[92m  R_CEPA3: M_cell4_c + M_pi_c --> M_cell3_c + M_g1p_c\u001b[00m\n",
      "Gene: G_WP_015924937_1\n",
      "\u001b[92m  R_CEPA3: M_cell4_c + M_pi_c --> M_cell3_c + M_g1p_c\u001b[00m\n",
      "\u001b[92m  R_CEPA4: M_cell5_c + M_pi_c --> M_cell4_c + M_g1p_c\u001b[00m\n",
      "Gene: G_WP_015925556_1\n",
      "  R_ARBabc: M_arab__L_e + M_atp_c + M_h2o_c --> M_adp_c + M_arab__L_c + M_h_c + M_pi_c\n",
      "\u001b[92m  R_Cellbabc: M_cellb_e + 2 M_atp_c + M_h2o_c --> M_cellb_c + 2 M_adp_c + M_h_c + 2 M_pi_c\u001b[00m\n",
      "\u001b[92m  R_cell3abc: M_cell3_e + 2 M_atp_c + M_h2o_c --> M_cell3_c + 2 M_adp_c + M_h_c + 2 M_pi_c\u001b[00m\n",
      "\u001b[92m  R_cell4abc: M_cell4_e + 2 M_atp_c + M_h2o_c --> M_cell4_c + 2 M_adp_c + M_h_c + 2 M_pi_c\u001b[00m\n",
      "\u001b[92m  R_cell5abc: M_cell5_e + 2 M_atp_c + M_h2o_c --> M_cell5_c + 2 M_adp_c + M_h_c + 2 M_pi_c\u001b[00m\n"
     ]
    }
   ],
   "source": [
    "print(\"Green reactions are the reactions that were included in this Jupyter Notebook\\n\")\n",
    "for key in gene_reaction_dict.keys():\n",
    "    print(\"Gene: \" + key)\n",
    "    for rxn in gene_reaction_dict[key]:\n",
    "        if rxn in rxn_ids:\n",
    "            prGreen(\" \" + str(model.reactions[rxn]))\n",
    "        else:\n",
    "            print(\"  \" + str(model.reactions[rxn]))"
   ]
  },
  {
   "cell_type": "code",
   "execution_count": 41,
   "id": "5a8f0a04-7f3f-46cb-aa15-c18cb13be6cf",
   "metadata": {},
   "outputs": [
    {
     "data": {
      "text/plain": [
       "(G_WP_242651738_1 or (G_WP_012634654_1 and G_WP_015926592_1) or (G_WP_015924545_1 and G_WP_015924646_1))"
      ]
     },
     "execution_count": 41,
     "metadata": {},
     "output_type": "execute_result"
    }
   ],
   "source": [
    "model.reactions.R_GLCabc.gpr"
   ]
  },
  {
   "cell_type": "code",
   "execution_count": 46,
   "id": "62154836-9ee7-4888-ac4d-9db86eaceb5e",
   "metadata": {},
   "outputs": [
    {
     "data": {
      "text/plain": [
       "(G_WP_015925555_1 and G_WP_015925556_1)"
      ]
     },
     "execution_count": 46,
     "metadata": {},
     "output_type": "execute_result"
    }
   ],
   "source": [
    "model.reactions.R_ARBabc.gpr"
   ]
  },
  {
   "cell_type": "markdown",
   "id": "176da293-1227-4872-abbb-c73abcb7c4f6",
   "metadata": {
    "tags": []
   },
   "source": [
    "## <span style=\"color: blue;\">Summary </span>"
   ]
  },
  {
   "cell_type": "code",
   "execution_count": 32,
   "id": "b2222a05-f421-4f3f-9736-598f4ddd9d51",
   "metadata": {},
   "outputs": [],
   "source": [
    "model.update()"
   ]
  },
  {
   "cell_type": "code",
   "execution_count": 33,
   "id": "34c28c8b-d704-4695-9463-5c77e00fb80b",
   "metadata": {},
   "outputs": [],
   "source": [
    "model.id = \"model_c_H10_part3_1_1\""
   ]
  },
  {
   "cell_type": "code",
   "execution_count": 34,
   "id": "a210d8f4-bd54-4b71-bf44-4de9dff1c73f",
   "metadata": {},
   "outputs": [],
   "source": [
    "reframed.save_cbmodel(model,filename=\"model_c_H10_part3_1_1.xml\")"
   ]
  },
  {
   "cell_type": "code",
   "execution_count": 35,
   "id": "ce0becf4-5a53-438a-87ee-9830adc895eb",
   "metadata": {},
   "outputs": [],
   "source": [
    "model_new = reframed.load_cbmodel('model_c_H10_part3_1_1.xml')"
   ]
  },
  {
   "cell_type": "code",
   "execution_count": 36,
   "id": "d47dd6ec-4e7a-45ad-9281-eb1dd02d45a1",
   "metadata": {},
   "outputs": [],
   "source": [
    "model_prev = reframed.load_cbmodel('model_cellulolyticum_H10.xml')"
   ]
  },
  {
   "cell_type": "code",
   "execution_count": 37,
   "id": "9fdf4357-b8f0-4531-b16a-827db4d42603",
   "metadata": {},
   "outputs": [],
   "source": [
    "models_dict={model.id:{} for model in [model_new,model_prev]}\n",
    "models_rxn_dict={model.id:{} for model in [model_new,model_prev]}\n",
    "for model in [model,model_prev]:\n",
    "    models_dict[model.id]['Reactions']=len(model.reactions)\n",
    "    models_dict[model.id]['Metabolites']=len(model.metabolites)\n",
    "    models_dict[model.id]['Genes']=len(model.genes)\n",
    "    \n",
    "    models_rxn_dict[model.id]['Enzymatic']=len(model.get_reactions_by_type(reframed.ReactionType.ENZYMATIC))\n",
    "    models_rxn_dict[model.id]['Exchange']=len(model.get_reactions_by_type(reframed.ReactionType.EXCHANGE))\n",
    "    models_rxn_dict[model.id]['Transport']=len(model.get_reactions_by_type(reframed.ReactionType.TRANSPORT))\n",
    "    models_rxn_dict[model.id]['Sink']=len(model.get_reactions_by_type(reframed.ReactionType.SINK))\n",
    "    models_rxn_dict[model.id]['Other']=len(model.get_reactions_by_type(reframed.ReactionType.OTHER))\n",
    "    "
   ]
  },
  {
   "cell_type": "markdown",
   "id": "5d48caf0-654b-4bc0-93e8-0f653e1184e3",
   "metadata": {},
   "source": [
    "**Overview models**"
   ]
  },
  {
   "cell_type": "code",
   "execution_count": 38,
   "id": "aceb678f-d11e-40d8-9fd9-f17a8ba37338",
   "metadata": {},
   "outputs": [
    {
     "data": {
      "text/html": [
       "<div>\n",
       "<style scoped>\n",
       "    .dataframe tbody tr th:only-of-type {\n",
       "        vertical-align: middle;\n",
       "    }\n",
       "\n",
       "    .dataframe tbody tr th {\n",
       "        vertical-align: top;\n",
       "    }\n",
       "\n",
       "    .dataframe thead th {\n",
       "        text-align: right;\n",
       "    }\n",
       "</style>\n",
       "<table border=\"1\" class=\"dataframe\">\n",
       "  <thead>\n",
       "    <tr style=\"text-align: right;\">\n",
       "      <th></th>\n",
       "      <th>model_c_H10_part3_1_1</th>\n",
       "      <th>model_cellulolyticum_H10</th>\n",
       "    </tr>\n",
       "  </thead>\n",
       "  <tbody>\n",
       "    <tr>\n",
       "      <th>Reactions</th>\n",
       "      <td>1763</td>\n",
       "      <td>1811</td>\n",
       "    </tr>\n",
       "    <tr>\n",
       "      <th>Metabolites</th>\n",
       "      <td>1256</td>\n",
       "      <td>1250</td>\n",
       "    </tr>\n",
       "    <tr>\n",
       "      <th>Genes</th>\n",
       "      <td>732</td>\n",
       "      <td>733</td>\n",
       "    </tr>\n",
       "  </tbody>\n",
       "</table>\n",
       "</div>"
      ],
      "text/plain": [
       "             model_c_H10_part3_1_1  model_cellulolyticum_H10\n",
       "Reactions                     1763                      1811\n",
       "Metabolites                   1256                      1250\n",
       "Genes                          732                       733"
      ]
     },
     "execution_count": 38,
     "metadata": {},
     "output_type": "execute_result"
    }
   ],
   "source": [
    "pd.DataFrame(models_dict)"
   ]
  },
  {
   "cell_type": "markdown",
   "id": "05ce1bd2-d1b8-425f-aa15-f24dc377f11e",
   "metadata": {},
   "source": [
    "**Overview reactions in models**"
   ]
  },
  {
   "cell_type": "code",
   "execution_count": 39,
   "id": "6e21c733-ca3c-44a8-8a14-d11b32a9407b",
   "metadata": {},
   "outputs": [
    {
     "data": {
      "text/html": [
       "<div>\n",
       "<style scoped>\n",
       "    .dataframe tbody tr th:only-of-type {\n",
       "        vertical-align: middle;\n",
       "    }\n",
       "\n",
       "    .dataframe tbody tr th {\n",
       "        vertical-align: top;\n",
       "    }\n",
       "\n",
       "    .dataframe thead th {\n",
       "        text-align: right;\n",
       "    }\n",
       "</style>\n",
       "<table border=\"1\" class=\"dataframe\">\n",
       "  <thead>\n",
       "    <tr style=\"text-align: right;\">\n",
       "      <th></th>\n",
       "      <th>model_c_H10_part3_1_1</th>\n",
       "      <th>model_cellulolyticum_H10</th>\n",
       "    </tr>\n",
       "  </thead>\n",
       "  <tbody>\n",
       "    <tr>\n",
       "      <th>Enzymatic</th>\n",
       "      <td>881</td>\n",
       "      <td>883</td>\n",
       "    </tr>\n",
       "    <tr>\n",
       "      <th>Exchange</th>\n",
       "      <td>210</td>\n",
       "      <td>210</td>\n",
       "    </tr>\n",
       "    <tr>\n",
       "      <th>Transport</th>\n",
       "      <td>428</td>\n",
       "      <td>475</td>\n",
       "    </tr>\n",
       "    <tr>\n",
       "      <th>Sink</th>\n",
       "      <td>0</td>\n",
       "      <td>0</td>\n",
       "    </tr>\n",
       "    <tr>\n",
       "      <th>Other</th>\n",
       "      <td>244</td>\n",
       "      <td>243</td>\n",
       "    </tr>\n",
       "  </tbody>\n",
       "</table>\n",
       "</div>"
      ],
      "text/plain": [
       "           model_c_H10_part3_1_1  model_cellulolyticum_H10\n",
       "Enzymatic                    881                       883\n",
       "Exchange                     210                       210\n",
       "Transport                    428                       475\n",
       "Sink                           0                         0\n",
       "Other                        244                       243"
      ]
     },
     "execution_count": 39,
     "metadata": {},
     "output_type": "execute_result"
    }
   ],
   "source": [
    "pd.DataFrame(models_rxn_dict)"
   ]
  }
 ],
 "metadata": {
  "kernelspec": {
   "display_name": "RecAndAn",
   "language": "python",
   "name": "recandan"
  },
  "language_info": {
   "codemirror_mode": {
    "name": "ipython",
    "version": 3
   },
   "file_extension": ".py",
   "mimetype": "text/x-python",
   "name": "python",
   "nbconvert_exporter": "python",
   "pygments_lexer": "ipython3",
   "version": "3.7.13"
  }
 },
 "nbformat": 4,
 "nbformat_minor": 5
}
