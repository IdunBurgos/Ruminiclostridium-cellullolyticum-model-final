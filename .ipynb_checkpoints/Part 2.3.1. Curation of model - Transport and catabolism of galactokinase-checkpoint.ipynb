{
 "cells": [
  {
   "cell_type": "markdown",
   "id": "a1f243d8-30e1-4727-be15-6fc67cddd62e",
   "metadata": {},
   "source": [
    "# <span style=\"color: blue;\">Part 2.3.1: Curation of model - Transport and catabolism of galactokinase</span>"
   ]
  },
  {
   "cell_type": "code",
   "execution_count": 256,
   "id": "8fa10fad-2764-47cc-932b-37f87822bd47",
   "metadata": {},
   "outputs": [],
   "source": [
    "import reframed\n",
    "import pandas as pd\n",
    "import copy"
   ]
  },
  {
   "cell_type": "code",
   "execution_count": 257,
   "id": "ee51f3f4-95d2-4d45-9f59-cf19a47ca369",
   "metadata": {},
   "outputs": [],
   "source": [
    "model = reframed.load_cbmodel('model_c_H10_part2_2_1.xml')"
   ]
  },
  {
   "cell_type": "code",
   "execution_count": 258,
   "id": "ec146d21-cd55-4491-a723-08bda39b9ccf",
   "metadata": {},
   "outputs": [],
   "source": [
    "model_universe = reframed.load_cbmodel('bigg_universe.xml')"
   ]
  },
  {
   "cell_type": "markdown",
   "id": "cb9c9f12-9d81-4812-a938-892c1e9ef374",
   "metadata": {
    "tags": []
   },
   "source": [
    "### <span style=\"color: blue;\">False positive on galactose - Galactokinase (Ccel_3228/G_WP_015926586_1) (This will be handled along with the curation of the transporters) </span>"
   ]
  },
  {
   "cell_type": "markdown",
   "id": "cfe9b8ce-ebfb-4e3d-98e2-f1c22413528d",
   "metadata": {},
   "source": [
    "<span style=\"color: red;\"> **Do something about this?** The protein for galactokinase is involved in two very similar reactions (probably duplicates of each other)</span>\n",
    "- R_GALK2: M_a_gal__D_c + M_atp_c --> M_adp_c + M_gal1p_c + M_h_c: G_WP_015926586_1\n",
    "- R_GALKr: M_atp_c + M_gal_c <-> M_adp_c + M_gal1p_c + M_h_c: G_WP_015926586_1 \n",
    "\n",
    "**False positive on galactose (This will be handled along with the curation of the transporters)**\n",
    "- Model is catabolizing the galactose with the PTS system, thereby bypassing galactokinase. \n",
    "    - R_GALpts: M_gal_e + M_pep_c <-> M_dgal6p_c + M_pyr_c: G_WP_015924346_1\n",
    "    "
   ]
  },
  {
   "cell_type": "markdown",
   "id": "eb236785-b22c-4be6-9752-c4c854fa88b2",
   "metadata": {
    "tags": []
   },
   "source": [
    "## <span style=\"color: blue;\"> B: Transport reactions - PTS and ABC</span>"
   ]
  },
  {
   "cell_type": "markdown",
   "id": "6870f526-1e6c-4bc8-96f7-16390af62737",
   "metadata": {},
   "source": [
    "**Galactokinase (Ccel_3238/G_WP_015926586_1):** \n",
    "\n",
    "- **False positive on galactose (This will be handled along with the curation of the transporters)**\n",
    "    - Model is catabolizing the galactose with the PTS system, thereby bypassing galactokinase. \n",
    "        - R_GALpts: M_gal_e + M_pep_c <-> M_dgal6p_c + M_pyr_c: G_WP_015924346_1"
   ]
  },
  {
   "cell_type": "markdown",
   "id": "1ceacd9b-2236-4ed2-a614-daadd17b6d5b",
   "metadata": {},
   "source": [
    "There are several transport reactions for sugars in the model. The question is if they are correctly represented. According to Fosses et al. (2017) there are no genes for the PTS system in R. cellulolyticum, but ABC transporters are very active for the bacterium. Only the ABC transporter of xyloglucan oligosaccharides and cellulose have been studied. \n",
    "\n",
    "\n",
    "Fosses, A., Maté, M., Franche, N. et al. A seven-gene cluster in Ruminiclostridium cellulolyticum is essential for signalization, uptake and catabolism of the degradation products of cellulose hydrolysis. Biotechnol Biofuels 10, 250 (2017). https://doi.org/10.1186/s13068-017-0933-7"
   ]
  },
  {
   "cell_type": "code",
   "execution_count": 259,
   "id": "06842d75-8871-48a9-8c70-b9e48f3de70a",
   "metadata": {},
   "outputs": [],
   "source": [
    "%store -r gene_protein_map"
   ]
  },
  {
   "cell_type": "markdown",
   "id": "1f8c3226-3ab3-4e77-b6f3-7f332eda38d0",
   "metadata": {},
   "source": [
    "**Find all transport reactions for sugars**"
   ]
  },
  {
   "cell_type": "code",
   "execution_count": 260,
   "id": "e378af99-0db3-4cdd-822c-5fd9aeb59d03",
   "metadata": {},
   "outputs": [],
   "source": [
    "def transport_rxn_dict(model):   \n",
    "    mets_short = ['arab__L_', 'glc__D_','cellb_','gal_','xyl__D_', 'man_']\n",
    "    all_met_ids = [met for met in model.metabolites]\n",
    "\n",
    "\n",
    "    mets_transport_rxns = {met:[] for met in mets_short} # A dictionary carrying all transport reactions for each metabolite\n",
    "    for met_short in mets_short:\n",
    "        # Find all metabolites that have the main part of the met id\n",
    "        mets_long = [s for s in all_met_ids if met_short in s]\n",
    "\n",
    "        # For all of these mets, find reactions\n",
    "        for met in mets_long:\n",
    "            met_rxns = model.get_metabolite_reactions(met)\n",
    "\n",
    "            # For every reaction check if it is a transport reaction. \n",
    "            for met_rxn in met_rxns:\n",
    "                if model.reactions[met_rxn].reaction_type==reframed.ReactionType.TRANSPORT:\n",
    "                    mets_transport_rxns[met_short].append(model.reactions[met_rxn])\n",
    "                    \n",
    "                    \n",
    "    return mets_transport_rxns"
   ]
  },
  {
   "cell_type": "code",
   "execution_count": 261,
   "id": "a94e98b8-b6f6-4c47-9460-bdbb8129307f",
   "metadata": {},
   "outputs": [],
   "source": [
    "mets_transport_rxns = transport_rxn_dict(model)"
   ]
  },
  {
   "cell_type": "markdown",
   "id": "889b8a0d-5043-4f39-84c2-9621d8ad5175",
   "metadata": {},
   "source": [
    "**Transport reactions for arabinose - All proteins are related to ABC transporters**"
   ]
  },
  {
   "cell_type": "code",
   "execution_count": 262,
   "id": "2360976b-814e-47e9-9e9e-499c06855575",
   "metadata": {},
   "outputs": [
    {
     "name": "stdout",
     "output_type": "stream",
     "text": [
      "R_ARBabcpp: M_arab__L_p + M_atp_c + M_h2o_c --> M_adp_c + M_arab__L_c + M_h_c + M_pi_c: None\n",
      "R_ARBabc: M_arab__L_e + M_atp_c + M_h2o_c --> M_adp_c + M_arab__L_c + M_h_c + M_pi_c: (G_WP_015925555_1 and G_WP_015925556_1)\n",
      "R_ARBt2r: M_arab__L_e + M_h_e --> M_arab__L_c + M_h_c: G_WP_041706401_1\n",
      "R_ARBt3ipp: M_arab__L_c + M_h_p --> M_arab__L_p + M_h_c: G_WP_015924438_1\n"
     ]
    }
   ],
   "source": [
    "for rxn in set(mets_transport_rxns['arab__L_']):\n",
    "    print(str(rxn) + \": \" + str(rxn.gpr))"
   ]
  },
  {
   "cell_type": "markdown",
   "id": "74c9d624-66d0-4f53-a2ea-28cf62793a1e",
   "metadata": {},
   "source": [
    "***G_WP_041706401_1*** is related to ABC transporter according [annotation in NCBI](https://www.ncbi.nlm.nih.gov/protein/WP_041706401.1?report=genpept#locus_754061182). \n",
    "\n",
    "Looking at the annotation data from CarveMe we see that the protein has similarity with P_CD630_25490 from *Clostridioides difficile* (strain 630) (Peptoclostridium difficile). In [UniProt it is annotated as a part of an ABC transporter](https://www.uniprot.org/uniprotkb/Q182N6/entry), however, indicating that the annoation in the *C. difficile* model is also incorrect.\n"
   ]
  },
  {
   "cell_type": "code",
   "execution_count": 263,
   "id": "80f9c60e-fec8-443a-8f0a-c06d5b010f81",
   "metadata": {},
   "outputs": [
    {
     "data": {
      "text/html": [
       "<div>\n",
       "<style scoped>\n",
       "    .dataframe tbody tr th:only-of-type {\n",
       "        vertical-align: middle;\n",
       "    }\n",
       "\n",
       "    .dataframe tbody tr th {\n",
       "        vertical-align: top;\n",
       "    }\n",
       "\n",
       "    .dataframe thead th {\n",
       "        text-align: right;\n",
       "    }\n",
       "</style>\n",
       "<table border=\"1\" class=\"dataframe\">\n",
       "  <thead>\n",
       "    <tr style=\"text-align: right;\">\n",
       "      <th></th>\n",
       "      <th>Entry</th>\n",
       "      <th>Entry name</th>\n",
       "      <th>Protein names</th>\n",
       "      <th>Gene names</th>\n",
       "      <th>Cross-reference (RefSeq)</th>\n",
       "    </tr>\n",
       "  </thead>\n",
       "  <tbody>\n",
       "  </tbody>\n",
       "</table>\n",
       "</div>"
      ],
      "text/plain": [
       "Empty DataFrame\n",
       "Columns: [Entry, Entry name, Protein names, Gene names, Cross-reference (RefSeq)]\n",
       "Index: []"
      ]
     },
     "execution_count": 263,
     "metadata": {},
     "output_type": "execute_result"
    }
   ],
   "source": [
    "gene_protein_map[gene_protein_map['Cross-reference (RefSeq)']=='G_WP_041706401_1']"
   ]
  },
  {
   "cell_type": "markdown",
   "id": "c1001430-ead5-45e3-9005-e2e34681eb04",
   "metadata": {},
   "source": [
    "It is connected to many other reactions that are not ABC transporters. "
   ]
  },
  {
   "cell_type": "code",
   "execution_count": 264,
   "id": "681d834c-f6cc-4217-8d60-c274fbbde2ea",
   "metadata": {},
   "outputs": [
    {
     "name": "stdout",
     "output_type": "stream",
     "text": [
      "R_ACNAMt2: M_acnam_e + M_h_e --> M_acnam_c + M_h_c: G_WP_041706401_1\n",
      "R_ARBt2r: M_arab__L_e + M_h_e --> M_arab__L_c + M_h_c: G_WP_041706401_1\n",
      "R_CELBt2: M_cellb_e + M_h_e --> M_cellb_c + M_h_c: G_WP_041706401_1\n",
      "R_GALt2_3: M_gal_bD_e + M_h_e --> M_gal_bD_c + M_h_c: G_WP_041706401_1\n",
      "R_GLCAt2: M_glc__aD_e + M_h_e --> M_glc__aD_c + M_h_c: G_WP_041706401_1\n",
      "R_MALTabc: M_atp_c + M_h2o_c + M_malt_e --> M_adp_c + M_h_c + M_malt_c + M_pi_c: (G_WP_015924545_1 or G_WP_015925560_1 or G_WP_015926270_1 or G_WP_242651738_1 or (G_WP_012634654_1 and G_WP_015926592_1) or (G_WP_015924545_1 and G_WP_015924646_1) or (G_WP_015924647_1 and G_WP_041706401_1 and G_WP_041707075_1))\n",
      "R_MALTt2: M_h_e + M_malt_e --> M_h_c + M_malt_c: G_WP_041706401_1\n",
      "R_MANt2: M_h_e + M_man_e --> M_h_c + M_man_c: (G_WP_015925129_1 or G_WP_041706401_1)\n",
      "R_SBTt2: M_h_e + M_sbt__D_e --> M_h_c + M_sbt__D_c: G_WP_041706401_1\n",
      "R_SUCRt2: M_h_e + M_sucr_e --> M_h_c + M_sucr_c: G_WP_041706401_1\n",
      "R_XYLt2: M_h_e + M_xyl__D_e --> M_h_c + M_xyl__D_c: G_WP_041706401_1\n"
     ]
    }
   ],
   "source": [
    "for rxn in model.gene_to_reaction_lookup()['G_WP_041706401_1']:\n",
    "    print(str(model.reactions[rxn])+\": \"+str(model.reactions[rxn].gpr))"
   ]
  },
  {
   "cell_type": "markdown",
   "id": "595dbec4-6efd-48b7-8fd1-40058eadf931",
   "metadata": {},
   "source": [
    "***G_WP_015924438_1*** Seems to be related to [sugar efflux transporter in Klebsiella pneumoniae subsp. pneumoniae (strain ATCC 700721 / MGH 78578)](https://www.uniprot.org/uniprotkb?query=KPN_01628)"
   ]
  },
  {
   "cell_type": "code",
   "execution_count": 265,
   "id": "5408f2d3-cd57-4adb-bd84-b4895f7fb364",
   "metadata": {},
   "outputs": [
    {
     "data": {
      "text/html": [
       "<div>\n",
       "<style scoped>\n",
       "    .dataframe tbody tr th:only-of-type {\n",
       "        vertical-align: middle;\n",
       "    }\n",
       "\n",
       "    .dataframe tbody tr th {\n",
       "        vertical-align: top;\n",
       "    }\n",
       "\n",
       "    .dataframe thead th {\n",
       "        text-align: right;\n",
       "    }\n",
       "</style>\n",
       "<table border=\"1\" class=\"dataframe\">\n",
       "  <thead>\n",
       "    <tr style=\"text-align: right;\">\n",
       "      <th></th>\n",
       "      <th>Entry</th>\n",
       "      <th>Entry name</th>\n",
       "      <th>Protein names</th>\n",
       "      <th>Gene names</th>\n",
       "      <th>Cross-reference (RefSeq)</th>\n",
       "    </tr>\n",
       "  </thead>\n",
       "  <tbody>\n",
       "    <tr>\n",
       "      <th>991</th>\n",
       "      <td>B8I8P7</td>\n",
       "      <td>B8I8P7_RUMCH</td>\n",
       "      <td>Major facilitator superfamily MFS_1</td>\n",
       "      <td>Ccel_0908</td>\n",
       "      <td>G_WP_015924438_1</td>\n",
       "    </tr>\n",
       "  </tbody>\n",
       "</table>\n",
       "</div>"
      ],
      "text/plain": [
       "      Entry    Entry name                        Protein names Gene names  \\\n",
       "991  B8I8P7  B8I8P7_RUMCH  Major facilitator superfamily MFS_1  Ccel_0908   \n",
       "\n",
       "    Cross-reference (RefSeq)  \n",
       "991         G_WP_015924438_1  "
      ]
     },
     "execution_count": 265,
     "metadata": {},
     "output_type": "execute_result"
    }
   ],
   "source": [
    "gene_protein_map[gene_protein_map['Cross-reference (RefSeq)']=='G_WP_015924438_1']"
   ]
  },
  {
   "cell_type": "markdown",
   "id": "96afa13b-768c-43f3-8fcb-07541f39f1c9",
   "metadata": {},
   "source": [
    "***G_WP_015925555_1*** Also seems to be related to an [ABC transporter from *B. subtilis*](https://www.uniprot.org/uniprotkb?query=BSU28750). "
   ]
  },
  {
   "cell_type": "code",
   "execution_count": 266,
   "id": "62721ae0-5333-4c26-a06c-0bafab725943",
   "metadata": {},
   "outputs": [
    {
     "data": {
      "text/html": [
       "<div>\n",
       "<style scoped>\n",
       "    .dataframe tbody tr th:only-of-type {\n",
       "        vertical-align: middle;\n",
       "    }\n",
       "\n",
       "    .dataframe tbody tr th {\n",
       "        vertical-align: top;\n",
       "    }\n",
       "\n",
       "    .dataframe thead th {\n",
       "        text-align: right;\n",
       "    }\n",
       "</style>\n",
       "<table border=\"1\" class=\"dataframe\">\n",
       "  <thead>\n",
       "    <tr style=\"text-align: right;\">\n",
       "      <th></th>\n",
       "      <th>Entry</th>\n",
       "      <th>Entry name</th>\n",
       "      <th>Protein names</th>\n",
       "      <th>Gene names</th>\n",
       "      <th>Cross-reference (RefSeq)</th>\n",
       "    </tr>\n",
       "  </thead>\n",
       "  <tbody>\n",
       "    <tr>\n",
       "      <th>1279</th>\n",
       "      <td>B8I422</td>\n",
       "      <td>B8I422_RUMCH</td>\n",
       "      <td>Binding-protein-dependent transport systems in...</td>\n",
       "      <td>Ccel_2110</td>\n",
       "      <td>G_WP_015925555_1</td>\n",
       "    </tr>\n",
       "  </tbody>\n",
       "</table>\n",
       "</div>"
      ],
      "text/plain": [
       "       Entry    Entry name                                      Protein names  \\\n",
       "1279  B8I422  B8I422_RUMCH  Binding-protein-dependent transport systems in...   \n",
       "\n",
       "     Gene names Cross-reference (RefSeq)  \n",
       "1279  Ccel_2110         G_WP_015925555_1  "
      ]
     },
     "execution_count": 266,
     "metadata": {},
     "output_type": "execute_result"
    }
   ],
   "source": [
    "gene_protein_map[gene_protein_map['Cross-reference (RefSeq)']=='G_WP_015925555_1']"
   ]
  },
  {
   "cell_type": "markdown",
   "id": "01c620f2-b144-4db8-8c6c-789cdb7e636e",
   "metadata": {},
   "source": [
    "***G_WP_015925556_1*** Also seems to be related to an [ABC transporter from *B. subtilis*](https://www.uniprot.org/uniprotkb?query=BSU28750). "
   ]
  },
  {
   "cell_type": "code",
   "execution_count": 267,
   "id": "5e38de1d-9b19-4c08-90b5-2e00d442fea6",
   "metadata": {},
   "outputs": [
    {
     "data": {
      "text/html": [
       "<div>\n",
       "<style scoped>\n",
       "    .dataframe tbody tr th:only-of-type {\n",
       "        vertical-align: middle;\n",
       "    }\n",
       "\n",
       "    .dataframe tbody tr th {\n",
       "        vertical-align: top;\n",
       "    }\n",
       "\n",
       "    .dataframe thead th {\n",
       "        text-align: right;\n",
       "    }\n",
       "</style>\n",
       "<table border=\"1\" class=\"dataframe\">\n",
       "  <thead>\n",
       "    <tr style=\"text-align: right;\">\n",
       "      <th></th>\n",
       "      <th>Entry</th>\n",
       "      <th>Entry name</th>\n",
       "      <th>Protein names</th>\n",
       "      <th>Gene names</th>\n",
       "      <th>Cross-reference (RefSeq)</th>\n",
       "    </tr>\n",
       "  </thead>\n",
       "  <tbody>\n",
       "    <tr>\n",
       "      <th>2191</th>\n",
       "      <td>B8I423</td>\n",
       "      <td>B8I423_RUMCH</td>\n",
       "      <td>Binding-protein-dependent transport systems in...</td>\n",
       "      <td>Ccel_2111</td>\n",
       "      <td>G_WP_015925556_1</td>\n",
       "    </tr>\n",
       "  </tbody>\n",
       "</table>\n",
       "</div>"
      ],
      "text/plain": [
       "       Entry    Entry name                                      Protein names  \\\n",
       "2191  B8I423  B8I423_RUMCH  Binding-protein-dependent transport systems in...   \n",
       "\n",
       "     Gene names Cross-reference (RefSeq)  \n",
       "2191  Ccel_2111         G_WP_015925556_1  "
      ]
     },
     "execution_count": 267,
     "metadata": {},
     "output_type": "execute_result"
    }
   ],
   "source": [
    "gene_protein_map[gene_protein_map['Cross-reference (RefSeq)']=='G_WP_015925556_1']"
   ]
  },
  {
   "cell_type": "code",
   "execution_count": 268,
   "id": "84aae5d5-50fe-4c31-86cf-70cdd1d3117d",
   "metadata": {},
   "outputs": [],
   "source": [
    "model.remove_reaction('R_ARBabcpp')"
   ]
  },
  {
   "cell_type": "markdown",
   "id": "a7410a76-a1bb-4187-ba40-1ba092e735ce",
   "metadata": {},
   "source": [
    "***Remove reactions associated with G_WP_041706401_1 that are only linked to this gene***\n",
    "From the list above it seems like this are exclusively reactions that are not abc transporters. "
   ]
  },
  {
   "cell_type": "code",
   "execution_count": 269,
   "id": "fb203c06-d3fe-4233-bab3-838bc5141027",
   "metadata": {},
   "outputs": [],
   "source": [
    "model.remove_reactions([rxn for rxn in model.gene_to_reaction_lookup()['G_WP_041706401_1'] if len(model.reactions[rxn].get_genes())==1])"
   ]
  },
  {
   "cell_type": "code",
   "execution_count": 270,
   "id": "c8c4e985-609a-439c-b545-da6b43af2f0c",
   "metadata": {},
   "outputs": [],
   "source": [
    "model.update()"
   ]
  },
  {
   "cell_type": "code",
   "execution_count": 271,
   "id": "6c4c8f75-8e98-46f4-97a8-7cf3f442140d",
   "metadata": {},
   "outputs": [],
   "source": [
    "mets_transport_rxns = transport_rxn_dict(model)"
   ]
  },
  {
   "cell_type": "markdown",
   "id": "81353c1e-2b71-4465-8d9f-cd0b037c4ffe",
   "metadata": {},
   "source": [
    "**Transport reactions for glucose**"
   ]
  },
  {
   "cell_type": "code",
   "execution_count": 272,
   "id": "883c0e3b-d715-40cd-8a9c-e0259e157344",
   "metadata": {},
   "outputs": [
    {
     "name": "stdout",
     "output_type": "stream",
     "text": [
      "R_GLCabcpp: M_atp_c + M_glc__D_p + M_h2o_c --> M_adp_c + M_glc__D_c + M_h_c + M_pi_c: (G_WP_015924906_1 or (G_WP_015924534_1 and G_WP_015926593_1) or (G_WP_015924592_1 and G_WP_015924906_1))\n",
      "R_GLCabc: M_atp_c + M_glc__D_e + M_h2o_c --> M_adp_c + M_glc__D_c + M_h_c + M_pi_c: (G_WP_242651738_1 or (G_WP_012634654_1 and G_WP_015926592_1) or (G_WP_015924545_1 and G_WP_015924646_1))\n",
      "R_GLCt2: M_glc__D_e + M_h_e --> M_glc__D_c + M_h_c: G_WP_015925129_1\n"
     ]
    }
   ],
   "source": [
    "for rxn in set(mets_transport_rxns['glc__D_']):\n",
    "    print(str(rxn) + \": \" + str(rxn.gpr))"
   ]
  },
  {
   "cell_type": "code",
   "execution_count": 273,
   "id": "ee49c2a6-15b4-4b97-af89-712a2908c3e5",
   "metadata": {},
   "outputs": [
    {
     "data": {
      "text/html": [
       "<div>\n",
       "<style scoped>\n",
       "    .dataframe tbody tr th:only-of-type {\n",
       "        vertical-align: middle;\n",
       "    }\n",
       "\n",
       "    .dataframe tbody tr th {\n",
       "        vertical-align: top;\n",
       "    }\n",
       "\n",
       "    .dataframe thead th {\n",
       "        text-align: right;\n",
       "    }\n",
       "</style>\n",
       "<table border=\"1\" class=\"dataframe\">\n",
       "  <thead>\n",
       "    <tr style=\"text-align: right;\">\n",
       "      <th></th>\n",
       "      <th>Entry</th>\n",
       "      <th>Entry name</th>\n",
       "      <th>Protein names</th>\n",
       "      <th>Gene names</th>\n",
       "      <th>Cross-reference (RefSeq)</th>\n",
       "    </tr>\n",
       "  </thead>\n",
       "  <tbody>\n",
       "    <tr>\n",
       "      <th>1260</th>\n",
       "      <td>B8I2M0</td>\n",
       "      <td>B8I2M0_RUMCH</td>\n",
       "      <td>Major facilitator superfamily MFS_1</td>\n",
       "      <td>Ccel_1662</td>\n",
       "      <td>G_WP_015925129_1</td>\n",
       "    </tr>\n",
       "  </tbody>\n",
       "</table>\n",
       "</div>"
      ],
      "text/plain": [
       "       Entry    Entry name                        Protein names Gene names  \\\n",
       "1260  B8I2M0  B8I2M0_RUMCH  Major facilitator superfamily MFS_1  Ccel_1662   \n",
       "\n",
       "     Cross-reference (RefSeq)  \n",
       "1260         G_WP_015925129_1  "
      ]
     },
     "execution_count": 273,
     "metadata": {},
     "output_type": "execute_result"
    }
   ],
   "source": [
    "gene_protein_map[gene_protein_map['Cross-reference (RefSeq)']=='G_WP_015925129_1']"
   ]
  },
  {
   "cell_type": "markdown",
   "id": "2c339b3a-344b-483c-aa8e-5eaa833ef6de",
   "metadata": {},
   "source": [
    "***Remove GLCabcpp***"
   ]
  },
  {
   "cell_type": "code",
   "execution_count": 274,
   "id": "1bb9498a-c3bb-43c0-bb73-3d9b3592b01f",
   "metadata": {},
   "outputs": [],
   "source": [
    "model.remove_reaction('R_GLCabcpp')"
   ]
  },
  {
   "cell_type": "code",
   "execution_count": 275,
   "id": "608b3d16-ecd8-4adb-b8b9-2035bb77b17d",
   "metadata": {},
   "outputs": [],
   "source": [
    "model.update()"
   ]
  },
  {
   "cell_type": "code",
   "execution_count": 276,
   "id": "9c220f12-630c-49f0-a533-db208007ba13",
   "metadata": {},
   "outputs": [],
   "source": [
    "mets_transport_rxns = transport_rxn_dict(model)"
   ]
  },
  {
   "cell_type": "markdown",
   "id": "ae1cd8ad-d3da-4018-a2bb-d1a0ca2c2217",
   "metadata": {},
   "source": [
    "**Transport reactions for cellobiose**"
   ]
  },
  {
   "cell_type": "code",
   "execution_count": 277,
   "id": "3bbb7899-39a1-4005-98ab-31bc3d029a2c",
   "metadata": {},
   "outputs": [
    {
     "name": "stdout",
     "output_type": "stream",
     "text": [
      "R_CLBtex: M_cellb_e <-> M_cellb_p: None\n"
     ]
    }
   ],
   "source": [
    "for rxn in set(mets_transport_rxns['cellb_']):\n",
    "    print(str(rxn) + \": \" + str(rxn.gpr))"
   ]
  },
  {
   "cell_type": "markdown",
   "id": "a6b91b5e-0fdf-491f-817d-2bf0f5af98dc",
   "metadata": {},
   "source": [
    "Cellobiose transporter is included later. "
   ]
  },
  {
   "cell_type": "code",
   "execution_count": 278,
   "id": "17288112-63b9-4e43-af6b-56c9edb04901",
   "metadata": {},
   "outputs": [],
   "source": [
    "mets_transport_rxns = transport_rxn_dict(model)"
   ]
  },
  {
   "cell_type": "markdown",
   "id": "d2a5f12d-a2bc-4f30-822c-c616fcbdf6a0",
   "metadata": {},
   "source": [
    "**Transport reactions for galactose**"
   ]
  },
  {
   "cell_type": "code",
   "execution_count": 279,
   "id": "48a0d4d9-900b-40f4-a85b-b6c103846f3f",
   "metadata": {},
   "outputs": [
    {
     "name": "stdout",
     "output_type": "stream",
     "text": [
      "R_GALabcpp: M_atp_c + M_gal_p + M_h2o_c --> M_adp_c + M_gal_c + M_h_c + M_pi_c: (G_WP_015924906_1 or (G_WP_015924592_1 and G_WP_015924906_1) or (G_WP_015924730_1 and G_WP_174258523_1) or (G_WP_015924728_1 and G_WP_015924730_1 and G_WP_015924731_1) or (G_WP_015924728_1 and G_WP_015924730_1 and G_WP_015924731_1 and G_WP_174258523_1))\n",
      "R_GALpts: M_gal_e + M_pep_c <-> M_dgal6p_c + M_pyr_c: G_WP_015924346_1\n"
     ]
    }
   ],
   "source": [
    "for rxn in set(mets_transport_rxns['gal_']):\n",
    "    print(str(rxn) + \": \" + str(rxn.gpr))"
   ]
  },
  {
   "cell_type": "markdown",
   "id": "c1444093-e6e0-4ead-b633-e7fa4bed0f41",
   "metadata": {},
   "source": [
    "***Change GALabcpp to GALabc***\n",
    "\n",
    "Take gpr from periplasmic ABC transporter. "
   ]
  },
  {
   "cell_type": "code",
   "execution_count": 280,
   "id": "cce30961-d568-4a28-ac53-208504fe67f9",
   "metadata": {},
   "outputs": [],
   "source": [
    "R_GALabc=copy.deepcopy(model_universe.reactions.R_GALabc)"
   ]
  },
  {
   "cell_type": "code",
   "execution_count": 281,
   "id": "90596d3e-490e-48b3-8d18-dd6c2beb3959",
   "metadata": {},
   "outputs": [],
   "source": [
    "R_GALabcpp_gpr = copy.deepcopy(model.reactions.R_GALabcpp.gpr)\n",
    "R_GALabc.set_gpr_association(R_GALabcpp_gpr)\n",
    "model.add_reaction(R_GALabc)"
   ]
  },
  {
   "cell_type": "code",
   "execution_count": 206,
   "id": "d8525bec-a133-4754-9282-6fe14e5c8a04",
   "metadata": {},
   "outputs": [
    {
     "data": {
      "text/html": [
       "<div>\n",
       "<style scoped>\n",
       "    .dataframe tbody tr th:only-of-type {\n",
       "        vertical-align: middle;\n",
       "    }\n",
       "\n",
       "    .dataframe tbody tr th {\n",
       "        vertical-align: top;\n",
       "    }\n",
       "\n",
       "    .dataframe thead th {\n",
       "        text-align: right;\n",
       "    }\n",
       "</style>\n",
       "<table border=\"1\" class=\"dataframe\">\n",
       "  <thead>\n",
       "    <tr style=\"text-align: right;\">\n",
       "      <th></th>\n",
       "      <th>Entry</th>\n",
       "      <th>Entry name</th>\n",
       "      <th>Protein names</th>\n",
       "      <th>Gene names</th>\n",
       "      <th>Cross-reference (RefSeq)</th>\n",
       "    </tr>\n",
       "  </thead>\n",
       "  <tbody>\n",
       "    <tr>\n",
       "      <th>2263</th>\n",
       "      <td>B8I8F1</td>\n",
       "      <td>B8I8F1_RUMCH</td>\n",
       "      <td>Phosphocarrier, HPr family</td>\n",
       "      <td>Ccel_0806</td>\n",
       "      <td>G_WP_015924346_1</td>\n",
       "    </tr>\n",
       "  </tbody>\n",
       "</table>\n",
       "</div>"
      ],
      "text/plain": [
       "       Entry    Entry name               Protein names Gene names  \\\n",
       "2263  B8I8F1  B8I8F1_RUMCH  Phosphocarrier, HPr family  Ccel_0806   \n",
       "\n",
       "     Cross-reference (RefSeq)  \n",
       "2263         G_WP_015924346_1  "
      ]
     },
     "execution_count": 206,
     "metadata": {},
     "output_type": "execute_result"
    }
   ],
   "source": [
    "gene_protein_map[gene_protein_map['Cross-reference (RefSeq)']=='G_WP_015924346_1']"
   ]
  },
  {
   "cell_type": "code",
   "execution_count": 282,
   "id": "3b84c9db-7938-4f43-ba3b-88f7bb0528b2",
   "metadata": {},
   "outputs": [],
   "source": [
    "model.update()"
   ]
  },
  {
   "cell_type": "code",
   "execution_count": 283,
   "id": "3a9319d1-4532-43c4-be4a-e2931d5aee77",
   "metadata": {},
   "outputs": [],
   "source": [
    "mets_transport_rxns = transport_rxn_dict(model)"
   ]
  },
  {
   "cell_type": "markdown",
   "id": "d868eaea-8626-4704-be7e-cba9310bdabf",
   "metadata": {},
   "source": [
    "**Transport reactions for xylose**"
   ]
  },
  {
   "cell_type": "code",
   "execution_count": 284,
   "id": "4160dd13-6c76-45ac-b85b-6bb837d081cf",
   "metadata": {},
   "outputs": [
    {
     "name": "stdout",
     "output_type": "stream",
     "text": [
      "R_XYLtex: M_xyl__D_e <-> M_xyl__D_p: None\n",
      "R_XYLabc: M_atp_c + M_h2o_c + M_xyl__D_e --> M_adp_c + M_h_c + M_pi_c + M_xyl__D_c: ((G_WP_015925436_1 and G_WP_015925438_1) or (G_WP_015925230_1 and G_WP_015925231_1 and G_WP_015925233_1))\n",
      "R_XYLabcpp: M_atp_c + M_h2o_c + M_xyl__D_p --> M_adp_c + M_h_c + M_pi_c + M_xyl__D_c: (G_WP_012634509_1 and G_WP_015926084_1 and G_WP_049756869_1)\n"
     ]
    }
   ],
   "source": [
    "for rxn in set(mets_transport_rxns['xyl__D_']):\n",
    "    print(str(rxn) + \": \" + str(rxn.gpr))"
   ]
  },
  {
   "cell_type": "markdown",
   "id": "dbc69371-cf62-44ec-8e8f-355d7ef5f588",
   "metadata": {},
   "source": [
    "***Remove R_XYLabcpp***"
   ]
  },
  {
   "cell_type": "code",
   "execution_count": 285,
   "id": "f519a279-49db-4985-bacf-60678705aac7",
   "metadata": {},
   "outputs": [],
   "source": [
    "model.remove_reaction('R_XYLabcpp')"
   ]
  },
  {
   "cell_type": "code",
   "execution_count": 286,
   "id": "1634bbaa-0398-4ee2-85ea-7d608cb89f0c",
   "metadata": {},
   "outputs": [],
   "source": [
    "mets_transport_rxns = transport_rxn_dict(model)"
   ]
  },
  {
   "cell_type": "markdown",
   "id": "7655b58e-16c4-4b18-853e-036cbca538fa",
   "metadata": {},
   "source": [
    "**Transport reactions for mannose**\n",
    "\n"
   ]
  },
  {
   "cell_type": "code",
   "execution_count": 287,
   "id": "da1191c8-c5fb-4170-a9b5-4150db5b8025",
   "metadata": {},
   "outputs": [
    {
     "name": "stdout",
     "output_type": "stream",
     "text": [
      "R_MANt2: M_h_e + M_man_e --> M_h_c + M_man_c: (G_WP_015925129_1 or G_WP_041706401_1)\n"
     ]
    }
   ],
   "source": [
    "for rxn in set(mets_transport_rxns['man_']):\n",
    "    print(str(rxn) + \": \" + str(rxn.gpr))"
   ]
  },
  {
   "cell_type": "markdown",
   "id": "2e7aa202-02c3-4157-99fe-22b6681bf79b",
   "metadata": {},
   "source": [
    "**All PTS related enzymes for model, based on string comparison**\n",
    "\n",
    "There are several enzymes that are being transported through the PTS system. There are several of them and they have nearly all been included with the same gene encoding a protein in the HPr family. The HPr protein is just one of several components of the PTS system (McGoy et al. 2014), and therefore probably not sufficient to argue for the existence of a PTS system. HPr is also non-specific, which probably explains why it is involved in the transport of so many different metabolites. \n",
    "\n",
    "McCoy JG, Levin EJ, Zhou M. Structural insight into the PTS sugar transporter EIIC. Biochim Biophys Acta. 2015 Mar;1850(3):577-85. doi: 10.1016/j.bbagen.2014.03.013. Epub 2014 Mar 20. PMID: 24657490; PMCID: PMC4169766."
   ]
  },
  {
   "cell_type": "code",
   "execution_count": 288,
   "id": "138167d6-98c2-4e7c-8820-1987eb22b9b0",
   "metadata": {},
   "outputs": [
    {
     "data": {
      "text/plain": [
       "[R_ACGApts: M_acgam_e + M_pep_c --> M_acgam6p_c + M_pyr_c,\n",
       " R_ACMANApts: M_acmana_e + M_pep_c --> M_acmanap_c + M_pyr_c,\n",
       " R_ARBTpts: M_arbt_e + M_pep_c --> M_arbt6p_c + M_pyr_c,\n",
       " R_ASCBpts: M_ascb__L_e + M_pep_c --> M_ascb6p_c + M_pyr_c,\n",
       " R_FRUpts: M_fru_e + M_pep_c --> M_f1p_c + M_pyr_c,\n",
       " R_FUCpts: M_fuc_e + M_pep_c --> M_fc1p_c + M_pyr_c,\n",
       " R_GALTpts: M_galt_e + M_pep_c --> M_galt1p_c + M_pyr_c,\n",
       " R_GALpts: M_gal_e + M_pep_c <-> M_dgal6p_c + M_pyr_c,\n",
       " R_GAMpts: M_gam_e + M_pep_c --> M_gam6p_c + M_pyr_c,\n",
       " R_MALTpts: M_malt_e + M_pep_c --> M_malt6p_c + M_pyr_c,\n",
       " R_MNLpts: M_mnl_e + M_pep_c --> M_mnl1p_c + M_pyr_c,\n",
       " R_SBTpts: M_pep_c + M_sbt__D_e --> M_pyr_c + M_sbt6p_c,\n",
       " R_SUCpts: M_pep_c + M_sucr_e --> M_pyr_c + M_suc6p_c,\n",
       " R_TREpts: M_pep_c + M_tre_e --> M_pyr_c + M_tre6p_c]"
      ]
     },
     "execution_count": 288,
     "metadata": {},
     "output_type": "execute_result"
    }
   ],
   "source": [
    "[model.reactions[rxn] for rxn in [rxn for rxn in model.reactions if \"pts\" in rxn]]"
   ]
  },
  {
   "cell_type": "code",
   "execution_count": 289,
   "id": "916ae831-598c-4519-8c94-10fb7091cf67",
   "metadata": {},
   "outputs": [
    {
     "data": {
      "text/plain": [
       "[G_WP_015924346_1,\n",
       " G_WP_015924346_1,\n",
       " G_WP_015924346_1,\n",
       " G_WP_015924346_1,\n",
       " G_WP_015924346_1,\n",
       " None,\n",
       " G_WP_015924346_1,\n",
       " G_WP_015924346_1,\n",
       " G_WP_015924346_1,\n",
       " G_WP_015924346_1,\n",
       " G_WP_015924346_1,\n",
       " G_WP_015924346_1,\n",
       " G_WP_015924346_1,\n",
       " G_WP_015924346_1]"
      ]
     },
     "execution_count": 289,
     "metadata": {},
     "output_type": "execute_result"
    }
   ],
   "source": [
    "[model.reactions[rxn].gpr for rxn in [rxn for rxn in model.reactions if \"pts\" in rxn]]"
   ]
  },
  {
   "attachments": {
    "b2e5c50a-83a4-4971-a0fd-12ba6397df32.png": {
     "image/png": "[encoded data removed]"
    }
   },
   "cell_type": "markdown",
   "id": "5bd51a5b-61af-4492-b867-d0a8147e64c0",
   "metadata": {},
   "source": [
    "[**Arabinose (xylose; galactose):H+ symporter, AraE**](https://tcdb.org/search/result.php?tc=2.A.1.1.2)\n",
    "\n",
    "![image.png](attachment:b2e5c50a-83a4-4971-a0fd-12ba6397df32.png)"
   ]
  },
  {
   "attachments": {
    "5a5e8487-8054-4087-987b-32e5847c561f.png": {
     "image/png": "[encoded data removed]"
    }
   },
   "cell_type": "markdown",
   "id": "f53967d3-ef69-4b12-a10e-cca5370b5302",
   "metadata": {},
   "source": [
    "[**Galactose permease of 462 aas and 12 TMSs**](https://tcdb.org/search/result.php?tc=2.A.2.2.3)\n",
    "\n",
    "![image.png](attachment:5a5e8487-8054-4087-987b-32e5847c561f.png)"
   ]
  },
  {
   "cell_type": "code",
   "execution_count": 290,
   "id": "a1f461d9-30f9-4540-a8d5-b74f8bdcad81",
   "metadata": {},
   "outputs": [
    {
     "name": "stdout",
     "output_type": "stream",
     "text": [
      "R_METGLCURt2pp: M_h_p + M_metglcur_p --> M_h_c + M_metglcur_c\n"
     ]
    }
   ],
   "source": [
    "for rxn in model.gene_to_reaction_lookup()['G_WP_015925141_1']:\n",
    "    print(model.reactions[rxn])"
   ]
  },
  {
   "cell_type": "code",
   "execution_count": 291,
   "id": "32288741-b99d-465b-9141-9aec165812d7",
   "metadata": {},
   "outputs": [
    {
     "data": {
      "text/plain": [
       "1-O-methyl-Beta-D-glucuronate"
      ]
     },
     "execution_count": 291,
     "metadata": {},
     "output_type": "execute_result"
    }
   ],
   "source": [
    "model.metabolites.M_metglcur_p"
   ]
  },
  {
   "attachments": {
    "686d8d76-7c61-4209-9f20-087c1e494234.png": {
     "image/png": "[encoded data removed]"
    }
   },
   "cell_type": "markdown",
   "id": "871d58f4-2446-4448-9e05-0a86e02e1148",
   "metadata": {},
   "source": [
    "[**Glucose or galactose:Na+ symporter, SGLT1 <span style=\"color: red;\">(Human protein)**</span>](https://tcdb.org/search/result.php?tc=2.A.21.3.1)\n",
    "\n",
    "![image.png](attachment:686d8d76-7c61-4209-9f20-087c1e494234.png)"
   ]
  },
  {
   "attachments": {
    "e8843fde-6d02-499d-8998-d5a87c07a8c9.png": {
     "image/png": "[encoded data removed]"
    }
   },
   "cell_type": "markdown",
   "id": "9e0b089a-9e77-427d-8b5f-362c44347041",
   "metadata": {},
   "source": [
    "[**TMEM214 (Drosophila melanogaster)**](https://tcdb.org/search/result.php?tc=8.A.209.1.2)\n",
    "\n",
    "![image.png](attachment:e8843fde-6d02-499d-8998-d5a87c07a8c9.png)"
   ]
  },
  {
   "cell_type": "markdown",
   "id": "0189fd48-e35f-4b3a-b0bd-e4ca4cd8f59d",
   "metadata": {
    "tags": []
   },
   "source": [
    "### <span style=\"color: purple;\">B: Summary of analysis </span>"
   ]
  },
  {
   "cell_type": "markdown",
   "id": "cbc37bb8-eb39-4e43-afaa-978c14e1b742",
   "metadata": {},
   "source": [
    "There are transporters for all sugars, and most of them (except mannose) have an ABC transporter. The evidence for PTS transporters in *R. cellulolyticum* is poor. "
   ]
  },
  {
   "cell_type": "markdown",
   "id": "65232458-1302-42fa-8f94-e3dacf267b3b",
   "metadata": {
    "tags": []
   },
   "source": [
    "### <span style=\"color: purple;\">B: Solution </span>"
   ]
  },
  {
   "cell_type": "markdown",
   "id": "f70c1380-d4f9-412a-b087-55467a32d6a7",
   "metadata": {},
   "source": [
    "All PTS related reactions will be removed.\n",
    "\n",
    "A galactose permease will be included. "
   ]
  },
  {
   "cell_type": "markdown",
   "id": "401c9110-31e4-4e06-910a-89b53501b3c4",
   "metadata": {},
   "source": [
    "**Removing pts reactions**"
   ]
  },
  {
   "cell_type": "code",
   "execution_count": 292,
   "id": "7faa6e80-0da5-46d0-9cc0-d1126b91066d",
   "metadata": {},
   "outputs": [],
   "source": [
    "pts_rxns = [rxn for rxn in [rxn for rxn in model.reactions if \"pts\" in rxn]]\n",
    "model.remove_reactions(pts_rxns)"
   ]
  },
  {
   "cell_type": "code",
   "execution_count": 293,
   "id": "c0f94b06-4394-42e1-bfee-a11786f87278",
   "metadata": {},
   "outputs": [],
   "source": [
    "model.update()"
   ]
  },
  {
   "cell_type": "code",
   "execution_count": 294,
   "id": "57a26680-e33a-4aab-8903-87bbff8bd5f5",
   "metadata": {},
   "outputs": [
    {
     "data": {
      "text/plain": [
       "[]"
      ]
     },
     "execution_count": 294,
     "metadata": {},
     "output_type": "execute_result"
    }
   ],
   "source": [
    "[rxn for rxn in [rxn for rxn in model.reactions if \"pts\" in rxn]]"
   ]
  },
  {
   "cell_type": "markdown",
   "id": "12b4766c-98ee-4834-808a-b3ba0d18f858",
   "metadata": {
    "tags": []
   },
   "source": [
    "### <span style=\"color: purple;\">B: Test </span>"
   ]
  },
  {
   "cell_type": "markdown",
   "id": "9aee4b5e-1bad-4e80-bc80-d3e0d8f08b85",
   "metadata": {},
   "source": [
    "**Restricting it to the only carbon source**\n",
    "\n",
    "It is currently unable to use it as a carbon source. "
   ]
  },
  {
   "cell_type": "code",
   "execution_count": 296,
   "id": "54334ef6-f5c7-44a9-9c78-c615062b974a",
   "metadata": {},
   "outputs": [
    {
     "name": "stdout",
     "output_type": "stream",
     "text": [
      "R_EX_cys__L_e -10\n",
      "R_EX_glc__D_e -10\n",
      "R_EX_h_e     -10\n",
      "R_EX_no3_e   -9.94322\n",
      "R_EX_pi_e    -0.766453\n",
      "R_EX_k_e     -0.10655\n",
      "R_EX_mg2_e   -0.00473543\n",
      "R_EX_fe3_e   -0.00426216\n",
      "R_EX_fe2_e   -0.00366552\n",
      "R_EX_ca2_e   -0.00284126\n",
      "R_EX_cl_e    -0.00284126\n",
      "R_EX_so4_e   -0.00236799\n",
      "R_EX_cu2_e   -0.000387022\n",
      "R_EX_mn2_e   -0.000377197\n",
      "R_EX_ribflv_e -0.000243458\n",
      "R_EX_zn2_e   -0.000186142\n",
      "R_EX_cobalt2_e -5.45871e-05\n",
      "R_EX_4hba_e   0.000121729\n",
      "R_EX_d23hb_e  0.300875\n",
      "R_EX_h2s_e    9.86556\n",
      "R_EX_h2o_e    12.1903\n",
      "R_EX_nh4_e    14.0661\n",
      "R_EX_ac_e     21.9172\n",
      "R_EX_co2_e    22.8663\n"
     ]
    }
   ],
   "source": [
    "reframed.pFBA(model,constraints={'R_EX_man_e':0,'R_EX_glc__D_e':(-10,0)}).show_values(pattern=\"R_EX_\",sort=True)"
   ]
  },
  {
   "cell_type": "code",
   "execution_count": 297,
   "id": "198852c3-0f50-4b76-ae23-8e954edae860",
   "metadata": {},
   "outputs": [
    {
     "name": "stdout",
     "output_type": "stream",
     "text": [
      "R_EX_cellb_e -10\n",
      "R_EX_h_e     -10\n",
      "R_EX_no3_e   -10\n",
      "R_EX_pi_e    -1.32953\n",
      "R_EX_k_e     -0.184827\n",
      "R_EX_so4_e   -0.149843\n",
      "R_EX_nh4_e   -0.107212\n",
      "R_EX_cys__L_e -0.0874732\n",
      "R_EX_mg2_e   -0.00821431\n",
      "R_EX_fe3_e   -0.00739335\n",
      "R_EX_fe2_e   -0.0063584\n",
      "R_EX_ca2_e   -0.00492859\n",
      "R_EX_cl_e    -0.00492859\n",
      "R_EX_cu2_e   -0.000671348\n",
      "R_EX_mn2_e   -0.000654304\n",
      "R_EX_ribflv_e -0.000422315\n",
      "R_EX_zn2_e   -0.000322891\n",
      "R_EX_cobalt2_e -9.46895e-05\n",
      "R_EX_4hba_e   0.000211158\n",
      "R_EX_d23hb_e  0.521912\n",
      "R_EX_h2o_e    19.196\n",
      "R_EX_ac_e     26.0667\n",
      "R_EX_co2_e    27.713\n",
      "R_EX_h2_e     27.8466\n"
     ]
    }
   ],
   "source": [
    "reframed.pFBA(model,constraints={'R_EX_man_e':0,'R_EX_cellb_e':(-10,0)}).show_values(pattern=\"R_EX_\",sort=True)"
   ]
  },
  {
   "cell_type": "code",
   "execution_count": 298,
   "id": "1bcc42b8-62d5-426e-85c9-260ea23acda6",
   "metadata": {},
   "outputs": [
    {
     "name": "stdout",
     "output_type": "stream",
     "text": [
      "R_EX_h2o_e   -10\n",
      "R_EX_h_e     -10\n",
      "R_EX_cys__L_e -9.96396\n",
      "R_EX_no3_e   -2.78258\n",
      "R_EX_pi_e    -0.0547114\n",
      "R_EX_gal_e   -0.00798797\n",
      "R_EX_k_e     -0.00760583\n",
      "R_EX_mg2_e   -0.000338027\n",
      "R_EX_fe3_e   -0.000304244\n",
      "R_EX_fe2_e   -0.000261655\n",
      "R_EX_ca2_e   -0.000202816\n",
      "R_EX_cl_e    -0.000202816\n",
      "R_EX_so4_e   -0.000169033\n",
      "R_EX_cu2_e   -2.76267e-05\n",
      "R_EX_mn2_e   -2.69253e-05\n",
      "R_EX_ribflv_e -1.73787e-05\n",
      "R_EX_zn2_e   -1.32873e-05\n",
      "R_EX_cobalt2_e -3.89657e-06\n",
      "R_EX_4hba_e   8.68935e-06\n",
      "R_EX_d23hb_e  0.0214772\n",
      "R_EX_ac_e     9.40297\n",
      "R_EX_co2_e    9.47072\n",
      "R_EX_h2s_e    9.95437\n",
      "R_EX_nh4_e    12.327\n"
     ]
    }
   ],
   "source": [
    "reframed.pFBA(model,constraints={'R_EX_man_e':0,'R_EX_gal_e':(-10,0)}).show_values(pattern=\"R_EX_\",sort=True)"
   ]
  },
  {
   "cell_type": "code",
   "execution_count": 299,
   "id": "85a9fcaa-ee47-4608-b9ac-7fa0275a4f92",
   "metadata": {},
   "outputs": [
    {
     "name": "stdout",
     "output_type": "stream",
     "text": [
      "R_EX_cys__L_e -10\n",
      "R_EX_h_e     -10\n",
      "R_EX_man_e   -10\n",
      "R_EX_no3_e   -9.94322\n",
      "R_EX_pi_e    -0.766453\n",
      "R_EX_k_e     -0.10655\n",
      "R_EX_mg2_e   -0.00473543\n",
      "R_EX_fe3_e   -0.00426216\n",
      "R_EX_fe2_e   -0.00366552\n",
      "R_EX_ca2_e   -0.00284126\n",
      "R_EX_cl_e    -0.00284126\n",
      "R_EX_so4_e   -0.00236799\n",
      "R_EX_cu2_e   -0.000387022\n",
      "R_EX_mn2_e   -0.000377197\n",
      "R_EX_ribflv_e -0.000243458\n",
      "R_EX_zn2_e   -0.000186142\n",
      "R_EX_cobalt2_e -5.45871e-05\n",
      "R_EX_4hba_e   0.000121729\n",
      "R_EX_d23hb_e  0.300875\n",
      "R_EX_h2s_e    9.86556\n",
      "R_EX_h2o_e    12.1903\n",
      "R_EX_nh4_e    14.0661\n",
      "R_EX_ac_e     21.9172\n",
      "R_EX_co2_e    22.8663\n"
     ]
    }
   ],
   "source": [
    "reframed.pFBA(model,constraints={'R_EX_man_e':(-10,0)}).show_values(pattern=\"R_EX_\",sort=True)"
   ]
  },
  {
   "cell_type": "markdown",
   "id": "e2a0671d-1405-4fdb-ae42-a029c620a079",
   "metadata": {},
   "source": [
    "**Tracing possible pathway for galactose catabolism**\n",
    "\n",
    "\n",
    "This seems to follow the Leiloir pathway. <span style=\"color: red;\"> Find a link for this pathway</span>\n"
   ]
  },
  {
   "cell_type": "code",
   "execution_count": 300,
   "id": "f19633fa-6a88-4280-a697-8b3a47ba950f",
   "metadata": {},
   "outputs": [
    {
     "name": "stdout",
     "output_type": "stream",
     "text": [
      "R_EX_gal_e: M_gal_e --> \n",
      "R_GALabc: M_atp_c + M_gal_e + M_h2o_c <-> M_adp_c + M_gal_c + M_h_c + M_pi_c\n"
     ]
    }
   ],
   "source": [
    "for rxn in model.get_metabolite_reactions('M_gal_e'):\n",
    "    print(model.reactions[rxn])"
   ]
  },
  {
   "cell_type": "code",
   "execution_count": 301,
   "id": "7e141887-a9a4-46de-8b84-67ecc93e7dac",
   "metadata": {},
   "outputs": [
    {
     "name": "stdout",
     "output_type": "stream",
     "text": [
      "R_GALKr: M_gal_c + M_gtp_c <-> M_gdp_c + M_gal1p_c + M_h_c\n"
     ]
    }
   ],
   "source": [
    "for rxn in model.metabolite_reaction_lookup()['M_gal_c']:\n",
    "    if model.reactions[rxn].reaction_type==reframed.ReactionType.ENZYMATIC:\n",
    "        if 'M_gal_c' in model.reactions[rxn].get_substrates() or model.reactions[rxn].reversible==True:\n",
    "            print(model.reactions[rxn])"
   ]
  },
  {
   "cell_type": "code",
   "execution_count": 302,
   "id": "50db6762-9f85-4a0a-b172-cffa907f18a7",
   "metadata": {},
   "outputs": [
    {
     "name": "stdout",
     "output_type": "stream",
     "text": [
      "R_GALT: M_gal1p_c + M_h_c + M_utp_c <-> M_ppi_c + M_udpgal_c\n",
      "R_GALKr: M_gal_c + M_gtp_c <-> M_gdp_c + M_gal1p_c + M_h_c\n"
     ]
    }
   ],
   "source": [
    "for rxn in model.get_metabolite_reactions('M_gal1p_c'):\n",
    "    if model.reactions[rxn].reaction_type==reframed.ReactionType.ENZYMATIC:\n",
    "        if 'M_gal1p_c' in model.reactions[rxn].get_substrates() or model.reactions[rxn].reversible==True:\n",
    "            print(model.reactions[rxn])"
   ]
  },
  {
   "cell_type": "code",
   "execution_count": 303,
   "id": "ead17184-1f47-4397-8c06-74f81e9c6508",
   "metadata": {},
   "outputs": [
    {
     "name": "stdout",
     "output_type": "stream",
     "text": [
      "R_GALT: M_gal1p_c + M_h_c + M_utp_c <-> M_ppi_c + M_udpgal_c\n",
      "R_UDPG4E: M_udpg_c <-> M_udpgal_c\n"
     ]
    }
   ],
   "source": [
    "for rxn in model.get_metabolite_reactions('M_udpgal_c'):\n",
    "    if model.reactions[rxn].reaction_type==reframed.ReactionType.ENZYMATIC:\n",
    "        if 'M_udpgal_c' in model.reactions[rxn].get_substrates() or model.reactions[rxn].reversible==True:\n",
    "            print(model.reactions[rxn])"
   ]
  },
  {
   "cell_type": "markdown",
   "id": "7b0fbf2a-0b50-42d0-9ee1-d1c7529658c4",
   "metadata": {},
   "source": [
    "We seem to be missing the reaction that converts UDP-glucose to glucose-1-phosphate, which existance was indicated in [Kampik et al. (2021)](https://journals.asm.org/doi/10.1128/mBio.02206-21). "
   ]
  },
  {
   "cell_type": "code",
   "execution_count": 304,
   "id": "593be569-366c-43a1-8764-ceb3a54e5263",
   "metadata": {},
   "outputs": [
    {
     "name": "stdout",
     "output_type": "stream",
     "text": [
      "R_ENTERGLCT1: M_enter_c + M_udpg_c --> M_entermg_c + M_h_c + M_udp_c\n",
      "R_ENTERGLCT2: M_entermg_c + M_udpg_c --> M_h_c + M_salchs4_c + M_udp_c\n",
      "R_TECA3S45: 45.0 M_cdpglyc_c + M_h2o_c + M_uacgam_c + M_uacmam_c + 45.0 M_udpg_c --> 45.0 M_cmp_c + M_gtca3_45_BS_c + 91.0 M_h_c + 46.0 M_udp_c + M_ump_c\n",
      "R_UDPG4E: M_udpg_c <-> M_udpgal_c\n"
     ]
    }
   ],
   "source": [
    "for rxn in model.get_metabolite_reactions('M_udpg_c'):\n",
    "    if model.reactions[rxn].reaction_type==reframed.ReactionType.ENZYMATIC:\n",
    "        if 'M_udpg_c' in model.reactions[rxn].get_substrates() or model.reactions[rxn].reversible==True:\n",
    "            print(model.reactions[rxn])"
   ]
  },
  {
   "cell_type": "markdown",
   "id": "55c0979f-0714-4859-8061-35510e5e56cf",
   "metadata": {},
   "source": [
    "#### <span style=\"color: purple;\">B.2. Additional curation of missing reaction in galactose catabolic pathway</span>\n",
    "\n",
    "We seem to be missing the reaction that converts UDP-glucose to glucose-1-phosphate, which existance was indicated in [Kampik et al. (2021)](https://journals.asm.org/doi/10.1128/mBio.02206-21). \n",
    "\n",
    "This is catalyzed by [UTP--glucose-1-phosphate uridylyltransferase](https://www.genome.jp/dbget-bin/www_bget?enzyme+2.7.7.9).\n",
    "\n",
    "Strategy:\n",
    "- Find [protein related to this enzyme in R. cellulolyticum](https://www.uniprot.org/uniprotkb?query=(ec:2.7.7.9)%20AND%20(taxonomy_id:394503))\n",
    "- Find alternative reaction in the BiGG universe: [GALUi](http://bigg.ucsd.edu/universal/reactions/GALUi)\n",
    "- Add reaction to model."
   ]
  },
  {
   "cell_type": "markdown",
   "id": "e3e1e61f-4aad-47be-890b-acdccbf54eae",
   "metadata": {},
   "source": [
    "BiGG Universal model from Daniel Machado's Github"
   ]
  },
  {
   "cell_type": "code",
   "execution_count": 305,
   "id": "301531e5-fafc-4b77-a9d2-7ac8053ae916",
   "metadata": {},
   "outputs": [],
   "source": [
    "model_universe = reframed.load_cbmodel('bigg_universe.xml')"
   ]
  },
  {
   "cell_type": "code",
   "execution_count": 306,
   "id": "d69f8ef6-cb70-4f73-8ede-c9108180058c",
   "metadata": {},
   "outputs": [
    {
     "data": {
      "text/plain": [
       "25348"
      ]
     },
     "execution_count": 306,
     "metadata": {},
     "output_type": "execute_result"
    }
   ],
   "source": [
    "len(model_universe.reactions)"
   ]
  },
  {
   "cell_type": "code",
   "execution_count": 307,
   "id": "78e81b43-a88e-486a-9974-b1b94622baed",
   "metadata": {},
   "outputs": [
    {
     "data": {
      "text/plain": [
       "R_GALUi: M_g1p_c + M_h_c + M_utp_c <-> M_ppi_c + M_udpg_c"
      ]
     },
     "execution_count": 307,
     "metadata": {},
     "output_type": "execute_result"
    }
   ],
   "source": [
    "model_universe.reactions.R_GALUi"
   ]
  },
  {
   "cell_type": "code",
   "execution_count": 308,
   "id": "01905dfe-d285-456a-8774-5bcfd1db547a",
   "metadata": {},
   "outputs": [],
   "source": [
    "model.add_reaction(model_universe.reactions.R_GALUi)"
   ]
  },
  {
   "cell_type": "code",
   "execution_count": 309,
   "id": "f7f8c599-fd9b-4c7d-b753-5ac560359346",
   "metadata": {},
   "outputs": [],
   "source": [
    "model.update()"
   ]
  },
  {
   "cell_type": "code",
   "execution_count": 310,
   "id": "4c46e9c4-7392-4109-b0cc-86c989ff816d",
   "metadata": {},
   "outputs": [
    {
     "data": {
      "text/plain": [
       "R_GALUi: M_g1p_c + M_h_c + M_utp_c <-> M_ppi_c + M_udpg_c"
      ]
     },
     "execution_count": 310,
     "metadata": {},
     "output_type": "execute_result"
    }
   ],
   "source": [
    "model.reactions.R_GALUi"
   ]
  },
  {
   "cell_type": "code",
   "execution_count": 311,
   "id": "1f458320-3a8b-4718-a3da-f02276f53e6b",
   "metadata": {},
   "outputs": [],
   "source": [
    "prot = reframed.Protein()\n",
    "prot.genes=['G_WP_015926747_1']\n",
    "gpr = reframed.GPRAssociation()\n",
    "gpr.proteins=[prot]\n"
   ]
  },
  {
   "cell_type": "code",
   "execution_count": 312,
   "id": "3067ea27-6f68-4aac-b90c-328c26218847",
   "metadata": {},
   "outputs": [],
   "source": [
    "model.set_gpr_association('R_GALUi',gpr=gpr)"
   ]
  },
  {
   "cell_type": "code",
   "execution_count": 313,
   "id": "0fbe9446-2fd4-4048-a880-d4833eb3bf58",
   "metadata": {},
   "outputs": [
    {
     "data": {
      "text/plain": [
       "G_WP_015926747_1"
      ]
     },
     "execution_count": 313,
     "metadata": {},
     "output_type": "execute_result"
    }
   ],
   "source": [
    "model.reactions.R_GALUi.gpr"
   ]
  },
  {
   "cell_type": "code",
   "execution_count": 314,
   "id": "6e99b834-1d18-4cf9-9892-c98a9a1e88c1",
   "metadata": {},
   "outputs": [],
   "source": [
    "model.update()"
   ]
  },
  {
   "cell_type": "code",
   "execution_count": 315,
   "id": "55393583-ad6c-4d1d-be31-7d2300c36d4c",
   "metadata": {},
   "outputs": [
    {
     "name": "stdout",
     "output_type": "stream",
     "text": [
      "R_EX_gal_e   -10\n",
      "R_EX_h_e     -10\n",
      "R_EX_no3_e   -10\n",
      "R_EX_cys__L_e -7.81625\n",
      "R_EX_pi_e    -0.642706\n",
      "R_EX_k_e     -0.0893471\n",
      "R_EX_mg2_e   -0.00397087\n",
      "R_EX_fe3_e   -0.00357401\n",
      "R_EX_fe2_e   -0.00307371\n",
      "R_EX_ca2_e   -0.00238252\n",
      "R_EX_cl_e    -0.00238252\n",
      "R_EX_so4_e   -0.00198566\n",
      "R_EX_cu2_e   -0.000324536\n",
      "R_EX_mn2_e   -0.000316297\n",
      "R_EX_ribflv_e -0.000204151\n",
      "R_EX_zn2_e   -0.000156088\n",
      "R_EX_cobalt2_e -4.57737e-05\n",
      "R_EX_4hba_e   0.000102075\n",
      "R_EX_d23hb_e  0.252297\n",
      "R_EX_h2s_e    7.70351\n",
      "R_EX_nh4_e    12.888\n",
      "R_EX_h2o_e    13.1179\n",
      "R_EX_ac_e     21.0385\n",
      "R_EX_co2_e    21.8343\n"
     ]
    }
   ],
   "source": [
    "reframed.pFBA(model,constraints={'R_EX_man_e':0,'R_EX_gal_e':(-10,0)}).show_values(pattern=\"R_EX_\",sort=True)"
   ]
  },
  {
   "cell_type": "markdown",
   "id": "ef8d2133-c098-4cbf-894e-c0ebec5b4fc8",
   "metadata": {},
   "source": [
    "### Summary"
   ]
  },
  {
   "cell_type": "markdown",
   "id": "dc6990e9-5838-40cf-b50a-b6ff6481b390",
   "metadata": {},
   "source": [
    "**Remove genes/proteins**"
   ]
  },
  {
   "cell_type": "code",
   "execution_count": 316,
   "id": "c2a28256-c209-4cf2-bf4f-770c8f8ae0b1",
   "metadata": {},
   "outputs": [
    {
     "data": {
      "text/plain": [
       "['G_WP_015926593_1', 'G_WP_049756869_1', 'G_WP_012634509_1']"
      ]
     },
     "execution_count": 316,
     "metadata": {},
     "output_type": "execute_result"
    }
   ],
   "source": [
    "[key for key, value in model.gene_to_reaction_lookup().items() if len(value)==0]"
   ]
  },
  {
   "cell_type": "code",
   "execution_count": 317,
   "id": "d6b1e984-0630-4f83-991d-062ee82500f6",
   "metadata": {},
   "outputs": [],
   "source": [
    "model.remove_genes([key for key, value in model.gene_to_reaction_lookup().items() if len(value)==0])"
   ]
  },
  {
   "cell_type": "code",
   "execution_count": 318,
   "id": "32d99737-6f2a-439c-9486-69982ea20323",
   "metadata": {},
   "outputs": [],
   "source": [
    "model.update()"
   ]
  },
  {
   "cell_type": "code",
   "execution_count": 319,
   "id": "bd254a59-fc16-48df-92fb-dd8c9768189f",
   "metadata": {},
   "outputs": [
    {
     "data": {
      "text/plain": [
       "[]"
      ]
     },
     "execution_count": 319,
     "metadata": {},
     "output_type": "execute_result"
    }
   ],
   "source": [
    "[key for key, value in model.gene_to_reaction_lookup().items() if len(value)==0]"
   ]
  },
  {
   "cell_type": "markdown",
   "id": "9f13e92f-e5c8-4009-b2cd-717ddd33289d",
   "metadata": {},
   "source": [
    "**Finish model**"
   ]
  },
  {
   "cell_type": "code",
   "execution_count": 320,
   "id": "e0698bd8-228b-455d-bfdc-43abbc92c033",
   "metadata": {},
   "outputs": [],
   "source": [
    "model.id = \"model_c_H10_part2_3_1\""
   ]
  },
  {
   "cell_type": "code",
   "execution_count": 321,
   "id": "e0de024e-da09-4c27-9475-5bfab0a355ce",
   "metadata": {},
   "outputs": [],
   "source": [
    "reframed.save_cbmodel(model,filename=\"model_c_H10_part2_3_1.xml\")"
   ]
  },
  {
   "cell_type": "code",
   "execution_count": 322,
   "id": "8fa73365-8dbb-49b1-a436-994f4812416b",
   "metadata": {},
   "outputs": [],
   "source": [
    "model_new = reframed.load_cbmodel('model_c_H10_part2_3_1.xml')"
   ]
  },
  {
   "cell_type": "code",
   "execution_count": 323,
   "id": "cb603787-9424-4333-aba8-fa80a1ed9b04",
   "metadata": {},
   "outputs": [],
   "source": [
    "model_prev = reframed.load_cbmodel('model_cellulolyticum_H10.xml')"
   ]
  },
  {
   "cell_type": "code",
   "execution_count": 324,
   "id": "b5b9ea90-4bbd-434d-b4de-743ec386305b",
   "metadata": {},
   "outputs": [],
   "source": [
    "models_dict={model.id:{} for model in [model_new,model_prev]}\n",
    "models_rxn_dict={model.id:{} for model in [model_new,model_prev]}\n",
    "for model in [model,model_prev]:\n",
    "    models_dict[model.id]['Reactions']=len(model.reactions)\n",
    "    models_dict[model.id]['Metabolites']=len(model.metabolites)\n",
    "    models_dict[model.id]['Genes']=len(model.genes)\n",
    "    \n",
    "    models_rxn_dict[model.id]['Enzymatic']=len(model.get_reactions_by_type(reframed.ReactionType.ENZYMATIC))\n",
    "    models_rxn_dict[model.id]['Exchange']=len(model.get_reactions_by_type(reframed.ReactionType.EXCHANGE))\n",
    "    models_rxn_dict[model.id]['Transport']=len(model.get_reactions_by_type(reframed.ReactionType.TRANSPORT))\n",
    "    models_rxn_dict[model.id]['Sink']=len(model.get_reactions_by_type(reframed.ReactionType.SINK))\n",
    "    models_rxn_dict[model.id]['Other']=len(model.get_reactions_by_type(reframed.ReactionType.OTHER))\n",
    "    "
   ]
  },
  {
   "cell_type": "markdown",
   "id": "74e9f641-7508-435f-8fdb-bf4d4c44395d",
   "metadata": {},
   "source": [
    "**Overview models**"
   ]
  },
  {
   "cell_type": "code",
   "execution_count": 325,
   "id": "8283c94d-981e-435c-ad40-e7e71b1f1f89",
   "metadata": {},
   "outputs": [
    {
     "data": {
      "text/html": [
       "<div>\n",
       "<style scoped>\n",
       "    .dataframe tbody tr th:only-of-type {\n",
       "        vertical-align: middle;\n",
       "    }\n",
       "\n",
       "    .dataframe tbody tr th {\n",
       "        vertical-align: top;\n",
       "    }\n",
       "\n",
       "    .dataframe thead th {\n",
       "        text-align: right;\n",
       "    }\n",
       "</style>\n",
       "<table border=\"1\" class=\"dataframe\">\n",
       "  <thead>\n",
       "    <tr style=\"text-align: right;\">\n",
       "      <th></th>\n",
       "      <th>model_c_H10_part2_3_1</th>\n",
       "      <th>model_cellulolyticum_H10</th>\n",
       "    </tr>\n",
       "  </thead>\n",
       "  <tbody>\n",
       "    <tr>\n",
       "      <th>Reactions</th>\n",
       "      <td>1782</td>\n",
       "      <td>1811</td>\n",
       "    </tr>\n",
       "    <tr>\n",
       "      <th>Metabolites</th>\n",
       "      <td>1250</td>\n",
       "      <td>1250</td>\n",
       "    </tr>\n",
       "    <tr>\n",
       "      <th>Genes</th>\n",
       "      <td>728</td>\n",
       "      <td>733</td>\n",
       "    </tr>\n",
       "  </tbody>\n",
       "</table>\n",
       "</div>"
      ],
      "text/plain": [
       "             model_c_H10_part2_3_1  model_cellulolyticum_H10\n",
       "Reactions                     1782                      1811\n",
       "Metabolites                   1250                      1250\n",
       "Genes                          728                       733"
      ]
     },
     "execution_count": 325,
     "metadata": {},
     "output_type": "execute_result"
    }
   ],
   "source": [
    "pd.DataFrame(models_dict)"
   ]
  },
  {
   "cell_type": "markdown",
   "id": "30dd7bc6-f1a8-4295-810d-f186355201bf",
   "metadata": {},
   "source": [
    "**Overview reactions in models**"
   ]
  },
  {
   "cell_type": "code",
   "execution_count": 326,
   "id": "080f3666-c71a-4aed-8b01-4500e92f1913",
   "metadata": {},
   "outputs": [
    {
     "data": {
      "text/html": [
       "<div>\n",
       "<style scoped>\n",
       "    .dataframe tbody tr th:only-of-type {\n",
       "        vertical-align: middle;\n",
       "    }\n",
       "\n",
       "    .dataframe tbody tr th {\n",
       "        vertical-align: top;\n",
       "    }\n",
       "\n",
       "    .dataframe thead th {\n",
       "        text-align: right;\n",
       "    }\n",
       "</style>\n",
       "<table border=\"1\" class=\"dataframe\">\n",
       "  <thead>\n",
       "    <tr style=\"text-align: right;\">\n",
       "      <th></th>\n",
       "      <th>model_c_H10_part2_3_1</th>\n",
       "      <th>model_cellulolyticum_H10</th>\n",
       "    </tr>\n",
       "  </thead>\n",
       "  <tbody>\n",
       "    <tr>\n",
       "      <th>Enzymatic</th>\n",
       "      <td>878</td>\n",
       "      <td>883</td>\n",
       "    </tr>\n",
       "    <tr>\n",
       "      <th>Exchange</th>\n",
       "      <td>210</td>\n",
       "      <td>210</td>\n",
       "    </tr>\n",
       "    <tr>\n",
       "      <th>Transport</th>\n",
       "      <td>449</td>\n",
       "      <td>475</td>\n",
       "    </tr>\n",
       "    <tr>\n",
       "      <th>Sink</th>\n",
       "      <td>0</td>\n",
       "      <td>0</td>\n",
       "    </tr>\n",
       "    <tr>\n",
       "      <th>Other</th>\n",
       "      <td>245</td>\n",
       "      <td>243</td>\n",
       "    </tr>\n",
       "  </tbody>\n",
       "</table>\n",
       "</div>"
      ],
      "text/plain": [
       "           model_c_H10_part2_3_1  model_cellulolyticum_H10\n",
       "Enzymatic                    878                       883\n",
       "Exchange                     210                       210\n",
       "Transport                    449                       475\n",
       "Sink                           0                         0\n",
       "Other                        245                       243"
      ]
     },
     "execution_count": 326,
     "metadata": {},
     "output_type": "execute_result"
    }
   ],
   "source": [
    "pd.DataFrame(models_rxn_dict)"
   ]
  },
  {
   "cell_type": "markdown",
   "id": "1e1dea75-97e5-47f7-9912-4cd7d63a824a",
   "metadata": {},
   "source": [
    "**Reactions removed**"
   ]
  },
  {
   "cell_type": "code",
   "execution_count": 327,
   "id": "a72d7f24-6986-4ad6-840f-6e896ab4d7ab",
   "metadata": {},
   "outputs": [
    {
     "data": {
      "text/plain": [
       "{'R_ACGApts',\n",
       " 'R_ACMANApts',\n",
       " 'R_ACNAMt2',\n",
       " 'R_ARBTpts',\n",
       " 'R_ARBabcpp',\n",
       " 'R_ARBt2r',\n",
       " 'R_ASCBpts',\n",
       " 'R_CD6P',\n",
       " 'R_CELBt2',\n",
       " 'R_FRUpts',\n",
       " 'R_FUCpts',\n",
       " 'R_GALTpts',\n",
       " 'R_GALpts',\n",
       " 'R_GALt2_3',\n",
       " 'R_GAMpts',\n",
       " 'R_GLCAt2',\n",
       " 'R_GLCabcpp',\n",
       " 'R_GLCpts',\n",
       " 'R_GLUKA_1',\n",
       " 'R_ID6P',\n",
       " 'R_MALTpts',\n",
       " 'R_MALTt2',\n",
       " 'R_MANpts',\n",
       " 'R_MNLDHr',\n",
       " 'R_MNLpts',\n",
       " 'R_SBTpts',\n",
       " 'R_SBTt2',\n",
       " 'R_SUCRt2',\n",
       " 'R_SUCpts',\n",
       " 'R_TREpts',\n",
       " 'R_XYLI2',\n",
       " 'R_XYLabcpp',\n",
       " 'R_XYLt2',\n",
       " 'R_r0191'}"
      ]
     },
     "execution_count": 327,
     "metadata": {},
     "output_type": "execute_result"
    }
   ],
   "source": [
    "set(model_prev.reactions)-set(model_new.reactions)"
   ]
  },
  {
   "cell_type": "markdown",
   "id": "ed5f668d-8e90-4c40-928a-3ceef277ad7b",
   "metadata": {},
   "source": [
    "**Reactions added**"
   ]
  },
  {
   "cell_type": "code",
   "execution_count": 328,
   "id": "e410941d-e7e2-4e81-a4c5-ef2fcaf61731",
   "metadata": {},
   "outputs": [
    {
     "data": {
      "text/plain": [
       "{'R_FNRR', 'R_FNRR2', 'R_GALabc', 'R_H2td', 'R_PFK_ppi'}"
      ]
     },
     "execution_count": 328,
     "metadata": {},
     "output_type": "execute_result"
    }
   ],
   "source": [
    "set(model_new.reactions)-set(model_prev.reactions)"
   ]
  }
 ],
 "metadata": {
  "kernelspec": {
   "display_name": "RecAndAn",
   "language": "python",
   "name": "recandan"
  },
  "language_info": {
   "codemirror_mode": {
    "name": "ipython",
    "version": 3
   },
   "file_extension": ".py",
   "mimetype": "text/x-python",
   "name": "python",
   "nbconvert_exporter": "python",
   "pygments_lexer": "ipython3",
   "version": "3.7.13"
  }
 },
 "nbformat": 4,
 "nbformat_minor": 5
}
