{
 "cells": [
  {
   "cell_type": "markdown",
   "id": "470a6cb0-5cf6-4156-a386-37b092f78f09",
   "metadata": {},
   "source": [
    "# <span style=\"color: blue;\">Part 1.1.1: Growth of R. cellulolyticum CarveMe model on various basic growth media with simple sugars. </span>"
   ]
  },
  {
   "cell_type": "markdown",
   "id": "7056059f-aec5-4d98-a9cd-452bd85f955a",
   "metadata": {},
   "source": [
    "\n",
    "What do we want to include in this paper?\n",
    "\n",
    "\n",
    "**A: Comparison with iFS431 model: Growth on cellobiose and \"cellulose.**\n",
    "- A.1 Growth on cellobiose: *Carbon and electron flow in Clostridium cellulolyticumgrownin  chemostat  culture  on  synthetic  medium (Guedon et al., 1999)\n",
    "- A.1.1 Test production and growth rate at the same dilution rate as in the modeling of iFS431.\n",
    "- A.1.3 Testing production rates while varying max production rate.\n",
    "\n",
    "**B: Testing the model on additional data.**\n",
    "- B.1: Growth rate while varying the dilution rate. With data from Guedon et al. (1999)\n",
    "- B.2: KO experiments with data from Kampik et al. (2021)\n",
    "**C: ATP and biomass yield and growth rate on various sugars.**\n",
    "- C.1. Testing ATP production on various sugars\n",
    "- C.2. Testing growth production on various sugars. \n",
    "- C.3 Create Escher model for sugar metabolism in the model. \n",
    "\n",
    "\n",
    "Additional questions:\n",
    "- How is ATP produced in the organism?\n",
    "- What does the fermentation pathways look like, compared to what they should look like?\n",
    "- What should GAM and NGAM be?\n"
   ]
  },
  {
   "cell_type": "markdown",
   "id": "beb239ae-c338-4a41-a6f6-95ad10b11992",
   "metadata": {},
   "source": [
    "#### Importing tools"
   ]
  },
  {
   "cell_type": "code",
   "execution_count": 1,
   "id": "2f995e4c-19c6-420a-80f7-ca3f07eb11e1",
   "metadata": {},
   "outputs": [],
   "source": [
    "import reframed\n",
    "from reframed import pFBA, Environment, FVA,FBA\n",
    "import pandas as pd\n",
    "import matplotlib.pyplot as plt\n",
    "import numpy as np\n",
    "from collections import OrderedDict \n"
   ]
  },
  {
   "cell_type": "markdown",
   "id": "fcc048e7-71a1-48d4-b55e-c7fd53e8e817",
   "metadata": {},
   "source": [
    "#### Loading model"
   ]
  },
  {
   "cell_type": "code",
   "execution_count": 2,
   "id": "b78d4614-81fe-452a-b36c-74bfd0071ce8",
   "metadata": {},
   "outputs": [],
   "source": [
    "model = reframed.load_cbmodel('model_cellulolyticum_H10.xml')"
   ]
  },
  {
   "cell_type": "markdown",
   "id": "2025d81b-d475-4808-9c46-e18ec0895c25",
   "metadata": {},
   "source": [
    "#### <span style=\"color: blue;\">pFBA with the media the model is initiated with (H10_minimal_glucose)</span>\n",
    "\n",
    "**Details**: \n",
    "- **H10_minimal_glucose** is minimal media from *Handling Several Sugars at a Time: a Case Study of Xyloglucan Utilization by Ruminiclostridium cellulolyticum (Kampik et al.,2021)*\n",
    "\n",
    "**Results**:\n"
   ]
  },
  {
   "cell_type": "code",
   "execution_count": 3,
   "id": "f62d4c1d-c96b-421c-9eaa-ad0a65087244",
   "metadata": {},
   "outputs": [],
   "source": [
    "sol = pFBA(model)"
   ]
  },
  {
   "cell_type": "code",
   "execution_count": 4,
   "id": "636a4154-c682-4dfb-8bab-7ce2a8ea6001",
   "metadata": {},
   "outputs": [
    {
     "name": "stdout",
     "output_type": "stream",
     "text": [
      "Growth        0.595921\n"
     ]
    }
   ],
   "source": [
    "sol.show_values(pattern='Growth')"
   ]
  },
  {
   "cell_type": "code",
   "execution_count": 5,
   "id": "f0c549c7-df2d-4606-9bbb-d4540a969b89",
   "metadata": {},
   "outputs": [
    {
     "name": "stdout",
     "output_type": "stream",
     "text": [
      "R_EX_glc__D_e -10\n",
      "R_EX_cys__L_e -10\n",
      "R_EX_no3_e   -8.74218\n",
      "R_EX_pi_e    -0.836729\n",
      "R_EX_h_e     -0.79236\n",
      "R_EX_k_e     -0.11632\n",
      "R_EX_mg2_e   -0.00516962\n",
      "R_EX_fe3_e   -0.00465295\n",
      "R_EX_fe2_e   -0.00400161\n",
      "R_EX_ca2_e   -0.00310177\n",
      "R_EX_cl_e    -0.00310177\n",
      "R_EX_so4_e   -0.00258511\n",
      "R_EX_cu2_e   -0.000422508\n",
      "R_EX_mn2_e   -0.000411782\n",
      "R_EX_ribflv_e -0.000265781\n",
      "R_EX_zn2_e   -0.000203209\n",
      "R_EX_cobalt2_e -5.95921e-05\n",
      "R_EX_4hba_e   0.00013289\n",
      "R_EX_d23hb_e  0.328462\n",
      "R_EX_h2s_e    9.85323\n",
      "R_EX_h2o_e    10.6375\n",
      "R_EX_nh4_e    12.3262\n",
      "R_EX_ac_e     21.1761\n",
      "R_EX_co2_e    22.2122\n"
     ]
    }
   ],
   "source": [
    "sol.show_values(pattern='R_EX',sort=True)"
   ]
  },
  {
   "cell_type": "markdown",
   "id": "aa854b6e-c6cb-4c5e-8841-f2d4cce28d6c",
   "metadata": {},
   "source": [
    "## <span style=\"color: blue;\">A: Comparison with iFS431 model: Growth on cellobiose and \"cellulose\". </span>"
   ]
  },
  {
   "cell_type": "markdown",
   "id": "7f74aa9d-d4d9-4d37-867c-d7e502381c46",
   "metadata": {
    "tags": []
   },
   "source": [
    "The iFS431 model was created in 2010 for R. cellulolyticum. In this part we will test growth on the media that they used to test this model to see how the CarveMe model performs in comparison. \n",
    "\n",
    "**Motivation**: When presenting the new model, we should address how it is performing in comparison to the iFS431 model. \n",
    "\n",
    "#### The growth of iFS431 was tested based on this data: \n",
    "-  **A.1. Growth on cellobiose**: *Carbon and electron flow in Clostridium cellulolyticumgrownin  chemostat  culture  on  synthetic  medium (Guedon et al., 1999)*. \n",
    "    - **Used in CarveMe reconstruction**: H10_defined_medium_cellobiose\n",
    "    - Model iFS431 has higher acetate production than the actual production. \n",
    "    - Model does not predict pyruvate formation. -> They put a constraint on the LDH and PFI to represent the maximal observed lactate production rate (0.3 mmol/g CDW/h)\n",
    "\n",
    "\n",
    "- <span style=\"color: red;\">**A.2 Growth on cellulose (effectively cellobiose)**: *Carbon  flux distribution  and  kinetics  of  cellulose  fermentation  insteady-state   continuous   cultures   of   Clostridium   cellulolyticumon  a  chemically  defined  medium. (Desvaux, 2001)*. \n",
    "    - **Used in CarveMe reconstruction**: H10_defined_medium_cellulose \n",
    "    - *Decided not to use this, because it doesn't really provide any new, interesting information.*\n",
    "\n",
    "\n",
    "- **Other factors in modeling**: \n",
    "    - Max growth is objective function.\n",
    "    - The uptake was calculated for various compounds"
   ]
  },
  {
   "cell_type": "markdown",
   "id": "36b1e460-3e22-4cb4-a65f-e807a28c26f9",
   "metadata": {},
   "source": [
    "### <span style=\"color: blue;\">**A.1 Growth on cellobiose**: *Carbon and electron flow in Clostridium cellulolyticumgrownin  chemostat  culture  on  synthetic  medium (Guedon et al., 1999)*</span>. "
   ]
  },
  {
   "cell_type": "markdown",
   "id": "d566b7bb-f484-4010-87fb-b34b0e658506",
   "metadata": {
    "tags": []
   },
   "source": [
    "**The study**: In this study they calculated the specific uptake of cellobiose and production of fermentation products when growing R. cellulolyticum in a chemostat at various dilution rates. It was also used in the study where iFS431 was created (Salimi et al, 2010).\n",
    "\n",
    "**Modeling of growth in iFS431**: Although they do not provide the info of how they obtain it in Guedon et al. (1999), the modelers have somehow calculated the uptake rates of Pi, NH4 and other nutrients. *To test the model, I will use this in my model as well.*\n"
   ]
  },
  {
   "cell_type": "markdown",
   "id": "3ca71658-8d01-4b49-809d-0a73145ed02e",
   "metadata": {},
   "source": [
    "#### <span style=\"color: blue;\"> Import data from this experiment (from CarveMe media input file) and use as environement</span>"
   ]
  },
  {
   "cell_type": "code",
   "execution_count": 6,
   "id": "b8bcef08-6fc2-430a-aaea-edc8724f262f",
   "metadata": {},
   "outputs": [],
   "source": [
    "media = pd.read_csv('carveMe input/carveMe_medium.tsv',sep='\\t')\n",
    "media_cellb = media[media.medium=='H10_defined_medium_cellobiose']\n",
    "media_cellb_list = list(media_cellb['compound'])"
   ]
  },
  {
   "cell_type": "code",
   "execution_count": 7,
   "id": "2d3f781b-751c-49ce-80d6-4d85bd7a14cd",
   "metadata": {
    "tags": []
   },
   "outputs": [],
   "source": [
    "# Create an environment object\n",
    "env_cellb = Environment.from_compounds(media_cellb_list)\n",
    "\n",
    "# Get the keys (the id of the exchange reactions) from the Environment object\n",
    "env_ex_ids = env_cellb.keys()\n",
    "\n",
    "# For all exchange reactions -> set uptake to zero unless it is in the media\n",
    "\n",
    "\n",
    "for ex_rxn in model.get_exchange_reactions():\n",
    "    if ex_rxn in env_ex_ids:\n",
    "        model.reactions[ex_rxn].lb=-10\n",
    "    else:\n",
    "        model.reactions[ex_rxn].lb=0\n"
   ]
  },
  {
   "cell_type": "code",
   "execution_count": 8,
   "id": "7446ee3c-41bf-47ca-afec-b0b078843325",
   "metadata": {},
   "outputs": [],
   "source": [
    "sol = pFBA(model)"
   ]
  },
  {
   "cell_type": "code",
   "execution_count": 9,
   "id": "078c3fa2-079f-4fbd-8997-9564a59f0018",
   "metadata": {},
   "outputs": [
    {
     "name": "stdout",
     "output_type": "stream",
     "text": [
      "Growth        0.612223\n"
     ]
    }
   ],
   "source": [
    "sol.show_values(pattern='Growth')"
   ]
  },
  {
   "cell_type": "code",
   "execution_count": 10,
   "id": "26041fd4-1236-4e3e-ba6a-4b9bbab78f0f",
   "metadata": {},
   "outputs": [
    {
     "name": "stdout",
     "output_type": "stream",
     "text": [
      "R_EX_cellb_e -10\n",
      "R_EX_h_e     -10\n",
      "R_EX_so4_e   -7.836\n",
      "R_EX_nh4_e   -6.59126\n",
      "R_EX_pi_e    -0.859618\n",
      "R_EX_k_e     -0.119502\n",
      "R_EX_mg2_e   -0.00531103\n",
      "R_EX_fe3_e   -0.00478024\n",
      "R_EX_fe2_e   -0.00411108\n",
      "R_EX_ca2_e   -0.00318662\n",
      "R_EX_cl_e    -0.00318662\n",
      "R_EX_cu2_e   -0.000434066\n",
      "R_EX_mn2_e   -0.000423046\n",
      "R_EX_ribflv_e -0.000273051\n",
      "R_EX_zn2_e   -0.000208768\n",
      "R_EX_thm_e   -0.000136526\n",
      "R_EX_cobalt2_e -6.12223e-05\n",
      "R_EX_pydxn_e  0.000348355\n",
      "R_EX_d23hb_e  0.337447\n",
      "R_EX_etoh_e   2.28904\n",
      "R_EX_h2s_e    7.6827\n",
      "R_EX_acald_e  28.6457\n",
      "R_EX_co2_e    31.999\n",
      "R_EX_h2o_e    37.3465\n"
     ]
    }
   ],
   "source": [
    "sol.show_values(pattern='R_EX',sort=True)"
   ]
  },
  {
   "cell_type": "markdown",
   "id": "c1b502ba-adb7-4cdc-b56f-95d57c7990ad",
   "metadata": {
    "tags": []
   },
   "source": [
    "#### <span style=\"color: blue;\">**A.1.1 Test production and growth rate at the same dilution rate as in the modeling of iFS431.**</span> "
   ]
  },
  {
   "cell_type": "markdown",
   "id": "d9a62057-22c8-433b-b76f-050b58f8e044",
   "metadata": {},
   "source": [
    "**For information**: \n",
    "\n",
    "Fermentation product production is given as percentage of pyruvate production rate. \n",
    "q(pyruvate) = q(ethanol) + q(acetate) + q(lactate)\n",
    "\n",
    "\n",
    "**Data given in Guedon et al. (1999)**"
   ]
  },
  {
   "cell_type": "code",
   "execution_count": 11,
   "id": "e3e51b81-affe-4f7b-a515-bcdd47eef0d9",
   "metadata": {},
   "outputs": [],
   "source": [
    "q_cellb = 1.98 # Specific uptake\n",
    "q_pyr = 4.35 # Specific production\n",
    "percent_ac = 47.8\n",
    "percent_lac = 8.3\n",
    "percent_etoh = 43.9\n",
    "\n",
    "q_ac = q_pyr * percent_ac /100 # Specific production\n",
    "q_lac = q_pyr * percent_lac /100 # Specific production\n",
    "q_etoh = q_pyr * percent_etoh /100 # Specific production\n",
    "\n",
    "mu = 0.138 # Dilution rate/growth rate "
   ]
  },
  {
   "cell_type": "markdown",
   "id": "994c2f4d-a29e-48bf-9e7b-203b98ecbb1d",
   "metadata": {},
   "source": [
    "<span style=\"color: blue;\">**Constraints used in Salimi et al. (2010) for growth on cellobiose**</span>"
   ]
  },
  {
   "cell_type": "code",
   "execution_count": 12,
   "id": "40561a21-4fc0-4967-87d3-fe594fa91c68",
   "metadata": {},
   "outputs": [],
   "source": [
    "constraints = {}\n",
    "constraints = {'R_EX_so4_e':(-2.45,1000),\n",
    "               'R_EX_pi_e':(-7.46,1000),\n",
    "               'R_EX_nh4_e':(-4.9,1000)} # These are the constraints that I do not know how they calculated\n",
    "\n",
    "\n",
    "constraints['R_EX_cellb_e']=(-q_cellb,0)"
   ]
  },
  {
   "cell_type": "markdown",
   "id": "c2d38146",
   "metadata": {},
   "source": [
    "<span style=\"color: blue;\">**Determining optimal solution**</span>"
   ]
  },
  {
   "cell_type": "code",
   "execution_count": 13,
   "id": "6e75be90-21cb-4a1c-a613-fbcda82cce06",
   "metadata": {},
   "outputs": [
    {
     "name": "stdout",
     "output_type": "stream",
     "text": [
      "Growth        0.122388\n"
     ]
    }
   ],
   "source": [
    "sol = pFBA(model, constraints = constraints)\n",
    "sol.show_values(pattern='Growth')"
   ]
  },
  {
   "cell_type": "code",
   "execution_count": 14,
   "id": "5f1f62e5-ceec-4c45-9a11-217299fc37ce",
   "metadata": {},
   "outputs": [
    {
     "name": "stdout",
     "output_type": "stream",
     "text": [
      "R_EX_h_e     -2.19068\n",
      "R_EX_cellb_e -1.98\n",
      "R_EX_so4_e   -1.6618\n",
      "R_EX_nh4_e   -1.31764\n",
      "R_EX_pi_e    -0.171844\n",
      "R_EX_k_e     -0.0238893\n",
      "R_EX_mg2_e   -0.00106172\n",
      "R_EX_fe3_e   -0.000955605\n",
      "R_EX_fe2_e   -0.000821835\n",
      "R_EX_ca2_e   -0.000637029\n",
      "R_EX_cl_e    -0.000637029\n",
      "R_EX_cu2_e   -8.67731e-05\n",
      "R_EX_mn2_e   -8.45701e-05\n",
      "R_EX_ribflv_e -5.4585e-05\n",
      "R_EX_zn2_e   -4.17343e-05\n",
      "R_EX_thm_e   -2.72925e-05\n",
      "R_EX_cobalt2_e -1.22388e-05\n",
      "R_EX_pydxn_e  6.96388e-05\n",
      "R_EX_d23hb_e  0.0674582\n",
      "R_EX_h2s_e    1.63115\n",
      "R_EX_acald_e  6.10778\n",
      "R_EX_co2_e    6.32055\n",
      "R_EX_h2o_e    7.86622\n"
     ]
    }
   ],
   "source": [
    "sol.show_values(pattern='R_EX',sort=True)"
   ]
  },
  {
   "cell_type": "code",
   "execution_count": 15,
   "id": "993832e2-b922-42c4-a774-bbf487b137f0",
   "metadata": {},
   "outputs": [],
   "source": [
    "mu_predict = sol.values['Growth']\n",
    "q_ac_predict = sol.values['R_EX_ac_e']\n",
    "\n",
    "q_etoh_predict = sol.values['R_EX_etoh_e']\n",
    "q_lac_predict = sol.values['R_EX_lac__L_e']"
   ]
  },
  {
   "cell_type": "markdown",
   "id": "1d4154a6-0b82-4d55-80a0-00e18038e495",
   "metadata": {},
   "source": [
    "<span style=\"color: blue;\">**Finding boundaries of the solution space, with objective fraction=0.9**</span>"
   ]
  },
  {
   "cell_type": "code",
   "execution_count": 16,
   "id": "dad08d0e-a805-422b-af05-705d20e0f29d",
   "metadata": {},
   "outputs": [],
   "source": [
    "constraints = {}\n",
    "constraints = {'R_EX_so4_e':(-2.45,1000),\n",
    "               'R_EX_pi_e':(-7.46,1000),\n",
    "               'R_EX_nh4_e':(-4.9,1000)}\n",
    "\n",
    "constraints['R_EX_glc__D_e']=0\n",
    "constraints['R_EX_cellb_e']=-q_cellb\n",
    "\n",
    "sol_fva = FVA(model, constraints = constraints,obj_frac=0.9)\n"
   ]
  },
  {
   "cell_type": "code",
   "execution_count": 17,
   "id": "c4921fd9-b707-47e4-afbd-ffab1a5ca143",
   "metadata": {},
   "outputs": [],
   "source": [
    "sol_fva_ac = sol_fva['R_EX_ac_e']\n",
    "sol_fva_etoh = sol_fva['R_EX_etoh_e']\n",
    "sol_fva_lac = sol_fva['R_EX_lac__L_e']"
   ]
  },
  {
   "cell_type": "markdown",
   "id": "baf9109e-cb53-4b25-8375-ad9328744597",
   "metadata": {},
   "source": [
    "<span style=\"color: blue;\">**Plotting the predicted against experimental fermentation product production rate**</span>\n",
    "\n",
    "<span style=\"color: red;\"> pFBA does not predict any production of acetate, lactate, or ethanol. This does *not* match with the experimental results. In addition it does not predict any production of h2 or pyruvate. </span> On the other hand it is not unlikely that this is simply because the model objective is growth, something that likely differs from the true objective. "
   ]
  },
  {
   "cell_type": "code",
   "execution_count": 18,
   "id": "b49f9028-f2ab-4845-849d-be7549458560",
   "metadata": {},
   "outputs": [],
   "source": [
    "predicted = [mu_predict, q_ac_predict, q_etoh_predict, q_lac_predict]\n",
    "expected = [mu, q_ac, q_etoh, q_lac]\n",
    "\n",
    "y_max = [0, sol_fva_ac[1]-predicted[1],sol_fva_etoh[1]-predicted[2],sol_fva_lac[1]-predicted[3]]\n",
    "y_min = [0,predicted[1]-sol_fva_ac[0],predicted[2] - sol_fva_etoh[0],predicted[3]- sol_fva_lac[0]]\n",
    "\n",
    "\n",
    "ind = ['Growth','Acetate','Ethanol','Lactate']\n"
   ]
  },
  {
   "cell_type": "code",
   "execution_count": 19,
   "id": "5a2f8904-5b29-488e-9575-f04f03bbda18",
   "metadata": {},
   "outputs": [
    {
     "data": {
      "image/png": "[encoded data removed]",
      "text/plain": [
       "<Figure size 432x288 with 1 Axes>"
      ]
     },
     "metadata": {
      "needs_background": "light"
     },
     "output_type": "display_data"
    }
   ],
   "source": [
    "fig = plt.figure()\n",
    "ax = fig.add_subplot(111)\n",
    "\n",
    "# Multiple bar chart\n",
    "\n",
    "ax.bar(x=ind, height=predicted, width=0.55,  align='center',label=\"Predicted\")\n",
    "ax.bar(x=ind, height=expected, width=0.55/3,align='center',label=\"Experimental\")\n",
    "\n",
    "ax.errorbar(ind, predicted,yerr =(y_min,y_max), fmt=\"o\",color=\"r\")\n",
    "\n",
    "ax.legend( labels=['Predicted','Experimental'])\n",
    "# Define x-ticks\n",
    "\n",
    "plt.xticks(ind, ind)\n",
    "\n",
    "# Layout and Display\n",
    "\n",
    "plt.tight_layout()\n",
    "\n",
    "plt.rcParams[\"figure.figsize\"] = (12,8)\n",
    "\n",
    "plt.show()"
   ]
  },
  {
   "cell_type": "markdown",
   "id": "973ffb50-f9c3-4a1c-98b6-179315c0e5d1",
   "metadata": {
    "tags": []
   },
   "source": [
    "#### <span style=\"color: blue;\">A.1.2: Production envelopes for various fermentation products. </span>"
   ]
  },
  {
   "cell_type": "markdown",
   "id": "f1f66e4a-e656-43a3-8bef-a4ad2104efe2",
   "metadata": {},
   "source": [
    "**Motivation** Even though the model is not producing the compounds we expect at near optimal biomass production, this doesn't mean that there are problems with the model. To see if there are problems with the model we are checking that production is feasible at lower biomass production. *In addition, for the example above, I chose 90% of biomass prod by trial and error. In the following results you can see when the predictions meet experimental results.*\n",
    "\n",
    "- run FVA at different max biomass\n",
    "- take out the values of the max and min of the various fermentation products\n",
    "- plot max and min product production against the percentage of growth rate. "
   ]
  },
  {
   "cell_type": "code",
   "execution_count": 20,
   "id": "3072a00b-5017-42c3-b49c-e02d1218a04f",
   "metadata": {
    "tags": []
   },
   "outputs": [
    {
     "name": "stdout",
     "output_type": "stream",
     "text": [
      "0.0\n",
      "0.05\n",
      "0.1\n",
      "0.15000000000000002\n",
      "0.2\n",
      "0.25\n",
      "0.30000000000000004\n",
      "0.35000000000000003\n",
      "0.4\n",
      "0.45\n",
      "0.5\n",
      "0.55\n",
      "0.6000000000000001\n",
      "0.65\n",
      "0.7000000000000001\n",
      "0.75\n",
      "0.8\n",
      "0.8500000000000001\n",
      "0.9\n",
      "0.9500000000000001\n"
     ]
    }
   ],
   "source": [
    "obj_frac_list=[]\n",
    "ac_max=[]\n",
    "ac_min=[]\n",
    "etoh_max=[]\n",
    "etoh_min=[]\n",
    "lac_max=[]\n",
    "lac_min=[]\n",
    "co2_max=[]\n",
    "co2_min=[]\n",
    "h2_max=[]\n",
    "h2_min=[]\n",
    "\n",
    "for obj_frac in np.arange(0,1,0.05).tolist():\n",
    "    print(obj_frac)\n",
    "    sol_fva = FVA(model, constraints = constraints, reactions=['R_EX_ac_e','R_EX_etoh_e','R_EX_lac__L_e','R_EX_co2_e','R_EX_h2_e'],obj_frac=obj_frac)\n",
    "    sol_fva_ac = sol_fva['R_EX_ac_e']\n",
    "    sol_fva_etoh = sol_fva['R_EX_etoh_e']\n",
    "    sol_fva_lac = sol_fva['R_EX_lac__L_e']\n",
    "    sol_fva_co2 = sol_fva['R_EX_co2_e']\n",
    "    sol_fva_h2 = sol_fva['R_EX_h2_e']\n",
    "    \n",
    "    ac_max.append(sol_fva_ac[1])\n",
    "    ac_min.append(sol_fva_ac[0])\n",
    "    etoh_max.append(sol_fva_etoh[1])\n",
    "    etoh_min.append(sol_fva_etoh[0])\n",
    "    lac_max.append(sol_fva_lac[1])\n",
    "    lac_min.append(sol_fva_lac[0])\n",
    "    co2_max.append(sol_fva_co2[1])\n",
    "    co2_min.append(sol_fva_co2[0])\n",
    "    h2_max.append(sol_fva_h2[1])\n",
    "    h2_min.append(sol_fva_h2[0])\n",
    "    obj_frac_list.append(obj_frac)"
   ]
  },
  {
   "cell_type": "code",
   "execution_count": 21,
   "id": "a1028e8b-fa37-4f11-bc1c-d32fb4a09f87",
   "metadata": {
    "tags": []
   },
   "outputs": [
    {
     "data": {
      "image/png": "[encoded data removed]",
      "text/plain": [
       "<Figure size 864x576 with 1 Axes>"
      ]
     },
     "metadata": {
      "needs_background": "light"
     },
     "output_type": "display_data"
    }
   ],
   "source": [
    "\n",
    "x = obj_frac_list\n",
    "\n",
    "y1 = ac_max\n",
    "plt.plot(x, y1, label = \"acetate\",color='blue')\n",
    "plt.hlines(y=q_ac, xmin=0.4, xmax=0.6, colors='blue', linestyles='dotted', lw=2,label='ac exp')\n",
    "\n",
    "\n",
    "y2 = etoh_max\n",
    "plt.plot(x, y2, label = \"ethanol\",color = 'orange')\n",
    "plt.hlines(y=q_etoh, xmin=0.86, xmax=0.97, colors='orange', linestyles='dotted', lw=2,label='etoh exp')\n",
    "\n",
    "y3 = lac_max\n",
    "plt.plot(x, y3, label = \"lactate\",color = 'green')\n",
    "plt.hlines(y=q_lac, xmin=0.83, xmax=0.95, colors='green', linestyles='dotted', lw=2,label='lac exp')\n",
    "\n",
    "# naming the x axis\n",
    "plt.xlabel('Fraction of objective function')\n",
    "# naming the y axis\n",
    "plt.ylabel('Max production rate')\n",
    "# giving a title to my graph\n",
    "  \n",
    "# show a legend on the plot\n",
    "plt.legend()\n",
    "plt.rcParams[\"figure.figsize\"] = (12,8)\n",
    "  \n",
    "# function to show the plot\n",
    "plt.show()"
   ]
  },
  {
   "cell_type": "markdown",
   "id": "1108c952-fe3f-417d-8695-5bc97e80e479",
   "metadata": {},
   "source": [
    "#### **<span style=\"color: purple;\"> A.1.1 ANALYSIS: Transport reactions </span>**"
   ]
  },
  {
   "cell_type": "markdown",
   "id": "d89431ca-6222-461b-8d4c-2feaabc9ddc1",
   "metadata": {},
   "source": [
    "**Growth rate**: The predicted growth rate is almost the same as the experimental value. \n",
    "\n",
    "**Fermentation product production**: The model is not producing the fermentation products that we would expect. As shown above, ***the model is rather producing other fermentation products***. It should be noted that this could also be a limit with pFBA. The red lines in the plot above shows the range of the alternative solutions. Based on this, ethanol and lactate can be accurately predicted, but not acetate. \n",
    "\n",
    "\n",
    "**MEMOTE** provides a list of transport reactions that do not have a GPR associated with them.\n",
    "There are exchange reactions that have been included in the model without any genetic evidence. Here I'm trying to find out if these have affected the solution space. "
   ]
  },
  {
   "cell_type": "code",
   "execution_count": 22,
   "id": "a5c57598-1c23-40ca-b34a-1136c821b037",
   "metadata": {},
   "outputs": [],
   "source": [
    "sol_fva = FVA(model, constraints = constraints,obj_frac=1.0)\n",
    "# Reactions that can have a positive flux in the optimal solution space - according to FVA\n",
    "fva_positive_flux = {x:sol_fva[x] for x in model.get_exchange_reactions() if sol_fva[x][1]>0}"
   ]
  },
  {
   "cell_type": "code",
   "execution_count": 23,
   "id": "07fb00f7-4e6c-4ad9-bc87-d32cc7c31d02",
   "metadata": {
    "tags": []
   },
   "outputs": [],
   "source": [
    "rxns_fva_positive_flux = list(fva_positive_flux.keys())"
   ]
  },
  {
   "cell_type": "markdown",
   "id": "7027b29e-5ae7-4706-9455-4b907a83d6d4",
   "metadata": {},
   "source": [
    "**MEMOTE** provides a list of transport reactions that do not have a GPR associated with them. I copied the list into jupyter and gave it the id **transport_rxns_noGPR**."
   ]
  },
  {
   "cell_type": "code",
   "execution_count": 24,
   "id": "091e1e91-752e-4eb4-8cb9-40df8810fb04",
   "metadata": {
    "tags": []
   },
   "outputs": [],
   "source": [
    "transport_rxns_noGPR = [\"GLYTYRabc\",\"GLYtex\",\"LALALGLUtex\",\"FACOAL50t2pp\",\"XYL3abc\",\"XYLBabc\",\"12DGR120tipp\",\"12DGR140tipp\",\"12DGR141tipp\",\"12DGR160tipp\",\"12DGR161tipp\",\"12DGR180tipp\",\"12DGR181tipp\",\"LEUt4rpp\",\"XYLtex\",\"2AGPE141tipp\",\"2AGPE161tipp\",\"LMN2abc\",\"2AGPG120tipp\",\"r0963\",\"H2Stex\",\"2AGPG140tipp\",\"CMCBTFtex\",\"CMCBTFtpp\",\"CMt2ppi\",\"CMtex\",\"ECTOtex\",\"SALCHS4FEtonex\",\"SALCHS4tex\",\"SALCt\",\"ETHAt\",\"ETOHtex\",\"SELTt\",\"SELt\",\"SELtex\",\"ALAALAtex\",\"ALAGLNtr\",\"CRNt8pp\",\"CRNtex\",\"SLNTtex\",\"CRO4t3pp\",\"ALAGLYtr\",\"PHEMEabcpp\",\"PHEMEt\",\"ALAHIStr\",\"GLCRt1\",\"LYSGLUGLYtr\",\"LYStex\",\"PROtex\",\"GLNtex\",\"GLUABUTt7\",\"PSER_Lt6\",\"GLUCAN2abc\",\"GLUCANabc\",\"MAL_D_Et\",\"PTAtex\",\"ANHGMtex\",\"NOt\",\"ALALEUt\",\"DH23t\",\"PTRCtex\",\"ALATHRtr\",\"PYDXNtr\",\"NAt3_1p5pp\",\"NH4t4pp\",\"CA2tex\",\"CADVtpp\",\"CCPpp\",\"NI2tex\",\"NTR3B\",\"DIACTt\",\"NTRIR3pp\",\"O2Stex\",\"CD2tex\",\"RIBtex\",\"RMN_Et\",\"NO3t\",\"OCDCAt2pp\",\"NO3tex\",\"OCTAtex\",\"4HBAt\",\"MNL1P_Et\",\"2AGPG141tipp\",\"FE3DCITtonex\",\"2AGPG161tipp\",\"2AGPG180tipp\",\"SO4tex\",\"2AGPG181tipp\",\"FEENTERtex\",\"CHLtex\",\"FEENTERtonex\",\"SPMDt3i\",\"ARBT6Pt\",\"DNTAep\",\"CLBtex\",\"METtex\",\"STFRNBt\",\"2MBALDt\",\"SUCCt\",\"ARBabcpp\",\"DRIBtex_1\",\"2PGLYCt6\",\"SUCRtex\",\"DRU1Ptex\",\"3CMPt6\",\"N2Otex\",\"TARTRt7\",\"FRUURt2rpp\",\"CLtex\",\"PEAMNtex\",\"FRUURtex\",\"ARGtex\",\"CLtipp\",\"TETDHpp3\",\"FUCpts\",\"TETtex\",\"4HPRO_LT_Et\",\"ADtr\",\"GLYBtex\",\"AGM3Pt2pp\",\"4PEPTtex\",\"G3PEtex\",\"6PGCt6\",\"TNTtex\",\"GLYCLTtex\",\"TNTtpp\",\"TRE6P_Et\",\"GLYCYSabc\",\"GLYGLNtr\",\"GLYGLYGLNtr\",\"GLYLEUtr\",\"GLYMETtr\",\"GLYPHEtr\",\"DALAabcpp\",\"HIStex\",\"DAPtex\",\"ILEtex\",\"HMR_9638\",\"ASO3tex\",\"ASO3tex_1\",\"DCAtex\",\"ASO4tex\",\"HAMt\",\"DDCAt2pp\",\"HXAtex\",\"HG2tex\",\"IBTOLt\",\"MCSNtex\",\"ASPtex\",\"MCSNtpp\",\"ACt2r_1\",\"ORNtex\",\"CYO4pp\",\"MDNTHAep\",\"MELIB_Et\",\"MELIBt2pp\",\"PACALDt\",\"URAtpp\",\"METGLCURtex\",\"BTNTe\"]\n",
    "transport_rxns_noGPR_R_ = [\"R_\" + x for x in transport_rxns_noGPR] \n",
    "transport_rxns_noGPR_R_substrates = [model.reactions[rxn].get_substrates() for rxn in transport_rxns_noGPR_R_]\n",
    "transport_rxns_noGPR_R_substrates_flat = [item for sublist in transport_rxns_noGPR_R_substrates for item in sublist]\n",
    "transport_rxns_noGPR_R_products = [model.reactions[rxn].get_products() for rxn in transport_rxns_noGPR_R_]\n",
    "transport_rxns_noGPR_R_products_flat = [item for sublist in transport_rxns_noGPR_R_products for item in sublist]\n",
    "\n",
    "# This is the full list of metabolites that can be transported in the model, but where there is no genetic evidence of this transporter. \n",
    "mets_noGPR = transport_rxns_noGPR_R_substrates_flat + transport_rxns_noGPR_R_products_flat"
   ]
  },
  {
   "cell_type": "code",
   "execution_count": 25,
   "id": "04312b8a-ef38-4b17-afb7-61036e610439",
   "metadata": {},
   "outputs": [],
   "source": [
    "# Here I'm checking all reactions in FVA that can have a positive flux (in the optimal solution) \n",
    "\n",
    "rxns_nogpr_positive_flux = [] # Reactions that do not have a GPR and can have a positive flux in FVA\n",
    "\n",
    "for rxn in rxns_fva_positive_flux:\n",
    "    met_positive_flux = model.reactions[rxn].get_substrates()[0]\n",
    "    \n",
    "    # If the transport of the metabolite is associated with a reaction without a GPR -> add to list\n",
    "    if met_positive_flux in mets_noGPR:\n",
    "        rxns_nogpr_positive_flux.append(rxn)"
   ]
  },
  {
   "cell_type": "markdown",
   "id": "c63649ab-507e-473e-a8cd-e90cfc9e7f1d",
   "metadata": {},
   "source": [
    "The following reactions have a **positive flux AND do not have a GPR** associated with them. Some reactions are spontaneous, but these are given a gene in CarveMe - *G_spontaneous* - and are therefore not picked up by MEMOTE (according to my understanding). "
   ]
  },
  {
   "cell_type": "code",
   "execution_count": 26,
   "id": "cfc1b5f0-31de-43f8-9599-bce5245d5007",
   "metadata": {},
   "outputs": [
    {
     "data": {
      "text/plain": [
       "['R_EX_d23hb_e', 'R_EX_h2s_e', 'R_EX_pydxn_e']"
      ]
     },
     "execution_count": 26,
     "metadata": {},
     "output_type": "execute_result"
    }
   ],
   "source": [
    "rxns_nogpr_positive_flux"
   ]
  },
  {
   "cell_type": "markdown",
   "id": "08aac873-a28d-436f-b530-fc4c2498f420",
   "metadata": {},
   "source": [
    "Before blocking all (except ethanol and acetate) I want to see if any of these reactions are essential. <span style=\"color: red;\"> Two of them are essential: R_EX_pydxn_e, R_EX_d23hb_e </span>"
   ]
  },
  {
   "cell_type": "code",
   "execution_count": 27,
   "id": "343861f6-4d56-4ef2-97a3-371c07ab4dfc",
   "metadata": {},
   "outputs": [
    {
     "name": "stdout",
     "output_type": "stream",
     "text": [
      "Flux of R_EX_co2_e is necessary for model to grow\n",
      "Flux of R_EX_d23hb_e is necessary for model to grow\n",
      "Flux of R_EX_pydxn_e is necessary for model to grow\n"
     ]
    }
   ],
   "source": [
    "\n",
    "exchange_with_ub = []\n",
    "for rxn in model.get_exchange_reactions():\n",
    "    sol = pFBA(model,constraints= {rxn:(model.reactions[rxn].lb,0)})\n",
    "    if sol.values['Growth']<0.001:\n",
    "        print(\"Flux of \" + rxn + \" is necessary for model to grow\")\n",
    "        exchange_with_ub.append(rxn)\n",
    "        "
   ]
  },
  {
   "cell_type": "markdown",
   "id": "22c0ba18-ff67-446f-a847-f2148f2d8eb3",
   "metadata": {
    "tags": []
   },
   "source": [
    "#### **<span style=\"color: purple;\"> A.1.2 ANALYSIS: GAM and fermentation products </span>**\n",
    "\n",
    "**Motivation**: Compare model with the iFS431 model and get an idea of what effect changing GAM has on the model. \n",
    "\n",
    "**Background**: GAM in the model from CarveMe is 53.95 mmol/g(CDW). In the article about iFS431, they determine that the GAM value for the model by minimizing the difference between model predicted growth rate and experimental growth rate. They determined that it should be 15 mmol/g(CDW). *Here I exchanged the CarveMe model's GAM with the GAM that they determined.*\n",
    "\n",
    "**Method**\n",
    "- Prepare the model with a new GAM values.\n",
    "    - <span style=\"color: red;\"> What should I do with ppi? </span>\n",
    "- Do the analysis of the growth rate and fermentation product production at the different GAM value as a comparison to the previous experiment. \n",
    "\n",
    "**Results/evaluation**: Changing GAM doesn't make any big changes to the output. There are some expected changes, for example that the maximum biomass production is higher. Product production is lower, which also makes sense since the fermentation product production leads to  It seems to predict a higher biomass production compared to what is determined experimentally, so the low GAM value is likely not ideal in our case. **<span style=\"color: red;\"> I don't know what the value of ppi should be, and this could potentially affect the results.</span>**"
   ]
  },
  {
   "cell_type": "code",
   "execution_count": 28,
   "id": "4c92f124-7b90-47dc-9b10-5de543e290ec",
   "metadata": {},
   "outputs": [],
   "source": [
    "model_GAM = reframed.load_cbmodel('model_cellulolyticum_H10.xml')"
   ]
  },
  {
   "cell_type": "code",
   "execution_count": 29,
   "id": "3e3444cb-ff68-4b29-9e77-96c3d5863f6e",
   "metadata": {
    "scrolled": true,
    "tags": []
   },
   "outputs": [
    {
     "data": {
      "text/plain": [
       "OrderedDict([('M_10fthf_c', -0.000223),\n",
       "             ('M_ala__L_c', -0.513689),\n",
       "             ('M_amet_c', -0.000223),\n",
       "             ('M_arg__L_c', -0.295792),\n",
       "             ('M_asn__L_c', -0.241055),\n",
       "             ('M_asp__L_c', -0.241055),\n",
       "             ('M_atp_c', -54.124831),\n",
       "             ('M_ca2_c', -0.005205),\n",
       "             ('M_cl_c', -0.005205),\n",
       "             ('M_coa_c', -0.000576),\n",
       "             ('M_cobalt2_c', -0.0001),\n",
       "             ('M_ctp_c', -0.133508),\n",
       "             ('M_cu2_c', -0.000709),\n",
       "             ('M_cys__L_c', -0.09158),\n",
       "             ('M_datp_c', -0.026166),\n",
       "             ('M_dctp_c', -0.027017),\n",
       "             ('M_dgtp_c', -0.027017),\n",
       "             ('M_dttp_c', -0.026166),\n",
       "             ('M_fad_c', -0.000223),\n",
       "             ('M_fe2_c', -0.006715),\n",
       "             ('M_fe3_c', -0.007808),\n",
       "             ('M_gln__L_c', -0.26316),\n",
       "             ('M_glu__L_c', -0.26316),\n",
       "             ('M_gly_c', -0.612638),\n",
       "             ('M_gtca1_45_BS_c', -0.001),\n",
       "             ('M_gtca2_45_BS_c', -0.001),\n",
       "             ('M_gtca3_45_BS_c', -0.001),\n",
       "             ('M_gtp_c', -0.215096),\n",
       "             ('M_h2o_c', -48.601527),\n",
       "             ('M_his__L_c', -0.094738),\n",
       "             ('M_ile__L_c', -0.290529),\n",
       "             ('M_k_c', -0.195193),\n",
       "             ('M_leu__L_c', -0.450531),\n",
       "             ('M_lipo1_24_BS_c', -5e-05),\n",
       "             ('M_lipo2_24_BS_c', -5e-05),\n",
       "             ('M_lipo3_24_BS_c', -5e-05),\n",
       "             ('M_lipo4_24_BS_c', -5e-05),\n",
       "             ('M_lys__L_c', -0.343161),\n",
       "             ('M_met__L_c', -0.153686),\n",
       "             ('M_mg2_c', -0.008675),\n",
       "             ('M_mlthf_c', -0.000223),\n",
       "             ('M_mn2_c', -0.000691),\n",
       "             ('M_mql8_c', -0.0001),\n",
       "             ('M_nad_c', -0.001831),\n",
       "             ('M_nadp_c', -0.000447),\n",
       "             ('M_peptido_BS_c', -0.01),\n",
       "             ('M_phe__L_c', -0.185265),\n",
       "             ('M_pro__L_c', -0.221055),\n",
       "             ('M_pydx5p_c', -0.000223),\n",
       "             ('M_ribflv_c', -0.000223),\n",
       "             ('M_ser__L_c', -0.215792),\n",
       "             ('M_so4_c', -0.004338),\n",
       "             ('M_thf_c', -0.000223),\n",
       "             ('M_thmpp_c', -0.000223),\n",
       "             ('M_thr__L_c', -0.253687),\n",
       "             ('M_trp__L_c', -0.056843),\n",
       "             ('M_tyr__L_c', -0.137896),\n",
       "             ('M_utp_c', -0.144104),\n",
       "             ('M_val__L_c', -0.423162),\n",
       "             ('M_zn2_c', -0.000341),\n",
       "             ('M_adp_c', 53.95),\n",
       "             ('M_h_c', 53.95),\n",
       "             ('M_pi_c', 53.945662),\n",
       "             ('M_ppi_c', 0.773903)])"
      ]
     },
     "execution_count": 29,
     "metadata": {},
     "output_type": "execute_result"
    }
   ],
   "source": [
    "model_GAM.reactions.Growth.stoichiometry"
   ]
  },
  {
   "cell_type": "code",
   "execution_count": 30,
   "id": "11cdfb20-4661-4611-b3ef-e5881dc9ecae",
   "metadata": {},
   "outputs": [],
   "source": [
    "model_GAM.reactions.Growth.stoichiometry['M_atp_c']=-15.0\n",
    "model_GAM.reactions.Growth.stoichiometry['M_adp_c']=15.0\n",
    "model_GAM.reactions.Growth.stoichiometry['M_h_c']=15.0\n",
    "model_GAM.reactions.Growth.stoichiometry['M_pi_c']=15.0"
   ]
  },
  {
   "cell_type": "markdown",
   "id": "07e5aa2f-5f38-44b9-be9f-2262a1a65c44",
   "metadata": {},
   "source": [
    "<span style=\"color: purple;\"> **Repeating the procedure from A.1.1 and A.1.2**</span>\n",
    "\n",
    "You can hide the code below because it is repetition of the code above. "
   ]
  },
  {
   "cell_type": "code",
   "execution_count": 31,
   "id": "91ae956c-79d5-482c-9376-4e48e977cc8b",
   "metadata": {
    "tags": [
     "hide-cell"
    ]
   },
   "outputs": [
    {
     "name": "stdout",
     "output_type": "stream",
     "text": [
      "Growth        0.204923\n",
      "R_EX_nh4_e   -2.02709\n",
      "R_EX_cellb_e -1.98\n",
      "R_EX_so4_e   -1.44329\n",
      "R_EX_h_e     -1.09713\n",
      "R_EX_pi_e    -0.179362\n",
      "R_EX_k_e     -0.0399996\n",
      "R_EX_mg2_e   -0.00177771\n",
      "R_EX_fe3_e   -0.00160004\n",
      "R_EX_fe2_e   -0.00137606\n",
      "R_EX_ca2_e   -0.00106663\n",
      "R_EX_cl_e    -0.00106663\n",
      "R_EX_cu2_e   -0.000145291\n",
      "R_EX_mn2_e   -0.000141602\n",
      "R_EX_ribflv_e -9.13958e-05\n",
      "R_EX_zn2_e   -6.98789e-05\n",
      "R_EX_thm_e   -4.56979e-05\n",
      "R_EX_cobalt2_e -2.04923e-05\n",
      "R_EX_pydxn_e  0.000116601\n",
      "R_EX_d23hb_e  0.0771233\n",
      "R_EX_h2o_e    0.740083\n",
      "R_EX_h2s_e    1.39198\n",
      "R_EX_acald_e  5.08944\n",
      "R_EX_co2_e    5.44344\n"
     ]
    }
   ],
   "source": [
    "media = pd.read_csv('carveMe input/carveMe_medium.tsv',sep='\\t')\n",
    "media_cellb = media[media.medium=='H10_defined_medium_cellobiose']\n",
    "media_cellb_list = list(media_cellb['compound'])\n",
    "\n",
    "# Create an environment object\n",
    "env_cellb = Environment.from_compounds(media_cellb_list)\n",
    "\n",
    "# Get the keys (the id of the exchange reactions) from the Environment object\n",
    "env_ex_ids = env_cellb.keys()\n",
    "\n",
    "# For all exchange reactions -> set uptake to zero unless it is in the media\n",
    "\n",
    "\n",
    "for ex_rxn in model_GAM.get_exchange_reactions():\n",
    "    if ex_rxn in env_ex_ids:\n",
    "        model_GAM.reactions[ex_rxn].lb=-10\n",
    "    else:\n",
    "        model_GAM.reactions[ex_rxn].lb=0\n",
    "\n",
    "\n",
    "'''\n",
    "For information: \n",
    "\n",
    "Fermentation product production is given as percentage of pyruvate production rate. \n",
    "q(pyruvate) = q(ethanol) + q(acetate) + q(lactate)\n",
    "\n",
    "q(acetate) = (C(acetate)/X)*D\n",
    "\n",
    "X = biomass concentration, D = dilution rate (specific growth rate)\n",
    "\n",
    "Data given in Guedon et al. (1999)\n",
    "'''\n",
    "\n",
    "q_cellb = 1.98 # Specific uptake\n",
    "q_pyr = 4.35 # Specific production\n",
    "percent_ac = 47.8\n",
    "percent_lac = 8.3\n",
    "percent_etoh = 43.9\n",
    "\n",
    "q_ac = q_pyr * percent_ac /100 # Specific production\n",
    "q_lac = q_pyr * percent_lac /100 # Specific production\n",
    "q_etoh = q_pyr * percent_etoh /100 # Specific production\n",
    "\n",
    "mu = 0.138 # Dilution rate/growth rate \n",
    "\n",
    "'''Constraints used in Salimi et al. (2010) for growth on cellobiose'''\n",
    "\n",
    "constraints = {}\n",
    "constraints = {'R_EX_so4_e':(-2.45,1000),\n",
    "               'R_EX_pi_e':(-7.46,1000),\n",
    "               'R_EX_nh4_e':(-4.9,1000)}\n",
    "\n",
    "\n",
    "constraints['R_EX_cellb_e']=(-q_cellb,0)\n",
    "\n",
    "sol = pFBA(model_GAM, constraints = constraints)\n",
    "sol.show_values(pattern='Growth')\n",
    "\n",
    "sol.show_values(pattern='R_EX',sort=True)\n",
    "\n",
    "mu_predict = sol.values['Growth']\n",
    "q_ac_predict = sol.values['R_EX_ac_e']\n",
    "\n",
    "q_etoh_predict = sol.values['R_EX_etoh_e']\n",
    "q_lac_predict = sol.values['R_EX_lac__L_e']\n",
    "\n",
    "'''Finding boundaries of the solution space'''\n",
    "\n",
    "constraints = {}\n",
    "constraints = {'R_EX_so4_e':(-2.45,1000),\n",
    "               'R_EX_pi_e':(-7.46,1000),\n",
    "               'R_EX_nh4_e':(-4.9,1000)}\n",
    "\n",
    "constraints['R_EX_glc__D_e']=0\n",
    "constraints['R_EX_cellb_e']=-q_cellb\n",
    "\n",
    "sol_fva = FVA(model_GAM, constraints = constraints,obj_frac=0.9)\n",
    "\n",
    "\n",
    "sol_fva_ac = sol_fva['R_EX_ac_e']\n",
    "sol_fva_etoh = sol_fva['R_EX_etoh_e']\n",
    "sol_fva_lac = sol_fva['R_EX_lac__L_e']\n",
    "\n",
    "'''Plotting the predicted against experimental production'''\n",
    "\n",
    "predicted = [mu_predict, q_ac_predict, q_etoh_predict, q_lac_predict]\n",
    "expected = [mu, q_ac, q_etoh, q_lac]\n",
    "\n",
    "y_max = [0, sol_fva_ac[1]-predicted[1],sol_fva_etoh[1]-predicted[2],sol_fva_lac[1]-predicted[3]]\n",
    "y_min = [0,predicted[1]-sol_fva_ac[0],predicted[2] - sol_fva_etoh[0],predicted[3]- sol_fva_lac[0]]\n",
    "\n",
    "\n",
    "ind = ['Growth','Acetate','Ethanol','Lactate']\n"
   ]
  },
  {
   "cell_type": "code",
   "execution_count": 32,
   "id": "aa99ed13-f398-4f37-9c05-ccc1dc30adde",
   "metadata": {
    "tags": []
   },
   "outputs": [
    {
     "data": {
      "image/png": "[encoded data removed]",
      "text/plain": [
       "<Figure size 864x576 with 1 Axes>"
      ]
     },
     "metadata": {
      "needs_background": "light"
     },
     "output_type": "display_data"
    }
   ],
   "source": [
    "fig = plt.figure()\n",
    "ax = fig.add_subplot(111)\n",
    "\n",
    "# Multiple bar chart\n",
    "\n",
    "ax.bar(x=ind, height=predicted, width=0.55,  align='center',label=\"Predicted\")\n",
    "ax.bar(x=ind, height=expected, width=0.55/3,align='center',label=\"Experimental\")\n",
    "\n",
    "ax.errorbar(ind, predicted,yerr =(y_min,y_max), fmt=\"o\",color=\"r\")\n",
    "\n",
    "ax.legend( labels=['Predicted','Experimental'])\n",
    "# Define x-ticks\n",
    "\n",
    "plt.xticks(ind, ind)\n",
    "\n",
    "# Layout and Display\n",
    "\n",
    "plt.tight_layout()\n",
    "plt.rcParams[\"figure.figsize\"] = (20,10)\n",
    "\n",
    "plt.show()"
   ]
  },
  {
   "cell_type": "markdown",
   "id": "1a64fd04-e5dc-4f96-bb64-86eafbe49473",
   "metadata": {},
   "source": [
    "<span style=\"color: purple;\"> **Repeating the procedure from A.1.3: Testing fermentation product production rates while varying max biomass production rate.**</span>\n",
    "\n",
    "*You can hide the code below because it's repetition of the code above*\n"
   ]
  },
  {
   "cell_type": "code",
   "execution_count": 33,
   "id": "93e03b34-6fc6-433f-b1ed-a14153983f9c",
   "metadata": {
    "tags": [
     "hide-cell"
    ]
   },
   "outputs": [
    {
     "data": {
      "image/png": "[encoded data removed]",
      "text/plain": [
       "<Figure size 1440x720 with 1 Axes>"
      ]
     },
     "metadata": {
      "needs_background": "light"
     },
     "output_type": "display_data"
    }
   ],
   "source": [
    "'''Method\n",
    "- run FVA at different max biomass\n",
    "- take out the values of the max and min of the various fermentation products\n",
    "- plot max and min product production against the percentage of growth rate. '''\n",
    "\n",
    "obj_frac_list=[]\n",
    "ac_max=[]\n",
    "ac_min=[]\n",
    "etoh_max=[]\n",
    "etoh_min=[]\n",
    "lac_max=[]\n",
    "lac_min=[]\n",
    "co2_max=[]\n",
    "co2_min=[]\n",
    "h2_max=[]\n",
    "h2_min=[]\n",
    "\n",
    "for obj_frac in np.arange(0,1,0.05).tolist():\n",
    "\n",
    "    sol_fva = FVA(model_GAM, reactions=['R_EX_ac_e','R_EX_etoh_e','R_EX_lac__L_e','R_EX_co2_e','R_EX_h2_e'],constraints = constraints,obj_frac=obj_frac)\n",
    "    sol_fva_ac = sol_fva['R_EX_ac_e']\n",
    "    sol_fva_etoh = sol_fva['R_EX_etoh_e']\n",
    "    sol_fva_lac = sol_fva['R_EX_lac__L_e']\n",
    "    sol_fva_co2 = sol_fva['R_EX_co2_e']\n",
    "    sol_fva_h2 = sol_fva['R_EX_h2_e']\n",
    "    \n",
    "    ac_max.append(sol_fva_ac[1])\n",
    "    ac_min.append(sol_fva_ac[0])\n",
    "    etoh_max.append(sol_fva_etoh[1])\n",
    "    etoh_min.append(sol_fva_etoh[0])\n",
    "    lac_max.append(sol_fva_lac[1])\n",
    "    lac_min.append(sol_fva_lac[0])\n",
    "    co2_max.append(sol_fva_co2[1])\n",
    "    co2_min.append(sol_fva_co2[0])\n",
    "    h2_max.append(sol_fva_h2[1])\n",
    "    h2_min.append(sol_fva_h2[0])\n",
    "    obj_frac_list.append(obj_frac)\n",
    "\n",
    "\n",
    "# line 1 points\n",
    "x = obj_frac_list\n",
    "y1 = ac_max\n",
    "\n",
    "\n",
    "plt.plot(x, y1, label = \"acetate\",color='blue')\n",
    "plt.hlines(y=q_ac, xmin=0.2, xmax=0.4, colors='blue', linestyles='dotted', lw=2,label='ac exp')\n",
    "fig.set_size_inches(10.5, 8.5)\n",
    "\n",
    "y2 = etoh_max\n",
    "plt.plot(x, y2, label = \"ethanol\",color = 'orange')\n",
    "plt.hlines(y=q_etoh, xmin=0.84, xmax=0.95, colors='orange', linestyles='dotted', lw=2,label='etoh exp')\n",
    "\n",
    "\n",
    "y3 = lac_max\n",
    "plt.plot(x, y3, label = \"lactate\",color = 'green')\n",
    "plt.hlines(y=q_lac, xmin=0.81, xmax=0.94, colors='green', linestyles='dotted', lw=2,label='lac exp')\n",
    "\n",
    "# naming the x axis\n",
    "plt.xlabel('Fraction of objective function')\n",
    "# naming the y axis\n",
    "plt.ylabel('Max production rate')\n",
    "# Setting a size\n",
    "plt.rcParams[\"figure.figsize\"] = (12,8)\n",
    "# show a legend on the plot\n",
    "plt.legend()\n",
    "  \n",
    "# function to show the plot\n",
    "plt.show()"
   ]
  },
  {
   "cell_type": "markdown",
   "id": "649ec4d9-ff46-43c1-99fd-1b949b99cb8b",
   "metadata": {},
   "source": [
    "#### **<span style=\"color: green;\"> A: CONCLUSION </span>**"
   ]
  },
  {
   "cell_type": "markdown",
   "id": "5008ad0d-fb67-4be2-8740-6f2fab776a57",
   "metadata": {
    "tags": []
   },
   "source": [
    "**Fermentation product production** There seems to be a very low production of acetate in comparison to what we would expect from experimental results. It is only reaching experimental levels when biomass production is reduced to at least half of the maximum. The iFS431 model is more accurate with fermentation product production, while it should be noted that it constrainted the production of other fermentation products than ethanol, acetate, and lactate. One major difference is the acetate production rates. The flux envelope shows that there might be some problems in the pathways related to this. \n",
    "\n",
    "**Transport reactions:** We need to do a search for transporters with another database than the BiGG database. Now the production of fermentation products that we have no ground for the model to produce are creating problems for us. In the future we can look at gap-filling to ensure that the model is able to grow, at least without producing these fermentation products.  "
   ]
  },
  {
   "cell_type": "markdown",
   "id": "20824f3f-fa5d-4178-9760-e19dc889a6d7",
   "metadata": {},
   "source": [
    "## <span style=\"color: blue;\">B: Testing the model on additional data from other sources.</span>"
   ]
  },
  {
   "cell_type": "markdown",
   "id": "49ba3907-705f-4b57-a8e2-a1356d076bfa",
   "metadata": {},
   "source": [
    "Daniel asked me to do additional testing of the model based on the data that I've found. Based on what he said I should limit it to testing of cases where I'm able to determine the exact yield/production rates. <span style=\"color: red;\"> I looked through the list in the Update2 document and found the most relevant ones (Note that these are the ones that I used for CarveMe reconstruction, because they had a defined media). I should reevaluate the other studies as well.</span>\n",
    "\n",
    "**Motivation**: Determine if GAM values are correct and find other targets for gap-filling/curation. \n",
    "\n",
    "**Overview**: \n",
    "- **B.1. Guedon et al. 1999. Testing growth at various dilution rates** \n",
    "    - *Article*: Carbon and electron flow in Clostridium cellulolyticumgrownin  chemostat  culture  on  synthetic  medium (Guedon et al., 1999)\n",
    "    - They provide growth rate and production rates at different dilution rates. In the iFS431 model they  used this data to determine GAM values, and I want to replicate that experiment as well.  \n",
    "- **B.2. Kampik et al. 2021: Testing growth of KO mutants.** \n",
    "\n"
   ]
  },
  {
   "cell_type": "markdown",
   "id": "c83c94f6",
   "metadata": {},
   "source": [
    "### <span style=\"color: blue;\">B.1. Guedon et al. 1999. Testing growth at various dilution rates.</span>"
   ]
  },
  {
   "cell_type": "markdown",
   "id": "9631761b",
   "metadata": {},
   "source": [
    "<span style=\"color: blue;\">**Importing and reparing the model with media used in the study (same procedure as before)**</span>"
   ]
  },
  {
   "cell_type": "code",
   "execution_count": 34,
   "id": "99447195",
   "metadata": {},
   "outputs": [],
   "source": [
    "model = reframed.load_cbmodel('model_cellulolyticum_H10.xml')\n",
    "\n",
    "media = pd.read_csv('carveMe input/carveMe_medium.tsv',sep='\\t')\n",
    "media_cellb = media[media.medium=='H10_defined_medium_cellobiose']\n",
    "media_cellb_list = list(media_cellb['compound'])\n",
    "\n",
    "# Create an environment object\n",
    "env_cellb = Environment.from_compounds(media_cellb_list)\n",
    "\n",
    "# Get the keys (the id of the exchange reactions) from the Environment object\n",
    "env_ex_ids = env_cellb.keys()\n",
    "\n",
    "# For all exchange reactions -> set uptake to zero unless it is in the media\n",
    "for ex_rxn in model.get_exchange_reactions():\n",
    "    if ex_rxn in env_ex_ids:\n",
    "        model.reactions[ex_rxn].lb=-10\n",
    "    else:\n",
    "        model.reactions[ex_rxn].lb=0"
   ]
  },
  {
   "cell_type": "markdown",
   "id": "6dcea90a",
   "metadata": {},
   "source": [
    "<span style=\"color: blue;\">**Importing additional data about uptake rates**</span>"
   ]
  },
  {
   "cell_type": "code",
   "execution_count": 35,
   "id": "c63473fd",
   "metadata": {},
   "outputs": [
    {
     "data": {
      "text/html": [
       "<div>\n",
       "<style scoped>\n",
       "    .dataframe tbody tr th:only-of-type {\n",
       "        vertical-align: middle;\n",
       "    }\n",
       "\n",
       "    .dataframe tbody tr th {\n",
       "        vertical-align: top;\n",
       "    }\n",
       "\n",
       "    .dataframe thead th {\n",
       "        text-align: right;\n",
       "    }\n",
       "</style>\n",
       "<table border=\"1\" class=\"dataframe\">\n",
       "  <thead>\n",
       "    <tr style=\"text-align: right;\">\n",
       "      <th></th>\n",
       "      <th>1</th>\n",
       "      <th>2</th>\n",
       "      <th>3</th>\n",
       "      <th>4</th>\n",
       "      <th>5</th>\n",
       "      <th>6</th>\n",
       "      <th>7</th>\n",
       "    </tr>\n",
       "    <tr>\n",
       "      <th>0</th>\n",
       "      <th></th>\n",
       "      <th></th>\n",
       "      <th></th>\n",
       "      <th></th>\n",
       "      <th></th>\n",
       "      <th></th>\n",
       "      <th></th>\n",
       "    </tr>\n",
       "  </thead>\n",
       "  <tbody>\n",
       "    <tr>\n",
       "      <th>mu (growth rate)</th>\n",
       "      <td>0.016</td>\n",
       "      <td>0.033</td>\n",
       "      <td>0.053</td>\n",
       "      <td>0.062</td>\n",
       "      <td>0.085</td>\n",
       "      <td>0.12</td>\n",
       "      <td>0.138</td>\n",
       "    </tr>\n",
       "    <tr>\n",
       "      <th>qcellobiose (mmol [g of cells]−1h−1)</th>\n",
       "      <td>0.630</td>\n",
       "      <td>0.890</td>\n",
       "      <td>1.340</td>\n",
       "      <td>1.410</td>\n",
       "      <td>1.550</td>\n",
       "      <td>1.86</td>\n",
       "      <td>1.980</td>\n",
       "    </tr>\n",
       "    <tr>\n",
       "      <th>qpyruvate (mmol [g of cells]−1h−1)</th>\n",
       "      <td>1.630</td>\n",
       "      <td>2.730</td>\n",
       "      <td>2.980</td>\n",
       "      <td>3.210</td>\n",
       "      <td>3.790</td>\n",
       "      <td>4.27</td>\n",
       "      <td>4.350</td>\n",
       "    </tr>\n",
       "    <tr>\n",
       "      <th>Acetate</th>\n",
       "      <td>74.800</td>\n",
       "      <td>68.500</td>\n",
       "      <td>62.700</td>\n",
       "      <td>65.300</td>\n",
       "      <td>55.400</td>\n",
       "      <td>51.10</td>\n",
       "      <td>47.800</td>\n",
       "    </tr>\n",
       "    <tr>\n",
       "      <th>Lactate</th>\n",
       "      <td>2.800</td>\n",
       "      <td>2.000</td>\n",
       "      <td>2.500</td>\n",
       "      <td>4.500</td>\n",
       "      <td>6.600</td>\n",
       "      <td>11.50</td>\n",
       "      <td>8.300</td>\n",
       "    </tr>\n",
       "    <tr>\n",
       "      <th>Ethanol</th>\n",
       "      <td>22.500</td>\n",
       "      <td>29.500</td>\n",
       "      <td>34.900</td>\n",
       "      <td>30.600</td>\n",
       "      <td>38.000</td>\n",
       "      <td>37.50</td>\n",
       "      <td>43.900</td>\n",
       "    </tr>\n",
       "  </tbody>\n",
       "</table>\n",
       "</div>"
      ],
      "text/plain": [
       "                                           1       2       3       4       5  \\\n",
       "0                                                                              \n",
       "mu (growth rate)                       0.016   0.033   0.053   0.062   0.085   \n",
       "qcellobiose (mmol [g of cells]−1h−1)   0.630   0.890   1.340   1.410   1.550   \n",
       "qpyruvate (mmol [g of cells]−1h−1)     1.630   2.730   2.980   3.210   3.790   \n",
       " Acetate                              74.800  68.500  62.700  65.300  55.400   \n",
       " Lactate                               2.800   2.000   2.500   4.500   6.600   \n",
       " Ethanol                              22.500  29.500  34.900  30.600  38.000   \n",
       "\n",
       "                                          6       7  \n",
       "0                                                    \n",
       "mu (growth rate)                       0.12   0.138  \n",
       "qcellobiose (mmol [g of cells]−1h−1)   1.86   1.980  \n",
       "qpyruvate (mmol [g of cells]−1h−1)     4.27   4.350  \n",
       " Acetate                              51.10  47.800  \n",
       " Lactate                              11.50   8.300  \n",
       " Ethanol                              37.50  43.900  "
      ]
     },
     "execution_count": 35,
     "metadata": {},
     "output_type": "execute_result"
    }
   ],
   "source": [
    "chemostat= pd.read_excel('/Users/idunmariaburgos/Documents/Work/Project/Ruminiclostridium cellulolyticum part 2/Guedon1999_chemostat_data.xlsx', \n",
    "              sheet_name='Sheet1', \n",
    "              header=None, \n",
    "              index_col=0,\n",
    "              usecols=\"A:H\")\n",
    "chemostat"
   ]
  },
  {
   "cell_type": "markdown",
   "id": "ca8eb301",
   "metadata": {},
   "source": [
    "<span style=\"color: blue;\">**Using the data to test model**</span>\n",
    "\n",
    "- For each case, report growth rate and production rates. Make several line-plots. (one for experimental and one for predicted, while varying max biomass production.\n",
    "\n",
    "\n",
    "**For information**: \n",
    "\n",
    "Fermentation product production is given as percentage of pyruvate production rate. \n",
    "q(pyruvate) = q(ethanol) + q(acetate) + q(lactate)\n"
   ]
  },
  {
   "cell_type": "markdown",
   "id": "6564e008",
   "metadata": {},
   "source": [
    "<span style=\"color: blue;\">**Extracting and processing experimental  data**</span>"
   ]
  },
  {
   "cell_type": "code",
   "execution_count": 36,
   "id": "9dc87e4a",
   "metadata": {},
   "outputs": [],
   "source": [
    "#Data given in Guedon et al. (1999)\n",
    "mu = np.array(chemostat.iloc[0,:].tolist())\n",
    "q_cellb = np.array(chemostat.iloc[1,:].tolist())\n",
    "\n",
    "q_pyr =  np.array(chemostat.iloc[2,:].tolist())\n",
    "percent_ac = np.array(chemostat.iloc[3,:].tolist())\n",
    "percent_lac = np.array(chemostat.iloc[4,:].tolist())\n",
    "percent_etoh = np.array(chemostat.iloc[5,:].tolist())\n",
    "\n",
    "# Calculating specific production rates.\n",
    "q_ac = q_pyr * percent_ac /100 # Specific production\n",
    "q_lac = q_pyr * percent_lac /100 # Specific production\n",
    "q_etoh = q_pyr * percent_etoh /100 # Specific production\n",
    "\n"
   ]
  },
  {
   "cell_type": "code",
   "execution_count": 37,
   "id": "25974fcb",
   "metadata": {},
   "outputs": [
    {
     "name": "stdout",
     "output_type": "stream",
     "text": [
      "Stored 'mu' (ndarray)\n",
      "Stored 'q_cellb' (ndarray)\n"
     ]
    }
   ],
   "source": [
    "%store mu\n",
    "%store q_cellb"
   ]
  },
  {
   "cell_type": "markdown",
   "id": "99595be0",
   "metadata": {},
   "source": [
    "<span style=\"color: blue;\">**Preparing constraints for analysis**</span>"
   ]
  },
  {
   "cell_type": "code",
   "execution_count": 38,
   "id": "c8f62e4f",
   "metadata": {},
   "outputs": [],
   "source": [
    "# Constraints used in Salimi et al. (2010) for growth on cellobiose\n",
    "\n",
    "constraints = {}\n",
    "constraints = {'R_EX_so4_e':(-2.45,1000),\n",
    "               'R_EX_pi_e':(-7.46,1000),\n",
    "               'R_EX_nh4_e':(-4.9,1000)}\n",
    "\n",
    "\n"
   ]
  },
  {
   "cell_type": "markdown",
   "id": "03299cee",
   "metadata": {},
   "source": [
    "<span style=\"color: blue;\">**Determining pFBA growth rate and fermentation product production rates**</span>"
   ]
  },
  {
   "cell_type": "code",
   "execution_count": 39,
   "id": "aebfd2fd",
   "metadata": {},
   "outputs": [],
   "source": [
    "## pFBA prediction of growth rate and product production\n",
    "mu_predict = []\n",
    "q_pfba_predict_ac =[]\n",
    "q_pfba_predict_lac=[]\n",
    "q_pfba_predict_etoh=[]\n",
    "\n",
    "for i,q_cellb_i in enumerate(q_cellb):\n",
    "    constraints['R_EX_cellb_e']=(-q_cellb_i,0)\n",
    "    sol = pFBA(model,constraints=constraints)\n",
    "    \n",
    "    mu_predict.append(sol.values['Growth']) \n",
    "    q_pfba_predict_ac.append(sol.values['R_EX_ac_e'])\n",
    "    q_pfba_predict_lac.append(sol.values['R_EX_lac__L_e'])\n",
    "    q_pfba_predict_etoh.append(sol.values['R_EX_etoh_e'])\n",
    "    \n"
   ]
  },
  {
   "cell_type": "code",
   "execution_count": 40,
   "id": "86661438",
   "metadata": {},
   "outputs": [
    {
     "data": {
      "image/png": "[encoded data removed]",
      "text/plain": [
       "<Figure size 756x612 with 1 Axes>"
      ]
     },
     "metadata": {
      "needs_background": "light"
     },
     "output_type": "display_data"
    }
   ],
   "source": [
    "fig, ax = plt.subplots()\n",
    "fig.set_size_inches(10.5, 8.5)\n",
    "ax.plot(q_cellb,mu_predict, linewidth=2,label=\"Predicted (pFBA)\",color='blue')\n",
    "ax.plot(q_cellb,mu, linewidth=2,label=\"Experimental\",color='green')\n",
    "plt.ylabel(f'Biomass production [gCDW/(gCDW h)]')\n",
    "plt.xlabel(\"Uptake of cellobiose [mmol/(gCDW h)]\")\n",
    "\n",
    "plt.legend(loc='upper left')\n",
    "plt.show()\n",
    "\n"
   ]
  },
  {
   "cell_type": "markdown",
   "id": "bf221061",
   "metadata": {},
   "source": [
    "<span style=\"color: blue;\">**Determining fermentation product production rates while relaxing the biomass production**</span>"
   ]
  },
  {
   "cell_type": "code",
   "execution_count": 41,
   "id": "ea42b537",
   "metadata": {},
   "outputs": [],
   "source": [
    "#  Used chatgpt to shorten code. Still doesn't look very nice. \n",
    "fermentation_products = ['R_EX_lac__L_e','R_EX_etoh_e','R_EX_ac_e']\n",
    "q_predict = {'ac': OrderedDict(), 'lac': OrderedDict(), 'etoh': OrderedDict()}\n",
    "\n",
    "## Prediction of fermentation product production with FVA while varying obj_frac and uptake rate\n",
    "\n",
    "for x in range(5,11,1): # Specifying the objective fraction for FVA\n",
    "    q_predict[x] = {'ac': [], 'lac': [], 'etoh': []} # Create new key-value pairs in q_predict that keep track of production based on x.\n",
    "    \n",
    "    for i,q_cellb_i in enumerate(q_cellb):    # Specifying uptake of cellobiose\n",
    "        # Finding optimal solution for growth\n",
    "        constraints['R_EX_cellb_e']=(-q_cellb_i,0)\n",
    "        \n",
    "        # Here I find the max and min production at the current objective fraction and uptake rate\n",
    "        sol_FVA = FVA(model,obj_frac=x/10,reactions=fermentation_products,constraints=constraints) \n",
    "        \n",
    "        # cellb is on top, and compound is lower level.\n",
    "        q_predict[x]['ac'].append([sol_FVA['R_EX_ac_e'][1], sol_FVA['R_EX_ac_e'][0]]) \n",
    "        q_predict[x]['lac'].append([sol_FVA['R_EX_lac__L_e'][1], sol_FVA['R_EX_lac__L_e'][0]])\n",
    "        q_predict[x]['etoh'].append([sol_FVA['R_EX_etoh_e'][1], sol_FVA['R_EX_etoh_e'][0]])\n",
    "    \n",
    "    # Changes the order of the dictionary to make input for ac, etoh and lac: compound is on top and cellb is lover level\n",
    "    for product in fermentation_products:\n",
    "        q_predict[product.split('_')[2]][f'max{x}0%'] = [y[0] for y in q_predict[x][product.split('_')[2]]] \n",
    "        q_predict[product.split('_')[2]][f'min{x}0%'] = [y[1] for y in q_predict[x][product.split('_')[2]]]\n",
    "        \n"
   ]
  },
  {
   "cell_type": "code",
   "execution_count": 42,
   "id": "550908de",
   "metadata": {},
   "outputs": [],
   "source": [
    "# I think I could shorten this code as well.\n",
    "def plot_fermentation_product(pfba_predict, predict,experimental_prod,q_cellb,name):\n",
    "    \n",
    "    max100= predict['max100%'] \n",
    "    max90= predict['max90%'] \n",
    "    max80= predict['max80%'] \n",
    "    max70= predict['max70%'] \n",
    "    max60= predict['max60%'] \n",
    "    max50= predict['max50%'] \n",
    "    \n",
    "\n",
    "    # plot\n",
    "    fig, ax = plt.subplots()\n",
    "    fig.set_size_inches(10.5, 8.5)\n",
    "\n",
    "    filled_100 = ax.fill_between(q_cellb, pfba_predict, max100, alpha=.5, color='navy',linewidth=0)\n",
    "    (x0, y0), (x1, y1) = filled_100.get_paths()[0].get_extents().get_points()\n",
    "    ax.text((x0 + x1) / 2, (y0 + y1) / 2, \"100%\", ha='right', va='center', fontsize=10, color='black')\n",
    "\n",
    "    \n",
    "    filled_90 =ax.fill_between(q_cellb, max100, max90, alpha=.4,color='blue', linewidth=0)\n",
    "    (x0, y0), (x1, y1) = filled_90.get_paths()[0].get_extents().get_points()\n",
    "    ax.text((x0 + x1) / 2, (y0 + y1) / 2, \"90%\", ha='center', va='center', fontsize=10, color='black')\n",
    "    \n",
    "    filled_80 = ax.fill_between(q_cellb, max90, max80, alpha=.3,color='dodgerblue', linewidth=0)\n",
    "    (x0, y0), (x1, y1) = filled_80.get_paths()[0].get_extents().get_points()\n",
    "    ax.text((x0 + x1) / 2, (y0 + y1) / 2, \"80%\", ha='center', va='center', fontsize=10, color='black')\n",
    "    \n",
    "    filled_70 = ax.fill_between(q_cellb, max80, max70, alpha=.2,color='deepskyblue', linewidth=0)\n",
    "    (x0, y0), (x1, y1) = filled_70.get_paths()[0].get_extents().get_points()\n",
    "    ax.text((x0 + x1) / 2, (y0 + y1) / 2, \"70%\", ha='center', va='center', fontsize=10, color='black')    \n",
    "    \n",
    "    filled_60 = ax.fill_between(q_cellb, max70, max60, alpha=.1,color='darkturquoise', linewidth=0)\n",
    "    (x0, y0), (x1, y1) = filled_60.get_paths()[0].get_extents().get_points()\n",
    "    ax.text((x0 + x1) / 2, (y0 + y1) / 2, \"60%\", ha='center', va='center', fontsize=10, color='black') \n",
    "    \n",
    "    filled_50 = ax.fill_between(q_cellb, max60, max50, alpha=.1,color='aquamarine', linewidth=0)\n",
    "    (x0, y0), (x1, y1) = filled_50.get_paths()[0].get_extents().get_points()\n",
    "    ax.text((x0 + x1) / 2, (y0 + y1) / 2, \"50%\", ha='center', va='center', fontsize=10, color='black') \n",
    "    \n",
    "    ax.plot(q_cellb,pfba_predict, linewidth=2,label=\"Predicted pFBA\",color='red')\n",
    "    ax.plot(q_cellb,experimental_prod, linewidth=2,label=\"Experimental\",color='green')\n",
    "    \n",
    "    plt.ylabel(f'Production of {name} [mmol/(gCDW h)]')\n",
    "    plt.xlabel(\"Uptake of cellobiose [mmol/(gCDW h)]\")\n",
    "\n",
    "    plt.legend(loc='upper left')\n",
    "    plt.show()"
   ]
  },
  {
   "cell_type": "code",
   "execution_count": 43,
   "id": "e0192b82",
   "metadata": {},
   "outputs": [
    {
     "data": {
      "image/png": "[encoded data removed]",
      "text/plain": [
       "<Figure size 756x612 with 1 Axes>"
      ]
     },
     "metadata": {
      "needs_background": "light"
     },
     "output_type": "display_data"
    }
   ],
   "source": [
    "plot_fermentation_product(q_pfba_predict_ac,q_predict['ac'],q_ac,q_cellb,'Acetate')"
   ]
  },
  {
   "cell_type": "code",
   "execution_count": 44,
   "id": "d0961a6b",
   "metadata": {},
   "outputs": [
    {
     "data": {
      "image/png": "[encoded data removed]",
      "text/plain": [
       "<Figure size 756x612 with 1 Axes>"
      ]
     },
     "metadata": {
      "needs_background": "light"
     },
     "output_type": "display_data"
    }
   ],
   "source": [
    "plot_fermentation_product(q_pfba_predict_etoh,q_predict['etoh'],q_etoh,q_cellb,'Ethanol')"
   ]
  },
  {
   "cell_type": "code",
   "execution_count": 45,
   "id": "84564092",
   "metadata": {},
   "outputs": [
    {
     "data": {
      "image/png": "[encoded data removed]",
      "text/plain": [
       "<Figure size 756x612 with 1 Axes>"
      ]
     },
     "metadata": {
      "needs_background": "light"
     },
     "output_type": "display_data"
    }
   ],
   "source": [
    "plot_fermentation_product(q_pfba_predict_lac,q_predict['lac'],q_lac,q_cellb,'Lactate')"
   ]
  },
  {
   "cell_type": "markdown",
   "id": "ae686ae8",
   "metadata": {},
   "source": [
    "#### **<span style=\"color: purple;\"> B.1. ANALYSIS: Varying the GAM and predicting growth</span>**\n",
    "\n",
    "\n",
    "I want to see how predictions of biomass change when changing the GAM value. "
   ]
  },
  {
   "cell_type": "code",
   "execution_count": 46,
   "id": "0e11f300",
   "metadata": {},
   "outputs": [],
   "source": [
    "model_GAM = reframed.load_cbmodel('model_cellulolyticum_H10.xml')"
   ]
  },
  {
   "cell_type": "code",
   "execution_count": 47,
   "id": "d5b815af",
   "metadata": {
    "scrolled": true,
    "tags": []
   },
   "outputs": [
    {
     "data": {
      "text/plain": [
       "OrderedDict([('M_10fthf_c', -0.000223),\n",
       "             ('M_ala__L_c', -0.513689),\n",
       "             ('M_amet_c', -0.000223),\n",
       "             ('M_arg__L_c', -0.295792),\n",
       "             ('M_asn__L_c', -0.241055),\n",
       "             ('M_asp__L_c', -0.241055),\n",
       "             ('M_atp_c', -54.124831),\n",
       "             ('M_ca2_c', -0.005205),\n",
       "             ('M_cl_c', -0.005205),\n",
       "             ('M_coa_c', -0.000576),\n",
       "             ('M_cobalt2_c', -0.0001),\n",
       "             ('M_ctp_c', -0.133508),\n",
       "             ('M_cu2_c', -0.000709),\n",
       "             ('M_cys__L_c', -0.09158),\n",
       "             ('M_datp_c', -0.026166),\n",
       "             ('M_dctp_c', -0.027017),\n",
       "             ('M_dgtp_c', -0.027017),\n",
       "             ('M_dttp_c', -0.026166),\n",
       "             ('M_fad_c', -0.000223),\n",
       "             ('M_fe2_c', -0.006715),\n",
       "             ('M_fe3_c', -0.007808),\n",
       "             ('M_gln__L_c', -0.26316),\n",
       "             ('M_glu__L_c', -0.26316),\n",
       "             ('M_gly_c', -0.612638),\n",
       "             ('M_gtca1_45_BS_c', -0.001),\n",
       "             ('M_gtca2_45_BS_c', -0.001),\n",
       "             ('M_gtca3_45_BS_c', -0.001),\n",
       "             ('M_gtp_c', -0.215096),\n",
       "             ('M_h2o_c', -48.601527),\n",
       "             ('M_his__L_c', -0.094738),\n",
       "             ('M_ile__L_c', -0.290529),\n",
       "             ('M_k_c', -0.195193),\n",
       "             ('M_leu__L_c', -0.450531),\n",
       "             ('M_lipo1_24_BS_c', -5e-05),\n",
       "             ('M_lipo2_24_BS_c', -5e-05),\n",
       "             ('M_lipo3_24_BS_c', -5e-05),\n",
       "             ('M_lipo4_24_BS_c', -5e-05),\n",
       "             ('M_lys__L_c', -0.343161),\n",
       "             ('M_met__L_c', -0.153686),\n",
       "             ('M_mg2_c', -0.008675),\n",
       "             ('M_mlthf_c', -0.000223),\n",
       "             ('M_mn2_c', -0.000691),\n",
       "             ('M_mql8_c', -0.0001),\n",
       "             ('M_nad_c', -0.001831),\n",
       "             ('M_nadp_c', -0.000447),\n",
       "             ('M_peptido_BS_c', -0.01),\n",
       "             ('M_phe__L_c', -0.185265),\n",
       "             ('M_pro__L_c', -0.221055),\n",
       "             ('M_pydx5p_c', -0.000223),\n",
       "             ('M_ribflv_c', -0.000223),\n",
       "             ('M_ser__L_c', -0.215792),\n",
       "             ('M_so4_c', -0.004338),\n",
       "             ('M_thf_c', -0.000223),\n",
       "             ('M_thmpp_c', -0.000223),\n",
       "             ('M_thr__L_c', -0.253687),\n",
       "             ('M_trp__L_c', -0.056843),\n",
       "             ('M_tyr__L_c', -0.137896),\n",
       "             ('M_utp_c', -0.144104),\n",
       "             ('M_val__L_c', -0.423162),\n",
       "             ('M_zn2_c', -0.000341),\n",
       "             ('M_adp_c', 53.95),\n",
       "             ('M_h_c', 53.95),\n",
       "             ('M_pi_c', 53.945662),\n",
       "             ('M_ppi_c', 0.773903)])"
      ]
     },
     "execution_count": 47,
     "metadata": {},
     "output_type": "execute_result"
    }
   ],
   "source": [
    "model_GAM.reactions.Growth.stoichiometry"
   ]
  },
  {
   "cell_type": "code",
   "execution_count": 48,
   "id": "19faf5cd",
   "metadata": {},
   "outputs": [],
   "source": [
    "#Data given in Guedon et al. (1999)\n",
    "mu = np.array(chemostat.iloc[0,:].tolist())\n",
    "q_cellb = np.array(chemostat.iloc[1,:].tolist())\n",
    "\n"
   ]
  },
  {
   "cell_type": "markdown",
   "id": "e4c6232b",
   "metadata": {},
   "source": [
    "**<span style=\"color: purple;\">Preparing constraints for analysis</span>**"
   ]
  },
  {
   "cell_type": "code",
   "execution_count": 49,
   "id": "b8c09fd7",
   "metadata": {},
   "outputs": [],
   "source": [
    "media = pd.read_csv('carveMe input/carveMe_medium.tsv',sep='\\t')\n",
    "media_cellb = media[media.medium=='H10_defined_medium_cellobiose']\n",
    "media_cellb_list = list(media_cellb['compound'])\n",
    "\n",
    "# Create an environment object\n",
    "env_cellb = Environment.from_compounds(media_cellb_list)\n",
    "\n",
    "# Get the keys (the id of the exchange reactions) from the Environment object\n",
    "env_ex_ids = env_cellb.keys()\n",
    "\n",
    "# For all exchange reactions -> set uptake to zero unless it is in the media\n",
    "for ex_rxn in model_GAM.get_exchange_reactions():\n",
    "    if ex_rxn in env_ex_ids:\n",
    "        model_GAM.reactions[ex_rxn].lb=-10\n",
    "    else:\n",
    "        model_GAM.reactions[ex_rxn].lb=0"
   ]
  },
  {
   "cell_type": "code",
   "execution_count": 50,
   "id": "f10ad2ab",
   "metadata": {},
   "outputs": [],
   "source": [
    "# Constraints used in Salimi et al. (2010) for growth on cellobiose\n",
    "\n",
    "constraints = {}\n",
    "constraints = {'R_EX_so4_e':(-2.45,1000),\n",
    "               'R_EX_pi_e':(-7.46,1000),\n",
    "               'R_EX_nh4_e':(-4.9,1000)}\n",
    "constraints['R_EX_glc__D_e']=0\n",
    "\n",
    "\n"
   ]
  },
  {
   "cell_type": "markdown",
   "id": "04a6b6f5",
   "metadata": {},
   "source": [
    "**<span style=\"color: purple;\">Determining pFBA growth rate and fermentation product production rates</span>**"
   ]
  },
  {
   "cell_type": "code",
   "execution_count": 51,
   "id": "275146ff",
   "metadata": {},
   "outputs": [],
   "source": [
    "## pFBA prediction of growth rate and product production\n",
    "mu_predict_gam = OrderedDict()\n",
    "\n",
    "    \n",
    "for percent in range(0,100,20):\n",
    "    GAM=15 + (percent*(53.95-15)/100)\n",
    "    mu_predict_step=[]\n",
    "    model_GAM.reactions.Growth.stoichiometry['M_atp_c']=-GAM\n",
    "    model_GAM.reactions.Growth.stoichiometry['M_adp_c']=GAM\n",
    "    model_GAM.reactions.Growth.stoichiometry['M_h_c']=GAM\n",
    "    model_GAM.reactions.Growth.stoichiometry['M_pi_c']=GAM\n",
    "    \n",
    "    \n",
    "    for i,q_cellb_i in enumerate(q_cellb):\n",
    "        constraints['R_EX_cellb_e']=(-q_cellb_i,0)\n",
    "        sol = pFBA(model_GAM,constraints=constraints)\n",
    "        mu_predict_step.append(sol.values['Growth']) \n",
    "        \n",
    "        \n",
    "    mu_predict_gam[f'GAM={round(GAM, 2)}']=mu_predict_step\n"
   ]
  },
  {
   "cell_type": "code",
   "execution_count": 52,
   "id": "974cebcf",
   "metadata": {},
   "outputs": [
    {
     "data": {
      "image/png": "[encoded data removed]",
      "text/plain": [
       "<Figure size 756x612 with 1 Axes>"
      ]
     },
     "metadata": {
      "needs_background": "light"
     },
     "output_type": "display_data"
    }
   ],
   "source": [
    "fig, ax = plt.subplots()\n",
    "fig.set_size_inches(10.5, 8.5)\n",
    "ax.plot(q_cellb,mu_predict, linewidth=2,label=\"GAM=54.95\",color='blue')\n",
    "ax.plot(q_cellb,mu, linewidth=2,label=\"Experimental\",color='green')\n",
    "\n",
    "for i,key in enumerate(mu_predict_gam.keys()):\n",
    "    ax.plot(q_cellb,mu_predict_gam[key], linewidth=1,alpha=0.2+(i*0.2),label=key,color='blue',linestyle='dotted')\n",
    "plt.ylabel(f'Biomass production [gCDW/(gCDW h)]')\n",
    "plt.xlabel(\"Uptake of cellobiose [mmol/(gCDW h)]\")\n",
    "\n",
    "plt.legend(loc='upper left')\n",
    "plt.show()\n",
    "\n"
   ]
  },
  {
   "cell_type": "markdown",
   "id": "fb05f2bf",
   "metadata": {},
   "source": [
    "#### **<span style=\"color: green;\">B.1: CONCLUSION</span>**"
   ]
  },
  {
   "cell_type": "markdown",
   "id": "e054b109",
   "metadata": {},
   "source": [
    "**Fermentation products**: The results show that the fermentation product production is following a similar trend to the experimental results, despite being far away from the actual rates. \n",
    "\n",
    "**Growth rate**: NGAM should be higher, and GAM should be lower based on the experimental results and the FBA predictions with the CarveMe model. "
   ]
  },
  {
   "cell_type": "markdown",
   "id": "a0743035",
   "metadata": {},
   "source": [
    "### <span style=\"color: blue;\">B.2: KO experiments with data from Kampik et al. (2021)</span>"
   ]
  },
  {
   "cell_type": "markdown",
   "id": "30ac07ea",
   "metadata": {},
   "source": [
    "They provided growth data for several mutants of R. cellulolyticum growing on various sugars. They specifically targeted genes that are believed to be important for the catabolism of one specific sugar, and studied the activity of these enzyme and their importance for the cells growth on that sugar and the other sugars.\n",
    "\n",
    "Below you can see what the results where from their studied when a specific gene was inactivated. "
   ]
  },
  {
   "cell_type": "markdown",
   "id": "2f3a03c1",
   "metadata": {},
   "source": [
    "#### <span style=\"color: blue;\">Gene KO experimental results</span>"
   ]
  },
  {
   "cell_type": "code",
   "execution_count": 53,
   "id": "f9461935",
   "metadata": {},
   "outputs": [],
   "source": [
    "mutant_growth = pd.read_excel('/Users/idunmariaburgos/Documents/Work/Project/Ruminiclostridium cellulolyticum part 2/gene_deletion.xlsx',\n",
    "                              sheet_name=\"gene_deletion_boolean\", \n",
    "                              usecols=\"A:H\")\n"
   ]
  },
  {
   "cell_type": "code",
   "execution_count": 54,
   "id": "16b3e6d2",
   "metadata": {},
   "outputs": [],
   "source": [
    "def conditions(v):\n",
    "    if v == \"Yes\":\n",
    "        return \"Yes\"\n",
    "    elif v == \"No\":\n",
    "        return \"No\"\n",
    "    elif type(v)==float:\n",
    "        return \"\"\n",
    "    else:\n",
    "        return v\n",
    "    \n",
    "def color_map(val):\n",
    "    if val == 'Yes':\n",
    "        color = 'background-color: springgreen'\n",
    "    elif val == 'No':\n",
    "        color = 'background-color: pink'\n",
    "    else:\n",
    "        color = 'background-color: white'\n",
    "    return color\n",
    "\n",
    "def make_pretty(styler):\n",
    "    styler.format(conditions)\n",
    "    styler.set_caption(\"Experimental results\")\n",
    "    styler.applymap(color_map)\n",
    "    return styler\n"
   ]
  },
  {
   "cell_type": "code",
   "execution_count": 55,
   "id": "bfcb7d13",
   "metadata": {},
   "outputs": [
    {
     "data": {
      "text/html": [
       "<style type=\"text/css\">\n",
       "#T_1244f_row0_col0, #T_1244f_row0_col1, #T_1244f_row0_col5, #T_1244f_row0_col6, #T_1244f_row1_col0, #T_1244f_row1_col1, #T_1244f_row1_col3, #T_1244f_row1_col4, #T_1244f_row1_col6, #T_1244f_row1_col7, #T_1244f_row2_col0, #T_1244f_row2_col1, #T_1244f_row2_col3, #T_1244f_row2_col4, #T_1244f_row2_col5, #T_1244f_row2_col7, #T_1244f_row3_col0, #T_1244f_row3_col1, #T_1244f_row3_col3, #T_1244f_row3_col4, #T_1244f_row3_col5, #T_1244f_row3_col7 {\n",
       "  background-color: white;\n",
       "}\n",
       "#T_1244f_row0_col2, #T_1244f_row1_col2, #T_1244f_row2_col2, #T_1244f_row2_col6, #T_1244f_row3_col2 {\n",
       "  background-color: springgreen;\n",
       "}\n",
       "#T_1244f_row0_col3, #T_1244f_row0_col4, #T_1244f_row0_col7, #T_1244f_row1_col5, #T_1244f_row3_col6 {\n",
       "  background-color: pink;\n",
       "}\n",
       "</style>\n",
       "<table id=\"T_1244f_\">\n",
       "  <caption>Experimental results</caption>\n",
       "  <thead>\n",
       "    <tr>\n",
       "      <th class=\"blank level0\" >&nbsp;</th>\n",
       "      <th class=\"col_heading level0 col0\" >Mutant</th>\n",
       "      <th class=\"col_heading level0 col1\" >Gene inactivation</th>\n",
       "      <th class=\"col_heading level0 col2\" >Arabinose</th>\n",
       "      <th class=\"col_heading level0 col3\" >Glucose</th>\n",
       "      <th class=\"col_heading level0 col4\" >Cellobiose</th>\n",
       "      <th class=\"col_heading level0 col5\" >Galactose</th>\n",
       "      <th class=\"col_heading level0 col6\" >Xylose</th>\n",
       "      <th class=\"col_heading level0 col7\" >Mannose</th>\n",
       "    </tr>\n",
       "  </thead>\n",
       "  <tbody>\n",
       "    <tr>\n",
       "      <th id=\"T_1244f_level0_row0\" class=\"row_heading level0 row0\" >0</th>\n",
       "      <td id=\"T_1244f_row0_col0\" class=\"data row0 col0\" >MTL3221</td>\n",
       "      <td id=\"T_1244f_row0_col1\" class=\"data row0 col1\" >Ccel_3221</td>\n",
       "      <td id=\"T_1244f_row0_col2\" class=\"data row0 col2\" >Yes</td>\n",
       "      <td id=\"T_1244f_row0_col3\" class=\"data row0 col3\" >No</td>\n",
       "      <td id=\"T_1244f_row0_col4\" class=\"data row0 col4\" >No</td>\n",
       "      <td id=\"T_1244f_row0_col5\" class=\"data row0 col5\" ></td>\n",
       "      <td id=\"T_1244f_row0_col6\" class=\"data row0 col6\" ></td>\n",
       "      <td id=\"T_1244f_row0_col7\" class=\"data row0 col7\" >No</td>\n",
       "    </tr>\n",
       "    <tr>\n",
       "      <th id=\"T_1244f_level0_row1\" class=\"row_heading level0 row1\" >1</th>\n",
       "      <td id=\"T_1244f_row1_col0\" class=\"data row1 col0\" >MTL3238</td>\n",
       "      <td id=\"T_1244f_row1_col1\" class=\"data row1 col1\" >Ccel_3238</td>\n",
       "      <td id=\"T_1244f_row1_col2\" class=\"data row1 col2\" >Yes</td>\n",
       "      <td id=\"T_1244f_row1_col3\" class=\"data row1 col3\" ></td>\n",
       "      <td id=\"T_1244f_row1_col4\" class=\"data row1 col4\" ></td>\n",
       "      <td id=\"T_1244f_row1_col5\" class=\"data row1 col5\" >No</td>\n",
       "      <td id=\"T_1244f_row1_col6\" class=\"data row1 col6\" ></td>\n",
       "      <td id=\"T_1244f_row1_col7\" class=\"data row1 col7\" ></td>\n",
       "    </tr>\n",
       "    <tr>\n",
       "      <th id=\"T_1244f_level0_row2\" class=\"row_heading level0 row2\" >2</th>\n",
       "      <td id=\"T_1244f_row2_col0\" class=\"data row2 col0\" >MTL3429</td>\n",
       "      <td id=\"T_1244f_row2_col1\" class=\"data row2 col1\" >Ccel_3429</td>\n",
       "      <td id=\"T_1244f_row2_col2\" class=\"data row2 col2\" >Yes</td>\n",
       "      <td id=\"T_1244f_row2_col3\" class=\"data row2 col3\" ></td>\n",
       "      <td id=\"T_1244f_row2_col4\" class=\"data row2 col4\" ></td>\n",
       "      <td id=\"T_1244f_row2_col5\" class=\"data row2 col5\" ></td>\n",
       "      <td id=\"T_1244f_row2_col6\" class=\"data row2 col6\" >Yes</td>\n",
       "      <td id=\"T_1244f_row2_col7\" class=\"data row2 col7\" ></td>\n",
       "    </tr>\n",
       "    <tr>\n",
       "      <th id=\"T_1244f_level0_row3\" class=\"row_heading level0 row3\" >3</th>\n",
       "      <td id=\"T_1244f_row3_col0\" class=\"data row3 col0\" >MTL3431</td>\n",
       "      <td id=\"T_1244f_row3_col1\" class=\"data row3 col1\" >Ccel_3431</td>\n",
       "      <td id=\"T_1244f_row3_col2\" class=\"data row3 col2\" >Yes</td>\n",
       "      <td id=\"T_1244f_row3_col3\" class=\"data row3 col3\" ></td>\n",
       "      <td id=\"T_1244f_row3_col4\" class=\"data row3 col4\" ></td>\n",
       "      <td id=\"T_1244f_row3_col5\" class=\"data row3 col5\" ></td>\n",
       "      <td id=\"T_1244f_row3_col6\" class=\"data row3 col6\" >No</td>\n",
       "      <td id=\"T_1244f_row3_col7\" class=\"data row3 col7\" ></td>\n",
       "    </tr>\n",
       "  </tbody>\n",
       "</table>\n"
      ],
      "text/plain": [
       "<pandas.io.formats.style.Styler at 0x7fcd6a365650>"
      ]
     },
     "execution_count": 55,
     "metadata": {},
     "output_type": "execute_result"
    }
   ],
   "source": [
    "mutant_growth.style.pipe(make_pretty)"
   ]
  },
  {
   "cell_type": "markdown",
   "id": "865e9cbc",
   "metadata": {},
   "source": [
    "#### <span style=\"color: blue;\"> Gene KO predicted results with pFBA </span>"
   ]
  },
  {
   "cell_type": "code",
   "execution_count": 56,
   "id": "8b09a404",
   "metadata": {},
   "outputs": [],
   "source": [
    "model = reframed.load_cbmodel('model_cellulolyticum_H10.xml')"
   ]
  },
  {
   "cell_type": "code",
   "execution_count": 57,
   "id": "de3ed9f8",
   "metadata": {
    "scrolled": true
   },
   "outputs": [
    {
     "data": {
      "text/html": [
       "<div>\n",
       "<style scoped>\n",
       "    .dataframe tbody tr th:only-of-type {\n",
       "        vertical-align: middle;\n",
       "    }\n",
       "\n",
       "    .dataframe tbody tr th {\n",
       "        vertical-align: top;\n",
       "    }\n",
       "\n",
       "    .dataframe thead th {\n",
       "        text-align: right;\n",
       "    }\n",
       "</style>\n",
       "<table border=\"1\" class=\"dataframe\">\n",
       "  <thead>\n",
       "    <tr style=\"text-align: right;\">\n",
       "      <th></th>\n",
       "      <th>Sugars</th>\n",
       "      <th>Growth WT</th>\n",
       "    </tr>\n",
       "  </thead>\n",
       "  <tbody>\n",
       "    <tr>\n",
       "      <th>0</th>\n",
       "      <td>R_EX_arab__L_e</td>\n",
       "      <td>0.440824</td>\n",
       "    </tr>\n",
       "    <tr>\n",
       "      <th>1</th>\n",
       "      <td>R_EX_glc__D_e</td>\n",
       "      <td>0.595921</td>\n",
       "    </tr>\n",
       "    <tr>\n",
       "      <th>2</th>\n",
       "      <td>R_EX_cellb_e</td>\n",
       "      <td>1.101432</td>\n",
       "    </tr>\n",
       "    <tr>\n",
       "      <th>3</th>\n",
       "      <td>R_EX_gal_e</td>\n",
       "      <td>0.509684</td>\n",
       "    </tr>\n",
       "    <tr>\n",
       "      <th>4</th>\n",
       "      <td>R_EX_xyl__D_e</td>\n",
       "      <td>0.440824</td>\n",
       "    </tr>\n",
       "    <tr>\n",
       "      <th>5</th>\n",
       "      <td>R_EX_man_e</td>\n",
       "      <td>0.595921</td>\n",
       "    </tr>\n",
       "  </tbody>\n",
       "</table>\n",
       "</div>"
      ],
      "text/plain": [
       "           Sugars  Growth WT\n",
       "0  R_EX_arab__L_e   0.440824\n",
       "1   R_EX_glc__D_e   0.595921\n",
       "2    R_EX_cellb_e   1.101432\n",
       "3      R_EX_gal_e   0.509684\n",
       "4   R_EX_xyl__D_e   0.440824\n",
       "5      R_EX_man_e   0.595921"
      ]
     },
     "execution_count": 57,
     "metadata": {},
     "output_type": "execute_result"
    }
   ],
   "source": [
    "# Growth of wild type \n",
    "wt_growth = []\n",
    "sugars = ['R_EX_arab__L_e','R_EX_glc__D_e','R_EX_cellb_e','R_EX_gal_e','R_EX_xyl__D_e','R_EX_man_e']\n",
    "for sugar in sugars:\n",
    "    constraints = {'R_EX_glc__D_e':0}\n",
    "    constraints[sugar] = (-10,0)\n",
    "    wt_growth.append(reframed.pFBA(model,constraints=constraints).values['Growth'])\n",
    "    \n",
    "growth_wt = pd.DataFrame({'Sugars':sugars,'Growth WT':wt_growth})\n",
    "growth_wt   "
   ]
  },
  {
   "cell_type": "code",
   "execution_count": 58,
   "id": "d7d20d50",
   "metadata": {},
   "outputs": [],
   "source": [
    "%store -r gene_protein_map"
   ]
  },
  {
   "cell_type": "code",
   "execution_count": 59,
   "id": "b313a5ee",
   "metadata": {},
   "outputs": [],
   "source": [
    "def test_mutant_growth_sugar(model,protein_id,sugar,growth_wt):\n",
    "    sugar_to_id = {'Arabinose': 'R_EX_arab__L_e',\n",
    "                   'Glucose': 'R_EX_glc__D_e',\n",
    "                   'Cellobiose': 'R_EX_cellb_e',\n",
    "                   'Galactose': 'R_EX_gal_e',\n",
    "                   'Xylose': 'R_EX_xyl__D_e',\n",
    "                   'Mannose': 'R_EX_man_e'}\n",
    "    \n",
    "    constraints = {'R_EX_glc__D_e':0}\n",
    "    constraints[sugar_to_id[sugar]] = (-10,0)\n",
    "    sol = reframed.cobra.knockout.gene_knockout(model, protein, method='pFBA', reference=None, constraints=constraints)\n",
    "    \n",
    "    mu_wt = growth_wt.loc[growth_wt['Sugars'] ==sugar_to_id[sugar]]['Growth WT'].values[0]\n",
    "    mu_ko = sol.values['Growth']\n",
    "    return mu_ko/mu_wt, sol\n",
    "    "
   ]
  },
  {
   "cell_type": "code",
   "execution_count": 60,
   "id": "ee476557",
   "metadata": {},
   "outputs": [],
   "source": [
    "solutions_arab = []\n",
    "solutions_glc = []\n",
    "solutions_cellb = []\n",
    "solutions_gal = []\n",
    "solutions_xyl = []\n",
    "solutions_man = []\n",
    "sol_FBA = {'Arabinose': [],\n",
    "           'Glucose': [],\n",
    "           'Cellobiose': [],\n",
    "           'Galactose': [],\n",
    "           'Xylose': [],\n",
    "           'Mannose': []}\n",
    "\n",
    "# For all genes in the list of mutants. For each iteration, a new mutant is tested\n",
    "for gene in mutant_growth['Gene inactivation'].values:\n",
    "    constraints = {'R_EX_glc__D_e':0}\n",
    "    \n",
    "    # Find protein id from gene id\n",
    "    protein = list(gene_protein_map[gene_protein_map['Gene names'].str.contains(gene)][\"Cross-reference (RefSeq)\"])\n",
    "    # Find the row of the gene in mutant gene\n",
    "    growth_exp = mutant_growth.loc[mutant_growth['Gene inactivation'] == gene]\n",
    "    \n",
    "    # If growth was tested on Arabinose, test mutant growth\n",
    "    if growth_exp['Arabinose'].values == 'No' or growth_exp['Arabinose'].values == 'Yes':\n",
    "        rel_mu_mutant, sol = test_mutant_growth_sugar(model,protein,'Arabinose',growth_wt)\n",
    "        solutions_arab.append(rel_mu_mutant)\n",
    "        sol_FBA['Arabinose'].append(sol)\n",
    "    else:\n",
    "        solutions_arab.append(' ')\n",
    "    \n",
    "    # If growth was tested on Glucose, test mutant growth \n",
    "    if growth_exp['Glucose'].values == 'No' or growth_exp['Glucose'].values == 'Yes':\n",
    "        rel_mu_mutant, sol = test_mutant_growth_sugar(model,protein,'Glucose',growth_wt)\n",
    "        solutions_glc.append(rel_mu_mutant)\n",
    "        sol_FBA['Glucose'].append(sol)\n",
    "    else:\n",
    "        solutions_glc.append(' ')\n",
    "    \n",
    "    # If growth was tested on Cellobiose, test mutant growth \n",
    "    if growth_exp['Cellobiose'].values == 'No' or growth_exp['Cellobiose'].values == 'Yes':\n",
    "        rel_mu_mutant, sol = test_mutant_growth_sugar(model,protein,'Cellobiose',growth_wt)\n",
    "        solutions_cellb.append(rel_mu_mutant)\n",
    "        sol_FBA['Cellobiose'].append(sol)\n",
    "    else:\n",
    "        solutions_cellb.append(' ')\n",
    "        \n",
    "    # If growth was tested on Galactose, test mutant growth   \n",
    "    if growth_exp['Galactose'].values == 'No' or growth_exp['Galactose'].values == 'Yes':\n",
    "        rel_mu_mutant, sol = test_mutant_growth_sugar(model,protein,'Galactose',growth_wt)\n",
    "        solutions_gal.append(rel_mu_mutant)\n",
    "        sol_FBA['Galactose'].append(sol)\n",
    "    else:\n",
    "        solutions_gal.append(' ')\n",
    "    \n",
    "    # If growth was tested on Xylose, test mutant growth \n",
    "    if growth_exp['Xylose'].values == 'No' or growth_exp['Xylose'].values == 'Yes':\n",
    "        rel_mu_mutant, sol = test_mutant_growth_sugar(model,protein,'Xylose',growth_wt)\n",
    "        solutions_xyl.append(rel_mu_mutant)\n",
    "        sol_FBA['Xylose'].append(sol)\n",
    "    else:\n",
    "        solutions_xyl.append(' ')\n",
    "    \n",
    "    # If growth was tested on Mannose, test mutant growth \n",
    "    if growth_exp['Mannose'].values == 'No' or growth_exp['Mannose'].values == 'Yes':\n",
    "        rel_mu_mutant, sol = test_mutant_growth_sugar(model,protein,'Mannose',growth_wt)\n",
    "        solutions_man.append(rel_mu_mutant)\n",
    "        sol_FBA['Mannose'].append(sol)\n",
    "    else:\n",
    "        solutions_man.append(' ')"
   ]
  },
  {
   "cell_type": "code",
   "execution_count": 61,
   "id": "577f8a15",
   "metadata": {
    "scrolled": true
   },
   "outputs": [],
   "source": [
    "mutant_growth_pred = pd.DataFrame({'Mutant':mutant_growth['Mutant'], \n",
    "                               'Gene inactivation': mutant_growth['Gene inactivation'],\n",
    "                               'Arabinose':solutions_arab,\n",
    "                               'Glucose':solutions_glc,\n",
    "                               'Cellobiose':solutions_cellb,\n",
    "                               'Galactose':solutions_gal,\n",
    "                               'Xylose':solutions_xyl,\n",
    "                               'Mannose':solutions_man})"
   ]
  },
  {
   "cell_type": "code",
   "execution_count": 62,
   "id": "42f60387",
   "metadata": {},
   "outputs": [],
   "source": [
    "def conditions2(v):\n",
    "    if type(v)==str:\n",
    "        return v\n",
    "    elif v <0.1:\n",
    "        return \"No\"\n",
    "    elif v >=0.1:\n",
    "        return \"Yes\"\n",
    "    else:\n",
    "        return v\n",
    "    \n",
    "def color_map2(val):\n",
    "    if type(val)==str:\n",
    "        color = 'background-color: white'\n",
    "    elif val<0.1:\n",
    "        color = 'background-color: pink'\n",
    "    elif val >=0.1:\n",
    "        color = 'background-color: springgreen'\n",
    "\n",
    "    return color\n",
    "\n",
    "def make_pretty2(styler,caption):\n",
    "    styler.set_caption(caption)\n",
    "    styler.format(conditions2)\n",
    "    styler.applymap(color_map2)\n",
    "    return styler"
   ]
  },
  {
   "cell_type": "markdown",
   "id": "fdf608db",
   "metadata": {},
   "source": [
    "####  <span style=\"color: blue;\"> Comparison </span>"
   ]
  },
  {
   "cell_type": "code",
   "execution_count": 63,
   "id": "74abd83a",
   "metadata": {
    "tags": []
   },
   "outputs": [
    {
     "data": {
      "text/html": [
       "<style type=\"text/css\">\n",
       "#T_9e311_row0_col0, #T_9e311_row0_col1, #T_9e311_row0_col5, #T_9e311_row0_col6, #T_9e311_row1_col0, #T_9e311_row1_col1, #T_9e311_row1_col3, #T_9e311_row1_col4, #T_9e311_row1_col6, #T_9e311_row1_col7, #T_9e311_row2_col0, #T_9e311_row2_col1, #T_9e311_row2_col3, #T_9e311_row2_col4, #T_9e311_row2_col5, #T_9e311_row2_col7, #T_9e311_row3_col0, #T_9e311_row3_col1, #T_9e311_row3_col3, #T_9e311_row3_col4, #T_9e311_row3_col5, #T_9e311_row3_col7 {\n",
       "  background-color: white;\n",
       "}\n",
       "#T_9e311_row0_col2, #T_9e311_row0_col3, #T_9e311_row0_col4, #T_9e311_row0_col7, #T_9e311_row1_col2, #T_9e311_row1_col5, #T_9e311_row2_col2, #T_9e311_row3_col2 {\n",
       "  background-color: springgreen;\n",
       "}\n",
       "#T_9e311_row2_col6, #T_9e311_row3_col6 {\n",
       "  background-color: pink;\n",
       "}\n",
       "</style>\n",
       "<table id=\"T_9e311_\">\n",
       "  <caption>Predictions with pFBA</caption>\n",
       "  <thead>\n",
       "    <tr>\n",
       "      <th class=\"blank level0\" >&nbsp;</th>\n",
       "      <th class=\"col_heading level0 col0\" >Mutant</th>\n",
       "      <th class=\"col_heading level0 col1\" >Gene inactivation</th>\n",
       "      <th class=\"col_heading level0 col2\" >Arabinose</th>\n",
       "      <th class=\"col_heading level0 col3\" >Glucose</th>\n",
       "      <th class=\"col_heading level0 col4\" >Cellobiose</th>\n",
       "      <th class=\"col_heading level0 col5\" >Galactose</th>\n",
       "      <th class=\"col_heading level0 col6\" >Xylose</th>\n",
       "      <th class=\"col_heading level0 col7\" >Mannose</th>\n",
       "    </tr>\n",
       "  </thead>\n",
       "  <tbody>\n",
       "    <tr>\n",
       "      <th id=\"T_9e311_level0_row0\" class=\"row_heading level0 row0\" >0</th>\n",
       "      <td id=\"T_9e311_row0_col0\" class=\"data row0 col0\" >MTL3221</td>\n",
       "      <td id=\"T_9e311_row0_col1\" class=\"data row0 col1\" >Ccel_3221</td>\n",
       "      <td id=\"T_9e311_row0_col2\" class=\"data row0 col2\" >Yes</td>\n",
       "      <td id=\"T_9e311_row0_col3\" class=\"data row0 col3\" >Yes</td>\n",
       "      <td id=\"T_9e311_row0_col4\" class=\"data row0 col4\" >Yes</td>\n",
       "      <td id=\"T_9e311_row0_col5\" class=\"data row0 col5\" > </td>\n",
       "      <td id=\"T_9e311_row0_col6\" class=\"data row0 col6\" > </td>\n",
       "      <td id=\"T_9e311_row0_col7\" class=\"data row0 col7\" >Yes</td>\n",
       "    </tr>\n",
       "    <tr>\n",
       "      <th id=\"T_9e311_level0_row1\" class=\"row_heading level0 row1\" >1</th>\n",
       "      <td id=\"T_9e311_row1_col0\" class=\"data row1 col0\" >MTL3238</td>\n",
       "      <td id=\"T_9e311_row1_col1\" class=\"data row1 col1\" >Ccel_3238</td>\n",
       "      <td id=\"T_9e311_row1_col2\" class=\"data row1 col2\" >Yes</td>\n",
       "      <td id=\"T_9e311_row1_col3\" class=\"data row1 col3\" > </td>\n",
       "      <td id=\"T_9e311_row1_col4\" class=\"data row1 col4\" > </td>\n",
       "      <td id=\"T_9e311_row1_col5\" class=\"data row1 col5\" >Yes</td>\n",
       "      <td id=\"T_9e311_row1_col6\" class=\"data row1 col6\" > </td>\n",
       "      <td id=\"T_9e311_row1_col7\" class=\"data row1 col7\" > </td>\n",
       "    </tr>\n",
       "    <tr>\n",
       "      <th id=\"T_9e311_level0_row2\" class=\"row_heading level0 row2\" >2</th>\n",
       "      <td id=\"T_9e311_row2_col0\" class=\"data row2 col0\" >MTL3429</td>\n",
       "      <td id=\"T_9e311_row2_col1\" class=\"data row2 col1\" >Ccel_3429</td>\n",
       "      <td id=\"T_9e311_row2_col2\" class=\"data row2 col2\" >Yes</td>\n",
       "      <td id=\"T_9e311_row2_col3\" class=\"data row2 col3\" > </td>\n",
       "      <td id=\"T_9e311_row2_col4\" class=\"data row2 col4\" > </td>\n",
       "      <td id=\"T_9e311_row2_col5\" class=\"data row2 col5\" > </td>\n",
       "      <td id=\"T_9e311_row2_col6\" class=\"data row2 col6\" >No</td>\n",
       "      <td id=\"T_9e311_row2_col7\" class=\"data row2 col7\" > </td>\n",
       "    </tr>\n",
       "    <tr>\n",
       "      <th id=\"T_9e311_level0_row3\" class=\"row_heading level0 row3\" >3</th>\n",
       "      <td id=\"T_9e311_row3_col0\" class=\"data row3 col0\" >MTL3431</td>\n",
       "      <td id=\"T_9e311_row3_col1\" class=\"data row3 col1\" >Ccel_3431</td>\n",
       "      <td id=\"T_9e311_row3_col2\" class=\"data row3 col2\" >Yes</td>\n",
       "      <td id=\"T_9e311_row3_col3\" class=\"data row3 col3\" > </td>\n",
       "      <td id=\"T_9e311_row3_col4\" class=\"data row3 col4\" > </td>\n",
       "      <td id=\"T_9e311_row3_col5\" class=\"data row3 col5\" > </td>\n",
       "      <td id=\"T_9e311_row3_col6\" class=\"data row3 col6\" >No</td>\n",
       "      <td id=\"T_9e311_row3_col7\" class=\"data row3 col7\" > </td>\n",
       "    </tr>\n",
       "  </tbody>\n",
       "</table>\n"
      ],
      "text/plain": [
       "<pandas.io.formats.style.Styler at 0x7fcd28be3450>"
      ]
     },
     "execution_count": 63,
     "metadata": {},
     "output_type": "execute_result"
    }
   ],
   "source": [
    "mutant_growth_pred.style.pipe(make_pretty2,\"Predictions with pFBA\")"
   ]
  },
  {
   "cell_type": "code",
   "execution_count": 64,
   "id": "c66fe2ad",
   "metadata": {
    "tags": []
   },
   "outputs": [
    {
     "data": {
      "text/html": [
       "<style type=\"text/css\">\n",
       "#T_4a4fb_row0_col0, #T_4a4fb_row0_col1, #T_4a4fb_row0_col5, #T_4a4fb_row0_col6, #T_4a4fb_row1_col0, #T_4a4fb_row1_col1, #T_4a4fb_row1_col3, #T_4a4fb_row1_col4, #T_4a4fb_row1_col6, #T_4a4fb_row1_col7, #T_4a4fb_row2_col0, #T_4a4fb_row2_col1, #T_4a4fb_row2_col3, #T_4a4fb_row2_col4, #T_4a4fb_row2_col5, #T_4a4fb_row2_col7, #T_4a4fb_row3_col0, #T_4a4fb_row3_col1, #T_4a4fb_row3_col3, #T_4a4fb_row3_col4, #T_4a4fb_row3_col5, #T_4a4fb_row3_col7 {\n",
       "  background-color: white;\n",
       "}\n",
       "#T_4a4fb_row0_col2, #T_4a4fb_row1_col2, #T_4a4fb_row2_col2, #T_4a4fb_row2_col6, #T_4a4fb_row3_col2 {\n",
       "  background-color: springgreen;\n",
       "}\n",
       "#T_4a4fb_row0_col3, #T_4a4fb_row0_col4, #T_4a4fb_row0_col7, #T_4a4fb_row1_col5, #T_4a4fb_row3_col6 {\n",
       "  background-color: pink;\n",
       "}\n",
       "</style>\n",
       "<table id=\"T_4a4fb_\">\n",
       "  <caption>Experimental results</caption>\n",
       "  <thead>\n",
       "    <tr>\n",
       "      <th class=\"blank level0\" >&nbsp;</th>\n",
       "      <th class=\"col_heading level0 col0\" >Mutant</th>\n",
       "      <th class=\"col_heading level0 col1\" >Gene inactivation</th>\n",
       "      <th class=\"col_heading level0 col2\" >Arabinose</th>\n",
       "      <th class=\"col_heading level0 col3\" >Glucose</th>\n",
       "      <th class=\"col_heading level0 col4\" >Cellobiose</th>\n",
       "      <th class=\"col_heading level0 col5\" >Galactose</th>\n",
       "      <th class=\"col_heading level0 col6\" >Xylose</th>\n",
       "      <th class=\"col_heading level0 col7\" >Mannose</th>\n",
       "    </tr>\n",
       "  </thead>\n",
       "  <tbody>\n",
       "    <tr>\n",
       "      <th id=\"T_4a4fb_level0_row0\" class=\"row_heading level0 row0\" >0</th>\n",
       "      <td id=\"T_4a4fb_row0_col0\" class=\"data row0 col0\" >MTL3221</td>\n",
       "      <td id=\"T_4a4fb_row0_col1\" class=\"data row0 col1\" >Ccel_3221</td>\n",
       "      <td id=\"T_4a4fb_row0_col2\" class=\"data row0 col2\" >Yes</td>\n",
       "      <td id=\"T_4a4fb_row0_col3\" class=\"data row0 col3\" >No</td>\n",
       "      <td id=\"T_4a4fb_row0_col4\" class=\"data row0 col4\" >No</td>\n",
       "      <td id=\"T_4a4fb_row0_col5\" class=\"data row0 col5\" ></td>\n",
       "      <td id=\"T_4a4fb_row0_col6\" class=\"data row0 col6\" ></td>\n",
       "      <td id=\"T_4a4fb_row0_col7\" class=\"data row0 col7\" >No</td>\n",
       "    </tr>\n",
       "    <tr>\n",
       "      <th id=\"T_4a4fb_level0_row1\" class=\"row_heading level0 row1\" >1</th>\n",
       "      <td id=\"T_4a4fb_row1_col0\" class=\"data row1 col0\" >MTL3238</td>\n",
       "      <td id=\"T_4a4fb_row1_col1\" class=\"data row1 col1\" >Ccel_3238</td>\n",
       "      <td id=\"T_4a4fb_row1_col2\" class=\"data row1 col2\" >Yes</td>\n",
       "      <td id=\"T_4a4fb_row1_col3\" class=\"data row1 col3\" ></td>\n",
       "      <td id=\"T_4a4fb_row1_col4\" class=\"data row1 col4\" ></td>\n",
       "      <td id=\"T_4a4fb_row1_col5\" class=\"data row1 col5\" >No</td>\n",
       "      <td id=\"T_4a4fb_row1_col6\" class=\"data row1 col6\" ></td>\n",
       "      <td id=\"T_4a4fb_row1_col7\" class=\"data row1 col7\" ></td>\n",
       "    </tr>\n",
       "    <tr>\n",
       "      <th id=\"T_4a4fb_level0_row2\" class=\"row_heading level0 row2\" >2</th>\n",
       "      <td id=\"T_4a4fb_row2_col0\" class=\"data row2 col0\" >MTL3429</td>\n",
       "      <td id=\"T_4a4fb_row2_col1\" class=\"data row2 col1\" >Ccel_3429</td>\n",
       "      <td id=\"T_4a4fb_row2_col2\" class=\"data row2 col2\" >Yes</td>\n",
       "      <td id=\"T_4a4fb_row2_col3\" class=\"data row2 col3\" ></td>\n",
       "      <td id=\"T_4a4fb_row2_col4\" class=\"data row2 col4\" ></td>\n",
       "      <td id=\"T_4a4fb_row2_col5\" class=\"data row2 col5\" ></td>\n",
       "      <td id=\"T_4a4fb_row2_col6\" class=\"data row2 col6\" >Yes</td>\n",
       "      <td id=\"T_4a4fb_row2_col7\" class=\"data row2 col7\" ></td>\n",
       "    </tr>\n",
       "    <tr>\n",
       "      <th id=\"T_4a4fb_level0_row3\" class=\"row_heading level0 row3\" >3</th>\n",
       "      <td id=\"T_4a4fb_row3_col0\" class=\"data row3 col0\" >MTL3431</td>\n",
       "      <td id=\"T_4a4fb_row3_col1\" class=\"data row3 col1\" >Ccel_3431</td>\n",
       "      <td id=\"T_4a4fb_row3_col2\" class=\"data row3 col2\" >Yes</td>\n",
       "      <td id=\"T_4a4fb_row3_col3\" class=\"data row3 col3\" ></td>\n",
       "      <td id=\"T_4a4fb_row3_col4\" class=\"data row3 col4\" ></td>\n",
       "      <td id=\"T_4a4fb_row3_col5\" class=\"data row3 col5\" ></td>\n",
       "      <td id=\"T_4a4fb_row3_col6\" class=\"data row3 col6\" >No</td>\n",
       "      <td id=\"T_4a4fb_row3_col7\" class=\"data row3 col7\" ></td>\n",
       "    </tr>\n",
       "  </tbody>\n",
       "</table>\n"
      ],
      "text/plain": [
       "<pandas.io.formats.style.Styler at 0x7fcd3bf62e10>"
      ]
     },
     "execution_count": 64,
     "metadata": {},
     "output_type": "execute_result"
    }
   ],
   "source": [
    "mutant_growth.style.pipe(make_pretty)"
   ]
  },
  {
   "cell_type": "markdown",
   "id": "22c27f50",
   "metadata": {},
   "source": [
    "#### **<span style=\"color: purple;\"> B.2: Analysis  </span>**"
   ]
  },
  {
   "cell_type": "code",
   "execution_count": 65,
   "id": "2053f5e8",
   "metadata": {},
   "outputs": [],
   "source": [
    "%store -r reaction_gene_map"
   ]
  },
  {
   "cell_type": "markdown",
   "id": "c113aa40",
   "metadata": {},
   "source": [
    "**Ccel_3221 (hexokinase)**"
   ]
  },
  {
   "cell_type": "code",
   "execution_count": 66,
   "id": "c5f01c64",
   "metadata": {},
   "outputs": [
    {
     "data": {
      "text/html": [
       "<div>\n",
       "<style scoped>\n",
       "    .dataframe tbody tr th:only-of-type {\n",
       "        vertical-align: middle;\n",
       "    }\n",
       "\n",
       "    .dataframe tbody tr th {\n",
       "        vertical-align: top;\n",
       "    }\n",
       "\n",
       "    .dataframe thead th {\n",
       "        text-align: right;\n",
       "    }\n",
       "</style>\n",
       "<table border=\"1\" class=\"dataframe\">\n",
       "  <thead>\n",
       "    <tr style=\"text-align: right;\">\n",
       "      <th></th>\n",
       "      <th>CarveMe rxn ID</th>\n",
       "      <th>Genes</th>\n",
       "    </tr>\n",
       "  </thead>\n",
       "  <tbody>\n",
       "    <tr>\n",
       "      <th>809</th>\n",
       "      <td>R_HEX1</td>\n",
       "      <td>Ccel_0700, Ccel_3221, Ccel_2190, Ccel_1663, Cc...</td>\n",
       "    </tr>\n",
       "    <tr>\n",
       "      <th>810</th>\n",
       "      <td>R_HEX4</td>\n",
       "      <td>Ccel_3221</td>\n",
       "    </tr>\n",
       "    <tr>\n",
       "      <th>811</th>\n",
       "      <td>R_HEX7</td>\n",
       "      <td>Ccel_3221, Ccel_0954</td>\n",
       "    </tr>\n",
       "  </tbody>\n",
       "</table>\n",
       "</div>"
      ],
      "text/plain": [
       "    CarveMe rxn ID                                              Genes\n",
       "809         R_HEX1  Ccel_0700, Ccel_3221, Ccel_2190, Ccel_1663, Cc...\n",
       "810         R_HEX4                                          Ccel_3221\n",
       "811         R_HEX7                               Ccel_3221, Ccel_0954"
      ]
     },
     "execution_count": 66,
     "metadata": {},
     "output_type": "execute_result"
    }
   ],
   "source": [
    "reaction_gene_map[reaction_gene_map['Genes'].str.contains(\"Ccel_3221\")]"
   ]
  },
  {
   "cell_type": "code",
   "execution_count": 67,
   "id": "b928b6ae",
   "metadata": {},
   "outputs": [
    {
     "name": "stdout",
     "output_type": "stream",
     "text": [
      "R_HEX1: M_atp_c + M_glc__D_c --> M_adp_c + M_g6p_c + M_h_c: (G_WP_015924247_1 or G_WP_015925130_1 or G_WP_015925627_1 or G_WP_015926569_1 or G_WP_015926770_1)\n",
      "\n",
      "R_HEX4: M_atp_c + M_man_c --> M_adp_c + M_h_c + M_man6p_c: G_WP_015926569_1\n",
      "\n",
      "R_HEX7: M_atp_c + M_fru_c --> M_adp_c + M_f6p_c + M_h_c: (G_WP_015924474_1 or G_WP_015926569_1)\n",
      "\n"
     ]
    }
   ],
   "source": [
    "for rxn in reaction_gene_map[reaction_gene_map['Genes'].str.contains(\"Ccel_3221\")]['CarveMe rxn ID'].values:\n",
    "    print(str(model.reactions[rxn]) + \": \" + str(model.reactions[rxn].gpr) + \"\\n\")"
   ]
  },
  {
   "cell_type": "markdown",
   "id": "88c811ab",
   "metadata": {},
   "source": [
    "**Ccel_3238 (Galactokinase)**"
   ]
  },
  {
   "cell_type": "code",
   "execution_count": 68,
   "id": "ffd789f9",
   "metadata": {},
   "outputs": [
    {
     "data": {
      "text/html": [
       "<div>\n",
       "<style scoped>\n",
       "    .dataframe tbody tr th:only-of-type {\n",
       "        vertical-align: middle;\n",
       "    }\n",
       "\n",
       "    .dataframe tbody tr th {\n",
       "        vertical-align: top;\n",
       "    }\n",
       "\n",
       "    .dataframe thead th {\n",
       "        text-align: right;\n",
       "    }\n",
       "</style>\n",
       "<table border=\"1\" class=\"dataframe\">\n",
       "  <thead>\n",
       "    <tr style=\"text-align: right;\">\n",
       "      <th></th>\n",
       "      <th>CarveMe rxn ID</th>\n",
       "      <th>Genes</th>\n",
       "    </tr>\n",
       "  </thead>\n",
       "  <tbody>\n",
       "    <tr>\n",
       "      <th>650</th>\n",
       "      <td>R_GALK2</td>\n",
       "      <td>Ccel_3238</td>\n",
       "    </tr>\n",
       "    <tr>\n",
       "      <th>651</th>\n",
       "      <td>R_GALKr</td>\n",
       "      <td>Ccel_3238</td>\n",
       "    </tr>\n",
       "  </tbody>\n",
       "</table>\n",
       "</div>"
      ],
      "text/plain": [
       "    CarveMe rxn ID      Genes\n",
       "650        R_GALK2  Ccel_3238\n",
       "651        R_GALKr  Ccel_3238"
      ]
     },
     "execution_count": 68,
     "metadata": {},
     "output_type": "execute_result"
    }
   ],
   "source": [
    "reaction_gene_map[reaction_gene_map['Genes'].str.contains(\"Ccel_3238\")]"
   ]
  },
  {
   "cell_type": "code",
   "execution_count": 69,
   "id": "04a483ce",
   "metadata": {},
   "outputs": [
    {
     "name": "stdout",
     "output_type": "stream",
     "text": [
      "R_GALK2: M_a_gal__D_c + M_atp_c --> M_adp_c + M_gal1p_c + M_h_c: G_WP_015926586_1\n",
      "\n",
      "R_GALKr: M_atp_c + M_gal_c <-> M_adp_c + M_gal1p_c + M_h_c: G_WP_015926586_1\n",
      "\n"
     ]
    }
   ],
   "source": [
    "for rxn in reaction_gene_map[reaction_gene_map['Genes'].str.contains(\"Ccel_3238\")]['CarveMe rxn ID'].values:\n",
    "    print(str(model.reactions[rxn]) + \": \" + str(model.reactions[rxn].gpr) + \"\\n\")"
   ]
  },
  {
   "cell_type": "markdown",
   "id": "393b92d6",
   "metadata": {},
   "source": [
    "**Ccel_3429 (xylose isomerase)**"
   ]
  },
  {
   "cell_type": "code",
   "execution_count": 70,
   "id": "d06b79f3",
   "metadata": {},
   "outputs": [
    {
     "data": {
      "text/html": [
       "<div>\n",
       "<style scoped>\n",
       "    .dataframe tbody tr th:only-of-type {\n",
       "        vertical-align: middle;\n",
       "    }\n",
       "\n",
       "    .dataframe tbody tr th {\n",
       "        vertical-align: top;\n",
       "    }\n",
       "\n",
       "    .dataframe thead th {\n",
       "        text-align: right;\n",
       "    }\n",
       "</style>\n",
       "<table border=\"1\" class=\"dataframe\">\n",
       "  <thead>\n",
       "    <tr style=\"text-align: right;\">\n",
       "      <th></th>\n",
       "      <th>CarveMe rxn ID</th>\n",
       "      <th>Genes</th>\n",
       "    </tr>\n",
       "  </thead>\n",
       "  <tbody>\n",
       "    <tr>\n",
       "      <th>1574</th>\n",
       "      <td>R_XYLI1</td>\n",
       "      <td>Ccel_3429</td>\n",
       "    </tr>\n",
       "    <tr>\n",
       "      <th>1575</th>\n",
       "      <td>R_XYLI2</td>\n",
       "      <td>Ccel_3429</td>\n",
       "    </tr>\n",
       "  </tbody>\n",
       "</table>\n",
       "</div>"
      ],
      "text/plain": [
       "     CarveMe rxn ID      Genes\n",
       "1574        R_XYLI1  Ccel_3429\n",
       "1575        R_XYLI2  Ccel_3429"
      ]
     },
     "execution_count": 70,
     "metadata": {},
     "output_type": "execute_result"
    }
   ],
   "source": [
    "reaction_gene_map[reaction_gene_map['Genes'].str.contains(\"Ccel_3429\")]"
   ]
  },
  {
   "cell_type": "code",
   "execution_count": 197,
   "id": "3978b7d1",
   "metadata": {},
   "outputs": [
    {
     "name": "stdout",
     "output_type": "stream",
     "text": [
      "R_XYLI1: M_xyl__D_c <-> M_xylu__D_c: G_WP_015926769_1\n",
      "\n",
      "R_XYLI2: M_glc__D_c <-> M_fru_c: G_WP_015926769_1\n",
      "\n"
     ]
    }
   ],
   "source": [
    "for rxn in reaction_gene_map[reaction_gene_map['Genes'].str.contains(\"Ccel_3429\")]['CarveMe rxn ID'].values:\n",
    "    print(str(model.reactions[rxn]) + \": \" + str(model.reactions[rxn].gpr) + \"\\n\")\n",
    "    "
   ]
  },
  {
   "cell_type": "markdown",
   "id": "0142fc23",
   "metadata": {},
   "source": [
    "**Ccel_3431 (xylulokinase)**"
   ]
  },
  {
   "cell_type": "code",
   "execution_count": 198,
   "id": "ad651e19",
   "metadata": {},
   "outputs": [
    {
     "data": {
      "text/html": [
       "<div>\n",
       "<style scoped>\n",
       "    .dataframe tbody tr th:only-of-type {\n",
       "        vertical-align: middle;\n",
       "    }\n",
       "\n",
       "    .dataframe tbody tr th {\n",
       "        vertical-align: top;\n",
       "    }\n",
       "\n",
       "    .dataframe thead th {\n",
       "        text-align: right;\n",
       "    }\n",
       "</style>\n",
       "<table border=\"1\" class=\"dataframe\">\n",
       "  <thead>\n",
       "    <tr style=\"text-align: right;\">\n",
       "      <th></th>\n",
       "      <th>CarveMe rxn ID</th>\n",
       "      <th>Genes</th>\n",
       "    </tr>\n",
       "  </thead>\n",
       "  <tbody>\n",
       "    <tr>\n",
       "      <th>1576</th>\n",
       "      <td>R_XYLK</td>\n",
       "      <td>Ccel_3431</td>\n",
       "    </tr>\n",
       "  </tbody>\n",
       "</table>\n",
       "</div>"
      ],
      "text/plain": [
       "     CarveMe rxn ID      Genes\n",
       "1576         R_XYLK  Ccel_3431"
      ]
     },
     "execution_count": 198,
     "metadata": {},
     "output_type": "execute_result"
    }
   ],
   "source": [
    "reaction_gene_map[reaction_gene_map['Genes'].str.contains(\"Ccel_3431\")]"
   ]
  },
  {
   "cell_type": "markdown",
   "id": "ef8933ea",
   "metadata": {},
   "source": [
    "<span style=\"color: purple;\">**False-positive cases**</span>"
   ]
  },
  {
   "cell_type": "code",
   "execution_count": 199,
   "id": "ac6841ab",
   "metadata": {
    "scrolled": true
   },
   "outputs": [
    {
     "data": {
      "text/html": [
       "<style type=\"text/css\">\n",
       "#T_d753a_row0_col0, #T_d753a_row0_col1, #T_d753a_row0_col5, #T_d753a_row0_col6, #T_d753a_row1_col0, #T_d753a_row1_col1, #T_d753a_row1_col3, #T_d753a_row1_col4, #T_d753a_row1_col6, #T_d753a_row1_col7, #T_d753a_row2_col0, #T_d753a_row2_col1, #T_d753a_row2_col3, #T_d753a_row2_col4, #T_d753a_row2_col5, #T_d753a_row2_col7, #T_d753a_row3_col0, #T_d753a_row3_col1, #T_d753a_row3_col3, #T_d753a_row3_col4, #T_d753a_row3_col5, #T_d753a_row3_col7 {\n",
       "  background-color: white;\n",
       "}\n",
       "#T_d753a_row0_col2, #T_d753a_row0_col3, #T_d753a_row0_col4, #T_d753a_row0_col7, #T_d753a_row1_col2, #T_d753a_row1_col5, #T_d753a_row2_col2, #T_d753a_row3_col2 {\n",
       "  background-color: springgreen;\n",
       "}\n",
       "#T_d753a_row2_col6, #T_d753a_row3_col6 {\n",
       "  background-color: pink;\n",
       "}\n",
       "</style>\n",
       "<table id=\"T_d753a_\">\n",
       "  <caption>Predictions with pFBA</caption>\n",
       "  <thead>\n",
       "    <tr>\n",
       "      <th class=\"blank level0\" >&nbsp;</th>\n",
       "      <th class=\"col_heading level0 col0\" >Mutant</th>\n",
       "      <th class=\"col_heading level0 col1\" >Gene inactivation</th>\n",
       "      <th class=\"col_heading level0 col2\" >Arabinose</th>\n",
       "      <th class=\"col_heading level0 col3\" >Glucose</th>\n",
       "      <th class=\"col_heading level0 col4\" >Cellobiose</th>\n",
       "      <th class=\"col_heading level0 col5\" >Galactose</th>\n",
       "      <th class=\"col_heading level0 col6\" >Xylose</th>\n",
       "      <th class=\"col_heading level0 col7\" >Mannose</th>\n",
       "    </tr>\n",
       "  </thead>\n",
       "  <tbody>\n",
       "    <tr>\n",
       "      <th id=\"T_d753a_level0_row0\" class=\"row_heading level0 row0\" >0</th>\n",
       "      <td id=\"T_d753a_row0_col0\" class=\"data row0 col0\" >MTL3221</td>\n",
       "      <td id=\"T_d753a_row0_col1\" class=\"data row0 col1\" >Ccel_3221</td>\n",
       "      <td id=\"T_d753a_row0_col2\" class=\"data row0 col2\" >Yes</td>\n",
       "      <td id=\"T_d753a_row0_col3\" class=\"data row0 col3\" >Yes</td>\n",
       "      <td id=\"T_d753a_row0_col4\" class=\"data row0 col4\" >Yes</td>\n",
       "      <td id=\"T_d753a_row0_col5\" class=\"data row0 col5\" > </td>\n",
       "      <td id=\"T_d753a_row0_col6\" class=\"data row0 col6\" > </td>\n",
       "      <td id=\"T_d753a_row0_col7\" class=\"data row0 col7\" >Yes</td>\n",
       "    </tr>\n",
       "    <tr>\n",
       "      <th id=\"T_d753a_level0_row1\" class=\"row_heading level0 row1\" >1</th>\n",
       "      <td id=\"T_d753a_row1_col0\" class=\"data row1 col0\" >MTL3238</td>\n",
       "      <td id=\"T_d753a_row1_col1\" class=\"data row1 col1\" >Ccel_3238</td>\n",
       "      <td id=\"T_d753a_row1_col2\" class=\"data row1 col2\" >Yes</td>\n",
       "      <td id=\"T_d753a_row1_col3\" class=\"data row1 col3\" > </td>\n",
       "      <td id=\"T_d753a_row1_col4\" class=\"data row1 col4\" > </td>\n",
       "      <td id=\"T_d753a_row1_col5\" class=\"data row1 col5\" >Yes</td>\n",
       "      <td id=\"T_d753a_row1_col6\" class=\"data row1 col6\" > </td>\n",
       "      <td id=\"T_d753a_row1_col7\" class=\"data row1 col7\" > </td>\n",
       "    </tr>\n",
       "    <tr>\n",
       "      <th id=\"T_d753a_level0_row2\" class=\"row_heading level0 row2\" >2</th>\n",
       "      <td id=\"T_d753a_row2_col0\" class=\"data row2 col0\" >MTL3429</td>\n",
       "      <td id=\"T_d753a_row2_col1\" class=\"data row2 col1\" >Ccel_3429</td>\n",
       "      <td id=\"T_d753a_row2_col2\" class=\"data row2 col2\" >Yes</td>\n",
       "      <td id=\"T_d753a_row2_col3\" class=\"data row2 col3\" > </td>\n",
       "      <td id=\"T_d753a_row2_col4\" class=\"data row2 col4\" > </td>\n",
       "      <td id=\"T_d753a_row2_col5\" class=\"data row2 col5\" > </td>\n",
       "      <td id=\"T_d753a_row2_col6\" class=\"data row2 col6\" >No</td>\n",
       "      <td id=\"T_d753a_row2_col7\" class=\"data row2 col7\" > </td>\n",
       "    </tr>\n",
       "    <tr>\n",
       "      <th id=\"T_d753a_level0_row3\" class=\"row_heading level0 row3\" >3</th>\n",
       "      <td id=\"T_d753a_row3_col0\" class=\"data row3 col0\" >MTL3431</td>\n",
       "      <td id=\"T_d753a_row3_col1\" class=\"data row3 col1\" >Ccel_3431</td>\n",
       "      <td id=\"T_d753a_row3_col2\" class=\"data row3 col2\" >Yes</td>\n",
       "      <td id=\"T_d753a_row3_col3\" class=\"data row3 col3\" > </td>\n",
       "      <td id=\"T_d753a_row3_col4\" class=\"data row3 col4\" > </td>\n",
       "      <td id=\"T_d753a_row3_col5\" class=\"data row3 col5\" > </td>\n",
       "      <td id=\"T_d753a_row3_col6\" class=\"data row3 col6\" >No</td>\n",
       "      <td id=\"T_d753a_row3_col7\" class=\"data row3 col7\" > </td>\n",
       "    </tr>\n",
       "  </tbody>\n",
       "</table>\n"
      ],
      "text/plain": [
       "<pandas.io.formats.style.Styler at 0x7f8623ff9850>"
      ]
     },
     "execution_count": 199,
     "metadata": {},
     "output_type": "execute_result"
    }
   ],
   "source": [
    "mutant_growth_pred.style.pipe(make_pretty2,\"Predictions with pFBA\")"
   ]
  },
  {
   "cell_type": "code",
   "execution_count": 200,
   "id": "ab7c6606",
   "metadata": {},
   "outputs": [
    {
     "data": {
      "text/html": [
       "<style type=\"text/css\">\n",
       "#T_001cd_row0_col0, #T_001cd_row0_col1, #T_001cd_row0_col5, #T_001cd_row0_col6, #T_001cd_row1_col0, #T_001cd_row1_col1, #T_001cd_row1_col3, #T_001cd_row1_col4, #T_001cd_row1_col6, #T_001cd_row1_col7, #T_001cd_row2_col0, #T_001cd_row2_col1, #T_001cd_row2_col3, #T_001cd_row2_col4, #T_001cd_row2_col5, #T_001cd_row2_col7, #T_001cd_row3_col0, #T_001cd_row3_col1, #T_001cd_row3_col3, #T_001cd_row3_col4, #T_001cd_row3_col5, #T_001cd_row3_col7 {\n",
       "  background-color: white;\n",
       "}\n",
       "#T_001cd_row0_col2, #T_001cd_row1_col2, #T_001cd_row2_col2, #T_001cd_row2_col6, #T_001cd_row3_col2 {\n",
       "  background-color: springgreen;\n",
       "}\n",
       "#T_001cd_row0_col3, #T_001cd_row0_col4, #T_001cd_row0_col7, #T_001cd_row1_col5, #T_001cd_row3_col6 {\n",
       "  background-color: pink;\n",
       "}\n",
       "</style>\n",
       "<table id=\"T_001cd_\">\n",
       "  <caption>Experimental results</caption>\n",
       "  <thead>\n",
       "    <tr>\n",
       "      <th class=\"blank level0\" >&nbsp;</th>\n",
       "      <th class=\"col_heading level0 col0\" >Mutant</th>\n",
       "      <th class=\"col_heading level0 col1\" >Gene inactivation</th>\n",
       "      <th class=\"col_heading level0 col2\" >Arabinose</th>\n",
       "      <th class=\"col_heading level0 col3\" >Glucose</th>\n",
       "      <th class=\"col_heading level0 col4\" >Cellobiose</th>\n",
       "      <th class=\"col_heading level0 col5\" >Galactose</th>\n",
       "      <th class=\"col_heading level0 col6\" >Xylose</th>\n",
       "      <th class=\"col_heading level0 col7\" >Mannose</th>\n",
       "    </tr>\n",
       "  </thead>\n",
       "  <tbody>\n",
       "    <tr>\n",
       "      <th id=\"T_001cd_level0_row0\" class=\"row_heading level0 row0\" >0</th>\n",
       "      <td id=\"T_001cd_row0_col0\" class=\"data row0 col0\" >MTL3221</td>\n",
       "      <td id=\"T_001cd_row0_col1\" class=\"data row0 col1\" >Ccel_3221</td>\n",
       "      <td id=\"T_001cd_row0_col2\" class=\"data row0 col2\" >Yes</td>\n",
       "      <td id=\"T_001cd_row0_col3\" class=\"data row0 col3\" >No</td>\n",
       "      <td id=\"T_001cd_row0_col4\" class=\"data row0 col4\" >No</td>\n",
       "      <td id=\"T_001cd_row0_col5\" class=\"data row0 col5\" ></td>\n",
       "      <td id=\"T_001cd_row0_col6\" class=\"data row0 col6\" ></td>\n",
       "      <td id=\"T_001cd_row0_col7\" class=\"data row0 col7\" >No</td>\n",
       "    </tr>\n",
       "    <tr>\n",
       "      <th id=\"T_001cd_level0_row1\" class=\"row_heading level0 row1\" >1</th>\n",
       "      <td id=\"T_001cd_row1_col0\" class=\"data row1 col0\" >MTL3238</td>\n",
       "      <td id=\"T_001cd_row1_col1\" class=\"data row1 col1\" >Ccel_3238</td>\n",
       "      <td id=\"T_001cd_row1_col2\" class=\"data row1 col2\" >Yes</td>\n",
       "      <td id=\"T_001cd_row1_col3\" class=\"data row1 col3\" ></td>\n",
       "      <td id=\"T_001cd_row1_col4\" class=\"data row1 col4\" ></td>\n",
       "      <td id=\"T_001cd_row1_col5\" class=\"data row1 col5\" >No</td>\n",
       "      <td id=\"T_001cd_row1_col6\" class=\"data row1 col6\" ></td>\n",
       "      <td id=\"T_001cd_row1_col7\" class=\"data row1 col7\" ></td>\n",
       "    </tr>\n",
       "    <tr>\n",
       "      <th id=\"T_001cd_level0_row2\" class=\"row_heading level0 row2\" >2</th>\n",
       "      <td id=\"T_001cd_row2_col0\" class=\"data row2 col0\" >MTL3429</td>\n",
       "      <td id=\"T_001cd_row2_col1\" class=\"data row2 col1\" >Ccel_3429</td>\n",
       "      <td id=\"T_001cd_row2_col2\" class=\"data row2 col2\" >Yes</td>\n",
       "      <td id=\"T_001cd_row2_col3\" class=\"data row2 col3\" ></td>\n",
       "      <td id=\"T_001cd_row2_col4\" class=\"data row2 col4\" ></td>\n",
       "      <td id=\"T_001cd_row2_col5\" class=\"data row2 col5\" ></td>\n",
       "      <td id=\"T_001cd_row2_col6\" class=\"data row2 col6\" >Yes</td>\n",
       "      <td id=\"T_001cd_row2_col7\" class=\"data row2 col7\" ></td>\n",
       "    </tr>\n",
       "    <tr>\n",
       "      <th id=\"T_001cd_level0_row3\" class=\"row_heading level0 row3\" >3</th>\n",
       "      <td id=\"T_001cd_row3_col0\" class=\"data row3 col0\" >MTL3431</td>\n",
       "      <td id=\"T_001cd_row3_col1\" class=\"data row3 col1\" >Ccel_3431</td>\n",
       "      <td id=\"T_001cd_row3_col2\" class=\"data row3 col2\" >Yes</td>\n",
       "      <td id=\"T_001cd_row3_col3\" class=\"data row3 col3\" ></td>\n",
       "      <td id=\"T_001cd_row3_col4\" class=\"data row3 col4\" ></td>\n",
       "      <td id=\"T_001cd_row3_col5\" class=\"data row3 col5\" ></td>\n",
       "      <td id=\"T_001cd_row3_col6\" class=\"data row3 col6\" >No</td>\n",
       "      <td id=\"T_001cd_row3_col7\" class=\"data row3 col7\" ></td>\n",
       "    </tr>\n",
       "  </tbody>\n",
       "</table>\n"
      ],
      "text/plain": [
       "<pandas.io.formats.style.Styler at 0x7f8642641ed0>"
      ]
     },
     "execution_count": 200,
     "metadata": {},
     "output_type": "execute_result"
    }
   ],
   "source": [
    "mutant_growth.style.pipe(make_pretty)"
   ]
  },
  {
   "cell_type": "markdown",
   "id": "505a6c8c",
   "metadata": {},
   "source": [
    "**Ccel_3221 false positive on glucose**"
   ]
  },
  {
   "cell_type": "code",
   "execution_count": 201,
   "id": "fa7c0d45",
   "metadata": {
    "scrolled": true
   },
   "outputs": [
    {
     "data": {
      "text/plain": [
       "Objective: 629.5130450108118\n",
       "Status: Optimal"
      ]
     },
     "execution_count": 201,
     "metadata": {},
     "output_type": "execute_result"
    }
   ],
   "source": [
    "sol_FBA['Glucose'][0]"
   ]
  },
  {
   "cell_type": "code",
   "execution_count": 202,
   "id": "5cc21467",
   "metadata": {},
   "outputs": [
    {
     "name": "stdout",
     "output_type": "stream",
     "text": [
      "R_EX_glc__D_e -10\n",
      "R_EX_cys__L_e -10\n",
      "R_EX_no3_e   -8.74218\n",
      "R_EX_pi_e    -0.836729\n",
      "R_EX_h_e     -0.79236\n",
      "R_EX_k_e     -0.11632\n",
      "R_EX_mg2_e   -0.00516962\n",
      "R_EX_fe3_e   -0.00465295\n",
      "R_EX_fe2_e   -0.00400161\n",
      "R_EX_ca2_e   -0.00310177\n",
      "R_EX_cl_e    -0.00310177\n",
      "R_EX_so4_e   -0.00258511\n",
      "R_EX_cu2_e   -0.000422508\n",
      "R_EX_mn2_e   -0.000411782\n",
      "R_EX_ribflv_e -0.000265781\n",
      "R_EX_zn2_e   -0.000203209\n",
      "R_EX_cobalt2_e -5.95921e-05\n",
      "R_EX_4hba_e   0.00013289\n",
      "R_EX_d23hb_e  0.328462\n",
      "R_EX_h2s_e    9.85323\n",
      "R_EX_h2o_e    10.6375\n",
      "R_EX_nh4_e    12.3262\n",
      "R_EX_ac_e     21.1761\n",
      "R_EX_co2_e    22.2122\n"
     ]
    }
   ],
   "source": [
    "sol_FBA['Glucose'][0].show_values(pattern=\"R_EX\",sort=True)"
   ]
  },
  {
   "cell_type": "code",
   "execution_count": 203,
   "id": "59763709",
   "metadata": {},
   "outputs": [
    {
     "name": "stdout",
     "output_type": "stream",
     "text": [
      "R_HEX1: M_atp_c + M_glc__D_c --> M_adp_c + M_g6p_c + M_h_c\n",
      "R_XYLI2: M_glc__D_c <-> M_fru_c\n"
     ]
    }
   ],
   "source": [
    "for rxn in model.get_metabolite_consumers('M_glc__D_c'):\n",
    "    print(model.reactions[rxn])"
   ]
  },
  {
   "cell_type": "code",
   "execution_count": 204,
   "id": "5cf4d201",
   "metadata": {
    "tags": []
   },
   "outputs": [
    {
     "name": "stdout",
     "output_type": "stream",
     "text": [
      "[ --> o ] R_CEPA        10       \n",
      "[ --> o ] R_GLCt2       10       \n",
      "[ <-- o ] R_BGLA       -20       \n"
     ]
    }
   ],
   "source": [
    "sol_FBA['Glucose'][0].show_metabolite_balance('M_glc__D_c',model)"
   ]
  },
  {
   "cell_type": "code",
   "execution_count": 205,
   "id": "53e469ec",
   "metadata": {
    "tags": []
   },
   "outputs": [
    {
     "name": "stdout",
     "output_type": "stream",
     "text": [
      "R_CEPA: M_cellb_c + M_pi_c <-> M_g1p_c + M_glc__D_c\n",
      "R_GLCt2: M_glc__D_e + M_h_e --> M_glc__D_c + M_h_c\n",
      "R_BGLA: M_cellb_c + M_h2o_c <-> 2.0 M_glc__D_c\n"
     ]
    }
   ],
   "source": [
    "for rxn in ['R_CEPA','R_GLCt2','R_BGLA']:\n",
    "    print(model.reactions[rxn])"
   ]
  },
  {
   "cell_type": "markdown",
   "id": "69b06de9",
   "metadata": {},
   "source": [
    "**Ccel_3221 false positive on cellobiose**"
   ]
  },
  {
   "cell_type": "code",
   "execution_count": 206,
   "id": "ebbd1250",
   "metadata": {
    "scrolled": true
   },
   "outputs": [
    {
     "data": {
      "text/plain": [
       "Objective: 861.4312889956474\n",
       "Status: Optimal"
      ]
     },
     "execution_count": 206,
     "metadata": {},
     "output_type": "execute_result"
    }
   ],
   "source": [
    "sol_FBA['Cellobiose'][0]"
   ]
  },
  {
   "cell_type": "code",
   "execution_count": 207,
   "id": "d4f3219b",
   "metadata": {},
   "outputs": [
    {
     "name": "stdout",
     "output_type": "stream",
     "text": [
      "R_EX_cellb_e -10\n",
      "R_EX_no3_e   -10\n",
      "R_EX_so4_e   -3.08469\n",
      "R_EX_nh4_e   -1.75676\n",
      "R_EX_pi_e    -1.54651\n",
      "R_EX_k_e     -0.214992\n",
      "R_EX_cys__L_e -0.101749\n",
      "R_EX_mg2_e   -0.00955493\n",
      "R_EX_fe3_e   -0.00859998\n",
      "R_EX_fe2_e   -0.00739612\n",
      "R_EX_ca2_e   -0.00573296\n",
      "R_EX_cl_e    -0.00573296\n",
      "R_EX_cu2_e   -0.000780916\n",
      "R_EX_mn2_e   -0.00076109\n",
      "R_EX_ribflv_e -0.000491239\n",
      "R_EX_zn2_e   -0.000375588\n",
      "R_EX_cobalt2_e -0.000110143\n",
      "R_EX_4hba_e   0.000245619\n",
      "R_EX_d23hb_e  0.607091\n",
      "R_EX_h2s_e    2.91039\n",
      "R_EX_h_e      7.72604\n",
      "R_EX_ac_e     23.7927\n",
      "R_EX_co2_e    25.7077\n",
      "R_EX_h2o_e    37.2345\n"
     ]
    }
   ],
   "source": [
    "sol_FBA['Cellobiose'][0].show_values(pattern=\"R_EX\",sort=True)"
   ]
  },
  {
   "cell_type": "code",
   "execution_count": 208,
   "id": "6c6ba15f",
   "metadata": {},
   "outputs": [
    {
     "name": "stdout",
     "output_type": "stream",
     "text": [
      "R_BGLA: M_cellb_c + M_h2o_c <-> 2.0 M_glc__D_c\n",
      "R_CEPA: M_cellb_c + M_pi_c <-> M_g1p_c + M_glc__D_c\n"
     ]
    }
   ],
   "source": [
    "for rxn in model.get_metabolite_consumers('M_cellb_c'):\n",
    "    print(model.reactions[rxn])"
   ]
  },
  {
   "cell_type": "code",
   "execution_count": 209,
   "id": "004ed852",
   "metadata": {
    "tags": []
   },
   "outputs": [
    {
     "name": "stdout",
     "output_type": "stream",
     "text": [
      "[ --> o ] R_CELBt2      10       \n",
      "[ o <-- ] R_BGLA        10       \n",
      "[ o --> ] R_CEPA       -20       \n"
     ]
    }
   ],
   "source": [
    "sol_FBA['Cellobiose'][0].show_metabolite_balance('M_cellb_c',model)"
   ]
  },
  {
   "cell_type": "code",
   "execution_count": 210,
   "id": "5c25635e",
   "metadata": {
    "tags": []
   },
   "outputs": [
    {
     "name": "stdout",
     "output_type": "stream",
     "text": [
      "R_CELBt2: M_cellb_e + M_h_e --> M_cellb_c + M_h_c\n",
      "R_BGLA: M_cellb_c + M_h2o_c <-> 2.0 M_glc__D_c\n",
      "R_CEPA: M_cellb_c + M_pi_c <-> M_g1p_c + M_glc__D_c\n"
     ]
    }
   ],
   "source": [
    "for rxn in ['R_CELBt2','R_BGLA','R_CEPA']:\n",
    "    print(model.reactions[rxn])"
   ]
  },
  {
   "cell_type": "code",
   "execution_count": 211,
   "id": "2090719b",
   "metadata": {},
   "outputs": [
    {
     "name": "stdout",
     "output_type": "stream",
     "text": [
      "[ --> o ] R_CEPA        20       \n",
      "[ <-- o ] R_BGLA       -20       \n"
     ]
    }
   ],
   "source": [
    "sol_FBA['Cellobiose'][0].show_metabolite_balance('M_glc__D_c',model)"
   ]
  },
  {
   "cell_type": "code",
   "execution_count": 212,
   "id": "db4865fc",
   "metadata": {},
   "outputs": [
    {
     "name": "stdout",
     "output_type": "stream",
     "text": [
      "R_CEPA: M_cellb_c + M_pi_c <-> M_g1p_c + M_glc__D_c\n",
      "R_BGLA: M_cellb_c + M_h2o_c <-> 2.0 M_glc__D_c\n"
     ]
    }
   ],
   "source": [
    "for rxn in ['R_CEPA','R_BGLA']:\n",
    "    print(model.reactions[rxn])"
   ]
  },
  {
   "cell_type": "code",
   "execution_count": 213,
   "id": "c3291bf7",
   "metadata": {},
   "outputs": [
    {
     "name": "stdout",
     "output_type": "stream",
     "text": [
      "[ --> o ] R_CEPA        20       \n",
      "[ o --> ] R_GALUi      -0.225794 \n",
      "[ o --> ] R_PGMT       -19.7742  \n"
     ]
    }
   ],
   "source": [
    "sol_FBA['Cellobiose'][0].show_metabolite_balance('M_g1p_c',model)"
   ]
  },
  {
   "cell_type": "code",
   "execution_count": 214,
   "id": "5b7421d1",
   "metadata": {},
   "outputs": [
    {
     "name": "stdout",
     "output_type": "stream",
     "text": [
      "R_CEPA: M_cellb_c + M_pi_c <-> M_g1p_c + M_glc__D_c\n",
      "R_GALUi: M_g1p_c + M_h_c + M_utp_c --> M_ppi_c + M_udpg_c\n",
      "R_PGMT: M_g1p_c <-> M_g6p_c\n"
     ]
    }
   ],
   "source": [
    "for rxn in ['R_CEPA','R_GALUi','R_PGMT']:\n",
    "    print(model.reactions[rxn])"
   ]
  },
  {
   "cell_type": "code",
   "execution_count": 215,
   "id": "1e081576",
   "metadata": {},
   "outputs": [
    {
     "name": "stdout",
     "output_type": "stream",
     "text": [
      "[ --> o ] R_PGMT        19.7742  \n",
      "[ o --> ] R_PGI        -19.7742  \n"
     ]
    }
   ],
   "source": [
    "sol_FBA['Cellobiose'][0].show_metabolite_balance('M_g6p_c',model)"
   ]
  },
  {
   "cell_type": "code",
   "execution_count": 216,
   "id": "ceac4e01",
   "metadata": {},
   "outputs": [
    {
     "name": "stdout",
     "output_type": "stream",
     "text": [
      "R_PGMT: M_g1p_c <-> M_g6p_c\n",
      "R_PGI: M_g6p_c <-> M_f6p_c\n"
     ]
    }
   ],
   "source": [
    "for rxn in ['R_PGMT','R_PGI']:\n",
    "    print(model.reactions[rxn])"
   ]
  },
  {
   "cell_type": "markdown",
   "id": "aacf3fda",
   "metadata": {},
   "source": [
    "**Ccel_3221 false positive on mannose**"
   ]
  },
  {
   "cell_type": "code",
   "execution_count": 217,
   "id": "33df83af",
   "metadata": {},
   "outputs": [
    {
     "name": "stdout",
     "output_type": "stream",
     "text": [
      "R_EX_man_e   -10\n",
      "R_EX_cys__L_e -10\n",
      "R_EX_no3_e   -8.74218\n",
      "R_EX_pi_e    -0.836729\n",
      "R_EX_h_e     -0.79236\n",
      "R_EX_k_e     -0.11632\n",
      "R_EX_mg2_e   -0.00516962\n",
      "R_EX_fe3_e   -0.00465295\n",
      "R_EX_fe2_e   -0.00400161\n",
      "R_EX_ca2_e   -0.00310177\n",
      "R_EX_cl_e    -0.00310177\n",
      "R_EX_so4_e   -0.00258511\n",
      "R_EX_cu2_e   -0.000422508\n",
      "R_EX_mn2_e   -0.000411782\n",
      "R_EX_ribflv_e -0.000265781\n",
      "R_EX_zn2_e   -0.000203209\n",
      "R_EX_cobalt2_e -5.95921e-05\n",
      "R_EX_4hba_e   0.00013289\n",
      "R_EX_d23hb_e  0.328462\n",
      "R_EX_h2s_e    9.85323\n",
      "R_EX_h2o_e    10.6375\n",
      "R_EX_nh4_e    12.3262\n",
      "R_EX_ac_e     21.1761\n",
      "R_EX_co2_e    22.2122\n"
     ]
    }
   ],
   "source": [
    "sol_FBA['Mannose'][0].show_values(pattern=\"R_EX\",sort=True)"
   ]
  },
  {
   "cell_type": "code",
   "execution_count": 218,
   "id": "dac9db47",
   "metadata": {},
   "outputs": [
    {
     "name": "stdout",
     "output_type": "stream",
     "text": [
      "[ o <-- ] R_EX_man_e    10       \n",
      "[ o --> ] R_MANt2      -10       \n"
     ]
    }
   ],
   "source": [
    "sol_FBA['Mannose'][0].show_metabolite_balance('M_man_e',model)"
   ]
  },
  {
   "cell_type": "code",
   "execution_count": 219,
   "id": "4187c5c9",
   "metadata": {},
   "outputs": [
    {
     "name": "stdout",
     "output_type": "stream",
     "text": [
      "R_MANt2: M_h_e + M_man_e --> M_h_c + M_man_c\n"
     ]
    }
   ],
   "source": [
    "for rxn in ['R_MANt2']:\n",
    "    print(model.reactions[rxn])"
   ]
  },
  {
   "cell_type": "code",
   "execution_count": 220,
   "id": "ce6e5807",
   "metadata": {},
   "outputs": [
    {
     "name": "stdout",
     "output_type": "stream",
     "text": [
      "[ --> o ] R_MANt2       10       \n",
      "[ <-- o ] R_MNLDHr     -10       \n"
     ]
    }
   ],
   "source": [
    "sol_FBA['Mannose'][0].show_metabolite_balance('M_man_c',model)"
   ]
  },
  {
   "cell_type": "code",
   "execution_count": 221,
   "id": "2adc6378",
   "metadata": {},
   "outputs": [
    {
     "name": "stdout",
     "output_type": "stream",
     "text": [
      "R_MNLDHr: M_mnl_c + M_nad_c <-> M_h_c + M_man_c + M_nadh_c\n"
     ]
    }
   ],
   "source": [
    "for rxn in ['R_MNLDHr']:\n",
    "    print(model.reactions[rxn])"
   ]
  },
  {
   "cell_type": "code",
   "execution_count": 222,
   "id": "cfd2ae24",
   "metadata": {},
   "outputs": [
    {
     "data": {
      "text/plain": [
       "D-Mannitol"
      ]
     },
     "execution_count": 222,
     "metadata": {},
     "output_type": "execute_result"
    }
   ],
   "source": [
    "model.metabolites.M_mnl_c"
   ]
  },
  {
   "cell_type": "code",
   "execution_count": 223,
   "id": "8df86e89-932d-441a-84f8-5b460d260b57",
   "metadata": {},
   "outputs": [
    {
     "name": "stdout",
     "output_type": "stream",
     "text": [
      "G_WP_015924473_1\n"
     ]
    }
   ],
   "source": [
    "for rxn in ['R_MNLDHr']:\n",
    "    print(model.reactions[rxn].gpr)"
   ]
  },
  {
   "cell_type": "code",
   "execution_count": 224,
   "id": "6dfe1208-e81e-4758-a3c9-79aeae50f520",
   "metadata": {},
   "outputs": [
    {
     "name": "stdout",
     "output_type": "stream",
     "text": [
      "R_MNLDH2: M_mnl_c + M_nad_c --> M_fru_c + M_h_c + M_nadh_c\n",
      "R_MNLDHr: M_mnl_c + M_nad_c <-> M_h_c + M_man_c + M_nadh_c\n"
     ]
    }
   ],
   "source": [
    "for rxn in model.get_metabolite_reactions('M_mnl_c'):\n",
    "    print(model.reactions[rxn])"
   ]
  },
  {
   "cell_type": "markdown",
   "id": "656f936b",
   "metadata": {},
   "source": [
    "**Ccel_3238 false positive on galactose**"
   ]
  },
  {
   "cell_type": "code",
   "execution_count": 225,
   "id": "29cae61b",
   "metadata": {
    "scrolled": true
   },
   "outputs": [
    {
     "data": {
      "text/plain": [
       "Objective: 598.3550390780701\n",
       "Status: Optimal"
      ]
     },
     "execution_count": 225,
     "metadata": {},
     "output_type": "execute_result"
    }
   ],
   "source": [
    "sol_FBA['Galactose'][0]"
   ]
  },
  {
   "cell_type": "code",
   "execution_count": 226,
   "id": "9d3abd6c",
   "metadata": {},
   "outputs": [
    {
     "name": "stdout",
     "output_type": "stream",
     "text": [
      "R_EX_cys__L_e -10\n",
      "R_EX_gal_e   -10\n",
      "R_EX_no3_e   -9.28599\n",
      "R_EX_h_e     -1.40126\n",
      "R_EX_pi_e    -0.715643\n",
      "R_EX_k_e     -0.0994867\n",
      "R_EX_mg2_e   -0.00442151\n",
      "R_EX_fe3_e   -0.00397961\n",
      "R_EX_fe2_e   -0.00342253\n",
      "R_EX_ca2_e   -0.0026529\n",
      "R_EX_cl_e    -0.0026529\n",
      "R_EX_so4_e   -0.00221101\n",
      "R_EX_cu2_e   -0.000361366\n",
      "R_EX_mn2_e   -0.000352192\n",
      "R_EX_ribflv_e -0.000227319\n",
      "R_EX_zn2_e   -0.000173802\n",
      "R_EX_cobalt2_e -5.09684e-05\n",
      "R_EX_4hba_e   0.000113659\n",
      "R_EX_d23hb_e  0.280929\n",
      "R_EX_h2o_e    8.7363\n",
      "R_EX_h2s_e    9.87447\n",
      "R_EX_nh4_e    13.7985\n",
      "R_EX_ac_e     22.4531\n",
      "R_EX_co2_e    23.3392\n"
     ]
    }
   ],
   "source": [
    "sol_FBA['Galactose'][0].show_values(pattern=\"R_EX\",sort=True)"
   ]
  },
  {
   "cell_type": "code",
   "execution_count": 227,
   "id": "0d8d93b6",
   "metadata": {},
   "outputs": [
    {
     "name": "stdout",
     "output_type": "stream",
     "text": [
      "[ o <-- ] R_EX_gal_e    10       \n",
      "[ o --> ] R_GALpts     -10       \n"
     ]
    }
   ],
   "source": [
    "sol_FBA['Galactose'][0].show_metabolite_balance('M_gal_e',model)"
   ]
  },
  {
   "cell_type": "code",
   "execution_count": 228,
   "id": "1f8fa4cd",
   "metadata": {
    "tags": []
   },
   "outputs": [
    {
     "name": "stdout",
     "output_type": "stream",
     "text": [
      "R_GALpts: M_gal_e + M_pep_c <-> M_dgal6p_c + M_pyr_c: G_WP_015924346_1\n"
     ]
    }
   ],
   "source": [
    "for rxn in ['R_GALpts']:\n",
    "    print(str(model.reactions[rxn]) + \": \" + str(model.reactions[rxn].gpr))"
   ]
  },
  {
   "cell_type": "code",
   "execution_count": 229,
   "id": "d4bbf0fb",
   "metadata": {},
   "outputs": [
    {
     "name": "stdout",
     "output_type": "stream",
     "text": [
      "[ --> o ] R_GALpts      10       \n",
      "[ o --> ] R_GAL6PI     -10       \n"
     ]
    }
   ],
   "source": [
    "sol_FBA['Galactose'][0].show_metabolite_balance('M_dgal6p_c',model)"
   ]
  },
  {
   "cell_type": "code",
   "execution_count": 230,
   "id": "ca10af15",
   "metadata": {
    "tags": []
   },
   "outputs": [
    {
     "name": "stdout",
     "output_type": "stream",
     "text": [
      "R_GAL6PI: M_dgal6p_c <-> M_tag6p__D_c\n"
     ]
    }
   ],
   "source": [
    "for rxn in ['R_GAL6PI']:\n",
    "    print(model.reactions[rxn])"
   ]
  },
  {
   "cell_type": "code",
   "execution_count": 231,
   "id": "1998ea38-5d2a-4d53-87c5-b69bf15410b6",
   "metadata": {},
   "outputs": [
    {
     "data": {
      "text/plain": [
       "['R_GALpts', 'R_EX_gal_e']"
      ]
     },
     "execution_count": 231,
     "metadata": {},
     "output_type": "execute_result"
    }
   ],
   "source": [
    "model.get_metabolite_reactions('M_gal_e')"
   ]
  },
  {
   "cell_type": "markdown",
   "id": "45a23abb-9672-40b7-9b8a-3d45b5e1f791",
   "metadata": {},
   "source": [
    "## <span style=\"color: blue;\">C: ATP and biomass yield and growth rate on various sugars</span>"
   ]
  },
  {
   "cell_type": "markdown",
   "id": "df128b9b-1aa5-4f92-b840-c4e199a4b887",
   "metadata": {
    "tags": []
   },
   "source": [
    "**Motivation**: Before adding pathways for oligosaccharide degradation we should have an idea of the predictions from growth and ATP production on simple sugars. \n",
    "\n",
    "\n",
    "- **C.1 ATP yield on various sugars**\n",
    "    - **Cellobiose**: Study of ATP yield on cellulose and cellobiose - *Cellulose Catabolism by Clostridium cellulolyticum Growing in Batch Culture on Defined Medium (Desvaux, 2000)*.  \n",
    "        - In this study they did an estimation of the energy gain, based on the known metabolic reactions involved in fermentation of cellodextrins. They therefore calculated ATP production from the fermentation products it produces (see table below). This is also just the maximum possible based on one fermentation product. Nevertheless, it can be used as a comparison with our data. <span style=\"color: red;\"> NB: Note to self. There are also other articles that calculate the same thing, so make sure that you don't base everything on just one article. </span>\n",
    "\n",
    "    - **Other sugars**: Don't have specific data from *R. cellulolyticum* for comparison. The aim is to verify that the model can use all of these sugars as an energy source. To check this, you should look at the shadow-prices and the reduced cost, not just the maximum ATP produced with the media. Or else, you won't know whether the energy comes from the compound you're testing or not. \n",
    "\n",
    "- **C.2 Growth rate**: We can also test the growth in comparison to the growth from the experiments in Kampik et al. (2021). We can ask them for the data from this experiment. \n",
    "    - This would be valuable when we are trying to model growth on more complex polysaccharides (We should put some limit on the uptake of these sugars We will probably not let the model grow on simple sugars, so it is maybe not necessary to do this. \n",
    "\n",
    "\n",
    "\n",
    "- **ATP production from various fermentation products** "
   ]
  },
  {
   "cell_type": "markdown",
   "id": "632e9b43-4aab-4b1f-ade9-a1286e7f3a77",
   "metadata": {},
   "source": [
    "**C.1 - cellobiose *continued (since I wasn't able to merge the table below with the list above)***: ATP from producting fermentation products from 1 mol of cellodextrins according to Desvaux (2000). Here they did not consider the energy gain from ATPases. \n",
    "\n",
    "|  Sugar   | Acetate | Ethanol/Lactate |\n",
    "| -------- | ------- | ------- |\n",
    "| n=1 (glucose)  |  2   | 0 |\n",
    "| n=2 (cellobiose) | 7 | 3 |\n",
    "| n=3    | 12    | 6 |"
   ]
  },
  {
   "cell_type": "markdown",
   "id": "cba447ea-b1d1-481b-b70d-0bd8a877c586",
   "metadata": {},
   "source": [
    "### <span style=\"color: blue;\">C.1. Maximal ATP yield on various sugars</span>"
   ]
  },
  {
   "cell_type": "markdown",
   "id": "7f4de030-6d0f-4a2f-a9a0-497f2bdbd98f",
   "metadata": {},
   "source": [
    "As explained by Salimi et al (2010), the ATP yield from cellobiose is more than double the energy gain for glucose. This is because it saves some energy on transport (ABC-transporter requires 2 ATP per transport), and because of the extra energy in the catabolism of glucose-1-phosphate. "
   ]
  },
  {
   "cell_type": "code",
   "execution_count": 232,
   "id": "ae93e6c2-324b-400b-9359-949e92b660fc",
   "metadata": {},
   "outputs": [],
   "source": [
    "model = reframed.load_cbmodel('model_cellulolyticum_H10.xml')"
   ]
  },
  {
   "cell_type": "code",
   "execution_count": 233,
   "id": "43865a0f-6343-4abc-b41c-c716a0751de0",
   "metadata": {},
   "outputs": [
    {
     "name": "stderr",
     "output_type": "stream",
     "text": [
      "/Users/idunmariaburgos/opt/anaconda3/envs/RecAndAn/lib/python3.7/site-packages/reframed/solvers/cplex_solver.py:406: UserWarning: Constrained variable not previously declared: R_EX_arab__D_e\n",
      "  warn(f\"Constrained variable not previously declared: {r_id}\")\n",
      "/Users/idunmariaburgos/opt/anaconda3/envs/RecAndAn/lib/python3.7/site-packages/reframed/solvers/cplex_solver.py:406: UserWarning: Constrained variable not previously declared: R_EX_gal__L_e\n",
      "  warn(f\"Constrained variable not previously declared: {r_id}\")\n"
     ]
    }
   ],
   "source": [
    "sugars = ['R_EX_cellb_e','R_EX_xyl__D_e','R_EX_arab__D_e','R_EX_arab__L_e','R_EX_gal__L_e','R_EX_gal_e','R_EX_man_e']\n",
    "\n",
    "objective = dict.fromkeys(model.reactions,0)\n",
    "objective['R_ATPM'] = 1\n",
    "atp_dict = {}\n",
    "\n",
    "for sugar_id in sugars:\n",
    "    \n",
    "    constraints ={sugar_id:(-10,0),'R_EX_glc__D_e':0,'R_EX_cys__L_e':0}#\n",
    "    sol = FBA(model,objective=objective,constraints=constraints,shadow_prices=True,reduced_costs=True)\n",
    "    atp_dict[sugar_id]=sol\n",
    "\n",
    "constraints ={'R_EX_cys__L_e':0,'R_EX_no3_e':0}\n",
    "sol = FBA(model,objective=objective,constraints=constraints,shadow_prices=True,reduced_costs=True)    \n",
    "atp_dict['R_EX_glc__D_e']=sol"
   ]
  },
  {
   "cell_type": "code",
   "execution_count": 234,
   "id": "e432202a-7dc1-4490-8124-739aaf8f202d",
   "metadata": {},
   "outputs": [
    {
     "data": {
      "image/png": "[encoded data removed]",
      "text/plain": [
       "<Figure size 640x480 with 1 Axes>"
      ]
     },
     "metadata": {},
     "output_type": "display_data"
    }
   ],
   "source": [
    "keys = [medium for medium in atp_dict.keys()]\n",
    "values = [sol.fobj/10 for sol in atp_dict.values()]\n",
    "plt.rcdefaults()\n",
    "fig, ax = plt.subplots()\n",
    "\n",
    "# Example data\n",
    "media = (keys)\n",
    "y_pos = np.arange(len(keys))\n",
    "atp_rate = values \n",
    "\n",
    "\n",
    "ax.barh(y_pos, atp_rate, align='center')\n",
    "ax.set_yticks(np.arange(len(keys)))\n",
    "ax.set_yticklabels(keys)\n",
    "ax.invert_yaxis()  # labels read top-to-bottom\n",
    "ax.set_xlabel('Yield ATP [mmol ATP/mmol sugar]')\n",
    "ax.set_title('ATP yield on various carbon sources')\n",
    "plt.show()\n"
   ]
  },
  {
   "cell_type": "markdown",
   "id": "e37ca03c-2e38-4d70-9af3-316317e88365",
   "metadata": {},
   "source": [
    "#### <span style=\"color: purple;\"> **C.1. ANALYSIS** </span>"
   ]
  },
  {
   "cell_type": "markdown",
   "id": "14ea6eca-faef-40ca-80be-7555f53e1825",
   "metadata": {},
   "source": [
    "***The model can catabolize all the sugars***: When creating the model in CarveMe, I allowed the use of one of the two enantiomers to be consumed. This was because I had not found any  data for it in the literature supporting either the D enantiomer or the L enantiomer. Based on these results, **the model is able to use at least one of each entantiomer for every sugar**. \n",
    "\n",
    "***The net ATP production of cellobiose >2* as high as for glucose***: This is as expected, at least based on literature, because there is less energy loss from transporting the substrate into cytosol (with ABC transporter) and a higher energy gain through catabolism.\n",
    "\n",
    "**Maximal ATP yield on cellobiose when producing acetate.**\n",
    "The energy gain should be higher for acetate than described by the model. It should be 7 mol/(mol cellobiose) according to Desvaux (2000). In this section I'm trying to understand why this happens."
   ]
  },
  {
   "cell_type": "markdown",
   "id": "d1591451",
   "metadata": {},
   "source": [
    "<span style=\"color: purple;\"> C.1.1 ANALYSIS: Acetate and acetaldehyde production with maximizing ATP  </span>"
   ]
  },
  {
   "cell_type": "code",
   "execution_count": 235,
   "id": "448b820c-000d-4cb4-a765-8ea809196390",
   "metadata": {},
   "outputs": [
    {
     "name": "stdout",
     "output_type": "stream",
     "text": [
      "R_AAC24DABA: M_aac24dab_c + M_h2o_c --> M_24dab_c + M_ac_c + M_h_c\n",
      "Expected: R_ACKr: M_ac_c + M_atp_c <-> M_actp_c + M_adp_c\n",
      "R_ACODA: M_acorn_c + M_h2o_c --> M_ac_c + M_orn_c\n",
      "R_ACSERHS: M_acser_c + M_trdrd_c + M_tsul_c --> M_ac_c + M_cys__L_c + M_so3_c + M_trdox_c + M_h_c\n",
      "R_ACt2r_1: M_ac_e + M_h_c <-> M_ac_c + M_h_e [-inf, 0.0]\n",
      "R_AGDC: M_acgam6p_c + M_h2o_c --> M_ac_c + M_gam6p_c\n",
      "R_AHSERL: M_achms_c + M_ch4s_c --> M_ac_c + M_h_c + M_met__L_c\n",
      "R_AHSERL2: M_achms_c + M_h2s_c --> M_ac_c + M_h_c + M_hcys__L_c\n",
      "R_ALDD2y: M_acald_c + M_h2o_c + M_nadp_c --> M_ac_c + 2.0 M_h_c + M_nadph_c\n",
      "R_AMID4: M_ad_c + M_h2o_c --> M_ac_c + M_nh4_c\n",
      "R_BUTCT: M_accoa_c + M_but_c --> M_ac_c + M_btcoa_c\n",
      "R_CYSS: M_acser_c + M_h2s_c --> M_ac_c + M_cys__L_c + M_h_c\n",
      "R_DAPDA: M_h2o_c + M_n6all26d_c <-> M_26dap_LL_c + M_ac_c\n"
     ]
    }
   ],
   "source": [
    "# Shows all reactions where cytosolic acetate is involved.\n",
    "for rxn in model.get_metabolite_reactions('M_ac_c'):\n",
    "    if rxn==\"R_ACKr\":\n",
    "        print(\"Expected: \" + str(model.reactions[rxn]))\n",
    "    else:\n",
    "        print(model.reactions[rxn])"
   ]
  },
  {
   "cell_type": "code",
   "execution_count": 236,
   "id": "8afc9c45",
   "metadata": {},
   "outputs": [
    {
     "name": "stdout",
     "output_type": "stream",
     "text": [
      "R_AAAN: M_acald_c + M_accoa_c + M_h_c + M_nadh_c <-> M_actn__S_c + M_coa_c + M_nad_c\n",
      "R_ACALD: M_acald_c + M_coa_c + M_nad_c <-> M_accoa_c + M_h_c + M_nadh_c\n",
      "R_ACALDt: M_acald_e <-> M_acald_c\n",
      "R_ACTD2: M_actn__R_c + M_coa_c + M_nad_c --> M_acald_c + M_accoa_c + M_h_c + M_nadh_c\n",
      "R_ALCD2x: M_etoh_c + M_nad_c <-> M_acald_c + M_h_c + M_nadh_c\n",
      "R_ALCD2y: M_etoh_c + M_nadp_c <-> M_acald_c + M_h_c + M_nadph_c\n",
      "R_ALDD2y: M_acald_c + M_h2o_c + M_nadp_c --> M_ac_c + 2.0 M_h_c + M_nadph_c\n",
      "R_DRPA: M_2dr5p_c --> M_acald_c + M_g3p_c\n",
      "R_THRA: M_thr__L_c --> M_acald_c + M_gly_c\n",
      "R_THRA2: M_athr__L_c --> M_acald_c + M_gly_c\n"
     ]
    }
   ],
   "source": [
    "# Shows all reactions where cytosolic acetaldehyde is involved.\n",
    "for rxn in model.get_metabolite_reactions('M_acald_c'):\n",
    "    print(model.reactions[rxn])"
   ]
  },
  {
   "cell_type": "code",
   "execution_count": 237,
   "id": "ddfaccfd",
   "metadata": {},
   "outputs": [
    {
     "name": "stdout",
     "output_type": "stream",
     "text": [
      "[ o <-- ] R_ACKr        40       \n",
      "[ <-- o ] R_ACt2r_1    -40       \n"
     ]
    }
   ],
   "source": [
    "atp_dict['R_EX_cellb_e'].show_metabolite_balance('M_ac_c',model)"
   ]
  },
  {
   "cell_type": "markdown",
   "id": "dbbb98a7",
   "metadata": {},
   "source": [
    "<span style=\"color: red;\">Seems to be a cycle between R_ALCD2x and R_ALCD2y?</span>"
   ]
  },
  {
   "cell_type": "code",
   "execution_count": 238,
   "id": "f0599643",
   "metadata": {},
   "outputs": [
    {
     "name": "stdout",
     "output_type": "stream",
     "text": [
      "\n"
     ]
    }
   ],
   "source": [
    "atp_dict['R_EX_cellb_e'].show_metabolite_balance('M_acald_c',model)"
   ]
  },
  {
   "cell_type": "code",
   "execution_count": 239,
   "id": "c42175e4-821b-4385-b78d-d67a70a1718e",
   "metadata": {},
   "outputs": [
    {
     "name": "stdout",
     "output_type": "stream",
     "text": [
      "[ --> o ] R_ATPS4rpp    6.42857  \n",
      "[ --> o ] R_PYK         20       \n",
      "[ o <-- ] R_ACKr        40       \n",
      "[ o <-- ] R_PGK         40       \n",
      "[ o --> ] R_ATPM       -106.429  \n"
     ]
    }
   ],
   "source": [
    "# Shows the reactions that are consuming or producing atp. \n",
    "atp_dict['R_EX_cellb_e'].show_metabolite_balance('M_atp_c',model)"
   ]
  },
  {
   "cell_type": "code",
   "execution_count": 240,
   "id": "90daf649",
   "metadata": {},
   "outputs": [
    {
     "data": {
      "text/plain": [
       "R_PYK: M_adp_c + M_h_c + M_pep_c --> M_atp_c + M_pyr_c"
      ]
     },
     "execution_count": 240,
     "metadata": {},
     "output_type": "execute_result"
    }
   ],
   "source": [
    "model.reactions.R_PYK"
   ]
  },
  {
   "cell_type": "code",
   "execution_count": 241,
   "id": "ecf6e4d4",
   "metadata": {
    "scrolled": true
   },
   "outputs": [
    {
     "data": {
      "text/plain": [
       "R_PGK: M_3pg_c + M_atp_c <-> M_13dpg_c + M_adp_c"
      ]
     },
     "execution_count": 241,
     "metadata": {},
     "output_type": "execute_result"
    }
   ],
   "source": [
    "model.reactions.R_PGK"
   ]
  },
  {
   "cell_type": "markdown",
   "id": "cdc3abd5",
   "metadata": {},
   "source": [
    "<span style=\"color: purple;\"> C.1.2 ANALYSIS: Transport reactions for sugars </span>"
   ]
  },
  {
   "cell_type": "code",
   "execution_count": 242,
   "id": "569b455c",
   "metadata": {},
   "outputs": [
    {
     "name": "stdout",
     "output_type": "stream",
     "text": [
      "R_BG_CELLB: M_cellb_e + M_h2o_e --> 2.0 M_glc__D_e: {'G_WP_012634822_1'}\n",
      "R_CELBt2: M_cellb_e + M_h_e --> M_cellb_c + M_h_c: {'G_WP_041706401_1'}\n",
      "R_CLBtex: M_cellb_e <-> M_cellb_p: []\n",
      "R_EX_cellb_e: M_cellb_e --> : []\n"
     ]
    }
   ],
   "source": [
    "for rxn in model.get_metabolite_consumers('M_cellb_e'):\n",
    "    print(str(model.reactions[rxn])+\": \"+ str(model.reactions[rxn].get_genes()))"
   ]
  },
  {
   "cell_type": "code",
   "execution_count": 243,
   "id": "17739e22",
   "metadata": {},
   "outputs": [
    {
     "name": "stdout",
     "output_type": "stream",
     "text": [
      "R_XYLabc: M_atp_c + M_h2o_c + M_xyl__D_e --> M_adp_c + M_h_c + M_pi_c + M_xyl__D_c: {'G_WP_015925438_1', 'G_WP_015925230_1', 'G_WP_015925231_1', 'G_WP_015925436_1', 'G_WP_015925233_1'}\n",
      "R_XYLt2: M_h_e + M_xyl__D_e --> M_h_c + M_xyl__D_c: {'G_WP_041706401_1'}\n",
      "R_XYLtex: M_xyl__D_e <-> M_xyl__D_p: []\n",
      "R_EX_xyl__D_e: M_xyl__D_e --> : []\n"
     ]
    }
   ],
   "source": [
    "for rxn in model.get_metabolite_consumers('M_xyl__D_e'):\n",
    "    print(str(model.reactions[rxn])+\": \"+ str(model.reactions[rxn].get_genes()))"
   ]
  },
  {
   "cell_type": "code",
   "execution_count": 244,
   "id": "90dff0c9",
   "metadata": {},
   "outputs": [
    {
     "name": "stdout",
     "output_type": "stream",
     "text": [
      "R_ARBabc: M_arab__L_e + M_atp_c + M_h2o_c --> M_adp_c + M_arab__L_c + M_h_c + M_pi_c: {'G_WP_015925556_1', 'G_WP_015925555_1'}\n",
      "R_ARBt2r: M_arab__L_e + M_h_e --> M_arab__L_c + M_h_c: {'G_WP_041706401_1'}\n",
      "R_EX_arab__L_e: M_arab__L_e --> : []\n"
     ]
    }
   ],
   "source": [
    "for rxn in model.get_metabolite_consumers('M_arab__L_e'):\n",
    "    print(str(model.reactions[rxn])+\": \"+ str(model.reactions[rxn].get_genes()))"
   ]
  },
  {
   "cell_type": "code",
   "execution_count": 245,
   "id": "898476f7",
   "metadata": {},
   "outputs": [
    {
     "name": "stdout",
     "output_type": "stream",
     "text": [
      "R_GALpts: M_gal_e + M_pep_c <-> M_dgal6p_c + M_pyr_c: {'G_WP_015924346_1'}\n",
      "R_EX_gal_e: M_gal_e --> : []\n"
     ]
    }
   ],
   "source": [
    "for rxn in model.get_metabolite_consumers('M_gal_e'):\n",
    "    print(str(model.reactions[rxn])+\": \"+ str(model.reactions[rxn].get_genes()))"
   ]
  },
  {
   "cell_type": "code",
   "execution_count": 246,
   "id": "698665d1",
   "metadata": {},
   "outputs": [
    {
     "name": "stdout",
     "output_type": "stream",
     "text": [
      "R_MANpts: M_man_e + M_pep_c --> M_man6p_c + M_pyr_c: {'G_WP_015924346_1'}\n",
      "R_MANt2: M_h_e + M_man_e --> M_h_c + M_man_c: {'G_WP_015925129_1', 'G_WP_041706401_1'}\n",
      "R_EX_man_e: M_man_e --> : []\n"
     ]
    }
   ],
   "source": [
    "for rxn in model.get_metabolite_consumers('M_man_e'):\n",
    "    print(str(model.reactions[rxn])+\": \"+ str(model.reactions[rxn].get_genes()))"
   ]
  },
  {
   "cell_type": "code",
   "execution_count": 247,
   "id": "6ae183de",
   "metadata": {},
   "outputs": [
    {
     "name": "stdout",
     "output_type": "stream",
     "text": [
      "R_GLCabc: M_atp_c + M_glc__D_e + M_h2o_c --> M_adp_c + M_glc__D_c + M_h_c + M_pi_c: {'G_WP_012634654_1', 'G_WP_015926592_1', 'G_WP_015924646_1', 'G_WP_242651738_1', 'G_WP_015924545_1'}\n",
      "R_GLCpts: M_glc__D_e + M_pep_c --> M_g6p_c + M_pyr_c: {'G_WP_015924346_1'}\n",
      "R_GLCt2: M_glc__D_e + M_h_e --> M_glc__D_c + M_h_c: {'G_WP_015925129_1'}\n",
      "R_EX_glc__D_e: M_glc__D_e <->  [-10.0, inf]: []\n"
     ]
    }
   ],
   "source": [
    "for rxn in model.get_metabolite_consumers('M_glc__D_e'):\n",
    "    print(str(model.reactions[rxn])+\": \"+ str(model.reactions[rxn].get_genes()))"
   ]
  },
  {
   "cell_type": "markdown",
   "id": "18097919-d2c2-4d0b-9cb7-497c8c95ae61",
   "metadata": {
    "tags": []
   },
   "source": [
    "#### **<span style=\"color: green;\">C.1. CONCLUSIONS </span>**\n",
    "\n",
    "Based on the results above, the model is able to produce ATP on all of the sugar. That is the base requirement that we made. However, when considering if the predictions are correct, we are dependent on data/calculations that are themselves not entirely certain (explaination: exactly what the ATP gain from production of acetate, ethanol or lactate. \n",
    "\n",
    "However the analysis did reveal some interesting things. The analysis did show that the **model has a strong affinity toward producing acetaldehyde (EX_acald_e)**. As you can see *in the figure below*, the acetaldehyde node is close to both ethanol and acetate. One solution could be to block acetaldehyde, and possibly divert the flux toward other products.\n",
    "\n",
    "Another interesting effect is the **low production of acetate**. There seems to be a drain of the ATP produced from acetate production. Much of the acetate is also diverted into acetaldehyde. As you can see *in the figure below* we would expect there to be produced more ATP from acetate production, in comparison to acetaldehyde and ethanol, given that the pathway from Desvaux (2000) is correct. \n"
   ]
  },
  {
   "attachments": {
    "1321d0b4-e2c4-498b-9d49-2c9c99e1637a.jpeg": {
     "image/jpeg": "[encoded data removed]"
    }
   },
   "cell_type": "markdown",
   "id": "aed9622e-8c5f-4778-b406-c63a91c11135",
   "metadata": {},
   "source": [
    "*Figure from Desvaux (2000)*:https://doi.org/10.1016/j.femsre.2004.11.003\n",
    "\n",
    "![m_FMR_741_f3.jpeg](attachment:1321d0b4-e2c4-498b-9d49-2c9c99e1637a.jpeg)"
   ]
  },
  {
   "cell_type": "markdown",
   "id": "75d4c16b-7e5b-420a-aeeb-30bcb33bb6a2",
   "metadata": {},
   "source": [
    "### <span style=\"color: blue;\">C.2. Maximal growth rate on various sugars</span>"
   ]
  },
  {
   "cell_type": "code",
   "execution_count": 248,
   "id": "09ab66f2-141a-4bad-a085-a62bf81ff23e",
   "metadata": {},
   "outputs": [],
   "source": [
    "model = reframed.load_cbmodel('model_cellulolyticum_H10.xml')"
   ]
  },
  {
   "cell_type": "code",
   "execution_count": 249,
   "id": "abae460e-31e3-4276-a4d9-cde0c106c974",
   "metadata": {},
   "outputs": [
    {
     "name": "stderr",
     "output_type": "stream",
     "text": [
      "/Users/idunmariaburgos/opt/anaconda3/envs/RecAndAn/lib/python3.7/site-packages/reframed/solvers/cplex_solver.py:406: UserWarning: Constrained variable not previously declared: R_EX_arab__D_e\n",
      "  warn(f\"Constrained variable not previously declared: {r_id}\")\n",
      "/Users/idunmariaburgos/opt/anaconda3/envs/RecAndAn/lib/python3.7/site-packages/reframed/solvers/cplex_solver.py:406: UserWarning: Constrained variable not previously declared: R_EX_gal__L_e\n",
      "  warn(f\"Constrained variable not previously declared: {r_id}\")\n"
     ]
    }
   ],
   "source": [
    "sugars = ['R_EX_cellb_e','R_EX_xyl__D_e','R_EX_arab__D_e','R_EX_arab__L_e','R_EX_gal__L_e','R_EX_gal_e','R_EX_man_e']\n",
    "\n",
    "growth_dict = {}\n",
    "\n",
    "for sugar_id in sugars:\n",
    "    \n",
    "    constraints ={sugar_id:(-10,0),'R_EX_glc__D_e':0,'R_EX_cys__L_e':0,'R_EX_no3_e':0}\n",
    "    sol = FBA(model,constraints=constraints,shadow_prices=True,reduced_costs=True)\n",
    "    growth_dict[sugar_id]=sol\n",
    "\n",
    "constraints ={'R_EX_cys__L_e':0,'R_EX_no3_e':0}\n",
    "sol = FBA(model,constraints=constraints,shadow_prices=True,reduced_costs=True)    \n",
    "growth_dict['R_EX_glc__D_e']=sol"
   ]
  },
  {
   "cell_type": "code",
   "execution_count": 250,
   "id": "18aa6bbb-d5ce-4cc6-bd30-44eb195f7926",
   "metadata": {},
   "outputs": [
    {
     "data": {
      "image/png": "[encoded data removed]",
      "text/plain": [
       "<Figure size 640x480 with 1 Axes>"
      ]
     },
     "metadata": {},
     "output_type": "display_data"
    }
   ],
   "source": [
    "keys = [medium for medium in growth_dict.keys()]\n",
    "values = [sol.fobj for sol in growth_dict.values()]\n",
    "plt.rcdefaults()\n",
    "fig, ax = plt.subplots()\n",
    "\n",
    "# Example data\n",
    "media = (keys)\n",
    "y_pos = np.arange(len(keys))\n",
    "growth_yield = values \n",
    "\n",
    "ax.barh(y_pos, growth_yield, align='center')\n",
    "ax.set_yticks(np.arange(len(keys)))\n",
    "ax.set_yticklabels(keys)\n",
    "ax.invert_yaxis()  # labels read top-to-bottom\n",
    "ax.set_xlabel('Max growth (g CDW/mmol sugar)')\n",
    "ax.set_title('Max growth on various carbon sources (-10 mmol/g(CDW)h)')\n",
    "plt.show()\n"
   ]
  },
  {
   "cell_type": "code",
   "execution_count": 251,
   "id": "664c4ad7",
   "metadata": {},
   "outputs": [],
   "source": [
    "import cobra"
   ]
  },
  {
   "cell_type": "code",
   "execution_count": 252,
   "id": "72b99241",
   "metadata": {},
   "outputs": [],
   "source": [
    "model_cobra = cobra.io.read_sbml_model('model_cellulolyticum_H10.xml')"
   ]
  },
  {
   "cell_type": "code",
   "execution_count": 253,
   "id": "86724a43",
   "metadata": {},
   "outputs": [],
   "source": [
    "cobra.io.save_json_model(model_cobra, \"model_cellulolyticum_H10.json\")"
   ]
  }
 ],
 "metadata": {
  "kernelspec": {
   "display_name": "RecAndAn",
   "language": "python",
   "name": "recandan"
  },
  "language_info": {
   "codemirror_mode": {
    "name": "ipython",
    "version": 3
   },
   "file_extension": ".py",
   "mimetype": "text/x-python",
   "name": "python",
   "nbconvert_exporter": "python",
   "pygments_lexer": "ipython3",
   "version": "3.7.13"
  }
 },
 "nbformat": 4,
 "nbformat_minor": 5
}
