{
 "cells": [
  {
   "cell_type": "markdown",
   "id": "601007ff",
   "metadata": {},
   "source": [
    "# Prosessing data from UniProt"
   ]
  },
  {
   "cell_type": "code",
   "execution_count": 1,
   "id": "2636b16e",
   "metadata": {},
   "outputs": [],
   "source": [
    "import pandas as pd\n",
    "\n",
    "from reframed import load_cbmodel"
   ]
  },
  {
   "cell_type": "code",
   "execution_count": 2,
   "id": "7781a47a",
   "metadata": {},
   "outputs": [
    {
     "data": {
      "text/html": [
       "<div>\n",
       "<style scoped>\n",
       "    .dataframe tbody tr th:only-of-type {\n",
       "        vertical-align: middle;\n",
       "    }\n",
       "\n",
       "    .dataframe tbody tr th {\n",
       "        vertical-align: top;\n",
       "    }\n",
       "\n",
       "    .dataframe thead th {\n",
       "        text-align: right;\n",
       "    }\n",
       "</style>\n",
       "<table border=\"1\" class=\"dataframe\">\n",
       "  <thead>\n",
       "    <tr style=\"text-align: right;\">\n",
       "      <th></th>\n",
       "      <th>Entry</th>\n",
       "      <th>Entry name</th>\n",
       "      <th>Protein names</th>\n",
       "      <th>Gene names</th>\n",
       "      <th>Cross-reference (RefSeq)</th>\n",
       "    </tr>\n",
       "  </thead>\n",
       "  <tbody>\n",
       "    <tr>\n",
       "      <th>0</th>\n",
       "      <td>B8I4G1</td>\n",
       "      <td>LEUD_RUMCH</td>\n",
       "      <td>3-isopropylmalate dehydratase small subunit (E...</td>\n",
       "      <td>leuD Ccel_0127</td>\n",
       "      <td>WP_012634581.1;</td>\n",
       "    </tr>\n",
       "    <tr>\n",
       "      <th>1</th>\n",
       "      <td>B8I8F2</td>\n",
       "      <td>UVRC_RUMCH</td>\n",
       "      <td>UvrABC system protein C (Protein UvrC) (Excinu...</td>\n",
       "      <td>uvrC Ccel_0807</td>\n",
       "      <td>WP_015924347.1;</td>\n",
       "    </tr>\n",
       "    <tr>\n",
       "      <th>2</th>\n",
       "      <td>B8I567</td>\n",
       "      <td>UPP_RUMCH</td>\n",
       "      <td>Uracil phosphoribosyltransferase (EC 2.4.2.9) ...</td>\n",
       "      <td>upp Ccel_0260</td>\n",
       "      <td>WP_012634712.1;</td>\n",
       "    </tr>\n",
       "    <tr>\n",
       "      <th>3</th>\n",
       "      <td>B8I364</td>\n",
       "      <td>PDXT_RUMCH</td>\n",
       "      <td>Pyridoxal 5'-phosphate synthase subunit PdxT (...</td>\n",
       "      <td>pdxT Ccel_1859</td>\n",
       "      <td>WP_015925312.1;</td>\n",
       "    </tr>\n",
       "    <tr>\n",
       "      <th>4</th>\n",
       "      <td>B8I176</td>\n",
       "      <td>RL21_RUMCH</td>\n",
       "      <td>50S ribosomal protein L21</td>\n",
       "      <td>rplU Ccel_1320</td>\n",
       "      <td>WP_015924822.1;</td>\n",
       "    </tr>\n",
       "    <tr>\n",
       "      <th>...</th>\n",
       "      <td>...</td>\n",
       "      <td>...</td>\n",
       "      <td>...</td>\n",
       "      <td>...</td>\n",
       "      <td>...</td>\n",
       "    </tr>\n",
       "    <tr>\n",
       "      <th>3282</th>\n",
       "      <td>B8I8G0</td>\n",
       "      <td>B8I8G0_RUMCH</td>\n",
       "      <td>Lytic transglycosylase catalytic</td>\n",
       "      <td>Ccel_0815</td>\n",
       "      <td>WP_015924355.1;</td>\n",
       "    </tr>\n",
       "    <tr>\n",
       "      <th>3283</th>\n",
       "      <td>B8I473</td>\n",
       "      <td>B8I473_RUMCH</td>\n",
       "      <td>5-formyltetrahydrofolate cyclo-ligase (EC 6.3....</td>\n",
       "      <td>Ccel_2164</td>\n",
       "      <td>WP_015925601.1;</td>\n",
       "    </tr>\n",
       "    <tr>\n",
       "      <th>3284</th>\n",
       "      <td>B8I0E1</td>\n",
       "      <td>B8I0E1_RUMCH</td>\n",
       "      <td>Uncharacterized protein</td>\n",
       "      <td>Ccel_3176</td>\n",
       "      <td>NaN</td>\n",
       "    </tr>\n",
       "    <tr>\n",
       "      <th>3285</th>\n",
       "      <td>B8I126</td>\n",
       "      <td>B8I126_RUMCH</td>\n",
       "      <td>Uncharacterized protein</td>\n",
       "      <td>Ccel_3046 Ccel_3293</td>\n",
       "      <td>WP_015926397.1;</td>\n",
       "    </tr>\n",
       "    <tr>\n",
       "      <th>3286</th>\n",
       "      <td>Q0PRN3</td>\n",
       "      <td>Q0PRN3_RUMCH</td>\n",
       "      <td>Cellulase (EC 3.2.1.4)</td>\n",
       "      <td>Ccel_1236</td>\n",
       "      <td>WP_015924741.1;</td>\n",
       "    </tr>\n",
       "  </tbody>\n",
       "</table>\n",
       "<p>3287 rows × 5 columns</p>\n",
       "</div>"
      ],
      "text/plain": [
       "       Entry    Entry name                                      Protein names  \\\n",
       "0     B8I4G1    LEUD_RUMCH  3-isopropylmalate dehydratase small subunit (E...   \n",
       "1     B8I8F2    UVRC_RUMCH  UvrABC system protein C (Protein UvrC) (Excinu...   \n",
       "2     B8I567     UPP_RUMCH  Uracil phosphoribosyltransferase (EC 2.4.2.9) ...   \n",
       "3     B8I364    PDXT_RUMCH  Pyridoxal 5'-phosphate synthase subunit PdxT (...   \n",
       "4     B8I176    RL21_RUMCH                          50S ribosomal protein L21   \n",
       "...      ...           ...                                                ...   \n",
       "3282  B8I8G0  B8I8G0_RUMCH                   Lytic transglycosylase catalytic   \n",
       "3283  B8I473  B8I473_RUMCH  5-formyltetrahydrofolate cyclo-ligase (EC 6.3....   \n",
       "3284  B8I0E1  B8I0E1_RUMCH                            Uncharacterized protein   \n",
       "3285  B8I126  B8I126_RUMCH                            Uncharacterized protein   \n",
       "3286  Q0PRN3  Q0PRN3_RUMCH                             Cellulase (EC 3.2.1.4)   \n",
       "\n",
       "               Gene names Cross-reference (RefSeq)  \n",
       "0          leuD Ccel_0127          WP_012634581.1;  \n",
       "1          uvrC Ccel_0807          WP_015924347.1;  \n",
       "2           upp Ccel_0260          WP_012634712.1;  \n",
       "3          pdxT Ccel_1859          WP_015925312.1;  \n",
       "4          rplU Ccel_1320          WP_015924822.1;  \n",
       "...                   ...                      ...  \n",
       "3282            Ccel_0815          WP_015924355.1;  \n",
       "3283            Ccel_2164          WP_015925601.1;  \n",
       "3284            Ccel_3176                      NaN  \n",
       "3285  Ccel_3046 Ccel_3293          WP_015926397.1;  \n",
       "3286            Ccel_1236          WP_015924741.1;  \n",
       "\n",
       "[3287 rows x 5 columns]"
      ]
     },
     "execution_count": 2,
     "metadata": {},
     "output_type": "execute_result"
    }
   ],
   "source": [
    "gene_protein_map = pd.read_csv('uniprot/uniprot-proteome_UP000001349.tab', sep='\\t')\n",
    "gene_protein_map"
   ]
  },
  {
   "cell_type": "code",
   "execution_count": 3,
   "id": "acbc886b",
   "metadata": {},
   "outputs": [],
   "source": [
    "# Cleaning up an preparing for comparison with model\n",
    "for index, string in enumerate(gene_protein_map['Cross-reference (RefSeq)']):\n",
    "     if type(string) == str:   \n",
    "        array = string.split('.')\n",
    "        if len(array)==2:\n",
    "            new_array = ['G_',array[0],'_',array[1][:-1]]\n",
    "            gene_protein_map.loc[index,'Cross-reference (RefSeq)'] = ''.join(new_array)"
   ]
  },
  {
   "cell_type": "code",
   "execution_count": 4,
   "id": "e1e78dd4",
   "metadata": {},
   "outputs": [
    {
     "name": "stdout",
     "output_type": "stream",
     "text": [
      "Stored 'gene_protein_map' (DataFrame)\n"
     ]
    }
   ],
   "source": [
    "%store gene_protein_map"
   ]
  },
  {
   "cell_type": "markdown",
   "id": "bd4c689d",
   "metadata": {},
   "source": [
    "#### Get GPR relationship for CarveMe model\n",
    "\n",
    "CarveMe automatically has a protein ID instead of  gene ID. Here the gene-protein-reaction relationship is shown. "
   ]
  },
  {
   "cell_type": "code",
   "execution_count": 5,
   "id": "6d607f50",
   "metadata": {},
   "outputs": [],
   "source": [
    "model = load_cbmodel('model_cellulolyticum_H10.xml') "
   ]
  },
  {
   "cell_type": "code",
   "execution_count": 6,
   "id": "c44f12e7",
   "metadata": {},
   "outputs": [],
   "source": [
    "# Get subset of proteins for eacg reaction (length of outer list is the same as the number of reactions). \n",
    "# The reactions that do not have a reaction associated with them remain the same\n",
    "carveme_proteins = [model.reactions[reaction].gpr.get_genes() \n",
    "                    if model.reactions[reaction].gpr else {} for reaction in model.reactions]\n"
   ]
  },
  {
   "cell_type": "code",
   "execution_count": 7,
   "id": "3035ccd7",
   "metadata": {},
   "outputs": [],
   "source": [
    "# Get the gene ID for each protein involved in each reactions.\n",
    "\n",
    "carveme_genes_inrxn = []\n",
    "for proteins in carveme_proteins:\n",
    "    gene_list = []\n",
    "    for protein in proteins:\n",
    "        genes = list(gene_protein_map.loc[gene_protein_map['Cross-reference (RefSeq)']==protein,'Gene names'].values)\n",
    "        \n",
    "        # If one or multiple genes match with the same protein. \n",
    "        #However there is (almost) one-to-one mapping between gene and protein\n",
    "        if len(genes)>0:\n",
    "            multiple_genes = genes[0].split(' ') # Some strings contain elements separated by ' '\n",
    "            \n",
    "            for gene in multiple_genes:\n",
    "                if \"Ccel_\" in gene: # Only include the elements that have a Ccel_value        \n",
    "                    gene_list.append(gene)\n",
    "    carveme_genes_inrxn.append(gene_list)"
   ]
  },
  {
   "cell_type": "code",
   "execution_count": 8,
   "id": "2bde260b",
   "metadata": {},
   "outputs": [
    {
     "data": {
      "text/html": [
       "<div>\n",
       "<style scoped>\n",
       "    .dataframe tbody tr th:only-of-type {\n",
       "        vertical-align: middle;\n",
       "    }\n",
       "\n",
       "    .dataframe tbody tr th {\n",
       "        vertical-align: top;\n",
       "    }\n",
       "\n",
       "    .dataframe thead th {\n",
       "        text-align: right;\n",
       "    }\n",
       "</style>\n",
       "<table border=\"1\" class=\"dataframe\">\n",
       "  <thead>\n",
       "    <tr style=\"text-align: right;\">\n",
       "      <th></th>\n",
       "      <th>CarveMe rxn ID</th>\n",
       "      <th>Genes</th>\n",
       "    </tr>\n",
       "  </thead>\n",
       "  <tbody>\n",
       "    <tr>\n",
       "      <th>0</th>\n",
       "      <td>R_12DGR120tipp</td>\n",
       "      <td></td>\n",
       "    </tr>\n",
       "    <tr>\n",
       "      <th>1</th>\n",
       "      <td>R_12DGR140tipp</td>\n",
       "      <td></td>\n",
       "    </tr>\n",
       "    <tr>\n",
       "      <th>2</th>\n",
       "      <td>R_12DGR141tipp</td>\n",
       "      <td></td>\n",
       "    </tr>\n",
       "    <tr>\n",
       "      <th>3</th>\n",
       "      <td>R_12DGR160tipp</td>\n",
       "      <td></td>\n",
       "    </tr>\n",
       "    <tr>\n",
       "      <th>4</th>\n",
       "      <td>R_12DGR161tipp</td>\n",
       "      <td></td>\n",
       "    </tr>\n",
       "    <tr>\n",
       "      <th>...</th>\n",
       "      <td>...</td>\n",
       "      <td>...</td>\n",
       "    </tr>\n",
       "    <tr>\n",
       "      <th>1806</th>\n",
       "      <td>R_EX_xylb_e</td>\n",
       "      <td></td>\n",
       "    </tr>\n",
       "    <tr>\n",
       "      <th>1807</th>\n",
       "      <td>R_EX_zn2_e</td>\n",
       "      <td></td>\n",
       "    </tr>\n",
       "    <tr>\n",
       "      <th>1808</th>\n",
       "      <td>Growth</td>\n",
       "      <td></td>\n",
       "    </tr>\n",
       "    <tr>\n",
       "      <th>1809</th>\n",
       "      <td>R_ATPM</td>\n",
       "      <td></td>\n",
       "    </tr>\n",
       "    <tr>\n",
       "      <th>1810</th>\n",
       "      <td>R_DHORD6</td>\n",
       "      <td></td>\n",
       "    </tr>\n",
       "  </tbody>\n",
       "</table>\n",
       "<p>1811 rows × 2 columns</p>\n",
       "</div>"
      ],
      "text/plain": [
       "      CarveMe rxn ID Genes\n",
       "0     R_12DGR120tipp      \n",
       "1     R_12DGR140tipp      \n",
       "2     R_12DGR141tipp      \n",
       "3     R_12DGR160tipp      \n",
       "4     R_12DGR161tipp      \n",
       "...              ...   ...\n",
       "1806     R_EX_xylb_e      \n",
       "1807      R_EX_zn2_e      \n",
       "1808          Growth      \n",
       "1809          R_ATPM      \n",
       "1810        R_DHORD6      \n",
       "\n",
       "[1811 rows x 2 columns]"
      ]
     },
     "execution_count": 8,
     "metadata": {},
     "output_type": "execute_result"
    }
   ],
   "source": [
    "# Storing data in DataFrame \n",
    "carveme_genes_inrxn_str = [\", \".join(genes) for genes in carveme_genes_inrxn]\n",
    "reaction_gene_map = pd.DataFrame({\"CarveMe rxn ID\": list(model.reactions), \"Genes\": carveme_genes_inrxn_str})\n",
    "reaction_gene_map"
   ]
  },
  {
   "cell_type": "code",
   "execution_count": 9,
   "id": "0c14dec4",
   "metadata": {},
   "outputs": [
    {
     "name": "stdout",
     "output_type": "stream",
     "text": [
      "Stored 'reaction_gene_map' (DataFrame)\n"
     ]
    }
   ],
   "source": [
    "%store reaction_gene_map"
   ]
  },
  {
   "cell_type": "code",
   "execution_count": null,
   "id": "9a5e5f9f-be46-4af2-9a67-210f3ca3fa58",
   "metadata": {},
   "outputs": [],
   "source": []
  }
 ],
 "metadata": {
  "kernelspec": {
   "display_name": "RecAndAn",
   "language": "python",
   "name": "recandan"
  },
  "language_info": {
   "codemirror_mode": {
    "name": "ipython",
    "version": 3
   },
   "file_extension": ".py",
   "mimetype": "text/x-python",
   "name": "python",
   "nbconvert_exporter": "python",
   "pygments_lexer": "ipython3",
   "version": "3.7.13"
  }
 },
 "nbformat": 4,
 "nbformat_minor": 5
}
