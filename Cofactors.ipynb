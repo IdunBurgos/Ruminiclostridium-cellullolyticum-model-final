{
 "cells": [
  {
   "cell_type": "markdown",
   "id": "3b134585-cc83-407d-8433-aa76110ee766",
   "metadata": {},
   "source": [
    "# Cofactors"
   ]
  },
  {
   "cell_type": "code",
   "execution_count": 1,
   "id": "7ff568c2-f53a-49a5-9a74-3a7e15636427",
   "metadata": {},
   "outputs": [],
   "source": [
    "import reframed\n",
    "from reframed import pFBA, Environment, FVA,FBA\n",
    "import pandas as pd\n",
    "import matplotlib.pyplot as plt\n",
    "import numpy as np\n",
    "from collections import OrderedDict \n"
   ]
  },
  {
   "cell_type": "markdown",
   "id": "822f258f-dabb-4290-a23a-b075565d7613",
   "metadata": {},
   "source": [
    "#### Loading model"
   ]
  },
  {
   "cell_type": "code",
   "execution_count": 2,
   "id": "c30c4048-1f64-4747-acd8-9f8a3fcfefa5",
   "metadata": {},
   "outputs": [],
   "source": [
    "model = reframed.load_cbmodel('model_cellulolyticum_H10.xml')"
   ]
  },
  {
   "cell_type": "markdown",
   "id": "cb1221e1-60b1-47c7-97ec-6ea41c937397",
   "metadata": {},
   "source": [
    "#### Gene-protein cross-reference"
   ]
  },
  {
   "cell_type": "code",
   "execution_count": 3,
   "id": "cacc45b1-2c75-4e3c-92c2-40407842b4b8",
   "metadata": {},
   "outputs": [],
   "source": [
    "%store -r gene_protein_map"
   ]
  },
  {
   "cell_type": "code",
   "execution_count": null,
   "id": "7a435d50-ab4c-4b7f-b137-3d8b554772ab",
   "metadata": {},
   "outputs": [],
   "source": []
  },
  {
   "cell_type": "code",
   "execution_count": 8,
   "id": "be64bb1b-22bf-4002-be77-a436c6d1d501",
   "metadata": {
    "tags": []
   },
   "outputs": [
    {
     "data": {
      "text/html": [
       "<div>\n",
       "<style scoped>\n",
       "    .dataframe tbody tr th:only-of-type {\n",
       "        vertical-align: middle;\n",
       "    }\n",
       "\n",
       "    .dataframe tbody tr th {\n",
       "        vertical-align: top;\n",
       "    }\n",
       "\n",
       "    .dataframe thead th {\n",
       "        text-align: right;\n",
       "    }\n",
       "</style>\n",
       "<table border=\"1\" class=\"dataframe\">\n",
       "  <thead>\n",
       "    <tr style=\"text-align: right;\">\n",
       "      <th></th>\n",
       "      <th>Entry</th>\n",
       "      <th>Entry name</th>\n",
       "      <th>Protein names</th>\n",
       "      <th>Gene names</th>\n",
       "      <th>Cross-reference (RefSeq)</th>\n",
       "    </tr>\n",
       "  </thead>\n",
       "  <tbody>\n",
       "    <tr>\n",
       "      <th>0</th>\n",
       "      <td>B8I4G1</td>\n",
       "      <td>LEUD_RUMCH</td>\n",
       "      <td>3-isopropylmalate dehydratase small subunit (E...</td>\n",
       "      <td>leuD Ccel_0127</td>\n",
       "      <td>G_WP_012634581_1</td>\n",
       "    </tr>\n",
       "    <tr>\n",
       "      <th>1</th>\n",
       "      <td>B8I8F2</td>\n",
       "      <td>UVRC_RUMCH</td>\n",
       "      <td>UvrABC system protein C (Protein UvrC) (Excinu...</td>\n",
       "      <td>uvrC Ccel_0807</td>\n",
       "      <td>G_WP_015924347_1</td>\n",
       "    </tr>\n",
       "    <tr>\n",
       "      <th>2</th>\n",
       "      <td>B8I567</td>\n",
       "      <td>UPP_RUMCH</td>\n",
       "      <td>Uracil phosphoribosyltransferase (EC 2.4.2.9) ...</td>\n",
       "      <td>upp Ccel_0260</td>\n",
       "      <td>G_WP_012634712_1</td>\n",
       "    </tr>\n",
       "  </tbody>\n",
       "</table>\n",
       "</div>"
      ],
      "text/plain": [
       "    Entry  Entry name                                      Protein names  \\\n",
       "0  B8I4G1  LEUD_RUMCH  3-isopropylmalate dehydratase small subunit (E...   \n",
       "1  B8I8F2  UVRC_RUMCH  UvrABC system protein C (Protein UvrC) (Excinu...   \n",
       "2  B8I567   UPP_RUMCH  Uracil phosphoribosyltransferase (EC 2.4.2.9) ...   \n",
       "\n",
       "       Gene names Cross-reference (RefSeq)  \n",
       "0  leuD Ccel_0127         G_WP_012634581_1  \n",
       "1  uvrC Ccel_0807         G_WP_015924347_1  \n",
       "2   upp Ccel_0260         G_WP_012634712_1  "
      ]
     },
     "execution_count": 8,
     "metadata": {},
     "output_type": "execute_result"
    }
   ],
   "source": [
    "gene_protein_map.head(3)"
   ]
  },
  {
   "cell_type": "markdown",
   "id": "79fad1b6-100e-4112-a285-32bf03637967",
   "metadata": {},
   "source": [
    "## Ferredoxin and NAD(P)H balancing\n",
    "\n",
    "**Motivation**: The model is lacking some reactions described in literature that are related to cofactor balancing. This is especially related to ferredoxin reductase activity. \n",
    "\n"
   ]
  },
  {
   "cell_type": "markdown",
   "id": "0e818e81-b323-48b7-940b-dc6940e09e2c",
   "metadata": {},
   "source": [
    "### Analysis"
   ]
  },
  {
   "cell_type": "markdown",
   "id": "b7e0b571-b17c-4a0f-9e6c-0a3f83b6b8f8",
   "metadata": {},
   "source": [
    "**Reactions involving ferredoxin that we want to be in the system (based on Desvaux 2001)**\n",
    "- R_POR_syn: M_coa_c + 2.0 M_fdxo_2_2_c + M_pyr_c --> M_accoa_c + M_co2_c + 2.0 M_fdxrd_c + M_h_c\n",
    "- R_FNRR: M_fdxrd_c + M_h_c + M_nad_c <-> M_fdxo_2_2_c + M_nadh_c\n",
    "- R_FNRR2: M_fdxrd_c + M_h_c + M_nadp_c <-> M_fdxo_2_2_c + M_nadph_c\n",
    "- R_FNRR3: M_fdxo_2_2_c + M_h2_c --> M_fdxrd_c + 2.0 M_h_c\n"
   ]
  },
  {
   "cell_type": "markdown",
   "id": "64157121-3bbb-43f9-9e84-a58449c56ad4",
   "metadata": {},
   "source": [
    "**Reactions involving ferredoxin currently in model**"
   ]
  },
  {
   "cell_type": "code",
   "execution_count": 79,
   "id": "77236cb6-3ff1-41e5-8516-cf486974f8f2",
   "metadata": {},
   "outputs": [
    {
     "name": "stdout",
     "output_type": "stream",
     "text": [
      "R_CO2FO: M_co2_c + M_fdxrd_c + 2.0 M_h_c <-> M_co_c + M_fdxo_2_2_c + M_h2o_c [-inf, 0.0]: G_WP_015926513_1\n",
      "R_FNRR3: M_fdxo_2_2_c + M_h2_c --> M_fdxrd_c + 2.0 M_h_c: G_WP_015925729_1\n",
      "R_MECDPDH4E: M_2mecdp_c + M_fdxrd_c + M_h_c <-> M_fdxo_2_2_c + M_h2mb4p_c + M_h2o_c: G_WP_012634895_1\n",
      "R_NOR_syn_1: 6.0 M_fdxrd_c + 7.0 M_h_c + M_no2_c --> 6.0 M_fdxo_2_2_c + 2.0 M_h2o_c + M_nh3_c: None\n",
      "R_POR_syn: M_coa_c + 2.0 M_fdxo_2_2_c + M_pyr_c --> M_accoa_c + M_co2_c + 2.0 M_fdxrd_c + M_h_c: (G_WP_015924110_1 and G_WP_015924674_1)\n",
      "R_SULR_syn: 6.0 M_fdxrd_c + 8.0 M_h_c + M_so3_c --> 6.0 M_fdxo_2_2_c + 3.0 M_h2o_c + M_h2s_c: None\n",
      "R_VOR2bE: M_3mob_c + M_coa_c + M_fdxo_2_2_c --> M_co2_c + M_fdxrd_c + M_h_c + M_ibcoa_c: G_WP_015924108_1\n"
     ]
    }
   ],
   "source": [
    "for rxn in model.get_metabolite_reactions('M_fdxrd_c'):\n",
    "    print(str(model.reactions[rxn])+ \": \"+str(model.reactions[rxn].gpr))"
   ]
  },
  {
   "cell_type": "markdown",
   "id": "cc310360-ebfd-4f7d-9b70-3294948f4b94",
   "metadata": {},
   "source": [
    "*Of these reactions, two do not have a GPR*:\n",
    "\n",
    "- R_NOR_syn_1: From Synechocystis sp. PCC68 model (iSynCJ816) - involved in [nitrogen metabolism and nitrate assimilation](https://www.brenda-enzymes.org/enzyme.php?ecno=1.7.7.1)\n",
    "- R_SULR_syn: From Synechocystis sp. PCC68 model (iSynCJ816) - involved in [sulfate assimilation](https://www.brenda-enzymes.org/enzyme.php?ecno=1.8.7.1)"
   ]
  },
  {
   "cell_type": "markdown",
   "id": "cff08bb1-652e-467c-8810-072024a6e743",
   "metadata": {},
   "source": [
    "model.remove_reactions([\"R_NOR_syn_1\",\"R_SULR_syn\"])"
   ]
  },
  {
   "cell_type": "markdown",
   "id": "761c3d07-e159-43a0-bab8-87b295695c20",
   "metadata": {},
   "source": [
    "**POR_syn - GPRs**"
   ]
  },
  {
   "cell_type": "code",
   "execution_count": 80,
   "id": "bd418840-0e33-40dd-831d-5e50548c22f9",
   "metadata": {},
   "outputs": [
    {
     "data": {
      "text/plain": [
       "(G_WP_015924110_1 and G_WP_015924674_1)"
      ]
     },
     "execution_count": 80,
     "metadata": {},
     "output_type": "execute_result"
    }
   ],
   "source": [
    "model.reactions.R_POR_syn.gpr"
   ]
  },
  {
   "cell_type": "code",
   "execution_count": 81,
   "id": "73512555-aec1-40ef-90a4-282b90a474ec",
   "metadata": {},
   "outputs": [
    {
     "data": {
      "text/html": [
       "<div>\n",
       "<style scoped>\n",
       "    .dataframe tbody tr th:only-of-type {\n",
       "        vertical-align: middle;\n",
       "    }\n",
       "\n",
       "    .dataframe tbody tr th {\n",
       "        vertical-align: top;\n",
       "    }\n",
       "\n",
       "    .dataframe thead th {\n",
       "        text-align: right;\n",
       "    }\n",
       "</style>\n",
       "<table border=\"1\" class=\"dataframe\">\n",
       "  <thead>\n",
       "    <tr style=\"text-align: right;\">\n",
       "      <th></th>\n",
       "      <th>Entry</th>\n",
       "      <th>Entry name</th>\n",
       "      <th>Protein names</th>\n",
       "      <th>Gene names</th>\n",
       "      <th>Cross-reference (RefSeq)</th>\n",
       "    </tr>\n",
       "  </thead>\n",
       "  <tbody>\n",
       "    <tr>\n",
       "      <th>616</th>\n",
       "      <td>B8I6P6</td>\n",
       "      <td>B8I6P6_RUMCH</td>\n",
       "      <td>Pyruvate ferredoxin/flavodoxin oxidoreductase</td>\n",
       "      <td>Ccel_0556</td>\n",
       "      <td>G_WP_015924110_1</td>\n",
       "    </tr>\n",
       "  </tbody>\n",
       "</table>\n",
       "</div>"
      ],
      "text/plain": [
       "      Entry    Entry name                                  Protein names  \\\n",
       "616  B8I6P6  B8I6P6_RUMCH  Pyruvate ferredoxin/flavodoxin oxidoreductase   \n",
       "\n",
       "    Gene names Cross-reference (RefSeq)  \n",
       "616  Ccel_0556         G_WP_015924110_1  "
      ]
     },
     "execution_count": 81,
     "metadata": {},
     "output_type": "execute_result"
    }
   ],
   "source": [
    "gene_protein_map[gene_protein_map['Cross-reference (RefSeq)']=='G_WP_015924110_1']"
   ]
  },
  {
   "cell_type": "code",
   "execution_count": 82,
   "id": "f152edfb-7826-4962-92cc-e7c65aaf9898",
   "metadata": {},
   "outputs": [
    {
     "data": {
      "text/html": [
       "<div>\n",
       "<style scoped>\n",
       "    .dataframe tbody tr th:only-of-type {\n",
       "        vertical-align: middle;\n",
       "    }\n",
       "\n",
       "    .dataframe tbody tr th {\n",
       "        vertical-align: top;\n",
       "    }\n",
       "\n",
       "    .dataframe thead th {\n",
       "        text-align: right;\n",
       "    }\n",
       "</style>\n",
       "<table border=\"1\" class=\"dataframe\">\n",
       "  <thead>\n",
       "    <tr style=\"text-align: right;\">\n",
       "      <th></th>\n",
       "      <th>Entry</th>\n",
       "      <th>Entry name</th>\n",
       "      <th>Protein names</th>\n",
       "      <th>Gene names</th>\n",
       "      <th>Cross-reference (RefSeq)</th>\n",
       "    </tr>\n",
       "  </thead>\n",
       "  <tbody>\n",
       "    <tr>\n",
       "      <th>1110</th>\n",
       "      <td>B8I021</td>\n",
       "      <td>B8I021_RUMCH</td>\n",
       "      <td>Pyruvate flavodoxin/ferredoxin oxidoreductase ...</td>\n",
       "      <td>Ccel_1164</td>\n",
       "      <td>G_WP_015924674_1</td>\n",
       "    </tr>\n",
       "  </tbody>\n",
       "</table>\n",
       "</div>"
      ],
      "text/plain": [
       "       Entry    Entry name                                      Protein names  \\\n",
       "1110  B8I021  B8I021_RUMCH  Pyruvate flavodoxin/ferredoxin oxidoreductase ...   \n",
       "\n",
       "     Gene names Cross-reference (RefSeq)  \n",
       "1110  Ccel_1164         G_WP_015924674_1  "
      ]
     },
     "execution_count": 82,
     "metadata": {},
     "output_type": "execute_result"
    }
   ],
   "source": [
    "gene_protein_map[gene_protein_map['Cross-reference (RefSeq)']=='G_WP_015924674_1']"
   ]
  },
  {
   "cell_type": "markdown",
   "id": "aa608ca0-cfa2-477e-b424-be50d7aaf409",
   "metadata": {},
   "source": [
    "**FNRR3 - GPRs in model**\n",
    "\n",
    "<span style=\"color: red;\">Not sure if this one makes sense. </span>"
   ]
  },
  {
   "cell_type": "code",
   "execution_count": 83,
   "id": "8b4acf2c-8ff7-457d-a326-786065cb70fb",
   "metadata": {},
   "outputs": [
    {
     "data": {
      "text/plain": [
       "G_WP_015925729_1"
      ]
     },
     "execution_count": 83,
     "metadata": {},
     "output_type": "execute_result"
    }
   ],
   "source": [
    "model.reactions.R_FNRR3.gpr"
   ]
  },
  {
   "cell_type": "code",
   "execution_count": 84,
   "id": "9c792fa1-c255-46b5-a942-2b38abad6f53",
   "metadata": {},
   "outputs": [
    {
     "data": {
      "text/html": [
       "<div>\n",
       "<style scoped>\n",
       "    .dataframe tbody tr th:only-of-type {\n",
       "        vertical-align: middle;\n",
       "    }\n",
       "\n",
       "    .dataframe tbody tr th {\n",
       "        vertical-align: top;\n",
       "    }\n",
       "\n",
       "    .dataframe thead th {\n",
       "        text-align: right;\n",
       "    }\n",
       "</style>\n",
       "<table border=\"1\" class=\"dataframe\">\n",
       "  <thead>\n",
       "    <tr style=\"text-align: right;\">\n",
       "      <th></th>\n",
       "      <th>Entry</th>\n",
       "      <th>Entry name</th>\n",
       "      <th>Protein names</th>\n",
       "      <th>Gene names</th>\n",
       "      <th>Cross-reference (RefSeq)</th>\n",
       "    </tr>\n",
       "  </thead>\n",
       "  <tbody>\n",
       "    <tr>\n",
       "      <th>387</th>\n",
       "      <td>B8I4Y3</td>\n",
       "      <td>B8I4Y3_RUMCH</td>\n",
       "      <td>Putative PAS/PAC sensor protein</td>\n",
       "      <td>Ccel_2300</td>\n",
       "      <td>G_WP_015925729_1</td>\n",
       "    </tr>\n",
       "  </tbody>\n",
       "</table>\n",
       "</div>"
      ],
      "text/plain": [
       "      Entry    Entry name                    Protein names Gene names  \\\n",
       "387  B8I4Y3  B8I4Y3_RUMCH  Putative PAS/PAC sensor protein  Ccel_2300   \n",
       "\n",
       "    Cross-reference (RefSeq)  \n",
       "387         G_WP_015925729_1  "
      ]
     },
     "execution_count": 84,
     "metadata": {},
     "output_type": "execute_result"
    }
   ],
   "source": [
    "gene_protein_map[gene_protein_map['Cross-reference (RefSeq)']=='G_WP_015925729_1']"
   ]
  },
  {
   "cell_type": "markdown",
   "id": "dc571344-7019-4522-983a-520d0665c843",
   "metadata": {},
   "source": [
    "### Sugar metabolism"
   ]
  },
  {
   "cell_type": "markdown",
   "id": "7cf683f8-8db3-470c-be65-775676168a37",
   "metadata": {},
   "source": [
    "**cellobiose phosphorylase**"
   ]
  },
  {
   "cell_type": "code",
   "execution_count": 12,
   "id": "fbd2dbf2-6bb1-4a6c-bd81-4b767be0b154",
   "metadata": {},
   "outputs": [
    {
     "data": {
      "text/plain": [
       "R_CEPA: M_cellb_c + M_pi_c <-> M_g1p_c + M_glc__D_c"
      ]
     },
     "execution_count": 12,
     "metadata": {},
     "output_type": "execute_result"
    }
   ],
   "source": [
    "model.reactions.R_CEPA"
   ]
  },
  {
   "cell_type": "code",
   "execution_count": 9,
   "id": "58798e5e-f78e-4fcc-8e43-9ecb79bb3165",
   "metadata": {},
   "outputs": [
    {
     "data": {
      "text/plain": [
       "G_WP_015925554_1"
      ]
     },
     "execution_count": 9,
     "metadata": {},
     "output_type": "execute_result"
    }
   ],
   "source": [
    "model.reactions.R_CEPA.gpr"
   ]
  },
  {
   "cell_type": "code",
   "execution_count": 10,
   "id": "9d910a8f-b5c6-4851-bf5e-8edda50fc0fc",
   "metadata": {},
   "outputs": [
    {
     "data": {
      "text/html": [
       "<div>\n",
       "<style scoped>\n",
       "    .dataframe tbody tr th:only-of-type {\n",
       "        vertical-align: middle;\n",
       "    }\n",
       "\n",
       "    .dataframe tbody tr th {\n",
       "        vertical-align: top;\n",
       "    }\n",
       "\n",
       "    .dataframe thead th {\n",
       "        text-align: right;\n",
       "    }\n",
       "</style>\n",
       "<table border=\"1\" class=\"dataframe\">\n",
       "  <thead>\n",
       "    <tr style=\"text-align: right;\">\n",
       "      <th></th>\n",
       "      <th>Entry</th>\n",
       "      <th>Entry name</th>\n",
       "      <th>Protein names</th>\n",
       "      <th>Gene names</th>\n",
       "      <th>Cross-reference (RefSeq)</th>\n",
       "    </tr>\n",
       "  </thead>\n",
       "  <tbody>\n",
       "    <tr>\n",
       "      <th>872</th>\n",
       "      <td>B8I421</td>\n",
       "      <td>B8I421_RUMCH</td>\n",
       "      <td>Glycosyltransferase 36</td>\n",
       "      <td>Ccel_2109</td>\n",
       "      <td>G_WP_015925554_1</td>\n",
       "    </tr>\n",
       "  </tbody>\n",
       "</table>\n",
       "</div>"
      ],
      "text/plain": [
       "      Entry    Entry name           Protein names Gene names  \\\n",
       "872  B8I421  B8I421_RUMCH  Glycosyltransferase 36  Ccel_2109   \n",
       "\n",
       "    Cross-reference (RefSeq)  \n",
       "872         G_WP_015925554_1  "
      ]
     },
     "execution_count": 10,
     "metadata": {},
     "output_type": "execute_result"
    }
   ],
   "source": [
    "gene_protein_map[gene_protein_map['Cross-reference (RefSeq)']=='G_WP_015925554_1']"
   ]
  },
  {
   "cell_type": "code",
   "execution_count": 168,
   "id": "928be8fc-9662-42ce-a8ab-62d161b3b197",
   "metadata": {},
   "outputs": [
    {
     "name": "stdout",
     "output_type": "stream",
     "text": [
      "R_CEPA: M_cellb_c + M_pi_c <-> M_g1p_c + M_glc__D_c: G_WP_015925554_1\n"
     ]
    }
   ],
   "source": [
    "for rxn in model.gene_to_reaction_lookup()['G_WP_015925554_1']:\n",
    "    print(str(model.reactions[rxn])+\": \" +  str(model.reactions[rxn].gpr))"
   ]
  },
  {
   "cell_type": "markdown",
   "id": "064411e1-fe8d-4c26-9d2d-2c64269e3003",
   "metadata": {},
   "source": [
    "**Galactokinase**"
   ]
  },
  {
   "cell_type": "code",
   "execution_count": 142,
   "id": "e7fb0502-f51b-4997-9c3f-7946546b9afa",
   "metadata": {},
   "outputs": [
    {
     "data": {
      "text/plain": [
       "R_GALK2: M_a_gal__D_c + M_atp_c --> M_adp_c + M_gal1p_c + M_h_c"
      ]
     },
     "execution_count": 142,
     "metadata": {},
     "output_type": "execute_result"
    }
   ],
   "source": [
    "model.reactions.R_GALK2"
   ]
  },
  {
   "cell_type": "code",
   "execution_count": 143,
   "id": "8bc886f0-ef93-4853-bac3-7542813c9320",
   "metadata": {},
   "outputs": [
    {
     "data": {
      "text/plain": [
       "G_WP_015926586_1"
      ]
     },
     "execution_count": 143,
     "metadata": {},
     "output_type": "execute_result"
    }
   ],
   "source": [
    "model.reactions.R_GALK2.gpr"
   ]
  },
  {
   "cell_type": "code",
   "execution_count": 144,
   "id": "9c5d7273-13c2-40c9-99f8-56a81f392abe",
   "metadata": {},
   "outputs": [
    {
     "data": {
      "text/html": [
       "<div>\n",
       "<style scoped>\n",
       "    .dataframe tbody tr th:only-of-type {\n",
       "        vertical-align: middle;\n",
       "    }\n",
       "\n",
       "    .dataframe tbody tr th {\n",
       "        vertical-align: top;\n",
       "    }\n",
       "\n",
       "    .dataframe thead th {\n",
       "        text-align: right;\n",
       "    }\n",
       "</style>\n",
       "<table border=\"1\" class=\"dataframe\">\n",
       "  <thead>\n",
       "    <tr style=\"text-align: right;\">\n",
       "      <th></th>\n",
       "      <th>Entry</th>\n",
       "      <th>Entry name</th>\n",
       "      <th>Protein names</th>\n",
       "      <th>Gene names</th>\n",
       "      <th>Cross-reference (RefSeq)</th>\n",
       "    </tr>\n",
       "  </thead>\n",
       "  <tbody>\n",
       "    <tr>\n",
       "      <th>1427</th>\n",
       "      <td>B8I0X2</td>\n",
       "      <td>B8I0X2_RUMCH</td>\n",
       "      <td>Galactokinase (EC 2.7.1.6) (Galactose kinase)</td>\n",
       "      <td>galK Ccel_3238</td>\n",
       "      <td>G_WP_015926586_1</td>\n",
       "    </tr>\n",
       "  </tbody>\n",
       "</table>\n",
       "</div>"
      ],
      "text/plain": [
       "       Entry    Entry name                                  Protein names  \\\n",
       "1427  B8I0X2  B8I0X2_RUMCH  Galactokinase (EC 2.7.1.6) (Galactose kinase)   \n",
       "\n",
       "          Gene names Cross-reference (RefSeq)  \n",
       "1427  galK Ccel_3238         G_WP_015926586_1  "
      ]
     },
     "execution_count": 144,
     "metadata": {},
     "output_type": "execute_result"
    }
   ],
   "source": [
    "gene_protein_map[gene_protein_map['Cross-reference (RefSeq)']=='G_WP_015926586_1']"
   ]
  },
  {
   "cell_type": "code",
   "execution_count": 145,
   "id": "5e01a0b4-bab0-45cb-9246-dc69e3bb91bf",
   "metadata": {},
   "outputs": [
    {
     "data": {
      "text/plain": [
       "R_GALKr: M_atp_c + M_gal_c <-> M_adp_c + M_gal1p_c + M_h_c"
      ]
     },
     "execution_count": 145,
     "metadata": {},
     "output_type": "execute_result"
    }
   ],
   "source": [
    "model.reactions.R_GALKr"
   ]
  },
  {
   "cell_type": "code",
   "execution_count": 146,
   "id": "f11878dc-548e-442c-8b69-e43d13064c74",
   "metadata": {},
   "outputs": [
    {
     "data": {
      "text/plain": [
       "G_WP_015926586_1"
      ]
     },
     "execution_count": 146,
     "metadata": {},
     "output_type": "execute_result"
    }
   ],
   "source": [
    "model.reactions.R_GALKr.gpr"
   ]
  },
  {
   "cell_type": "code",
   "execution_count": 144,
   "id": "6acd8adf-bd00-469a-a59e-df22607f0d64",
   "metadata": {},
   "outputs": [
    {
     "data": {
      "text/html": [
       "<div>\n",
       "<style scoped>\n",
       "    .dataframe tbody tr th:only-of-type {\n",
       "        vertical-align: middle;\n",
       "    }\n",
       "\n",
       "    .dataframe tbody tr th {\n",
       "        vertical-align: top;\n",
       "    }\n",
       "\n",
       "    .dataframe thead th {\n",
       "        text-align: right;\n",
       "    }\n",
       "</style>\n",
       "<table border=\"1\" class=\"dataframe\">\n",
       "  <thead>\n",
       "    <tr style=\"text-align: right;\">\n",
       "      <th></th>\n",
       "      <th>Entry</th>\n",
       "      <th>Entry name</th>\n",
       "      <th>Protein names</th>\n",
       "      <th>Gene names</th>\n",
       "      <th>Cross-reference (RefSeq)</th>\n",
       "    </tr>\n",
       "  </thead>\n",
       "  <tbody>\n",
       "    <tr>\n",
       "      <th>1427</th>\n",
       "      <td>B8I0X2</td>\n",
       "      <td>B8I0X2_RUMCH</td>\n",
       "      <td>Galactokinase (EC 2.7.1.6) (Galactose kinase)</td>\n",
       "      <td>galK Ccel_3238</td>\n",
       "      <td>G_WP_015926586_1</td>\n",
       "    </tr>\n",
       "  </tbody>\n",
       "</table>\n",
       "</div>"
      ],
      "text/plain": [
       "       Entry    Entry name                                  Protein names  \\\n",
       "1427  B8I0X2  B8I0X2_RUMCH  Galactokinase (EC 2.7.1.6) (Galactose kinase)   \n",
       "\n",
       "          Gene names Cross-reference (RefSeq)  \n",
       "1427  galK Ccel_3238         G_WP_015926586_1  "
      ]
     },
     "execution_count": 144,
     "metadata": {},
     "output_type": "execute_result"
    }
   ],
   "source": [
    "gene_protein_map[gene_protein_map['Cross-reference (RefSeq)']=='G_WP_015926586_1']"
   ]
  },
  {
   "cell_type": "code",
   "execution_count": 215,
   "id": "f85c2062-6b59-4380-ba15-debb0b0f6797",
   "metadata": {},
   "outputs": [
    {
     "name": "stdout",
     "output_type": "stream",
     "text": [
      "R_GALK2: M_a_gal__D_c + M_atp_c --> M_adp_c + M_gal1p_c + M_h_c\n",
      "R_GALKr: M_atp_c + M_gal_c <-> M_adp_c + M_gal1p_c + M_h_c\n"
     ]
    }
   ],
   "source": [
    "for rxn in model.gene_to_reaction_lookup()['G_WP_015926586_1']:\n",
    "    print(str(model.reactions[rxn]))#+\": \" +  str(model.reactions[rxn].gpr))"
   ]
  },
  {
   "cell_type": "markdown",
   "id": "d48cafc0-9044-4d03-911d-f5b87fef5ff4",
   "metadata": {},
   "source": [
    "### Glycolysis"
   ]
  },
  {
   "cell_type": "markdown",
   "id": "2392a9ab-dad1-4287-b103-f6aa502977bf",
   "metadata": {},
   "source": [
    "**hexokinase**"
   ]
  },
  {
   "cell_type": "code",
   "execution_count": 11,
   "id": "18a09fbd-8a85-4342-a9a8-b68daf020cb7",
   "metadata": {},
   "outputs": [
    {
     "data": {
      "text/plain": [
       "R_HEX1: M_atp_c + M_glc__D_c --> M_adp_c + M_g6p_c + M_h_c"
      ]
     },
     "execution_count": 11,
     "metadata": {},
     "output_type": "execute_result"
    }
   ],
   "source": [
    "model.reactions.R_HEX1"
   ]
  },
  {
   "cell_type": "code",
   "execution_count": 15,
   "id": "39cbf307-4dfd-460a-8420-a9aac594db19",
   "metadata": {},
   "outputs": [
    {
     "data": {
      "text/plain": [
       "{'G_WP_015924247_1',\n",
       " 'G_WP_015925130_1',\n",
       " 'G_WP_015925627_1',\n",
       " 'G_WP_015926569_1',\n",
       " 'G_WP_015926770_1'}"
      ]
     },
     "execution_count": 15,
     "metadata": {},
     "output_type": "execute_result"
    }
   ],
   "source": [
    "model.reactions.R_HEX1.gpr.get_genes()"
   ]
  },
  {
   "cell_type": "code",
   "execution_count": 171,
   "id": "89c68037-126c-4dff-94c0-07aba6f7c253",
   "metadata": {},
   "outputs": [
    {
     "data": {
      "text/html": [
       "<div>\n",
       "<style scoped>\n",
       "    .dataframe tbody tr th:only-of-type {\n",
       "        vertical-align: middle;\n",
       "    }\n",
       "\n",
       "    .dataframe tbody tr th {\n",
       "        vertical-align: top;\n",
       "    }\n",
       "\n",
       "    .dataframe thead th {\n",
       "        text-align: right;\n",
       "    }\n",
       "</style>\n",
       "<table border=\"1\" class=\"dataframe\">\n",
       "  <thead>\n",
       "    <tr style=\"text-align: right;\">\n",
       "      <th></th>\n",
       "      <th>Entry</th>\n",
       "      <th>Entry name</th>\n",
       "      <th>Protein names</th>\n",
       "      <th>Gene names</th>\n",
       "      <th>Cross-reference (RefSeq)</th>\n",
       "    </tr>\n",
       "  </thead>\n",
       "  <tbody>\n",
       "    <tr>\n",
       "      <th>1438</th>\n",
       "      <td>B8I7S2</td>\n",
       "      <td>B8I7S2_RUMCH</td>\n",
       "      <td>ROK family protein</td>\n",
       "      <td>Ccel_0700</td>\n",
       "      <td>G_WP_015924247_1</td>\n",
       "    </tr>\n",
       "  </tbody>\n",
       "</table>\n",
       "</div>"
      ],
      "text/plain": [
       "       Entry    Entry name       Protein names Gene names  \\\n",
       "1438  B8I7S2  B8I7S2_RUMCH  ROK family protein  Ccel_0700   \n",
       "\n",
       "     Cross-reference (RefSeq)  \n",
       "1438         G_WP_015924247_1  "
      ]
     },
     "execution_count": 171,
     "metadata": {},
     "output_type": "execute_result"
    }
   ],
   "source": [
    "gene_protein_map[gene_protein_map['Cross-reference (RefSeq)']=='G_WP_015924247_1']"
   ]
  },
  {
   "cell_type": "code",
   "execution_count": 206,
   "id": "8dcd8ffb-0a85-4908-a788-9319a3384c9c",
   "metadata": {},
   "outputs": [
    {
     "name": "stdout",
     "output_type": "stream",
     "text": [
      "R_GLUKA_1: M_atp_c + M_glc__aD_c --> M_adp_c + M_g6p_A_c + M_h_c\n",
      "R_HEX1: M_atp_c + M_glc__D_c --> M_adp_c + M_g6p_c + M_h_c\n"
     ]
    }
   ],
   "source": [
    "for rxn in model.gene_to_reaction_lookup()['G_WP_015924247_1']:\n",
    "    print(str(model.reactions[rxn]))#+\": \" +  str(model.reactions[rxn].gpr))"
   ]
  },
  {
   "cell_type": "code",
   "execution_count": 173,
   "id": "527094de-44ad-47e9-be75-28b1c1ad7049",
   "metadata": {},
   "outputs": [
    {
     "data": {
      "text/html": [
       "<div>\n",
       "<style scoped>\n",
       "    .dataframe tbody tr th:only-of-type {\n",
       "        vertical-align: middle;\n",
       "    }\n",
       "\n",
       "    .dataframe tbody tr th {\n",
       "        vertical-align: top;\n",
       "    }\n",
       "\n",
       "    .dataframe thead th {\n",
       "        text-align: right;\n",
       "    }\n",
       "</style>\n",
       "<table border=\"1\" class=\"dataframe\">\n",
       "  <thead>\n",
       "    <tr style=\"text-align: right;\">\n",
       "      <th></th>\n",
       "      <th>Entry</th>\n",
       "      <th>Entry name</th>\n",
       "      <th>Protein names</th>\n",
       "      <th>Gene names</th>\n",
       "      <th>Cross-reference (RefSeq)</th>\n",
       "    </tr>\n",
       "  </thead>\n",
       "  <tbody>\n",
       "    <tr>\n",
       "      <th>497</th>\n",
       "      <td>B8I2M1</td>\n",
       "      <td>B8I2M1_RUMCH</td>\n",
       "      <td>ROK family protein</td>\n",
       "      <td>Ccel_1663</td>\n",
       "      <td>G_WP_015925130_1</td>\n",
       "    </tr>\n",
       "  </tbody>\n",
       "</table>\n",
       "</div>"
      ],
      "text/plain": [
       "      Entry    Entry name       Protein names Gene names  \\\n",
       "497  B8I2M1  B8I2M1_RUMCH  ROK family protein  Ccel_1663   \n",
       "\n",
       "    Cross-reference (RefSeq)  \n",
       "497         G_WP_015925130_1  "
      ]
     },
     "execution_count": 173,
     "metadata": {},
     "output_type": "execute_result"
    }
   ],
   "source": [
    "gene_protein_map[gene_protein_map['Cross-reference (RefSeq)']=='G_WP_015925130_1']"
   ]
  },
  {
   "cell_type": "code",
   "execution_count": 207,
   "id": "97fbc535-835a-41cc-8222-75459376c65a",
   "metadata": {},
   "outputs": [
    {
     "name": "stdout",
     "output_type": "stream",
     "text": [
      "R_HEX1: M_atp_c + M_glc__D_c --> M_adp_c + M_g6p_c + M_h_c\n"
     ]
    }
   ],
   "source": [
    "for rxn in model.gene_to_reaction_lookup()['G_WP_015925130_1']:\n",
    "    print(str(model.reactions[rxn]))#+\": \" +  str(model.reactions[rxn].gpr))"
   ]
  },
  {
   "cell_type": "code",
   "execution_count": 175,
   "id": "f25d0b7e-cc6f-43f7-b1ef-73fe6786ba56",
   "metadata": {},
   "outputs": [
    {
     "data": {
      "text/html": [
       "<div>\n",
       "<style scoped>\n",
       "    .dataframe tbody tr th:only-of-type {\n",
       "        vertical-align: middle;\n",
       "    }\n",
       "\n",
       "    .dataframe tbody tr th {\n",
       "        vertical-align: top;\n",
       "    }\n",
       "\n",
       "    .dataframe thead th {\n",
       "        text-align: right;\n",
       "    }\n",
       "</style>\n",
       "<table border=\"1\" class=\"dataframe\">\n",
       "  <thead>\n",
       "    <tr style=\"text-align: right;\">\n",
       "      <th></th>\n",
       "      <th>Entry</th>\n",
       "      <th>Entry name</th>\n",
       "      <th>Protein names</th>\n",
       "      <th>Gene names</th>\n",
       "      <th>Cross-reference (RefSeq)</th>\n",
       "    </tr>\n",
       "  </thead>\n",
       "  <tbody>\n",
       "    <tr>\n",
       "      <th>2628</th>\n",
       "      <td>B8I4M8</td>\n",
       "      <td>B8I4M8_RUMCH</td>\n",
       "      <td>ROK family protein</td>\n",
       "      <td>Ccel_2190</td>\n",
       "      <td>G_WP_015925627_1</td>\n",
       "    </tr>\n",
       "  </tbody>\n",
       "</table>\n",
       "</div>"
      ],
      "text/plain": [
       "       Entry    Entry name       Protein names Gene names  \\\n",
       "2628  B8I4M8  B8I4M8_RUMCH  ROK family protein  Ccel_2190   \n",
       "\n",
       "     Cross-reference (RefSeq)  \n",
       "2628         G_WP_015925627_1  "
      ]
     },
     "execution_count": 175,
     "metadata": {},
     "output_type": "execute_result"
    }
   ],
   "source": [
    "gene_protein_map[gene_protein_map['Cross-reference (RefSeq)']=='G_WP_015925627_1']"
   ]
  },
  {
   "cell_type": "code",
   "execution_count": 208,
   "id": "ee770bd5-478b-489b-abe5-a42757c4dafb",
   "metadata": {},
   "outputs": [
    {
     "name": "stdout",
     "output_type": "stream",
     "text": [
      "R_AMANK: M_acmana_c + M_atp_c --> M_acmanap_c + M_adp_c + M_h_c\n",
      "R_HEX1: M_atp_c + M_glc__D_c --> M_adp_c + M_g6p_c + M_h_c\n"
     ]
    }
   ],
   "source": [
    "for rxn in model.gene_to_reaction_lookup()['G_WP_015925627_1']:\n",
    "    print(str(model.reactions[rxn]))#+\": \" +  str(model.reactions[rxn].gpr))"
   ]
  },
  {
   "cell_type": "code",
   "execution_count": 177,
   "id": "db2ba225-5f5d-4ac3-a2b0-4af9038de685",
   "metadata": {},
   "outputs": [
    {
     "data": {
      "text/html": [
       "<div>\n",
       "<style scoped>\n",
       "    .dataframe tbody tr th:only-of-type {\n",
       "        vertical-align: middle;\n",
       "    }\n",
       "\n",
       "    .dataframe tbody tr th {\n",
       "        vertical-align: top;\n",
       "    }\n",
       "\n",
       "    .dataframe thead th {\n",
       "        text-align: right;\n",
       "    }\n",
       "</style>\n",
       "<table border=\"1\" class=\"dataframe\">\n",
       "  <thead>\n",
       "    <tr style=\"text-align: right;\">\n",
       "      <th></th>\n",
       "      <th>Entry</th>\n",
       "      <th>Entry name</th>\n",
       "      <th>Protein names</th>\n",
       "      <th>Gene names</th>\n",
       "      <th>Cross-reference (RefSeq)</th>\n",
       "    </tr>\n",
       "  </thead>\n",
       "  <tbody>\n",
       "    <tr>\n",
       "      <th>1083</th>\n",
       "      <td>B8I0V5</td>\n",
       "      <td>B8I0V5_RUMCH</td>\n",
       "      <td>Hexokinase</td>\n",
       "      <td>Ccel_3221</td>\n",
       "      <td>G_WP_015926569_1</td>\n",
       "    </tr>\n",
       "  </tbody>\n",
       "</table>\n",
       "</div>"
      ],
      "text/plain": [
       "       Entry    Entry name Protein names Gene names Cross-reference (RefSeq)\n",
       "1083  B8I0V5  B8I0V5_RUMCH    Hexokinase  Ccel_3221         G_WP_015926569_1"
      ]
     },
     "execution_count": 177,
     "metadata": {},
     "output_type": "execute_result"
    }
   ],
   "source": [
    "gene_protein_map[gene_protein_map['Cross-reference (RefSeq)']=='G_WP_015926569_1']"
   ]
  },
  {
   "cell_type": "code",
   "execution_count": 209,
   "id": "635de655-6133-4901-9648-3650b3823042",
   "metadata": {},
   "outputs": [
    {
     "name": "stdout",
     "output_type": "stream",
     "text": [
      "R_HEX1: M_atp_c + M_glc__D_c --> M_adp_c + M_g6p_c + M_h_c\n",
      "R_HEX4: M_atp_c + M_man_c --> M_adp_c + M_h_c + M_man6p_c\n",
      "R_HEX7: M_atp_c + M_fru_c --> M_adp_c + M_f6p_c + M_h_c\n"
     ]
    }
   ],
   "source": [
    "for rxn in model.gene_to_reaction_lookup()['G_WP_015926569_1']:\n",
    "    print(str(model.reactions[rxn]))#+\": \" +  str(model.reactions[rxn].gpr))"
   ]
  },
  {
   "cell_type": "code",
   "execution_count": 179,
   "id": "e8ebe02a-447e-4d29-a47b-2df27d868e06",
   "metadata": {},
   "outputs": [
    {
     "data": {
      "text/html": [
       "<div>\n",
       "<style scoped>\n",
       "    .dataframe tbody tr th:only-of-type {\n",
       "        vertical-align: middle;\n",
       "    }\n",
       "\n",
       "    .dataframe tbody tr th {\n",
       "        vertical-align: top;\n",
       "    }\n",
       "\n",
       "    .dataframe thead th {\n",
       "        text-align: right;\n",
       "    }\n",
       "</style>\n",
       "<table border=\"1\" class=\"dataframe\">\n",
       "  <thead>\n",
       "    <tr style=\"text-align: right;\">\n",
       "      <th></th>\n",
       "      <th>Entry</th>\n",
       "      <th>Entry name</th>\n",
       "      <th>Protein names</th>\n",
       "      <th>Gene names</th>\n",
       "      <th>Cross-reference (RefSeq)</th>\n",
       "    </tr>\n",
       "  </thead>\n",
       "  <tbody>\n",
       "    <tr>\n",
       "      <th>259</th>\n",
       "      <td>B8I1T3</td>\n",
       "      <td>B8I1T3_RUMCH</td>\n",
       "      <td>ROK family protein</td>\n",
       "      <td>Ccel_3430</td>\n",
       "      <td>G_WP_015926770_1</td>\n",
       "    </tr>\n",
       "  </tbody>\n",
       "</table>\n",
       "</div>"
      ],
      "text/plain": [
       "      Entry    Entry name       Protein names Gene names  \\\n",
       "259  B8I1T3  B8I1T3_RUMCH  ROK family protein  Ccel_3430   \n",
       "\n",
       "    Cross-reference (RefSeq)  \n",
       "259         G_WP_015926770_1  "
      ]
     },
     "execution_count": 179,
     "metadata": {},
     "output_type": "execute_result"
    }
   ],
   "source": [
    "gene_protein_map[gene_protein_map['Cross-reference (RefSeq)']=='G_WP_015926770_1']"
   ]
  },
  {
   "cell_type": "code",
   "execution_count": 180,
   "id": "cdfde99f-982f-4c87-95ae-011bc1fac967",
   "metadata": {},
   "outputs": [
    {
     "name": "stdout",
     "output_type": "stream",
     "text": [
      "R_HEX1: M_atp_c + M_glc__D_c --> M_adp_c + M_g6p_c + M_h_c: (G_WP_015924247_1 or G_WP_015925130_1 or G_WP_015925627_1 or G_WP_015926569_1 or G_WP_015926770_1)\n"
     ]
    }
   ],
   "source": [
    "for rxn in model.gene_to_reaction_lookup()['G_WP_015926770_1']:\n",
    "    print(str(model.reactions[rxn])+\": \" +  str(model.reactions[rxn].gpr))"
   ]
  },
  {
   "cell_type": "code",
   "execution_count": 72,
   "id": "735f2ac1-700e-4c5e-b73e-3ce564460cb4",
   "metadata": {},
   "outputs": [
    {
     "data": {
      "text/plain": [
       "R_GLUKA_1: M_atp_c + M_glc__aD_c --> M_adp_c + M_g6p_A_c + M_h_c"
      ]
     },
     "execution_count": 72,
     "metadata": {},
     "output_type": "execute_result"
    }
   ],
   "source": [
    "model.reactions.R_GLUKA_1"
   ]
  },
  {
   "cell_type": "code",
   "execution_count": 75,
   "id": "cae3ad0a-5767-482e-ba22-0e19cb14c830",
   "metadata": {},
   "outputs": [
    {
     "data": {
      "text/plain": [
       "G_WP_015924247_1"
      ]
     },
     "execution_count": 75,
     "metadata": {},
     "output_type": "execute_result"
    }
   ],
   "source": [
    "model.reactions.R_GLUKA_1.gpr"
   ]
  },
  {
   "cell_type": "markdown",
   "id": "794c9e0b-af94-4eed-bd1f-3f671a3fa9e1",
   "metadata": {},
   "source": [
    "**Phosphoglucomutase**"
   ]
  },
  {
   "cell_type": "code",
   "execution_count": 151,
   "id": "1703bd8e-27bb-46f2-9896-e99c377a3133",
   "metadata": {},
   "outputs": [
    {
     "data": {
      "text/plain": [
       "R_PGMT: M_g1p_c <-> M_g6p_c"
      ]
     },
     "execution_count": 151,
     "metadata": {},
     "output_type": "execute_result"
    }
   ],
   "source": [
    "model.reactions.R_PGMT"
   ]
  },
  {
   "cell_type": "code",
   "execution_count": 152,
   "id": "009c687f-505c-4b50-b527-02669338ef63",
   "metadata": {},
   "outputs": [
    {
     "data": {
      "text/plain": [
       "G_WP_015925690_1"
      ]
     },
     "execution_count": 152,
     "metadata": {},
     "output_type": "execute_result"
    }
   ],
   "source": [
    "model.reactions.R_PGMT.gpr"
   ]
  },
  {
   "cell_type": "code",
   "execution_count": 35,
   "id": "83602e52-67a2-4f93-9cdd-329912a46417",
   "metadata": {},
   "outputs": [
    {
     "data": {
      "text/html": [
       "<div>\n",
       "<style scoped>\n",
       "    .dataframe tbody tr th:only-of-type {\n",
       "        vertical-align: middle;\n",
       "    }\n",
       "\n",
       "    .dataframe tbody tr th {\n",
       "        vertical-align: top;\n",
       "    }\n",
       "\n",
       "    .dataframe thead th {\n",
       "        text-align: right;\n",
       "    }\n",
       "</style>\n",
       "<table border=\"1\" class=\"dataframe\">\n",
       "  <thead>\n",
       "    <tr style=\"text-align: right;\">\n",
       "      <th></th>\n",
       "      <th>Entry</th>\n",
       "      <th>Entry name</th>\n",
       "      <th>Protein names</th>\n",
       "      <th>Gene names</th>\n",
       "      <th>Cross-reference (RefSeq)</th>\n",
       "    </tr>\n",
       "  </thead>\n",
       "  <tbody>\n",
       "    <tr>\n",
       "      <th>2232</th>\n",
       "      <td>B8I4U4</td>\n",
       "      <td>B8I4U4_RUMCH</td>\n",
       "      <td>2,3-bisphosphoglycerate-independent phosphogly...</td>\n",
       "      <td>gpmI Ccel_2259</td>\n",
       "      <td>G_WP_015925690_1</td>\n",
       "    </tr>\n",
       "  </tbody>\n",
       "</table>\n",
       "</div>"
      ],
      "text/plain": [
       "       Entry    Entry name                                      Protein names  \\\n",
       "2232  B8I4U4  B8I4U4_RUMCH  2,3-bisphosphoglycerate-independent phosphogly...   \n",
       "\n",
       "          Gene names Cross-reference (RefSeq)  \n",
       "2232  gpmI Ccel_2259         G_WP_015925690_1  "
      ]
     },
     "execution_count": 35,
     "metadata": {},
     "output_type": "execute_result"
    }
   ],
   "source": [
    "gene_protein_map[gene_protein_map['Cross-reference (RefSeq)']=='G_WP_015925690_1']"
   ]
  },
  {
   "cell_type": "code",
   "execution_count": 31,
   "id": "b04c12a9-17dd-4970-a50f-e39bbba2d807",
   "metadata": {},
   "outputs": [
    {
     "data": {
      "text/plain": [
       "array(['2,3-bisphosphoglycerate-independent phosphoglycerate mutase (BPG-independent PGAM) (Phosphoglyceromutase) (iPGM) (EC 5.4.2.12)'],\n",
       "      dtype=object)"
      ]
     },
     "execution_count": 31,
     "metadata": {},
     "output_type": "execute_result"
    }
   ],
   "source": [
    "gene_protein_map[gene_protein_map['Cross-reference (RefSeq)']=='G_WP_015925690_1']['Protein names'].values"
   ]
  },
  {
   "cell_type": "markdown",
   "id": "68b526a9-36c1-4205-b352-975674618340",
   "metadata": {},
   "source": [
    "**Glucose-6-phosphate isomerase**"
   ]
  },
  {
   "cell_type": "code",
   "execution_count": 32,
   "id": "223b0b2a-c02e-43d5-b43a-6f7a50103d75",
   "metadata": {},
   "outputs": [
    {
     "data": {
      "text/plain": [
       "R_PGI: M_g6p_c <-> M_f6p_c"
      ]
     },
     "execution_count": 32,
     "metadata": {},
     "output_type": "execute_result"
    }
   ],
   "source": [
    "model.reactions.R_PGI"
   ]
  },
  {
   "cell_type": "code",
   "execution_count": 34,
   "id": "85413c4b-96db-47b3-9723-b42c7472bd5a",
   "metadata": {},
   "outputs": [
    {
     "data": {
      "text/plain": [
       "G_WP_015924943_1"
      ]
     },
     "execution_count": 34,
     "metadata": {},
     "output_type": "execute_result"
    }
   ],
   "source": [
    "model.reactions.R_PGI.gpr"
   ]
  },
  {
   "cell_type": "code",
   "execution_count": 36,
   "id": "c6a39aee-2226-4cdf-b2d4-2f89c1bd4f95",
   "metadata": {},
   "outputs": [
    {
     "data": {
      "text/html": [
       "<div>\n",
       "<style scoped>\n",
       "    .dataframe tbody tr th:only-of-type {\n",
       "        vertical-align: middle;\n",
       "    }\n",
       "\n",
       "    .dataframe tbody tr th {\n",
       "        vertical-align: top;\n",
       "    }\n",
       "\n",
       "    .dataframe thead th {\n",
       "        text-align: right;\n",
       "    }\n",
       "</style>\n",
       "<table border=\"1\" class=\"dataframe\">\n",
       "  <thead>\n",
       "    <tr style=\"text-align: right;\">\n",
       "      <th></th>\n",
       "      <th>Entry</th>\n",
       "      <th>Entry name</th>\n",
       "      <th>Protein names</th>\n",
       "      <th>Gene names</th>\n",
       "      <th>Cross-reference (RefSeq)</th>\n",
       "    </tr>\n",
       "  </thead>\n",
       "  <tbody>\n",
       "    <tr>\n",
       "      <th>2830</th>\n",
       "      <td>B8I1X3</td>\n",
       "      <td>B8I1X3_RUMCH</td>\n",
       "      <td>Glucose-6-phosphate isomerase (GPI) (EC 5.3.1....</td>\n",
       "      <td>pgi Ccel_1445</td>\n",
       "      <td>G_WP_015924943_1</td>\n",
       "    </tr>\n",
       "  </tbody>\n",
       "</table>\n",
       "</div>"
      ],
      "text/plain": [
       "       Entry    Entry name                                      Protein names  \\\n",
       "2830  B8I1X3  B8I1X3_RUMCH  Glucose-6-phosphate isomerase (GPI) (EC 5.3.1....   \n",
       "\n",
       "         Gene names Cross-reference (RefSeq)  \n",
       "2830  pgi Ccel_1445         G_WP_015924943_1  "
      ]
     },
     "execution_count": 36,
     "metadata": {},
     "output_type": "execute_result"
    }
   ],
   "source": [
    "gene_protein_map[gene_protein_map['Cross-reference (RefSeq)']=='G_WP_015924943_1']"
   ]
  },
  {
   "cell_type": "code",
   "execution_count": 77,
   "id": "a6b10cad-0eda-438c-a9a2-f58f3cb1def9",
   "metadata": {},
   "outputs": [
    {
     "data": {
      "text/plain": [
       "G_WP_015924943_1"
      ]
     },
     "execution_count": 77,
     "metadata": {},
     "output_type": "execute_result"
    }
   ],
   "source": [
    "model.reactions.R_G6PI.gpr"
   ]
  },
  {
   "cell_type": "markdown",
   "id": "b1107960-abf9-4b2c-bdce-f46cbb61c977",
   "metadata": {},
   "source": [
    "**Phosphofructokinase**"
   ]
  },
  {
   "cell_type": "code",
   "execution_count": 68,
   "id": "66f8b229-a4e9-46b0-afdc-ae6f34232633",
   "metadata": {},
   "outputs": [
    {
     "data": {
      "text/plain": [
       "R_PFK: M_atp_c + M_f6p_c --> M_adp_c + M_fdp_c + M_h_c"
      ]
     },
     "execution_count": 68,
     "metadata": {},
     "output_type": "execute_result"
    }
   ],
   "source": [
    "model.reactions.R_PFK"
   ]
  },
  {
   "cell_type": "code",
   "execution_count": 69,
   "id": "b7f560f5-2d18-41e3-afbc-38d77c7b045a",
   "metadata": {},
   "outputs": [
    {
     "data": {
      "text/plain": [
       "(G_WP_015925658_1 or G_WP_015926027_1)"
      ]
     },
     "execution_count": 69,
     "metadata": {},
     "output_type": "execute_result"
    }
   ],
   "source": [
    "model.reactions.R_PFK.gpr"
   ]
  },
  {
   "cell_type": "code",
   "execution_count": 91,
   "id": "7c07b094-a7b8-4a25-b780-b094c94d43f6",
   "metadata": {},
   "outputs": [
    {
     "data": {
      "text/html": [
       "<div>\n",
       "<style scoped>\n",
       "    .dataframe tbody tr th:only-of-type {\n",
       "        vertical-align: middle;\n",
       "    }\n",
       "\n",
       "    .dataframe tbody tr th {\n",
       "        vertical-align: top;\n",
       "    }\n",
       "\n",
       "    .dataframe thead th {\n",
       "        text-align: right;\n",
       "    }\n",
       "</style>\n",
       "<table border=\"1\" class=\"dataframe\">\n",
       "  <thead>\n",
       "    <tr style=\"text-align: right;\">\n",
       "      <th></th>\n",
       "      <th>Entry</th>\n",
       "      <th>Entry name</th>\n",
       "      <th>Protein names</th>\n",
       "      <th>Gene names</th>\n",
       "      <th>Cross-reference (RefSeq)</th>\n",
       "    </tr>\n",
       "  </thead>\n",
       "  <tbody>\n",
       "    <tr>\n",
       "      <th>2707</th>\n",
       "      <td>B8I4R1</td>\n",
       "      <td>B8I4R1_RUMCH</td>\n",
       "      <td>Pyrophosphate--fructose 6-phosphate 1-phosphot...</td>\n",
       "      <td>pfp Ccel_2223</td>\n",
       "      <td>G_WP_015925658_1</td>\n",
       "    </tr>\n",
       "  </tbody>\n",
       "</table>\n",
       "</div>"
      ],
      "text/plain": [
       "       Entry    Entry name                                      Protein names  \\\n",
       "2707  B8I4R1  B8I4R1_RUMCH  Pyrophosphate--fructose 6-phosphate 1-phosphot...   \n",
       "\n",
       "         Gene names Cross-reference (RefSeq)  \n",
       "2707  pfp Ccel_2223         G_WP_015925658_1  "
      ]
     },
     "execution_count": 91,
     "metadata": {},
     "output_type": "execute_result"
    }
   ],
   "source": [
    "gene_protein_map[gene_protein_map['Cross-reference (RefSeq)']=='G_WP_015925658_1']"
   ]
  },
  {
   "cell_type": "code",
   "execution_count": 92,
   "id": "ed2cbd6e-7c80-4c2e-a06c-7347cb1210c1",
   "metadata": {},
   "outputs": [
    {
     "data": {
      "text/html": [
       "<div>\n",
       "<style scoped>\n",
       "    .dataframe tbody tr th:only-of-type {\n",
       "        vertical-align: middle;\n",
       "    }\n",
       "\n",
       "    .dataframe tbody tr th {\n",
       "        vertical-align: top;\n",
       "    }\n",
       "\n",
       "    .dataframe thead th {\n",
       "        text-align: right;\n",
       "    }\n",
       "</style>\n",
       "<table border=\"1\" class=\"dataframe\">\n",
       "  <thead>\n",
       "    <tr style=\"text-align: right;\">\n",
       "      <th></th>\n",
       "      <th>Entry</th>\n",
       "      <th>Entry name</th>\n",
       "      <th>Protein names</th>\n",
       "      <th>Gene names</th>\n",
       "      <th>Cross-reference (RefSeq)</th>\n",
       "    </tr>\n",
       "  </thead>\n",
       "  <tbody>\n",
       "    <tr>\n",
       "      <th>822</th>\n",
       "      <td>B8I6U8</td>\n",
       "      <td>B8I6U8_RUMCH</td>\n",
       "      <td>ATP-dependent 6-phosphofructokinase (ATP-PFK) ...</td>\n",
       "      <td>pfkA Ccel_2612</td>\n",
       "      <td>G_WP_015926027_1</td>\n",
       "    </tr>\n",
       "  </tbody>\n",
       "</table>\n",
       "</div>"
      ],
      "text/plain": [
       "      Entry    Entry name                                      Protein names  \\\n",
       "822  B8I6U8  B8I6U8_RUMCH  ATP-dependent 6-phosphofructokinase (ATP-PFK) ...   \n",
       "\n",
       "         Gene names Cross-reference (RefSeq)  \n",
       "822  pfkA Ccel_2612         G_WP_015926027_1  "
      ]
     },
     "execution_count": 92,
     "metadata": {},
     "output_type": "execute_result"
    }
   ],
   "source": [
    "gene_protein_map[gene_protein_map['Cross-reference (RefSeq)']=='G_WP_015926027_1']"
   ]
  },
  {
   "cell_type": "code",
   "execution_count": 216,
   "id": "b2b816bd-3f49-4d1a-96be-80d3a8184134",
   "metadata": {},
   "outputs": [
    {
     "name": "stdout",
     "output_type": "stream",
     "text": [
      "R_CD6P: M_ctp_c + M_f6p_c --> M_cdp_c + M_fdp_c + M_h_c: (G_WP_015925658_1 or G_WP_015926027_1)\n",
      "R_CT6PT: M_ctp_c + M_tag6p__D_c --> M_cdp_c + M_h_c + M_tagdp__D_c: (G_WP_015925658_1 or G_WP_015926027_1)\n",
      "R_ID6P: M_f6p_c + M_itp_c --> M_fdp_c + M_h_c + M_idp_c: (G_WP_015925658_1 or G_WP_015926027_1)\n",
      "R_PFK: M_atp_c + M_f6p_c --> M_adp_c + M_fdp_c + M_h_c: (G_WP_015925658_1 or G_WP_015926027_1)\n",
      "R_PFK_3: M_atp_c + M_s7p_c --> M_adp_c + M_h_c + M_s17bp_c: (G_WP_015925658_1 or G_WP_015926027_1)\n",
      "R_UT6PT: M_tag6p__D_c + M_utp_c --> M_h_c + M_tagdp__D_c + M_udp_c: (G_WP_015925658_1 or G_WP_015926027_1)\n",
      "R_r0191: M_f6p_c + M_utp_c --> M_fdp_c + M_h_c + M_udp_c: (G_WP_015925658_1 or G_WP_015926027_1)\n"
     ]
    }
   ],
   "source": [
    "for rxn in model.gene_to_reaction_lookup()['G_WP_015925658_1']:\n",
    "    print(str(model.reactions[rxn]) +\": \" +  str(model.reactions[rxn].gpr))"
   ]
  },
  {
   "cell_type": "code",
   "execution_count": 210,
   "id": "3eef4864-a100-4ac4-b186-1dd58baecdbc",
   "metadata": {},
   "outputs": [
    {
     "name": "stdout",
     "output_type": "stream",
     "text": [
      "R_CD6P: M_ctp_c + M_f6p_c --> M_cdp_c + M_fdp_c + M_h_c\n",
      "R_CT6PT: M_ctp_c + M_tag6p__D_c --> M_cdp_c + M_h_c + M_tagdp__D_c\n",
      "R_ID6P: M_f6p_c + M_itp_c --> M_fdp_c + M_h_c + M_idp_c\n",
      "R_PFK: M_atp_c + M_f6p_c --> M_adp_c + M_fdp_c + M_h_c\n",
      "R_PFK_2: M_atp_c + M_tag6p__D_c --> M_adp_c + M_h_c + M_tagdp__D_c\n",
      "R_PFK_3: M_atp_c + M_s7p_c --> M_adp_c + M_h_c + M_s17bp_c\n",
      "R_UT6PT: M_tag6p__D_c + M_utp_c --> M_h_c + M_tagdp__D_c + M_udp_c\n",
      "R_r0191: M_f6p_c + M_utp_c --> M_fdp_c + M_h_c + M_udp_c\n"
     ]
    }
   ],
   "source": [
    "for rxn in model.gene_to_reaction_lookup()['G_WP_015926027_1']:\n",
    "    print(str(model.reactions[rxn]))#+\": \" +  str(model.reactions[rxn].gpr))"
   ]
  },
  {
   "cell_type": "markdown",
   "id": "285945de-ddab-4bcf-924c-5aa64db3e77e",
   "metadata": {},
   "source": [
    "**Fructose-bisphosphate aldolase**"
   ]
  },
  {
   "cell_type": "code",
   "execution_count": 44,
   "id": "ed87a9a4-bb47-4fdd-bcd0-c0a704557169",
   "metadata": {},
   "outputs": [
    {
     "data": {
      "text/plain": [
       "R_FBA: M_fdp_c <-> M_dhap_c + M_g3p_c"
      ]
     },
     "execution_count": 44,
     "metadata": {},
     "output_type": "execute_result"
    }
   ],
   "source": [
    "model.reactions.R_FBA"
   ]
  },
  {
   "cell_type": "code",
   "execution_count": 46,
   "id": "624e8d97-2312-452d-a6b0-4e5889d940ac",
   "metadata": {},
   "outputs": [
    {
     "data": {
      "text/plain": [
       "(G_WP_015925657_1 or G_WP_015925795_1)"
      ]
     },
     "execution_count": 46,
     "metadata": {},
     "output_type": "execute_result"
    }
   ],
   "source": [
    "model.reactions.R_FBA.gpr"
   ]
  },
  {
   "cell_type": "code",
   "execution_count": 47,
   "id": "2bf48204-e1b4-4a70-89aa-2ee8e04c2a14",
   "metadata": {},
   "outputs": [
    {
     "data": {
      "text/html": [
       "<div>\n",
       "<style scoped>\n",
       "    .dataframe tbody tr th:only-of-type {\n",
       "        vertical-align: middle;\n",
       "    }\n",
       "\n",
       "    .dataframe tbody tr th {\n",
       "        vertical-align: top;\n",
       "    }\n",
       "\n",
       "    .dataframe thead th {\n",
       "        text-align: right;\n",
       "    }\n",
       "</style>\n",
       "<table border=\"1\" class=\"dataframe\">\n",
       "  <thead>\n",
       "    <tr style=\"text-align: right;\">\n",
       "      <th></th>\n",
       "      <th>Entry</th>\n",
       "      <th>Entry name</th>\n",
       "      <th>Protein names</th>\n",
       "      <th>Gene names</th>\n",
       "      <th>Cross-reference (RefSeq)</th>\n",
       "    </tr>\n",
       "  </thead>\n",
       "  <tbody>\n",
       "    <tr>\n",
       "      <th>467</th>\n",
       "      <td>B8I4R0</td>\n",
       "      <td>B8I4R0_RUMCH</td>\n",
       "      <td>Fructose-1,6-bisphosphate aldolase, class II</td>\n",
       "      <td>Ccel_2222</td>\n",
       "      <td>G_WP_015925657_1</td>\n",
       "    </tr>\n",
       "  </tbody>\n",
       "</table>\n",
       "</div>"
      ],
      "text/plain": [
       "      Entry    Entry name                                 Protein names  \\\n",
       "467  B8I4R0  B8I4R0_RUMCH  Fructose-1,6-bisphosphate aldolase, class II   \n",
       "\n",
       "    Gene names Cross-reference (RefSeq)  \n",
       "467  Ccel_2222         G_WP_015925657_1  "
      ]
     },
     "execution_count": 47,
     "metadata": {},
     "output_type": "execute_result"
    }
   ],
   "source": [
    "gene_protein_map[gene_protein_map['Cross-reference (RefSeq)']=='G_WP_015925657_1']"
   ]
  },
  {
   "cell_type": "code",
   "execution_count": 49,
   "id": "a81e2f48-643d-4f1a-9758-1a1a37e51ce9",
   "metadata": {},
   "outputs": [
    {
     "data": {
      "text/plain": [
       "array(['Deoxyribose-phosphate aldolase/phospho-2-dehydro-3-deoxyheptonate aldolase'],\n",
       "      dtype=object)"
      ]
     },
     "execution_count": 49,
     "metadata": {},
     "output_type": "execute_result"
    }
   ],
   "source": [
    "gene_protein_map[gene_protein_map['Cross-reference (RefSeq)']=='G_WP_015925795_1']['Protein names'].values"
   ]
  },
  {
   "cell_type": "code",
   "execution_count": 86,
   "id": "50ff9005-037c-4c04-b4b3-24bdd8c45f66",
   "metadata": {},
   "outputs": [
    {
     "name": "stdout",
     "output_type": "stream",
     "text": [
      "R_FBA: M_fdp_c <-> M_dhap_c + M_g3p_c: (G_WP_015925657_1 or G_WP_015925795_1)\n",
      "R_FBA2: M_f1p_c <-> M_dhap_c + M_glyald_c: (G_WP_015925657_1 or G_WP_015925795_1)\n",
      "R_FBA3: M_s17bp_c <-> M_dhap_c + M_e4p_c: G_WP_015925657_1\n"
     ]
    }
   ],
   "source": [
    "for rxn in model.gene_to_reaction_lookup()['G_WP_015925657_1']:\n",
    "    print(str(model.reactions[rxn])+\": \" +  str(model.reactions[rxn].gpr))"
   ]
  },
  {
   "cell_type": "markdown",
   "id": "eff6e288-aa03-4466-b428-7d38315d794e",
   "metadata": {},
   "source": [
    "**Glyceraldehyde-3-phosphate dehydrogenase**"
   ]
  },
  {
   "cell_type": "code",
   "execution_count": 59,
   "id": "9af3a432-f6a3-451a-9e28-e33c4934e10b",
   "metadata": {},
   "outputs": [
    {
     "data": {
      "text/plain": [
       "R_GAPD: M_g3p_c + M_nad_c + M_pi_c <-> M_13dpg_c + M_h_c + M_nadh_c"
      ]
     },
     "execution_count": 59,
     "metadata": {},
     "output_type": "execute_result"
    }
   ],
   "source": [
    "model.reactions.R_GAPD"
   ]
  },
  {
   "cell_type": "code",
   "execution_count": 61,
   "id": "d134cea9-2724-4278-8728-ce2b21eb1683",
   "metadata": {},
   "outputs": [
    {
     "data": {
      "text/plain": [
       "G_WP_015925704_1"
      ]
     },
     "execution_count": 61,
     "metadata": {},
     "output_type": "execute_result"
    }
   ],
   "source": [
    "model.reactions.R_GAPD.gpr"
   ]
  },
  {
   "cell_type": "code",
   "execution_count": 62,
   "id": "a50102ad-a1b1-43b0-aa10-c053db0ccb71",
   "metadata": {},
   "outputs": [
    {
     "data": {
      "text/html": [
       "<div>\n",
       "<style scoped>\n",
       "    .dataframe tbody tr th:only-of-type {\n",
       "        vertical-align: middle;\n",
       "    }\n",
       "\n",
       "    .dataframe tbody tr th {\n",
       "        vertical-align: top;\n",
       "    }\n",
       "\n",
       "    .dataframe thead th {\n",
       "        text-align: right;\n",
       "    }\n",
       "</style>\n",
       "<table border=\"1\" class=\"dataframe\">\n",
       "  <thead>\n",
       "    <tr style=\"text-align: right;\">\n",
       "      <th></th>\n",
       "      <th>Entry</th>\n",
       "      <th>Entry name</th>\n",
       "      <th>Protein names</th>\n",
       "      <th>Gene names</th>\n",
       "      <th>Cross-reference (RefSeq)</th>\n",
       "    </tr>\n",
       "  </thead>\n",
       "  <tbody>\n",
       "    <tr>\n",
       "      <th>1198</th>\n",
       "      <td>B8I4V8</td>\n",
       "      <td>B8I4V8_RUMCH</td>\n",
       "      <td>Glyceraldehyde-3-phosphate dehydrogenase (EC 1...</td>\n",
       "      <td>Ccel_2275</td>\n",
       "      <td>G_WP_015925704_1</td>\n",
       "    </tr>\n",
       "  </tbody>\n",
       "</table>\n",
       "</div>"
      ],
      "text/plain": [
       "       Entry    Entry name                                      Protein names  \\\n",
       "1198  B8I4V8  B8I4V8_RUMCH  Glyceraldehyde-3-phosphate dehydrogenase (EC 1...   \n",
       "\n",
       "     Gene names Cross-reference (RefSeq)  \n",
       "1198  Ccel_2275         G_WP_015925704_1  "
      ]
     },
     "execution_count": 62,
     "metadata": {},
     "output_type": "execute_result"
    }
   ],
   "source": [
    "gene_protein_map[gene_protein_map['Cross-reference (RefSeq)']=='G_WP_015925704_1']"
   ]
  },
  {
   "cell_type": "code",
   "execution_count": 85,
   "id": "1bf59b2d-eaef-482c-b30b-ff5baf06cb0f",
   "metadata": {},
   "outputs": [
    {
     "name": "stdout",
     "output_type": "stream",
     "text": [
      "R_E4PD: M_e4p_c + M_h2o_c + M_nad_c <-> M_4per_c + 2.0 M_h_c + M_nadh_c: G_WP_015925704_1\n",
      "R_GAPD: M_g3p_c + M_nad_c + M_pi_c <-> M_13dpg_c + M_h_c + M_nadh_c: G_WP_015925704_1\n",
      "R_NADHHR: M_h2o_c + M_nadh_c --> M_nadhx__R_c: (G_WP_015925704_1 or G_spontaneous)\n",
      "R_NADHHS: M_h2o_c + M_nadh_c --> M_nadhx__S_c: (G_WP_015925704_1 or G_spontaneous)\n",
      "R_NADPHHR: M_h2o_c + M_nadph_c --> M_nadphx__R_c: (G_WP_015925704_1 or G_spontaneous)\n",
      "R_NADPHHS: M_h2o_c + M_nadph_c --> M_nadphx__S_c: (G_WP_015925704_1 or G_spontaneous)\n"
     ]
    }
   ],
   "source": [
    "for rxn in model.gene_to_reaction_lookup()['G_WP_015925704_1']:\n",
    "    print(str(model.reactions[rxn])+\": \" +  str(model.reactions[rxn].gpr))"
   ]
  },
  {
   "cell_type": "markdown",
   "id": "28a095fa-f0e1-49cc-a935-084304933f2c",
   "metadata": {},
   "source": [
    "**Phosphoglycerate kinase**"
   ]
  },
  {
   "cell_type": "code",
   "execution_count": 63,
   "id": "f1036395-3f10-4278-8fd2-15723ea3d5bb",
   "metadata": {},
   "outputs": [
    {
     "data": {
      "text/plain": [
       "R_PGK: M_3pg_c + M_atp_c <-> M_13dpg_c + M_adp_c"
      ]
     },
     "execution_count": 63,
     "metadata": {},
     "output_type": "execute_result"
    }
   ],
   "source": [
    "model.reactions.R_PGK"
   ]
  },
  {
   "cell_type": "code",
   "execution_count": 65,
   "id": "784d7e5c-c072-41cc-9c7b-de3d18292067",
   "metadata": {},
   "outputs": [
    {
     "data": {
      "text/plain": [
       "G_WP_041706988_1"
      ]
     },
     "execution_count": 65,
     "metadata": {},
     "output_type": "execute_result"
    }
   ],
   "source": [
    "model.reactions.R_PGK.gpr"
   ]
  },
  {
   "cell_type": "code",
   "execution_count": 66,
   "id": "eddecc45-54f9-48f1-a788-71a76811632b",
   "metadata": {},
   "outputs": [
    {
     "data": {
      "text/html": [
       "<div>\n",
       "<style scoped>\n",
       "    .dataframe tbody tr th:only-of-type {\n",
       "        vertical-align: middle;\n",
       "    }\n",
       "\n",
       "    .dataframe tbody tr th {\n",
       "        vertical-align: top;\n",
       "    }\n",
       "\n",
       "    .dataframe thead th {\n",
       "        text-align: right;\n",
       "    }\n",
       "</style>\n",
       "<table border=\"1\" class=\"dataframe\">\n",
       "  <thead>\n",
       "    <tr style=\"text-align: right;\">\n",
       "      <th></th>\n",
       "      <th>Entry</th>\n",
       "      <th>Entry name</th>\n",
       "      <th>Protein names</th>\n",
       "      <th>Gene names</th>\n",
       "      <th>Cross-reference (RefSeq)</th>\n",
       "    </tr>\n",
       "  </thead>\n",
       "  <tbody>\n",
       "  </tbody>\n",
       "</table>\n",
       "</div>"
      ],
      "text/plain": [
       "Empty DataFrame\n",
       "Columns: [Entry, Entry name, Protein names, Gene names, Cross-reference (RefSeq)]\n",
       "Index: []"
      ]
     },
     "execution_count": 66,
     "metadata": {},
     "output_type": "execute_result"
    }
   ],
   "source": [
    "gene_protein_map[gene_protein_map['Cross-reference (RefSeq)']=='G_WP_041706988_1']"
   ]
  },
  {
   "cell_type": "markdown",
   "id": "4eee441d-574e-4375-9c41-f17cab69e73e",
   "metadata": {},
   "source": [
    "**Phosphoglycerate mutase**"
   ]
  },
  {
   "cell_type": "code",
   "execution_count": 155,
   "id": "ce85fd2b-3d67-4dcc-8af7-c3996c812331",
   "metadata": {},
   "outputs": [
    {
     "data": {
      "text/plain": [
       "R_PGM: M_2pg_c <-> M_3pg_c"
      ]
     },
     "execution_count": 155,
     "metadata": {},
     "output_type": "execute_result"
    }
   ],
   "source": [
    "model.reactions.R_PGM"
   ]
  },
  {
   "cell_type": "markdown",
   "id": "6334d91b-cb84-4552-89bb-7aee35dbe7ac",
   "metadata": {},
   "source": [
    "**Enolase**"
   ]
  },
  {
   "cell_type": "code",
   "execution_count": 158,
   "id": "f6de8814-d36c-4189-85a8-7e47a3937c1b",
   "metadata": {},
   "outputs": [
    {
     "data": {
      "text/plain": [
       "R_ENO: M_2pg_c <-> M_h2o_c + M_pep_c"
      ]
     },
     "execution_count": 158,
     "metadata": {},
     "output_type": "execute_result"
    }
   ],
   "source": [
    "model.reactions.R_ENO"
   ]
  },
  {
   "cell_type": "markdown",
   "id": "138aca92-2fe1-480d-8f20-c224628d752b",
   "metadata": {},
   "source": [
    "**Pyruvate kinase**"
   ]
  },
  {
   "cell_type": "code",
   "execution_count": 162,
   "id": "72f31bdd-1051-4967-94e5-14b914de9553",
   "metadata": {},
   "outputs": [
    {
     "data": {
      "text/plain": [
       "R_PYK: M_adp_c + M_h_c + M_pep_c --> M_atp_c + M_pyr_c"
      ]
     },
     "execution_count": 162,
     "metadata": {},
     "output_type": "execute_result"
    }
   ],
   "source": [
    "model.reactions.R_PYK"
   ]
  },
  {
   "cell_type": "markdown",
   "id": "0c68539b-6b5f-40b9-97ce-22d4f518a859",
   "metadata": {},
   "source": [
    "**Pyruvate-ferredoxin oxidoreductase**"
   ]
  },
  {
   "cell_type": "code",
   "execution_count": 167,
   "id": "a8f0084e-1d47-4178-9173-39bf2dac0755",
   "metadata": {},
   "outputs": [
    {
     "data": {
      "text/plain": [
       "'Pyruvate-ferredoxin oxidoreductase'"
      ]
     },
     "execution_count": 167,
     "metadata": {},
     "output_type": "execute_result"
    }
   ],
   "source": [
    "model.reactions.R_POR_syn.name"
   ]
  },
  {
   "cell_type": "markdown",
   "id": "e0b92487-f154-455a-bf8c-907bae53e5be",
   "metadata": {},
   "source": [
    "**Phosphoglycerate mutase**"
   ]
  },
  {
   "cell_type": "code",
   "execution_count": 89,
   "id": "04ada319-467b-493d-8326-ea4ee4978963",
   "metadata": {},
   "outputs": [
    {
     "data": {
      "text/plain": [
       "R_PGM: M_2pg_c <-> M_3pg_c"
      ]
     },
     "execution_count": 89,
     "metadata": {},
     "output_type": "execute_result"
    }
   ],
   "source": [
    "model.reactions.R_PGM"
   ]
  },
  {
   "cell_type": "code",
   "execution_count": 102,
   "id": "cd7d2412-f33b-4f13-88fb-3920ff82cd4a",
   "metadata": {},
   "outputs": [
    {
     "data": {
      "text/plain": [
       "{'G_WP_012634628_1',\n",
       " 'G_WP_015924169_1',\n",
       " 'G_WP_015925582_1',\n",
       " 'G_WP_015925690_1'}"
      ]
     },
     "execution_count": 102,
     "metadata": {},
     "output_type": "execute_result"
    }
   ],
   "source": [
    "model.reactions.R_PGM.gpr.get_genes()"
   ]
  },
  {
   "cell_type": "code",
   "execution_count": 93,
   "id": "5c6b8769-826a-4996-af4f-59a2a7f42e12",
   "metadata": {},
   "outputs": [
    {
     "data": {
      "text/html": [
       "<div>\n",
       "<style scoped>\n",
       "    .dataframe tbody tr th:only-of-type {\n",
       "        vertical-align: middle;\n",
       "    }\n",
       "\n",
       "    .dataframe tbody tr th {\n",
       "        vertical-align: top;\n",
       "    }\n",
       "\n",
       "    .dataframe thead th {\n",
       "        text-align: right;\n",
       "    }\n",
       "</style>\n",
       "<table border=\"1\" class=\"dataframe\">\n",
       "  <thead>\n",
       "    <tr style=\"text-align: right;\">\n",
       "      <th></th>\n",
       "      <th>Entry</th>\n",
       "      <th>Entry name</th>\n",
       "      <th>Protein names</th>\n",
       "      <th>Gene names</th>\n",
       "      <th>Cross-reference (RefSeq)</th>\n",
       "    </tr>\n",
       "  </thead>\n",
       "  <tbody>\n",
       "    <tr>\n",
       "      <th>796</th>\n",
       "      <td>B8I4K9</td>\n",
       "      <td>B8I4K9_RUMCH</td>\n",
       "      <td>Metalloenzyme domain protein</td>\n",
       "      <td>Ccel_0175</td>\n",
       "      <td>G_WP_012634628_1</td>\n",
       "    </tr>\n",
       "  </tbody>\n",
       "</table>\n",
       "</div>"
      ],
      "text/plain": [
       "      Entry    Entry name                 Protein names Gene names  \\\n",
       "796  B8I4K9  B8I4K9_RUMCH  Metalloenzyme domain protein  Ccel_0175   \n",
       "\n",
       "    Cross-reference (RefSeq)  \n",
       "796         G_WP_012634628_1  "
      ]
     },
     "execution_count": 93,
     "metadata": {},
     "output_type": "execute_result"
    }
   ],
   "source": [
    "gene_protein_map[gene_protein_map['Cross-reference (RefSeq)']=='G_WP_012634628_1']"
   ]
  },
  {
   "cell_type": "code",
   "execution_count": 94,
   "id": "9db6e5fd-cc90-4631-99a9-a874fadf227d",
   "metadata": {},
   "outputs": [
    {
     "data": {
      "text/html": [
       "<div>\n",
       "<style scoped>\n",
       "    .dataframe tbody tr th:only-of-type {\n",
       "        vertical-align: middle;\n",
       "    }\n",
       "\n",
       "    .dataframe tbody tr th {\n",
       "        vertical-align: top;\n",
       "    }\n",
       "\n",
       "    .dataframe thead th {\n",
       "        text-align: right;\n",
       "    }\n",
       "</style>\n",
       "<table border=\"1\" class=\"dataframe\">\n",
       "  <thead>\n",
       "    <tr style=\"text-align: right;\">\n",
       "      <th></th>\n",
       "      <th>Entry</th>\n",
       "      <th>Entry name</th>\n",
       "      <th>Protein names</th>\n",
       "      <th>Gene names</th>\n",
       "      <th>Cross-reference (RefSeq)</th>\n",
       "    </tr>\n",
       "  </thead>\n",
       "  <tbody>\n",
       "    <tr>\n",
       "      <th>1101</th>\n",
       "      <td>B8I776</td>\n",
       "      <td>B8I776_RUMCH</td>\n",
       "      <td>Phosphoglycerate mutase</td>\n",
       "      <td>Ccel_0619</td>\n",
       "      <td>G_WP_015924169_1</td>\n",
       "    </tr>\n",
       "  </tbody>\n",
       "</table>\n",
       "</div>"
      ],
      "text/plain": [
       "       Entry    Entry name            Protein names Gene names  \\\n",
       "1101  B8I776  B8I776_RUMCH  Phosphoglycerate mutase  Ccel_0619   \n",
       "\n",
       "     Cross-reference (RefSeq)  \n",
       "1101         G_WP_015924169_1  "
      ]
     },
     "execution_count": 94,
     "metadata": {},
     "output_type": "execute_result"
    }
   ],
   "source": [
    "gene_protein_map[gene_protein_map['Cross-reference (RefSeq)']=='G_WP_015924169_1']"
   ]
  },
  {
   "cell_type": "code",
   "execution_count": 95,
   "id": "37360bde-47b6-4e5c-be86-c62aabe48b1d",
   "metadata": {},
   "outputs": [
    {
     "data": {
      "text/html": [
       "<div>\n",
       "<style scoped>\n",
       "    .dataframe tbody tr th:only-of-type {\n",
       "        vertical-align: middle;\n",
       "    }\n",
       "\n",
       "    .dataframe tbody tr th {\n",
       "        vertical-align: top;\n",
       "    }\n",
       "\n",
       "    .dataframe thead th {\n",
       "        text-align: right;\n",
       "    }\n",
       "</style>\n",
       "<table border=\"1\" class=\"dataframe\">\n",
       "  <thead>\n",
       "    <tr style=\"text-align: right;\">\n",
       "      <th></th>\n",
       "      <th>Entry</th>\n",
       "      <th>Entry name</th>\n",
       "      <th>Protein names</th>\n",
       "      <th>Gene names</th>\n",
       "      <th>Cross-reference (RefSeq)</th>\n",
       "    </tr>\n",
       "  </thead>\n",
       "  <tbody>\n",
       "    <tr>\n",
       "      <th>1637</th>\n",
       "      <td>B8I451</td>\n",
       "      <td>B8I451_RUMCH</td>\n",
       "      <td>Proposed homoserine kinase</td>\n",
       "      <td>Ccel_2140</td>\n",
       "      <td>G_WP_015925582_1</td>\n",
       "    </tr>\n",
       "  </tbody>\n",
       "</table>\n",
       "</div>"
      ],
      "text/plain": [
       "       Entry    Entry name               Protein names Gene names  \\\n",
       "1637  B8I451  B8I451_RUMCH  Proposed homoserine kinase  Ccel_2140   \n",
       "\n",
       "     Cross-reference (RefSeq)  \n",
       "1637         G_WP_015925582_1  "
      ]
     },
     "execution_count": 95,
     "metadata": {},
     "output_type": "execute_result"
    }
   ],
   "source": [
    "gene_protein_map[gene_protein_map['Cross-reference (RefSeq)']=='G_WP_015925582_1']"
   ]
  },
  {
   "cell_type": "code",
   "execution_count": 103,
   "id": "650d43c1-6ee5-45ce-9784-bfb74f8ebbcb",
   "metadata": {},
   "outputs": [
    {
     "data": {
      "text/plain": [
       "array(['2,3-bisphosphoglycerate-independent phosphoglycerate mutase (BPG-independent PGAM) (Phosphoglyceromutase) (iPGM) (EC 5.4.2.12)'],\n",
       "      dtype=object)"
      ]
     },
     "execution_count": 103,
     "metadata": {},
     "output_type": "execute_result"
    }
   ],
   "source": [
    "gene_protein_map[gene_protein_map['Cross-reference (RefSeq)']=='G_WP_015925690_1']['Protein names'].values"
   ]
  },
  {
   "cell_type": "code",
   "execution_count": 97,
   "id": "3c73355e-57c1-44d0-813e-3ea611b229ca",
   "metadata": {},
   "outputs": [
    {
     "name": "stdout",
     "output_type": "stream",
     "text": [
      "R_PGM: M_2pg_c <-> M_3pg_c: (G_WP_012634628_1 or G_WP_015924169_1 or G_WP_015925582_1 or G_WP_015925690_1)\n",
      "R_PPM: M_r1p_c <-> M_r5p_c: (G_WP_012634628_1 or G_WP_015926553_1)\n",
      "R_PPM2: M_2dr1p_c <-> M_2dr5p_c: (G_WP_012634628_1 or G_WP_015926553_1)\n"
     ]
    }
   ],
   "source": [
    "for rxn in model.gene_to_reaction_lookup()['G_WP_012634628_1']:\n",
    "    print(str(model.reactions[rxn])+\": \" +  str(model.reactions[rxn].gpr))"
   ]
  },
  {
   "cell_type": "code",
   "execution_count": 98,
   "id": "a0d71a6f-4adf-4e11-9a51-6f6cd2f78d96",
   "metadata": {},
   "outputs": [
    {
     "name": "stdout",
     "output_type": "stream",
     "text": [
      "R_PGM: M_2pg_c <-> M_3pg_c: (G_WP_012634628_1 or G_WP_015924169_1 or G_WP_015925582_1 or G_WP_015925690_1)\n"
     ]
    }
   ],
   "source": [
    "for rxn in model.gene_to_reaction_lookup()['G_WP_015924169_1']:\n",
    "    print(str(model.reactions[rxn])+\": \" +  str(model.reactions[rxn].gpr))"
   ]
  },
  {
   "cell_type": "code",
   "execution_count": 99,
   "id": "c1863d85-bb84-402f-9110-3090ef219633",
   "metadata": {},
   "outputs": [
    {
     "name": "stdout",
     "output_type": "stream",
     "text": [
      "R_PGM: M_2pg_c <-> M_3pg_c: (G_WP_012634628_1 or G_WP_015924169_1 or G_WP_015925582_1 or G_WP_015925690_1)\n"
     ]
    }
   ],
   "source": [
    "for rxn in model.gene_to_reaction_lookup()['G_WP_015925582_1']:\n",
    "    print(str(model.reactions[rxn])+\": \" +  str(model.reactions[rxn].gpr))"
   ]
  },
  {
   "cell_type": "code",
   "execution_count": 100,
   "id": "389e54a8-cebf-4776-9657-3ccf4258a374",
   "metadata": {},
   "outputs": [
    {
     "name": "stdout",
     "output_type": "stream",
     "text": [
      "R_PGM: M_2pg_c <-> M_3pg_c: (G_WP_012634628_1 or G_WP_015924169_1 or G_WP_015925582_1 or G_WP_015925690_1)\n",
      "R_PGMT: M_g1p_c <-> M_g6p_c: G_WP_015925690_1\n"
     ]
    }
   ],
   "source": [
    "for rxn in model.gene_to_reaction_lookup()['G_WP_015925690_1']:\n",
    "    print(str(model.reactions[rxn])+\": \" +  str(model.reactions[rxn].gpr))"
   ]
  },
  {
   "cell_type": "code",
   "execution_count": 101,
   "id": "947b8439-17c2-4b66-ad9a-bccb7a7af89d",
   "metadata": {},
   "outputs": [
    {
     "data": {
      "text/plain": [
       "'Phosphoglucomutase'"
      ]
     },
     "execution_count": 101,
     "metadata": {},
     "output_type": "execute_result"
    }
   ],
   "source": [
    "model.reactions.R_PGMT.name"
   ]
  },
  {
   "cell_type": "markdown",
   "id": "e79ffd50-21db-46b6-a7fa-192104855ae5",
   "metadata": {},
   "source": [
    "### Fermentation related"
   ]
  },
  {
   "cell_type": "markdown",
   "id": "e42182a9-05cf-4b1c-80d7-955b06c17bd2",
   "metadata": {},
   "source": [
    "**L-lactate dehydrogenase**"
   ]
  },
  {
   "cell_type": "code",
   "execution_count": 165,
   "id": "ee1d86b0-0b56-4055-b001-391373caf8ce",
   "metadata": {},
   "outputs": [
    {
     "data": {
      "text/plain": [
       "R_LDH_L: M_lac__L_c + M_nad_c <-> M_h_c + M_nadh_c + M_pyr_c"
      ]
     },
     "execution_count": 165,
     "metadata": {},
     "output_type": "execute_result"
    }
   ],
   "source": [
    "model.reactions.R_LDH_L"
   ]
  },
  {
   "cell_type": "markdown",
   "id": "c9979c02-7085-468e-aad2-7f174a3debbe",
   "metadata": {},
   "source": [
    "**Ferredoxin hydronase**"
   ]
  },
  {
   "cell_type": "code",
   "execution_count": 106,
   "id": "db9409d5-0fa4-4092-ad6f-5704c3d1bc68",
   "metadata": {},
   "outputs": [
    {
     "data": {
      "text/plain": [
       "R_FNRR3: M_fdxo_2_2_c + M_h2_c --> M_fdxrd_c + 2.0 M_h_c"
      ]
     },
     "execution_count": 106,
     "metadata": {},
     "output_type": "execute_result"
    }
   ],
   "source": [
    "model.reactions.R_FNRR3"
   ]
  },
  {
   "cell_type": "code",
   "execution_count": 107,
   "id": "e3e16908-3794-4bc2-b0a7-30e605e1d8bf",
   "metadata": {},
   "outputs": [
    {
     "data": {
      "text/plain": [
       "G_WP_015925729_1"
      ]
     },
     "execution_count": 107,
     "metadata": {},
     "output_type": "execute_result"
    }
   ],
   "source": [
    "model.reactions.R_FNRR3.gpr"
   ]
  },
  {
   "cell_type": "code",
   "execution_count": 108,
   "id": "81fda987-39ef-4453-8e62-bdd88435fb16",
   "metadata": {},
   "outputs": [
    {
     "data": {
      "text/html": [
       "<div>\n",
       "<style scoped>\n",
       "    .dataframe tbody tr th:only-of-type {\n",
       "        vertical-align: middle;\n",
       "    }\n",
       "\n",
       "    .dataframe tbody tr th {\n",
       "        vertical-align: top;\n",
       "    }\n",
       "\n",
       "    .dataframe thead th {\n",
       "        text-align: right;\n",
       "    }\n",
       "</style>\n",
       "<table border=\"1\" class=\"dataframe\">\n",
       "  <thead>\n",
       "    <tr style=\"text-align: right;\">\n",
       "      <th></th>\n",
       "      <th>Entry</th>\n",
       "      <th>Entry name</th>\n",
       "      <th>Protein names</th>\n",
       "      <th>Gene names</th>\n",
       "      <th>Cross-reference (RefSeq)</th>\n",
       "    </tr>\n",
       "  </thead>\n",
       "  <tbody>\n",
       "    <tr>\n",
       "      <th>387</th>\n",
       "      <td>B8I4Y3</td>\n",
       "      <td>B8I4Y3_RUMCH</td>\n",
       "      <td>Putative PAS/PAC sensor protein</td>\n",
       "      <td>Ccel_2300</td>\n",
       "      <td>G_WP_015925729_1</td>\n",
       "    </tr>\n",
       "  </tbody>\n",
       "</table>\n",
       "</div>"
      ],
      "text/plain": [
       "      Entry    Entry name                    Protein names Gene names  \\\n",
       "387  B8I4Y3  B8I4Y3_RUMCH  Putative PAS/PAC sensor protein  Ccel_2300   \n",
       "\n",
       "    Cross-reference (RefSeq)  \n",
       "387         G_WP_015925729_1  "
      ]
     },
     "execution_count": 108,
     "metadata": {},
     "output_type": "execute_result"
    }
   ],
   "source": [
    "gene_protein_map[gene_protein_map['Cross-reference (RefSeq)']=='G_WP_015925729_1']"
   ]
  },
  {
   "cell_type": "code",
   "execution_count": 119,
   "id": "b7110688-8659-4ea6-bb9e-e4fc7881d786",
   "metadata": {},
   "outputs": [
    {
     "name": "stdout",
     "output_type": "stream",
     "text": [
      "R_FNRR3: M_fdxo_2_2_c + M_h2_c --> M_fdxrd_c + 2.0 M_h_c: G_WP_015925729_1\n"
     ]
    }
   ],
   "source": [
    "for rxn in model.gene_to_reaction_lookup()['G_WP_015925729_1']:\n",
    "    print(str(model.reactions[rxn])+\": \" +  str(model.reactions[rxn].gpr))"
   ]
  },
  {
   "cell_type": "markdown",
   "id": "068bfeaa-89ca-4127-8bc7-70e29995442c",
   "metadata": {},
   "source": [
    "**Acetaldehyde dehydrogenase (acetylating)**"
   ]
  },
  {
   "cell_type": "code",
   "execution_count": 183,
   "id": "21b2a6ba-abd3-4ace-848c-6dc70e33f876",
   "metadata": {},
   "outputs": [
    {
     "data": {
      "text/plain": [
       "R_ACALD: M_acald_c + M_coa_c + M_nad_c <-> M_accoa_c + M_h_c + M_nadh_c"
      ]
     },
     "execution_count": 183,
     "metadata": {},
     "output_type": "execute_result"
    }
   ],
   "source": [
    "model.reactions.R_ACALD"
   ]
  },
  {
   "cell_type": "markdown",
   "id": "55cca2bc-1b45-42dc-b4d5-dc1bc5134008",
   "metadata": {},
   "source": [
    "**Alcohol dehydrogenase (ethanol, NADP)**"
   ]
  },
  {
   "cell_type": "code",
   "execution_count": 116,
   "id": "e0f5ded5-e422-4bdb-8d77-a63247b4e798",
   "metadata": {},
   "outputs": [
    {
     "data": {
      "text/plain": [
       "R_ALCD2y: M_etoh_c + M_nadp_c <-> M_acald_c + M_h_c + M_nadph_c"
      ]
     },
     "execution_count": 116,
     "metadata": {},
     "output_type": "execute_result"
    }
   ],
   "source": [
    "model.reactions.R_ALCD2y"
   ]
  },
  {
   "cell_type": "code",
   "execution_count": 117,
   "id": "9cfa8e4a-c327-49a9-baa7-64ae7122edd7",
   "metadata": {},
   "outputs": [
    {
     "data": {
      "text/plain": [
       "G_WP_015924528_1"
      ]
     },
     "execution_count": 117,
     "metadata": {},
     "output_type": "execute_result"
    }
   ],
   "source": [
    "model.reactions.R_ALCD2y.gpr"
   ]
  },
  {
   "cell_type": "code",
   "execution_count": 118,
   "id": "f3bcf993-033e-4a61-a246-bb85d01f145a",
   "metadata": {},
   "outputs": [
    {
     "data": {
      "text/html": [
       "<div>\n",
       "<style scoped>\n",
       "    .dataframe tbody tr th:only-of-type {\n",
       "        vertical-align: middle;\n",
       "    }\n",
       "\n",
       "    .dataframe tbody tr th {\n",
       "        vertical-align: top;\n",
       "    }\n",
       "\n",
       "    .dataframe thead th {\n",
       "        text-align: right;\n",
       "    }\n",
       "</style>\n",
       "<table border=\"1\" class=\"dataframe\">\n",
       "  <thead>\n",
       "    <tr style=\"text-align: right;\">\n",
       "      <th></th>\n",
       "      <th>Entry</th>\n",
       "      <th>Entry name</th>\n",
       "      <th>Protein names</th>\n",
       "      <th>Gene names</th>\n",
       "      <th>Cross-reference (RefSeq)</th>\n",
       "    </tr>\n",
       "  </thead>\n",
       "  <tbody>\n",
       "    <tr>\n",
       "      <th>2909</th>\n",
       "      <td>B8I9B1</td>\n",
       "      <td>B8I9B1_RUMCH</td>\n",
       "      <td>Aldo/keto reductase</td>\n",
       "      <td>Ccel_1009</td>\n",
       "      <td>G_WP_015924528_1</td>\n",
       "    </tr>\n",
       "  </tbody>\n",
       "</table>\n",
       "</div>"
      ],
      "text/plain": [
       "       Entry    Entry name        Protein names Gene names  \\\n",
       "2909  B8I9B1  B8I9B1_RUMCH  Aldo/keto reductase  Ccel_1009   \n",
       "\n",
       "     Cross-reference (RefSeq)  \n",
       "2909         G_WP_015924528_1  "
      ]
     },
     "execution_count": 118,
     "metadata": {},
     "output_type": "execute_result"
    }
   ],
   "source": [
    "gene_protein_map[gene_protein_map['Cross-reference (RefSeq)']=='G_WP_015924528_1']"
   ]
  },
  {
   "cell_type": "code",
   "execution_count": 212,
   "id": "514074b4-22b7-4cc5-a5f1-fcd2b1485c71",
   "metadata": {},
   "outputs": [
    {
     "name": "stdout",
     "output_type": "stream",
     "text": [
      "R_ALCD2y: M_etoh_c + M_nadp_c <-> M_acald_c + M_h_c + M_nadph_c\n",
      "R_ALR2: M_h_c + M_mthgxl_c + M_nadph_c --> M_acetol_c + M_nadp_c\n",
      "R_ALR3: M_acetol_c + M_h_c + M_nadph_c --> M_12ppd__S_c + M_nadp_c\n",
      "R_PPDOy: M_h_c + M_lald__D_c + M_nadph_c --> M_12ppd__R_c + M_nadp_c\n"
     ]
    }
   ],
   "source": [
    "for rxn in model.gene_to_reaction_lookup()['G_WP_015924528_1']:\n",
    "    print(str(model.reactions[rxn]))#+\": \" +  str(model.reactions[rxn].gpr))"
   ]
  },
  {
   "cell_type": "markdown",
   "id": "b98a0b02-b06f-4271-a646-85adb7352586",
   "metadata": {},
   "source": [
    "**Alcohol dehydrogenase (ethanol)**"
   ]
  },
  {
   "cell_type": "code",
   "execution_count": 123,
   "id": "5ee892ca-485b-49fe-bed6-176c38686c18",
   "metadata": {},
   "outputs": [
    {
     "data": {
      "text/plain": [
       "R_ALCD2x: M_etoh_c + M_nad_c <-> M_acald_c + M_h_c + M_nadh_c"
      ]
     },
     "execution_count": 123,
     "metadata": {},
     "output_type": "execute_result"
    }
   ],
   "source": [
    "model.reactions.R_ALCD2x"
   ]
  },
  {
   "cell_type": "code",
   "execution_count": 124,
   "id": "a1604c92-79e4-46da-841c-58032d2b5f34",
   "metadata": {},
   "outputs": [
    {
     "data": {
      "text/plain": [
       "G_WP_015926546_1"
      ]
     },
     "execution_count": 124,
     "metadata": {},
     "output_type": "execute_result"
    }
   ],
   "source": [
    "model.reactions.R_ALCD2x.gpr"
   ]
  },
  {
   "cell_type": "code",
   "execution_count": 128,
   "id": "aa660a00-3b93-4d5f-a918-10a3bae6c005",
   "metadata": {},
   "outputs": [
    {
     "data": {
      "text/html": [
       "<div>\n",
       "<style scoped>\n",
       "    .dataframe tbody tr th:only-of-type {\n",
       "        vertical-align: middle;\n",
       "    }\n",
       "\n",
       "    .dataframe tbody tr th {\n",
       "        vertical-align: top;\n",
       "    }\n",
       "\n",
       "    .dataframe thead th {\n",
       "        text-align: right;\n",
       "    }\n",
       "</style>\n",
       "<table border=\"1\" class=\"dataframe\">\n",
       "  <thead>\n",
       "    <tr style=\"text-align: right;\">\n",
       "      <th></th>\n",
       "      <th>Entry</th>\n",
       "      <th>Entry name</th>\n",
       "      <th>Protein names</th>\n",
       "      <th>Gene names</th>\n",
       "      <th>Cross-reference (RefSeq)</th>\n",
       "    </tr>\n",
       "  </thead>\n",
       "  <tbody>\n",
       "    <tr>\n",
       "      <th>2983</th>\n",
       "      <td>B8I0G2</td>\n",
       "      <td>B8I0G2_RUMCH</td>\n",
       "      <td>Aldehyde-alcohol dehydrogenase</td>\n",
       "      <td>Ccel_3198</td>\n",
       "      <td>G_WP_015926546_1</td>\n",
       "    </tr>\n",
       "  </tbody>\n",
       "</table>\n",
       "</div>"
      ],
      "text/plain": [
       "       Entry    Entry name                   Protein names Gene names  \\\n",
       "2983  B8I0G2  B8I0G2_RUMCH  Aldehyde-alcohol dehydrogenase  Ccel_3198   \n",
       "\n",
       "     Cross-reference (RefSeq)  \n",
       "2983         G_WP_015926546_1  "
      ]
     },
     "execution_count": 128,
     "metadata": {},
     "output_type": "execute_result"
    }
   ],
   "source": [
    "gene_protein_map[gene_protein_map['Cross-reference (RefSeq)']=='G_WP_015926546_1']"
   ]
  },
  {
   "cell_type": "code",
   "execution_count": 213,
   "id": "7fd22e7c-0ea5-4ee5-be4c-88ad6f72342a",
   "metadata": {},
   "outputs": [
    {
     "name": "stdout",
     "output_type": "stream",
     "text": [
      "R_ACALD: M_acald_c + M_coa_c + M_nad_c <-> M_accoa_c + M_h_c + M_nadh_c\n",
      "R_ALCD19: M_glyald_c + M_h_c + M_nadh_c <-> M_glyc_c + M_nad_c\n",
      "R_ALCD19y: M_glyald_c + M_h_c + M_nadph_c <-> M_glyc_c + M_nadp_c\n",
      "R_ALCD2x: M_etoh_c + M_nad_c <-> M_acald_c + M_h_c + M_nadh_c\n",
      "R_BNOCA: M_btcoa_c + M_h_c + M_nadph_c --> M_btal_c + M_coa_c + M_nadp_c\n",
      "R_BTCOARx: M_btcoa_c + M_h_c + M_nadh_c --> M_btal_c + M_coa_c + M_nad_c\n",
      "R_BTS: M_btal_c + M_h_c + M_nadh_c <-> M_1btol_c + M_nad_c\n",
      "R_BTS_nadph: M_btal_c + M_h_c + M_nadph_c --> M_1btol_c + M_nadp_c\n",
      "R_CHOLD3: M_chol_c + M_nadp_c --> M_betald_c + M_h_c + M_nadph_c\n",
      "R_IBHH: M_2mbald_c + M_nadh_c <-> M_h_c + M_ibtol_c + M_nad_c\n"
     ]
    }
   ],
   "source": [
    "for rxn in model.gene_to_reaction_lookup()['G_WP_015926546_1']:\n",
    "    print(str(model.reactions[rxn]))#+\": \" +  str(model.reactions[rxn].gpr))"
   ]
  },
  {
   "cell_type": "markdown",
   "id": "516e818c-9bf4-4043-b236-c2a5ff50f7fc",
   "metadata": {},
   "source": [
    "**Phosphotransacetylase**"
   ]
  },
  {
   "cell_type": "code",
   "execution_count": 186,
   "id": "7e155560-d1fa-4bf4-a07e-79fb2d735611",
   "metadata": {},
   "outputs": [
    {
     "data": {
      "text/plain": [
       "R_PTAr: M_accoa_c + M_pi_c <-> M_actp_c + M_coa_c"
      ]
     },
     "execution_count": 186,
     "metadata": {},
     "output_type": "execute_result"
    }
   ],
   "source": [
    "model.reactions.R_PTAr"
   ]
  },
  {
   "cell_type": "markdown",
   "id": "fed1b797-7704-4a65-b29e-82c25939a44f",
   "metadata": {},
   "source": [
    "**Acetate kinase**"
   ]
  },
  {
   "cell_type": "code",
   "execution_count": 189,
   "id": "039658f1-9642-4a06-8100-f1138c79e24b",
   "metadata": {},
   "outputs": [
    {
     "data": {
      "text/plain": [
       "R_ACKr: M_ac_c + M_atp_c <-> M_actp_c + M_adp_c"
      ]
     },
     "execution_count": 189,
     "metadata": {},
     "output_type": "execute_result"
    }
   ],
   "source": [
    "model.reactions.R_ACKr"
   ]
  },
  {
   "cell_type": "markdown",
   "id": "4df744e7-f086-421a-be79-aa163982e8d9",
   "metadata": {},
   "source": [
    "### Other"
   ]
  },
  {
   "cell_type": "markdown",
   "id": "85640be4-f485-4526-b91f-fec74d45bbe2",
   "metadata": {},
   "source": [
    "**Phosphoenolpyruvate carboxykinase (GTP)**"
   ]
  },
  {
   "cell_type": "code",
   "execution_count": 192,
   "id": "16da866b-053b-4e57-8f3e-e0c990c1c236",
   "metadata": {},
   "outputs": [
    {
     "data": {
      "text/plain": [
       "R_PEPCK_re: M_gtp_c + M_oaa_c --> M_co2_c + M_gdp_c + M_pep_c"
      ]
     },
     "execution_count": 192,
     "metadata": {},
     "output_type": "execute_result"
    }
   ],
   "source": [
    "model.reactions.R_PEPCK_re"
   ]
  },
  {
   "cell_type": "markdown",
   "id": "caa545b6-6311-4fe9-8a5b-a7b68b9da749",
   "metadata": {},
   "source": [
    "**Phosphoenolpyruvate carboxykinase**"
   ]
  },
  {
   "cell_type": "code",
   "execution_count": 195,
   "id": "affe90ae-b195-45bc-b2f7-e259ed7a3be9",
   "metadata": {},
   "outputs": [
    {
     "data": {
      "text/plain": [
       "R_PPCK: M_atp_c + M_oaa_c --> M_adp_c + M_co2_c + M_pep_c"
      ]
     },
     "execution_count": 195,
     "metadata": {},
     "output_type": "execute_result"
    }
   ],
   "source": [
    "model.reactions.R_PPCK"
   ]
  },
  {
   "cell_type": "markdown",
   "id": "9d7bde56-f73d-4fb9-a8a5-444ae0acc86a",
   "metadata": {},
   "source": [
    "**Malate dehydrogenase**"
   ]
  },
  {
   "cell_type": "code",
   "execution_count": 198,
   "id": "7e6c0f3b-012b-43c7-91b7-b59e238a5d7b",
   "metadata": {},
   "outputs": [
    {
     "data": {
      "text/plain": [
       "'Malate dehydrogenase'"
      ]
     },
     "execution_count": 198,
     "metadata": {},
     "output_type": "execute_result"
    }
   ],
   "source": [
    "model.reactions.R_MDH.name"
   ]
  },
  {
   "cell_type": "markdown",
   "id": "3d3745f9-ebf4-4a83-8c04-feefc6f85813",
   "metadata": {},
   "source": [
    "**Malic enzyme**"
   ]
  },
  {
   "cell_type": "code",
   "execution_count": 131,
   "id": "00bbb50a-35e4-40e0-a049-4c27ce24c320",
   "metadata": {},
   "outputs": [
    {
     "data": {
      "text/plain": [
       "R_ME1: M_mal__L_c + M_nad_c --> M_co2_c + M_nadh_c + M_pyr_c"
      ]
     },
     "execution_count": 131,
     "metadata": {},
     "output_type": "execute_result"
    }
   ],
   "source": [
    "model.reactions.R_ME1"
   ]
  },
  {
   "cell_type": "code",
   "execution_count": 132,
   "id": "98ef25f4-2afa-4f39-9fa3-221f341dfcdf",
   "metadata": {},
   "outputs": [
    {
     "data": {
      "text/plain": [
       "G_WP_012634592_1"
      ]
     },
     "execution_count": 132,
     "metadata": {},
     "output_type": "execute_result"
    }
   ],
   "source": [
    "model.reactions.R_ME1.gpr"
   ]
  },
  {
   "cell_type": "code",
   "execution_count": 133,
   "id": "a601d94f-992a-457f-b364-406a3001bfd8",
   "metadata": {},
   "outputs": [
    {
     "data": {
      "text/html": [
       "<div>\n",
       "<style scoped>\n",
       "    .dataframe tbody tr th:only-of-type {\n",
       "        vertical-align: middle;\n",
       "    }\n",
       "\n",
       "    .dataframe tbody tr th {\n",
       "        vertical-align: top;\n",
       "    }\n",
       "\n",
       "    .dataframe thead th {\n",
       "        text-align: right;\n",
       "    }\n",
       "</style>\n",
       "<table border=\"1\" class=\"dataframe\">\n",
       "  <thead>\n",
       "    <tr style=\"text-align: right;\">\n",
       "      <th></th>\n",
       "      <th>Entry</th>\n",
       "      <th>Entry name</th>\n",
       "      <th>Protein names</th>\n",
       "      <th>Gene names</th>\n",
       "      <th>Cross-reference (RefSeq)</th>\n",
       "    </tr>\n",
       "  </thead>\n",
       "  <tbody>\n",
       "    <tr>\n",
       "      <th>2784</th>\n",
       "      <td>B8I4H2</td>\n",
       "      <td>B8I4H2_RUMCH</td>\n",
       "      <td>Malic protein NAD-binding</td>\n",
       "      <td>Ccel_0138</td>\n",
       "      <td>G_WP_012634592_1</td>\n",
       "    </tr>\n",
       "  </tbody>\n",
       "</table>\n",
       "</div>"
      ],
      "text/plain": [
       "       Entry    Entry name              Protein names Gene names  \\\n",
       "2784  B8I4H2  B8I4H2_RUMCH  Malic protein NAD-binding  Ccel_0138   \n",
       "\n",
       "     Cross-reference (RefSeq)  \n",
       "2784         G_WP_012634592_1  "
      ]
     },
     "execution_count": 133,
     "metadata": {},
     "output_type": "execute_result"
    }
   ],
   "source": [
    "gene_protein_map[gene_protein_map['Cross-reference (RefSeq)']=='G_WP_012634592_1']"
   ]
  },
  {
   "cell_type": "code",
   "execution_count": 134,
   "id": "98a78242-8707-4438-81d5-ad2c466032ae",
   "metadata": {},
   "outputs": [
    {
     "data": {
      "text/plain": [
       "R_ME2: M_mal__L_c + M_nadp_c --> M_co2_c + M_nadph_c + M_pyr_c"
      ]
     },
     "execution_count": 134,
     "metadata": {},
     "output_type": "execute_result"
    }
   ],
   "source": [
    "model.reactions.R_ME2"
   ]
  },
  {
   "cell_type": "code",
   "execution_count": 135,
   "id": "3b4a8f29-5952-47eb-90c1-199c569cfaa3",
   "metadata": {},
   "outputs": [
    {
     "data": {
      "text/plain": [
       "G_WP_012634592_1"
      ]
     },
     "execution_count": 135,
     "metadata": {},
     "output_type": "execute_result"
    }
   ],
   "source": [
    "model.reactions.R_ME2.gpr"
   ]
  },
  {
   "cell_type": "code",
   "execution_count": 133,
   "id": "9bff711e-15be-40a2-a3bc-62d6aac3ec9d",
   "metadata": {},
   "outputs": [
    {
     "data": {
      "text/html": [
       "<div>\n",
       "<style scoped>\n",
       "    .dataframe tbody tr th:only-of-type {\n",
       "        vertical-align: middle;\n",
       "    }\n",
       "\n",
       "    .dataframe tbody tr th {\n",
       "        vertical-align: top;\n",
       "    }\n",
       "\n",
       "    .dataframe thead th {\n",
       "        text-align: right;\n",
       "    }\n",
       "</style>\n",
       "<table border=\"1\" class=\"dataframe\">\n",
       "  <thead>\n",
       "    <tr style=\"text-align: right;\">\n",
       "      <th></th>\n",
       "      <th>Entry</th>\n",
       "      <th>Entry name</th>\n",
       "      <th>Protein names</th>\n",
       "      <th>Gene names</th>\n",
       "      <th>Cross-reference (RefSeq)</th>\n",
       "    </tr>\n",
       "  </thead>\n",
       "  <tbody>\n",
       "    <tr>\n",
       "      <th>2784</th>\n",
       "      <td>B8I4H2</td>\n",
       "      <td>B8I4H2_RUMCH</td>\n",
       "      <td>Malic protein NAD-binding</td>\n",
       "      <td>Ccel_0138</td>\n",
       "      <td>G_WP_012634592_1</td>\n",
       "    </tr>\n",
       "  </tbody>\n",
       "</table>\n",
       "</div>"
      ],
      "text/plain": [
       "       Entry    Entry name              Protein names Gene names  \\\n",
       "2784  B8I4H2  B8I4H2_RUMCH  Malic protein NAD-binding  Ccel_0138   \n",
       "\n",
       "     Cross-reference (RefSeq)  \n",
       "2784         G_WP_012634592_1  "
      ]
     },
     "execution_count": 133,
     "metadata": {},
     "output_type": "execute_result"
    }
   ],
   "source": [
    "gene_protein_map[gene_protein_map['Cross-reference (RefSeq)']=='G_WP_012634592_1']"
   ]
  },
  {
   "cell_type": "code",
   "execution_count": 214,
   "id": "5b0a59ba-192e-4eb7-971d-d87af771072c",
   "metadata": {},
   "outputs": [
    {
     "name": "stdout",
     "output_type": "stream",
     "text": [
      "R_ME1: M_mal__L_c + M_nad_c --> M_co2_c + M_nadh_c + M_pyr_c\n",
      "R_ME2: M_mal__L_c + M_nadp_c --> M_co2_c + M_nadph_c + M_pyr_c\n",
      "R_OAADC: M_h_c + M_oaa_c --> M_co2_c + M_pyr_c\n"
     ]
    }
   ],
   "source": [
    "for rxn in model.gene_to_reaction_lookup()['G_WP_012634592_1']:\n",
    "    print(str(model.reactions[rxn]))#+\": \" +  str(model.reactions[rxn].gpr))"
   ]
  },
  {
   "cell_type": "code",
   "execution_count": 137,
   "id": "5505f759-f712-4183-87c2-f10adf1c419b",
   "metadata": {},
   "outputs": [
    {
     "data": {
      "text/html": [
       "<div>\n",
       "<style scoped>\n",
       "    .dataframe tbody tr th:only-of-type {\n",
       "        vertical-align: middle;\n",
       "    }\n",
       "\n",
       "    .dataframe tbody tr th {\n",
       "        vertical-align: top;\n",
       "    }\n",
       "\n",
       "    .dataframe thead th {\n",
       "        text-align: right;\n",
       "    }\n",
       "</style>\n",
       "<table border=\"1\" class=\"dataframe\">\n",
       "  <thead>\n",
       "    <tr style=\"text-align: right;\">\n",
       "      <th></th>\n",
       "      <th>Entry</th>\n",
       "      <th>Entry name</th>\n",
       "      <th>Protein names</th>\n",
       "      <th>Gene names</th>\n",
       "      <th>Cross-reference (RefSeq)</th>\n",
       "    </tr>\n",
       "  </thead>\n",
       "  <tbody>\n",
       "    <tr>\n",
       "      <th>3195</th>\n",
       "      <td>B8I2N0</td>\n",
       "      <td>B8I2N0_RUMCH</td>\n",
       "      <td>2-dehydro-3-deoxy-phosphogluconate aldolase (E...</td>\n",
       "      <td>Ccel_1672</td>\n",
       "      <td>G_WP_015925138_1</td>\n",
       "    </tr>\n",
       "  </tbody>\n",
       "</table>\n",
       "</div>"
      ],
      "text/plain": [
       "       Entry    Entry name                                      Protein names  \\\n",
       "3195  B8I2N0  B8I2N0_RUMCH  2-dehydro-3-deoxy-phosphogluconate aldolase (E...   \n",
       "\n",
       "     Gene names Cross-reference (RefSeq)  \n",
       "3195  Ccel_1672         G_WP_015925138_1  "
      ]
     },
     "execution_count": 137,
     "metadata": {},
     "output_type": "execute_result"
    }
   ],
   "source": [
    "gene_protein_map[gene_protein_map['Cross-reference (RefSeq)']=='G_WP_015925138_1']"
   ]
  },
  {
   "cell_type": "code",
   "execution_count": 139,
   "id": "26688246-6a24-4161-9344-b9eb35ee2078",
   "metadata": {},
   "outputs": [
    {
     "data": {
      "text/plain": [
       "'Oxaloacetate decarboxylase'"
      ]
     },
     "execution_count": 139,
     "metadata": {},
     "output_type": "execute_result"
    }
   ],
   "source": [
    "model.reactions.R_OAADC.name"
   ]
  },
  {
   "cell_type": "markdown",
   "id": "0a678db7-fd33-4c34-91b0-a152fdea3251",
   "metadata": {},
   "source": [
    "**Citrate synthase**"
   ]
  },
  {
   "cell_type": "code",
   "execution_count": 201,
   "id": "10348150-5f86-4db6-9922-b11689bd73c1",
   "metadata": {},
   "outputs": [
    {
     "data": {
      "text/plain": [
       "R_CS: M_accoa_c + M_h2o_c + M_oaa_c --> M_cit_c + M_coa_c + M_h_c"
      ]
     },
     "execution_count": 201,
     "metadata": {},
     "output_type": "execute_result"
    }
   ],
   "source": [
    "model.reactions.R_CS"
   ]
  },
  {
   "cell_type": "markdown",
   "id": "43556389-907e-49a5-8e6b-af5ccc6b9028",
   "metadata": {},
   "source": [
    "**Aconitate hydratase**"
   ]
  },
  {
   "cell_type": "code",
   "execution_count": 204,
   "id": "b2c25156-1632-4ccf-b791-cdcc568522ed",
   "metadata": {},
   "outputs": [
    {
     "data": {
      "text/plain": [
       "R_ACONT: M_cit_c <-> M_icit_c"
      ]
     },
     "execution_count": 204,
     "metadata": {},
     "output_type": "execute_result"
    }
   ],
   "source": [
    "model.reactions.R_ACONT"
   ]
  },
  {
   "cell_type": "markdown",
   "id": "47159a14-b9be-4a06-8353-520f62ebb2df",
   "metadata": {},
   "source": [
    "**Isocitrate dehydrogenase**"
   ]
  },
  {
   "cell_type": "code",
   "execution_count": 205,
   "id": "d9ae262a-a012-4f43-92d6-838a0221b369",
   "metadata": {},
   "outputs": [
    {
     "data": {
      "text/plain": [
       "R_ICDHyr: M_icit_c + M_nadp_c <-> M_akg_c + M_co2_c + M_nadph_c"
      ]
     },
     "execution_count": 205,
     "metadata": {},
     "output_type": "execute_result"
    }
   ],
   "source": [
    "model.reactions.R_ICDHyr"
   ]
  }
 ],
 "metadata": {
  "kernelspec": {
   "display_name": "RecAndAn",
   "language": "python",
   "name": "recandan"
  },
  "language_info": {
   "codemirror_mode": {
    "name": "ipython",
    "version": 3
   },
   "file_extension": ".py",
   "mimetype": "text/x-python",
   "name": "python",
   "nbconvert_exporter": "python",
   "pygments_lexer": "ipython3",
   "version": "3.7.13"
  }
 },
 "nbformat": 4,
 "nbformat_minor": 5
}
