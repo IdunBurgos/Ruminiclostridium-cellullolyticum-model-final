{
 "cells": [
  {
   "cell_type": "markdown",
   "id": "78896f10-8f10-4acd-8ff3-053471b4838f",
   "metadata": {},
   "source": [
    "#### MEMOTE report analysis"
   ]
  },
  {
   "cell_type": "code",
   "execution_count": 26,
   "id": "f812e7a5-2ecb-498a-a3c8-2648403b6dc9",
   "metadata": {},
   "outputs": [],
   "source": [
    "import pandas as pd"
   ]
  },
  {
   "cell_type": "code",
   "execution_count": 51,
   "id": "ecf3d2bc-dc9c-43ba-be9c-04d2691821f7",
   "metadata": {},
   "outputs": [
    {
     "data": {
      "text/html": [
       "<div>\n",
       "<style scoped>\n",
       "    .dataframe tbody tr th:only-of-type {\n",
       "        vertical-align: middle;\n",
       "    }\n",
       "\n",
       "    .dataframe tbody tr th {\n",
       "        vertical-align: top;\n",
       "    }\n",
       "\n",
       "    .dataframe thead th {\n",
       "        text-align: right;\n",
       "    }\n",
       "</style>\n",
       "<table border=\"1\" class=\"dataframe\">\n",
       "  <thead>\n",
       "    <tr style=\"text-align: right;\">\n",
       "      <th></th>\n",
       "      <th>section</th>\n",
       "      <th>score</th>\n",
       "      <th>model</th>\n",
       "    </tr>\n",
       "  </thead>\n",
       "  <tbody>\n",
       "    <tr>\n",
       "      <th>0</th>\n",
       "      <td>consistency</td>\n",
       "      <td>0.395982</td>\n",
       "      <td>model_c_H10_part2_1_1.xml</td>\n",
       "    </tr>\n",
       "    <tr>\n",
       "      <th>1</th>\n",
       "      <td>annotation_met</td>\n",
       "      <td>0.809818</td>\n",
       "      <td>model_c_H10_part2_1_1.xml</td>\n",
       "    </tr>\n",
       "    <tr>\n",
       "      <th>2</th>\n",
       "      <td>annotation_rxn</td>\n",
       "      <td>0.771995</td>\n",
       "      <td>model_c_H10_part2_1_1.xml</td>\n",
       "    </tr>\n",
       "    <tr>\n",
       "      <th>3</th>\n",
       "      <td>annotation_gene</td>\n",
       "      <td>0.332879</td>\n",
       "      <td>model_c_H10_part2_1_1.xml</td>\n",
       "    </tr>\n",
       "    <tr>\n",
       "      <th>4</th>\n",
       "      <td>annotation_sbo</td>\n",
       "      <td>0.908631</td>\n",
       "      <td>model_c_H10_part2_1_1.xml</td>\n",
       "    </tr>\n",
       "    <tr>\n",
       "      <th>5</th>\n",
       "      <td>consistency</td>\n",
       "      <td>0.396059</td>\n",
       "      <td>model_c_H10_part2_2_1.xml</td>\n",
       "    </tr>\n",
       "    <tr>\n",
       "      <th>6</th>\n",
       "      <td>annotation_met</td>\n",
       "      <td>0.809818</td>\n",
       "      <td>model_c_H10_part2_2_1.xml</td>\n",
       "    </tr>\n",
       "    <tr>\n",
       "      <th>7</th>\n",
       "      <td>annotation_rxn</td>\n",
       "      <td>0.771979</td>\n",
       "      <td>model_c_H10_part2_2_1.xml</td>\n",
       "    </tr>\n",
       "    <tr>\n",
       "      <th>8</th>\n",
       "      <td>annotation_gene</td>\n",
       "      <td>0.332877</td>\n",
       "      <td>model_c_H10_part2_2_1.xml</td>\n",
       "    </tr>\n",
       "    <tr>\n",
       "      <th>9</th>\n",
       "      <td>annotation_sbo</td>\n",
       "      <td>0.908630</td>\n",
       "      <td>model_c_H10_part2_2_1.xml</td>\n",
       "    </tr>\n",
       "  </tbody>\n",
       "</table>\n",
       "</div>"
      ],
      "text/plain": [
       "           section     score                      model\n",
       "0      consistency  0.395982  model_c_H10_part2_1_1.xml\n",
       "1   annotation_met  0.809818  model_c_H10_part2_1_1.xml\n",
       "2   annotation_rxn  0.771995  model_c_H10_part2_1_1.xml\n",
       "3  annotation_gene  0.332879  model_c_H10_part2_1_1.xml\n",
       "4   annotation_sbo  0.908631  model_c_H10_part2_1_1.xml\n",
       "5      consistency  0.396059  model_c_H10_part2_2_1.xml\n",
       "6   annotation_met  0.809818  model_c_H10_part2_2_1.xml\n",
       "7   annotation_rxn  0.771979  model_c_H10_part2_2_1.xml\n",
       "8  annotation_gene  0.332877  model_c_H10_part2_2_1.xml\n",
       "9   annotation_sbo  0.908630  model_c_H10_part2_2_1.xml"
      ]
     },
     "execution_count": 51,
     "metadata": {},
     "output_type": "execute_result"
    }
   ],
   "source": [
    "df = pd.read_csv(\"08_22_2023_export.csv\")\n",
    "df.head(10)"
   ]
  },
  {
   "cell_type": "code",
   "execution_count": 28,
   "id": "341d2f46-0c3b-4277-a607-d5a5f402c28f",
   "metadata": {},
   "outputs": [
    {
     "data": {
      "text/html": [
       "<div>\n",
       "<style scoped>\n",
       "    .dataframe tbody tr th:only-of-type {\n",
       "        vertical-align: middle;\n",
       "    }\n",
       "\n",
       "    .dataframe tbody tr th {\n",
       "        vertical-align: top;\n",
       "    }\n",
       "\n",
       "    .dataframe thead th {\n",
       "        text-align: right;\n",
       "    }\n",
       "</style>\n",
       "<table border=\"1\" class=\"dataframe\">\n",
       "  <thead>\n",
       "    <tr style=\"text-align: right;\">\n",
       "      <th></th>\n",
       "      <th>section</th>\n",
       "      <th>score</th>\n",
       "      <th>model</th>\n",
       "    </tr>\n",
       "  </thead>\n",
       "  <tbody>\n",
       "    <tr>\n",
       "      <th>0</th>\n",
       "      <td>consistency</td>\n",
       "      <td>0.395982</td>\n",
       "      <td>model_c_H10_part2_1_1.xml</td>\n",
       "    </tr>\n",
       "    <tr>\n",
       "      <th>5</th>\n",
       "      <td>consistency</td>\n",
       "      <td>0.396059</td>\n",
       "      <td>model_c_H10_part2_2_1.xml</td>\n",
       "    </tr>\n",
       "    <tr>\n",
       "      <th>10</th>\n",
       "      <td>consistency</td>\n",
       "      <td>0.395469</td>\n",
       "      <td>model_c_H10_part2_3_1.xml</td>\n",
       "    </tr>\n",
       "    <tr>\n",
       "      <th>15</th>\n",
       "      <td>consistency</td>\n",
       "      <td>0.394882</td>\n",
       "      <td>model_c_H10_part3_1_1.xml</td>\n",
       "    </tr>\n",
       "    <tr>\n",
       "      <th>20</th>\n",
       "      <td>consistency</td>\n",
       "      <td>0.394067</td>\n",
       "      <td>model_c_H10_part3_2_1.xml</td>\n",
       "    </tr>\n",
       "    <tr>\n",
       "      <th>25</th>\n",
       "      <td>consistency</td>\n",
       "      <td>0.393579</td>\n",
       "      <td>model_c_H10_part3_3_1.xml</td>\n",
       "    </tr>\n",
       "    <tr>\n",
       "      <th>30</th>\n",
       "      <td>consistency</td>\n",
       "      <td>0.393579</td>\n",
       "      <td>model_c_H10_part4_1.xml</td>\n",
       "    </tr>\n",
       "    <tr>\n",
       "      <th>35</th>\n",
       "      <td>consistency</td>\n",
       "      <td>0.382297</td>\n",
       "      <td>model_c_H10_part5_1.xml</td>\n",
       "    </tr>\n",
       "    <tr>\n",
       "      <th>40</th>\n",
       "      <td>consistency</td>\n",
       "      <td>0.395893</td>\n",
       "      <td>model_cellulolyticum_H10.xml</td>\n",
       "    </tr>\n",
       "  </tbody>\n",
       "</table>\n",
       "</div>"
      ],
      "text/plain": [
       "        section     score                         model\n",
       "0   consistency  0.395982     model_c_H10_part2_1_1.xml\n",
       "5   consistency  0.396059     model_c_H10_part2_2_1.xml\n",
       "10  consistency  0.395469     model_c_H10_part2_3_1.xml\n",
       "15  consistency  0.394882     model_c_H10_part3_1_1.xml\n",
       "20  consistency  0.394067     model_c_H10_part3_2_1.xml\n",
       "25  consistency  0.393579     model_c_H10_part3_3_1.xml\n",
       "30  consistency  0.393579       model_c_H10_part4_1.xml\n",
       "35  consistency  0.382297       model_c_H10_part5_1.xml\n",
       "40  consistency  0.395893  model_cellulolyticum_H10.xml"
      ]
     },
     "execution_count": 28,
     "metadata": {},
     "output_type": "execute_result"
    }
   ],
   "source": [
    "consistency_df = df[df.section==\"consistency\"].sort_values(by=\"model\")\n",
    "consistency_df"
   ]
  },
  {
   "cell_type": "code",
   "execution_count": 50,
   "id": "93cc51c4-8a1c-4ee9-8282-11654761bb7f",
   "metadata": {},
   "outputs": [
    {
     "data": {
      "text/plain": [
       "<AxesSubplot:xlabel='model'>"
      ]
     },
     "execution_count": 50,
     "metadata": {},
     "output_type": "execute_result"
    },
    {
     "data": {
      "image/png": "[encoded data removed]",
      "text/plain": [
       "<Figure size 432x288 with 1 Axes>"
      ]
     },
     "metadata": {
      "needs_background": "light"
     },
     "output_type": "display_data"
    }
   ],
   "source": [
    "consistency_df.plot(x=\"model\",\n",
    "                    y=\"score\",\n",
    "                    kind=\"line\",rot=90)"
   ]
  },
  {
   "cell_type": "code",
   "execution_count": 52,
   "id": "9e5a5463-bc4a-4202-81d4-bd81fd7814b2",
   "metadata": {},
   "outputs": [
    {
     "data": {
      "text/html": [
       "<div>\n",
       "<style scoped>\n",
       "    .dataframe tbody tr th:only-of-type {\n",
       "        vertical-align: middle;\n",
       "    }\n",
       "\n",
       "    .dataframe tbody tr th {\n",
       "        vertical-align: top;\n",
       "    }\n",
       "\n",
       "    .dataframe thead th {\n",
       "        text-align: right;\n",
       "    }\n",
       "</style>\n",
       "<table border=\"1\" class=\"dataframe\">\n",
       "  <thead>\n",
       "    <tr style=\"text-align: right;\">\n",
       "      <th></th>\n",
       "      <th>model</th>\n",
       "      <th>total_score</th>\n",
       "    </tr>\n",
       "  </thead>\n",
       "  <tbody>\n",
       "    <tr>\n",
       "      <th>0</th>\n",
       "      <td>model_c_H10_part2_1_1.xml</td>\n",
       "      <td>0.659841</td>\n",
       "    </tr>\n",
       "    <tr>\n",
       "      <th>1</th>\n",
       "      <td>model_c_H10_part2_2_1.xml</td>\n",
       "      <td>0.659869</td>\n",
       "    </tr>\n",
       "    <tr>\n",
       "      <th>2</th>\n",
       "      <td>model_c_H10_part2_3_1.xml</td>\n",
       "      <td>0.659644</td>\n",
       "    </tr>\n",
       "    <tr>\n",
       "      <th>3</th>\n",
       "      <td>model_c_H10_part3_1_1.xml</td>\n",
       "      <td>0.657734</td>\n",
       "    </tr>\n",
       "    <tr>\n",
       "      <th>4</th>\n",
       "      <td>model_c_H10_part3_2_1.xml</td>\n",
       "      <td>0.652861</td>\n",
       "    </tr>\n",
       "    <tr>\n",
       "      <th>5</th>\n",
       "      <td>model_c_H10_part3_3_1.xml</td>\n",
       "      <td>0.648285</td>\n",
       "    </tr>\n",
       "    <tr>\n",
       "      <th>6</th>\n",
       "      <td>model_c_H10_part4_1.xml</td>\n",
       "      <td>0.648285</td>\n",
       "    </tr>\n",
       "    <tr>\n",
       "      <th>7</th>\n",
       "      <td>model_c_H10_part5_1.xml</td>\n",
       "      <td>0.643465</td>\n",
       "    </tr>\n",
       "    <tr>\n",
       "      <th>8</th>\n",
       "      <td>model_cellulolyticum_H10.xml</td>\n",
       "      <td>0.659998</td>\n",
       "    </tr>\n",
       "  </tbody>\n",
       "</table>\n",
       "</div>"
      ],
      "text/plain": [
       "                          model  total_score\n",
       "0     model_c_H10_part2_1_1.xml     0.659841\n",
       "1     model_c_H10_part2_2_1.xml     0.659869\n",
       "2     model_c_H10_part2_3_1.xml     0.659644\n",
       "3     model_c_H10_part3_1_1.xml     0.657734\n",
       "4     model_c_H10_part3_2_1.xml     0.652861\n",
       "5     model_c_H10_part3_3_1.xml     0.648285\n",
       "6       model_c_H10_part4_1.xml     0.648285\n",
       "7       model_c_H10_part5_1.xml     0.643465\n",
       "8  model_cellulolyticum_H10.xml     0.659998"
      ]
     },
     "execution_count": 52,
     "metadata": {},
     "output_type": "execute_result"
    }
   ],
   "source": [
    "df2 = pd.read_csv(\"08_22_2023_total_score.csv\")\n",
    "df2.head(10)"
   ]
  },
  {
   "cell_type": "code",
   "execution_count": 55,
   "id": "0bd21a8c-c7e0-4fdf-b930-a273695ff882",
   "metadata": {},
   "outputs": [
    {
     "data": {
      "text/plain": [
       "<AxesSubplot:xlabel='model'>"
      ]
     },
     "execution_count": 55,
     "metadata": {},
     "output_type": "execute_result"
    },
    {
     "data": {
      "image/png": "[encoded data removed]",
      "text/plain": [
       "<Figure size 432x288 with 1 Axes>"
      ]
     },
     "metadata": {
      "needs_background": "light"
     },
     "output_type": "display_data"
    }
   ],
   "source": [
    "df2.plot(x=\"model\",rot=90)"
   ]
  }
 ],
 "metadata": {
  "kernelspec": {
   "display_name": "Python 3 (ipykernel)",
   "language": "python",
   "name": "python3"
  },
  "language_info": {
   "codemirror_mode": {
    "name": "ipython",
    "version": 3
   },
   "file_extension": ".py",
   "mimetype": "text/x-python",
   "name": "python",
   "nbconvert_exporter": "python",
   "pygments_lexer": "ipython3",
   "version": "3.9.7"
  }
 },
 "nbformat": 4,
 "nbformat_minor": 5
}
